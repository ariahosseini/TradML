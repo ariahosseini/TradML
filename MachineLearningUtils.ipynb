{
  "cells": [
    {
      "cell_type": "markdown",
      "metadata": {
        "id": "view-in-github",
        "colab_type": "text"
      },
      "source": [
        "<a href=\"https://colab.research.google.com/github/ariahosseini/TradML/blob/main/MachineLearningUtils.ipynb\" target=\"_parent\"><img src=\"https://colab.research.google.com/assets/colab-badge.svg\" alt=\"Open In Colab\"/></a>"
      ]
    },
    {
      "cell_type": "code",
      "execution_count": null,
      "metadata": {
        "id": "-JwbgLou68jw"
      },
      "outputs": [],
      "source": [
        "import os, sys, warnings, itertools\n",
        "import pandas as pd\n",
        "import numpy as np\n",
        "from scipy.stats import linregress\n",
        "import seaborn as sns\n",
        "import matplotlib.pyplot as plt\n",
        "from IPython.core.display import HTML"
      ]
    },
    {
      "cell_type": "code",
      "execution_count": null,
      "metadata": {
        "id": "azNb8Z-V68j0"
      },
      "outputs": [],
      "source": [
        "def summarize_columns(df):\n",
        "    num_rows = len(df)\n",
        "    summary = pd.DataFrame(df.dtypes, columns=[\"dtypes\"])\n",
        "    summary = summary.reset_index()\n",
        "    summary[\"col_name\"] = summary[\"index\"]\n",
        "    summary = summary[[\"col_name\", \"dtypes\"]]\n",
        "    summary[\"missing\"] = df.isnull().sum().values\n",
        "    summary[\"missing_percent\"] = summary[\"missing\"].apply(lambda x: round(x*100/num_rows, 1))\n",
        "    summary[\"uniques\"] = df.nunique().values\n",
        "    summary[\"first_value\"] = df.iloc[0].values\n",
        "    summary[\"second_value\"] = df.iloc[1].values\n",
        "    summary[\"third_value\"] = df.iloc[2].values\n",
        "    return summary"
      ]
    },
    {
      "cell_type": "code",
      "execution_count": null,
      "metadata": {
        "id": "t8gU_Ywa68j1"
      },
      "outputs": [],
      "source": [
        "def reduce_memory_usage(df, category = False):\n",
        "    start_mem = df.memory_usage().sum() / (1024**2)\n",
        "    print(\"Memory usage of dataframe is {:2f} MB!\".format(start_mem))\n",
        "    for col in df.columns:\n",
        "        col_type = df[col].dtype\n",
        "        if col_type != object:\n",
        "            c_min = df[col].min()\n",
        "            c_max = df[col].max()\n",
        "            if str(col_type)[:3] == \"int\":\n",
        "                if c_min > np.iinfo(np.int8).min and c_max < np.iinfo(np.int8).max:\n",
        "                    df[col] = df[col].astype(np.int8)\n",
        "                elif c_min > np.iinfo(np.int16).min and c_max < np.iinfo(np.int16).max:\n",
        "                    df[col] = df[col].astype(np.int16)\n",
        "                elif c_min > np.iinfo(np.int32).min and c_max < np.iinfo(np.int32).max:\n",
        "                    df[col] = df[col].astype(np.int32)\n",
        "                elif c_min > np.iinfo(np.int64).min and c_max < np.iinfo(np.int64).max:\n",
        "                    df[col] = df[col].astype(np.int64)\n",
        "            else:\n",
        "                if c_min > np.finfo(np.float16).min and c_max < np.finfo(np.float16).max:\n",
        "                    df[col] = df[col].astype(np.float16)\n",
        "                elif c_min > np.finfo(np.float32).min and c_max < np.finfo(np.float32).max:\n",
        "                    df[col] = df[col].astype(np.float32)\n",
        "                else:\n",
        "                    df[col] = df[col].astype(np.float64)\n",
        "        else:\n",
        "            if category:\n",
        "                df[col] = df[col].astype(\"category\")\n",
        "    end_mem = df.memory_usage().sum() / (1024**2)\n",
        "    print(\"Memory usage after optimization is {:2f} MB!\".format(end_mem))\n",
        "    print(\"Decreased by {:.1f}%\".format(100 * (start_mem-end_mem) / start_mem))"
      ]
    },
    {
      "cell_type": "code",
      "execution_count": null,
      "metadata": {
        "id": "RTawhkj368j2"
      },
      "outputs": [],
      "source": [
        "def display_df(df, message = \" \"):\n",
        "    print(\"Dataframe: {}\".format(message))\n",
        "    num_rows = len(df)\n",
        "    num_cols = len(df.columns)\n",
        "    print(\"num_rows = {:,} \\nnum_cols = {:,}\".format(num_rows, num_cols))\n",
        "    display(df.head())\n",
        "    print(\"Info:\")\n",
        "    print(df.info())\n",
        "    df_null = df.isnull().sum()\n",
        "    if len(df_null)==0:\n",
        "        print(\"Number of null data points:\",df_null[df_null!=0])\n",
        "    else:\n",
        "        print(\"Number of null data points:\")\n",
        "        print(df_null[df_null!=0])"
      ]
    },
    {
      "cell_type": "code",
      "execution_count": null,
      "metadata": {
        "id": "qXOcY8iz68j3"
      },
      "outputs": [],
      "source": [
        "def plot_varibles(df, vars_to_plot, cts_vars, num_cols=2, hist_num_bins=20):\n",
        "    num_rows = (len(vars_to_plot) // num_cols)\n",
        "    if (len(vars_to_plot) % num_cols) != 0:\n",
        "        num_rows += 1\n",
        "    fig_size_with_subplots = (num_cols*5, num_rows*5)\n",
        "    fig = plt.figure(figsize=fig_size_with_subplots)\n",
        "    fig_dims = (num_rows, num_cols)\n",
        "    row, col = 0, 0\n",
        "    for var in vars_to_plot:\n",
        "        plt.subplot2grid(fig_dims, (row, col))\n",
        "        if var in cts_vars:\n",
        "            df[var].hist(bins=int(hist_num_bins), xrot=45)\n",
        "            plt.title(\"{} Histogram\".format(var))\n",
        "        else:\n",
        "            df[var].value_counts().plot(kind=\"bar\", title=\"{} Counts\".format(var))\n",
        "        col += 1\n",
        "        if col % num_cols == 0:\n",
        "            row += 1\n",
        "            col = 0"
      ]
    },
    {
      "cell_type": "code",
      "execution_count": null,
      "metadata": {
        "id": "HoYoUjry68j4"
      },
      "outputs": [],
      "source": [
        "def plot_regs(df, cts_vars, response, num_cols=3, dot_size=10, line_width=3):\n",
        "    num_rows = (len(cts_vars) // num_cols)\n",
        "    if (len(cts_vars) % num_cols) != 0:\n",
        "        num_rows += 1\n",
        "    fig_size_with_subplots = (num_cols*5, num_rows*5)\n",
        "    fig = plt.figure(figsize=fig_size_with_subplots)\n",
        "    fig, ax = plt.subplots(num_rows, num_cols, figsize=fig_size_with_subplots)\n",
        "    row, col = 0, 0\n",
        "    for var in cts_vars:\n",
        "        slope, intercept, r_value, p_value, std_error = linregress(df[var], df[response])\n",
        "        sns.regplot(x=df[var], y=df[response], ax=ax[row, col],\n",
        "                   scatter_kws={\"s\": dot_size},\n",
        "                   line_kws={\"linewidth\": line_width},\n",
        "                   label=\"y={0:.1f}x+{1:.1f}\".format(slope, intercept)).legend(loc=\"best\")\n",
        "        col += 1\n",
        "        if col % num_cols == 0:\n",
        "            row += 1\n",
        "            col = 0\n",
        "#     fig.suptitle(\"Regression Scatter Plots for {}\".format(response), fontsize=16)\n",
        "    fig.subplots_adjust(top=0.95)\n",
        "    plt.tight_layout()\n",
        "    plt.show()"
      ]
    },
    {
      "cell_type": "code",
      "execution_count": null,
      "metadata": {
        "id": "kzlO1N2y68j4"
      },
      "outputs": [],
      "source": [
        "@staticmethod\n",
        "def display_side_by_side(dfs: list, captions: list, table_spacing=5):\n",
        "    output = \"\"\n",
        "    for (caption, df) in zip(captions, dfs):\n",
        "        output += df.style.set_table_attributes(\"style='display:inline'\").set_caption(caption)._repr_html_()\n",
        "        output += table_spacing * \"\\xa0\"\n",
        "    display(HTML(output))"
      ]
    },
    {
      "cell_type": "code",
      "execution_count": null,
      "metadata": {
        "id": "S2Xp0ZIm68j5"
      },
      "outputs": [],
      "source": [
        "def one_hot_encode(df, ohe, var_list, drop_original=True):\n",
        "    temp_df = pd.DataFrame(data=ohe.transform(df[var_list]), columns=ohe.get_feature_names_out())\n",
        "    df = pd.concat([df.reset_index(drop=True), temp_df], axis=1)\n",
        "    if drop_original:\n",
        "        df.drop(columns=var_list, axis=1, inplace=True)\n",
        "    return df"
      ]
    },
    {
      "cell_type": "code",
      "execution_count": null,
      "metadata": {
        "id": "SwawY1Ai68j6"
      },
      "outputs": [],
      "source": [
        "def plot_conf_matrix(cm, classes, normalize=False, title=\"Confusion matrix\", cmap=plt.cm.Blues):\n",
        "    plt.imshow(cm, interpolation=\"nearest\", cmap=cmap)\n",
        "    plt.title(title)\n",
        "    plt.colorbar()\n",
        "    tick_marks = np.arange(len(classes))\n",
        "    plt.xticks(tick_marks, classes, rotation=45)\n",
        "    plt.yticks(tick_marks, classes)\n",
        "\n",
        "    if normalize:\n",
        "        cm = cm.astype(\"float\")/ cm.sum(axis=1)[:, np.newaxis]\n",
        "        print(\"Normalized confusion matrix\")\n",
        "    else:\n",
        "        print(\"Confusion matrix no normalization\")\n",
        "    print(cm)\n",
        "    thresh = cm.max()/2.\n",
        "    for i, j in itertools.product(range(cm.shape[0]), range(cm.shape[1])):\n",
        "        plt.text(j, i, cm[i, j], horizontalalignment=\"center\", color=\"white\" if cm[i, j] > thresh else \"black\")\n",
        "    plt.tight_layout()\n",
        "    plt.ylabel(\"True label\")\n",
        "    plt.xlabel(\"Predicted label\")"
      ]
    }
  ],
  "metadata": {
    "kernelspec": {
      "display_name": "PyML",
      "language": "python",
      "name": "pyml"
    },
    "language_info": {
      "codemirror_mode": {
        "name": "ipython",
        "version": 3
      },
      "file_extension": ".py",
      "mimetype": "text/x-python",
      "name": "python",
      "nbconvert_exporter": "python",
      "pygments_lexer": "ipython3",
      "version": "3.11.4"
    },
    "colab": {
      "provenance": [],
      "include_colab_link": true
    }
  },
  "nbformat": 4,
  "nbformat_minor": 0
}