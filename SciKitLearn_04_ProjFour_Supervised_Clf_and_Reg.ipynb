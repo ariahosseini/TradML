{
  "cells": [
    {
      "cell_type": "markdown",
      "metadata": {
        "id": "view-in-github",
        "colab_type": "text"
      },
      "source": [
        "<a href=\"https://colab.research.google.com/github/ariahosseini/TradML/blob/main/SciKitLearn_04_ProjFour_Supervised_Clf_and_Reg.ipynb\" target=\"_parent\"><img src=\"https://colab.research.google.com/assets/colab-badge.svg\" alt=\"Open In Colab\"/></a>"
      ]
    },
    {
      "cell_type": "code",
      "execution_count": null,
      "metadata": {
        "id": "pyrXDFgDrPsY",
        "outputId": "631e0c47-40de-432e-a602-d125978958f3"
      },
      "outputs": [
        {
          "name": "stdout",
          "output_type": "stream",
          "text": [
            "3.11.4 (main, Jul  5 2023, 08:41:25) [Clang 14.0.6 ]\n",
            "Python 3.11.4\n",
            "numpy:  1.23.5\n",
            "sklearn:  1.2.2\n"
          ]
        }
      ],
      "source": [
        "import pandas as pd\n",
        "import numpy as np\n",
        "import matplotlib.pyplot as plt\n",
        "import seaborn as sns\n",
        "\n",
        "from sklearn import preprocessing\n",
        "from sklearn.model_selection import train_test_split\n",
        "from sklearn import metrics\n",
        "from sklearn import linear_model\n",
        "from scipy import stats\n",
        "from sklearn import svm\n",
        "\n",
        "import os\n",
        "\n",
        "import sys\n",
        "import sklearn\n",
        "print(sys.version)\n",
        "!python --version\n",
        "print(\"numpy: \", np.__version__)\n",
        "print(\"sklearn: \", sklearn.__version__)"
      ]
    },
    {
      "cell_type": "code",
      "execution_count": null,
      "metadata": {
        "id": "P1fSU55srPsg"
      },
      "outputs": [],
      "source": [
        "pd.set_option('display.max_rows', 2000)\n",
        "pd.set_option('display.max_columns', 2000)"
      ]
    },
    {
      "cell_type": "code",
      "execution_count": null,
      "metadata": {
        "id": "YOaaLr56rPsi"
      },
      "outputs": [],
      "source": [
        "path = './forest_fires/'"
      ]
    },
    {
      "cell_type": "code",
      "execution_count": null,
      "metadata": {
        "id": "HDn8vKnWrPsl",
        "outputId": "c0ad5ba8-9fd2-4987-872a-c3006de11773"
      },
      "outputs": [
        {
          "name": "stdout",
          "output_type": "stream",
          "text": [
            "(517, 13)\n"
          ]
        },
        {
          "data": {
            "text/html": [
              "<div>\n",
              "<style scoped>\n",
              "    .dataframe tbody tr th:only-of-type {\n",
              "        vertical-align: middle;\n",
              "    }\n",
              "\n",
              "    .dataframe tbody tr th {\n",
              "        vertical-align: top;\n",
              "    }\n",
              "\n",
              "    .dataframe thead th {\n",
              "        text-align: right;\n",
              "    }\n",
              "</style>\n",
              "<table border=\"1\" class=\"dataframe\">\n",
              "  <thead>\n",
              "    <tr style=\"text-align: right;\">\n",
              "      <th></th>\n",
              "      <th>X</th>\n",
              "      <th>Y</th>\n",
              "      <th>month</th>\n",
              "      <th>day</th>\n",
              "      <th>FFMC</th>\n",
              "      <th>DMC</th>\n",
              "      <th>DC</th>\n",
              "      <th>ISI</th>\n",
              "      <th>temp</th>\n",
              "      <th>RH</th>\n",
              "      <th>wind</th>\n",
              "      <th>rain</th>\n",
              "      <th>area</th>\n",
              "    </tr>\n",
              "  </thead>\n",
              "  <tbody>\n",
              "    <tr>\n",
              "      <th>0</th>\n",
              "      <td>7</td>\n",
              "      <td>5</td>\n",
              "      <td>mar</td>\n",
              "      <td>fri</td>\n",
              "      <td>86.2</td>\n",
              "      <td>26.2</td>\n",
              "      <td>94.3</td>\n",
              "      <td>5.1</td>\n",
              "      <td>8.2</td>\n",
              "      <td>51</td>\n",
              "      <td>6.7</td>\n",
              "      <td>0.0</td>\n",
              "      <td>0.0</td>\n",
              "    </tr>\n",
              "    <tr>\n",
              "      <th>1</th>\n",
              "      <td>7</td>\n",
              "      <td>4</td>\n",
              "      <td>oct</td>\n",
              "      <td>tue</td>\n",
              "      <td>90.6</td>\n",
              "      <td>35.4</td>\n",
              "      <td>669.1</td>\n",
              "      <td>6.7</td>\n",
              "      <td>18.0</td>\n",
              "      <td>33</td>\n",
              "      <td>0.9</td>\n",
              "      <td>0.0</td>\n",
              "      <td>0.0</td>\n",
              "    </tr>\n",
              "  </tbody>\n",
              "</table>\n",
              "</div>"
            ],
            "text/plain": [
              "   X  Y month  day  FFMC   DMC     DC  ISI  temp  RH  wind  rain  area\n",
              "0  7  5   mar  fri  86.2  26.2   94.3  5.1   8.2  51   6.7   0.0   0.0\n",
              "1  7  4   oct  tue  90.6  35.4  669.1  6.7  18.0  33   0.9   0.0   0.0"
            ]
          },
          "execution_count": 8,
          "metadata": {},
          "output_type": "execute_result"
        }
      ],
      "source": [
        "dfmain = pd.read_csv(path + 'forestfires.csv', header=0)\n",
        "print(dfmain.shape)\n",
        "dfmain.head(2)"
      ]
    },
    {
      "cell_type": "code",
      "execution_count": null,
      "metadata": {
        "id": "T_HQgxRHrPsl",
        "outputId": "675944df-5911-4d09-c5d1-e3ff35d46430"
      },
      "outputs": [
        {
          "name": "stdout",
          "output_type": "stream",
          "text": [
            "(517, 14)\n"
          ]
        },
        {
          "data": {
            "text/html": [
              "<div>\n",
              "<style scoped>\n",
              "    .dataframe tbody tr th:only-of-type {\n",
              "        vertical-align: middle;\n",
              "    }\n",
              "\n",
              "    .dataframe tbody tr th {\n",
              "        vertical-align: top;\n",
              "    }\n",
              "\n",
              "    .dataframe thead th {\n",
              "        text-align: right;\n",
              "    }\n",
              "</style>\n",
              "<table border=\"1\" class=\"dataframe\">\n",
              "  <thead>\n",
              "    <tr style=\"text-align: right;\">\n",
              "      <th></th>\n",
              "      <th>X</th>\n",
              "      <th>Y</th>\n",
              "      <th>month</th>\n",
              "      <th>day</th>\n",
              "      <th>FFMC</th>\n",
              "      <th>DMC</th>\n",
              "      <th>DC</th>\n",
              "      <th>ISI</th>\n",
              "      <th>temp</th>\n",
              "      <th>RH</th>\n",
              "      <th>wind</th>\n",
              "      <th>rain</th>\n",
              "      <th>area</th>\n",
              "      <th>fire_scale</th>\n",
              "    </tr>\n",
              "  </thead>\n",
              "  <tbody>\n",
              "    <tr>\n",
              "      <th>0</th>\n",
              "      <td>7</td>\n",
              "      <td>5</td>\n",
              "      <td>mar</td>\n",
              "      <td>fri</td>\n",
              "      <td>86.2</td>\n",
              "      <td>26.2</td>\n",
              "      <td>94.3</td>\n",
              "      <td>5.1</td>\n",
              "      <td>8.2</td>\n",
              "      <td>51</td>\n",
              "      <td>6.7</td>\n",
              "      <td>0.0</td>\n",
              "      <td>0.0</td>\n",
              "      <td>no_fire</td>\n",
              "    </tr>\n",
              "    <tr>\n",
              "      <th>1</th>\n",
              "      <td>7</td>\n",
              "      <td>4</td>\n",
              "      <td>oct</td>\n",
              "      <td>tue</td>\n",
              "      <td>90.6</td>\n",
              "      <td>35.4</td>\n",
              "      <td>669.1</td>\n",
              "      <td>6.7</td>\n",
              "      <td>18.0</td>\n",
              "      <td>33</td>\n",
              "      <td>0.9</td>\n",
              "      <td>0.0</td>\n",
              "      <td>0.0</td>\n",
              "      <td>no_fire</td>\n",
              "    </tr>\n",
              "  </tbody>\n",
              "</table>\n",
              "</div>"
            ],
            "text/plain": [
              "   X  Y month  day  FFMC   DMC     DC  ISI  temp  RH  wind  rain  area  \\\n",
              "0  7  5   mar  fri  86.2  26.2   94.3  5.1   8.2  51   6.7   0.0   0.0   \n",
              "1  7  4   oct  tue  90.6  35.4  669.1  6.7  18.0  33   0.9   0.0   0.0   \n",
              "\n",
              "  fire_scale  \n",
              "0    no_fire  \n",
              "1    no_fire  "
            ]
          },
          "execution_count": 9,
          "metadata": {},
          "output_type": "execute_result"
        }
      ],
      "source": [
        "dfmain['fire_scale'] = dfmain['area'].apply(lambda x: 'no_fire' if (x==0) else\n",
        "                                                      'small_fire' if ((x>0)&(x<2))else\n",
        "                                                      'large_fire'\n",
        "                                           )\n",
        "print(dfmain.shape)\n",
        "dfmain.head(2)"
      ]
    },
    {
      "cell_type": "code",
      "execution_count": null,
      "metadata": {
        "id": "xOHaDC9IrPsm",
        "outputId": "e089cbda-3f8a-43e0-9312-9fac2b33ec3f"
      },
      "outputs": [
        {
          "data": {
            "image/png": "[encoded data removed]",
            "text/plain": [
              "<Figure size 640x480 with 1 Axes>"
            ]
          },
          "metadata": {},
          "output_type": "display_data"
        }
      ],
      "source": [
        "plt.hist(dfmain[(dfmain['area']>0)&(dfmain['area']<20)].area, bins=50)\n",
        "\n",
        "plt.show()"
      ]
    },
    {
      "cell_type": "code",
      "execution_count": null,
      "metadata": {
        "id": "05rHbcqjrPsn",
        "outputId": "b436eab9-6944-4948-ebe4-9ea44fe72218"
      },
      "outputs": [
        {
          "data": {
            "image/png": "[encoded data removed]",
            "text/plain": [
              "<Figure size 640x480 with 1 Axes>"
            ]
          },
          "metadata": {},
          "output_type": "display_data"
        }
      ],
      "source": [
        "plt.hist(np.log(dfmain[(dfmain['area']>0)&(dfmain['area']<20)].area + 1), bins=50)\n",
        "\n",
        "plt.show()"
      ]
    },
    {
      "cell_type": "code",
      "execution_count": null,
      "metadata": {
        "id": "TpQNhDf3rPso",
        "outputId": "97dec93d-e540-4ec7-ad9b-0c587bcd4631"
      },
      "outputs": [
        {
          "data": {
            "text/plain": [
              "<BarContainer object of 12 artists>"
            ]
          },
          "execution_count": 12,
          "metadata": {},
          "output_type": "execute_result"
        },
        {
          "data": {
            "image/png": "[encoded data removed]",
            "text/plain": [
              "<Figure size 640x480 with 1 Axes>"
            ]
          },
          "metadata": {},
          "output_type": "display_data"
        }
      ],
      "source": [
        "t = dfmain.groupby(['month'])['month'].count()\n",
        "plt.bar(t.index, t)"
      ]
    },
    {
      "cell_type": "code",
      "execution_count": null,
      "metadata": {
        "id": "uNwfA3uLrPsp",
        "outputId": "9a983884-4fe2-4b12-979d-53ddcef6e66f"
      },
      "outputs": [
        {
          "data": {
            "text/plain": [
              "month  fire_scale\n",
              "apr    large_fire     4\n",
              "       no_fire        5\n",
              "aug    large_fire    71\n",
              "       no_fire       85\n",
              "       small_fire    28\n",
              "dec    large_fire     9\n",
              "feb    large_fire     9\n",
              "       no_fire       10\n",
              "       small_fire     1\n",
              "jan    no_fire        2\n",
              "jul    large_fire    12\n",
              "       no_fire       14\n",
              "       small_fire     6\n",
              "jun    large_fire     5\n",
              "       no_fire        9\n",
              "       small_fire     3\n",
              "mar    large_fire    16\n",
              "       no_fire       35\n",
              "       small_fire     3\n",
              "may    large_fire     1\n",
              "       no_fire        1\n",
              "nov    no_fire        1\n",
              "oct    large_fire     5\n",
              "       no_fire       10\n",
              "sep    large_fire    76\n",
              "       no_fire       75\n",
              "       small_fire    21\n",
              "Name: fire_scale, dtype: int64"
            ]
          },
          "execution_count": 13,
          "metadata": {},
          "output_type": "execute_result"
        }
      ],
      "source": [
        "dfmain.groupby(['month', 'fire_scale'])['fire_scale'].count()"
      ]
    },
    {
      "cell_type": "code",
      "execution_count": null,
      "metadata": {
        "id": "yIG7JZHgrPsr",
        "outputId": "9c9d56fb-1030-4b87-ea81-34b61a1486e2"
      },
      "outputs": [
        {
          "data": {
            "text/plain": [
              "<BarContainer object of 7 artists>"
            ]
          },
          "execution_count": 14,
          "metadata": {},
          "output_type": "execute_result"
        },
        {
          "data": {
            "image/png": "[encoded data removed]",
            "text/plain": [
              "<Figure size 640x480 with 1 Axes>"
            ]
          },
          "metadata": {},
          "output_type": "display_data"
        }
      ],
      "source": [
        "t = dfmain.groupby(['day'])['day'].count()\n",
        "plt.bar(t.index, t)"
      ]
    },
    {
      "cell_type": "code",
      "execution_count": null,
      "metadata": {
        "id": "5TymR7M6rPss",
        "outputId": "5d5437e4-e442-4bf4-acc5-d7c5539f1e4c"
      },
      "outputs": [
        {
          "name": "stdout",
          "output_type": "stream",
          "text": [
            "(270, 14)\n",
            "(2670, 14)\n"
          ]
        }
      ],
      "source": [
        "d = dfmain[dfmain['area']>0].copy()\n",
        "print(d.shape)\n",
        "for m in d['month'].unique():\n",
        "    if((m!='aug')&(m!='sep')):\n",
        "        temp = d[d['month']==m].sample(300, replace=True)\n",
        "        d = pd.concat([d, temp], axis=0)\n",
        "\n",
        "print(d.shape)"
      ]
    },
    {
      "cell_type": "code",
      "execution_count": null,
      "metadata": {
        "id": "wLJcgSdcrPst",
        "outputId": "2a1d9659-1b70-407a-a01a-93b04a403900"
      },
      "outputs": [
        {
          "data": {
            "text/plain": [
              "<BarContainer object of 10 artists>"
            ]
          },
          "execution_count": 17,
          "metadata": {},
          "output_type": "execute_result"
        },
        {
          "data": {
            "image/png": "[encoded data removed]",
            "text/plain": [
              "<Figure size 640x480 with 1 Axes>"
            ]
          },
          "metadata": {},
          "output_type": "display_data"
        }
      ],
      "source": [
        "t = d.groupby(['month'])['month'].count()\n",
        "plt.bar(t.index, t)"
      ]
    },
    {
      "cell_type": "code",
      "execution_count": null,
      "metadata": {
        "id": "sJkWWFLarPst"
      },
      "outputs": [],
      "source": [
        "X = d.drop(['area', 'fire_scale'], axis=1)\n",
        "y = d['area']"
      ]
    },
    {
      "cell_type": "code",
      "execution_count": null,
      "metadata": {
        "id": "GJkAZxrrrPsu",
        "outputId": "918db754-1fe8-404f-c9e5-d47f5c49407b"
      },
      "outputs": [
        {
          "data": {
            "text/html": [
              "<div>\n",
              "<style scoped>\n",
              "    .dataframe tbody tr th:only-of-type {\n",
              "        vertical-align: middle;\n",
              "    }\n",
              "\n",
              "    .dataframe tbody tr th {\n",
              "        vertical-align: top;\n",
              "    }\n",
              "\n",
              "    .dataframe thead th {\n",
              "        text-align: right;\n",
              "    }\n",
              "</style>\n",
              "<table border=\"1\" class=\"dataframe\">\n",
              "  <thead>\n",
              "    <tr style=\"text-align: right;\">\n",
              "      <th></th>\n",
              "      <th>X</th>\n",
              "      <th>Y</th>\n",
              "      <th>FFMC</th>\n",
              "      <th>DMC</th>\n",
              "      <th>DC</th>\n",
              "      <th>ISI</th>\n",
              "      <th>temp</th>\n",
              "      <th>RH</th>\n",
              "      <th>wind</th>\n",
              "      <th>rain</th>\n",
              "      <th>month_apr</th>\n",
              "      <th>month_aug</th>\n",
              "      <th>month_dec</th>\n",
              "      <th>month_feb</th>\n",
              "      <th>month_jul</th>\n",
              "      <th>month_jun</th>\n",
              "      <th>month_mar</th>\n",
              "      <th>month_may</th>\n",
              "      <th>month_oct</th>\n",
              "      <th>month_sep</th>\n",
              "      <th>day_fri</th>\n",
              "      <th>day_mon</th>\n",
              "      <th>day_sat</th>\n",
              "      <th>day_sun</th>\n",
              "      <th>day_thu</th>\n",
              "      <th>day_tue</th>\n",
              "      <th>day_wed</th>\n",
              "    </tr>\n",
              "  </thead>\n",
              "  <tbody>\n",
              "    <tr>\n",
              "      <th>138</th>\n",
              "      <td>9</td>\n",
              "      <td>9</td>\n",
              "      <td>85.8</td>\n",
              "      <td>48.3</td>\n",
              "      <td>313.4</td>\n",
              "      <td>3.9</td>\n",
              "      <td>18.0</td>\n",
              "      <td>42</td>\n",
              "      <td>2.7</td>\n",
              "      <td>0.0</td>\n",
              "      <td>0</td>\n",
              "      <td>0</td>\n",
              "      <td>0</td>\n",
              "      <td>0</td>\n",
              "      <td>1</td>\n",
              "      <td>0</td>\n",
              "      <td>0</td>\n",
              "      <td>0</td>\n",
              "      <td>0</td>\n",
              "      <td>0</td>\n",
              "      <td>0</td>\n",
              "      <td>0</td>\n",
              "      <td>0</td>\n",
              "      <td>0</td>\n",
              "      <td>0</td>\n",
              "      <td>1</td>\n",
              "      <td>0</td>\n",
              "    </tr>\n",
              "    <tr>\n",
              "      <th>139</th>\n",
              "      <td>1</td>\n",
              "      <td>4</td>\n",
              "      <td>91.0</td>\n",
              "      <td>129.5</td>\n",
              "      <td>692.6</td>\n",
              "      <td>7.0</td>\n",
              "      <td>21.7</td>\n",
              "      <td>38</td>\n",
              "      <td>2.2</td>\n",
              "      <td>0.0</td>\n",
              "      <td>0</td>\n",
              "      <td>0</td>\n",
              "      <td>0</td>\n",
              "      <td>0</td>\n",
              "      <td>0</td>\n",
              "      <td>0</td>\n",
              "      <td>0</td>\n",
              "      <td>0</td>\n",
              "      <td>0</td>\n",
              "      <td>1</td>\n",
              "      <td>0</td>\n",
              "      <td>0</td>\n",
              "      <td>0</td>\n",
              "      <td>0</td>\n",
              "      <td>0</td>\n",
              "      <td>1</td>\n",
              "      <td>0</td>\n",
              "    </tr>\n",
              "  </tbody>\n",
              "</table>\n",
              "</div>"
            ],
            "text/plain": [
              "     X  Y  FFMC    DMC     DC  ISI  temp  RH  wind  rain  month_apr  \\\n",
              "138  9  9  85.8   48.3  313.4  3.9  18.0  42   2.7   0.0          0   \n",
              "139  1  4  91.0  129.5  692.6  7.0  21.7  38   2.2   0.0          0   \n",
              "\n",
              "     month_aug  month_dec  month_feb  month_jul  month_jun  month_mar  \\\n",
              "138          0          0          0          1          0          0   \n",
              "139          0          0          0          0          0          0   \n",
              "\n",
              "     month_may  month_oct  month_sep  day_fri  day_mon  day_sat  day_sun  \\\n",
              "138          0          0          0        0        0        0        0   \n",
              "139          0          0          1        0        0        0        0   \n",
              "\n",
              "     day_thu  day_tue  day_wed  \n",
              "138        0        1        0  \n",
              "139        0        1        0  "
            ]
          },
          "execution_count": 19,
          "metadata": {},
          "output_type": "execute_result"
        }
      ],
      "source": [
        "X = pd.get_dummies(X, ['month', 'day'])\n",
        "X.head(2)"
      ]
    },
    {
      "cell_type": "code",
      "execution_count": null,
      "metadata": {
        "id": "FVvWF8FVrPsu"
      },
      "outputs": [],
      "source": [
        "x_cols_for_scaling = ['X', 'Y', 'FFMC', 'DMC', 'DC', 'ISI', 'temp', 'RH', 'wind', 'rain']"
      ]
    },
    {
      "cell_type": "code",
      "execution_count": null,
      "metadata": {
        "id": "CmuelhY-rPsu",
        "outputId": "73af75dd-6c0f-41db-f318-2d5c54ecd0e4"
      },
      "outputs": [
        {
          "name": "stdout",
          "output_type": "stream",
          "text": [
            "(2002, 27) (668, 27)\n"
          ]
        }
      ],
      "source": [
        "x_train, x_test, y_train, y_test = train_test_split(X, np.log(y+1), shuffle=True)\n",
        "print(x_train.shape, x_test.shape)"
      ]
    },
    {
      "cell_type": "code",
      "execution_count": null,
      "metadata": {
        "id": "T9rLGdXprPsv"
      },
      "outputs": [],
      "source": [
        "x_train_orig = x_train.loc[:, x_cols_for_scaling]\n",
        "x_train_cat = x_train.drop(x_cols_for_scaling, axis=1)\n",
        "\n",
        "x_test_orig = x_test.loc[:, x_train_orig.columns]\n",
        "x_test_cat = x_test.loc[:, x_train_cat.columns]"
      ]
    },
    {
      "cell_type": "code",
      "execution_count": null,
      "metadata": {
        "id": "5OiVlfGBrPsv",
        "outputId": "242d148e-abef-4c5c-8492-122a26fa0f50"
      },
      "outputs": [
        {
          "name": "stdout",
          "output_type": "stream",
          "text": [
            "(2002, 27) (668, 27)\n"
          ]
        }
      ],
      "source": [
        "scl=preprocessing.StandardScaler()\n",
        "scl.fit(x_train_orig)\n",
        "\n",
        "x_train_orig = scl.transform(x_train_orig)\n",
        "x_test_orig = scl.transform(x_test_orig)\n",
        "\n",
        "# Combine\n",
        "x_train = np.concatenate([x_train_orig, np.array(x_train_cat)], axis=1)\n",
        "x_test = np.concatenate([x_test_orig, np.array(x_test_cat)], axis=1)\n",
        "\n",
        "print(x_train.shape, x_test.shape)"
      ]
    },
    {
      "cell_type": "code",
      "execution_count": null,
      "metadata": {
        "id": "uzhEcc7DrPsv",
        "outputId": "d36998d0-cdb5-4a2d-f2cf-b811979b1257"
      },
      "outputs": [
        {
          "name": "stdout",
          "output_type": "stream",
          "text": [
            "mse:  0.6204\n",
            "mae:  0.545\n",
            "r2:  0.4441\n"
          ]
        },
        {
          "data": {
            "text/plain": [
              "Text(0, 0.5, 'y_pred')"
            ]
          },
          "execution_count": 24,
          "metadata": {},
          "output_type": "execute_result"
        },
        {
          "data": {
            "image/png": "[encoded data removed]",
            "text/plain": [
              "<Figure size 640x480 with 1 Axes>"
            ]
          },
          "metadata": {},
          "output_type": "display_data"
        }
      ],
      "source": [
        "reg = linear_model.LinearRegression()\n",
        "reg.fit(x_train, y_train)\n",
        "\n",
        "# Predict\n",
        "y_pred = reg.predict(x_test)\n",
        "\n",
        "# Score\n",
        "mse = metrics.mean_squared_error(y_test, y_pred)\n",
        "print('mse: ', np.round(mse, 4))\n",
        "\n",
        "mae = metrics.mean_absolute_error(y_test, y_pred)\n",
        "print('mae: ', np.round(mae, 4))\n",
        "\n",
        "r2 = metrics.r2_score(y_test, y_pred)\n",
        "print('r2: ', np.round(r2, 4))\n",
        "\n",
        "\n",
        "# Plot\n",
        "plt.scatter(y_test, y_pred, alpha=0.5)\n",
        "plt.xlabel('y_test')\n",
        "plt.ylabel('y_pred')"
      ]
    },
    {
      "cell_type": "code",
      "execution_count": null,
      "metadata": {
        "id": "Ht_ysWazrPsw",
        "outputId": "ba2c1e63-c71d-48fa-d565-141783f09cbe"
      },
      "outputs": [
        {
          "name": "stdout",
          "output_type": "stream",
          "text": [
            "mse:  0.3422\n",
            "mae:  0.3178\n",
            "r2:  0.6934\n"
          ]
        },
        {
          "data": {
            "text/plain": [
              "Text(0, 0.5, 'y_pred')"
            ]
          },
          "execution_count": 26,
          "metadata": {},
          "output_type": "execute_result"
        },
        {
          "data": {
            "image/png": "[encoded data removed]",
            "text/plain": [
              "<Figure size 640x480 with 1 Axes>"
            ]
          },
          "metadata": {},
          "output_type": "display_data"
        }
      ],
      "source": [
        "reg = svm.SVR(C=1, kernel='rbf', gamma='auto', max_iter=int(5e4), cache_size=1000)\n",
        "reg.fit(x_train, y_train)\n",
        "\n",
        "# Predict\n",
        "y_pred = reg.predict(x_test)\n",
        "\n",
        "# Score\n",
        "mse = metrics.mean_squared_error(y_test, y_pred)\n",
        "print('mse: ', np.round(mse, 4))\n",
        "\n",
        "mae = metrics.mean_absolute_error(y_test, y_pred)\n",
        "print('mae: ', np.round(mae, 4))\n",
        "\n",
        "r2 = metrics.r2_score(y_test, y_pred)\n",
        "print('r2: ', np.round(r2, 4))\n",
        "\n",
        "\n",
        "# Plot\n",
        "plt.scatter(y_test, y_pred, alpha=0.5)\n",
        "plt.xlabel('y_test')\n",
        "plt.ylabel('y_pred')"
      ]
    },
    {
      "cell_type": "code",
      "execution_count": null,
      "metadata": {
        "id": "UQMCgodorPsx"
      },
      "outputs": [],
      "source": [
        "dfc = dfmain.copy()"
      ]
    },
    {
      "cell_type": "code",
      "execution_count": null,
      "metadata": {
        "id": "RF21ueHWrPsy",
        "outputId": "b2ce5a08-e31d-4920-ca0c-031057ca67b7"
      },
      "outputs": [
        {
          "data": {
            "text/plain": [
              "no_fire       247\n",
              "large_fire    208\n",
              "small_fire     62\n",
              "Name: fire_scale, dtype: int64"
            ]
          },
          "execution_count": 28,
          "metadata": {},
          "output_type": "execute_result"
        }
      ],
      "source": [
        "dfc.fire_scale.value_counts()"
      ]
    },
    {
      "cell_type": "code",
      "execution_count": null,
      "metadata": {
        "id": "iNtXYOLOrPsy",
        "outputId": "f2f1cff0-4b46-4b1a-963a-9c924001264a"
      },
      "outputs": [
        {
          "name": "stdout",
          "output_type": "stream",
          "text": [
            "(517, 14)\n",
            "(3517, 14)\n"
          ]
        }
      ],
      "source": [
        "print(dfc.shape)\n",
        "for m in dfc['month'].unique():\n",
        "    if((m!='aug')&(m!='sep')):\n",
        "        temp = dfc[dfc['month']==m].sample(300, replace=True)\n",
        "        dfc = pd.concat([dfc, temp], axis=0)\n",
        "\n",
        "print(dfc.shape)"
      ]
    },
    {
      "cell_type": "code",
      "execution_count": null,
      "metadata": {
        "id": "MHAHfAMxrPsz"
      },
      "outputs": [],
      "source": [
        "Xc = dfc.drop(['area', 'fire_scale'], axis=1)\n",
        "yc = dfc['fire_scale']"
      ]
    },
    {
      "cell_type": "code",
      "execution_count": null,
      "metadata": {
        "id": "AFatm0TYrPs1",
        "outputId": "5bb9b062-f577-4083-ee7b-d18851d1f486"
      },
      "outputs": [
        {
          "data": {
            "text/html": [
              "<div>\n",
              "<style scoped>\n",
              "    .dataframe tbody tr th:only-of-type {\n",
              "        vertical-align: middle;\n",
              "    }\n",
              "\n",
              "    .dataframe tbody tr th {\n",
              "        vertical-align: top;\n",
              "    }\n",
              "\n",
              "    .dataframe thead th {\n",
              "        text-align: right;\n",
              "    }\n",
              "</style>\n",
              "<table border=\"1\" class=\"dataframe\">\n",
              "  <thead>\n",
              "    <tr style=\"text-align: right;\">\n",
              "      <th></th>\n",
              "      <th>X</th>\n",
              "      <th>Y</th>\n",
              "      <th>FFMC</th>\n",
              "      <th>DMC</th>\n",
              "      <th>DC</th>\n",
              "      <th>ISI</th>\n",
              "      <th>temp</th>\n",
              "      <th>RH</th>\n",
              "      <th>wind</th>\n",
              "      <th>rain</th>\n",
              "      <th>month_apr</th>\n",
              "      <th>month_aug</th>\n",
              "      <th>month_dec</th>\n",
              "      <th>month_feb</th>\n",
              "      <th>month_jan</th>\n",
              "      <th>month_jul</th>\n",
              "      <th>month_jun</th>\n",
              "      <th>month_mar</th>\n",
              "      <th>month_may</th>\n",
              "      <th>month_nov</th>\n",
              "      <th>month_oct</th>\n",
              "      <th>month_sep</th>\n",
              "      <th>day_fri</th>\n",
              "      <th>day_mon</th>\n",
              "      <th>day_sat</th>\n",
              "      <th>day_sun</th>\n",
              "      <th>day_thu</th>\n",
              "      <th>day_tue</th>\n",
              "      <th>day_wed</th>\n",
              "    </tr>\n",
              "  </thead>\n",
              "  <tbody>\n",
              "    <tr>\n",
              "      <th>0</th>\n",
              "      <td>7</td>\n",
              "      <td>5</td>\n",
              "      <td>86.2</td>\n",
              "      <td>26.2</td>\n",
              "      <td>94.3</td>\n",
              "      <td>5.1</td>\n",
              "      <td>8.2</td>\n",
              "      <td>51</td>\n",
              "      <td>6.7</td>\n",
              "      <td>0.0</td>\n",
              "      <td>0</td>\n",
              "      <td>0</td>\n",
              "      <td>0</td>\n",
              "      <td>0</td>\n",
              "      <td>0</td>\n",
              "      <td>0</td>\n",
              "      <td>0</td>\n",
              "      <td>1</td>\n",
              "      <td>0</td>\n",
              "      <td>0</td>\n",
              "      <td>0</td>\n",
              "      <td>0</td>\n",
              "      <td>1</td>\n",
              "      <td>0</td>\n",
              "      <td>0</td>\n",
              "      <td>0</td>\n",
              "      <td>0</td>\n",
              "      <td>0</td>\n",
              "      <td>0</td>\n",
              "    </tr>\n",
              "    <tr>\n",
              "      <th>1</th>\n",
              "      <td>7</td>\n",
              "      <td>4</td>\n",
              "      <td>90.6</td>\n",
              "      <td>35.4</td>\n",
              "      <td>669.1</td>\n",
              "      <td>6.7</td>\n",
              "      <td>18.0</td>\n",
              "      <td>33</td>\n",
              "      <td>0.9</td>\n",
              "      <td>0.0</td>\n",
              "      <td>0</td>\n",
              "      <td>0</td>\n",
              "      <td>0</td>\n",
              "      <td>0</td>\n",
              "      <td>0</td>\n",
              "      <td>0</td>\n",
              "      <td>0</td>\n",
              "      <td>0</td>\n",
              "      <td>0</td>\n",
              "      <td>0</td>\n",
              "      <td>1</td>\n",
              "      <td>0</td>\n",
              "      <td>0</td>\n",
              "      <td>0</td>\n",
              "      <td>0</td>\n",
              "      <td>0</td>\n",
              "      <td>0</td>\n",
              "      <td>1</td>\n",
              "      <td>0</td>\n",
              "    </tr>\n",
              "  </tbody>\n",
              "</table>\n",
              "</div>"
            ],
            "text/plain": [
              "   X  Y  FFMC   DMC     DC  ISI  temp  RH  wind  rain  month_apr  month_aug  \\\n",
              "0  7  5  86.2  26.2   94.3  5.1   8.2  51   6.7   0.0          0          0   \n",
              "1  7  4  90.6  35.4  669.1  6.7  18.0  33   0.9   0.0          0          0   \n",
              "\n",
              "   month_dec  month_feb  month_jan  month_jul  month_jun  month_mar  \\\n",
              "0          0          0          0          0          0          1   \n",
              "1          0          0          0          0          0          0   \n",
              "\n",
              "   month_may  month_nov  month_oct  month_sep  day_fri  day_mon  day_sat  \\\n",
              "0          0          0          0          0        1        0        0   \n",
              "1          0          0          1          0        0        0        0   \n",
              "\n",
              "   day_sun  day_thu  day_tue  day_wed  \n",
              "0        0        0        0        0  \n",
              "1        0        0        1        0  "
            ]
          },
          "execution_count": 31,
          "metadata": {},
          "output_type": "execute_result"
        }
      ],
      "source": [
        "Xc = pd.get_dummies(Xc, ['month', 'day'])\n",
        "Xc.head(2)"
      ]
    },
    {
      "cell_type": "code",
      "execution_count": null,
      "metadata": {
        "id": "9Bh3ue_arPs1",
        "outputId": "5b5bbe72-98b2-4c4a-83ab-d069b8faa24b"
      },
      "outputs": [
        {
          "name": "stdout",
          "output_type": "stream",
          "text": [
            "(3517, 29)\n",
            "(3517, 29)\n"
          ]
        }
      ],
      "source": [
        "print(Xc.shape)\n",
        "Xc = Xc[Xc.columns[(Xc.var(axis=0)>0).values]]\n",
        "print(Xc.shape)"
      ]
    },
    {
      "cell_type": "code",
      "execution_count": null,
      "metadata": {
        "id": "CexsMZKvrPs1",
        "outputId": "1681a1e7-cb85-4012-eb5f-ad806f81ca94"
      },
      "outputs": [
        {
          "name": "stdout",
          "output_type": "stream",
          "text": [
            "(3517, 29)\n",
            "(3517, 29)\n"
          ]
        },
        {
          "name": "stderr",
          "output_type": "stream",
          "text": [
            "/var/folders/nj/n73jpv6n6n38xcx5bdfnlflh0000gn/T/ipykernel_81126/853203239.py:4: DeprecationWarning: `np.bool` is a deprecated alias for the builtin `bool`. To silence this warning, use `bool` by itself. Doing this will not modify any behavior and is safe. If you specifically wanted the numpy scalar type, use `np.bool_` here.\n",
            "Deprecated in NumPy 1.20; for more details and guidance: https://numpy.org/devdocs/release/1.20.0-notes.html#deprecations\n",
            "  x_upper = x_corr.where(np.triu(np.ones(x_corr.shape), k=1).astype(np.bool))\n"
          ]
        }
      ],
      "source": [
        "print(Xc.shape)\n",
        "x_corr = Xc.corr()**2\n",
        "\n",
        "x_upper = x_corr.where(np.triu(np.ones(x_corr.shape), k=1).astype(np.bool))\n",
        "\n",
        "# r2>0.7\n",
        "drop_col = [col for col in x_upper.columns if any(x_upper[col] > 0.70)]\n",
        "\n",
        "Xc = Xc.drop(drop_col, axis=1)\n",
        "print(Xc.shape)"
      ]
    },
    {
      "cell_type": "code",
      "execution_count": null,
      "metadata": {
        "id": "Y8R4XyAPrPs2",
        "outputId": "d3bcc522-3660-4e5b-bdc4-ee88e6f9ad53"
      },
      "outputs": [
        {
          "name": "stdout",
          "output_type": "stream",
          "text": [
            "(2637, 29) (880, 29)\n"
          ]
        }
      ],
      "source": [
        "x_train, x_test, y_train, y_test = train_test_split(Xc, yc,\n",
        "                                                    shuffle=True, stratify=yc)\n",
        "print(x_train.shape, x_test.shape)"
      ]
    },
    {
      "cell_type": "code",
      "execution_count": null,
      "metadata": {
        "id": "Xavg_17orPs2"
      },
      "outputs": [],
      "source": [
        "x_train_orig = x_train.loc[:, x_cols_for_scaling]\n",
        "x_train_cat = x_train.drop(x_cols_for_scaling, axis=1)\n",
        "\n",
        "x_test_orig = x_test.loc[:, x_train_orig.columns]\n",
        "x_test_cat = x_test.loc[:, x_train_cat.columns]"
      ]
    },
    {
      "cell_type": "code",
      "execution_count": null,
      "metadata": {
        "id": "A8kQ8g5zrPs2",
        "outputId": "9c7b5f3e-e482-4c00-f4f0-defd1d7ed70b"
      },
      "outputs": [
        {
          "name": "stdout",
          "output_type": "stream",
          "text": [
            "(2637, 29) (880, 29)\n"
          ]
        }
      ],
      "source": [
        "scl=preprocessing.StandardScaler()\n",
        "scl.fit(x_train_orig)\n",
        "\n",
        "x_train_orig = scl.transform(x_train_orig)\n",
        "x_test_orig = scl.transform(x_test_orig)\n",
        "\n",
        "x_train = np.concatenate([x_train_orig, np.array(x_train_cat)], axis=1)\n",
        "x_test = np.concatenate([x_test_orig, np.array(x_test_cat)], axis=1)\n",
        "\n",
        "print(x_train.shape, x_test.shape)"
      ]
    },
    {
      "cell_type": "code",
      "execution_count": null,
      "metadata": {
        "id": "uPLd15verPs2",
        "outputId": "a8b25192-8188-4127-81b4-e06bfd3fcee0"
      },
      "outputs": [
        {
          "name": "stdout",
          "output_type": "stream",
          "text": [
            "acu:  0.7614\n"
          ]
        },
        {
          "data": {
            "text/plain": [
              "array([[235,  99,   2],\n",
              "       [ 55, 430,   8],\n",
              "       [ 14,  32,   5]])"
            ]
          },
          "execution_count": 37,
          "metadata": {},
          "output_type": "execute_result"
        }
      ],
      "source": [
        "clf = linear_model.LogisticRegression(max_iter=int(1e7), penalty='elasticnet', solver='saga', l1_ratio=0.75)\n",
        "clf.fit(x_train, y_train)\n",
        "\n",
        "y_pred = clf.predict(x_test)\n",
        "\n",
        "acu = metrics.accuracy_score(y_test, y_pred)\n",
        "print(\"acu: \", np.round(acu, 4))\n",
        "\n",
        "cm = metrics.confusion_matrix(y_test, y_pred)\n",
        "cm"
      ]
    },
    {
      "cell_type": "code",
      "execution_count": null,
      "metadata": {
        "id": "bekL_LMarPs3",
        "outputId": "4e3e0ca1-f15b-45e4-e74f-32c39e6db11f"
      },
      "outputs": [
        {
          "name": "stdout",
          "output_type": "stream",
          "text": [
            "acu:  0.8409\n"
          ]
        },
        {
          "data": {
            "text/plain": [
              "array([[270,  66,   0],\n",
              "       [ 30, 463,   0],\n",
              "       [ 17,  27,   7]])"
            ]
          },
          "execution_count": 39,
          "metadata": {},
          "output_type": "execute_result"
        }
      ],
      "source": [
        "clf = svm.SVC(C=1, kernel='rbf', gamma='auto', max_iter=int(5e4), cache_size=1000)\n",
        "clf.fit(x_train, y_train)\n",
        "\n",
        "y_pred = clf.predict(x_test)\n",
        "\n",
        "acu = metrics.accuracy_score(y_test, y_pred)\n",
        "print(\"acu: \", np.round(acu, 4))\n",
        "\n",
        "cm = metrics.confusion_matrix(y_test, y_pred)\n",
        "cm"
      ]
    }
  ],
  "metadata": {
    "kernelspec": {
      "display_name": "PyML",
      "language": "python",
      "name": "pyml"
    },
    "language_info": {
      "codemirror_mode": {
        "name": "ipython",
        "version": 3
      },
      "file_extension": ".py",
      "mimetype": "text/x-python",
      "name": "python",
      "nbconvert_exporter": "python",
      "pygments_lexer": "ipython3",
      "version": "3.11.4"
    },
    "colab": {
      "provenance": [],
      "include_colab_link": true
    }
  },
  "nbformat": 4,
  "nbformat_minor": 0
}