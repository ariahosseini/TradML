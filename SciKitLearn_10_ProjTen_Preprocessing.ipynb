{
  "cells": [
    {
      "cell_type": "markdown",
      "metadata": {
        "id": "view-in-github",
        "colab_type": "text"
      },
      "source": [
        "<a href=\"https://colab.research.google.com/github/ariahosseini/TradML/blob/main/SciKitLearn_10_ProjTen_Preprocessing.ipynb\" target=\"_parent\"><img src=\"https://colab.research.google.com/assets/colab-badge.svg\" alt=\"Open In Colab\"/></a>"
      ]
    },
    {
      "cell_type": "code",
      "execution_count": null,
      "id": "d84b244d",
      "metadata": {
        "id": "d84b244d",
        "outputId": "dc6710c7-729e-41cf-eb75-700a2d4f59c6"
      },
      "outputs": [
        {
          "name": "stdout",
          "output_type": "stream",
          "text": [
            "/Applications/anaconda3/envs/PyML/bin/python\n",
            "3.11.4 (main, Jul  5 2023, 08:41:25) [Clang 14.0.6 ]\n",
            "/Users/ariahosseini/Desktop/Notebooks\n"
          ]
        }
      ],
      "source": [
        "# load packages\n",
        "\n",
        "## main packages\n",
        "\n",
        "import numpy as np\n",
        "from numpy.random import randn\n",
        "import pandas as pd\n",
        "\n",
        "## system level packages\n",
        "\n",
        "import os\n",
        "import sys\n",
        "\n",
        "## visualizing packages\n",
        "\n",
        "import seaborn as sns\n",
        "import matplotlib.pyplot as plt\n",
        "%matplotlib inline\n",
        "from IPython.core.interactiveshell import InteractiveShell\n",
        "InteractiveShell.ast_node_interactivity = \"all\"\n",
        "\n",
        "## sklearn sub modules\n",
        "\n",
        "from sklearn.model_selection import train_test_split\n",
        "from sklearn.feature_selection import mutual_info_regression, VarianceThreshold\n",
        "from sklearn.preprocessing import MinMaxScaler, OneHotEncoder\n",
        "import warnings\n",
        "warnings.filterwarnings('ignore')\n",
        "\n",
        "\n",
        "## check versions and directory\n",
        "\n",
        "print(sys.executable) # !which python\n",
        "print(sys.version) # python --version\n",
        "print(os.getcwd()) # !pwd\n",
        "# print(os.listdir())\n",
        "# !ls *xlsx"
      ]
    },
    {
      "cell_type": "code",
      "execution_count": null,
      "metadata": {
        "id": "5dEy-lvE2X8F",
        "outputId": "93e80fc1-d61f-4ba7-a662-b682bf059ce3"
      },
      "outputs": [
        {
          "name": "stdout",
          "output_type": "stream",
          "text": [
            "3.11.4 (main, Jul  5 2023, 08:41:25) [Clang 14.0.6 ]\n",
            "numpy:  1.23.5\n",
            "pandas:  1.5.3\n"
          ]
        }
      ],
      "source": [
        "import numpy as np\n",
        "import sys\n",
        "from sklearn import preprocessing\n",
        "from numpy.random import rand\n",
        "\n",
        "print(sys.version)\n",
        "print(\"numpy: \", np.__version__)\n",
        "print(\"pandas: \", pd.__version__)\n",
        "\n",
        "x = np.array([[10000, 7000, 15000, 40000], [1,5,3,4]])\n",
        "x = x.T\n",
        "x_std = preprocessing.scale(x) # x_std = (x - np.mean(x, axis = 0))/np.std(x, axis = 0)\n",
        "\n",
        "x_train = 5 * rand(10, 2) + 2 * rand(10, 2)\n",
        "x_test = 8 * rand(10, 2) + 3 * rand(10, 2)\n",
        "\n",
        "obj_scaler = preprocessing.StandardScaler().fit(x_train)\n",
        "x_train_std = obj_scaler.transform(x_train)\n",
        "x_test_std = obj_scaler.transform(x_test)"
      ],
      "id": "5dEy-lvE2X8F"
    },
    {
      "cell_type": "code",
      "execution_count": null,
      "metadata": {
        "id": "B2GdAC7T2X8G",
        "outputId": "03307d9c-a2a4-40c8-f860-0f09897f862c"
      },
      "outputs": [
        {
          "name": "stdout",
          "output_type": "stream",
          "text": [
            "3.11.4 (main, Jul  5 2023, 08:41:25) [Clang 14.0.6 ]\n",
            "numpy:  1.23.5\n"
          ]
        }
      ],
      "source": [
        "import numpy as np\n",
        "import sys\n",
        "from sklearn import preprocessing\n",
        "from numpy.random import rand\n",
        "\n",
        "print(sys.version)\n",
        "print(\"numpy: \", np.__version__)\n",
        "\n",
        "X_train = 5 * rand(10, 3) + 7 * rand(10, 3) + 2\n",
        "X_test = 3 * rand(10, 3) + 8 * rand(10, 3) + 1\n",
        "obj_scaler = preprocessing.MinMaxScaler().fit(X_train)\n",
        "X_train = obj_scaler.transform(X_train)\n",
        "X_test = obj_scaler.transform(X_test)"
      ],
      "id": "B2GdAC7T2X8G"
    },
    {
      "cell_type": "code",
      "execution_count": null,
      "metadata": {
        "id": "hXEscwG-2X8G",
        "outputId": "caa3cd8e-e232-4683-8d18-4c590d23e4a9"
      },
      "outputs": [
        {
          "name": "stdout",
          "output_type": "stream",
          "text": [
            "3.11.4 (main, Jul  5 2023, 08:41:25) [Clang 14.0.6 ]\n",
            "numpy:  1.23.5\n"
          ]
        }
      ],
      "source": [
        "import numpy as np\n",
        "import sys\n",
        "from sklearn import preprocessing\n",
        "from numpy.random import rand\n",
        "\n",
        "print(sys.version)\n",
        "print(\"numpy: \", np.__version__)\n",
        "\n",
        "X_train = 3 * rand(10, 4) + 6 * rand(10, 4) + 2\n",
        "X_test = 2 * rand(10, 4) + 5 * rand(10, 4) - 4\n",
        "obj_scaler = preprocessing.MaxAbsScaler().fit(X_train)\n",
        "X_train = obj_scaler.transform(X_train)\n",
        "X_test = obj_scaler.transform(X_test)"
      ],
      "id": "hXEscwG-2X8G"
    },
    {
      "cell_type": "code",
      "execution_count": null,
      "metadata": {
        "id": "blCP-MVm2X8H",
        "outputId": "0800801d-11a1-433a-f97a-c283461bd0cb"
      },
      "outputs": [
        {
          "name": "stdout",
          "output_type": "stream",
          "text": [
            "X_csr:\n",
            "  (0, 0)\t1\n",
            "  (0, 2)\t2\n",
            "  (1, 2)\t1\n",
            "  (2, 0)\t7\n",
            "X_csc:\n",
            "  (0, 0)\t1\n",
            "  (2, 0)\t7\n",
            "  (0, 2)\t2\n",
            "  (1, 2)\t1\n",
            "X_test:\n",
            "  (0, 0)\t-0.34211335081570676\n",
            "  (0, 1)\t-0.366694203223505\n",
            "  (0, 2)\t-0.2092537071579948\n",
            "  (1, 0)\t-0.2972557506404348\n",
            "  (1, 1)\t-0.4618449745084794\n",
            "  (1, 2)\t-0.8823022301866364\n"
          ]
        }
      ],
      "source": [
        "from scipy import sparse\n",
        "from sklearn import preprocessing\n",
        "from numpy.random import rand\n",
        "\n",
        "X = [[1, 0, 2], [0, 0, 1], [7, 0, 0]]\n",
        "X_csr = sparse.csr_matrix(X)\n",
        "X_csc = sparse.csc_matrix(X)\n",
        "\n",
        "print(\"X_csr:\")\n",
        "print(X_csr)\n",
        "print(\"X_csc:\")\n",
        "print(X_csc)\n",
        "\n",
        "Z = 2 * rand(2, 3) + 5 * rand(2, 3) - 4\n",
        "Z_csr = sparse.csr_matrix(Z)\n",
        "obj_scaler = preprocessing.StandardScaler(with_mean = False).fit(X_csr)\n",
        "X_train = obj_scaler.transform(X_csr)\n",
        "X_test = obj_scaler.transform(Z_csr)\n",
        "print(\"X_test:\")\n",
        "print(X_test)"
      ],
      "id": "blCP-MVm2X8H"
    },
    {
      "cell_type": "code",
      "execution_count": null,
      "metadata": {
        "id": "i7PqSwux2X8I",
        "outputId": "1d930aa9-4f88-4863-d544-a1133833a181"
      },
      "outputs": [
        {
          "data": {
            "text/plain": [
              "array([[-0.33, -0.01, -0.01],\n",
              "       [ 0.  ,  0.  ,  0.  ],\n",
              "       [ 1.67,  1.99,  1.99]])"
            ]
          },
          "execution_count": 267,
          "metadata": {},
          "output_type": "execute_result"
        }
      ],
      "source": [
        "import numpy as np\n",
        "from sklearn import preprocessing\n",
        "\n",
        "X = np.array([[1, 2, 3], [2, 5, 7], [7, 999, 990]])\n",
        "obj_scaler = preprocessing.RobustScaler().fit(X)\n",
        "X_train = obj_scaler.transform(X)\n",
        "X_train.round(2)"
      ],
      "id": "i7PqSwux2X8I"
    },
    {
      "cell_type": "code",
      "execution_count": null,
      "metadata": {
        "id": "W5HoGJfV2X8I",
        "outputId": "032d4e03-f40e-4959-8062-8d4d57c5ad4e"
      },
      "outputs": [
        {
          "data": {
            "text/plain": [
              "array([[ 0.78, -0.22, -0.56],\n",
              "       [-0.89,  0.11,  0.78],\n",
              "       [ 0.11,  0.11, -0.22]])"
            ]
          },
          "execution_count": 268,
          "metadata": {},
          "output_type": "execute_result"
        }
      ],
      "source": [
        "import numpy as np\n",
        "from sklearn import preprocessing\n",
        "\n",
        "X = np.array([[1, 2, 3], [2, 5, 7], [7, 9, 10]])\n",
        "obj_scaler = preprocessing.KernelCenterer().fit(X)\n",
        "X_train = obj_scaler.transform(X)\n",
        "X_train.round(2)"
      ],
      "id": "W5HoGJfV2X8I"
    },
    {
      "cell_type": "code",
      "execution_count": null,
      "metadata": {
        "id": "0T8bnFkU2X8J",
        "outputId": "0369d793-90d4-4a42-c11a-760560a32930"
      },
      "outputs": [
        {
          "name": "stdout",
          "output_type": "stream",
          "text": [
            "(100, 4) (100, 4) (100, 4) (100, 4)\n"
          ]
        },
        {
          "data": {
            "text/plain": [
              "<matplotlib.collections.PathCollection at 0x1252ab0d0>"
            ]
          },
          "execution_count": 269,
          "metadata": {},
          "output_type": "execute_result"
        },
        {
          "data": {
            "text/plain": [
              "<matplotlib.collections.PathCollection at 0x1252f6910>"
            ]
          },
          "execution_count": 269,
          "metadata": {},
          "output_type": "execute_result"
        },
        {
          "data": {
            "text/plain": [
              "<matplotlib.collections.PathCollection at 0x125151ed0>"
            ]
          },
          "execution_count": 269,
          "metadata": {},
          "output_type": "execute_result"
        },
        {
          "data": {
            "text/plain": [
              "<matplotlib.collections.PathCollection at 0x1251d5290>"
            ]
          },
          "execution_count": 269,
          "metadata": {},
          "output_type": "execute_result"
        },
        {
          "data": {
            "text/plain": [
              "<matplotlib.collections.PathCollection at 0x1251dcdd0>"
            ]
          },
          "execution_count": 269,
          "metadata": {},
          "output_type": "execute_result"
        },
        {
          "data": {
            "text/plain": [
              "<matplotlib.legend.Legend at 0x125462190>"
            ]
          },
          "execution_count": 269,
          "metadata": {},
          "output_type": "execute_result"
        },
        {
          "data": {
            "image/png": "[encoded data removed]",
            "text/plain": [
              "<Figure size 640x480 with 1 Axes>"
            ]
          },
          "metadata": {},
          "output_type": "display_data"
        }
      ],
      "source": [
        "import numpy as np\n",
        "from numpy.random import randint\n",
        "import matplotlib.pyplot as plt\n",
        "\n",
        "X = randint(10, size=(100, 4))\n",
        "Xc = X - np.mean(X, axis = 0)\n",
        "Xcov = np.cov(Xc, rowvar=False, bias = True)\n",
        "val, vec = np.linalg.eig(Xcov)\n",
        "diag_val = np.diag(1/(val**0.5))\n",
        "Xrot = (vec @ Xc.T).T\n",
        "Xpca = (diag_val @ vec.T @ Xc.T).T\n",
        "Xzca = (vec @ diag_val @ vec.T @ Xc.T).T\n",
        "print(Xc.shape, Xrot.shape, Xpca.shape, Xzca.shape)\n",
        "\n",
        "\n",
        "plt.scatter(X[:,0], X[:,1], marker = \"+\", s = 200, alpha = 0.3, label=\"Original data points\")\n",
        "plt.scatter(Xc[:,0], Xc[:,1], marker = \"o\", s = 200, alpha = 0.3, label=\"Centered data points\")\n",
        "plt.scatter(Xrot[:,0], Xrot[:,1], marker = \"s\", s = 200, alpha = 0.3, label=\"Rotated data points\")\n",
        "plt.scatter(Xpca[:,0], Xpca[:,1], marker = \"p\", s = 200, alpha = 0.3, label=\"PCA data points\")\n",
        "plt.scatter(Xzca[:,0], Xzca[:,1], marker = \"h\", s = 200, alpha = 0.3, label=\"ZCA data points\")\n",
        "plt.legend()"
      ],
      "id": "0T8bnFkU2X8J"
    },
    {
      "cell_type": "code",
      "execution_count": null,
      "metadata": {
        "id": "M4dQvKV72X8J",
        "outputId": "6030860d-d962-48cf-c438-672fabd478de"
      },
      "outputs": [
        {
          "data": {
            "text/plain": [
              "{'whiskers': [<matplotlib.lines.Line2D at 0x125778610>,\n",
              "  <matplotlib.lines.Line2D at 0x1257a2b50>,\n",
              "  <matplotlib.lines.Line2D at 0x1257b6050>,\n",
              "  <matplotlib.lines.Line2D at 0x1257b6990>,\n",
              "  <matplotlib.lines.Line2D at 0x1257c1d90>,\n",
              "  <matplotlib.lines.Line2D at 0x1257c2690>],\n",
              " 'caps': [<matplotlib.lines.Line2D at 0x1257a3490>,\n",
              "  <matplotlib.lines.Line2D at 0x1257a3c50>,\n",
              "  <matplotlib.lines.Line2D at 0x1257b7150>,\n",
              "  <matplotlib.lines.Line2D at 0x1257b7a90>,\n",
              "  <matplotlib.lines.Line2D at 0x1257c2f50>,\n",
              "  <matplotlib.lines.Line2D at 0x1257c3890>],\n",
              " 'boxes': [<matplotlib.lines.Line2D at 0x125173c10>,\n",
              "  <matplotlib.lines.Line2D at 0x1257b5810>,\n",
              "  <matplotlib.lines.Line2D at 0x1257c1510>],\n",
              " 'medians': [<matplotlib.lines.Line2D at 0x1257b4650>,\n",
              "  <matplotlib.lines.Line2D at 0x1257c03d0>,\n",
              "  <matplotlib.lines.Line2D at 0x1257d00d0>],\n",
              " 'fliers': [<matplotlib.lines.Line2D at 0x125774e90>,\n",
              "  <matplotlib.lines.Line2D at 0x1257a2a50>,\n",
              "  <matplotlib.lines.Line2D at 0x1257d0910>],\n",
              " 'means': []}"
            ]
          },
          "execution_count": 270,
          "metadata": {},
          "output_type": "execute_result"
        },
        {
          "data": {
            "text/plain": [
              "{'whiskers': [<matplotlib.lines.Line2D at 0x1257d1510>,\n",
              "  <matplotlib.lines.Line2D at 0x1257d1e90>,\n",
              "  <matplotlib.lines.Line2D at 0x1257e11d0>,\n",
              "  <matplotlib.lines.Line2D at 0x1257e1b50>,\n",
              "  <matplotlib.lines.Line2D at 0x1260d8dd0>,\n",
              "  <matplotlib.lines.Line2D at 0x1260d95d0>],\n",
              " 'caps': [<matplotlib.lines.Line2D at 0x1257d2890>,\n",
              "  <matplotlib.lines.Line2D at 0x1257d3110>,\n",
              "  <matplotlib.lines.Line2D at 0x1257e23d0>,\n",
              "  <matplotlib.lines.Line2D at 0x1257e2b90>,\n",
              "  <matplotlib.lines.Line2D at 0x1260d9d90>,\n",
              "  <matplotlib.lines.Line2D at 0x1260da550>],\n",
              " 'boxes': [<matplotlib.lines.Line2D at 0x1257a15d0>,\n",
              "  <matplotlib.lines.Line2D at 0x1257e0b10>,\n",
              "  <matplotlib.lines.Line2D at 0x1260d8550>],\n",
              " 'medians': [<matplotlib.lines.Line2D at 0x1257d3950>,\n",
              "  <matplotlib.lines.Line2D at 0x1257e34d0>,\n",
              "  <matplotlib.lines.Line2D at 0x1260daed0>],\n",
              " 'fliers': [<matplotlib.lines.Line2D at 0x125778190>,\n",
              "  <matplotlib.lines.Line2D at 0x1257a3c90>,\n",
              "  <matplotlib.lines.Line2D at 0x1257e1890>],\n",
              " 'means': []}"
            ]
          },
          "execution_count": 270,
          "metadata": {},
          "output_type": "execute_result"
        },
        {
          "data": {
            "text/plain": [
              "Text(0.5, 0, 'Months')"
            ]
          },
          "execution_count": 270,
          "metadata": {},
          "output_type": "execute_result"
        },
        {
          "data": {
            "text/plain": [
              "Text(0, 0.5, 'No. of buses')"
            ]
          },
          "execution_count": 270,
          "metadata": {},
          "output_type": "execute_result"
        },
        {
          "data": {
            "text/plain": [
              "Text(0.5, 1.0, 'Original data')"
            ]
          },
          "execution_count": 270,
          "metadata": {},
          "output_type": "execute_result"
        },
        {
          "data": {
            "image/png": "[encoded data removed]",
            "text/plain": [
              "<Figure size 640x480 with 1 Axes>"
            ]
          },
          "metadata": {},
          "output_type": "display_data"
        }
      ],
      "source": [
        "import numpy as np\n",
        "from numpy.random import randint\n",
        "from sklearn.preprocessing import QuantileTransformer\n",
        "\n",
        "X = np.array([randint(20, 40, size = (100,)), randint(40, 70, size = (100,)), randint(300, 400, size = (100,))]).T\n",
        "QT = QuantileTransformer(n_quantiles=10, random_state=0).fit_transform(X)\n",
        "\n",
        "plt.boxplot(X)\n",
        "plt.boxplot(QT)\n",
        "plt.xlabel(\"Months\")\n",
        "plt.ylabel(\"No. of buses\")\n",
        "plt.title(\"Original data\")\n",
        "plt.yscale('log')"
      ],
      "id": "M4dQvKV72X8J"
    },
    {
      "cell_type": "code",
      "execution_count": null,
      "metadata": {
        "id": "lowBggtp2X8K",
        "outputId": "1ff60d99-5592-411e-d757-b659adfd6009"
      },
      "outputs": [
        {
          "data": {
            "text/plain": [
              "(array([0.31632748, 0.25881339, 0.17254226, 0.23005635, 0.37384156,\n",
              "        0.37384156, 0.34508452, 0.2012993 , 0.34508452, 0.25881339]),\n",
              " array([-1.77948299, -1.4317421 , -1.0840012 , -0.7362603 , -0.38851941,\n",
              "        -0.04077851,  0.30696238,  0.65470328,  1.00244418,  1.35018507,\n",
              "         1.69792597]),\n",
              " <BarContainer object of 10 artists>)"
            ]
          },
          "execution_count": 271,
          "metadata": {},
          "output_type": "execute_result"
        },
        {
          "data": {
            "text/plain": [
              "(array([0.31635273, 0.25883405, 0.17255603, 0.23007471, 0.37387141,\n",
              "        0.37387141, 0.34511207, 0.20131537, 0.34511207, 0.25883405]),\n",
              " array([-1.78075121, -1.43303807, -1.08532493, -0.7376118 , -0.38989866,\n",
              "        -0.04218552,  0.30552761,  0.65324075,  1.00095388,  1.34866702,\n",
              "         1.69638016]),\n",
              " <BarContainer object of 10 artists>)"
            ]
          },
          "execution_count": 271,
          "metadata": {},
          "output_type": "execute_result"
        },
        {
          "data": {
            "image/png": "[encoded data removed]",
            "text/plain": [
              "<Figure size 640x480 with 1 Axes>"
            ]
          },
          "metadata": {},
          "output_type": "display_data"
        }
      ],
      "source": [
        "import numpy as np\n",
        "from numpy.random import randint\n",
        "from sklearn.preprocessing import PowerTransformer\n",
        "\n",
        "X = np.array([randint(20, 40, size = (100,)), randint(40, 70, size = (100,)), randint(300, 400, size = (100,))]).T\n",
        "PT_yj = PowerTransformer(method='yeo-johnson', standardize=True).fit_transform(X)\n",
        "PT_bc = PowerTransformer(method='box-cox', standardize=True).fit_transform(X)\n",
        "plt.hist(PT_yj[:, 0], rwidth = 0.5, density=True, histtype='barstacked', fill=True)\n",
        "plt.hist(PT_bc[:, 0], rwidth = 0.25, density=True, histtype='barstacked', fill=True)"
      ],
      "id": "lowBggtp2X8K"
    },
    {
      "cell_type": "code",
      "execution_count": null,
      "metadata": {
        "id": "r__qvom12X8L",
        "outputId": "80235a11-1bb6-46d0-ddeb-a001a72d6a96"
      },
      "outputs": [
        {
          "data": {
            "text/plain": [
              "<matplotlib.collections.PathCollection at 0x1262f98d0>"
            ]
          },
          "execution_count": 272,
          "metadata": {},
          "output_type": "execute_result"
        },
        {
          "data": {
            "text/plain": [
              "<matplotlib.collections.PathCollection at 0x123f97010>"
            ]
          },
          "execution_count": 272,
          "metadata": {},
          "output_type": "execute_result"
        },
        {
          "data": {
            "text/plain": [
              "<matplotlib.collections.PathCollection at 0x12630bed0>"
            ]
          },
          "execution_count": 272,
          "metadata": {},
          "output_type": "execute_result"
        },
        {
          "data": {
            "text/plain": [
              "<matplotlib.collections.PathCollection at 0x1262a8f50>"
            ]
          },
          "execution_count": 272,
          "metadata": {},
          "output_type": "execute_result"
        },
        {
          "data": {
            "image/png": "[encoded data removed]",
            "text/plain": [
              "<Figure size 800x400 with 2 Axes>"
            ]
          },
          "metadata": {},
          "output_type": "display_data"
        }
      ],
      "source": [
        "import numpy as np\n",
        "from numpy.random import randint\n",
        "from sklearn.preprocessing import Normalizer\n",
        "\n",
        "_X_one = np.array([randint(-2, 2, size = (100,)), randint(2, 5, size = (100,))]).T\n",
        "_X_two = np.array([randint(4, 6, size = (100,)), randint(2, 5, size = (100,))]).T\n",
        "X_one = Normalizer(norm = \"l1\").fit_transform(_X_one)\n",
        "X_two = Normalizer(norm = \"l1\").fit_transform(_X_two)\n",
        "\n",
        "fig, ax = plt.subplots(nrows = 1, ncols = 2, sharey = False, figsize = (8,4))\n",
        "ax[0].scatter(_X_one[:, 0], _X_one[:, 1], c = 'b')\n",
        "ax[0].scatter(_X_two[:, 0], _X_two[:, 1], c = 'r')\n",
        "ax[1].scatter(X_one[:, 0], X_one[:, 1], c = 'b')\n",
        "ax[1].scatter(X_two[:, 0], X_two[:, 1], c = 'r')"
      ],
      "id": "r__qvom12X8L"
    },
    {
      "cell_type": "code",
      "execution_count": null,
      "metadata": {
        "id": "LZ7h44Xx2X8L",
        "outputId": "a1d793f9-d3ac-4d7b-fef5-8671080c2c81"
      },
      "outputs": [
        {
          "name": "stdout",
          "output_type": "stream",
          "text": [
            "Encoded Games:\n",
            "[0.0, 0.0, 0.0, 3000.0]\n",
            "[1.0, 1.0, 1.0, 2000.0]\n",
            "[2.0, 2.0, 2.0, 1000.0]\n"
          ]
        }
      ],
      "source": [
        "import numpy as np\n",
        "from sklearn.preprocessing import OrdinalEncoder\n",
        "\n",
        "games = [['first', 'gold', 'top', 3000.00],\n",
        "         ['second', 'silver', 'middle', 2000.00],\n",
        "         ['third', 'bronze', 'bottom', 1000.00]]\n",
        "\n",
        "categorical_features = [[game[0], game[1], game[2]] for game in games]\n",
        "\n",
        "winners = ['first', 'second', 'third']\n",
        "medals = ['gold', 'silver', 'bronze']\n",
        "ranks = ['top', 'middle', 'bottom']\n",
        "\n",
        "ordinal_encoder = OrdinalEncoder(categories = [winners, medals, ranks])\n",
        "encoded_features = ordinal_encoder.fit_transform(categorical_features)\n",
        "encoded_games = [[encoded_features[i][0], encoded_features[i][1], encoded_features[i][2], games[i][3]]\n",
        "                 for i in range(len(games))]\n",
        "\n",
        "print(\"Encoded Games:\")\n",
        "for game in encoded_games:\n",
        "    print(game)"
      ],
      "id": "LZ7h44Xx2X8L"
    },
    {
      "cell_type": "code",
      "execution_count": null,
      "metadata": {
        "id": "P4Cns9jw2X8M",
        "outputId": "7ac91784-5332-4206-a1b3-3cbdfabfd21c"
      },
      "outputs": [
        {
          "name": "stdout",
          "output_type": "stream",
          "text": [
            "Encoded Data:\n",
            "[[0.0 1.0 0.0 0.0 1.0 0.0 1.0 0.0 0.0 3000.0]\n",
            " [0.0 0.0 0.0 0.0 0.0 1.0 0.0 1.0 0.0 2000.0]\n",
            " [1.0 0.0 0.0 1.0 0.0 0.0 0.0 0.0 1.0 1000.0]\n",
            " [0.0 0.0 1.0 0.0 0.0 0.0 0.0 0.0 0.0 5000.0]]\n"
          ]
        }
      ],
      "source": [
        "from sklearn.preprocessing import OneHotEncoder\n",
        "from sklearn.compose import ColumnTransformer\n",
        "import numpy as np\n",
        "\n",
        "X = [['football', 'helmet', 'ground', 3000.0],\n",
        "     ['basketball', 'shoes', 'net', 2000.0],\n",
        "     ['cricket', 'bat', 'pitch', 1000.0],\n",
        "     ['tennis', 'band', 'court', 5000.0]]\n",
        "\n",
        "categorical_columns = [0, 1, 2]\n",
        "numeric_columns = [3]\n",
        "\n",
        "\n",
        "categorical_transformer = OneHotEncoder(sparse = False, drop = 'first')\n",
        "numeric_transformer = 'passthrough'\n",
        "\n",
        "preprocessor = ColumnTransformer(\n",
        "    transformers=[\n",
        "        ('cat', categorical_transformer, categorical_columns),\n",
        "        ('num', numeric_transformer, numeric_columns)\n",
        "    ])\n",
        "\n",
        "X_encoded = preprocessor.fit_transform(X)\n",
        "\n",
        "print(\"Encoded Data:\")\n",
        "print(X_encoded)"
      ],
      "id": "P4Cns9jw2X8M"
    },
    {
      "cell_type": "code",
      "execution_count": null,
      "metadata": {
        "id": "EK58EdiK2X8M",
        "outputId": "fb7c6271-cd02-41bc-8188-59ff62b1e397"
      },
      "outputs": [
        {
          "name": "stdout",
          "output_type": "stream",
          "text": [
            "Encoded Data:\n",
            "[[0.0 0.0 0.0 3000.0 300.0 1.0 0.0 1.0 0.0 1.0 0.0]\n",
            " [1.0 1.0 1.0 2000.0 200.0 0.0 0.0 0.0 1.0 0.0 1.0]\n",
            " [2.0 2.0 2.0 1000.0 500.0 0.0 1.0 0.0 0.0 0.0 0.0]]\n"
          ]
        }
      ],
      "source": [
        "from sklearn.pipeline import Pipeline\n",
        "from sklearn.compose import ColumnTransformer\n",
        "from sklearn.preprocessing import OneHotEncoder, OrdinalEncoder\n",
        "import numpy as np\n",
        "\n",
        "data = [['first', 'gold', 'top', 3000.0, 'football', 'helmet', 'ground', 300.0],\n",
        "         ['second', 'silver', 'middle', 2000.0, 'basketball', 'shoes', 'net', 200.0],\n",
        "         ['third', 'bronze', 'bottom', 1000.0, 'tennis', 'band', 'court', 500.0]]\n",
        "\n",
        "categorical_columns_ordinal = [0, 1, 2]\n",
        "categorical_columns_onehot = [4, 5, 6]\n",
        "numeric_columns = [3, 7]\n",
        "\n",
        "\n",
        "winners = ['first', 'second', 'third']\n",
        "medals = ['gold', 'silver', 'bronze']\n",
        "ranks = ['top', 'middle', 'bottom']\n",
        "\n",
        "ordinal_encoder = OrdinalEncoder(categories = [winners, medals, ranks])\n",
        "\n",
        "ordinal_transformer = OrdinalEncoder(categories = [winners, medals, ranks])\n",
        "onehot_transformer = OneHotEncoder(sparse = False, drop = 'first')\n",
        "\n",
        "\n",
        "preprocessor = ColumnTransformer(\n",
        "    transformers=[\n",
        "        ('ordinal', ordinal_transformer, categorical_columns_ordinal),\n",
        "        ('numeric', 'passthrough', numeric_columns),\n",
        "        ('onehot', onehot_transformer, categorical_columns_onehot)\n",
        "    ])\n",
        "\n",
        "pipeline = Pipeline(steps=[\n",
        "    ('preprocessor', preprocessor)\n",
        "])\n",
        "\n",
        "X_encoded = pipeline.fit_transform(data)\n",
        "\n",
        "print(\"Encoded Data:\")\n",
        "print(X_encoded)"
      ],
      "id": "EK58EdiK2X8M"
    },
    {
      "cell_type": "code",
      "execution_count": null,
      "metadata": {
        "id": "nmSPNt642X8M",
        "outputId": "9b516e73-c77b-4407-e734-4f49ea8d2de7"
      },
      "outputs": [
        {
          "name": "stdout",
          "output_type": "stream",
          "text": [
            "Binned Data:\n",
            "[[2. 0.]\n",
            " [1. 0.]\n",
            " [3. 1.]\n",
            " [0. 3.]\n",
            " [2. 2.]]\n",
            "Edges:\n",
            "[array([-12.3 ,  -6.75,  -1.2 ,   4.35,   9.9 ])\n",
            " array([ 2.  ,  6.75, 11.5 , 16.25, 21.  ])]\n"
          ]
        }
      ],
      "source": [
        "from sklearn.preprocessing import KBinsDiscretizer\n",
        "import numpy as np\n",
        "\n",
        "data = np.array([[2.5, 2], [-5.1, 5], [9.9, 7], [-12.3, 21], [2.7, 15]])\n",
        "n_bins = 4\n",
        "encoder = KBinsDiscretizer(n_bins = n_bins, encode = 'ordinal', strategy = 'uniform')\n",
        "data_binned = encoder.fit_transform(data)\n",
        "print(\"Binned Data:\")\n",
        "print(data_binned)\n",
        "print(\"Edges:\")\n",
        "print(encoder.bin_edges_)"
      ],
      "id": "nmSPNt642X8M"
    },
    {
      "cell_type": "code",
      "execution_count": null,
      "metadata": {
        "id": "bQBfj0ox2X8N",
        "outputId": "834f6878-5c99-4143-814d-cd4a5a2ce2f1"
      },
      "outputs": [
        {
          "data": {
            "text/plain": [
              "array([[0., 0., 1.],\n",
              "       [1., 0., 0.],\n",
              "       [0., 0., 0.]])"
            ]
          },
          "execution_count": 277,
          "metadata": {},
          "output_type": "execute_result"
        }
      ],
      "source": [
        "from sklearn.preprocessing import Binarizer\n",
        "X = [[ 1., -1.,  2.], [ 2.,  0.,  0.], [ 0.,  1., -1.]]\n",
        "Xbin = Binarizer(threshold= 1.5).fit_transform(X)\n",
        "Xbin"
      ],
      "id": "bQBfj0ox2X8N"
    },
    {
      "cell_type": "code",
      "execution_count": null,
      "metadata": {
        "id": "g7Ih9gBR2X8N",
        "outputId": "ad5760ff-f7bb-4c0e-d50d-6c8a25f61016"
      },
      "outputs": [
        {
          "data": {
            "text/plain": [
              "array([[ 1.,  0.,  1.,  0.,  0.,  1.],\n",
              "       [ 1.,  2.,  3.,  4.,  6.,  9.],\n",
              "       [ 1.,  4.,  5., 16., 20., 25.]])"
            ]
          },
          "execution_count": 278,
          "metadata": {},
          "output_type": "execute_result"
        },
        {
          "data": {
            "text/html": [
              "<style>#sk-container-id-8 {color: black;background-color: white;}#sk-container-id-8 pre{padding: 0;}#sk-container-id-8 div.sk-toggleable {background-color: white;}#sk-container-id-8 label.sk-toggleable__label {cursor: pointer;display: block;width: 100%;margin-bottom: 0;padding: 0.3em;box-sizing: border-box;text-align: center;}#sk-container-id-8 label.sk-toggleable__label-arrow:before {content: \"▸\";float: left;margin-right: 0.25em;color: #696969;}#sk-container-id-8 label.sk-toggleable__label-arrow:hover:before {color: black;}#sk-container-id-8 div.sk-estimator:hover label.sk-toggleable__label-arrow:before {color: black;}#sk-container-id-8 div.sk-toggleable__content {max-height: 0;max-width: 0;overflow: hidden;text-align: left;background-color: #f0f8ff;}#sk-container-id-8 div.sk-toggleable__content pre {margin: 0.2em;color: black;border-radius: 0.25em;background-color: #f0f8ff;}#sk-container-id-8 input.sk-toggleable__control:checked~div.sk-toggleable__content {max-height: 200px;max-width: 100%;overflow: auto;}#sk-container-id-8 input.sk-toggleable__control:checked~label.sk-toggleable__label-arrow:before {content: \"▾\";}#sk-container-id-8 div.sk-estimator input.sk-toggleable__control:checked~label.sk-toggleable__label {background-color: #d4ebff;}#sk-container-id-8 div.sk-label input.sk-toggleable__control:checked~label.sk-toggleable__label {background-color: #d4ebff;}#sk-container-id-8 input.sk-hidden--visually {border: 0;clip: rect(1px 1px 1px 1px);clip: rect(1px, 1px, 1px, 1px);height: 1px;margin: -1px;overflow: hidden;padding: 0;position: absolute;width: 1px;}#sk-container-id-8 div.sk-estimator {font-family: monospace;background-color: #f0f8ff;border: 1px dotted black;border-radius: 0.25em;box-sizing: border-box;margin-bottom: 0.5em;}#sk-container-id-8 div.sk-estimator:hover {background-color: #d4ebff;}#sk-container-id-8 div.sk-parallel-item::after {content: \"\";width: 100%;border-bottom: 1px solid gray;flex-grow: 1;}#sk-container-id-8 div.sk-label:hover label.sk-toggleable__label {background-color: #d4ebff;}#sk-container-id-8 div.sk-serial::before {content: \"\";position: absolute;border-left: 1px solid gray;box-sizing: border-box;top: 0;bottom: 0;left: 50%;z-index: 0;}#sk-container-id-8 div.sk-serial {display: flex;flex-direction: column;align-items: center;background-color: white;padding-right: 0.2em;padding-left: 0.2em;position: relative;}#sk-container-id-8 div.sk-item {position: relative;z-index: 1;}#sk-container-id-8 div.sk-parallel {display: flex;align-items: stretch;justify-content: center;background-color: white;position: relative;}#sk-container-id-8 div.sk-item::before, #sk-container-id-8 div.sk-parallel-item::before {content: \"\";position: absolute;border-left: 1px solid gray;box-sizing: border-box;top: 0;bottom: 0;left: 50%;z-index: -1;}#sk-container-id-8 div.sk-parallel-item {display: flex;flex-direction: column;z-index: 1;position: relative;background-color: white;}#sk-container-id-8 div.sk-parallel-item:first-child::after {align-self: flex-end;width: 50%;}#sk-container-id-8 div.sk-parallel-item:last-child::after {align-self: flex-start;width: 50%;}#sk-container-id-8 div.sk-parallel-item:only-child::after {width: 0;}#sk-container-id-8 div.sk-dashed-wrapped {border: 1px dashed gray;margin: 0 0.4em 0.5em 0.4em;box-sizing: border-box;padding-bottom: 0.4em;background-color: white;}#sk-container-id-8 div.sk-label label {font-family: monospace;font-weight: bold;display: inline-block;line-height: 1.2em;}#sk-container-id-8 div.sk-label-container {text-align: center;}#sk-container-id-8 div.sk-container {/* jupyter's `normalize.less` sets `[hidden] { display: none; }` but bootstrap.min.css set `[hidden] { display: none !important; }` so we also need the `!important` here to be able to override the default hidden behavior on the sphinx rendered scikit-learn.org. See: https://github.com/scikit-learn/scikit-learn/issues/21755 */display: inline-block !important;position: relative;}#sk-container-id-8 div.sk-text-repr-fallback {display: none;}</style><div id=\"sk-container-id-8\" class=\"sk-top-container\"><div class=\"sk-text-repr-fallback\"><pre>PolynomialFeatures()</pre><b>In a Jupyter environment, please rerun this cell to show the HTML representation or trust the notebook. <br />On GitHub, the HTML representation is unable to render, please try loading this page with nbviewer.org.</b></div><div class=\"sk-container\" hidden><div class=\"sk-item\"><div class=\"sk-estimator sk-toggleable\"><input class=\"sk-toggleable__control sk-hidden--visually\" id=\"sk-estimator-id-8\" type=\"checkbox\" checked><label for=\"sk-estimator-id-8\" class=\"sk-toggleable__label sk-toggleable__label-arrow\">PolynomialFeatures</label><div class=\"sk-toggleable__content\"><pre>PolynomialFeatures()</pre></div></div></div></div></div>"
            ],
            "text/plain": [
              "PolynomialFeatures()"
            ]
          },
          "execution_count": 278,
          "metadata": {},
          "output_type": "execute_result"
        }
      ],
      "source": [
        "import numpy as np\n",
        "from sklearn.preprocessing import PolynomialFeatures\n",
        "X = np.arange(6).reshape(3, 2)\n",
        "poly = PolynomialFeatures(2)\n",
        "poly.fit_transform(X)\n",
        "poly"
      ],
      "id": "g7Ih9gBR2X8N"
    },
    {
      "cell_type": "code",
      "execution_count": null,
      "metadata": {
        "id": "ttCWc_Ms2X8N",
        "outputId": "4f82bf36-7da6-413a-b3f9-43b1a782e813"
      },
      "outputs": [
        {
          "data": {
            "text/plain": [
              "array([[1., 2., 0., 0.],\n",
              "       [3., 2., 1., 0.],\n",
              "       [5., 2., 0., 1.]])"
            ]
          },
          "execution_count": 279,
          "metadata": {},
          "output_type": "execute_result"
        },
        {
          "data": {
            "text/plain": [
              "array([[1., 2.],\n",
              "       [3., 2.],\n",
              "       [5., 2.]])"
            ]
          },
          "execution_count": 279,
          "metadata": {},
          "output_type": "execute_result"
        }
      ],
      "source": [
        "import numpy as np\n",
        "from sklearn.impute import SimpleImputer\n",
        "\n",
        "\n",
        "X = np.array([[1,2], [np.nan, 2], [5, np.nan]])\n",
        "\n",
        "imp = SimpleImputer(missing_values = np.nan, strategy = 'mean', copy = False, add_indicator = True)\n",
        "imp.fit_transform(X)\n",
        "X"
      ],
      "id": "ttCWc_Ms2X8N"
    },
    {
      "cell_type": "code",
      "execution_count": null,
      "metadata": {
        "id": "IZv389w-2X8N",
        "outputId": "2ac9f84f-2e42-4d39-fde3-25fcf1db7232"
      },
      "outputs": [
        {
          "name": "stdout",
          "output_type": "stream",
          "text": [
            "Python executable:  /Applications/anaconda3/envs/PyML/bin/python\n",
            "Python version:  3.11.4 (main, Jul  5 2023, 08:41:25) [Clang 14.0.6 ]\n",
            "Numpy version:  1.23.5\n",
            "Bayesian Ridge:  [[1.    2.   ]\n",
            " [3.    4.   ]\n",
            " [5.    6.   ]\n",
            " [7.008 8.   ]\n",
            " [9.    9.992]]\n",
            "Decision Tree Reg:  [[1. 2.]\n",
            " [3. 4.]\n",
            " [5. 6.]\n",
            " [9. 8.]\n",
            " [9. 8.]]\n",
            "Extra Trees Reg:  [[1. 2.]\n",
            " [3. 4.]\n",
            " [5. 6.]\n",
            " [9. 8.]\n",
            " [9. 8.]]\n",
            "K Neighbors Reg:  [[1. 2.]\n",
            " [3. 4.]\n",
            " [5. 6.]\n",
            " [7. 8.]\n",
            " [9. 7.]]\n"
          ]
        }
      ],
      "source": [
        "import sys\n",
        "import numpy as np\n",
        "from sklearn import preprocessing\n",
        "from sklearn.impute import SimpleImputer\n",
        "from sklearn.experimental import enable_iterative_imputer\n",
        "from sklearn.impute import IterativeImputer\n",
        "from sklearn.linear_model import BayesianRidge\n",
        "from sklearn.tree import DecisionTreeRegressor\n",
        "from sklearn.ensemble import ExtraTreesRegressor\n",
        "from sklearn.neighbors import KNeighborsRegressor\n",
        "\n",
        "\n",
        "print(\"Python executable: \", sys.executable)\n",
        "print(\"Python version: \", sys.version)\n",
        "print(\"Numpy version: \", np.__version__)\n",
        "\n",
        "\n",
        "X = np.array([[1,2], [3, 4], [5, 6], [np.nan, 8], [9, np.nan]])\n",
        "\n",
        "ImputeBayesianRidge = IterativeImputer(estimator = BayesianRidge(), missing_values = np.nan, sample_posterior = False, max_iter = 10,\n",
        "                       tol = 0.001, n_nearest_features = None, initial_strategy = 'mean',\n",
        "                       imputation_order = 'ascending', skip_complete = False, min_value = -np.inf,\n",
        "                       max_value = np.inf, verbose = 0, random_state = None, add_indicator = False,\n",
        "                       keep_empty_features = False)\n",
        "\n",
        "ImputeDecisionTreeReg = IterativeImputer(estimator = DecisionTreeRegressor(max_features = \"sqrt\"), missing_values = np.nan, sample_posterior = False, max_iter = 10,\n",
        "                       tol = 0.001, n_nearest_features = None, initial_strategy = 'mean',\n",
        "                       imputation_order = 'ascending', skip_complete = False, min_value = -np.inf,\n",
        "                       max_value = np.inf, verbose = 0, random_state = None, add_indicator = False,\n",
        "                       keep_empty_features = False)\n",
        "\n",
        "ImputeExtraTreesReg = IterativeImputer(estimator = ExtraTreesRegressor(n_estimators = 10), missing_values = np.nan, sample_posterior = False, max_iter = 10,\n",
        "                       tol = 0.001, n_nearest_features = None, initial_strategy = 'mean',\n",
        "                       imputation_order = 'ascending', skip_complete = False, min_value = -np.inf,\n",
        "                       max_value = np.inf, verbose = 0, random_state = None, add_indicator = False,\n",
        "                       keep_empty_features = False)\n",
        "\n",
        "ImputeKNeighborsReg = IterativeImputer(estimator = KNeighborsRegressor(n_neighbors = 2), missing_values = np.nan, sample_posterior = False, max_iter = 10,\n",
        "                       tol = 0.001, n_nearest_features = None, initial_strategy = 'mean',\n",
        "                       imputation_order = 'ascending', skip_complete = False, min_value = -np.inf,\n",
        "                       max_value = np.inf, verbose = 0, random_state = None, add_indicator = False,\n",
        "                       keep_empty_features = False)\n",
        "\n",
        "\n",
        "\n",
        "\n",
        "\n",
        "X_ImputeBayesianRidge = ImputeBayesianRidge.fit_transform(X)\n",
        "X_ImputeDecisionTreeReg = ImputeDecisionTreeReg.fit_transform(X)\n",
        "X_ImputeExtraTreesReg = ImputeExtraTreesReg.fit_transform(X)\n",
        "X_ImputeKNeighborsReg = ImputeKNeighborsReg.fit_transform(X)\n",
        "\n",
        "\n",
        "print(\"Bayesian Ridge: \", X_ImputeBayesianRidge.round(4))\n",
        "print(\"Decision Tree Reg: \", X_ImputeDecisionTreeReg.round(4))\n",
        "print(\"Extra Trees Reg: \", X_ImputeExtraTreesReg.round(4))\n",
        "print(\"K Neighbors Reg: \", X_ImputeKNeighborsReg.round(4))"
      ],
      "id": "IZv389w-2X8N"
    }
  ],
  "metadata": {
    "kernelspec": {
      "display_name": "PyML",
      "language": "python",
      "name": "pyml"
    },
    "language_info": {
      "codemirror_mode": {
        "name": "ipython",
        "version": 3
      },
      "file_extension": ".py",
      "mimetype": "text/x-python",
      "name": "python",
      "nbconvert_exporter": "python",
      "pygments_lexer": "ipython3",
      "version": "3.11.4"
    },
    "colab": {
      "provenance": [],
      "include_colab_link": true
    }
  },
  "nbformat": 4,
  "nbformat_minor": 5
}