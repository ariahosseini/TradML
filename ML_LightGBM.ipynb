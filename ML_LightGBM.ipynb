{
  "cells": [
    {
      "cell_type": "markdown",
      "metadata": {
        "id": "view-in-github",
        "colab_type": "text"
      },
      "source": [
        "<a href=\"https://colab.research.google.com/github/ariahosseini/TradML/blob/main/ML_LightGBM.ipynb\" target=\"_parent\"><img src=\"https://colab.research.google.com/assets/colab-badge.svg\" alt=\"Open In Colab\"/></a>"
      ]
    },
    {
      "cell_type": "code",
      "execution_count": null,
      "metadata": {
        "id": "uoxl_eaLl3m7"
      },
      "outputs": [],
      "source": [
        "import os, sys, pprint, gc\n",
        "import pickle\n",
        "import pandas as pd\n",
        "import numpy as np\n",
        "import lightgbm as lgb\n",
        "from sklearn.preprocessing import LabelEncoder\n",
        "from sklearn.metrics import mean_squared_error"
      ]
    },
    {
      "cell_type": "code",
      "execution_count": null,
      "metadata": {
        "id": "DngXqZBml3m9",
        "outputId": "05ae640a-a45a-4996-8eef-48a23d4a21e1"
      },
      "outputs": [
        {
          "name": "stdout",
          "output_type": "stream",
          "text": [
            "/Users/ariahosseini/Desktop/Notebooks\n"
          ]
        }
      ],
      "source": [
        "curr_dir = os.getcwd()\n",
        "print(curr_dir)"
      ]
    },
    {
      "cell_type": "code",
      "execution_count": null,
      "metadata": {
        "id": "a3sOyBnpl3m_",
        "outputId": "1f34d39e-ebba-4c59-c32b-e6052146c20f"
      },
      "outputs": [
        {
          "name": "stdout",
          "output_type": "stream",
          "text": [
            "['.DS_Store',\n",
            " '.ipynb_checkpoints',\n",
            " 'Algorithm-Dynamic.ipynb',\n",
            " 'Algorithm-Recursive.ipynb',\n",
            " 'Algorithm-Sorting.ipynb',\n",
            " 'DataStructure-BinarySearchTree.ipynb',\n",
            " 'DataStructure-DoublyLinkedList.ipynb',\n",
            " 'DataStructure-Graph.ipynb',\n",
            " 'DataStructure-SinglyLinkedList.ipynb',\n",
            " 'LeetCode-Easy.ipynb',\n",
            " 'LeetCode-Math.ipynb',\n",
            " 'LeetCode-SeventyFive.ipynb',\n",
            " 'MC_RayTracing_HCACF.ipynb',\n",
            " 'ML-CatBoost-ProjOne.ipynb',\n",
            " 'ML-CatBoost-ProjTwe.ipynb',\n",
            " 'ML-CatBoost-StartingPoint.ipynb',\n",
            " 'ML-LightGBM.ipynb',\n",
            " 'ML-PyCaret-Classification.ipynb',\n",
            " 'ML-PyCaret-Regression.ipynb',\n",
            " 'ML-XGBoost.ipynb',\n",
            " 'NeetCode-Easy.ipynb',\n",
            " 'SciKitLearn-GeneralizedLinearModels.ipynb',\n",
            " 'SciKitLearn-LinearModels.ipynb',\n",
            " 'SciKitLearn-NonLinearModels.ipynb',\n",
            " 'SciKitLearn-Preprocessing.ipynb',\n",
            " 'SciKitLearn-Supvised-ProjFive-Reg.ipynb',\n",
            " 'SciKitLearn-Supvised-ProjFour-Clf-and-Reg.ipynb',\n",
            " 'SciKitLearn-Supvised-ProjOne-Clf.ipynb',\n",
            " 'SciKitLearn-Supvised-ProjSix-Reg.ipynb',\n",
            " 'SciKitLearn-Supvised-ProjThree-Clf.ipynb',\n",
            " 'SciKitLearn-Supvised-ProjTwo-Clf.ipynb',\n",
            " 'SciKitLearn-Unsupervised.ipynb',\n",
            " 'SciKitLearn-Unsupvised-ProjSeven.ipynb',\n",
            " 'SuppressionFunction.ipynb',\n",
            " 'TBC2D3D_dataset_variedKa_V5.xlsx',\n",
            " 'Telco_customer_churn.csv',\n",
            " 'agaricus-lepiota.data',\n",
            " 'amazon',\n",
            " 'arff_files',\n",
            " 'catboost_dir',\n",
            " 'catboost_info',\n",
            " 'ch4_mm_gl.txt',\n",
            " 'co2_mm_mlo.txt',\n",
            " 'dogs-vs-cats.py',\n",
            " 'forest_fires',\n",
            " 'handwritten_text',\n",
            " 'learing_rate_0.01',\n",
            " 'learing_rate_0.7',\n",
            " 'logs.log',\n",
            " 'mmc2.xlsx',\n",
            " 'mmc3.mat',\n",
            " 'model_depth_1',\n",
            " 'model_depth_5',\n",
            " 'n2o_mm_gl.txt',\n",
            " 'secom',\n",
            " 'walmart']\n"
          ]
        }
      ],
      "source": [
        "pprint.pprint(sorted(os.listdir(curr_dir)))"
      ]
    },
    {
      "cell_type": "code",
      "execution_count": null,
      "metadata": {
        "id": "Fz3PVBsQl3nA",
        "outputId": "cf7b19e8-a47e-4ad2-ed5b-ad3e01876b27"
      },
      "outputs": [
        {
          "name": "stdout",
          "output_type": "stream",
          "text": [
            "/Users/ariahosseini/Desktop/Notebooks/walmart/\n"
          ]
        }
      ],
      "source": [
        "path = \"walmart/\"\n",
        "data_dir = os.path.join(curr_dir,path)\n",
        "print(data_dir)"
      ]
    },
    {
      "cell_type": "code",
      "execution_count": null,
      "metadata": {
        "id": "m3lx-4Zjl3nA",
        "outputId": "82fdca79-11d7-44ca-fd14-768fb059e3e6"
      },
      "outputs": [
        {
          "name": "stdout",
          "output_type": "stream",
          "text": [
            "['sales_train_evaluation.csv',\n",
            " 'calendar.csv',\n",
            " 'sell_prices.csv',\n",
            " 'sales_train_validation.csv',\n",
            " 'sample_submission.csv']\n"
          ]
        }
      ],
      "source": [
        "walmart_data = os.listdir(data_dir)\n",
        "pprint.pprint(walmart_data)"
      ]
    },
    {
      "cell_type": "code",
      "execution_count": null,
      "metadata": {
        "id": "zP6IXzidl3nB"
      },
      "outputs": [],
      "source": [
        "def display_df(df, message = \" \"):\n",
        "    print(\"Dataframe: {}\".format(message))\n",
        "    num_rows = len(df)\n",
        "    num_cols = len(df.columns)\n",
        "    print(\"num_rows = {:,} \\nnum_cols = {:,}\".format(num_rows, num_cols))\n",
        "    display(df.head())\n",
        "    print(\"Info:\")\n",
        "    print(df.info())\n",
        "    df_null = df.isnull().sum()\n",
        "    if len(df_null)==0:\n",
        "        print(\"Number of null data points:\",df_null[df_null!=0])\n",
        "    else:\n",
        "        print(\"Number of null data points:\")\n",
        "        print(df_null[df_null!=0])"
      ]
    },
    {
      "cell_type": "code",
      "execution_count": null,
      "metadata": {
        "id": "-HFQkj75l3nB"
      },
      "outputs": [],
      "source": [
        "# read data files\n",
        "sales_train_eval = pd.read_csv(data_dir+walmart_data[0])\n",
        "calendar = pd.read_csv(data_dir+walmart_data[1])\n",
        "sell_prices = pd.read_csv(data_dir+walmart_data[2])\n",
        "sales_train_valid = pd.read_csv(data_dir+walmart_data[3])"
      ]
    },
    {
      "cell_type": "code",
      "execution_count": null,
      "metadata": {
        "id": "a_WPxP1Bl3nB",
        "outputId": "78ef2b65-63be-49ad-94b4-cf1761a5d3eb"
      },
      "outputs": [
        {
          "name": "stdout",
          "output_type": "stream",
          "text": [
            "Dataframe: sell_prices\n",
            "num_rows = 6,841,121 \n",
            "num_cols = 4\n"
          ]
        },
        {
          "data": {
            "text/html": [
              "<div>\n",
              "<style scoped>\n",
              "    .dataframe tbody tr th:only-of-type {\n",
              "        vertical-align: middle;\n",
              "    }\n",
              "\n",
              "    .dataframe tbody tr th {\n",
              "        vertical-align: top;\n",
              "    }\n",
              "\n",
              "    .dataframe thead th {\n",
              "        text-align: right;\n",
              "    }\n",
              "</style>\n",
              "<table border=\"1\" class=\"dataframe\">\n",
              "  <thead>\n",
              "    <tr style=\"text-align: right;\">\n",
              "      <th></th>\n",
              "      <th>store_id</th>\n",
              "      <th>item_id</th>\n",
              "      <th>wm_yr_wk</th>\n",
              "      <th>sell_price</th>\n",
              "    </tr>\n",
              "  </thead>\n",
              "  <tbody>\n",
              "    <tr>\n",
              "      <th>0</th>\n",
              "      <td>CA_1</td>\n",
              "      <td>HOBBIES_1_001</td>\n",
              "      <td>11325</td>\n",
              "      <td>9.58</td>\n",
              "    </tr>\n",
              "    <tr>\n",
              "      <th>1</th>\n",
              "      <td>CA_1</td>\n",
              "      <td>HOBBIES_1_001</td>\n",
              "      <td>11326</td>\n",
              "      <td>9.58</td>\n",
              "    </tr>\n",
              "    <tr>\n",
              "      <th>2</th>\n",
              "      <td>CA_1</td>\n",
              "      <td>HOBBIES_1_001</td>\n",
              "      <td>11327</td>\n",
              "      <td>8.26</td>\n",
              "    </tr>\n",
              "    <tr>\n",
              "      <th>3</th>\n",
              "      <td>CA_1</td>\n",
              "      <td>HOBBIES_1_001</td>\n",
              "      <td>11328</td>\n",
              "      <td>8.26</td>\n",
              "    </tr>\n",
              "    <tr>\n",
              "      <th>4</th>\n",
              "      <td>CA_1</td>\n",
              "      <td>HOBBIES_1_001</td>\n",
              "      <td>11329</td>\n",
              "      <td>8.26</td>\n",
              "    </tr>\n",
              "  </tbody>\n",
              "</table>\n",
              "</div>"
            ],
            "text/plain": [
              "  store_id        item_id  wm_yr_wk  sell_price\n",
              "0     CA_1  HOBBIES_1_001     11325        9.58\n",
              "1     CA_1  HOBBIES_1_001     11326        9.58\n",
              "2     CA_1  HOBBIES_1_001     11327        8.26\n",
              "3     CA_1  HOBBIES_1_001     11328        8.26\n",
              "4     CA_1  HOBBIES_1_001     11329        8.26"
            ]
          },
          "metadata": {},
          "output_type": "display_data"
        },
        {
          "name": "stdout",
          "output_type": "stream",
          "text": [
            "Info:\n",
            "<class 'pandas.core.frame.DataFrame'>\n",
            "RangeIndex: 6841121 entries, 0 to 6841120\n",
            "Data columns (total 4 columns):\n",
            " #   Column      Dtype  \n",
            "---  ------      -----  \n",
            " 0   store_id    object \n",
            " 1   item_id     object \n",
            " 2   wm_yr_wk    int64  \n",
            " 3   sell_price  float64\n",
            "dtypes: float64(1), int64(1), object(2)\n",
            "memory usage: 208.8+ MB\n",
            "None\n",
            "Number of null data points:\n",
            "Series([], dtype: int64)\n"
          ]
        }
      ],
      "source": [
        "display_df(df = sell_prices, message = \"sell_prices\")"
      ]
    },
    {
      "cell_type": "code",
      "execution_count": null,
      "metadata": {
        "id": "Pwk_szf7l3nB",
        "outputId": "32d164ad-86c9-4951-ead3-20984dbe5b26"
      },
      "outputs": [
        {
          "name": "stdout",
          "output_type": "stream",
          "text": [
            "Dataframe: sales_train_valid\n",
            "num_rows = 30,490 \n",
            "num_cols = 1,919\n"
          ]
        },
        {
          "data": {
            "text/html": [
              "<div>\n",
              "<style scoped>\n",
              "    .dataframe tbody tr th:only-of-type {\n",
              "        vertical-align: middle;\n",
              "    }\n",
              "\n",
              "    .dataframe tbody tr th {\n",
              "        vertical-align: top;\n",
              "    }\n",
              "\n",
              "    .dataframe thead th {\n",
              "        text-align: right;\n",
              "    }\n",
              "</style>\n",
              "<table border=\"1\" class=\"dataframe\">\n",
              "  <thead>\n",
              "    <tr style=\"text-align: right;\">\n",
              "      <th></th>\n",
              "      <th>id</th>\n",
              "      <th>item_id</th>\n",
              "      <th>dept_id</th>\n",
              "      <th>cat_id</th>\n",
              "      <th>store_id</th>\n",
              "      <th>state_id</th>\n",
              "      <th>d_1</th>\n",
              "      <th>d_2</th>\n",
              "      <th>d_3</th>\n",
              "      <th>d_4</th>\n",
              "      <th>...</th>\n",
              "      <th>d_1904</th>\n",
              "      <th>d_1905</th>\n",
              "      <th>d_1906</th>\n",
              "      <th>d_1907</th>\n",
              "      <th>d_1908</th>\n",
              "      <th>d_1909</th>\n",
              "      <th>d_1910</th>\n",
              "      <th>d_1911</th>\n",
              "      <th>d_1912</th>\n",
              "      <th>d_1913</th>\n",
              "    </tr>\n",
              "  </thead>\n",
              "  <tbody>\n",
              "    <tr>\n",
              "      <th>0</th>\n",
              "      <td>HOBBIES_1_001_CA_1_validation</td>\n",
              "      <td>HOBBIES_1_001</td>\n",
              "      <td>HOBBIES_1</td>\n",
              "      <td>HOBBIES</td>\n",
              "      <td>CA_1</td>\n",
              "      <td>CA</td>\n",
              "      <td>0</td>\n",
              "      <td>0</td>\n",
              "      <td>0</td>\n",
              "      <td>0</td>\n",
              "      <td>...</td>\n",
              "      <td>1</td>\n",
              "      <td>3</td>\n",
              "      <td>0</td>\n",
              "      <td>1</td>\n",
              "      <td>1</td>\n",
              "      <td>1</td>\n",
              "      <td>3</td>\n",
              "      <td>0</td>\n",
              "      <td>1</td>\n",
              "      <td>1</td>\n",
              "    </tr>\n",
              "    <tr>\n",
              "      <th>1</th>\n",
              "      <td>HOBBIES_1_002_CA_1_validation</td>\n",
              "      <td>HOBBIES_1_002</td>\n",
              "      <td>HOBBIES_1</td>\n",
              "      <td>HOBBIES</td>\n",
              "      <td>CA_1</td>\n",
              "      <td>CA</td>\n",
              "      <td>0</td>\n",
              "      <td>0</td>\n",
              "      <td>0</td>\n",
              "      <td>0</td>\n",
              "      <td>...</td>\n",
              "      <td>0</td>\n",
              "      <td>0</td>\n",
              "      <td>0</td>\n",
              "      <td>0</td>\n",
              "      <td>0</td>\n",
              "      <td>1</td>\n",
              "      <td>0</td>\n",
              "      <td>0</td>\n",
              "      <td>0</td>\n",
              "      <td>0</td>\n",
              "    </tr>\n",
              "    <tr>\n",
              "      <th>2</th>\n",
              "      <td>HOBBIES_1_003_CA_1_validation</td>\n",
              "      <td>HOBBIES_1_003</td>\n",
              "      <td>HOBBIES_1</td>\n",
              "      <td>HOBBIES</td>\n",
              "      <td>CA_1</td>\n",
              "      <td>CA</td>\n",
              "      <td>0</td>\n",
              "      <td>0</td>\n",
              "      <td>0</td>\n",
              "      <td>0</td>\n",
              "      <td>...</td>\n",
              "      <td>2</td>\n",
              "      <td>1</td>\n",
              "      <td>2</td>\n",
              "      <td>1</td>\n",
              "      <td>1</td>\n",
              "      <td>1</td>\n",
              "      <td>0</td>\n",
              "      <td>1</td>\n",
              "      <td>1</td>\n",
              "      <td>1</td>\n",
              "    </tr>\n",
              "    <tr>\n",
              "      <th>3</th>\n",
              "      <td>HOBBIES_1_004_CA_1_validation</td>\n",
              "      <td>HOBBIES_1_004</td>\n",
              "      <td>HOBBIES_1</td>\n",
              "      <td>HOBBIES</td>\n",
              "      <td>CA_1</td>\n",
              "      <td>CA</td>\n",
              "      <td>0</td>\n",
              "      <td>0</td>\n",
              "      <td>0</td>\n",
              "      <td>0</td>\n",
              "      <td>...</td>\n",
              "      <td>1</td>\n",
              "      <td>0</td>\n",
              "      <td>5</td>\n",
              "      <td>4</td>\n",
              "      <td>1</td>\n",
              "      <td>0</td>\n",
              "      <td>1</td>\n",
              "      <td>3</td>\n",
              "      <td>7</td>\n",
              "      <td>2</td>\n",
              "    </tr>\n",
              "    <tr>\n",
              "      <th>4</th>\n",
              "      <td>HOBBIES_1_005_CA_1_validation</td>\n",
              "      <td>HOBBIES_1_005</td>\n",
              "      <td>HOBBIES_1</td>\n",
              "      <td>HOBBIES</td>\n",
              "      <td>CA_1</td>\n",
              "      <td>CA</td>\n",
              "      <td>0</td>\n",
              "      <td>0</td>\n",
              "      <td>0</td>\n",
              "      <td>0</td>\n",
              "      <td>...</td>\n",
              "      <td>2</td>\n",
              "      <td>1</td>\n",
              "      <td>1</td>\n",
              "      <td>0</td>\n",
              "      <td>1</td>\n",
              "      <td>1</td>\n",
              "      <td>2</td>\n",
              "      <td>2</td>\n",
              "      <td>2</td>\n",
              "      <td>4</td>\n",
              "    </tr>\n",
              "  </tbody>\n",
              "</table>\n",
              "<p>5 rows × 1919 columns</p>\n",
              "</div>"
            ],
            "text/plain": [
              "                              id        item_id    dept_id   cat_id store_id  \\\n",
              "0  HOBBIES_1_001_CA_1_validation  HOBBIES_1_001  HOBBIES_1  HOBBIES     CA_1   \n",
              "1  HOBBIES_1_002_CA_1_validation  HOBBIES_1_002  HOBBIES_1  HOBBIES     CA_1   \n",
              "2  HOBBIES_1_003_CA_1_validation  HOBBIES_1_003  HOBBIES_1  HOBBIES     CA_1   \n",
              "3  HOBBIES_1_004_CA_1_validation  HOBBIES_1_004  HOBBIES_1  HOBBIES     CA_1   \n",
              "4  HOBBIES_1_005_CA_1_validation  HOBBIES_1_005  HOBBIES_1  HOBBIES     CA_1   \n",
              "\n",
              "  state_id  d_1  d_2  d_3  d_4  ...  d_1904  d_1905  d_1906  d_1907  d_1908  \\\n",
              "0       CA    0    0    0    0  ...       1       3       0       1       1   \n",
              "1       CA    0    0    0    0  ...       0       0       0       0       0   \n",
              "2       CA    0    0    0    0  ...       2       1       2       1       1   \n",
              "3       CA    0    0    0    0  ...       1       0       5       4       1   \n",
              "4       CA    0    0    0    0  ...       2       1       1       0       1   \n",
              "\n",
              "   d_1909  d_1910  d_1911  d_1912  d_1913  \n",
              "0       1       3       0       1       1  \n",
              "1       1       0       0       0       0  \n",
              "2       1       0       1       1       1  \n",
              "3       0       1       3       7       2  \n",
              "4       1       2       2       2       4  \n",
              "\n",
              "[5 rows x 1919 columns]"
            ]
          },
          "metadata": {},
          "output_type": "display_data"
        },
        {
          "name": "stdout",
          "output_type": "stream",
          "text": [
            "Info:\n",
            "<class 'pandas.core.frame.DataFrame'>\n",
            "RangeIndex: 30490 entries, 0 to 30489\n",
            "Columns: 1919 entries, id to d_1913\n",
            "dtypes: int64(1913), object(6)\n",
            "memory usage: 446.4+ MB\n",
            "None\n",
            "Number of null data points:\n",
            "Series([], dtype: int64)\n"
          ]
        }
      ],
      "source": [
        "display_df(df = sales_train_valid, message = \"sales_train_valid\")"
      ]
    },
    {
      "cell_type": "code",
      "execution_count": null,
      "metadata": {
        "id": "vHVe8Pfbl3nD",
        "outputId": "7f596e53-bded-4e54-c271-1f4ad2efb8e2"
      },
      "outputs": [
        {
          "name": "stdout",
          "output_type": "stream",
          "text": [
            "Dataframe: sales_train_eval\n",
            "num_rows = 30,490 \n",
            "num_cols = 1,947\n"
          ]
        },
        {
          "data": {
            "text/html": [
              "<div>\n",
              "<style scoped>\n",
              "    .dataframe tbody tr th:only-of-type {\n",
              "        vertical-align: middle;\n",
              "    }\n",
              "\n",
              "    .dataframe tbody tr th {\n",
              "        vertical-align: top;\n",
              "    }\n",
              "\n",
              "    .dataframe thead th {\n",
              "        text-align: right;\n",
              "    }\n",
              "</style>\n",
              "<table border=\"1\" class=\"dataframe\">\n",
              "  <thead>\n",
              "    <tr style=\"text-align: right;\">\n",
              "      <th></th>\n",
              "      <th>id</th>\n",
              "      <th>item_id</th>\n",
              "      <th>dept_id</th>\n",
              "      <th>cat_id</th>\n",
              "      <th>store_id</th>\n",
              "      <th>state_id</th>\n",
              "      <th>d_1</th>\n",
              "      <th>d_2</th>\n",
              "      <th>d_3</th>\n",
              "      <th>d_4</th>\n",
              "      <th>...</th>\n",
              "      <th>d_1932</th>\n",
              "      <th>d_1933</th>\n",
              "      <th>d_1934</th>\n",
              "      <th>d_1935</th>\n",
              "      <th>d_1936</th>\n",
              "      <th>d_1937</th>\n",
              "      <th>d_1938</th>\n",
              "      <th>d_1939</th>\n",
              "      <th>d_1940</th>\n",
              "      <th>d_1941</th>\n",
              "    </tr>\n",
              "  </thead>\n",
              "  <tbody>\n",
              "    <tr>\n",
              "      <th>0</th>\n",
              "      <td>HOBBIES_1_001_CA_1_evaluation</td>\n",
              "      <td>HOBBIES_1_001</td>\n",
              "      <td>HOBBIES_1</td>\n",
              "      <td>HOBBIES</td>\n",
              "      <td>CA_1</td>\n",
              "      <td>CA</td>\n",
              "      <td>0</td>\n",
              "      <td>0</td>\n",
              "      <td>0</td>\n",
              "      <td>0</td>\n",
              "      <td>...</td>\n",
              "      <td>2</td>\n",
              "      <td>4</td>\n",
              "      <td>0</td>\n",
              "      <td>0</td>\n",
              "      <td>0</td>\n",
              "      <td>0</td>\n",
              "      <td>3</td>\n",
              "      <td>3</td>\n",
              "      <td>0</td>\n",
              "      <td>1</td>\n",
              "    </tr>\n",
              "    <tr>\n",
              "      <th>1</th>\n",
              "      <td>HOBBIES_1_002_CA_1_evaluation</td>\n",
              "      <td>HOBBIES_1_002</td>\n",
              "      <td>HOBBIES_1</td>\n",
              "      <td>HOBBIES</td>\n",
              "      <td>CA_1</td>\n",
              "      <td>CA</td>\n",
              "      <td>0</td>\n",
              "      <td>0</td>\n",
              "      <td>0</td>\n",
              "      <td>0</td>\n",
              "      <td>...</td>\n",
              "      <td>0</td>\n",
              "      <td>1</td>\n",
              "      <td>2</td>\n",
              "      <td>1</td>\n",
              "      <td>1</td>\n",
              "      <td>0</td>\n",
              "      <td>0</td>\n",
              "      <td>0</td>\n",
              "      <td>0</td>\n",
              "      <td>0</td>\n",
              "    </tr>\n",
              "    <tr>\n",
              "      <th>2</th>\n",
              "      <td>HOBBIES_1_003_CA_1_evaluation</td>\n",
              "      <td>HOBBIES_1_003</td>\n",
              "      <td>HOBBIES_1</td>\n",
              "      <td>HOBBIES</td>\n",
              "      <td>CA_1</td>\n",
              "      <td>CA</td>\n",
              "      <td>0</td>\n",
              "      <td>0</td>\n",
              "      <td>0</td>\n",
              "      <td>0</td>\n",
              "      <td>...</td>\n",
              "      <td>1</td>\n",
              "      <td>0</td>\n",
              "      <td>2</td>\n",
              "      <td>0</td>\n",
              "      <td>0</td>\n",
              "      <td>0</td>\n",
              "      <td>2</td>\n",
              "      <td>3</td>\n",
              "      <td>0</td>\n",
              "      <td>1</td>\n",
              "    </tr>\n",
              "    <tr>\n",
              "      <th>3</th>\n",
              "      <td>HOBBIES_1_004_CA_1_evaluation</td>\n",
              "      <td>HOBBIES_1_004</td>\n",
              "      <td>HOBBIES_1</td>\n",
              "      <td>HOBBIES</td>\n",
              "      <td>CA_1</td>\n",
              "      <td>CA</td>\n",
              "      <td>0</td>\n",
              "      <td>0</td>\n",
              "      <td>0</td>\n",
              "      <td>0</td>\n",
              "      <td>...</td>\n",
              "      <td>1</td>\n",
              "      <td>1</td>\n",
              "      <td>0</td>\n",
              "      <td>4</td>\n",
              "      <td>0</td>\n",
              "      <td>1</td>\n",
              "      <td>3</td>\n",
              "      <td>0</td>\n",
              "      <td>2</td>\n",
              "      <td>6</td>\n",
              "    </tr>\n",
              "    <tr>\n",
              "      <th>4</th>\n",
              "      <td>HOBBIES_1_005_CA_1_evaluation</td>\n",
              "      <td>HOBBIES_1_005</td>\n",
              "      <td>HOBBIES_1</td>\n",
              "      <td>HOBBIES</td>\n",
              "      <td>CA_1</td>\n",
              "      <td>CA</td>\n",
              "      <td>0</td>\n",
              "      <td>0</td>\n",
              "      <td>0</td>\n",
              "      <td>0</td>\n",
              "      <td>...</td>\n",
              "      <td>0</td>\n",
              "      <td>0</td>\n",
              "      <td>0</td>\n",
              "      <td>2</td>\n",
              "      <td>1</td>\n",
              "      <td>0</td>\n",
              "      <td>0</td>\n",
              "      <td>2</td>\n",
              "      <td>1</td>\n",
              "      <td>0</td>\n",
              "    </tr>\n",
              "  </tbody>\n",
              "</table>\n",
              "<p>5 rows × 1947 columns</p>\n",
              "</div>"
            ],
            "text/plain": [
              "                              id        item_id    dept_id   cat_id store_id  \\\n",
              "0  HOBBIES_1_001_CA_1_evaluation  HOBBIES_1_001  HOBBIES_1  HOBBIES     CA_1   \n",
              "1  HOBBIES_1_002_CA_1_evaluation  HOBBIES_1_002  HOBBIES_1  HOBBIES     CA_1   \n",
              "2  HOBBIES_1_003_CA_1_evaluation  HOBBIES_1_003  HOBBIES_1  HOBBIES     CA_1   \n",
              "3  HOBBIES_1_004_CA_1_evaluation  HOBBIES_1_004  HOBBIES_1  HOBBIES     CA_1   \n",
              "4  HOBBIES_1_005_CA_1_evaluation  HOBBIES_1_005  HOBBIES_1  HOBBIES     CA_1   \n",
              "\n",
              "  state_id  d_1  d_2  d_3  d_4  ...  d_1932  d_1933  d_1934  d_1935  d_1936  \\\n",
              "0       CA    0    0    0    0  ...       2       4       0       0       0   \n",
              "1       CA    0    0    0    0  ...       0       1       2       1       1   \n",
              "2       CA    0    0    0    0  ...       1       0       2       0       0   \n",
              "3       CA    0    0    0    0  ...       1       1       0       4       0   \n",
              "4       CA    0    0    0    0  ...       0       0       0       2       1   \n",
              "\n",
              "   d_1937  d_1938  d_1939  d_1940  d_1941  \n",
              "0       0       3       3       0       1  \n",
              "1       0       0       0       0       0  \n",
              "2       0       2       3       0       1  \n",
              "3       1       3       0       2       6  \n",
              "4       0       0       2       1       0  \n",
              "\n",
              "[5 rows x 1947 columns]"
            ]
          },
          "metadata": {},
          "output_type": "display_data"
        },
        {
          "name": "stdout",
          "output_type": "stream",
          "text": [
            "Info:\n",
            "<class 'pandas.core.frame.DataFrame'>\n",
            "RangeIndex: 30490 entries, 0 to 30489\n",
            "Columns: 1947 entries, id to d_1941\n",
            "dtypes: int64(1941), object(6)\n",
            "memory usage: 452.9+ MB\n",
            "None\n",
            "Number of null data points:\n",
            "Series([], dtype: int64)\n"
          ]
        }
      ],
      "source": [
        "display_df(df = sales_train_eval, message = \"sales_train_eval\")"
      ]
    },
    {
      "cell_type": "code",
      "execution_count": null,
      "metadata": {
        "id": "xrYpAxDpl3nD",
        "outputId": "7034ab39-d934-47a8-bd0e-0ffdc97f20e1"
      },
      "outputs": [
        {
          "name": "stdout",
          "output_type": "stream",
          "text": [
            "Dataframe: calendar\n",
            "num_rows = 1,969 \n",
            "num_cols = 14\n"
          ]
        },
        {
          "data": {
            "text/html": [
              "<div>\n",
              "<style scoped>\n",
              "    .dataframe tbody tr th:only-of-type {\n",
              "        vertical-align: middle;\n",
              "    }\n",
              "\n",
              "    .dataframe tbody tr th {\n",
              "        vertical-align: top;\n",
              "    }\n",
              "\n",
              "    .dataframe thead th {\n",
              "        text-align: right;\n",
              "    }\n",
              "</style>\n",
              "<table border=\"1\" class=\"dataframe\">\n",
              "  <thead>\n",
              "    <tr style=\"text-align: right;\">\n",
              "      <th></th>\n",
              "      <th>date</th>\n",
              "      <th>wm_yr_wk</th>\n",
              "      <th>weekday</th>\n",
              "      <th>wday</th>\n",
              "      <th>month</th>\n",
              "      <th>year</th>\n",
              "      <th>d</th>\n",
              "      <th>event_name_1</th>\n",
              "      <th>event_type_1</th>\n",
              "      <th>event_name_2</th>\n",
              "      <th>event_type_2</th>\n",
              "      <th>snap_CA</th>\n",
              "      <th>snap_TX</th>\n",
              "      <th>snap_WI</th>\n",
              "    </tr>\n",
              "  </thead>\n",
              "  <tbody>\n",
              "    <tr>\n",
              "      <th>0</th>\n",
              "      <td>2011-01-29</td>\n",
              "      <td>11101</td>\n",
              "      <td>Saturday</td>\n",
              "      <td>1</td>\n",
              "      <td>1</td>\n",
              "      <td>2011</td>\n",
              "      <td>d_1</td>\n",
              "      <td>NaN</td>\n",
              "      <td>NaN</td>\n",
              "      <td>NaN</td>\n",
              "      <td>NaN</td>\n",
              "      <td>0</td>\n",
              "      <td>0</td>\n",
              "      <td>0</td>\n",
              "    </tr>\n",
              "    <tr>\n",
              "      <th>1</th>\n",
              "      <td>2011-01-30</td>\n",
              "      <td>11101</td>\n",
              "      <td>Sunday</td>\n",
              "      <td>2</td>\n",
              "      <td>1</td>\n",
              "      <td>2011</td>\n",
              "      <td>d_2</td>\n",
              "      <td>NaN</td>\n",
              "      <td>NaN</td>\n",
              "      <td>NaN</td>\n",
              "      <td>NaN</td>\n",
              "      <td>0</td>\n",
              "      <td>0</td>\n",
              "      <td>0</td>\n",
              "    </tr>\n",
              "    <tr>\n",
              "      <th>2</th>\n",
              "      <td>2011-01-31</td>\n",
              "      <td>11101</td>\n",
              "      <td>Monday</td>\n",
              "      <td>3</td>\n",
              "      <td>1</td>\n",
              "      <td>2011</td>\n",
              "      <td>d_3</td>\n",
              "      <td>NaN</td>\n",
              "      <td>NaN</td>\n",
              "      <td>NaN</td>\n",
              "      <td>NaN</td>\n",
              "      <td>0</td>\n",
              "      <td>0</td>\n",
              "      <td>0</td>\n",
              "    </tr>\n",
              "    <tr>\n",
              "      <th>3</th>\n",
              "      <td>2011-02-01</td>\n",
              "      <td>11101</td>\n",
              "      <td>Tuesday</td>\n",
              "      <td>4</td>\n",
              "      <td>2</td>\n",
              "      <td>2011</td>\n",
              "      <td>d_4</td>\n",
              "      <td>NaN</td>\n",
              "      <td>NaN</td>\n",
              "      <td>NaN</td>\n",
              "      <td>NaN</td>\n",
              "      <td>1</td>\n",
              "      <td>1</td>\n",
              "      <td>0</td>\n",
              "    </tr>\n",
              "    <tr>\n",
              "      <th>4</th>\n",
              "      <td>2011-02-02</td>\n",
              "      <td>11101</td>\n",
              "      <td>Wednesday</td>\n",
              "      <td>5</td>\n",
              "      <td>2</td>\n",
              "      <td>2011</td>\n",
              "      <td>d_5</td>\n",
              "      <td>NaN</td>\n",
              "      <td>NaN</td>\n",
              "      <td>NaN</td>\n",
              "      <td>NaN</td>\n",
              "      <td>1</td>\n",
              "      <td>0</td>\n",
              "      <td>1</td>\n",
              "    </tr>\n",
              "  </tbody>\n",
              "</table>\n",
              "</div>"
            ],
            "text/plain": [
              "         date  wm_yr_wk    weekday  wday  month  year    d event_name_1  \\\n",
              "0  2011-01-29     11101   Saturday     1      1  2011  d_1          NaN   \n",
              "1  2011-01-30     11101     Sunday     2      1  2011  d_2          NaN   \n",
              "2  2011-01-31     11101     Monday     3      1  2011  d_3          NaN   \n",
              "3  2011-02-01     11101    Tuesday     4      2  2011  d_4          NaN   \n",
              "4  2011-02-02     11101  Wednesday     5      2  2011  d_5          NaN   \n",
              "\n",
              "  event_type_1 event_name_2 event_type_2  snap_CA  snap_TX  snap_WI  \n",
              "0          NaN          NaN          NaN        0        0        0  \n",
              "1          NaN          NaN          NaN        0        0        0  \n",
              "2          NaN          NaN          NaN        0        0        0  \n",
              "3          NaN          NaN          NaN        1        1        0  \n",
              "4          NaN          NaN          NaN        1        0        1  "
            ]
          },
          "metadata": {},
          "output_type": "display_data"
        },
        {
          "name": "stdout",
          "output_type": "stream",
          "text": [
            "Info:\n",
            "<class 'pandas.core.frame.DataFrame'>\n",
            "RangeIndex: 1969 entries, 0 to 1968\n",
            "Data columns (total 14 columns):\n",
            " #   Column        Non-Null Count  Dtype \n",
            "---  ------        --------------  ----- \n",
            " 0   date          1969 non-null   object\n",
            " 1   wm_yr_wk      1969 non-null   int64 \n",
            " 2   weekday       1969 non-null   object\n",
            " 3   wday          1969 non-null   int64 \n",
            " 4   month         1969 non-null   int64 \n",
            " 5   year          1969 non-null   int64 \n",
            " 6   d             1969 non-null   object\n",
            " 7   event_name_1  162 non-null    object\n",
            " 8   event_type_1  162 non-null    object\n",
            " 9   event_name_2  5 non-null      object\n",
            " 10  event_type_2  5 non-null      object\n",
            " 11  snap_CA       1969 non-null   int64 \n",
            " 12  snap_TX       1969 non-null   int64 \n",
            " 13  snap_WI       1969 non-null   int64 \n",
            "dtypes: int64(7), object(7)\n",
            "memory usage: 215.5+ KB\n",
            "None\n",
            "Number of null data points:\n",
            "event_name_1    1807\n",
            "event_type_1    1807\n",
            "event_name_2    1964\n",
            "event_type_2    1964\n",
            "dtype: int64\n"
          ]
        }
      ],
      "source": [
        "display_df(df = calendar, message = \"calendar\")"
      ]
    },
    {
      "cell_type": "code",
      "execution_count": null,
      "metadata": {
        "id": "P6Cq-T7-l3nE"
      },
      "outputs": [],
      "source": [
        "def reduce_memory_usage(df, category = False):\n",
        "    start_mem = df.memory_usage().sum() / (1024**2)\n",
        "    print(\"Memory usage of dataframe is {:2f} MB!\".format(start_mem))\n",
        "    for col in df.columns:\n",
        "        col_type = df[col].dtype\n",
        "        if col_type != object:\n",
        "            c_min = df[col].min()\n",
        "            c_max = df[col].max()\n",
        "            if str(col_type)[:3] == \"int\":\n",
        "                if c_min > np.iinfo(np.int8).min and c_max < np.iinfo(np.int8).max:\n",
        "                    df[col] = df[col].astype(np.int8)\n",
        "                elif c_min > np.iinfo(np.int16).min and c_max < np.iinfo(np.int16).max:\n",
        "                    df[col] = df[col].astype(np.int16)\n",
        "                elif c_min > np.iinfo(np.int32).min and c_max < np.iinfo(np.int32).max:\n",
        "                    df[col] = df[col].astype(np.int32)\n",
        "                elif c_min > np.iinfo(np.int64).min and c_max < np.iinfo(np.int64).max:\n",
        "                    df[col] = df[col].astype(np.int64)\n",
        "            else:\n",
        "                if c_min > np.finfo(np.float16).min and c_max < np.finfo(np.float16).max:\n",
        "                    df[col] = df[col].astype(np.float16)\n",
        "                elif c_min > np.finfo(np.float32).min and c_max < np.finfo(np.float32).max:\n",
        "                    df[col] = df[col].astype(np.float32)\n",
        "                else:\n",
        "                    df[col] = df[col].astype(np.float64)\n",
        "        else:\n",
        "            if category:\n",
        "                df[col] = df[col].astype(\"category\")\n",
        "    end_mem = df.memory_usage().sum() / (1024**2)\n",
        "    print(\"Memory usage after optimization is {:2f} MB!\".format(end_mem))\n",
        "    print(\"Decreased by {:.1f}%\".format(100 * (start_mem-end_mem) / start_mem))"
      ]
    },
    {
      "cell_type": "code",
      "execution_count": null,
      "metadata": {
        "id": "HojgF7GSl3nG",
        "outputId": "5a39ff3e-ffb2-4457-f179-d542e57733c3"
      },
      "outputs": [
        {
          "name": "stdout",
          "output_type": "stream",
          "text": [
            "Memory usage of dataframe is 242.332260 MB!\n",
            "Memory usage after optimization is 96.130440 MB!\n",
            "Decreased by 60.3%\n"
          ]
        }
      ],
      "source": [
        "reduce_memory_usage(df = sales_train_eval, category = False)"
      ]
    },
    {
      "cell_type": "code",
      "execution_count": null,
      "metadata": {
        "id": "2RC7cyUel3nG",
        "outputId": "9ef9b945-eab6-4a74-a56b-2454d414aeb7"
      },
      "outputs": [
        {
          "name": "stdout",
          "output_type": "stream",
          "text": [
            "Memory usage of dataframe is 0.122182 MB!\n",
            "Memory usage after optimization is 0.122182 MB!\n",
            "Decreased by 0.0%\n"
          ]
        }
      ],
      "source": [
        "reduce_memory_usage(df = calendar, category = False)"
      ]
    },
    {
      "cell_type": "code",
      "execution_count": null,
      "metadata": {
        "id": "gaFYFHPnl3nH",
        "outputId": "f190509f-3886-41e6-b8b4-3a9d998863a3"
      },
      "outputs": [
        {
          "name": "stdout",
          "output_type": "stream",
          "text": [
            "Memory usage of dataframe is 130.484154 MB!\n",
            "Memory usage after optimization is 130.484154 MB!\n",
            "Decreased by 0.0%\n"
          ]
        }
      ],
      "source": [
        "reduce_memory_usage(df = sell_prices, category = False)"
      ]
    },
    {
      "cell_type": "code",
      "execution_count": null,
      "metadata": {
        "id": "MQi__Tlll3nH",
        "outputId": "7128dc2b-8d6c-4a13-db01-c975f7753ec8"
      },
      "outputs": [
        {
          "name": "stdout",
          "output_type": "stream",
          "text": [
            "Memory usage of dataframe is 428.137676 MB!\n",
            "Memory usage after optimization is 94.996416 MB!\n",
            "Decreased by 77.8%\n"
          ]
        }
      ],
      "source": [
        "reduce_memory_usage(df = sales_train_valid, category = False)"
      ]
    },
    {
      "cell_type": "code",
      "execution_count": null,
      "metadata": {
        "id": "GsY_suB6l3nH",
        "outputId": "9259646d-af8b-48e7-d6fd-f53a7e67f53c"
      },
      "outputs": [
        {
          "data": {
            "text/plain": [
              "74854"
            ]
          },
          "execution_count": 179,
          "metadata": {},
          "output_type": "execute_result"
        }
      ],
      "source": [
        "gc.collect()"
      ]
    },
    {
      "cell_type": "code",
      "execution_count": null,
      "metadata": {
        "id": "4-LjEW7Ll3nI"
      },
      "outputs": [],
      "source": [
        "def create_series_data(df, calendar, sell_prices, include_events = False):\n",
        "    df_one = pd.melt(df,\n",
        "                      id_vars = [\"id\", \"item_id\", \"dept_id\", \"cat_id\", \"store_id\", \"state_id\"],\n",
        "                      var_name = \"day\",\n",
        "                      value_name = \"sales\").dropna()\n",
        "    df_two = df_one.merge(calendar, left_on = \"day\", right_on = \"d\", how = \"left\")\n",
        "    if include_events:\n",
        "        df_three = df_two[[\"id\", \"item_id\", \"dept_id\", \"cat_id\", \"store_id\",\n",
        "                           \"state_id\", \"day\", \"sales\", \"date\", \"wm_yr_wk\",\n",
        "                           \"event_name_1\", \"event_type_1\", \"event_name_2\",\n",
        "                           \"event_type_2\"]]\n",
        "    else:\n",
        "        df_three = df_two[[\"id\", \"item_id\", \"dept_id\", \"cat_id\", \"store_id\",\n",
        "                           \"state_id\", \"day\", \"sales\", \"date\", \"wm_yr_wk\"]]\n",
        "    df_four = df_three.merge(sell_prices, on=[\"store_id\", \"item_id\", \"wm_yr_wk\"],\n",
        "                             how=\"left\")\n",
        "    return df_four"
      ]
    },
    {
      "cell_type": "code",
      "execution_count": null,
      "metadata": {
        "id": "Z8ymx9fZl3nI",
        "outputId": "7c40d6ac-947d-4394-8f76-109d76bfc45b"
      },
      "outputs": [
        {
          "name": "stdout",
          "output_type": "stream",
          "text": [
            "iter = 0 0\n",
            "/Users/ariahosseini/Desktop/Notebooks/walmart/val_data_valTrue.pkl\n",
            "loading /Users/ariahosseini/Desktop/Notebooks/walmart/val_data_valTrue.pkl\n",
            "iter = 0 1\n",
            "/Users/ariahosseini/Desktop/Notebooks/walmart/val_data_evalTrue.pkl\n",
            "loading /Users/ariahosseini/Desktop/Notebooks/walmart/val_data_evalTrue.pkl\n",
            "iter = 1 0\n",
            "/Users/ariahosseini/Desktop/Notebooks/walmart/val_data_valFalse.pkl\n",
            "loading /Users/ariahosseini/Desktop/Notebooks/walmart/val_data_valFalse.pkl\n",
            "iter = 1 1\n",
            "/Users/ariahosseini/Desktop/Notebooks/walmart/val_data_evalFalse.pkl\n",
            "loading /Users/ariahosseini/Desktop/Notebooks/walmart/val_data_evalFalse.pkl\n"
          ]
        },
        {
          "data": {
            "text/plain": [
              "1317"
            ]
          },
          "execution_count": 186,
          "metadata": {},
          "output_type": "execute_result"
        }
      ],
      "source": [
        "def get_val_data(sales_train_valid, calendar, sell_prices, include_events, data=\"val\"):\n",
        "    pickle_file = data_dir + \"val_data_{}{}.pkl\".format(data, include_events)\n",
        "    print(pickle_file)\n",
        "    if os.path.exists(pickle_file):\n",
        "        print(\"loading {}\".format(pickle_file))\n",
        "        val_data = pickle.load(open(pickle_file, \"rb\"))\n",
        "    else:\n",
        "        val_data = create_series_data(sales_train_valid,\n",
        "                                      calendar, sell_prices, include_events)\n",
        "        pickle.dump(val_data, open(pickle_file, \"wb\"))\n",
        "    return val_data\n",
        "\n",
        "all_include_events = [True, False]\n",
        "all_data_types = [\"val\", \"eval\"]\n",
        "stv = sales_train_valid\n",
        "for i in [0,1]:\n",
        "    for j in [0,1]:\n",
        "        stv = sales_train_valid\n",
        "        if j== 1:\n",
        "            stv = sales_train_eval\n",
        "        print(\"iter = {} {}\".format(i,j))\n",
        "        val_data = get_val_data(stv, calendar, sell_prices,\n",
        "                                all_include_events[i], all_data_types[j])\n",
        "gc.collect()"
      ]
    },
    {
      "cell_type": "code",
      "execution_count": null,
      "metadata": {
        "id": "hhJQsc_tl3nI",
        "outputId": "b65724a8-eda5-4991-d91f-fbb8f6c2e46d"
      },
      "outputs": [
        {
          "name": "stdout",
          "output_type": "stream",
          "text": [
            "/Users/ariahosseini/Desktop/Notebooks/walmart/val_data_valFalse.pkl\n",
            "loading /Users/ariahosseini/Desktop/Notebooks/walmart/val_data_valFalse.pkl\n"
          ]
        }
      ],
      "source": [
        "val_data = get_val_data(sales_train_valid, calendar, sell_prices, False, \"val\")"
      ]
    },
    {
      "cell_type": "code",
      "execution_count": null,
      "metadata": {
        "id": "MCdQB3gfl3nI"
      },
      "outputs": [],
      "source": [
        "def summarize_columns(df):\n",
        "    num_rows = len(df)\n",
        "    summary = pd.DataFrame(df.dtypes, columns=[\"dtypes\"])\n",
        "    summary = summary.reset_index()\n",
        "    summary[\"col_name\"] = summary[\"index\"]\n",
        "    summary = summary[[\"col_name\", \"dtypes\"]]\n",
        "    summary[\"missing\"] = df.isnull().sum().values\n",
        "    summary[\"missing_percent\"] = summary[\"missing\"].apply(lambda x: round(x*1000/num_rows, 1))\n",
        "    summary[\"uniques\"] = df.nunique().values\n",
        "    summary[\"first_value\"] = df.iloc[0].values\n",
        "    summary[\"second_value\"] = df.iloc[1].values\n",
        "    summary[\"third_value\"] = df.iloc[2].values\n",
        "    return summary"
      ]
    },
    {
      "cell_type": "code",
      "execution_count": null,
      "metadata": {
        "id": "WVutzCk3l3nJ",
        "outputId": "d3e945c9-e150-4e9e-9f95-ac4366e845ec"
      },
      "outputs": [
        {
          "data": {
            "text/html": [
              "<div>\n",
              "<style scoped>\n",
              "    .dataframe tbody tr th:only-of-type {\n",
              "        vertical-align: middle;\n",
              "    }\n",
              "\n",
              "    .dataframe tbody tr th {\n",
              "        vertical-align: top;\n",
              "    }\n",
              "\n",
              "    .dataframe thead th {\n",
              "        text-align: right;\n",
              "    }\n",
              "</style>\n",
              "<table border=\"1\" class=\"dataframe\">\n",
              "  <thead>\n",
              "    <tr style=\"text-align: right;\">\n",
              "      <th></th>\n",
              "      <th>col_name</th>\n",
              "      <th>dtypes</th>\n",
              "      <th>missing</th>\n",
              "      <th>missing_percent</th>\n",
              "      <th>uniques</th>\n",
              "      <th>first_value</th>\n",
              "      <th>second_value</th>\n",
              "      <th>third_value</th>\n",
              "    </tr>\n",
              "  </thead>\n",
              "  <tbody>\n",
              "    <tr>\n",
              "      <th>0</th>\n",
              "      <td>id</td>\n",
              "      <td>object</td>\n",
              "      <td>0</td>\n",
              "      <td>0.0</td>\n",
              "      <td>30490</td>\n",
              "      <td>HOBBIES_1_001_CA_1_validation</td>\n",
              "      <td>HOBBIES_1_002_CA_1_validation</td>\n",
              "      <td>HOBBIES_1_003_CA_1_validation</td>\n",
              "    </tr>\n",
              "    <tr>\n",
              "      <th>1</th>\n",
              "      <td>item_id</td>\n",
              "      <td>object</td>\n",
              "      <td>0</td>\n",
              "      <td>0.0</td>\n",
              "      <td>3049</td>\n",
              "      <td>HOBBIES_1_001</td>\n",
              "      <td>HOBBIES_1_002</td>\n",
              "      <td>HOBBIES_1_003</td>\n",
              "    </tr>\n",
              "    <tr>\n",
              "      <th>2</th>\n",
              "      <td>dept_id</td>\n",
              "      <td>object</td>\n",
              "      <td>0</td>\n",
              "      <td>0.0</td>\n",
              "      <td>7</td>\n",
              "      <td>HOBBIES_1</td>\n",
              "      <td>HOBBIES_1</td>\n",
              "      <td>HOBBIES_1</td>\n",
              "    </tr>\n",
              "    <tr>\n",
              "      <th>3</th>\n",
              "      <td>cat_id</td>\n",
              "      <td>object</td>\n",
              "      <td>0</td>\n",
              "      <td>0.0</td>\n",
              "      <td>3</td>\n",
              "      <td>HOBBIES</td>\n",
              "      <td>HOBBIES</td>\n",
              "      <td>HOBBIES</td>\n",
              "    </tr>\n",
              "    <tr>\n",
              "      <th>4</th>\n",
              "      <td>store_id</td>\n",
              "      <td>object</td>\n",
              "      <td>0</td>\n",
              "      <td>0.0</td>\n",
              "      <td>10</td>\n",
              "      <td>CA_1</td>\n",
              "      <td>CA_1</td>\n",
              "      <td>CA_1</td>\n",
              "    </tr>\n",
              "  </tbody>\n",
              "</table>\n",
              "</div>"
            ],
            "text/plain": [
              "   col_name  dtypes  missing  missing_percent  uniques  \\\n",
              "0        id  object        0              0.0    30490   \n",
              "1   item_id  object        0              0.0     3049   \n",
              "2   dept_id  object        0              0.0        7   \n",
              "3    cat_id  object        0              0.0        3   \n",
              "4  store_id  object        0              0.0       10   \n",
              "\n",
              "                     first_value                   second_value  \\\n",
              "0  HOBBIES_1_001_CA_1_validation  HOBBIES_1_002_CA_1_validation   \n",
              "1                  HOBBIES_1_001                  HOBBIES_1_002   \n",
              "2                      HOBBIES_1                      HOBBIES_1   \n",
              "3                        HOBBIES                        HOBBIES   \n",
              "4                           CA_1                           CA_1   \n",
              "\n",
              "                     third_value  \n",
              "0  HOBBIES_1_003_CA_1_validation  \n",
              "1                  HOBBIES_1_003  \n",
              "2                      HOBBIES_1  \n",
              "3                        HOBBIES  \n",
              "4                           CA_1  "
            ]
          },
          "execution_count": 191,
          "metadata": {},
          "output_type": "execute_result"
        }
      ],
      "source": [
        "summary_df = summarize_columns(val_data)\n",
        "summary_df.head()"
      ]
    },
    {
      "cell_type": "code",
      "execution_count": null,
      "metadata": {
        "id": "G_-175znl3nJ",
        "outputId": "7fe33e00-a1b4-4452-b16f-73c1c8471d10"
      },
      "outputs": [
        {
          "data": {
            "text/html": [
              "<div>\n",
              "<style scoped>\n",
              "    .dataframe tbody tr th:only-of-type {\n",
              "        vertical-align: middle;\n",
              "    }\n",
              "\n",
              "    .dataframe tbody tr th {\n",
              "        vertical-align: top;\n",
              "    }\n",
              "\n",
              "    .dataframe thead th {\n",
              "        text-align: right;\n",
              "    }\n",
              "</style>\n",
              "<table border=\"1\" class=\"dataframe\">\n",
              "  <thead>\n",
              "    <tr style=\"text-align: right;\">\n",
              "      <th></th>\n",
              "      <th>state_id</th>\n",
              "      <th>sales</th>\n",
              "    </tr>\n",
              "  </thead>\n",
              "  <tbody>\n",
              "    <tr>\n",
              "      <th>0</th>\n",
              "      <td>CA</td>\n",
              "      <td>28675547</td>\n",
              "    </tr>\n",
              "    <tr>\n",
              "      <th>1</th>\n",
              "      <td>TX</td>\n",
              "      <td>18899006</td>\n",
              "    </tr>\n",
              "    <tr>\n",
              "      <th>2</th>\n",
              "      <td>WI</td>\n",
              "      <td>18120856</td>\n",
              "    </tr>\n",
              "  </tbody>\n",
              "</table>\n",
              "</div>"
            ],
            "text/plain": [
              "  state_id     sales\n",
              "0       CA  28675547\n",
              "1       TX  18899006\n",
              "2       WI  18120856"
            ]
          },
          "metadata": {},
          "output_type": "display_data"
        },
        {
          "data": {
            "text/html": [
              "<div>\n",
              "<style scoped>\n",
              "    .dataframe tbody tr th:only-of-type {\n",
              "        vertical-align: middle;\n",
              "    }\n",
              "\n",
              "    .dataframe tbody tr th {\n",
              "        vertical-align: top;\n",
              "    }\n",
              "\n",
              "    .dataframe thead th {\n",
              "        text-align: right;\n",
              "    }\n",
              "</style>\n",
              "<table border=\"1\" class=\"dataframe\">\n",
              "  <thead>\n",
              "    <tr style=\"text-align: right;\">\n",
              "      <th></th>\n",
              "      <th>store_id</th>\n",
              "      <th>sales</th>\n",
              "    </tr>\n",
              "  </thead>\n",
              "  <tbody>\n",
              "    <tr>\n",
              "      <th>0</th>\n",
              "      <td>CA_1</td>\n",
              "      <td>7698216</td>\n",
              "    </tr>\n",
              "    <tr>\n",
              "      <th>1</th>\n",
              "      <td>CA_2</td>\n",
              "      <td>5685475</td>\n",
              "    </tr>\n",
              "    <tr>\n",
              "      <th>2</th>\n",
              "      <td>CA_3</td>\n",
              "      <td>11188180</td>\n",
              "    </tr>\n",
              "    <tr>\n",
              "      <th>3</th>\n",
              "      <td>CA_4</td>\n",
              "      <td>4103676</td>\n",
              "    </tr>\n",
              "    <tr>\n",
              "      <th>4</th>\n",
              "      <td>TX_1</td>\n",
              "      <td>5595292</td>\n",
              "    </tr>\n",
              "    <tr>\n",
              "      <th>5</th>\n",
              "      <td>TX_2</td>\n",
              "      <td>7214384</td>\n",
              "    </tr>\n",
              "    <tr>\n",
              "      <th>6</th>\n",
              "      <td>TX_3</td>\n",
              "      <td>6089330</td>\n",
              "    </tr>\n",
              "    <tr>\n",
              "      <th>7</th>\n",
              "      <td>WI_1</td>\n",
              "      <td>5149062</td>\n",
              "    </tr>\n",
              "    <tr>\n",
              "      <th>8</th>\n",
              "      <td>WI_2</td>\n",
              "      <td>6544012</td>\n",
              "    </tr>\n",
              "    <tr>\n",
              "      <th>9</th>\n",
              "      <td>WI_3</td>\n",
              "      <td>6427782</td>\n",
              "    </tr>\n",
              "  </tbody>\n",
              "</table>\n",
              "</div>"
            ],
            "text/plain": [
              "  store_id     sales\n",
              "0     CA_1   7698216\n",
              "1     CA_2   5685475\n",
              "2     CA_3  11188180\n",
              "3     CA_4   4103676\n",
              "4     TX_1   5595292\n",
              "5     TX_2   7214384\n",
              "6     TX_3   6089330\n",
              "7     WI_1   5149062\n",
              "8     WI_2   6544012\n",
              "9     WI_3   6427782"
            ]
          },
          "metadata": {},
          "output_type": "display_data"
        },
        {
          "data": {
            "text/html": [
              "<div>\n",
              "<style scoped>\n",
              "    .dataframe tbody tr th:only-of-type {\n",
              "        vertical-align: middle;\n",
              "    }\n",
              "\n",
              "    .dataframe tbody tr th {\n",
              "        vertical-align: top;\n",
              "    }\n",
              "\n",
              "    .dataframe thead th {\n",
              "        text-align: right;\n",
              "    }\n",
              "</style>\n",
              "<table border=\"1\" class=\"dataframe\">\n",
              "  <thead>\n",
              "    <tr style=\"text-align: right;\">\n",
              "      <th></th>\n",
              "      <th>dept_id</th>\n",
              "      <th>sales</th>\n",
              "    </tr>\n",
              "  </thead>\n",
              "  <tbody>\n",
              "    <tr>\n",
              "      <th>0</th>\n",
              "      <td>FOODS_1</td>\n",
              "      <td>5088041</td>\n",
              "    </tr>\n",
              "    <tr>\n",
              "      <th>1</th>\n",
              "      <td>FOODS_2</td>\n",
              "      <td>7629822</td>\n",
              "    </tr>\n",
              "    <tr>\n",
              "      <th>2</th>\n",
              "      <td>FOODS_3</td>\n",
              "      <td>32372076</td>\n",
              "    </tr>\n",
              "    <tr>\n",
              "      <th>3</th>\n",
              "      <td>HOBBIES_1</td>\n",
              "      <td>5596460</td>\n",
              "    </tr>\n",
              "    <tr>\n",
              "      <th>4</th>\n",
              "      <td>HOBBIES_2</td>\n",
              "      <td>528340</td>\n",
              "    </tr>\n",
              "    <tr>\n",
              "      <th>5</th>\n",
              "      <td>HOUSEHOLD_1</td>\n",
              "      <td>11500526</td>\n",
              "    </tr>\n",
              "    <tr>\n",
              "      <th>6</th>\n",
              "      <td>HOUSEHOLD_2</td>\n",
              "      <td>2980144</td>\n",
              "    </tr>\n",
              "  </tbody>\n",
              "</table>\n",
              "</div>"
            ],
            "text/plain": [
              "       dept_id     sales\n",
              "0      FOODS_1   5088041\n",
              "1      FOODS_2   7629822\n",
              "2      FOODS_3  32372076\n",
              "3    HOBBIES_1   5596460\n",
              "4    HOBBIES_2    528340\n",
              "5  HOUSEHOLD_1  11500526\n",
              "6  HOUSEHOLD_2   2980144"
            ]
          },
          "metadata": {},
          "output_type": "display_data"
        },
        {
          "data": {
            "text/html": [
              "<div>\n",
              "<style scoped>\n",
              "    .dataframe tbody tr th:only-of-type {\n",
              "        vertical-align: middle;\n",
              "    }\n",
              "\n",
              "    .dataframe tbody tr th {\n",
              "        vertical-align: top;\n",
              "    }\n",
              "\n",
              "    .dataframe thead th {\n",
              "        text-align: right;\n",
              "    }\n",
              "</style>\n",
              "<table border=\"1\" class=\"dataframe\">\n",
              "  <thead>\n",
              "    <tr style=\"text-align: right;\">\n",
              "      <th></th>\n",
              "      <th>cat_id</th>\n",
              "      <th>sales</th>\n",
              "    </tr>\n",
              "  </thead>\n",
              "  <tbody>\n",
              "    <tr>\n",
              "      <th>0</th>\n",
              "      <td>FOODS</td>\n",
              "      <td>45089939</td>\n",
              "    </tr>\n",
              "    <tr>\n",
              "      <th>1</th>\n",
              "      <td>HOBBIES</td>\n",
              "      <td>6124800</td>\n",
              "    </tr>\n",
              "    <tr>\n",
              "      <th>2</th>\n",
              "      <td>HOUSEHOLD</td>\n",
              "      <td>14480670</td>\n",
              "    </tr>\n",
              "  </tbody>\n",
              "</table>\n",
              "</div>"
            ],
            "text/plain": [
              "      cat_id     sales\n",
              "0      FOODS  45089939\n",
              "1    HOBBIES   6124800\n",
              "2  HOUSEHOLD  14480670"
            ]
          },
          "metadata": {},
          "output_type": "display_data"
        }
      ],
      "source": [
        "state_dist = val_data.groupby([\"state_id\"])[\"sales\"].sum().reset_index()\n",
        "store_dist = val_data.groupby([\"store_id\"])[\"sales\"].sum().reset_index()\n",
        "dept_dist = val_data.groupby([\"dept_id\"])[\"sales\"].sum().reset_index()\n",
        "cat_dist = val_data.groupby([\"cat_id\"])[\"sales\"].sum().reset_index()\n",
        "\n",
        "display(state_dist)\n",
        "display(store_dist)\n",
        "display(dept_dist)\n",
        "display(cat_dist)"
      ]
    },
    {
      "cell_type": "code",
      "execution_count": null,
      "metadata": {
        "id": "DFaMmq-7l3nJ",
        "outputId": "c590570a-7ae0-43ba-fab8-8dd03a4ac4e5"
      },
      "outputs": [
        {
          "data": {
            "text/plain": [
              "<Axes: xlabel='state_id'>"
            ]
          },
          "execution_count": 193,
          "metadata": {},
          "output_type": "execute_result"
        },
        {
          "data": {
            "image/png": "[encoded data removed]",
            "text/plain": [
              "<Figure size 640x480 with 1 Axes>"
            ]
          },
          "metadata": {},
          "output_type": "display_data"
        }
      ],
      "source": [
        "state_dist.set_index(\"state_id\").plot(kind=\"bar\")"
      ]
    },
    {
      "cell_type": "code",
      "execution_count": null,
      "metadata": {
        "id": "_ezvL7Vjl3nK",
        "outputId": "04b0b5d0-8ce1-430d-df3f-c3665faf3fee"
      },
      "outputs": [
        {
          "data": {
            "text/plain": [
              "<Axes: xlabel='state_id,cat_id'>"
            ]
          },
          "execution_count": 194,
          "metadata": {},
          "output_type": "execute_result"
        },
        {
          "data": {
            "image/png": "[encoded data removed]",
            "text/plain": [
              "<Figure size 640x480 with 1 Axes>"
            ]
          },
          "metadata": {},
          "output_type": "display_data"
        }
      ],
      "source": [
        "cat_state_dist = val_data.groupby([\"state_id\", \"cat_id\"])[\"sales\"].sum().reset_index()\n",
        "cat_state_dist.set_index([\"state_id\", \"cat_id\"]).plot(kind=\"bar\")"
      ]
    },
    {
      "cell_type": "code",
      "execution_count": null,
      "metadata": {
        "id": "7Sded2Hgl3nK",
        "outputId": "daf6f8fd-58f5-4fec-8d01-bd94683361df"
      },
      "outputs": [
        {
          "data": {
            "text/html": [
              "<div>\n",
              "<style scoped>\n",
              "    .dataframe tbody tr th:only-of-type {\n",
              "        vertical-align: middle;\n",
              "    }\n",
              "\n",
              "    .dataframe tbody tr th {\n",
              "        vertical-align: top;\n",
              "    }\n",
              "\n",
              "    .dataframe thead th {\n",
              "        text-align: right;\n",
              "    }\n",
              "</style>\n",
              "<table border=\"1\" class=\"dataframe\">\n",
              "  <thead>\n",
              "    <tr style=\"text-align: right;\">\n",
              "      <th></th>\n",
              "      <th>id</th>\n",
              "      <th>item_id</th>\n",
              "      <th>dept_id</th>\n",
              "      <th>cat_id</th>\n",
              "      <th>store_id</th>\n",
              "      <th>state_id</th>\n",
              "      <th>day</th>\n",
              "      <th>sales</th>\n",
              "      <th>date</th>\n",
              "      <th>wm_yr_wk</th>\n",
              "      <th>sell_price</th>\n",
              "    </tr>\n",
              "  </thead>\n",
              "  <tbody>\n",
              "    <tr>\n",
              "      <th>0</th>\n",
              "      <td>HOBBIES_1_001_CA_1_validation</td>\n",
              "      <td>HOBBIES_1_001</td>\n",
              "      <td>HOBBIES_1</td>\n",
              "      <td>HOBBIES</td>\n",
              "      <td>CA_1</td>\n",
              "      <td>CA</td>\n",
              "      <td>d_1</td>\n",
              "      <td>0</td>\n",
              "      <td>2011-01-29</td>\n",
              "      <td>11101</td>\n",
              "      <td>NaN</td>\n",
              "    </tr>\n",
              "    <tr>\n",
              "      <th>1</th>\n",
              "      <td>HOBBIES_1_002_CA_1_validation</td>\n",
              "      <td>HOBBIES_1_002</td>\n",
              "      <td>HOBBIES_1</td>\n",
              "      <td>HOBBIES</td>\n",
              "      <td>CA_1</td>\n",
              "      <td>CA</td>\n",
              "      <td>d_1</td>\n",
              "      <td>0</td>\n",
              "      <td>2011-01-29</td>\n",
              "      <td>11101</td>\n",
              "      <td>NaN</td>\n",
              "    </tr>\n",
              "    <tr>\n",
              "      <th>2</th>\n",
              "      <td>HOBBIES_1_003_CA_1_validation</td>\n",
              "      <td>HOBBIES_1_003</td>\n",
              "      <td>HOBBIES_1</td>\n",
              "      <td>HOBBIES</td>\n",
              "      <td>CA_1</td>\n",
              "      <td>CA</td>\n",
              "      <td>d_1</td>\n",
              "      <td>0</td>\n",
              "      <td>2011-01-29</td>\n",
              "      <td>11101</td>\n",
              "      <td>NaN</td>\n",
              "    </tr>\n",
              "    <tr>\n",
              "      <th>3</th>\n",
              "      <td>HOBBIES_1_004_CA_1_validation</td>\n",
              "      <td>HOBBIES_1_004</td>\n",
              "      <td>HOBBIES_1</td>\n",
              "      <td>HOBBIES</td>\n",
              "      <td>CA_1</td>\n",
              "      <td>CA</td>\n",
              "      <td>d_1</td>\n",
              "      <td>0</td>\n",
              "      <td>2011-01-29</td>\n",
              "      <td>11101</td>\n",
              "      <td>NaN</td>\n",
              "    </tr>\n",
              "    <tr>\n",
              "      <th>4</th>\n",
              "      <td>HOBBIES_1_005_CA_1_validation</td>\n",
              "      <td>HOBBIES_1_005</td>\n",
              "      <td>HOBBIES_1</td>\n",
              "      <td>HOBBIES</td>\n",
              "      <td>CA_1</td>\n",
              "      <td>CA</td>\n",
              "      <td>d_1</td>\n",
              "      <td>0</td>\n",
              "      <td>2011-01-29</td>\n",
              "      <td>11101</td>\n",
              "      <td>NaN</td>\n",
              "    </tr>\n",
              "  </tbody>\n",
              "</table>\n",
              "</div>"
            ],
            "text/plain": [
              "                              id        item_id    dept_id   cat_id store_id  \\\n",
              "0  HOBBIES_1_001_CA_1_validation  HOBBIES_1_001  HOBBIES_1  HOBBIES     CA_1   \n",
              "1  HOBBIES_1_002_CA_1_validation  HOBBIES_1_002  HOBBIES_1  HOBBIES     CA_1   \n",
              "2  HOBBIES_1_003_CA_1_validation  HOBBIES_1_003  HOBBIES_1  HOBBIES     CA_1   \n",
              "3  HOBBIES_1_004_CA_1_validation  HOBBIES_1_004  HOBBIES_1  HOBBIES     CA_1   \n",
              "4  HOBBIES_1_005_CA_1_validation  HOBBIES_1_005  HOBBIES_1  HOBBIES     CA_1   \n",
              "\n",
              "  state_id  day  sales        date  wm_yr_wk  sell_price  \n",
              "0       CA  d_1      0  2011-01-29     11101         NaN  \n",
              "1       CA  d_1      0  2011-01-29     11101         NaN  \n",
              "2       CA  d_1      0  2011-01-29     11101         NaN  \n",
              "3       CA  d_1      0  2011-01-29     11101         NaN  \n",
              "4       CA  d_1      0  2011-01-29     11101         NaN  "
            ]
          },
          "execution_count": 195,
          "metadata": {},
          "output_type": "execute_result"
        }
      ],
      "source": [
        "val_data.head()"
      ]
    },
    {
      "cell_type": "code",
      "execution_count": null,
      "metadata": {
        "id": "bt8_PewMl3nK"
      },
      "outputs": [],
      "source": [
        "def plot_single_id(df, _id, start=\"\", end=\"\"):\n",
        "    row_mask = df[\"id\"] == _id\n",
        "    tr_df = df[row_mask][[\"date\", \"sales\"]].copy()\n",
        "    tr_df.set_index(\"date\", inplace=True)\n",
        "    tr_df.loc[start:].sales.plot(figsize=(14,6), title=_id, ylabel=\"sales\")"
      ]
    },
    {
      "cell_type": "code",
      "execution_count": null,
      "metadata": {
        "id": "QBdk53QVl3nK",
        "outputId": "92a89d29-d201-4c77-b433-c61bd0418e46"
      },
      "outputs": [
        {
          "data": {
            "image/png": "[encoded data removed]",
            "text/plain": [
              "<Figure size 1400x600 with 1 Axes>"
            ]
          },
          "metadata": {},
          "output_type": "display_data"
        }
      ],
      "source": [
        "plot_single_id(df=val_data, _id=\"HOBBIES_1_001_CA_1_validation\", start=\"\", end=\"\")"
      ]
    },
    {
      "cell_type": "code",
      "execution_count": null,
      "metadata": {
        "id": "i7KJWvJfl3nL",
        "outputId": "ce69dd7a-b82e-4631-d96d-c18d1264e692"
      },
      "outputs": [
        {
          "data": {
            "image/png": "[encoded data removed]",
            "text/plain": [
              "<Figure size 1400x600 with 1 Axes>"
            ]
          },
          "metadata": {},
          "output_type": "display_data"
        }
      ],
      "source": [
        "plot_single_id(df=val_data, _id=\"HOBBIES_1_001_CA_1_validation\", start=\"2016-01\", end=\"2016-04\")"
      ]
    },
    {
      "cell_type": "code",
      "execution_count": null,
      "metadata": {
        "id": "CtCF4ZiAl3nL"
      },
      "outputs": [],
      "source": [
        "day_lags = [28, 29, 30, 31, 32, 33, 34]\n",
        "def add_lags(val_data, day_lags=day_lags):\n",
        "    print(\"adding lag features ...\")\n",
        "    lag_sales_cols = [f\"lag_{day_lag}\" for day_lag in day_lags]\n",
        "    for day_lag in day_lags:\n",
        "        col_name = \"lag_{}\".format(day_lag)\n",
        "        val_data[col_name] = val_data[[\"id\", \"sales\"]].groupby(\"id\")[\"sales\"].shift(day_lag).fillna(-1)\n",
        "    return val_data"
      ]
    },
    {
      "cell_type": "code",
      "execution_count": null,
      "metadata": {
        "id": "NunHKsozl3nN"
      },
      "outputs": [],
      "source": [
        "windows = [7, 14, 28]\n",
        "day_lag = [28]\n",
        "def add_window_features(val_data, windows=windows, day_lag=day_lag):\n",
        "    print(\"adding window features ...\")\n",
        "    lag_col = \"lag_{}\".format(day_lag[0])\n",
        "    for window in windows:\n",
        "        val_data[f\"rmean_28_{window}\"] = val_data[[\"id\", lag_col]].groupby(\"id\")[lag_col].transform(lambda x: x.rolling(window))\n",
        "    return val_data"
      ]
    },
    {
      "cell_type": "code",
      "execution_count": null,
      "metadata": {
        "id": "J73Y8fpkl3nP",
        "outputId": "c6922490-e791-4061-abb8-be1a2ed6fbbd"
      },
      "outputs": [
        {
          "data": {
            "text/html": [
              "<div>\n",
              "<style scoped>\n",
              "    .dataframe tbody tr th:only-of-type {\n",
              "        vertical-align: middle;\n",
              "    }\n",
              "\n",
              "    .dataframe tbody tr th {\n",
              "        vertical-align: top;\n",
              "    }\n",
              "\n",
              "    .dataframe thead th {\n",
              "        text-align: right;\n",
              "    }\n",
              "</style>\n",
              "<table border=\"1\" class=\"dataframe\">\n",
              "  <thead>\n",
              "    <tr style=\"text-align: right;\">\n",
              "      <th></th>\n",
              "      <th>id</th>\n",
              "      <th>item_id</th>\n",
              "      <th>dept_id</th>\n",
              "      <th>cat_id</th>\n",
              "      <th>store_id</th>\n",
              "      <th>state_id</th>\n",
              "      <th>day</th>\n",
              "      <th>sales</th>\n",
              "      <th>date</th>\n",
              "      <th>wm_yr_wk</th>\n",
              "      <th>sell_price</th>\n",
              "    </tr>\n",
              "  </thead>\n",
              "  <tbody>\n",
              "    <tr>\n",
              "      <th>0</th>\n",
              "      <td>HOBBIES_1_001_CA_1_validation</td>\n",
              "      <td>HOBBIES_1_001</td>\n",
              "      <td>HOBBIES_1</td>\n",
              "      <td>HOBBIES</td>\n",
              "      <td>CA_1</td>\n",
              "      <td>CA</td>\n",
              "      <td>d_1</td>\n",
              "      <td>0</td>\n",
              "      <td>2011-01-29</td>\n",
              "      <td>11101</td>\n",
              "      <td>NaN</td>\n",
              "    </tr>\n",
              "    <tr>\n",
              "      <th>1</th>\n",
              "      <td>HOBBIES_1_002_CA_1_validation</td>\n",
              "      <td>HOBBIES_1_002</td>\n",
              "      <td>HOBBIES_1</td>\n",
              "      <td>HOBBIES</td>\n",
              "      <td>CA_1</td>\n",
              "      <td>CA</td>\n",
              "      <td>d_1</td>\n",
              "      <td>0</td>\n",
              "      <td>2011-01-29</td>\n",
              "      <td>11101</td>\n",
              "      <td>NaN</td>\n",
              "    </tr>\n",
              "    <tr>\n",
              "      <th>2</th>\n",
              "      <td>HOBBIES_1_003_CA_1_validation</td>\n",
              "      <td>HOBBIES_1_003</td>\n",
              "      <td>HOBBIES_1</td>\n",
              "      <td>HOBBIES</td>\n",
              "      <td>CA_1</td>\n",
              "      <td>CA</td>\n",
              "      <td>d_1</td>\n",
              "      <td>0</td>\n",
              "      <td>2011-01-29</td>\n",
              "      <td>11101</td>\n",
              "      <td>NaN</td>\n",
              "    </tr>\n",
              "    <tr>\n",
              "      <th>3</th>\n",
              "      <td>HOBBIES_1_004_CA_1_validation</td>\n",
              "      <td>HOBBIES_1_004</td>\n",
              "      <td>HOBBIES_1</td>\n",
              "      <td>HOBBIES</td>\n",
              "      <td>CA_1</td>\n",
              "      <td>CA</td>\n",
              "      <td>d_1</td>\n",
              "      <td>0</td>\n",
              "      <td>2011-01-29</td>\n",
              "      <td>11101</td>\n",
              "      <td>NaN</td>\n",
              "    </tr>\n",
              "    <tr>\n",
              "      <th>4</th>\n",
              "      <td>HOBBIES_1_005_CA_1_validation</td>\n",
              "      <td>HOBBIES_1_005</td>\n",
              "      <td>HOBBIES_1</td>\n",
              "      <td>HOBBIES</td>\n",
              "      <td>CA_1</td>\n",
              "      <td>CA</td>\n",
              "      <td>d_1</td>\n",
              "      <td>0</td>\n",
              "      <td>2011-01-29</td>\n",
              "      <td>11101</td>\n",
              "      <td>NaN</td>\n",
              "    </tr>\n",
              "  </tbody>\n",
              "</table>\n",
              "</div>"
            ],
            "text/plain": [
              "                              id        item_id    dept_id   cat_id store_id  \\\n",
              "0  HOBBIES_1_001_CA_1_validation  HOBBIES_1_001  HOBBIES_1  HOBBIES     CA_1   \n",
              "1  HOBBIES_1_002_CA_1_validation  HOBBIES_1_002  HOBBIES_1  HOBBIES     CA_1   \n",
              "2  HOBBIES_1_003_CA_1_validation  HOBBIES_1_003  HOBBIES_1  HOBBIES     CA_1   \n",
              "3  HOBBIES_1_004_CA_1_validation  HOBBIES_1_004  HOBBIES_1  HOBBIES     CA_1   \n",
              "4  HOBBIES_1_005_CA_1_validation  HOBBIES_1_005  HOBBIES_1  HOBBIES     CA_1   \n",
              "\n",
              "  state_id  day  sales        date  wm_yr_wk  sell_price  \n",
              "0       CA  d_1      0  2011-01-29     11101         NaN  \n",
              "1       CA  d_1      0  2011-01-29     11101         NaN  \n",
              "2       CA  d_1      0  2011-01-29     11101         NaN  \n",
              "3       CA  d_1      0  2011-01-29     11101         NaN  \n",
              "4       CA  d_1      0  2011-01-29     11101         NaN  "
            ]
          },
          "execution_count": 206,
          "metadata": {},
          "output_type": "execute_result"
        }
      ],
      "source": [
        "val_data.head()"
      ]
    },
    {
      "cell_type": "code",
      "execution_count": null,
      "metadata": {
        "id": "TPJuJa3Wl3nP"
      },
      "outputs": [],
      "source": [
        "def add_daytime_cols_all(df, data_field):\n",
        "    print(\"adding date and time features ...\")\n",
        "    df[data_field] = pd.to_datetime(df[data_filed])\n",
        "    df[data_field + \"_day_of_week\"] = df[data_filed].dt.dayofweek.astypee(\"unit8\")\n",
        "    df[data_field + \"_day_of_year\"] = df[data_filed].dt.dayofyear.astypee(\"unit8\")\n",
        "    df[data_field + \"_week_of_year\"] = df[data_filed].dt.weekofyear.astypee(\"unit8\")\n",
        "    df[data_field + \"_month\"] = df[data_filed].dt.month.astypee(\"unit8\")\n",
        "    df[data_field + \"_year\"] = df[data_filed].dt.year.astypee(\"unit8\")\n",
        "    df[data_field + \"_quarter\"] = df[data_filed].dt.quarter.astypee(\"unit8\")\n",
        "    return df"
      ]
    },
    {
      "cell_type": "code",
      "execution_count": null,
      "metadata": {
        "id": "pwc25pZTl3nP",
        "outputId": "48d9f4d0-b5ac-435e-f483-c58844218fd5"
      },
      "outputs": [
        {
          "data": {
            "text/html": [
              "<div>\n",
              "<style scoped>\n",
              "    .dataframe tbody tr th:only-of-type {\n",
              "        vertical-align: middle;\n",
              "    }\n",
              "\n",
              "    .dataframe tbody tr th {\n",
              "        vertical-align: top;\n",
              "    }\n",
              "\n",
              "    .dataframe thead th {\n",
              "        text-align: right;\n",
              "    }\n",
              "</style>\n",
              "<table border=\"1\" class=\"dataframe\">\n",
              "  <thead>\n",
              "    <tr style=\"text-align: right;\">\n",
              "      <th></th>\n",
              "      <th>id</th>\n",
              "      <th>item_id</th>\n",
              "      <th>dept_id</th>\n",
              "      <th>cat_id</th>\n",
              "      <th>store_id</th>\n",
              "      <th>state_id</th>\n",
              "      <th>day</th>\n",
              "      <th>sales</th>\n",
              "      <th>date</th>\n",
              "      <th>wm_yr_wk</th>\n",
              "      <th>sell_price</th>\n",
              "    </tr>\n",
              "  </thead>\n",
              "  <tbody>\n",
              "    <tr>\n",
              "      <th>0</th>\n",
              "      <td>HOBBIES_1_001_CA_1_validation</td>\n",
              "      <td>HOBBIES_1_001</td>\n",
              "      <td>HOBBIES_1</td>\n",
              "      <td>HOBBIES</td>\n",
              "      <td>CA_1</td>\n",
              "      <td>CA</td>\n",
              "      <td>d_1</td>\n",
              "      <td>0</td>\n",
              "      <td>2011-01-29</td>\n",
              "      <td>11101</td>\n",
              "      <td>NaN</td>\n",
              "    </tr>\n",
              "    <tr>\n",
              "      <th>1</th>\n",
              "      <td>HOBBIES_1_002_CA_1_validation</td>\n",
              "      <td>HOBBIES_1_002</td>\n",
              "      <td>HOBBIES_1</td>\n",
              "      <td>HOBBIES</td>\n",
              "      <td>CA_1</td>\n",
              "      <td>CA</td>\n",
              "      <td>d_1</td>\n",
              "      <td>0</td>\n",
              "      <td>2011-01-29</td>\n",
              "      <td>11101</td>\n",
              "      <td>NaN</td>\n",
              "    </tr>\n",
              "    <tr>\n",
              "      <th>2</th>\n",
              "      <td>HOBBIES_1_003_CA_1_validation</td>\n",
              "      <td>HOBBIES_1_003</td>\n",
              "      <td>HOBBIES_1</td>\n",
              "      <td>HOBBIES</td>\n",
              "      <td>CA_1</td>\n",
              "      <td>CA</td>\n",
              "      <td>d_1</td>\n",
              "      <td>0</td>\n",
              "      <td>2011-01-29</td>\n",
              "      <td>11101</td>\n",
              "      <td>NaN</td>\n",
              "    </tr>\n",
              "    <tr>\n",
              "      <th>3</th>\n",
              "      <td>HOBBIES_1_004_CA_1_validation</td>\n",
              "      <td>HOBBIES_1_004</td>\n",
              "      <td>HOBBIES_1</td>\n",
              "      <td>HOBBIES</td>\n",
              "      <td>CA_1</td>\n",
              "      <td>CA</td>\n",
              "      <td>d_1</td>\n",
              "      <td>0</td>\n",
              "      <td>2011-01-29</td>\n",
              "      <td>11101</td>\n",
              "      <td>NaN</td>\n",
              "    </tr>\n",
              "    <tr>\n",
              "      <th>4</th>\n",
              "      <td>HOBBIES_1_005_CA_1_validation</td>\n",
              "      <td>HOBBIES_1_005</td>\n",
              "      <td>HOBBIES_1</td>\n",
              "      <td>HOBBIES</td>\n",
              "      <td>CA_1</td>\n",
              "      <td>CA</td>\n",
              "      <td>d_1</td>\n",
              "      <td>0</td>\n",
              "      <td>2011-01-29</td>\n",
              "      <td>11101</td>\n",
              "      <td>NaN</td>\n",
              "    </tr>\n",
              "  </tbody>\n",
              "</table>\n",
              "</div>"
            ],
            "text/plain": [
              "                              id        item_id    dept_id   cat_id store_id  \\\n",
              "0  HOBBIES_1_001_CA_1_validation  HOBBIES_1_001  HOBBIES_1  HOBBIES     CA_1   \n",
              "1  HOBBIES_1_002_CA_1_validation  HOBBIES_1_002  HOBBIES_1  HOBBIES     CA_1   \n",
              "2  HOBBIES_1_003_CA_1_validation  HOBBIES_1_003  HOBBIES_1  HOBBIES     CA_1   \n",
              "3  HOBBIES_1_004_CA_1_validation  HOBBIES_1_004  HOBBIES_1  HOBBIES     CA_1   \n",
              "4  HOBBIES_1_005_CA_1_validation  HOBBIES_1_005  HOBBIES_1  HOBBIES     CA_1   \n",
              "\n",
              "  state_id  day  sales        date  wm_yr_wk  sell_price  \n",
              "0       CA  d_1      0  2011-01-29     11101         NaN  \n",
              "1       CA  d_1      0  2011-01-29     11101         NaN  \n",
              "2       CA  d_1      0  2011-01-29     11101         NaN  \n",
              "3       CA  d_1      0  2011-01-29     11101         NaN  \n",
              "4       CA  d_1      0  2011-01-29     11101         NaN  "
            ]
          },
          "execution_count": 210,
          "metadata": {},
          "output_type": "execute_result"
        }
      ],
      "source": [
        "val_data.head()"
      ]
    },
    {
      "cell_type": "code",
      "execution_count": null,
      "metadata": {
        "id": "-eyWQnRIl3nQ"
      },
      "outputs": [],
      "source": [
        "def add_categorial_date(val_data, cat_feats):\n",
        "    print(\"label encoding cat variables ...\")\n",
        "    print(cat_feats)\n",
        "    for feat in cat_feats:\n",
        "        label = LabelEncoder()\n",
        "        val_data[feat] = label.fit_transform(val_data[feat])\n",
        "    return val_data"
      ]
    },
    {
      "cell_type": "code",
      "execution_count": null,
      "metadata": {
        "id": "i47FurO3l3nQ",
        "outputId": "4bcaea10-4a35-4fbe-e775-096ede8fdeb6"
      },
      "outputs": [
        {
          "name": "stdout",
          "output_type": "stream",
          "text": [
            "/Users/ariahosseini/Desktop/Notebooks/walmart/val_data_valTrue.pkl\n",
            "loading /Users/ariahosseini/Desktop/Notebooks/walmart/val_data_valTrue.pkl\n"
          ]
        },
        {
          "data": {
            "text/html": [
              "<div>\n",
              "<style scoped>\n",
              "    .dataframe tbody tr th:only-of-type {\n",
              "        vertical-align: middle;\n",
              "    }\n",
              "\n",
              "    .dataframe tbody tr th {\n",
              "        vertical-align: top;\n",
              "    }\n",
              "\n",
              "    .dataframe thead th {\n",
              "        text-align: right;\n",
              "    }\n",
              "</style>\n",
              "<table border=\"1\" class=\"dataframe\">\n",
              "  <thead>\n",
              "    <tr style=\"text-align: right;\">\n",
              "      <th></th>\n",
              "      <th>id</th>\n",
              "      <th>item_id</th>\n",
              "      <th>dept_id</th>\n",
              "      <th>cat_id</th>\n",
              "      <th>store_id</th>\n",
              "      <th>state_id</th>\n",
              "      <th>day</th>\n",
              "      <th>sales</th>\n",
              "      <th>date</th>\n",
              "      <th>wm_yr_wk</th>\n",
              "      <th>event_name_1</th>\n",
              "      <th>event_type_1</th>\n",
              "      <th>event_name_2</th>\n",
              "      <th>event_type_2</th>\n",
              "      <th>sell_price</th>\n",
              "    </tr>\n",
              "  </thead>\n",
              "  <tbody>\n",
              "    <tr>\n",
              "      <th>0</th>\n",
              "      <td>HOBBIES_1_001_CA_1_validation</td>\n",
              "      <td>HOBBIES_1_001</td>\n",
              "      <td>HOBBIES_1</td>\n",
              "      <td>HOBBIES</td>\n",
              "      <td>CA_1</td>\n",
              "      <td>CA</td>\n",
              "      <td>d_1</td>\n",
              "      <td>0</td>\n",
              "      <td>2011-01-29</td>\n",
              "      <td>11101</td>\n",
              "      <td>NaN</td>\n",
              "      <td>NaN</td>\n",
              "      <td>NaN</td>\n",
              "      <td>NaN</td>\n",
              "      <td>NaN</td>\n",
              "    </tr>\n",
              "    <tr>\n",
              "      <th>1</th>\n",
              "      <td>HOBBIES_1_002_CA_1_validation</td>\n",
              "      <td>HOBBIES_1_002</td>\n",
              "      <td>HOBBIES_1</td>\n",
              "      <td>HOBBIES</td>\n",
              "      <td>CA_1</td>\n",
              "      <td>CA</td>\n",
              "      <td>d_1</td>\n",
              "      <td>0</td>\n",
              "      <td>2011-01-29</td>\n",
              "      <td>11101</td>\n",
              "      <td>NaN</td>\n",
              "      <td>NaN</td>\n",
              "      <td>NaN</td>\n",
              "      <td>NaN</td>\n",
              "      <td>NaN</td>\n",
              "    </tr>\n",
              "    <tr>\n",
              "      <th>2</th>\n",
              "      <td>HOBBIES_1_003_CA_1_validation</td>\n",
              "      <td>HOBBIES_1_003</td>\n",
              "      <td>HOBBIES_1</td>\n",
              "      <td>HOBBIES</td>\n",
              "      <td>CA_1</td>\n",
              "      <td>CA</td>\n",
              "      <td>d_1</td>\n",
              "      <td>0</td>\n",
              "      <td>2011-01-29</td>\n",
              "      <td>11101</td>\n",
              "      <td>NaN</td>\n",
              "      <td>NaN</td>\n",
              "      <td>NaN</td>\n",
              "      <td>NaN</td>\n",
              "      <td>NaN</td>\n",
              "    </tr>\n",
              "    <tr>\n",
              "      <th>3</th>\n",
              "      <td>HOBBIES_1_004_CA_1_validation</td>\n",
              "      <td>HOBBIES_1_004</td>\n",
              "      <td>HOBBIES_1</td>\n",
              "      <td>HOBBIES</td>\n",
              "      <td>CA_1</td>\n",
              "      <td>CA</td>\n",
              "      <td>d_1</td>\n",
              "      <td>0</td>\n",
              "      <td>2011-01-29</td>\n",
              "      <td>11101</td>\n",
              "      <td>NaN</td>\n",
              "      <td>NaN</td>\n",
              "      <td>NaN</td>\n",
              "      <td>NaN</td>\n",
              "      <td>NaN</td>\n",
              "    </tr>\n",
              "    <tr>\n",
              "      <th>4</th>\n",
              "      <td>HOBBIES_1_005_CA_1_validation</td>\n",
              "      <td>HOBBIES_1_005</td>\n",
              "      <td>HOBBIES_1</td>\n",
              "      <td>HOBBIES</td>\n",
              "      <td>CA_1</td>\n",
              "      <td>CA</td>\n",
              "      <td>d_1</td>\n",
              "      <td>0</td>\n",
              "      <td>2011-01-29</td>\n",
              "      <td>11101</td>\n",
              "      <td>NaN</td>\n",
              "      <td>NaN</td>\n",
              "      <td>NaN</td>\n",
              "      <td>NaN</td>\n",
              "      <td>NaN</td>\n",
              "    </tr>\n",
              "  </tbody>\n",
              "</table>\n",
              "</div>"
            ],
            "text/plain": [
              "                              id        item_id    dept_id   cat_id store_id  \\\n",
              "0  HOBBIES_1_001_CA_1_validation  HOBBIES_1_001  HOBBIES_1  HOBBIES     CA_1   \n",
              "1  HOBBIES_1_002_CA_1_validation  HOBBIES_1_002  HOBBIES_1  HOBBIES     CA_1   \n",
              "2  HOBBIES_1_003_CA_1_validation  HOBBIES_1_003  HOBBIES_1  HOBBIES     CA_1   \n",
              "3  HOBBIES_1_004_CA_1_validation  HOBBIES_1_004  HOBBIES_1  HOBBIES     CA_1   \n",
              "4  HOBBIES_1_005_CA_1_validation  HOBBIES_1_005  HOBBIES_1  HOBBIES     CA_1   \n",
              "\n",
              "  state_id  day  sales        date  wm_yr_wk event_name_1 event_type_1  \\\n",
              "0       CA  d_1      0  2011-01-29     11101          NaN          NaN   \n",
              "1       CA  d_1      0  2011-01-29     11101          NaN          NaN   \n",
              "2       CA  d_1      0  2011-01-29     11101          NaN          NaN   \n",
              "3       CA  d_1      0  2011-01-29     11101          NaN          NaN   \n",
              "4       CA  d_1      0  2011-01-29     11101          NaN          NaN   \n",
              "\n",
              "  event_name_2 event_type_2  sell_price  \n",
              "0          NaN          NaN         NaN  \n",
              "1          NaN          NaN         NaN  \n",
              "2          NaN          NaN         NaN  \n",
              "3          NaN          NaN         NaN  \n",
              "4          NaN          NaN         NaN  "
            ]
          },
          "execution_count": 213,
          "metadata": {},
          "output_type": "execute_result"
        }
      ],
      "source": [
        "gc.collect()\n",
        "include_events = True\n",
        "val_data = get_val_data(sales_train_valid, calendar, sell_prices, include_events, \"val\")\n",
        "val_data.head()"
      ]
    },
    {
      "cell_type": "code",
      "execution_count": null,
      "metadata": {
        "id": "G2oJdsZCl3nQ",
        "outputId": "677a1060-38ac-42aa-d2fe-9928c1e7df2f"
      },
      "outputs": [
        {
          "name": "stdout",
          "output_type": "stream",
          "text": [
            "adding lag features ...\n",
            "adding window features ...\n"
          ]
        }
      ],
      "source": [
        "def prepare_val_data(val_data, include_events):\n",
        "    prep_data_pkl = data_dir + \"prepare_data_{}.pkl\".format(include_events)\n",
        "    if os.path.exists(prep_data_pkl):\n",
        "        val_data = pickle.load(open(prep_data_pkl, \"rb\"))\n",
        "    else:\n",
        "        val_data = add_lags(val_data)\n",
        "        val_data = add_window_features(val_data)\n",
        "        val_data = add_daytime_cols_all(val_data, \"date\")\n",
        "    return val_data\n",
        "val_data = prepare_val_data(val_data, include_events)\n",
        "gc.collect()\n",
        "val_data.head()"
      ]
    },
    {
      "cell_type": "code",
      "execution_count": null,
      "metadata": {
        "id": "uQvcJgmfl3nQ"
      },
      "outputs": [],
      "source": [
        "prep_data_pkl = data_dir + \"prepare_data_{}.pkl\".format(include_events)\n",
        "if not os.path.exists(prep_data_pkl):\n",
        "    pickle.dump(open(prep_data_pkl, \"wb\"))"
      ]
    },
    {
      "cell_type": "code",
      "execution_count": null,
      "metadata": {
        "id": "r5BpXTEzl3nR"
      },
      "outputs": [],
      "source": [
        "val_data.columns"
      ]
    },
    {
      "cell_type": "code",
      "execution_count": null,
      "metadata": {
        "id": "UsBfDlChl3nR"
      },
      "outputs": [],
      "source": [
        "cat_feats = [\"item_id\", \"dept_id\", \"store_id\", \"cat_id\", \"state_id\"]\n",
        "event_cats = [\"event_name_1\", \"event_name_2\", \"event_type_1\", \"event_type_2\"]\n",
        "if include_events:\n",
        "    cat_feats = cat_feats + event_cats\n",
        "    for event in event_cats:\n",
        "        val_data[event] = val_data[event].fillna(\"not_available\")\n",
        "print(cat_feats)\n",
        "for feat in cat_feats:\n",
        "    print(feat)\n",
        "    label = LabelEncoder()\n",
        "    val_data[feat] = label.fit_transform(val_data[feat])"
      ]
    },
    {
      "cell_type": "code",
      "execution_count": null,
      "metadata": {
        "id": "2UPVUzozl3nR"
      },
      "outputs": [],
      "source": [
        "list(val_data[\"event_type_2\"].unique())"
      ]
    },
    {
      "cell_type": "code",
      "execution_count": null,
      "metadata": {
        "id": "x9OGeV77l3nR"
      },
      "outputs": [],
      "source": [
        "cutoff = val_data.date.max() - pd.to_timedelta(28, unit = \"D\")\n",
        "x_train = val_data.loc[val_data.date <= cutoff].copy()\n",
        "x_valid = val_data.loc[val_data.date > cutoff].copy()\n",
        "y_train = x_train[\"sales\"].copy()\n",
        "y_valid = x_valid[\"sales\"].copy()\n",
        "drop_cols = [\"id\", \"sales\", \"day\", \"date\", \"wm_yr_wk\"]\n",
        "x_train.drop(drop_cols, axis=1, inplacee=True)\n",
        "x_valid.drop(drop_cols, axis=1, inplacee=True)\n",
        "x_train.head()\n",
        "gc.collect()"
      ]
    },
    {
      "cell_type": "code",
      "execution_count": null,
      "metadata": {
        "id": "f7otI8uHl3nR"
      },
      "outputs": [],
      "source": [
        "d_train = lgb.Dataset(x_train, label = y_train, categorial_feature = cat_feats, free_raw_data = False)\n",
        "d_valid = lgb.Dataset(x_valid, label = y_valid, categorial_feature = cat_feats, free_raw_data = False)\n",
        "del x_train, x_valid\n",
        "gc.collect()\n",
        "params {\n",
        "    \"objective\": \"tweedie\",\n",
        "    \"metric\": \"rmse\",\n",
        "    \"learning_rate\": 0.075,\n",
        "    \"sub_feature\": 0.8,\n",
        "    \"sub_row\": 0.8,\n",
        "    \"bagging_freq\": 1,\n",
        "    \"lambda_12\": 0.1,\n",
        "    \"num_iterations\": 500,\n",
        "    \"num_leaves\": 128\n",
        "}\n",
        "if not os.path.exists(data_dir + \"lgb_model.pkl\"):\n",
        "    m_lgb = lgb.train(params, d_train, valid_sets = [d_train, d_valid],\n",
        "                      early_stopping_rounds = 150, verbose_eval 100)\n",
        "    pickle.dump(m_lgb, open(data_dir + \"lgb_model.pkl\", \"wb\"))\n",
        "else:\n",
        "    pickle.load(open(data_dir + \"lgb_model.pkl\", \"rb\"))"
      ]
    },
    {
      "cell_type": "code",
      "execution_count": null,
      "metadata": {
        "id": "f2X2QwNUl3nR"
      },
      "outputs": [],
      "source": [
        "cutoff = val_data.date.max() - pd.to_timedelta(28, unit = \"D\")\n",
        "x_valid = val_data.loc[val_data.date > cutoff].copy()\n",
        "x_valid.drop(drop_cols, axis=1, inplace=True)\n",
        "preds = m_lgb.predict(x_valid)\n",
        "rmse = mean_squared_error(val_data.loc[val_data.date > cutoff][\"sales\"], preds, squared=False)\n",
        "print(rmse)"
      ]
    },
    {
      "cell_type": "code",
      "execution_count": null,
      "metadata": {
        "id": "jVs-34jpl3nR"
      },
      "outputs": [],
      "source": [
        "valid_mask = val_data.date > cutoff\n",
        "val_ddata = prepare_val_data(val_data, True)\n",
        "output_df = val_data[valid_mask]\n",
        "output_df[\"preds\"] = preds\n",
        "output_df.head()"
      ]
    },
    {
      "cell_type": "code",
      "execution_count": null,
      "metadata": {
        "id": "q0JD3a5ol3nS"
      },
      "outputs": [],
      "source": [
        "out_pivot_df = output_df.pivot(index=\"id\", columns=\"date\", values=\"preds\").reset_index()\n",
        "out_pivot_df.columns = [\"id\"] + [\"F\" + str(x) for x in range(1,29)]\n",
        "out_pivot_df.head()"
      ]
    }
  ],
  "metadata": {
    "kernelspec": {
      "display_name": "PyML",
      "language": "python",
      "name": "pyml"
    },
    "language_info": {
      "codemirror_mode": {
        "name": "ipython",
        "version": 3
      },
      "file_extension": ".py",
      "mimetype": "text/x-python",
      "name": "python",
      "nbconvert_exporter": "python",
      "pygments_lexer": "ipython3",
      "version": "3.11.4"
    },
    "colab": {
      "provenance": [],
      "include_colab_link": true
    }
  },
  "nbformat": 4,
  "nbformat_minor": 0
}