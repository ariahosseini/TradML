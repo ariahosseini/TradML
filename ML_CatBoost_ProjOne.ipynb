{
  "cells": [
    {
      "cell_type": "markdown",
      "metadata": {
        "id": "view-in-github",
        "colab_type": "text"
      },
      "source": [
        "<a href=\"https://colab.research.google.com/github/ariahosseini/TradML/blob/main/ML_CatBoost_ProjOne.ipynb\" target=\"_parent\"><img src=\"https://colab.research.google.com/assets/colab-badge.svg\" alt=\"Open In Colab\"/></a>"
      ]
    },
    {
      "cell_type": "code",
      "source": [
        "!pip install catboost"
      ],
      "metadata": {
        "colab": {
          "base_uri": "https://localhost:8080/"
        },
        "id": "xgR28GeC5wPW",
        "outputId": "004326fd-f994-4450-b759-3308abb9e354"
      },
      "execution_count": 4,
      "outputs": [
        {
          "output_type": "stream",
          "name": "stdout",
          "text": [
            "Requirement already satisfied: catboost in /usr/local/lib/python3.10/dist-packages (1.2.5)\n",
            "Requirement already satisfied: graphviz in /usr/local/lib/python3.10/dist-packages (from catboost) (0.20.3)\n",
            "Requirement already satisfied: matplotlib in /usr/local/lib/python3.10/dist-packages (from catboost) (3.7.1)\n",
            "Requirement already satisfied: numpy>=1.16.0 in /usr/local/lib/python3.10/dist-packages (from catboost) (1.26.4)\n",
            "Requirement already satisfied: pandas>=0.24 in /usr/local/lib/python3.10/dist-packages (from catboost) (2.1.4)\n",
            "Requirement already satisfied: scipy in /usr/local/lib/python3.10/dist-packages (from catboost) (1.13.1)\n",
            "Requirement already satisfied: plotly in /usr/local/lib/python3.10/dist-packages (from catboost) (5.15.0)\n",
            "Requirement already satisfied: six in /usr/local/lib/python3.10/dist-packages (from catboost) (1.16.0)\n",
            "Requirement already satisfied: python-dateutil>=2.8.2 in /usr/local/lib/python3.10/dist-packages (from pandas>=0.24->catboost) (2.8.2)\n",
            "Requirement already satisfied: pytz>=2020.1 in /usr/local/lib/python3.10/dist-packages (from pandas>=0.24->catboost) (2024.1)\n",
            "Requirement already satisfied: tzdata>=2022.1 in /usr/local/lib/python3.10/dist-packages (from pandas>=0.24->catboost) (2024.1)\n",
            "Requirement already satisfied: contourpy>=1.0.1 in /usr/local/lib/python3.10/dist-packages (from matplotlib->catboost) (1.2.1)\n",
            "Requirement already satisfied: cycler>=0.10 in /usr/local/lib/python3.10/dist-packages (from matplotlib->catboost) (0.12.1)\n",
            "Requirement already satisfied: fonttools>=4.22.0 in /usr/local/lib/python3.10/dist-packages (from matplotlib->catboost) (4.53.1)\n",
            "Requirement already satisfied: kiwisolver>=1.0.1 in /usr/local/lib/python3.10/dist-packages (from matplotlib->catboost) (1.4.5)\n",
            "Requirement already satisfied: packaging>=20.0 in /usr/local/lib/python3.10/dist-packages (from matplotlib->catboost) (24.1)\n",
            "Requirement already satisfied: pillow>=6.2.0 in /usr/local/lib/python3.10/dist-packages (from matplotlib->catboost) (9.4.0)\n",
            "Requirement already satisfied: pyparsing>=2.3.1 in /usr/local/lib/python3.10/dist-packages (from matplotlib->catboost) (3.1.4)\n",
            "Requirement already satisfied: tenacity>=6.2.0 in /usr/local/lib/python3.10/dist-packages (from plotly->catboost) (9.0.0)\n"
          ]
        }
      ]
    },
    {
      "cell_type": "code",
      "execution_count": 41,
      "metadata": {
        "id": "8i8ERTMs5WIV"
      },
      "outputs": [],
      "source": [
        "# utils\n",
        "import hyperopt\n",
        "import numpy as np\n",
        "import pandas as pd\n",
        "from numpy.random import RandomState\n",
        "# catboost\n",
        "from catboost.datasets import titanic\n",
        "from catboost import CatBoostClassifier, MetricVisualizer, Pool, metrics, cv\n",
        "# sklearn\n",
        "from sklearn.model_selection import train_test_split\n",
        "from sklearn.metrics import accuracy_score"
      ]
    },
    {
      "cell_type": "code",
      "execution_count": 6,
      "metadata": {
        "colab": {
          "base_uri": "https://localhost:8080/",
          "height": 226
        },
        "id": "aQMI6mRG5WIX",
        "outputId": "413e8935-f6ef-4915-cd03-ae2144b6e384"
      },
      "outputs": [
        {
          "output_type": "execute_result",
          "data": {
            "text/plain": [
              "   PassengerId  Survived  Pclass  \\\n",
              "0            1         0       3   \n",
              "1            2         1       1   \n",
              "2            3         1       3   \n",
              "3            4         1       1   \n",
              "4            5         0       3   \n",
              "\n",
              "                                                Name     Sex   Age  SibSp  \\\n",
              "0                            Braund, Mr. Owen Harris    male  22.0      1   \n",
              "1  Cumings, Mrs. John Bradley (Florence Briggs Th...  female  38.0      1   \n",
              "2                             Heikkinen, Miss. Laina  female  26.0      0   \n",
              "3       Futrelle, Mrs. Jacques Heath (Lily May Peel)  female  35.0      1   \n",
              "4                           Allen, Mr. William Henry    male  35.0      0   \n",
              "\n",
              "   Parch            Ticket     Fare Cabin Embarked  \n",
              "0      0         A/5 21171   7.2500   NaN        S  \n",
              "1      0          PC 17599  71.2833   C85        C  \n",
              "2      0  STON/O2. 3101282   7.9250   NaN        S  \n",
              "3      0            113803  53.1000  C123        S  \n",
              "4      0            373450   8.0500   NaN        S  "
            ],
            "text/html": [
              "\n",
              "  <div id=\"df-2ea9fab9-04c7-422e-8fd4-16963aec357e\" class=\"colab-df-container\">\n",
              "    <div>\n",
              "<style scoped>\n",
              "    .dataframe tbody tr th:only-of-type {\n",
              "        vertical-align: middle;\n",
              "    }\n",
              "\n",
              "    .dataframe tbody tr th {\n",
              "        vertical-align: top;\n",
              "    }\n",
              "\n",
              "    .dataframe thead th {\n",
              "        text-align: right;\n",
              "    }\n",
              "</style>\n",
              "<table border=\"1\" class=\"dataframe\">\n",
              "  <thead>\n",
              "    <tr style=\"text-align: right;\">\n",
              "      <th></th>\n",
              "      <th>PassengerId</th>\n",
              "      <th>Survived</th>\n",
              "      <th>Pclass</th>\n",
              "      <th>Name</th>\n",
              "      <th>Sex</th>\n",
              "      <th>Age</th>\n",
              "      <th>SibSp</th>\n",
              "      <th>Parch</th>\n",
              "      <th>Ticket</th>\n",
              "      <th>Fare</th>\n",
              "      <th>Cabin</th>\n",
              "      <th>Embarked</th>\n",
              "    </tr>\n",
              "  </thead>\n",
              "  <tbody>\n",
              "    <tr>\n",
              "      <th>0</th>\n",
              "      <td>1</td>\n",
              "      <td>0</td>\n",
              "      <td>3</td>\n",
              "      <td>Braund, Mr. Owen Harris</td>\n",
              "      <td>male</td>\n",
              "      <td>22.0</td>\n",
              "      <td>1</td>\n",
              "      <td>0</td>\n",
              "      <td>A/5 21171</td>\n",
              "      <td>7.2500</td>\n",
              "      <td>NaN</td>\n",
              "      <td>S</td>\n",
              "    </tr>\n",
              "    <tr>\n",
              "      <th>1</th>\n",
              "      <td>2</td>\n",
              "      <td>1</td>\n",
              "      <td>1</td>\n",
              "      <td>Cumings, Mrs. John Bradley (Florence Briggs Th...</td>\n",
              "      <td>female</td>\n",
              "      <td>38.0</td>\n",
              "      <td>1</td>\n",
              "      <td>0</td>\n",
              "      <td>PC 17599</td>\n",
              "      <td>71.2833</td>\n",
              "      <td>C85</td>\n",
              "      <td>C</td>\n",
              "    </tr>\n",
              "    <tr>\n",
              "      <th>2</th>\n",
              "      <td>3</td>\n",
              "      <td>1</td>\n",
              "      <td>3</td>\n",
              "      <td>Heikkinen, Miss. Laina</td>\n",
              "      <td>female</td>\n",
              "      <td>26.0</td>\n",
              "      <td>0</td>\n",
              "      <td>0</td>\n",
              "      <td>STON/O2. 3101282</td>\n",
              "      <td>7.9250</td>\n",
              "      <td>NaN</td>\n",
              "      <td>S</td>\n",
              "    </tr>\n",
              "    <tr>\n",
              "      <th>3</th>\n",
              "      <td>4</td>\n",
              "      <td>1</td>\n",
              "      <td>1</td>\n",
              "      <td>Futrelle, Mrs. Jacques Heath (Lily May Peel)</td>\n",
              "      <td>female</td>\n",
              "      <td>35.0</td>\n",
              "      <td>1</td>\n",
              "      <td>0</td>\n",
              "      <td>113803</td>\n",
              "      <td>53.1000</td>\n",
              "      <td>C123</td>\n",
              "      <td>S</td>\n",
              "    </tr>\n",
              "    <tr>\n",
              "      <th>4</th>\n",
              "      <td>5</td>\n",
              "      <td>0</td>\n",
              "      <td>3</td>\n",
              "      <td>Allen, Mr. William Henry</td>\n",
              "      <td>male</td>\n",
              "      <td>35.0</td>\n",
              "      <td>0</td>\n",
              "      <td>0</td>\n",
              "      <td>373450</td>\n",
              "      <td>8.0500</td>\n",
              "      <td>NaN</td>\n",
              "      <td>S</td>\n",
              "    </tr>\n",
              "  </tbody>\n",
              "</table>\n",
              "</div>\n",
              "    <div class=\"colab-df-buttons\">\n",
              "\n",
              "  <div class=\"colab-df-container\">\n",
              "    <button class=\"colab-df-convert\" onclick=\"convertToInteractive('df-2ea9fab9-04c7-422e-8fd4-16963aec357e')\"\n",
              "            title=\"Convert this dataframe to an interactive table.\"\n",
              "            style=\"display:none;\">\n",
              "\n",
              "  <svg xmlns=\"http://www.w3.org/2000/svg\" height=\"24px\" viewBox=\"0 -960 960 960\">\n",
              "    <path d=\"M120-120v-720h720v720H120Zm60-500h600v-160H180v160Zm220 220h160v-160H400v160Zm0 220h160v-160H400v160ZM180-400h160v-160H180v160Zm440 0h160v-160H620v160ZM180-180h160v-160H180v160Zm440 0h160v-160H620v160Z\"/>\n",
              "  </svg>\n",
              "    </button>\n",
              "\n",
              "  <style>\n",
              "    .colab-df-container {\n",
              "      display:flex;\n",
              "      gap: 12px;\n",
              "    }\n",
              "\n",
              "    .colab-df-convert {\n",
              "      background-color: #E8F0FE;\n",
              "      border: none;\n",
              "      border-radius: 50%;\n",
              "      cursor: pointer;\n",
              "      display: none;\n",
              "      fill: #1967D2;\n",
              "      height: 32px;\n",
              "      padding: 0 0 0 0;\n",
              "      width: 32px;\n",
              "    }\n",
              "\n",
              "    .colab-df-convert:hover {\n",
              "      background-color: #E2EBFA;\n",
              "      box-shadow: 0px 1px 2px rgba(60, 64, 67, 0.3), 0px 1px 3px 1px rgba(60, 64, 67, 0.15);\n",
              "      fill: #174EA6;\n",
              "    }\n",
              "\n",
              "    .colab-df-buttons div {\n",
              "      margin-bottom: 4px;\n",
              "    }\n",
              "\n",
              "    [theme=dark] .colab-df-convert {\n",
              "      background-color: #3B4455;\n",
              "      fill: #D2E3FC;\n",
              "    }\n",
              "\n",
              "    [theme=dark] .colab-df-convert:hover {\n",
              "      background-color: #434B5C;\n",
              "      box-shadow: 0px 1px 3px 1px rgba(0, 0, 0, 0.15);\n",
              "      filter: drop-shadow(0px 1px 2px rgba(0, 0, 0, 0.3));\n",
              "      fill: #FFFFFF;\n",
              "    }\n",
              "  </style>\n",
              "\n",
              "    <script>\n",
              "      const buttonEl =\n",
              "        document.querySelector('#df-2ea9fab9-04c7-422e-8fd4-16963aec357e button.colab-df-convert');\n",
              "      buttonEl.style.display =\n",
              "        google.colab.kernel.accessAllowed ? 'block' : 'none';\n",
              "\n",
              "      async function convertToInteractive(key) {\n",
              "        const element = document.querySelector('#df-2ea9fab9-04c7-422e-8fd4-16963aec357e');\n",
              "        const dataTable =\n",
              "          await google.colab.kernel.invokeFunction('convertToInteractive',\n",
              "                                                    [key], {});\n",
              "        if (!dataTable) return;\n",
              "\n",
              "        const docLinkHtml = 'Like what you see? Visit the ' +\n",
              "          '<a target=\"_blank\" href=https://colab.research.google.com/notebooks/data_table.ipynb>data table notebook</a>'\n",
              "          + ' to learn more about interactive tables.';\n",
              "        element.innerHTML = '';\n",
              "        dataTable['output_type'] = 'display_data';\n",
              "        await google.colab.output.renderOutput(dataTable, element);\n",
              "        const docLink = document.createElement('div');\n",
              "        docLink.innerHTML = docLinkHtml;\n",
              "        element.appendChild(docLink);\n",
              "      }\n",
              "    </script>\n",
              "  </div>\n",
              "\n",
              "\n",
              "<div id=\"df-b8aa3fec-6fd0-4698-867b-f1b88c29634e\">\n",
              "  <button class=\"colab-df-quickchart\" onclick=\"quickchart('df-b8aa3fec-6fd0-4698-867b-f1b88c29634e')\"\n",
              "            title=\"Suggest charts\"\n",
              "            style=\"display:none;\">\n",
              "\n",
              "<svg xmlns=\"http://www.w3.org/2000/svg\" height=\"24px\"viewBox=\"0 0 24 24\"\n",
              "     width=\"24px\">\n",
              "    <g>\n",
              "        <path d=\"M19 3H5c-1.1 0-2 .9-2 2v14c0 1.1.9 2 2 2h14c1.1 0 2-.9 2-2V5c0-1.1-.9-2-2-2zM9 17H7v-7h2v7zm4 0h-2V7h2v10zm4 0h-2v-4h2v4z\"/>\n",
              "    </g>\n",
              "</svg>\n",
              "  </button>\n",
              "\n",
              "<style>\n",
              "  .colab-df-quickchart {\n",
              "      --bg-color: #E8F0FE;\n",
              "      --fill-color: #1967D2;\n",
              "      --hover-bg-color: #E2EBFA;\n",
              "      --hover-fill-color: #174EA6;\n",
              "      --disabled-fill-color: #AAA;\n",
              "      --disabled-bg-color: #DDD;\n",
              "  }\n",
              "\n",
              "  [theme=dark] .colab-df-quickchart {\n",
              "      --bg-color: #3B4455;\n",
              "      --fill-color: #D2E3FC;\n",
              "      --hover-bg-color: #434B5C;\n",
              "      --hover-fill-color: #FFFFFF;\n",
              "      --disabled-bg-color: #3B4455;\n",
              "      --disabled-fill-color: #666;\n",
              "  }\n",
              "\n",
              "  .colab-df-quickchart {\n",
              "    background-color: var(--bg-color);\n",
              "    border: none;\n",
              "    border-radius: 50%;\n",
              "    cursor: pointer;\n",
              "    display: none;\n",
              "    fill: var(--fill-color);\n",
              "    height: 32px;\n",
              "    padding: 0;\n",
              "    width: 32px;\n",
              "  }\n",
              "\n",
              "  .colab-df-quickchart:hover {\n",
              "    background-color: var(--hover-bg-color);\n",
              "    box-shadow: 0 1px 2px rgba(60, 64, 67, 0.3), 0 1px 3px 1px rgba(60, 64, 67, 0.15);\n",
              "    fill: var(--button-hover-fill-color);\n",
              "  }\n",
              "\n",
              "  .colab-df-quickchart-complete:disabled,\n",
              "  .colab-df-quickchart-complete:disabled:hover {\n",
              "    background-color: var(--disabled-bg-color);\n",
              "    fill: var(--disabled-fill-color);\n",
              "    box-shadow: none;\n",
              "  }\n",
              "\n",
              "  .colab-df-spinner {\n",
              "    border: 2px solid var(--fill-color);\n",
              "    border-color: transparent;\n",
              "    border-bottom-color: var(--fill-color);\n",
              "    animation:\n",
              "      spin 1s steps(1) infinite;\n",
              "  }\n",
              "\n",
              "  @keyframes spin {\n",
              "    0% {\n",
              "      border-color: transparent;\n",
              "      border-bottom-color: var(--fill-color);\n",
              "      border-left-color: var(--fill-color);\n",
              "    }\n",
              "    20% {\n",
              "      border-color: transparent;\n",
              "      border-left-color: var(--fill-color);\n",
              "      border-top-color: var(--fill-color);\n",
              "    }\n",
              "    30% {\n",
              "      border-color: transparent;\n",
              "      border-left-color: var(--fill-color);\n",
              "      border-top-color: var(--fill-color);\n",
              "      border-right-color: var(--fill-color);\n",
              "    }\n",
              "    40% {\n",
              "      border-color: transparent;\n",
              "      border-right-color: var(--fill-color);\n",
              "      border-top-color: var(--fill-color);\n",
              "    }\n",
              "    60% {\n",
              "      border-color: transparent;\n",
              "      border-right-color: var(--fill-color);\n",
              "    }\n",
              "    80% {\n",
              "      border-color: transparent;\n",
              "      border-right-color: var(--fill-color);\n",
              "      border-bottom-color: var(--fill-color);\n",
              "    }\n",
              "    90% {\n",
              "      border-color: transparent;\n",
              "      border-bottom-color: var(--fill-color);\n",
              "    }\n",
              "  }\n",
              "</style>\n",
              "\n",
              "  <script>\n",
              "    async function quickchart(key) {\n",
              "      const quickchartButtonEl =\n",
              "        document.querySelector('#' + key + ' button');\n",
              "      quickchartButtonEl.disabled = true;  // To prevent multiple clicks.\n",
              "      quickchartButtonEl.classList.add('colab-df-spinner');\n",
              "      try {\n",
              "        const charts = await google.colab.kernel.invokeFunction(\n",
              "            'suggestCharts', [key], {});\n",
              "      } catch (error) {\n",
              "        console.error('Error during call to suggestCharts:', error);\n",
              "      }\n",
              "      quickchartButtonEl.classList.remove('colab-df-spinner');\n",
              "      quickchartButtonEl.classList.add('colab-df-quickchart-complete');\n",
              "    }\n",
              "    (() => {\n",
              "      let quickchartButtonEl =\n",
              "        document.querySelector('#df-b8aa3fec-6fd0-4698-867b-f1b88c29634e button');\n",
              "      quickchartButtonEl.style.display =\n",
              "        google.colab.kernel.accessAllowed ? 'block' : 'none';\n",
              "    })();\n",
              "  </script>\n",
              "</div>\n",
              "\n",
              "    </div>\n",
              "  </div>\n"
            ],
            "application/vnd.google.colaboratory.intrinsic+json": {
              "type": "dataframe",
              "variable_name": "train_df",
              "summary": "{\n  \"name\": \"train_df\",\n  \"rows\": 891,\n  \"fields\": [\n    {\n      \"column\": \"PassengerId\",\n      \"properties\": {\n        \"dtype\": \"number\",\n        \"std\": 257,\n        \"min\": 1,\n        \"max\": 891,\n        \"num_unique_values\": 891,\n        \"samples\": [\n          710,\n          440,\n          841\n        ],\n        \"semantic_type\": \"\",\n        \"description\": \"\"\n      }\n    },\n    {\n      \"column\": \"Survived\",\n      \"properties\": {\n        \"dtype\": \"number\",\n        \"std\": 0,\n        \"min\": 0,\n        \"max\": 1,\n        \"num_unique_values\": 2,\n        \"samples\": [\n          1,\n          0\n        ],\n        \"semantic_type\": \"\",\n        \"description\": \"\"\n      }\n    },\n    {\n      \"column\": \"Pclass\",\n      \"properties\": {\n        \"dtype\": \"number\",\n        \"std\": 0,\n        \"min\": 1,\n        \"max\": 3,\n        \"num_unique_values\": 3,\n        \"samples\": [\n          3,\n          1\n        ],\n        \"semantic_type\": \"\",\n        \"description\": \"\"\n      }\n    },\n    {\n      \"column\": \"Name\",\n      \"properties\": {\n        \"dtype\": \"string\",\n        \"num_unique_values\": 891,\n        \"samples\": [\n          \"Moubarek, Master. Halim Gonios (\\\"William George\\\")\",\n          \"Kvillner, Mr. Johan Henrik Johannesson\"\n        ],\n        \"semantic_type\": \"\",\n        \"description\": \"\"\n      }\n    },\n    {\n      \"column\": \"Sex\",\n      \"properties\": {\n        \"dtype\": \"category\",\n        \"num_unique_values\": 2,\n        \"samples\": [\n          \"female\",\n          \"male\"\n        ],\n        \"semantic_type\": \"\",\n        \"description\": \"\"\n      }\n    },\n    {\n      \"column\": \"Age\",\n      \"properties\": {\n        \"dtype\": \"number\",\n        \"std\": 14.526497332334042,\n        \"min\": 0.42,\n        \"max\": 80.0,\n        \"num_unique_values\": 88,\n        \"samples\": [\n          0.75,\n          22.0\n        ],\n        \"semantic_type\": \"\",\n        \"description\": \"\"\n      }\n    },\n    {\n      \"column\": \"SibSp\",\n      \"properties\": {\n        \"dtype\": \"number\",\n        \"std\": 1,\n        \"min\": 0,\n        \"max\": 8,\n        \"num_unique_values\": 7,\n        \"samples\": [\n          1,\n          0\n        ],\n        \"semantic_type\": \"\",\n        \"description\": \"\"\n      }\n    },\n    {\n      \"column\": \"Parch\",\n      \"properties\": {\n        \"dtype\": \"number\",\n        \"std\": 0,\n        \"min\": 0,\n        \"max\": 6,\n        \"num_unique_values\": 7,\n        \"samples\": [\n          0,\n          1\n        ],\n        \"semantic_type\": \"\",\n        \"description\": \"\"\n      }\n    },\n    {\n      \"column\": \"Ticket\",\n      \"properties\": {\n        \"dtype\": \"string\",\n        \"num_unique_values\": 681,\n        \"samples\": [\n          \"11774\",\n          \"248740\"\n        ],\n        \"semantic_type\": \"\",\n        \"description\": \"\"\n      }\n    },\n    {\n      \"column\": \"Fare\",\n      \"properties\": {\n        \"dtype\": \"number\",\n        \"std\": 49.6934285971809,\n        \"min\": 0.0,\n        \"max\": 512.3292,\n        \"num_unique_values\": 248,\n        \"samples\": [\n          11.2417,\n          51.8625\n        ],\n        \"semantic_type\": \"\",\n        \"description\": \"\"\n      }\n    },\n    {\n      \"column\": \"Cabin\",\n      \"properties\": {\n        \"dtype\": \"category\",\n        \"num_unique_values\": 147,\n        \"samples\": [\n          \"D45\",\n          \"B49\"\n        ],\n        \"semantic_type\": \"\",\n        \"description\": \"\"\n      }\n    },\n    {\n      \"column\": \"Embarked\",\n      \"properties\": {\n        \"dtype\": \"category\",\n        \"num_unique_values\": 3,\n        \"samples\": [\n          \"S\",\n          \"C\"\n        ],\n        \"semantic_type\": \"\",\n        \"description\": \"\"\n      }\n    }\n  ]\n}"
            }
          },
          "metadata": {},
          "execution_count": 6
        }
      ],
      "source": [
        "train_df, test_df = titanic()\n",
        "train_df.head()"
      ]
    },
    {
      "cell_type": "code",
      "execution_count": 7,
      "metadata": {
        "colab": {
          "base_uri": "https://localhost:8080/"
        },
        "id": "nvjxR94v5WIZ",
        "outputId": "2ef130ef-d8ff-48c7-9a7d-85ef618ceeb1"
      },
      "outputs": [
        {
          "output_type": "stream",
          "name": "stdout",
          "text": [
            "<class 'pandas.core.frame.DataFrame'>\n",
            "RangeIndex: 891 entries, 0 to 890\n",
            "Data columns (total 12 columns):\n",
            " #   Column       Non-Null Count  Dtype  \n",
            "---  ------       --------------  -----  \n",
            " 0   PassengerId  891 non-null    int64  \n",
            " 1   Survived     891 non-null    int64  \n",
            " 2   Pclass       891 non-null    int64  \n",
            " 3   Name         891 non-null    object \n",
            " 4   Sex          891 non-null    object \n",
            " 5   Age          714 non-null    float64\n",
            " 6   SibSp        891 non-null    int64  \n",
            " 7   Parch        891 non-null    int64  \n",
            " 8   Ticket       891 non-null    object \n",
            " 9   Fare         891 non-null    float64\n",
            " 10  Cabin        204 non-null    object \n",
            " 11  Embarked     889 non-null    object \n",
            "dtypes: float64(2), int64(5), object(5)\n",
            "memory usage: 83.7+ KB\n"
          ]
        }
      ],
      "source": [
        "train_df.info()"
      ]
    },
    {
      "cell_type": "code",
      "execution_count": 8,
      "metadata": {
        "colab": {
          "base_uri": "https://localhost:8080/"
        },
        "id": "M-bNl_fm5WIa",
        "outputId": "b6faa528-8857-4f49-fe08-65825b858d5b"
      },
      "outputs": [
        {
          "output_type": "stream",
          "name": "stdout",
          "text": [
            "<class 'pandas.core.frame.DataFrame'>\n",
            "RangeIndex: 418 entries, 0 to 417\n",
            "Data columns (total 11 columns):\n",
            " #   Column       Non-Null Count  Dtype  \n",
            "---  ------       --------------  -----  \n",
            " 0   PassengerId  418 non-null    int64  \n",
            " 1   Pclass       418 non-null    int64  \n",
            " 2   Name         418 non-null    object \n",
            " 3   Sex          418 non-null    object \n",
            " 4   Age          332 non-null    float64\n",
            " 5   SibSp        418 non-null    int64  \n",
            " 6   Parch        418 non-null    int64  \n",
            " 7   Ticket       418 non-null    object \n",
            " 8   Fare         417 non-null    float64\n",
            " 9   Cabin        91 non-null     object \n",
            " 10  Embarked     418 non-null    object \n",
            "dtypes: float64(2), int64(4), object(5)\n",
            "memory usage: 36.0+ KB\n"
          ]
        }
      ],
      "source": [
        "test_df.info()"
      ]
    },
    {
      "cell_type": "code",
      "execution_count": 9,
      "metadata": {
        "colab": {
          "base_uri": "https://localhost:8080/"
        },
        "id": "rIAqzInM5WIc",
        "outputId": "f934d321-c057-40b1-8294-0f425b7759a9"
      },
      "outputs": [
        {
          "output_type": "stream",
          "name": "stdout",
          "text": [
            "Number of unique values:\n",
            "PassengerId : 891\n",
            "Survived : 2\n",
            "Pclass : 3\n",
            "Name : 891\n",
            "Sex : 2\n",
            "Age : 88\n",
            "SibSp : 7\n",
            "Parch : 7\n",
            "Ticket : 681\n",
            "Fare : 248\n",
            "Cabin : 147\n",
            "Embarked : 3\n"
          ]
        }
      ],
      "source": [
        "print(\"Number of unique values:\")\n",
        "for col in train_df.columns:\n",
        "    print(col, \":\", train_df[col].nunique())"
      ]
    },
    {
      "cell_type": "code",
      "execution_count": 10,
      "metadata": {
        "colab": {
          "base_uri": "https://localhost:8080/",
          "height": 216
        },
        "id": "YBSqoFnq5WIc",
        "outputId": "132abf3b-640e-4648-fc61-1a1a906ffaaf"
      },
      "outputs": [
        {
          "output_type": "stream",
          "name": "stdout",
          "text": [
            "Number of null values:\n"
          ]
        },
        {
          "output_type": "execute_result",
          "data": {
            "text/plain": [
              "Age         177\n",
              "Cabin       687\n",
              "Embarked      2\n",
              "dtype: int64"
            ],
            "text/html": [
              "<div>\n",
              "<style scoped>\n",
              "    .dataframe tbody tr th:only-of-type {\n",
              "        vertical-align: middle;\n",
              "    }\n",
              "\n",
              "    .dataframe tbody tr th {\n",
              "        vertical-align: top;\n",
              "    }\n",
              "\n",
              "    .dataframe thead th {\n",
              "        text-align: right;\n",
              "    }\n",
              "</style>\n",
              "<table border=\"1\" class=\"dataframe\">\n",
              "  <thead>\n",
              "    <tr style=\"text-align: right;\">\n",
              "      <th></th>\n",
              "      <th>0</th>\n",
              "    </tr>\n",
              "  </thead>\n",
              "  <tbody>\n",
              "    <tr>\n",
              "      <th>Age</th>\n",
              "      <td>177</td>\n",
              "    </tr>\n",
              "    <tr>\n",
              "      <th>Cabin</th>\n",
              "      <td>687</td>\n",
              "    </tr>\n",
              "    <tr>\n",
              "      <th>Embarked</th>\n",
              "      <td>2</td>\n",
              "    </tr>\n",
              "  </tbody>\n",
              "</table>\n",
              "</div><br><label><b>dtype:</b> int64</label>"
            ]
          },
          "metadata": {},
          "execution_count": 10
        }
      ],
      "source": [
        "print(\"Number of null values:\")\n",
        "null_vals = train_df.isnull().sum(axis=0)\n",
        "null_vals[null_vals!=0]"
      ]
    },
    {
      "cell_type": "code",
      "execution_count": 11,
      "metadata": {
        "id": "G3LuTi3D5WId"
      },
      "outputs": [],
      "source": [
        "train_df.fillna(-9999, inplace=True)\n",
        "test_df.fillna(-9999, inplace=True)"
      ]
    },
    {
      "cell_type": "code",
      "execution_count": 12,
      "metadata": {
        "colab": {
          "base_uri": "https://localhost:8080/",
          "height": 122
        },
        "id": "d2a_CZbY5WIe",
        "outputId": "4485b0d1-6d72-47c8-d514-3157f79e97f9"
      },
      "outputs": [
        {
          "output_type": "stream",
          "name": "stdout",
          "text": [
            "Number of null values:\n"
          ]
        },
        {
          "output_type": "execute_result",
          "data": {
            "text/plain": [
              "Series([], dtype: int64)"
            ],
            "text/html": [
              "<div>\n",
              "<style scoped>\n",
              "    .dataframe tbody tr th:only-of-type {\n",
              "        vertical-align: middle;\n",
              "    }\n",
              "\n",
              "    .dataframe tbody tr th {\n",
              "        vertical-align: top;\n",
              "    }\n",
              "\n",
              "    .dataframe thead th {\n",
              "        text-align: right;\n",
              "    }\n",
              "</style>\n",
              "<table border=\"1\" class=\"dataframe\">\n",
              "  <thead>\n",
              "    <tr style=\"text-align: right;\">\n",
              "      <th></th>\n",
              "      <th>0</th>\n",
              "    </tr>\n",
              "  </thead>\n",
              "  <tbody>\n",
              "  </tbody>\n",
              "</table>\n",
              "</div><br><label><b>dtype:</b> int64</label>"
            ]
          },
          "metadata": {},
          "execution_count": 12
        }
      ],
      "source": [
        "print(\"Number of null values:\")\n",
        "null_vals = train_df.isnull().sum(axis=0)\n",
        "null_vals[null_vals!=0]"
      ]
    },
    {
      "cell_type": "code",
      "execution_count": 13,
      "metadata": {
        "id": "rLoU9zup5WIe"
      },
      "outputs": [],
      "source": [
        "X = train_df.drop('Survived', axis=1)\n",
        "y = train_df.Survived"
      ]
    },
    {
      "cell_type": "code",
      "execution_count": 14,
      "metadata": {
        "colab": {
          "base_uri": "https://localhost:8080/",
          "height": 449
        },
        "id": "VwxhV0ZW5WIf",
        "outputId": "e53c71d1-8dc2-46f3-f8fa-579509e41b02"
      },
      "outputs": [
        {
          "output_type": "execute_result",
          "data": {
            "text/plain": [
              "PassengerId      int64\n",
              "Pclass           int64\n",
              "Name            object\n",
              "Sex             object\n",
              "Age            float64\n",
              "SibSp            int64\n",
              "Parch            int64\n",
              "Ticket          object\n",
              "Fare           float64\n",
              "Cabin           object\n",
              "Embarked        object\n",
              "dtype: object"
            ],
            "text/html": [
              "<div>\n",
              "<style scoped>\n",
              "    .dataframe tbody tr th:only-of-type {\n",
              "        vertical-align: middle;\n",
              "    }\n",
              "\n",
              "    .dataframe tbody tr th {\n",
              "        vertical-align: top;\n",
              "    }\n",
              "\n",
              "    .dataframe thead th {\n",
              "        text-align: right;\n",
              "    }\n",
              "</style>\n",
              "<table border=\"1\" class=\"dataframe\">\n",
              "  <thead>\n",
              "    <tr style=\"text-align: right;\">\n",
              "      <th></th>\n",
              "      <th>0</th>\n",
              "    </tr>\n",
              "  </thead>\n",
              "  <tbody>\n",
              "    <tr>\n",
              "      <th>PassengerId</th>\n",
              "      <td>int64</td>\n",
              "    </tr>\n",
              "    <tr>\n",
              "      <th>Pclass</th>\n",
              "      <td>int64</td>\n",
              "    </tr>\n",
              "    <tr>\n",
              "      <th>Name</th>\n",
              "      <td>object</td>\n",
              "    </tr>\n",
              "    <tr>\n",
              "      <th>Sex</th>\n",
              "      <td>object</td>\n",
              "    </tr>\n",
              "    <tr>\n",
              "      <th>Age</th>\n",
              "      <td>float64</td>\n",
              "    </tr>\n",
              "    <tr>\n",
              "      <th>SibSp</th>\n",
              "      <td>int64</td>\n",
              "    </tr>\n",
              "    <tr>\n",
              "      <th>Parch</th>\n",
              "      <td>int64</td>\n",
              "    </tr>\n",
              "    <tr>\n",
              "      <th>Ticket</th>\n",
              "      <td>object</td>\n",
              "    </tr>\n",
              "    <tr>\n",
              "      <th>Fare</th>\n",
              "      <td>float64</td>\n",
              "    </tr>\n",
              "    <tr>\n",
              "      <th>Cabin</th>\n",
              "      <td>object</td>\n",
              "    </tr>\n",
              "    <tr>\n",
              "      <th>Embarked</th>\n",
              "      <td>object</td>\n",
              "    </tr>\n",
              "  </tbody>\n",
              "</table>\n",
              "</div><br><label><b>dtype:</b> object</label>"
            ]
          },
          "metadata": {},
          "execution_count": 14
        }
      ],
      "source": [
        "X.dtypes"
      ]
    },
    {
      "cell_type": "code",
      "execution_count": 15,
      "metadata": {
        "id": "cDEk0MOS5WIg"
      },
      "outputs": [],
      "source": [
        "categorical_features_indices = np.where(X.dtypes != float)[0]"
      ]
    },
    {
      "cell_type": "code",
      "execution_count": 16,
      "metadata": {
        "colab": {
          "base_uri": "https://localhost:8080/"
        },
        "id": "wgMBXf6_5WIh",
        "outputId": "0563ecfd-5a91-4129-d412-aff388709f5c"
      },
      "outputs": [
        {
          "output_type": "execute_result",
          "data": {
            "text/plain": [
              "array([ 0,  1,  2,  3,  5,  6,  7,  9, 10])"
            ]
          },
          "metadata": {},
          "execution_count": 16
        }
      ],
      "source": [
        "categorical_features_indices"
      ]
    },
    {
      "cell_type": "code",
      "execution_count": 17,
      "metadata": {
        "id": "yEtR_6EV5WIh"
      },
      "outputs": [],
      "source": [
        "X_train, X_validation, y_train, y_validation = train_test_split(X, y, train_size=0.75, random_state=42)\n",
        "X_test = test_df"
      ]
    },
    {
      "cell_type": "code",
      "execution_count": 18,
      "metadata": {
        "id": "IV6rI7ML5WIh"
      },
      "outputs": [],
      "source": [
        "from catboost import CatBoostClassifier, Pool, metrics, cv\n",
        "from sklearn.metrics import accuracy_score"
      ]
    },
    {
      "cell_type": "code",
      "execution_count": 19,
      "metadata": {
        "colab": {
          "base_uri": "https://localhost:8080/",
          "height": 55,
          "referenced_widgets": [
            "e20b6acfd5484cc988f4b4637abd483d"
          ]
        },
        "id": "QGfNz19e5WIh",
        "outputId": "75e946f3-8cc0-4b43-fdaf-7adb9b6b2843"
      },
      "outputs": [
        {
          "output_type": "display_data",
          "data": {
            "text/plain": [
              "MetricVisualizer(layout=Layout(align_self='stretch', height='500px'))"
            ],
            "application/vnd.jupyter.widget-view+json": {
              "version_major": 2,
              "version_minor": 0,
              "model_id": "e20b6acfd5484cc988f4b4637abd483d"
            }
          },
          "metadata": {}
        },
        {
          "output_type": "execute_result",
          "data": {
            "text/plain": [
              "<catboost.core.CatBoostClassifier at 0x7d22f330d750>"
            ]
          },
          "metadata": {},
          "execution_count": 19
        }
      ],
      "source": [
        "model = CatBoostClassifier(\n",
        "    custom_loss=[metrics.Accuracy()],\n",
        "    random_seed=42,\n",
        "    logging_level='Silent',\n",
        "    early_stopping_rounds=50\n",
        ")\n",
        "model.fit(\n",
        "    X_train, y_train,\n",
        "    cat_features=categorical_features_indices,\n",
        "    eval_set=(X_validation, y_validation),\n",
        "    logging_level='Silent',\n",
        "    plot=True\n",
        ")"
      ]
    },
    {
      "cell_type": "code",
      "execution_count": 20,
      "metadata": {
        "colab": {
          "base_uri": "https://localhost:8080/"
        },
        "id": "x_FlnXll5WIi",
        "outputId": "5bd2a55a-4916-4733-c8b2-5b717d161c38"
      },
      "outputs": [
        {
          "output_type": "execute_result",
          "data": {
            "text/plain": [
              "{'random_seed': 42,\n",
              " 'logging_level': 'Silent',\n",
              " 'custom_loss': ['Accuracy'],\n",
              " 'early_stopping_rounds': 50}"
            ]
          },
          "metadata": {},
          "execution_count": 20
        }
      ],
      "source": [
        "cv_params = model.get_params()\n",
        "cv_params"
      ]
    },
    {
      "cell_type": "code",
      "execution_count": 21,
      "metadata": {
        "colab": {
          "base_uri": "https://localhost:8080/",
          "height": 37,
          "referenced_widgets": [
            "9cbdb54ae5cb4bd78f9709a5f9266240"
          ]
        },
        "id": "-3FNQIRP5WIi",
        "outputId": "5118a614-a836-475a-9a20-3e2a9821d12f"
      },
      "outputs": [
        {
          "output_type": "display_data",
          "data": {
            "text/plain": [
              "MetricVisualizer(layout=Layout(align_self='stretch', height='500px'))"
            ],
            "application/vnd.jupyter.widget-view+json": {
              "version_major": 2,
              "version_minor": 0,
              "model_id": "9cbdb54ae5cb4bd78f9709a5f9266240"
            }
          },
          "metadata": {}
        }
      ],
      "source": [
        "cv_params.update(\n",
        "    {\n",
        "    'loss_function': metrics.Logloss()\n",
        "    }\n",
        ")\n",
        "cv_data = cv(\n",
        "    Pool(X, y, cat_features=categorical_features_indices),\n",
        "    cv_params,\n",
        "    plot=True\n",
        ")"
      ]
    },
    {
      "cell_type": "code",
      "execution_count": 22,
      "metadata": {
        "colab": {
          "base_uri": "https://localhost:8080/",
          "height": 226
        },
        "id": "DuEXRlA15WIk",
        "outputId": "83b0e06a-c11c-4ed0-ef5d-e9232e4458f4"
      },
      "outputs": [
        {
          "output_type": "execute_result",
          "data": {
            "text/plain": [
              "   iterations  test-Logloss-mean  test-Logloss-std  train-Logloss-mean  \\\n",
              "0           0           0.676936          0.001133            0.676477   \n",
              "1           1           0.660661          0.000697            0.659381   \n",
              "2           2           0.646543          0.001920            0.645228   \n",
              "3           3           0.632857          0.003376            0.631048   \n",
              "4           4           0.619750          0.004936            0.617523   \n",
              "\n",
              "   train-Logloss-std  test-Accuracy-mean  test-Accuracy-std  \\\n",
              "0           0.003152            0.794613           0.003367   \n",
              "1           0.003172            0.795735           0.030365   \n",
              "2           0.004168            0.803591           0.028636   \n",
              "3           0.004247            0.804714           0.026725   \n",
              "4           0.005041            0.803591           0.026153   \n",
              "\n",
              "   train-Accuracy-mean  train-Accuracy-std  \n",
              "0             0.798541            0.020778  \n",
              "1             0.812009            0.010286  \n",
              "2             0.812009            0.014119  \n",
              "3             0.812570            0.012179  \n",
              "4             0.813692            0.011459  "
            ],
            "text/html": [
              "\n",
              "  <div id=\"df-4ddd3db7-a72b-480e-850c-8f8cb93cbae8\" class=\"colab-df-container\">\n",
              "    <div>\n",
              "<style scoped>\n",
              "    .dataframe tbody tr th:only-of-type {\n",
              "        vertical-align: middle;\n",
              "    }\n",
              "\n",
              "    .dataframe tbody tr th {\n",
              "        vertical-align: top;\n",
              "    }\n",
              "\n",
              "    .dataframe thead th {\n",
              "        text-align: right;\n",
              "    }\n",
              "</style>\n",
              "<table border=\"1\" class=\"dataframe\">\n",
              "  <thead>\n",
              "    <tr style=\"text-align: right;\">\n",
              "      <th></th>\n",
              "      <th>iterations</th>\n",
              "      <th>test-Logloss-mean</th>\n",
              "      <th>test-Logloss-std</th>\n",
              "      <th>train-Logloss-mean</th>\n",
              "      <th>train-Logloss-std</th>\n",
              "      <th>test-Accuracy-mean</th>\n",
              "      <th>test-Accuracy-std</th>\n",
              "      <th>train-Accuracy-mean</th>\n",
              "      <th>train-Accuracy-std</th>\n",
              "    </tr>\n",
              "  </thead>\n",
              "  <tbody>\n",
              "    <tr>\n",
              "      <th>0</th>\n",
              "      <td>0</td>\n",
              "      <td>0.676936</td>\n",
              "      <td>0.001133</td>\n",
              "      <td>0.676477</td>\n",
              "      <td>0.003152</td>\n",
              "      <td>0.794613</td>\n",
              "      <td>0.003367</td>\n",
              "      <td>0.798541</td>\n",
              "      <td>0.020778</td>\n",
              "    </tr>\n",
              "    <tr>\n",
              "      <th>1</th>\n",
              "      <td>1</td>\n",
              "      <td>0.660661</td>\n",
              "      <td>0.000697</td>\n",
              "      <td>0.659381</td>\n",
              "      <td>0.003172</td>\n",
              "      <td>0.795735</td>\n",
              "      <td>0.030365</td>\n",
              "      <td>0.812009</td>\n",
              "      <td>0.010286</td>\n",
              "    </tr>\n",
              "    <tr>\n",
              "      <th>2</th>\n",
              "      <td>2</td>\n",
              "      <td>0.646543</td>\n",
              "      <td>0.001920</td>\n",
              "      <td>0.645228</td>\n",
              "      <td>0.004168</td>\n",
              "      <td>0.803591</td>\n",
              "      <td>0.028636</td>\n",
              "      <td>0.812009</td>\n",
              "      <td>0.014119</td>\n",
              "    </tr>\n",
              "    <tr>\n",
              "      <th>3</th>\n",
              "      <td>3</td>\n",
              "      <td>0.632857</td>\n",
              "      <td>0.003376</td>\n",
              "      <td>0.631048</td>\n",
              "      <td>0.004247</td>\n",
              "      <td>0.804714</td>\n",
              "      <td>0.026725</td>\n",
              "      <td>0.812570</td>\n",
              "      <td>0.012179</td>\n",
              "    </tr>\n",
              "    <tr>\n",
              "      <th>4</th>\n",
              "      <td>4</td>\n",
              "      <td>0.619750</td>\n",
              "      <td>0.004936</td>\n",
              "      <td>0.617523</td>\n",
              "      <td>0.005041</td>\n",
              "      <td>0.803591</td>\n",
              "      <td>0.026153</td>\n",
              "      <td>0.813692</td>\n",
              "      <td>0.011459</td>\n",
              "    </tr>\n",
              "  </tbody>\n",
              "</table>\n",
              "</div>\n",
              "    <div class=\"colab-df-buttons\">\n",
              "\n",
              "  <div class=\"colab-df-container\">\n",
              "    <button class=\"colab-df-convert\" onclick=\"convertToInteractive('df-4ddd3db7-a72b-480e-850c-8f8cb93cbae8')\"\n",
              "            title=\"Convert this dataframe to an interactive table.\"\n",
              "            style=\"display:none;\">\n",
              "\n",
              "  <svg xmlns=\"http://www.w3.org/2000/svg\" height=\"24px\" viewBox=\"0 -960 960 960\">\n",
              "    <path d=\"M120-120v-720h720v720H120Zm60-500h600v-160H180v160Zm220 220h160v-160H400v160Zm0 220h160v-160H400v160ZM180-400h160v-160H180v160Zm440 0h160v-160H620v160ZM180-180h160v-160H180v160Zm440 0h160v-160H620v160Z\"/>\n",
              "  </svg>\n",
              "    </button>\n",
              "\n",
              "  <style>\n",
              "    .colab-df-container {\n",
              "      display:flex;\n",
              "      gap: 12px;\n",
              "    }\n",
              "\n",
              "    .colab-df-convert {\n",
              "      background-color: #E8F0FE;\n",
              "      border: none;\n",
              "      border-radius: 50%;\n",
              "      cursor: pointer;\n",
              "      display: none;\n",
              "      fill: #1967D2;\n",
              "      height: 32px;\n",
              "      padding: 0 0 0 0;\n",
              "      width: 32px;\n",
              "    }\n",
              "\n",
              "    .colab-df-convert:hover {\n",
              "      background-color: #E2EBFA;\n",
              "      box-shadow: 0px 1px 2px rgba(60, 64, 67, 0.3), 0px 1px 3px 1px rgba(60, 64, 67, 0.15);\n",
              "      fill: #174EA6;\n",
              "    }\n",
              "\n",
              "    .colab-df-buttons div {\n",
              "      margin-bottom: 4px;\n",
              "    }\n",
              "\n",
              "    [theme=dark] .colab-df-convert {\n",
              "      background-color: #3B4455;\n",
              "      fill: #D2E3FC;\n",
              "    }\n",
              "\n",
              "    [theme=dark] .colab-df-convert:hover {\n",
              "      background-color: #434B5C;\n",
              "      box-shadow: 0px 1px 3px 1px rgba(0, 0, 0, 0.15);\n",
              "      filter: drop-shadow(0px 1px 2px rgba(0, 0, 0, 0.3));\n",
              "      fill: #FFFFFF;\n",
              "    }\n",
              "  </style>\n",
              "\n",
              "    <script>\n",
              "      const buttonEl =\n",
              "        document.querySelector('#df-4ddd3db7-a72b-480e-850c-8f8cb93cbae8 button.colab-df-convert');\n",
              "      buttonEl.style.display =\n",
              "        google.colab.kernel.accessAllowed ? 'block' : 'none';\n",
              "\n",
              "      async function convertToInteractive(key) {\n",
              "        const element = document.querySelector('#df-4ddd3db7-a72b-480e-850c-8f8cb93cbae8');\n",
              "        const dataTable =\n",
              "          await google.colab.kernel.invokeFunction('convertToInteractive',\n",
              "                                                    [key], {});\n",
              "        if (!dataTable) return;\n",
              "\n",
              "        const docLinkHtml = 'Like what you see? Visit the ' +\n",
              "          '<a target=\"_blank\" href=https://colab.research.google.com/notebooks/data_table.ipynb>data table notebook</a>'\n",
              "          + ' to learn more about interactive tables.';\n",
              "        element.innerHTML = '';\n",
              "        dataTable['output_type'] = 'display_data';\n",
              "        await google.colab.output.renderOutput(dataTable, element);\n",
              "        const docLink = document.createElement('div');\n",
              "        docLink.innerHTML = docLinkHtml;\n",
              "        element.appendChild(docLink);\n",
              "      }\n",
              "    </script>\n",
              "  </div>\n",
              "\n",
              "\n",
              "<div id=\"df-b0f227ba-298c-41c9-b131-575bd35c9f63\">\n",
              "  <button class=\"colab-df-quickchart\" onclick=\"quickchart('df-b0f227ba-298c-41c9-b131-575bd35c9f63')\"\n",
              "            title=\"Suggest charts\"\n",
              "            style=\"display:none;\">\n",
              "\n",
              "<svg xmlns=\"http://www.w3.org/2000/svg\" height=\"24px\"viewBox=\"0 0 24 24\"\n",
              "     width=\"24px\">\n",
              "    <g>\n",
              "        <path d=\"M19 3H5c-1.1 0-2 .9-2 2v14c0 1.1.9 2 2 2h14c1.1 0 2-.9 2-2V5c0-1.1-.9-2-2-2zM9 17H7v-7h2v7zm4 0h-2V7h2v10zm4 0h-2v-4h2v4z\"/>\n",
              "    </g>\n",
              "</svg>\n",
              "  </button>\n",
              "\n",
              "<style>\n",
              "  .colab-df-quickchart {\n",
              "      --bg-color: #E8F0FE;\n",
              "      --fill-color: #1967D2;\n",
              "      --hover-bg-color: #E2EBFA;\n",
              "      --hover-fill-color: #174EA6;\n",
              "      --disabled-fill-color: #AAA;\n",
              "      --disabled-bg-color: #DDD;\n",
              "  }\n",
              "\n",
              "  [theme=dark] .colab-df-quickchart {\n",
              "      --bg-color: #3B4455;\n",
              "      --fill-color: #D2E3FC;\n",
              "      --hover-bg-color: #434B5C;\n",
              "      --hover-fill-color: #FFFFFF;\n",
              "      --disabled-bg-color: #3B4455;\n",
              "      --disabled-fill-color: #666;\n",
              "  }\n",
              "\n",
              "  .colab-df-quickchart {\n",
              "    background-color: var(--bg-color);\n",
              "    border: none;\n",
              "    border-radius: 50%;\n",
              "    cursor: pointer;\n",
              "    display: none;\n",
              "    fill: var(--fill-color);\n",
              "    height: 32px;\n",
              "    padding: 0;\n",
              "    width: 32px;\n",
              "  }\n",
              "\n",
              "  .colab-df-quickchart:hover {\n",
              "    background-color: var(--hover-bg-color);\n",
              "    box-shadow: 0 1px 2px rgba(60, 64, 67, 0.3), 0 1px 3px 1px rgba(60, 64, 67, 0.15);\n",
              "    fill: var(--button-hover-fill-color);\n",
              "  }\n",
              "\n",
              "  .colab-df-quickchart-complete:disabled,\n",
              "  .colab-df-quickchart-complete:disabled:hover {\n",
              "    background-color: var(--disabled-bg-color);\n",
              "    fill: var(--disabled-fill-color);\n",
              "    box-shadow: none;\n",
              "  }\n",
              "\n",
              "  .colab-df-spinner {\n",
              "    border: 2px solid var(--fill-color);\n",
              "    border-color: transparent;\n",
              "    border-bottom-color: var(--fill-color);\n",
              "    animation:\n",
              "      spin 1s steps(1) infinite;\n",
              "  }\n",
              "\n",
              "  @keyframes spin {\n",
              "    0% {\n",
              "      border-color: transparent;\n",
              "      border-bottom-color: var(--fill-color);\n",
              "      border-left-color: var(--fill-color);\n",
              "    }\n",
              "    20% {\n",
              "      border-color: transparent;\n",
              "      border-left-color: var(--fill-color);\n",
              "      border-top-color: var(--fill-color);\n",
              "    }\n",
              "    30% {\n",
              "      border-color: transparent;\n",
              "      border-left-color: var(--fill-color);\n",
              "      border-top-color: var(--fill-color);\n",
              "      border-right-color: var(--fill-color);\n",
              "    }\n",
              "    40% {\n",
              "      border-color: transparent;\n",
              "      border-right-color: var(--fill-color);\n",
              "      border-top-color: var(--fill-color);\n",
              "    }\n",
              "    60% {\n",
              "      border-color: transparent;\n",
              "      border-right-color: var(--fill-color);\n",
              "    }\n",
              "    80% {\n",
              "      border-color: transparent;\n",
              "      border-right-color: var(--fill-color);\n",
              "      border-bottom-color: var(--fill-color);\n",
              "    }\n",
              "    90% {\n",
              "      border-color: transparent;\n",
              "      border-bottom-color: var(--fill-color);\n",
              "    }\n",
              "  }\n",
              "</style>\n",
              "\n",
              "  <script>\n",
              "    async function quickchart(key) {\n",
              "      const quickchartButtonEl =\n",
              "        document.querySelector('#' + key + ' button');\n",
              "      quickchartButtonEl.disabled = true;  // To prevent multiple clicks.\n",
              "      quickchartButtonEl.classList.add('colab-df-spinner');\n",
              "      try {\n",
              "        const charts = await google.colab.kernel.invokeFunction(\n",
              "            'suggestCharts', [key], {});\n",
              "      } catch (error) {\n",
              "        console.error('Error during call to suggestCharts:', error);\n",
              "      }\n",
              "      quickchartButtonEl.classList.remove('colab-df-spinner');\n",
              "      quickchartButtonEl.classList.add('colab-df-quickchart-complete');\n",
              "    }\n",
              "    (() => {\n",
              "      let quickchartButtonEl =\n",
              "        document.querySelector('#df-b0f227ba-298c-41c9-b131-575bd35c9f63 button');\n",
              "      quickchartButtonEl.style.display =\n",
              "        google.colab.kernel.accessAllowed ? 'block' : 'none';\n",
              "    })();\n",
              "  </script>\n",
              "</div>\n",
              "\n",
              "    </div>\n",
              "  </div>\n"
            ],
            "application/vnd.google.colaboratory.intrinsic+json": {
              "type": "dataframe",
              "variable_name": "cv_data",
              "summary": "{\n  \"name\": \"cv_data\",\n  \"rows\": 321,\n  \"fields\": [\n    {\n      \"column\": \"iterations\",\n      \"properties\": {\n        \"dtype\": \"number\",\n        \"std\": 92,\n        \"min\": 0,\n        \"max\": 320,\n        \"num_unique_values\": 321,\n        \"samples\": [\n          173,\n          132,\n          197\n        ],\n        \"semantic_type\": \"\",\n        \"description\": \"\"\n      }\n    },\n    {\n      \"column\": \"test-Logloss-mean\",\n      \"properties\": {\n        \"dtype\": \"number\",\n        \"std\": 0.040804989161679205,\n        \"min\": 0.41826658126107374,\n        \"max\": 0.6769355336252033,\n        \"num_unique_values\": 321,\n        \"samples\": [\n          0.42016979114533376,\n          0.4209759447402959,\n          0.4194619530372751\n        ],\n        \"semantic_type\": \"\",\n        \"description\": \"\"\n      }\n    },\n    {\n      \"column\": \"test-Logloss-std\",\n      \"properties\": {\n        \"dtype\": \"number\",\n        \"std\": 0.007559023367474396,\n        \"min\": 0.0006971226515137723,\n        \"max\": 0.037207654008945275,\n        \"num_unique_values\": 321,\n        \"samples\": [\n          0.03539747392156494,\n          0.03314871979379927,\n          0.03599334790246321\n        ],\n        \"semantic_type\": \"\",\n        \"description\": \"\"\n      }\n    },\n    {\n      \"column\": \"train-Logloss-mean\",\n      \"properties\": {\n        \"dtype\": \"number\",\n        \"std\": 0.07292924348989653,\n        \"min\": 0.2870769710490468,\n        \"max\": 0.6764772077105521,\n        \"num_unique_values\": 321,\n        \"samples\": [\n          0.31936089455916356,\n          0.3385613526505171,\n          0.31279525047142925\n        ],\n        \"semantic_type\": \"\",\n        \"description\": \"\"\n      }\n    },\n    {\n      \"column\": \"train-Logloss-std\",\n      \"properties\": {\n        \"dtype\": \"number\",\n        \"std\": 0.004115693130643683,\n        \"min\": 0.0009587282092566329,\n        \"max\": 0.01749563835574467,\n        \"num_unique_values\": 321,\n        \"samples\": [\n          0.011290276275598385,\n          0.012332485190098564,\n          0.005606487331802974\n        ],\n        \"semantic_type\": \"\",\n        \"description\": \"\"\n      }\n    },\n    {\n      \"column\": \"test-Accuracy-mean\",\n      \"properties\": {\n        \"dtype\": \"number\",\n        \"std\": 0.003956244144327635,\n        \"min\": 0.7934904601571269,\n        \"max\": 0.8159371492704827,\n        \"num_unique_values\": 22,\n        \"samples\": [\n          0.7946127946127945,\n          0.8125701459034792,\n          0.7934904601571269\n        ],\n        \"semantic_type\": \"\",\n        \"description\": \"\"\n      }\n    },\n    {\n      \"column\": \"test-Accuracy-std\",\n      \"properties\": {\n        \"dtype\": \"number\",\n        \"std\": 0.005282042555041106,\n        \"min\": 0.003367003367003407,\n        \"max\": 0.03211916503087364,\n        \"num_unique_values\": 58,\n        \"samples\": [\n          0.003367003367003407,\n          0.02427980656878107,\n          0.014676427419328864\n        ],\n        \"semantic_type\": \"\",\n        \"description\": \"\"\n      }\n    },\n    {\n      \"column\": \"train-Accuracy-mean\",\n      \"properties\": {\n        \"dtype\": \"number\",\n        \"std\": 0.028194081456020276,\n        \"min\": 0.7985409652076317,\n        \"max\": 0.9046015712682379,\n        \"num_unique_values\": 129,\n        \"samples\": [\n          0.8569023569023569,\n          0.8423120089786756,\n          0.8226711560044894\n        ],\n        \"semantic_type\": \"\",\n        \"description\": \"\"\n      }\n    },\n    {\n      \"column\": \"train-Accuracy-std\",\n      \"properties\": {\n        \"dtype\": \"number\",\n        \"std\": 0.004859198311610469,\n        \"min\": 0.0009719701501508486,\n        \"max\": 0.020778348576401387,\n        \"num_unique_values\": 99,\n        \"samples\": [\n          0.004236719660645714,\n          0.007338213709664414,\n          0.016580568689892442\n        ],\n        \"semantic_type\": \"\",\n        \"description\": \"\"\n      }\n    }\n  ]\n}"
            }
          },
          "metadata": {},
          "execution_count": 22
        }
      ],
      "source": [
        "cv_data.head()"
      ]
    },
    {
      "cell_type": "code",
      "execution_count": 23,
      "metadata": {
        "colab": {
          "base_uri": "https://localhost:8080/"
        },
        "id": "fSVM07Zp5WIk",
        "outputId": "cc4471d3-2cca-44a4-f16a-1359bf45af03"
      },
      "outputs": [
        {
          "output_type": "stream",
          "name": "stdout",
          "text": [
            "Best validation accuracy score: 0.82±0.02 on step 110\n",
            "Precise validation accuracy score: 0.8159371492704827\n"
          ]
        }
      ],
      "source": [
        "print('Best validation accuracy score: {:.2f}±{:.2f} on step {}'.format(\n",
        "    np.max(cv_data['test-Accuracy-mean']),\n",
        "    cv_data['test-Accuracy-std'][np.argmax(cv_data['test-Accuracy-mean'])],\n",
        "    np.argmax(cv_data['test-Accuracy-mean'])\n",
        "))\n",
        "print('Precise validation accuracy score: {}'.format(np.max(cv_data['test-Accuracy-mean'])))"
      ]
    },
    {
      "cell_type": "code",
      "execution_count": 24,
      "metadata": {
        "colab": {
          "base_uri": "https://localhost:8080/"
        },
        "id": "wRISpmuu5WIk",
        "outputId": "577c95f3-1774-420d-cf8e-08dfecc2ac6e"
      },
      "outputs": [
        {
          "output_type": "stream",
          "name": "stdout",
          "text": [
            "[0 0 0 0 1 0 1 0 1 0]\n",
            "[[0.85963998 0.14036002]\n",
            " [0.73941007 0.26058993]\n",
            " [0.88495066 0.11504934]\n",
            " [0.89117181 0.10882819]\n",
            " [0.36045113 0.63954887]\n",
            " [0.90335455 0.09664545]\n",
            " [0.35404814 0.64595186]\n",
            " [0.76848491 0.23151509]\n",
            " [0.40015216 0.59984784]\n",
            " [0.94172558 0.05827442]]\n"
          ]
        }
      ],
      "source": [
        "predictions = model.predict(X_test)\n",
        "predictions_probs = model.predict_proba(X_test)\n",
        "print(predictions[:10])\n",
        "print(predictions_probs[:10])"
      ]
    },
    {
      "cell_type": "code",
      "execution_count": 25,
      "metadata": {
        "id": "KczW7yFy5WIl"
      },
      "outputs": [],
      "source": [
        "params = {\n",
        "    'iterations': 500,\n",
        "    'learning_rate': 0.1,\n",
        "    'eval_metric': metrics.Accuracy(),\n",
        "    'random_seed': 42,\n",
        "    'logging_level': 'Silent',\n",
        "    'use_best_model': False\n",
        "}\n",
        "train_pool = Pool(X_train, y_train, cat_features=categorical_features_indices)\n",
        "validate_pool = Pool(X_validation, y_validation, cat_features=categorical_features_indices)"
      ]
    },
    {
      "cell_type": "code",
      "execution_count": 26,
      "metadata": {
        "colab": {
          "base_uri": "https://localhost:8080/"
        },
        "id": "bXT_5kws5WIl",
        "outputId": "16700e20-f917-4ac0-a33f-9402259d7045"
      },
      "outputs": [
        {
          "output_type": "stream",
          "name": "stdout",
          "text": [
            "Simple model validation accuracy: 0.7982\n",
            "\n",
            "Best model validation accuracy: 0.8251\n"
          ]
        }
      ],
      "source": [
        "model = CatBoostClassifier(**params)\n",
        "model.fit(train_pool, eval_set=validate_pool)\n",
        "\n",
        "best_model_params = params.copy()\n",
        "best_model_params.update({\n",
        "    'use_best_model': True\n",
        "})\n",
        "best_model = CatBoostClassifier(**best_model_params)\n",
        "best_model.fit(train_pool, eval_set=validate_pool);\n",
        "\n",
        "print('Simple model validation accuracy: {:.4}'.format(\n",
        "    accuracy_score(y_validation, model.predict(X_validation))\n",
        "))\n",
        "print('')\n",
        "\n",
        "print('Best model validation accuracy: {:.4}'.format(\n",
        "    accuracy_score(y_validation, best_model.predict(X_validation))\n",
        "))"
      ]
    },
    {
      "cell_type": "code",
      "execution_count": 27,
      "metadata": {
        "colab": {
          "base_uri": "https://localhost:8080/"
        },
        "id": "bwtUQDyc5WIl",
        "outputId": "532f47f1-1f28-412f-9723-6ca2b6e91ef1"
      },
      "outputs": [
        {
          "output_type": "stream",
          "name": "stdout",
          "text": [
            "Simple model tree count: 500\n",
            "Simple model validation accuracy: 0.7982\n",
            "\n",
            "Early-stopped model tree count: 82\n",
            "Early-stopped model validation accuracy: 0.8072\n"
          ]
        }
      ],
      "source": [
        "model = CatBoostClassifier(**params)\n",
        "model.fit(train_pool, eval_set=validate_pool)\n",
        "\n",
        "earlystop_params = params.copy()\n",
        "earlystop_params.update({\n",
        "    'od_type': 'Iter',\n",
        "    'od_wait': 40\n",
        "})\n",
        "earlystop_model = CatBoostClassifier(**earlystop_params)\n",
        "earlystop_model.fit(train_pool, eval_set=validate_pool);\n",
        "\n",
        "print('Simple model tree count: {}'.format(model.tree_count_))\n",
        "print('Simple model validation accuracy: {:.4}'.format(\n",
        "    accuracy_score(y_validation, model.predict(X_validation))\n",
        "))\n",
        "\n",
        "print('')\n",
        "\n",
        "print('Early-stopped model tree count: {}'.format(earlystop_model.tree_count_))\n",
        "print('Early-stopped model validation accuracy: {:.4}'.format(\n",
        "    accuracy_score(y_validation, earlystop_model.predict(X_validation))\n",
        "))"
      ]
    },
    {
      "cell_type": "code",
      "execution_count": 28,
      "metadata": {
        "id": "nvWEnXZ95WIl"
      },
      "outputs": [],
      "source": [
        "current_params = params.copy()\n",
        "current_params.update({\n",
        "    'iterations': 10\n",
        "})\n",
        "model = CatBoostClassifier(**current_params).fit(X_train, y_train, categorical_features_indices)\n",
        "baseline = model.predict(X_train, prediction_type='RawFormulaVal')\n",
        "model.fit(X_train, y_train, categorical_features_indices, baseline=baseline);"
      ]
    },
    {
      "cell_type": "code",
      "execution_count": 29,
      "metadata": {
        "colab": {
          "base_uri": "https://localhost:8080/"
        },
        "id": "MXmTw5725WIl",
        "outputId": "11f6ea04-0562-411a-b00a-899f01bd400a"
      },
      "outputs": [
        {
          "output_type": "stream",
          "name": "stdout",
          "text": [
            "0:\tlearn: 0.8053892\ttest: 0.7937220\tbest: 0.7937220 (0)\ttotal: 2.36ms\tremaining: 9.43ms\n",
            "1:\tlearn: 0.8008982\ttest: 0.7982063\tbest: 0.7982063 (1)\ttotal: 4.89ms\tremaining: 7.33ms\n",
            "2:\tlearn: 0.8008982\ttest: 0.7937220\tbest: 0.7982063 (1)\ttotal: 7.29ms\tremaining: 4.86ms\n",
            "3:\tlearn: 0.8113772\ttest: 0.7892377\tbest: 0.7982063 (1)\ttotal: 9.58ms\tremaining: 2.4ms\n",
            "4:\tlearn: 0.8173653\ttest: 0.8026906\tbest: 0.8026906 (4)\ttotal: 11.7ms\tremaining: 0us\n",
            "\n",
            "bestTest = 0.802690583\n",
            "bestIteration = 4\n",
            "\n",
            "5:\tlearn: 0.8173653\ttest: 0.8026906\tbest: 0.8026906 (4)\ttotal: 16.5ms\tremaining: 19.3ms\n",
            "6:\tlearn: 0.8248503\ttest: 0.8026906\tbest: 0.8026906 (4)\ttotal: 18ms\tremaining: 9.49ms\n",
            "7:\tlearn: 0.8233533\ttest: 0.8026906\tbest: 0.8026906 (4)\ttotal: 20.5ms\tremaining: 5.86ms\n",
            "8:\tlearn: 0.8233533\ttest: 0.8026906\tbest: 0.8026906 (4)\ttotal: 21.7ms\tremaining: 2.49ms\n",
            "9:\tlearn: 0.8233533\ttest: 0.8026906\tbest: 0.8026906 (4)\ttotal: 23.8ms\tremaining: 0us\n",
            "\n",
            "bestTest = 0.802690583\n",
            "bestIteration = 4\n",
            "\n"
          ]
        }
      ],
      "source": [
        "params_with_snapshot = params.copy()\n",
        "params_with_snapshot.update({\n",
        "    'iterations': 5,\n",
        "    'learning_rate': 0.5,\n",
        "    'logging_level': 'Verbose'\n",
        "})\n",
        "model = CatBoostClassifier(**params_with_snapshot).fit(train_pool, eval_set=validate_pool, save_snapshot=True)\n",
        "params_with_snapshot.update({\n",
        "    'iterations': 10,\n",
        "    'learning_rate': 0.1,\n",
        "})\n",
        "model = CatBoostClassifier(**params_with_snapshot).fit(train_pool, eval_set=validate_pool, save_snapshot=True)"
      ]
    },
    {
      "cell_type": "code",
      "execution_count": 30,
      "metadata": {
        "colab": {
          "base_uri": "https://localhost:8080/"
        },
        "id": "6nvFK4ua5WIm",
        "outputId": "f1988b1e-2cd1-47a7-aa30-a38631a6032f"
      },
      "outputs": [
        {
          "output_type": "stream",
          "name": "stdout",
          "text": [
            "0:\tlearn: 0.6827074\ttotal: 816ms\tremaining: 7.34s\n",
            "1:\tlearn: 0.6723302\ttotal: 819ms\tremaining: 3.28s\n",
            "2:\tlearn: 0.6619449\ttotal: 821ms\tremaining: 1.92s\n",
            "3:\tlearn: 0.6521466\ttotal: 823ms\tremaining: 1.23s\n",
            "4:\tlearn: 0.6435227\ttotal: 826ms\tremaining: 826ms\n",
            "5:\tlearn: 0.6353848\ttotal: 829ms\tremaining: 552ms\n",
            "6:\tlearn: 0.6277210\ttotal: 831ms\tremaining: 356ms\n",
            "7:\tlearn: 0.6210282\ttotal: 833ms\tremaining: 208ms\n",
            "8:\tlearn: 0.6141958\ttotal: 836ms\tremaining: 92.9ms\n",
            "9:\tlearn: 0.6073236\ttotal: 838ms\tremaining: 0us\n"
          ]
        }
      ],
      "source": [
        "class LoglossObjective(object):\n",
        "    def calc_ders_range(self, approxes, targets, weights):\n",
        "        # approxes, targets, weights are indexed containers of floats\n",
        "        # (containers which have only __len__ and __getitem__ defined).\n",
        "        # weights parameter can be None.\n",
        "        #\n",
        "        # To understand what these parameters mean, assume that there is\n",
        "        # a subset of your dataset that is currently being processed.\n",
        "        # approxes contains current predictions for this subset,\n",
        "        # targets contains target values you provided with the dataset.\n",
        "        #\n",
        "        # This function should return a list of pairs (der1, der2), where\n",
        "        # der1 is the first derivative of the loss function with respect\n",
        "        # to the predicted value, and der2 is the second derivative.\n",
        "        #\n",
        "        # In our case, logloss is defined by the following formula:\n",
        "        # target * log(sigmoid(approx)) + (1 - target) * (1 - sigmoid(approx))\n",
        "        # where sigmoid(x) = 1 / (1 + e^(-x)).\n",
        "\n",
        "        assert len(approxes) == len(targets)\n",
        "        if weights is not None:\n",
        "            assert len(weights) == len(approxes)\n",
        "\n",
        "        result = []\n",
        "        for index in range(len(targets)):\n",
        "            e = np.exp(approxes[index])\n",
        "            p = e / (1 + e)\n",
        "            der1 = (1 - p) if targets[index] > 0.0 else -p\n",
        "            der2 = -p * (1 - p)\n",
        "\n",
        "            if weights is not None:\n",
        "                der1 *= weights[index]\n",
        "                der2 *= weights[index]\n",
        "\n",
        "            result.append((der1, der2))\n",
        "        return result\n",
        "model = CatBoostClassifier(\n",
        "    iterations=10,\n",
        "    random_seed=42,\n",
        "    loss_function=LoglossObjective(),\n",
        "    eval_metric=metrics.Logloss()\n",
        ")\n",
        "model.fit(train_pool)\n",
        "preds_raw = model.predict(X_test, prediction_type='RawFormulaVal')"
      ]
    },
    {
      "cell_type": "code",
      "execution_count": 31,
      "metadata": {
        "colab": {
          "base_uri": "https://localhost:8080/"
        },
        "id": "Jbgm1T-o5WIm",
        "outputId": "d28e250f-0a31-43e4-fc23-acfb65db49cb"
      },
      "outputs": [
        {
          "output_type": "stream",
          "name": "stdout",
          "text": [
            "Learning rate set to 0.5\n",
            "0:\tlearn: 0.5521578\ttotal: 249ms\tremaining: 2.24s\n",
            "1:\tlearn: 0.4885686\ttotal: 251ms\tremaining: 1s\n",
            "2:\tlearn: 0.4607664\ttotal: 254ms\tremaining: 592ms\n",
            "3:\tlearn: 0.4418819\ttotal: 256ms\tremaining: 384ms\n",
            "4:\tlearn: 0.4278162\ttotal: 258ms\tremaining: 258ms\n",
            "5:\tlearn: 0.4151036\ttotal: 261ms\tremaining: 174ms\n",
            "6:\tlearn: 0.4099336\ttotal: 263ms\tremaining: 113ms\n",
            "7:\tlearn: 0.4095363\ttotal: 264ms\tremaining: 66.1ms\n",
            "8:\tlearn: 0.4032867\ttotal: 267ms\tremaining: 29.6ms\n",
            "9:\tlearn: 0.3929586\ttotal: 269ms\tremaining: 0us\n"
          ]
        }
      ],
      "source": [
        "class LoglossMetric(object):\n",
        "    def get_final_error(self, error, weight):\n",
        "        return error / (weight + 1e-38)\n",
        "\n",
        "    def is_max_optimal(self):\n",
        "        return False\n",
        "\n",
        "    def evaluate(self, approxes, target, weight):\n",
        "        # approxes is a list of indexed containers\n",
        "        # (containers with only __len__ and __getitem__ defined),\n",
        "        # one container per approx dimension.\n",
        "        # Each container contains floats.\n",
        "        # weight is a one dimensional indexed container.\n",
        "        # target is float.\n",
        "\n",
        "        # weight parameter can be None.\n",
        "        # Returns pair (error, weights sum)\n",
        "\n",
        "        assert len(approxes) == 1\n",
        "        assert len(target) == len(approxes[0])\n",
        "\n",
        "        approx = approxes[0]\n",
        "\n",
        "        error_sum = 0.0\n",
        "        weight_sum = 0.0\n",
        "\n",
        "        for i in range(len(approx)):\n",
        "            w = 1.0 if weight is None else weight[i]\n",
        "            weight_sum += w\n",
        "            error_sum += -w * (target[i] * approx[i] - np.log(1 + np.exp(approx[i])))\n",
        "\n",
        "        return error_sum, weight_sum\n",
        "\n",
        "model = CatBoostClassifier(\n",
        "    iterations=10,\n",
        "    random_seed=42,\n",
        "    loss_function=metrics.Logloss(),\n",
        "    eval_metric=LoglossMetric()\n",
        ")\n",
        "model.fit(train_pool)\n",
        "preds_raw = model.predict(X_test, prediction_type='RawFormulaVal')"
      ]
    },
    {
      "cell_type": "code",
      "execution_count": 32,
      "metadata": {
        "colab": {
          "base_uri": "https://localhost:8080/"
        },
        "id": "lzt2ajn85WIn",
        "outputId": "bfc8470d-13f9-450f-91b0-a79a391f021c"
      },
      "outputs": [
        {
          "output_type": "stream",
          "name": "stdout",
          "text": [
            "First class probabilities using the first 3 trees: [0.53597869 0.41039128 0.42057479 0.64281031 0.46576685]\n",
            "First class probabilities using the first 5 trees: [0.63722688 0.42492029 0.46209302 0.70926021 0.44280772]\n",
            "First class probabilities using the first 7 trees: [0.66964764 0.42409144 0.46124982 0.76101033 0.47205986]\n"
          ]
        }
      ],
      "source": [
        "model = CatBoostClassifier(iterations=10, random_seed=42, logging_level='Silent').fit(train_pool)\n",
        "ntree_start, ntree_end, eval_period = 3, 9, 2\n",
        "predictions_iterator = model.staged_predict(validate_pool, 'Probability', ntree_start, ntree_end, eval_period)\n",
        "for preds, tree_count in zip(predictions_iterator, range(ntree_start, ntree_end, eval_period)):\n",
        "    print('First class probabilities using the first {} trees: {}'.format(tree_count, preds[:5, 1]))"
      ]
    },
    {
      "cell_type": "code",
      "execution_count": 33,
      "metadata": {
        "colab": {
          "base_uri": "https://localhost:8080/"
        },
        "id": "Olv__qcw5WIn",
        "outputId": "a55de8a7-72cf-4709-9cc1-e1b694071cf9"
      },
      "outputs": [
        {
          "output_type": "stream",
          "name": "stdout",
          "text": [
            "Sex: 59.004092014268586\n",
            "Pclass: 16.340887169747035\n",
            "Ticket: 6.028107169932204\n",
            "Cabin: 3.8347242202560192\n",
            "Fare: 3.712969667934384\n",
            "Age: 3.484451204182482\n",
            "Parch: 3.378089740355865\n",
            "Embarked: 2.3139994072899555\n",
            "SibSp: 1.9026794060334504\n",
            "PassengerId: 0.0\n",
            "Name: 0.0\n"
          ]
        }
      ],
      "source": [
        "model = CatBoostClassifier(iterations=50, random_seed=42, logging_level='Silent').fit(train_pool)\n",
        "feature_importances = model.get_feature_importance(train_pool)\n",
        "feature_names = X_train.columns\n",
        "for score, name in sorted(zip(feature_importances, feature_names), reverse=True):\n",
        "    print('{}: {}'.format(name, score))"
      ]
    },
    {
      "cell_type": "code",
      "execution_count": 34,
      "metadata": {
        "colab": {
          "base_uri": "https://localhost:8080/",
          "height": 55,
          "referenced_widgets": [
            "6b55240eae2840f8930bdf41061bf2e8"
          ]
        },
        "id": "UE8iX0kW5WIo",
        "outputId": "501d5a64-b146-4af6-a8a8-7a51e08e4cd2"
      },
      "outputs": [
        {
          "output_type": "display_data",
          "data": {
            "text/plain": [
              "MetricVisualizer(layout=Layout(align_self='stretch', height='500px'))"
            ],
            "application/vnd.jupyter.widget-view+json": {
              "version_major": 2,
              "version_minor": 0,
              "model_id": "6b55240eae2840f8930bdf41061bf2e8"
            }
          },
          "metadata": {}
        },
        {
          "output_type": "stream",
          "name": "stdout",
          "text": [
            "[0.8627368774106994, 0.8623176253563642, 0.8602213650846889, 0.8514170719436525, 0.8495723629045783, 0.8569092738554419]\n"
          ]
        }
      ],
      "source": [
        "model = CatBoostClassifier(iterations=50, random_seed=42, logging_level='Silent').fit(train_pool)\n",
        "eval_metrics = model.eval_metrics(validate_pool, [metrics.AUC()], plot=True)\n",
        "print(eval_metrics['AUC'][:6])"
      ]
    },
    {
      "cell_type": "code",
      "execution_count": 35,
      "metadata": {
        "colab": {
          "base_uri": "https://localhost:8080/",
          "height": 37,
          "referenced_widgets": [
            "eeb2a9d930eb428baa7d2911c50b7134"
          ]
        },
        "id": "3sdNzL465WIo",
        "outputId": "68e0e544-a8dd-4b21-9b3f-a5d3f13bedc0"
      },
      "outputs": [
        {
          "output_type": "display_data",
          "data": {
            "text/plain": [
              "MetricVisualizer(layout=Layout(align_self='stretch', height='500px'))"
            ],
            "application/vnd.jupyter.widget-view+json": {
              "version_major": 2,
              "version_minor": 0,
              "model_id": "eeb2a9d930eb428baa7d2911c50b7134"
            }
          },
          "metadata": {}
        }
      ],
      "source": [
        "model1 = CatBoostClassifier(iterations=100, depth=1, train_dir='model_depth_1/', logging_level='Silent')\n",
        "model1.fit(train_pool, eval_set=validate_pool)\n",
        "model2 = CatBoostClassifier(iterations=100, depth=5, train_dir='model_depth_5/', logging_level='Silent')\n",
        "model2.fit(train_pool, eval_set=validate_pool);\n",
        "widget = MetricVisualizer(['model_depth_1', 'model_depth_5'])\n",
        "widget.start()"
      ]
    },
    {
      "cell_type": "code",
      "execution_count": 38,
      "metadata": {
        "id": "AwRMtQm85WIo"
      },
      "outputs": [],
      "source": [
        "model = CatBoostClassifier(iterations=10, random_seed=42, logging_level='Silent').fit(train_pool) # model.save_model('catboost_model.dump')\n",
        "model = CatBoostClassifier() # model.load_model('catboost_model.dump');"
      ]
    },
    {
      "cell_type": "code",
      "execution_count": 39,
      "metadata": {
        "colab": {
          "base_uri": "https://localhost:8080/"
        },
        "id": "6pTLmFV75WIp",
        "outputId": "4e31b08b-0c57-43ba-cd76-d72c2128d523"
      },
      "outputs": [
        {
          "output_type": "stream",
          "name": "stdout",
          "text": [
            "100%|██████████| 50/50 [11:01<00:00, 13.24s/trial, best loss: 0.16161616161616144]\n",
            "{'l2_leaf_reg': 5.0, 'learning_rate': 0.1266734416771246}\n"
          ]
        }
      ],
      "source": [
        "def hyperopt_objective(params):\n",
        "    model = CatBoostClassifier(\n",
        "        l2_leaf_reg=int(params['l2_leaf_reg']),\n",
        "        learning_rate=params['learning_rate'],\n",
        "        iterations=500,\n",
        "        eval_metric=metrics.Accuracy(),\n",
        "        random_seed=42,\n",
        "        verbose=False,\n",
        "        loss_function=metrics.Logloss(),\n",
        "        )\n",
        "\n",
        "    cv_data = cv(\n",
        "        Pool(X, y, cat_features=categorical_features_indices),\n",
        "        model.get_params(),\n",
        "        logging_level='Silent'\n",
        "        )\n",
        "    best_accuracy = np.max(cv_data['test-Accuracy-mean'])\n",
        "\n",
        "    return 1 - best_accuracy\n",
        "\n",
        "params_space = {\n",
        "    'l2_leaf_reg': hyperopt.hp.qloguniform('l2_leaf_reg', 0, 2, 1),\n",
        "    'learning_rate': hyperopt.hp.uniform('learning_rate', 1e-3, 5e-1),\n",
        "    }\n",
        "\n",
        "trials = hyperopt.Trials()\n",
        "\n",
        "best = hyperopt.fmin(\n",
        "    hyperopt_objective,\n",
        "    space=params_space,\n",
        "    algo=hyperopt.tpe.suggest,\n",
        "    max_evals=50,\n",
        "    trials=trials,\n",
        "    )\n",
        "print(best)"
      ]
    },
    {
      "cell_type": "code",
      "execution_count": 40,
      "metadata": {
        "colab": {
          "base_uri": "https://localhost:8080/"
        },
        "id": "4QTox9_95WIp",
        "outputId": "456e2761-c36e-4311-ce4c-50dc12bfc3f5"
      },
      "outputs": [
        {
          "output_type": "stream",
          "name": "stdout",
          "text": [
            "Training on fold [0/3]\n",
            "\n",
            "bestTest = 0.8451178451\n",
            "bestIteration = 113\n",
            "\n",
            "Training on fold [1/3]\n",
            "\n",
            "bestTest = 0.8484848485\n",
            "bestIteration = 36\n",
            "\n",
            "Training on fold [2/3]\n",
            "\n",
            "bestTest = 0.8215488215\n",
            "bestIteration = 73\n",
            "\n",
            "Precise validation accuracy score: 0.8383838383838386\n"
          ]
        }
      ],
      "source": [
        "model = CatBoostClassifier(\n",
        "    l2_leaf_reg=int(best['l2_leaf_reg']),\n",
        "    learning_rate=best['learning_rate'],\n",
        "    iterations=500,\n",
        "    eval_metric=metrics.Accuracy(),\n",
        "    random_seed=42,\n",
        "    verbose=False,\n",
        "    loss_function=metrics.Logloss(),\n",
        ")\n",
        "cv_data = cv(Pool(X, y, cat_features=categorical_features_indices), model.get_params())\n",
        "print('Precise validation accuracy score: {}'.format(np.max(cv_data['test-Accuracy-mean'])))\n",
        "model.fit(X, y, cat_features=categorical_features_indices)\n",
        "submisstion = pd.DataFrame()\n",
        "submisstion['PassengerId'] = X_test['PassengerId']\n",
        "submisstion['Survived'] = model.predict(X_test)\n",
        "submisstion.to_csv('submission.csv', index=False)"
      ]
    }
  ],
  "metadata": {
    "kernelspec": {
      "display_name": "PyML",
      "language": "python",
      "name": "pyml"
    },
    "language_info": {
      "codemirror_mode": {
        "name": "ipython",
        "version": 3
      },
      "file_extension": ".py",
      "mimetype": "text/x-python",
      "name": "python",
      "nbconvert_exporter": "python",
      "pygments_lexer": "ipython3",
      "version": "3.11.4"
    },
    "colab": {
      "provenance": [],
      "include_colab_link": true
    },
    "widgets": {
      "application/vnd.jupyter.widget-state+json": {
        "e20b6acfd5484cc988f4b4637abd483d": {
          "model_module": "catboost-widget",
          "model_name": "CatboostWidgetModel",
          "model_module_version": "^1.0.0",
          "state": {
            "_dom_classes": [],
            "_model_module": "catboost-widget",
            "_model_module_version": "^1.0.0",
            "_model_name": "CatboostWidgetModel",
            "_view_count": null,
            "_view_module": "catboost-widget",
            "_view_module_version": "^1.0.0",
            "_view_name": "CatboostWidgetView",
            "data": {
              "catboost_info": {
                "path": "catboost_info",
                "name": "catboost_info",
                "content": {
                  "passed_iterations": 333,
                  "total_iterations": 1000,
                  "data": {
                    "iterations": [
                      {
                        "learn": [
                          0.6739988153,
                          0.8083832335
                        ],
                        "iteration": 0,
                        "passed_time": 0.06599199619,
                        "remaining_time": 65.9260042,
                        "test": [
                          0.6742629598,
                          0.7937219731
                        ]
                      },
                      {
                        "learn": [
                          0.658901298,
                          0.8053892216
                        ],
                        "iteration": 1,
                        "passed_time": 0.069978772,
                        "remaining_time": 34.91940723,
                        "test": [
                          0.6592240444,
                          0.7892376682
                        ]
                      },
                      {
                        "learn": [
                          0.6421502329,
                          0.8293413174
                        ],
                        "iteration": 2,
                        "passed_time": 0.08057905386,
                        "remaining_time": 26.77910557,
                        "test": [
                          0.6426777534,
                          0.8071748879
                        ]
                      },
                      {
                        "learn": [
                          0.6297275936,
                          0.8203592814
                        ],
                        "iteration": 3,
                        "passed_time": 0.08665019548,
                        "remaining_time": 21.57589868,
                        "test": [
                          0.6302309923,
                          0.8116591928
                        ]
                      },
                      {
                        "learn": [
                          0.6147184481,
                          0.8308383234
                        ],
                        "iteration": 4,
                        "passed_time": 0.09457361269,
                        "remaining_time": 18.82014893,
                        "test": [
                          0.619822804,
                          0.8116591928
                        ]
                      },
                      {
                        "learn": [
                          0.6017730091,
                          0.8293413174
                        ],
                        "iteration": 5,
                        "passed_time": 0.1082365284,
                        "remaining_time": 17.93118488,
                        "test": [
                          0.6073627312,
                          0.802690583
                        ]
                      },
                      {
                        "learn": [
                          0.588530858,
                          0.8383233533
                        ],
                        "iteration": 6,
                        "passed_time": 0.1171062543,
                        "remaining_time": 16.61235864,
                        "test": [
                          0.5955999679,
                          0.802690583
                        ]
                      },
                      {
                        "learn": [
                          0.5783200316,
                          0.8353293413
                        ],
                        "iteration": 7,
                        "passed_time": 0.1258594629,
                        "remaining_time": 15.60657339,
                        "test": [
                          0.5858523201,
                          0.8161434978
                        ]
                      },
                      {
                        "learn": [
                          0.5665894651,
                          0.8293413174
                        ],
                        "iteration": 8,
                        "passed_time": 0.1329707204,
                        "remaining_time": 14.64155377,
                        "test": [
                          0.5743842273,
                          0.8071748879
                        ]
                      },
                      {
                        "learn": [
                          0.5575381153,
                          0.8293413174
                        ],
                        "iteration": 9,
                        "passed_time": 0.1424716997,
                        "remaining_time": 14.10469827,
                        "test": [
                          0.5662283061,
                          0.8071748879
                        ]
                      },
                      {
                        "learn": [
                          0.5491044966,
                          0.8308383234
                        ],
                        "iteration": 10,
                        "passed_time": 0.1519944343,
                        "remaining_time": 13.66568141,
                        "test": [
                          0.557517627,
                          0.8071748879
                        ]
                      },
                      {
                        "learn": [
                          0.5423887152,
                          0.8338323353
                        ],
                        "iteration": 11,
                        "passed_time": 0.1566834332,
                        "remaining_time": 12.90026934,
                        "test": [
                          0.5505904503,
                          0.8116591928
                        ]
                      },
                      {
                        "learn": [
                          0.5354629406,
                          0.8323353293
                        ],
                        "iteration": 12,
                        "passed_time": 0.1620664954,
                        "remaining_time": 12.304587,
                        "test": [
                          0.5428797429,
                          0.8116591928
                        ]
                      },
                      {
                        "learn": [
                          0.5283279488,
                          0.8278443114
                        ],
                        "iteration": 13,
                        "passed_time": 0.1695640535,
                        "remaining_time": 11.94215406,
                        "test": [
                          0.5360936696,
                          0.8116591928
                        ]
                      },
                      {
                        "learn": [
                          0.5217500657,
                          0.8278443114
                        ],
                        "iteration": 14,
                        "passed_time": 0.1778904539,
                        "remaining_time": 11.68147314,
                        "test": [
                          0.5293871883,
                          0.8116591928
                        ]
                      },
                      {
                        "learn": [
                          0.5157272476,
                          0.8248502994
                        ],
                        "iteration": 15,
                        "passed_time": 0.1856275644,
                        "remaining_time": 11.41609521,
                        "test": [
                          0.5239491845,
                          0.8161434978
                        ]
                      },
                      {
                        "learn": [
                          0.5089750124,
                          0.8248502994
                        ],
                        "iteration": 16,
                        "passed_time": 0.1945510018,
                        "remaining_time": 11.24962558,
                        "test": [
                          0.5185852372,
                          0.8161434978
                        ]
                      },
                      {
                        "learn": [
                          0.5032450866,
                          0.8263473054
                        ],
                        "iteration": 17,
                        "passed_time": 0.2060328546,
                        "remaining_time": 11.24023685,
                        "test": [
                          0.5128040819,
                          0.8116591928
                        ]
                      },
                      {
                        "learn": [
                          0.4970473099,
                          0.8248502994
                        ],
                        "iteration": 18,
                        "passed_time": 0.2174907024,
                        "remaining_time": 11.22938837,
                        "test": [
                          0.5071750989,
                          0.8206278027
                        ]
                      },
                      {
                        "learn": [
                          0.4921670284,
                          0.8233532934
                        ],
                        "iteration": 19,
                        "passed_time": 0.2252144298,
                        "remaining_time": 11.03550706,
                        "test": [
                          0.5028565174,
                          0.8206278027
                        ]
                      },
                      {
                        "learn": [
                          0.4874681132,
                          0.8233532934
                        ],
                        "iteration": 20,
                        "passed_time": 0.2392263439,
                        "remaining_time": 11.15250432,
                        "test": [
                          0.4980756984,
                          0.8206278027
                        ]
                      },
                      {
                        "learn": [
                          0.4846682935,
                          0.8233532934
                        ],
                        "iteration": 21,
                        "passed_time": 0.2527213761,
                        "remaining_time": 11.2346139,
                        "test": [
                          0.4955480539,
                          0.8161434978
                        ]
                      },
                      {
                        "learn": [
                          0.4800380917,
                          0.8203592814
                        ],
                        "iteration": 22,
                        "passed_time": 0.2656974894,
                        "remaining_time": 11.28636727,
                        "test": [
                          0.4916633636,
                          0.8206278027
                        ]
                      },
                      {
                        "learn": [
                          0.4752794238,
                          0.8233532934
                        ],
                        "iteration": 23,
                        "passed_time": 0.2784477407,
                        "remaining_time": 11.32354145,
                        "test": [
                          0.4882001783,
                          0.8206278027
                        ]
                      },
                      {
                        "learn": [
                          0.4716137142,
                          0.8263473054
                        ],
                        "iteration": 24,
                        "passed_time": 0.2934994325,
                        "remaining_time": 11.44647787,
                        "test": [
                          0.4852623768,
                          0.8206278027
                        ]
                      },
                      {
                        "learn": [
                          0.4688795262,
                          0.8248502994
                        ],
                        "iteration": 25,
                        "passed_time": 0.3020972383,
                        "remaining_time": 11.31702731,
                        "test": [
                          0.4824286327,
                          0.8206278027
                        ]
                      },
                      {
                        "learn": [
                          0.4646352332,
                          0.8248502994
                        ],
                        "iteration": 26,
                        "passed_time": 0.3199514842,
                        "remaining_time": 11.53010349,
                        "test": [
                          0.4794210813,
                          0.8206278027
                        ]
                      },
                      {
                        "learn": [
                          0.4622311315,
                          0.8248502994
                        ],
                        "iteration": 27,
                        "passed_time": 0.3367984829,
                        "remaining_time": 11.69171876,
                        "test": [
                          0.4769200836,
                          0.8206278027
                        ]
                      },
                      {
                        "learn": [
                          0.4584012853,
                          0.8248502994
                        ],
                        "iteration": 28,
                        "passed_time": 0.3559402442,
                        "remaining_time": 11.91786128,
                        "test": [
                          0.4743519005,
                          0.8161434978
                        ]
                      },
                      {
                        "learn": [
                          0.4535303567,
                          0.8278443114
                        ],
                        "iteration": 29,
                        "passed_time": 0.3762017928,
                        "remaining_time": 12.16385797,
                        "test": [
                          0.4717948036,
                          0.8161434978
                        ]
                      },
                      {
                        "learn": [
                          0.4507849239,
                          0.8278443114
                        ],
                        "iteration": 30,
                        "passed_time": 0.3976648006,
                        "remaining_time": 12.43023199,
                        "test": [
                          0.4696368113,
                          0.8161434978
                        ]
                      },
                      {
                        "learn": [
                          0.4497373858,
                          0.8308383234
                        ],
                        "iteration": 31,
                        "passed_time": 0.4108700497,
                        "remaining_time": 12.428819,
                        "test": [
                          0.4685334681,
                          0.8161434978
                        ]
                      },
                      {
                        "learn": [
                          0.4480931231,
                          0.8353293413
                        ],
                        "iteration": 32,
                        "passed_time": 0.4350720036,
                        "remaining_time": 12.74892811,
                        "test": [
                          0.4673464861,
                          0.8116591928
                        ]
                      },
                      {
                        "learn": [
                          0.4446326156,
                          0.8353293413
                        ],
                        "iteration": 33,
                        "passed_time": 0.4588473675,
                        "remaining_time": 13.03666344,
                        "test": [
                          0.4648279467,
                          0.8161434978
                        ]
                      },
                      {
                        "learn": [
                          0.4425685369,
                          0.8323353293
                        ],
                        "iteration": 34,
                        "passed_time": 0.4748641457,
                        "remaining_time": 13.09268287,
                        "test": [
                          0.4629504758,
                          0.8161434978
                        ]
                      },
                      {
                        "learn": [
                          0.4410079647,
                          0.8368263473
                        ],
                        "iteration": 35,
                        "passed_time": 0.4865340963,
                        "remaining_time": 13.02830191,
                        "test": [
                          0.461581389,
                          0.8116591928
                        ]
                      },
                      {
                        "learn": [
                          0.4385622868,
                          0.8368263473
                        ],
                        "iteration": 36,
                        "passed_time": 0.5000672245,
                        "remaining_time": 13.01526317,
                        "test": [
                          0.4598131565,
                          0.8116591928
                        ]
                      },
                      {
                        "learn": [
                          0.4363623632,
                          0.8353293413
                        ],
                        "iteration": 37,
                        "passed_time": 0.5149412136,
                        "remaining_time": 13.03614336,
                        "test": [
                          0.4580387594,
                          0.8206278027
                        ]
                      },
                      {
                        "learn": [
                          0.4346194705,
                          0.8368263473
                        ],
                        "iteration": 38,
                        "passed_time": 0.521710272,
                        "remaining_time": 12.85547619,
                        "test": [
                          0.4568825496,
                          0.8161434978
                        ]
                      },
                      {
                        "learn": [
                          0.4331799903,
                          0.8368263473
                        ],
                        "iteration": 39,
                        "passed_time": 0.5326661597,
                        "remaining_time": 12.78398783,
                        "test": [
                          0.4556786765,
                          0.8161434978
                        ]
                      },
                      {
                        "learn": [
                          0.4304897428,
                          0.8353293413
                        ],
                        "iteration": 40,
                        "passed_time": 0.5525001545,
                        "remaining_time": 12.92311337,
                        "test": [
                          0.4540201006,
                          0.8116591928
                        ]
                      },
                      {
                        "learn": [
                          0.4283414782,
                          0.8368263473
                        ],
                        "iteration": 41,
                        "passed_time": 0.5647777855,
                        "remaining_time": 12.88231234,
                        "test": [
                          0.4528727884,
                          0.8116591928
                        ]
                      },
                      {
                        "learn": [
                          0.4265080448,
                          0.8368263473
                        ],
                        "iteration": 42,
                        "passed_time": 0.5847269583,
                        "remaining_time": 13.0135744,
                        "test": [
                          0.4517417432,
                          0.8161434978
                        ]
                      },
                      {
                        "learn": [
                          0.4255831303,
                          0.8323353293
                        ],
                        "iteration": 43,
                        "passed_time": 0.6017519729,
                        "remaining_time": 13.07442923,
                        "test": [
                          0.452202762,
                          0.8206278027
                        ]
                      },
                      {
                        "learn": [
                          0.4252894749,
                          0.8308383234
                        ],
                        "iteration": 44,
                        "passed_time": 0.6081482169,
                        "remaining_time": 12.9062566,
                        "test": [
                          0.4518594201,
                          0.8161434978
                        ]
                      },
                      {
                        "learn": [
                          0.4232906533,
                          0.8308383234
                        ],
                        "iteration": 45,
                        "passed_time": 0.6239249295,
                        "remaining_time": 12.9396605,
                        "test": [
                          0.450952393,
                          0.8206278027
                        ]
                      },
                      {
                        "learn": [
                          0.4219784535,
                          0.8308383234
                        ],
                        "iteration": 46,
                        "passed_time": 0.6386627559,
                        "remaining_time": 12.94990652,
                        "test": [
                          0.4502039757,
                          0.8206278027
                        ]
                      },
                      {
                        "learn": [
                          0.420393984,
                          0.8308383234
                        ],
                        "iteration": 47,
                        "passed_time": 0.6543391665,
                        "remaining_time": 12.9777268,
                        "test": [
                          0.4490913849,
                          0.8206278027
                        ]
                      },
                      {
                        "learn": [
                          0.4194225072,
                          0.8293413174
                        ],
                        "iteration": 48,
                        "passed_time": 0.6704917924,
                        "remaining_time": 13.01301418,
                        "test": [
                          0.447967822,
                          0.8161434978
                        ]
                      },
                      {
                        "learn": [
                          0.4179930292,
                          0.8293413174
                        ],
                        "iteration": 49,
                        "passed_time": 0.6845526068,
                        "remaining_time": 13.00649953,
                        "test": [
                          0.4468923133,
                          0.8206278027
                        ]
                      },
                      {
                        "learn": [
                          0.4167287161,
                          0.8293413174
                        ],
                        "iteration": 50,
                        "passed_time": 0.7035751551,
                        "remaining_time": 13.09201612,
                        "test": [
                          0.4462035507,
                          0.8206278027
                        ]
                      },
                      {
                        "learn": [
                          0.4155112345,
                          0.8293413174
                        ],
                        "iteration": 51,
                        "passed_time": 0.7241989179,
                        "remaining_time": 13.20270335,
                        "test": [
                          0.4452556786,
                          0.8206278027
                        ]
                      },
                      {
                        "learn": [
                          0.4145264333,
                          0.8323353293
                        ],
                        "iteration": 52,
                        "passed_time": 0.7506899102,
                        "remaining_time": 13.41327066,
                        "test": [
                          0.4441310027,
                          0.8251121076
                        ]
                      },
                      {
                        "learn": [
                          0.4129347692,
                          0.8308383234
                        ],
                        "iteration": 53,
                        "passed_time": 0.7755054869,
                        "remaining_time": 13.58570723,
                        "test": [
                          0.4433544968,
                          0.8251121076
                        ]
                      },
                      {
                        "learn": [
                          0.4113961848,
                          0.8338323353
                        ],
                        "iteration": 54,
                        "passed_time": 0.7990302751,
                        "remaining_time": 13.72879291,
                        "test": [
                          0.4420501415,
                          0.8206278027
                        ]
                      },
                      {
                        "learn": [
                          0.4097376576,
                          0.8338323353
                        ],
                        "iteration": 55,
                        "passed_time": 0.8124639109,
                        "remaining_time": 13.69582021,
                        "test": [
                          0.4401630669,
                          0.8206278027
                        ]
                      },
                      {
                        "learn": [
                          0.408838041,
                          0.8353293413
                        ],
                        "iteration": 56,
                        "passed_time": 0.8248924315,
                        "remaining_time": 13.64690461,
                        "test": [
                          0.4395241026,
                          0.8161434978
                        ]
                      },
                      {
                        "learn": [
                          0.4069747539,
                          0.8353293413
                        ],
                        "iteration": 57,
                        "passed_time": 0.8334337768,
                        "remaining_time": 13.5361141,
                        "test": [
                          0.4379574004,
                          0.8161434978
                        ]
                      },
                      {
                        "learn": [
                          0.4051130873,
                          0.8353293413
                        ],
                        "iteration": 58,
                        "passed_time": 0.8503592863,
                        "remaining_time": 13.56250997,
                        "test": [
                          0.4357254084,
                          0.8161434978
                        ]
                      },
                      {
                        "learn": [
                          0.4047833055,
                          0.8353293413
                        ],
                        "iteration": 59,
                        "passed_time": 0.8584409743,
                        "remaining_time": 13.4489086,
                        "test": [
                          0.4356222087,
                          0.8161434978
                        ]
                      },
                      {
                        "learn": [
                          0.4037233247,
                          0.8368263473
                        ],
                        "iteration": 60,
                        "passed_time": 0.8722067882,
                        "remaining_time": 13.42626515,
                        "test": [
                          0.4341760578,
                          0.8161434978
                        ]
                      },
                      {
                        "learn": [
                          0.402034606,
                          0.8383233533
                        ],
                        "iteration": 61,
                        "passed_time": 0.900274223,
                        "remaining_time": 13.62027776,
                        "test": [
                          0.4330486207,
                          0.8161434978
                        ]
                      },
                      {
                        "learn": [
                          0.3996694744,
                          0.8383233533
                        ],
                        "iteration": 62,
                        "passed_time": 0.925263972,
                        "remaining_time": 13.76146574,
                        "test": [
                          0.4335133915,
                          0.8161434978
                        ]
                      },
                      {
                        "learn": [
                          0.3985631714,
                          0.8398203593
                        ],
                        "iteration": 63,
                        "passed_time": 0.9466464888,
                        "remaining_time": 13.8447049,
                        "test": [
                          0.4323145521,
                          0.8161434978
                        ]
                      },
                      {
                        "learn": [
                          0.3975079492,
                          0.8428143713
                        ],
                        "iteration": 64,
                        "passed_time": 0.9589838951,
                        "remaining_time": 13.79461449,
                        "test": [
                          0.4318979489,
                          0.8161434978
                        ]
                      },
                      {
                        "learn": [
                          0.3968875706,
                          0.8413173653
                        ],
                        "iteration": 65,
                        "passed_time": 0.96707618,
                        "remaining_time": 13.68559321,
                        "test": [
                          0.4311524855,
                          0.8161434978
                        ]
                      },
                      {
                        "learn": [
                          0.3962620472,
                          0.8428143713
                        ],
                        "iteration": 66,
                        "passed_time": 0.9729644721,
                        "remaining_time": 13.54889332,
                        "test": [
                          0.4302196713,
                          0.8161434978
                        ]
                      },
                      {
                        "learn": [
                          0.3956377643,
                          0.8428143713
                        ],
                        "iteration": 67,
                        "passed_time": 0.992427285,
                        "remaining_time": 13.60209161,
                        "test": [
                          0.4292186273,
                          0.8161434978
                        ]
                      },
                      {
                        "learn": [
                          0.3938460376,
                          0.8443113772
                        ],
                        "iteration": 68,
                        "passed_time": 1.003279155,
                        "remaining_time": 13.53699845,
                        "test": [
                          0.4288454516,
                          0.8161434978
                        ]
                      },
                      {
                        "learn": [
                          0.3928598838,
                          0.8458083832
                        ],
                        "iteration": 69,
                        "passed_time": 1.01316761,
                        "remaining_time": 13.46065539,
                        "test": [
                          0.4281878036,
                          0.8161434978
                        ]
                      },
                      {
                        "learn": [
                          0.3926053824,
                          0.8443113772
                        ],
                        "iteration": 70,
                        "passed_time": 1.020680741,
                        "remaining_time": 13.35510435,
                        "test": [
                          0.4274334556,
                          0.8161434978
                        ]
                      },
                      {
                        "learn": [
                          0.3913051104,
                          0.8443113772
                        ],
                        "iteration": 71,
                        "passed_time": 1.034664529,
                        "remaining_time": 13.33567616,
                        "test": [
                          0.4266916617,
                          0.8161434978
                        ]
                      },
                      {
                        "learn": [
                          0.3909012147,
                          0.8443113772
                        ],
                        "iteration": 72,
                        "passed_time": 1.052231734,
                        "remaining_time": 13.36190161,
                        "test": [
                          0.4265089252,
                          0.8116591928
                        ]
                      },
                      {
                        "learn": [
                          0.3907597724,
                          0.8443113772
                        ],
                        "iteration": 73,
                        "passed_time": 1.063760642,
                        "remaining_time": 13.31138317,
                        "test": [
                          0.4262909791,
                          0.8116591928
                        ]
                      },
                      {
                        "learn": [
                          0.3903216335,
                          0.8443113772
                        ],
                        "iteration": 74,
                        "passed_time": 1.07856138,
                        "remaining_time": 13.30225701,
                        "test": [
                          0.4259924793,
                          0.8116591928
                        ]
                      },
                      {
                        "learn": [
                          0.3888746245,
                          0.8458083832
                        ],
                        "iteration": 75,
                        "passed_time": 1.101141222,
                        "remaining_time": 13.38755906,
                        "test": [
                          0.4249855759,
                          0.8161434978
                        ]
                      },
                      {
                        "learn": [
                          0.388487543,
                          0.8458083832
                        ],
                        "iteration": 76,
                        "passed_time": 1.114503178,
                        "remaining_time": 13.35956407,
                        "test": [
                          0.4248116427,
                          0.8161434978
                        ]
                      },
                      {
                        "learn": [
                          0.3867381353,
                          0.8458083832
                        ],
                        "iteration": 77,
                        "passed_time": 1.13557277,
                        "remaining_time": 13.42305249,
                        "test": [
                          0.4242967424,
                          0.8116591928
                        ]
                      },
                      {
                        "learn": [
                          0.3858845416,
                          0.8473053892
                        ],
                        "iteration": 78,
                        "passed_time": 1.154593444,
                        "remaining_time": 13.46051344,
                        "test": [
                          0.4239430238,
                          0.8116591928
                        ]
                      },
                      {
                        "learn": [
                          0.3849722949,
                          0.8488023952
                        ],
                        "iteration": 79,
                        "passed_time": 1.172077339,
                        "remaining_time": 13.4788894,
                        "test": [
                          0.4224345474,
                          0.8206278027
                        ]
                      },
                      {
                        "learn": [
                          0.3832012803,
                          0.8473053892
                        ],
                        "iteration": 80,
                        "passed_time": 1.203276409,
                        "remaining_time": 13.6519879,
                        "test": [
                          0.4219658551,
                          0.8161434978
                        ]
                      },
                      {
                        "learn": [
                          0.3820907769,
                          0.8488023952
                        ],
                        "iteration": 81,
                        "passed_time": 1.228869483,
                        "remaining_time": 13.75734372,
                        "test": [
                          0.4218923341,
                          0.8206278027
                        ]
                      },
                      {
                        "learn": [
                          0.3811521625,
                          0.8488023952
                        ],
                        "iteration": 82,
                        "passed_time": 1.250361432,
                        "remaining_time": 13.81423414,
                        "test": [
                          0.4211551039,
                          0.8206278027
                        ]
                      },
                      {
                        "learn": [
                          0.3802925079,
                          0.8502994012
                        ],
                        "iteration": 83,
                        "passed_time": 1.272806339,
                        "remaining_time": 13.87965008,
                        "test": [
                          0.4204531967,
                          0.8206278027
                        ]
                      },
                      {
                        "learn": [
                          0.3793771363,
                          0.8488023952
                        ],
                        "iteration": 84,
                        "passed_time": 1.296837374,
                        "remaining_time": 13.96007291,
                        "test": [
                          0.4196669311,
                          0.8206278027
                        ]
                      },
                      {
                        "learn": [
                          0.3792169171,
                          0.8488023952
                        ],
                        "iteration": 85,
                        "passed_time": 1.302948857,
                        "remaining_time": 13.84761925,
                        "test": [
                          0.41914012,
                          0.8206278027
                        ]
                      },
                      {
                        "learn": [
                          0.3782712108,
                          0.8502994012
                        ],
                        "iteration": 86,
                        "passed_time": 1.334035792,
                        "remaining_time": 13.99970895,
                        "test": [
                          0.4185471299,
                          0.8251121076
                        ]
                      },
                      {
                        "learn": [
                          0.3774515183,
                          0.8502994012
                        ],
                        "iteration": 87,
                        "passed_time": 1.352573549,
                        "remaining_time": 14.01758042,
                        "test": [
                          0.418184401,
                          0.8206278027
                        ]
                      },
                      {
                        "learn": [
                          0.3769812439,
                          0.8502994012
                        ],
                        "iteration": 88,
                        "passed_time": 1.371813524,
                        "remaining_time": 14.04182158,
                        "test": [
                          0.4176166201,
                          0.8206278027
                        ]
                      },
                      {
                        "learn": [
                          0.3764735645,
                          0.8502994012
                        ],
                        "iteration": 89,
                        "passed_time": 1.40959561,
                        "remaining_time": 14.25257784,
                        "test": [
                          0.4167528933,
                          0.8206278027
                        ]
                      },
                      {
                        "learn": [
                          0.3754114812,
                          0.8502994012
                        ],
                        "iteration": 90,
                        "passed_time": 1.43006295,
                        "remaining_time": 14.28491452,
                        "test": [
                          0.4168681964,
                          0.8251121076
                        ]
                      },
                      {
                        "learn": [
                          0.374714414,
                          0.8502994012
                        ],
                        "iteration": 91,
                        "passed_time": 1.460328456,
                        "remaining_time": 14.41280693,
                        "test": [
                          0.4166071938,
                          0.8251121076
                        ]
                      },
                      {
                        "learn": [
                          0.3745579611,
                          0.8502994012
                        ],
                        "iteration": 92,
                        "passed_time": 1.46979033,
                        "remaining_time": 14.33440677,
                        "test": [
                          0.4164311633,
                          0.8251121076
                        ]
                      },
                      {
                        "learn": [
                          0.3742688906,
                          0.8502994012
                        ],
                        "iteration": 93,
                        "passed_time": 1.497701094,
                        "remaining_time": 14.43528926,
                        "test": [
                          0.4163285473,
                          0.8251121076
                        ]
                      },
                      {
                        "learn": [
                          0.3738527697,
                          0.8502994012
                        ],
                        "iteration": 94,
                        "passed_time": 1.522364415,
                        "remaining_time": 14.50252417,
                        "test": [
                          0.4159777416,
                          0.8251121076
                        ]
                      },
                      {
                        "learn": [
                          0.3733778085,
                          0.8502994012
                        ],
                        "iteration": 95,
                        "passed_time": 1.561660855,
                        "remaining_time": 14.70563972,
                        "test": [
                          0.4157515595,
                          0.8251121076
                        ]
                      },
                      {
                        "learn": [
                          0.3728777352,
                          0.8502994012
                        ],
                        "iteration": 96,
                        "passed_time": 1.587097674,
                        "remaining_time": 14.77473402,
                        "test": [
                          0.4156968845,
                          0.8251121076
                        ]
                      },
                      {
                        "learn": [
                          0.3722808337,
                          0.8502994012
                        ],
                        "iteration": 97,
                        "passed_time": 1.608010088,
                        "remaining_time": 14.80025611,
                        "test": [
                          0.4148254481,
                          0.8251121076
                        ]
                      },
                      {
                        "learn": [
                          0.3715319769,
                          0.8502994012
                        ],
                        "iteration": 98,
                        "passed_time": 1.628118693,
                        "remaining_time": 14.81752467,
                        "test": [
                          0.414215274,
                          0.8251121076
                        ]
                      },
                      {
                        "learn": [
                          0.3713123348,
                          0.8502994012
                        ],
                        "iteration": 99,
                        "passed_time": 1.63992565,
                        "remaining_time": 14.75933085,
                        "test": [
                          0.4137835767,
                          0.8251121076
                        ]
                      },
                      {
                        "learn": [
                          0.3711680967,
                          0.8502994012
                        ],
                        "iteration": 100,
                        "passed_time": 1.645785685,
                        "remaining_time": 14.64912209,
                        "test": [
                          0.413412682,
                          0.8251121076
                        ]
                      },
                      {
                        "learn": [
                          0.3701463452,
                          0.8502994012
                        ],
                        "iteration": 101,
                        "passed_time": 1.66708543,
                        "remaining_time": 14.67688938,
                        "test": [
                          0.412949785,
                          0.8251121076
                        ]
                      },
                      {
                        "learn": [
                          0.3696276848,
                          0.8502994012
                        ],
                        "iteration": 102,
                        "passed_time": 1.687122767,
                        "remaining_time": 14.69270993,
                        "test": [
                          0.4126316086,
                          0.8251121076
                        ]
                      },
                      {
                        "learn": [
                          0.368795474,
                          0.8488023952
                        ],
                        "iteration": 103,
                        "passed_time": 1.713201102,
                        "remaining_time": 14.75988642,
                        "test": [
                          0.4111647837,
                          0.8251121076
                        ]
                      },
                      {
                        "learn": [
                          0.3680006001,
                          0.8488023952
                        ],
                        "iteration": 104,
                        "passed_time": 1.734282206,
                        "remaining_time": 14.78269119,
                        "test": [
                          0.4103193589,
                          0.8251121076
                        ]
                      },
                      {
                        "learn": [
                          0.3678459771,
                          0.8488023952
                        ],
                        "iteration": 105,
                        "passed_time": 1.744160971,
                        "remaining_time": 14.71018782,
                        "test": [
                          0.4103092282,
                          0.8251121076
                        ]
                      },
                      {
                        "learn": [
                          0.3672393778,
                          0.8502994012
                        ],
                        "iteration": 106,
                        "passed_time": 1.761245584,
                        "remaining_time": 14.69899352,
                        "test": [
                          0.4097548782,
                          0.8251121076
                        ]
                      },
                      {
                        "learn": [
                          0.3672117213,
                          0.8502994012
                        ],
                        "iteration": 107,
                        "passed_time": 1.764810434,
                        "remaining_time": 14.57602691,
                        "test": [
                          0.4097518364,
                          0.8251121076
                        ]
                      },
                      {
                        "learn": [
                          0.366554577,
                          0.8502994012
                        ],
                        "iteration": 108,
                        "passed_time": 1.784393239,
                        "remaining_time": 14.58618694,
                        "test": [
                          0.4096296649,
                          0.8206278027
                        ]
                      },
                      {
                        "learn": [
                          0.365573918,
                          0.8502994012
                        ],
                        "iteration": 109,
                        "passed_time": 1.801382072,
                        "remaining_time": 14.57481859,
                        "test": [
                          0.4091176124,
                          0.8206278027
                        ]
                      },
                      {
                        "learn": [
                          0.3654657359,
                          0.8502994012
                        ],
                        "iteration": 110,
                        "passed_time": 1.811697579,
                        "remaining_time": 14.50990223,
                        "test": [
                          0.4088215976,
                          0.8206278027
                        ]
                      },
                      {
                        "learn": [
                          0.3646548501,
                          0.8502994012
                        ],
                        "iteration": 111,
                        "passed_time": 1.839045354,
                        "remaining_time": 14.58100245,
                        "test": [
                          0.4087191905,
                          0.8206278027
                        ]
                      },
                      {
                        "learn": [
                          0.363467437,
                          0.8502994012
                        ],
                        "iteration": 112,
                        "passed_time": 1.857795439,
                        "remaining_time": 14.58287217,
                        "test": [
                          0.4075590295,
                          0.8206278027
                        ]
                      },
                      {
                        "learn": [
                          0.363006476,
                          0.8502994012
                        ],
                        "iteration": 113,
                        "passed_time": 1.865663442,
                        "remaining_time": 14.49980535,
                        "test": [
                          0.4073434395,
                          0.8206278027
                        ]
                      },
                      {
                        "learn": [
                          0.3624457535,
                          0.8517964072
                        ],
                        "iteration": 114,
                        "passed_time": 1.872607927,
                        "remaining_time": 14.41093926,
                        "test": [
                          0.4074634493,
                          0.8251121076
                        ]
                      },
                      {
                        "learn": [
                          0.3616971793,
                          0.8532934132
                        ],
                        "iteration": 115,
                        "passed_time": 1.879763714,
                        "remaining_time": 14.32509589,
                        "test": [
                          0.4071796445,
                          0.8206278027
                        ]
                      },
                      {
                        "learn": [
                          0.3615270989,
                          0.8532934132
                        ],
                        "iteration": 116,
                        "passed_time": 1.887573356,
                        "remaining_time": 14.24553225,
                        "test": [
                          0.4071386679,
                          0.8206278027
                        ]
                      },
                      {
                        "learn": [
                          0.3614277494,
                          0.8532934132
                        ],
                        "iteration": 117,
                        "passed_time": 1.892975934,
                        "remaining_time": 14.149193,
                        "test": [
                          0.4072279815,
                          0.8206278027
                        ]
                      },
                      {
                        "learn": [
                          0.3603143525,
                          0.8532934132
                        ],
                        "iteration": 118,
                        "passed_time": 1.901572193,
                        "remaining_time": 14.07802606,
                        "test": [
                          0.4062959241,
                          0.8206278027
                        ]
                      },
                      {
                        "learn": [
                          0.3599630077,
                          0.8517964072
                        ],
                        "iteration": 119,
                        "passed_time": 1.908360694,
                        "remaining_time": 13.99464509,
                        "test": [
                          0.4062329739,
                          0.8206278027
                        ]
                      },
                      {
                        "learn": [
                          0.3592807155,
                          0.8517964072
                        ],
                        "iteration": 120,
                        "passed_time": 1.918009217,
                        "remaining_time": 13.93330663,
                        "test": [
                          0.4058909125,
                          0.8206278027
                        ]
                      },
                      {
                        "learn": [
                          0.3587750858,
                          0.8517964072
                        ],
                        "iteration": 121,
                        "passed_time": 1.924929457,
                        "remaining_time": 13.85318085,
                        "test": [
                          0.4056309327,
                          0.8206278027
                        ]
                      },
                      {
                        "learn": [
                          0.3583614208,
                          0.8532934132
                        ],
                        "iteration": 122,
                        "passed_time": 1.932411698,
                        "remaining_time": 13.77825251,
                        "test": [
                          0.4056128492,
                          0.8206278027
                        ]
                      },
                      {
                        "learn": [
                          0.3580263649,
                          0.8562874251
                        ],
                        "iteration": 123,
                        "passed_time": 1.939523367,
                        "remaining_time": 13.70179411,
                        "test": [
                          0.4054936908,
                          0.8206278027
                        ]
                      },
                      {
                        "learn": [
                          0.3574388065,
                          0.8577844311
                        ],
                        "iteration": 124,
                        "passed_time": 1.947375227,
                        "remaining_time": 13.63162659,
                        "test": [
                          0.4057917339,
                          0.8206278027
                        ]
                      },
                      {
                        "learn": [
                          0.3567529777,
                          0.8562874251
                        ],
                        "iteration": 125,
                        "passed_time": 1.955341719,
                        "remaining_time": 13.56324335,
                        "test": [
                          0.405502124,
                          0.8206278027
                        ]
                      },
                      {
                        "learn": [
                          0.3561014505,
                          0.8562874251
                        ],
                        "iteration": 126,
                        "passed_time": 1.973753169,
                        "remaining_time": 13.56761037,
                        "test": [
                          0.4053355744,
                          0.8206278027
                        ]
                      },
                      {
                        "learn": [
                          0.3558349448,
                          0.8577844311
                        ],
                        "iteration": 127,
                        "passed_time": 1.992944701,
                        "remaining_time": 13.57693578,
                        "test": [
                          0.4051967525,
                          0.8206278027
                        ]
                      },
                      {
                        "learn": [
                          0.355834804,
                          0.8577844311
                        ],
                        "iteration": 128,
                        "passed_time": 1.996246075,
                        "remaining_time": 13.4785297,
                        "test": [
                          0.4051965842,
                          0.8206278027
                        ]
                      },
                      {
                        "learn": [
                          0.3552631941,
                          0.8592814371
                        ],
                        "iteration": 129,
                        "passed_time": 2.010558659,
                        "remaining_time": 13.45527718,
                        "test": [
                          0.4059886223,
                          0.8206278027
                        ]
                      },
                      {
                        "learn": [
                          0.3551325184,
                          0.8592814371
                        ],
                        "iteration": 130,
                        "passed_time": 2.022687648,
                        "remaining_time": 13.41767608,
                        "test": [
                          0.4060901195,
                          0.8206278027
                        ]
                      },
                      {
                        "learn": [
                          0.3549290851,
                          0.8577844311
                        ],
                        "iteration": 131,
                        "passed_time": 2.036591666,
                        "remaining_time": 13.39213307,
                        "test": [
                          0.4058884604,
                          0.8206278027
                        ]
                      },
                      {
                        "learn": [
                          0.3541759687,
                          0.8577844311
                        ],
                        "iteration": 132,
                        "passed_time": 2.051869977,
                        "remaining_time": 13.37572383,
                        "test": [
                          0.4056387492,
                          0.8206278027
                        ]
                      },
                      {
                        "learn": [
                          0.354102444,
                          0.8577844311
                        ],
                        "iteration": 133,
                        "passed_time": 2.058030438,
                        "remaining_time": 13.30040566,
                        "test": [
                          0.4056707235,
                          0.8206278027
                        ]
                      },
                      {
                        "learn": [
                          0.3540080156,
                          0.8577844311
                        ],
                        "iteration": 134,
                        "passed_time": 2.063642413,
                        "remaining_time": 13.22259768,
                        "test": [
                          0.405351647,
                          0.8206278027
                        ]
                      },
                      {
                        "learn": [
                          0.3534041117,
                          0.8592814371
                        ],
                        "iteration": 135,
                        "passed_time": 2.078260534,
                        "remaining_time": 13.20306692,
                        "test": [
                          0.4049093743,
                          0.8206278027
                        ]
                      },
                      {
                        "learn": [
                          0.3531427252,
                          0.8577844311
                        ],
                        "iteration": 136,
                        "passed_time": 2.093705025,
                        "remaining_time": 13.1888134,
                        "test": [
                          0.4047992126,
                          0.8206278027
                        ]
                      },
                      {
                        "learn": [
                          0.3526642267,
                          0.8577844311
                        ],
                        "iteration": 137,
                        "passed_time": 2.110098294,
                        "remaining_time": 13.18046905,
                        "test": [
                          0.4042060529,
                          0.8206278027
                        ]
                      },
                      {
                        "learn": [
                          0.3517461097,
                          0.8607784431
                        ],
                        "iteration": 138,
                        "passed_time": 2.121630807,
                        "remaining_time": 13.14190018,
                        "test": [
                          0.4038862751,
                          0.8206278027
                        ]
                      },
                      {
                        "learn": [
                          0.3510655338,
                          0.8622754491
                        ],
                        "iteration": 139,
                        "passed_time": 2.13752662,
                        "remaining_time": 13.13052067,
                        "test": [
                          0.4031373577,
                          0.8206278027
                        ]
                      },
                      {
                        "learn": [
                          0.3508675421,
                          0.8622754491
                        ],
                        "iteration": 140,
                        "passed_time": 2.152460298,
                        "remaining_time": 13.11321557,
                        "test": [
                          0.4030209974,
                          0.8206278027
                        ]
                      },
                      {
                        "learn": [
                          0.3499321249,
                          0.8622754491
                        ],
                        "iteration": 141,
                        "passed_time": 2.165810902,
                        "remaining_time": 13.08637855,
                        "test": [
                          0.4032275412,
                          0.8206278027
                        ]
                      },
                      {
                        "learn": [
                          0.3498985411,
                          0.8622754491
                        ],
                        "iteration": 142,
                        "passed_time": 2.174736073,
                        "remaining_time": 13.0332085,
                        "test": [
                          0.403254091,
                          0.8206278027
                        ]
                      },
                      {
                        "learn": [
                          0.3492545059,
                          0.8637724551
                        ],
                        "iteration": 143,
                        "passed_time": 2.187693699,
                        "remaining_time": 13.00462366,
                        "test": [
                          0.4027983087,
                          0.8161434978
                        ]
                      },
                      {
                        "learn": [
                          0.3489517879,
                          0.8637724551
                        ],
                        "iteration": 144,
                        "passed_time": 2.204617935,
                        "remaining_time": 12.99964368,
                        "test": [
                          0.4024768067,
                          0.8206278027
                        ]
                      },
                      {
                        "learn": [
                          0.3485264911,
                          0.8637724551
                        ],
                        "iteration": 145,
                        "passed_time": 2.235320889,
                        "remaining_time": 13.07509616,
                        "test": [
                          0.4021109822,
                          0.8206278027
                        ]
                      },
                      {
                        "learn": [
                          0.3481955059,
                          0.8637724551
                        ],
                        "iteration": 146,
                        "passed_time": 2.25560189,
                        "remaining_time": 13.08862865,
                        "test": [
                          0.4021176733,
                          0.8206278027
                        ]
                      },
                      {
                        "learn": [
                          0.3472828648,
                          0.8637724551
                        ],
                        "iteration": 147,
                        "passed_time": 2.274216381,
                        "remaining_time": 13.09211052,
                        "test": [
                          0.4017108504,
                          0.8206278027
                        ]
                      },
                      {
                        "learn": [
                          0.346177192,
                          0.871257485
                        ],
                        "iteration": 148,
                        "passed_time": 2.287304684,
                        "remaining_time": 13.06373346,
                        "test": [
                          0.4010244443,
                          0.8206278027
                        ]
                      },
                      {
                        "learn": [
                          0.3456411678,
                          0.871257485
                        ],
                        "iteration": 149,
                        "passed_time": 2.308856087,
                        "remaining_time": 13.08351782,
                        "test": [
                          0.4011646798,
                          0.8206278027
                        ]
                      },
                      {
                        "learn": [
                          0.3448944504,
                          0.871257485
                        ],
                        "iteration": 150,
                        "passed_time": 2.322289898,
                        "remaining_time": 13.0571134,
                        "test": [
                          0.4008997803,
                          0.8295964126
                        ]
                      },
                      {
                        "learn": [
                          0.3445741981,
                          0.871257485
                        ],
                        "iteration": 151,
                        "passed_time": 2.340812293,
                        "remaining_time": 13.05926858,
                        "test": [
                          0.4008528906,
                          0.8295964126
                        ]
                      },
                      {
                        "learn": [
                          0.3443865473,
                          0.869760479
                        ],
                        "iteration": 152,
                        "passed_time": 2.357764409,
                        "remaining_time": 13.05246049,
                        "test": [
                          0.4011244462,
                          0.8251121076
                        ]
                      },
                      {
                        "learn": [
                          0.3439866532,
                          0.869760479
                        ],
                        "iteration": 153,
                        "passed_time": 2.382082618,
                        "remaining_time": 13.08598633,
                        "test": [
                          0.4013077616,
                          0.8295964126
                        ]
                      },
                      {
                        "learn": [
                          0.3437704513,
                          0.869760479
                        ],
                        "iteration": 154,
                        "passed_time": 2.406214136,
                        "remaining_time": 13.11774803,
                        "test": [
                          0.4014410588,
                          0.8251121076
                        ]
                      },
                      {
                        "learn": [
                          0.3433918053,
                          0.8682634731
                        ],
                        "iteration": 155,
                        "passed_time": 2.419682188,
                        "remaining_time": 13.09110107,
                        "test": [
                          0.4014421959,
                          0.8295964126
                        ]
                      },
                      {
                        "learn": [
                          0.3430506039,
                          0.8682634731
                        ],
                        "iteration": 156,
                        "passed_time": 2.438232336,
                        "remaining_time": 13.09190993,
                        "test": [
                          0.4010456225,
                          0.8295964126
                        ]
                      },
                      {
                        "learn": [
                          0.3425826845,
                          0.8682634731
                        ],
                        "iteration": 157,
                        "passed_time": 2.463833293,
                        "remaining_time": 13.13004831,
                        "test": [
                          0.4006976387,
                          0.8295964126
                        ]
                      },
                      {
                        "learn": [
                          0.3425423613,
                          0.8682634731
                        ],
                        "iteration": 158,
                        "passed_time": 2.466621934,
                        "remaining_time": 13.04672356,
                        "test": [
                          0.4006982711,
                          0.8295964126
                        ]
                      },
                      {
                        "learn": [
                          0.3420207399,
                          0.8682634731
                        ],
                        "iteration": 159,
                        "passed_time": 2.485221914,
                        "remaining_time": 13.04741505,
                        "test": [
                          0.400018862,
                          0.8206278027
                        ]
                      },
                      {
                        "learn": [
                          0.341913758,
                          0.8682634731
                        ],
                        "iteration": 160,
                        "passed_time": 2.503079733,
                        "remaining_time": 13.04399935,
                        "test": [
                          0.3998792882,
                          0.8206278027
                        ]
                      },
                      {
                        "learn": [
                          0.3414931188,
                          0.8682634731
                        ],
                        "iteration": 161,
                        "passed_time": 2.513452754,
                        "remaining_time": 13.0016877,
                        "test": [
                          0.3995572782,
                          0.8206278027
                        ]
                      },
                      {
                        "learn": [
                          0.3408225136,
                          0.8682634731
                        ],
                        "iteration": 162,
                        "passed_time": 2.541150371,
                        "remaining_time": 13.04872921,
                        "test": [
                          0.3996493576,
                          0.8206278027
                        ]
                      },
                      {
                        "learn": [
                          0.3406299975,
                          0.871257485
                        ],
                        "iteration": 163,
                        "passed_time": 2.557539842,
                        "remaining_time": 13.03721529,
                        "test": [
                          0.3997178584,
                          0.8206278027
                        ]
                      },
                      {
                        "learn": [
                          0.3406299972,
                          0.871257485
                        ],
                        "iteration": 164,
                        "passed_time": 2.559135621,
                        "remaining_time": 12.95077724,
                        "test": [
                          0.3997178412,
                          0.8206278027
                        ]
                      },
                      {
                        "learn": [
                          0.340174645,
                          0.869760479
                        ],
                        "iteration": 165,
                        "passed_time": 2.572527371,
                        "remaining_time": 12.92462547,
                        "test": [
                          0.3994599125,
                          0.8206278027
                        ]
                      },
                      {
                        "learn": [
                          0.3395948622,
                          0.871257485
                        ],
                        "iteration": 166,
                        "passed_time": 2.589416437,
                        "remaining_time": 12.91607121,
                        "test": [
                          0.3996377294,
                          0.8206278027
                        ]
                      },
                      {
                        "learn": [
                          0.3395948619,
                          0.871257485
                        ],
                        "iteration": 167,
                        "passed_time": 2.597265359,
                        "remaining_time": 12.86264749,
                        "test": [
                          0.3996377116,
                          0.8206278027
                        ]
                      },
                      {
                        "learn": [
                          0.3391893501,
                          0.869760479
                        ],
                        "iteration": 168,
                        "passed_time": 2.625866895,
                        "remaining_time": 12.91180704,
                        "test": [
                          0.3995141733,
                          0.8206278027
                        ]
                      },
                      {
                        "learn": [
                          0.3391193125,
                          0.871257485
                        ],
                        "iteration": 169,
                        "passed_time": 2.647548452,
                        "remaining_time": 12.92626597,
                        "test": [
                          0.3996210332,
                          0.8206278027
                        ]
                      },
                      {
                        "learn": [
                          0.3384839535,
                          0.871257485
                        ],
                        "iteration": 170,
                        "passed_time": 2.664831554,
                        "remaining_time": 12.9189787,
                        "test": [
                          0.3994490353,
                          0.8206278027
                        ]
                      },
                      {
                        "learn": [
                          0.3383552902,
                          0.871257485
                        ],
                        "iteration": 171,
                        "passed_time": 2.67643435,
                        "remaining_time": 12.88423048,
                        "test": [
                          0.3992721171,
                          0.8206278027
                        ]
                      },
                      {
                        "learn": [
                          0.337937857,
                          0.871257485
                        ],
                        "iteration": 172,
                        "passed_time": 2.688124673,
                        "remaining_time": 12.85016824,
                        "test": [
                          0.3991737066,
                          0.8206278027
                        ]
                      },
                      {
                        "learn": [
                          0.3372661441,
                          0.871257485
                        ],
                        "iteration": 173,
                        "passed_time": 2.703151828,
                        "remaining_time": 12.8322035,
                        "test": [
                          0.3988481546,
                          0.8206278027
                        ]
                      },
                      {
                        "learn": [
                          0.3369315313,
                          0.871257485
                        ],
                        "iteration": 174,
                        "passed_time": 2.714351735,
                        "remaining_time": 12.79622961,
                        "test": [
                          0.3988157327,
                          0.8206278027
                        ]
                      },
                      {
                        "learn": [
                          0.3366365614,
                          0.871257485
                        ],
                        "iteration": 175,
                        "passed_time": 2.729383723,
                        "remaining_time": 12.77847834,
                        "test": [
                          0.3989402311,
                          0.8206278027
                        ]
                      },
                      {
                        "learn": [
                          0.3361742868,
                          0.874251497
                        ],
                        "iteration": 176,
                        "passed_time": 2.761094252,
                        "remaining_time": 12.8383083,
                        "test": [
                          0.398707717,
                          0.8206278027
                        ]
                      },
                      {
                        "learn": [
                          0.3360777878,
                          0.874251497
                        ],
                        "iteration": 177,
                        "passed_time": 2.792965071,
                        "remaining_time": 12.89784994,
                        "test": [
                          0.3986783139,
                          0.8206278027
                        ]
                      },
                      {
                        "learn": [
                          0.3355855301,
                          0.872754491
                        ],
                        "iteration": 178,
                        "passed_time": 2.814868682,
                        "remaining_time": 12.91065468,
                        "test": [
                          0.3986022074,
                          0.8206278027
                        ]
                      },
                      {
                        "learn": [
                          0.3354022626,
                          0.874251497
                        ],
                        "iteration": 179,
                        "passed_time": 2.848283677,
                        "remaining_time": 12.97551453,
                        "test": [
                          0.3985948625,
                          0.8206278027
                        ]
                      },
                      {
                        "learn": [
                          0.3352006786,
                          0.875748503
                        ],
                        "iteration": 180,
                        "passed_time": 2.873722359,
                        "remaining_time": 13.00319675,
                        "test": [
                          0.3985678178,
                          0.8206278027
                        ]
                      },
                      {
                        "learn": [
                          0.3344942402,
                          0.874251497
                        ],
                        "iteration": 181,
                        "passed_time": 2.901195371,
                        "remaining_time": 13.03943854,
                        "test": [
                          0.3985311938,
                          0.8206278027
                        ]
                      },
                      {
                        "learn": [
                          0.3340321327,
                          0.875748503
                        ],
                        "iteration": 182,
                        "passed_time": 2.924554396,
                        "remaining_time": 13.05661717,
                        "test": [
                          0.3986520845,
                          0.8206278027
                        ]
                      },
                      {
                        "learn": [
                          0.3333556166,
                          0.878742515
                        ],
                        "iteration": 183,
                        "passed_time": 2.953373361,
                        "remaining_time": 13.09756882,
                        "test": [
                          0.3985747288,
                          0.8206278027
                        ]
                      },
                      {
                        "learn": [
                          0.3330068314,
                          0.878742515
                        ],
                        "iteration": 184,
                        "passed_time": 2.993842143,
                        "remaining_time": 13.18908836,
                        "test": [
                          0.3982812934,
                          0.8206278027
                        ]
                      },
                      {
                        "learn": [
                          0.3329831725,
                          0.878742515
                        ],
                        "iteration": 185,
                        "passed_time": 3.009442753,
                        "remaining_time": 13.170357,
                        "test": [
                          0.3982823991,
                          0.8206278027
                        ]
                      },
                      {
                        "learn": [
                          0.3323022642,
                          0.880239521
                        ],
                        "iteration": 186,
                        "passed_time": 3.035627508,
                        "remaining_time": 13.19767467,
                        "test": [
                          0.3980368156,
                          0.8206278027
                        ]
                      },
                      {
                        "learn": [
                          0.3322698512,
                          0.878742515
                        ],
                        "iteration": 187,
                        "passed_time": 3.040290965,
                        "remaining_time": 13.13146949,
                        "test": [
                          0.3978981846,
                          0.8206278027
                        ]
                      },
                      {
                        "learn": [
                          0.3314342691,
                          0.880239521
                        ],
                        "iteration": 188,
                        "passed_time": 3.068426093,
                        "remaining_time": 13.1666326,
                        "test": [
                          0.3981614978,
                          0.8206278027
                        ]
                      },
                      {
                        "learn": [
                          0.3312887637,
                          0.878742515
                        ],
                        "iteration": 189,
                        "passed_time": 3.090971264,
                        "remaining_time": 13.17729855,
                        "test": [
                          0.3981433126,
                          0.8206278027
                        ]
                      },
                      {
                        "learn": [
                          0.3309873827,
                          0.878742515
                        ],
                        "iteration": 190,
                        "passed_time": 3.120337849,
                        "remaining_time": 13.21650953,
                        "test": [
                          0.3980581817,
                          0.8206278027
                        ]
                      },
                      {
                        "learn": [
                          0.3307796409,
                          0.878742515
                        ],
                        "iteration": 191,
                        "passed_time": 3.141439762,
                        "remaining_time": 13.22022566,
                        "test": [
                          0.3980431759,
                          0.8206278027
                        ]
                      },
                      {
                        "learn": [
                          0.3306577501,
                          0.878742515
                        ],
                        "iteration": 192,
                        "passed_time": 3.152215215,
                        "remaining_time": 13.18050611,
                        "test": [
                          0.3979033336,
                          0.8206278027
                        ]
                      },
                      {
                        "learn": [
                          0.3299342002,
                          0.880239521
                        ],
                        "iteration": 193,
                        "passed_time": 3.160652322,
                        "remaining_time": 13.13136996,
                        "test": [
                          0.3978204817,
                          0.8161434978
                        ]
                      },
                      {
                        "learn": [
                          0.3291372887,
                          0.8817365269
                        ],
                        "iteration": 194,
                        "passed_time": 3.171031737,
                        "remaining_time": 13.09066948,
                        "test": [
                          0.3965196713,
                          0.8161434978
                        ]
                      },
                      {
                        "learn": [
                          0.3285707111,
                          0.8817365269
                        ],
                        "iteration": 195,
                        "passed_time": 3.179534673,
                        "remaining_time": 13.04258101,
                        "test": [
                          0.3970108536,
                          0.8161434978
                        ]
                      },
                      {
                        "learn": [
                          0.3282817519,
                          0.8817365269
                        ],
                        "iteration": 196,
                        "passed_time": 3.18553354,
                        "remaining_time": 12.98468748,
                        "test": [
                          0.3967007474,
                          0.8206278027
                        ]
                      },
                      {
                        "learn": [
                          0.3273961657,
                          0.8847305389
                        ],
                        "iteration": 197,
                        "passed_time": 3.19537287,
                        "remaining_time": 12.94287395,
                        "test": [
                          0.3968371357,
                          0.8161434978
                        ]
                      },
                      {
                        "learn": [
                          0.3272149609,
                          0.8847305389
                        ],
                        "iteration": 198,
                        "passed_time": 3.213382857,
                        "remaining_time": 12.93426969,
                        "test": [
                          0.3966212881,
                          0.8206278027
                        ]
                      },
                      {
                        "learn": [
                          0.3266134302,
                          0.8847305389
                        ],
                        "iteration": 199,
                        "passed_time": 3.231898119,
                        "remaining_time": 12.92759247,
                        "test": [
                          0.3968474879,
                          0.8161434978
                        ]
                      },
                      {
                        "learn": [
                          0.3265758623,
                          0.8847305389
                        ],
                        "iteration": 200,
                        "passed_time": 3.245334591,
                        "remaining_time": 12.90060865,
                        "test": [
                          0.3967844077,
                          0.8161434978
                        ]
                      },
                      {
                        "learn": [
                          0.3261540174,
                          0.8847305389
                        ],
                        "iteration": 201,
                        "passed_time": 3.263323784,
                        "remaining_time": 12.89174445,
                        "test": [
                          0.3968244179,
                          0.8161434978
                        ]
                      },
                      {
                        "learn": [
                          0.326153872,
                          0.8847305389
                        ],
                        "iteration": 202,
                        "passed_time": 3.266765798,
                        "remaining_time": 12.82567655,
                        "test": [
                          0.3968187467,
                          0.8161434978
                        ]
                      },
                      {
                        "learn": [
                          0.3256543208,
                          0.8862275449
                        ],
                        "iteration": 203,
                        "passed_time": 3.285334165,
                        "remaining_time": 12.81924508,
                        "test": [
                          0.3967295325,
                          0.8161434978
                        ]
                      },
                      {
                        "learn": [
                          0.325501423,
                          0.8862275449
                        ],
                        "iteration": 204,
                        "passed_time": 3.297777658,
                        "remaining_time": 12.78894262,
                        "test": [
                          0.3965654599,
                          0.8161434978
                        ]
                      },
                      {
                        "learn": [
                          0.3254665102,
                          0.8862275449
                        ],
                        "iteration": 205,
                        "passed_time": 3.301101785,
                        "remaining_time": 12.72366416,
                        "test": [
                          0.3965661319,
                          0.8161434978
                        ]
                      },
                      {
                        "learn": [
                          0.3251493604,
                          0.8862275449
                        ],
                        "iteration": 206,
                        "passed_time": 3.316702367,
                        "remaining_time": 12.70601438,
                        "test": [
                          0.3965013277,
                          0.8161434978
                        ]
                      },
                      {
                        "learn": [
                          0.3251058653,
                          0.8862275449
                        ],
                        "iteration": 207,
                        "passed_time": 3.325465982,
                        "remaining_time": 12.66235124,
                        "test": [
                          0.3965027769,
                          0.8161434978
                        ]
                      },
                      {
                        "learn": [
                          0.3247632378,
                          0.8862275449
                        ],
                        "iteration": 208,
                        "passed_time": 3.337814527,
                        "remaining_time": 12.63258991,
                        "test": [
                          0.3964636806,
                          0.8161434978
                        ]
                      },
                      {
                        "learn": [
                          0.3245386964,
                          0.8877245509
                        ],
                        "iteration": 209,
                        "passed_time": 3.347385736,
                        "remaining_time": 12.59254634,
                        "test": [
                          0.3965367426,
                          0.8161434978
                        ]
                      },
                      {
                        "learn": [
                          0.3237341306,
                          0.8907185629
                        ],
                        "iteration": 210,
                        "passed_time": 3.362793051,
                        "remaining_time": 12.57461477,
                        "test": [
                          0.3961856202,
                          0.8161434978
                        ]
                      },
                      {
                        "learn": [
                          0.3233256176,
                          0.8892215569
                        ],
                        "iteration": 211,
                        "passed_time": 3.382322661,
                        "remaining_time": 12.57202951,
                        "test": [
                          0.3958950087,
                          0.8161434978
                        ]
                      },
                      {
                        "learn": [
                          0.3232957974,
                          0.8892215569
                        ],
                        "iteration": 212,
                        "passed_time": 3.392499517,
                        "remaining_time": 12.53472826,
                        "test": [
                          0.3958834503,
                          0.8161434978
                        ]
                      },
                      {
                        "learn": [
                          0.3229699174,
                          0.8892215569
                        ],
                        "iteration": 213,
                        "passed_time": 3.403913462,
                        "remaining_time": 12.50222421,
                        "test": [
                          0.3959873426,
                          0.8161434978
                        ]
                      },
                      {
                        "learn": [
                          0.3225119461,
                          0.8892215569
                        ],
                        "iteration": 214,
                        "passed_time": 3.422548773,
                        "remaining_time": 12.49628273,
                        "test": [
                          0.3952189357,
                          0.8161434978
                        ]
                      },
                      {
                        "learn": [
                          0.3217883069,
                          0.8877245509
                        ],
                        "iteration": 215,
                        "passed_time": 3.433399532,
                        "remaining_time": 12.46196867,
                        "test": [
                          0.3965330141,
                          0.8161434978
                        ]
                      },
                      {
                        "learn": [
                          0.3211591279,
                          0.8922155689
                        ],
                        "iteration": 216,
                        "passed_time": 3.447329109,
                        "remaining_time": 12.43898015,
                        "test": [
                          0.3967154951,
                          0.8161434978
                        ]
                      },
                      {
                        "learn": [
                          0.3201618836,
                          0.8922155689
                        ],
                        "iteration": 217,
                        "passed_time": 3.460784294,
                        "remaining_time": 12.41437302,
                        "test": [
                          0.3964229956,
                          0.8161434978
                        ]
                      },
                      {
                        "learn": [
                          0.3197641709,
                          0.8922155689
                        ],
                        "iteration": 218,
                        "passed_time": 3.473223013,
                        "remaining_time": 12.3862428,
                        "test": [
                          0.3959198132,
                          0.8161434978
                        ]
                      },
                      {
                        "learn": [
                          0.319620635,
                          0.8922155689
                        ],
                        "iteration": 219,
                        "passed_time": 3.487599932,
                        "remaining_time": 12.36512703,
                        "test": [
                          0.3959551937,
                          0.8161434978
                        ]
                      },
                      {
                        "learn": [
                          0.3196179255,
                          0.8922155689
                        ],
                        "iteration": 220,
                        "passed_time": 3.490643627,
                        "remaining_time": 12.30412392,
                        "test": [
                          0.3959507201,
                          0.8161434978
                        ]
                      },
                      {
                        "learn": [
                          0.3194516145,
                          0.8922155689
                        ],
                        "iteration": 221,
                        "passed_time": 3.50028823,
                        "remaining_time": 12.26677587,
                        "test": [
                          0.3959051886,
                          0.8161434978
                        ]
                      },
                      {
                        "learn": [
                          0.3194492804,
                          0.8922155689
                        ],
                        "iteration": 222,
                        "passed_time": 3.50281554,
                        "remaining_time": 12.20487746,
                        "test": [
                          0.3959052497,
                          0.8161434978
                        ]
                      },
                      {
                        "learn": [
                          0.3194209388,
                          0.8922155689
                        ],
                        "iteration": 223,
                        "passed_time": 3.518711725,
                        "remaining_time": 12.18982276,
                        "test": [
                          0.3958552624,
                          0.8161434978
                        ]
                      },
                      {
                        "learn": [
                          0.3191670579,
                          0.8892215569
                        ],
                        "iteration": 224,
                        "passed_time": 3.530665442,
                        "remaining_time": 12.16118097,
                        "test": [
                          0.3956713384,
                          0.8161434978
                        ]
                      },
                      {
                        "learn": [
                          0.3186720426,
                          0.8892215569
                        ],
                        "iteration": 225,
                        "passed_time": 3.542190277,
                        "remaining_time": 12.13121803,
                        "test": [
                          0.3955912175,
                          0.8161434978
                        ]
                      },
                      {
                        "learn": [
                          0.3180586061,
                          0.8892215569
                        ],
                        "iteration": 226,
                        "passed_time": 3.560094991,
                        "remaining_time": 12.12314286,
                        "test": [
                          0.3954145884,
                          0.8161434978
                        ]
                      },
                      {
                        "learn": [
                          0.3172180378,
                          0.8937125749
                        ],
                        "iteration": 227,
                        "passed_time": 3.586485233,
                        "remaining_time": 12.14371316,
                        "test": [
                          0.39559743,
                          0.8161434978
                        ]
                      },
                      {
                        "learn": [
                          0.3166533952,
                          0.8937125749
                        ],
                        "iteration": 228,
                        "passed_time": 3.606945004,
                        "remaining_time": 12.14390654,
                        "test": [
                          0.3952899346,
                          0.8161434978
                        ]
                      },
                      {
                        "learn": [
                          0.3166428161,
                          0.8937125749
                        ],
                        "iteration": 229,
                        "passed_time": 3.611227648,
                        "remaining_time": 12.08976213,
                        "test": [
                          0.3953342788,
                          0.8161434978
                        ]
                      },
                      {
                        "learn": [
                          0.3165594596,
                          0.8937125749
                        ],
                        "iteration": 230,
                        "passed_time": 3.629272886,
                        "remaining_time": 12.08186515,
                        "test": [
                          0.395358979,
                          0.8161434978
                        ]
                      },
                      {
                        "learn": [
                          0.316535347,
                          0.8937125749
                        ],
                        "iteration": 231,
                        "passed_time": 3.633211392,
                        "remaining_time": 12.02718254,
                        "test": [
                          0.3954347095,
                          0.8161434978
                        ]
                      },
                      {
                        "learn": [
                          0.3160546773,
                          0.8937125749
                        ],
                        "iteration": 232,
                        "passed_time": 3.639788035,
                        "remaining_time": 11.98161984,
                        "test": [
                          0.3952556639,
                          0.8161434978
                        ]
                      },
                      {
                        "learn": [
                          0.3158872207,
                          0.8937125749
                        ],
                        "iteration": 233,
                        "passed_time": 3.647811523,
                        "remaining_time": 11.94112661,
                        "test": [
                          0.3952985079,
                          0.8161434978
                        ]
                      },
                      {
                        "learn": [
                          0.3155405295,
                          0.8937125749
                        ],
                        "iteration": 234,
                        "passed_time": 3.655543302,
                        "remaining_time": 11.89996011,
                        "test": [
                          0.3950266165,
                          0.8161434978
                        ]
                      },
                      {
                        "learn": [
                          0.315142136,
                          0.8937125749
                        ],
                        "iteration": 235,
                        "passed_time": 3.663307081,
                        "remaining_time": 11.85918055,
                        "test": [
                          0.3950194555,
                          0.8161434978
                        ]
                      },
                      {
                        "learn": [
                          0.314801715,
                          0.8952095808
                        ],
                        "iteration": 236,
                        "passed_time": 3.671981479,
                        "remaining_time": 11.82161126,
                        "test": [
                          0.3948534401,
                          0.8161434978
                        ]
                      },
                      {
                        "learn": [
                          0.3145568856,
                          0.8952095808
                        ],
                        "iteration": 237,
                        "passed_time": 3.687253909,
                        "remaining_time": 11.80540957,
                        "test": [
                          0.3949566592,
                          0.8161434978
                        ]
                      },
                      {
                        "learn": [
                          0.3139876268,
                          0.8952095808
                        ],
                        "iteration": 238,
                        "passed_time": 3.709875576,
                        "remaining_time": 11.81261637,
                        "test": [
                          0.3947112704,
                          0.8116591928
                        ]
                      },
                      {
                        "learn": [
                          0.313884693,
                          0.8952095808
                        ],
                        "iteration": 239,
                        "passed_time": 3.72727654,
                        "remaining_time": 11.80304238,
                        "test": [
                          0.3945455489,
                          0.8116591928
                        ]
                      },
                      {
                        "learn": [
                          0.3133804232,
                          0.8952095808
                        ],
                        "iteration": 240,
                        "passed_time": 3.745240754,
                        "remaining_time": 11.79517731,
                        "test": [
                          0.3947825319,
                          0.8116591928
                        ]
                      },
                      {
                        "learn": [
                          0.313266374,
                          0.8952095808
                        ],
                        "iteration": 241,
                        "passed_time": 3.760746726,
                        "remaining_time": 11.779529,
                        "test": [
                          0.394815827,
                          0.8116591928
                        ]
                      },
                      {
                        "learn": [
                          0.3125873942,
                          0.8952095808
                        ],
                        "iteration": 242,
                        "passed_time": 3.771254336,
                        "remaining_time": 11.74831083,
                        "test": [
                          0.3947623845,
                          0.8116591928
                        ]
                      },
                      {
                        "learn": [
                          0.3125716032,
                          0.8952095808
                        ],
                        "iteration": 243,
                        "passed_time": 3.776215476,
                        "remaining_time": 11.70007746,
                        "test": [
                          0.3947628199,
                          0.8116591928
                        ]
                      },
                      {
                        "learn": [
                          0.3124107141,
                          0.8952095808
                        ],
                        "iteration": 244,
                        "passed_time": 3.78798851,
                        "remaining_time": 11.67318908,
                        "test": [
                          0.3947460915,
                          0.8116591928
                        ]
                      },
                      {
                        "learn": [
                          0.3120558078,
                          0.8952095808
                        ],
                        "iteration": 245,
                        "passed_time": 3.800228637,
                        "remaining_time": 11.64785525,
                        "test": [
                          0.3947055807,
                          0.8116591928
                        ]
                      },
                      {
                        "learn": [
                          0.3118030221,
                          0.8952095808
                        ],
                        "iteration": 246,
                        "passed_time": 3.817907897,
                        "remaining_time": 11.63920909,
                        "test": [
                          0.3945752638,
                          0.8116591928
                        ]
                      },
                      {
                        "learn": [
                          0.3115541349,
                          0.8952095808
                        ],
                        "iteration": 247,
                        "passed_time": 3.832338435,
                        "remaining_time": 11.62063913,
                        "test": [
                          0.3945034119,
                          0.8116591928
                        ]
                      },
                      {
                        "learn": [
                          0.3113835662,
                          0.8952095808
                        ],
                        "iteration": 248,
                        "passed_time": 3.843992984,
                        "remaining_time": 11.59372984,
                        "test": [
                          0.3945553345,
                          0.8116591928
                        ]
                      },
                      {
                        "learn": [
                          0.3109113639,
                          0.8952095808
                        ],
                        "iteration": 249,
                        "passed_time": 3.862774842,
                        "remaining_time": 11.58832453,
                        "test": [
                          0.3945776247,
                          0.8116591928
                        ]
                      },
                      {
                        "learn": [
                          0.3105904237,
                          0.8952095808
                        ],
                        "iteration": 250,
                        "passed_time": 3.87398588,
                        "remaining_time": 11.56022081,
                        "test": [
                          0.3946489932,
                          0.8116591928
                        ]
                      },
                      {
                        "learn": [
                          0.3104614244,
                          0.8952095808
                        ],
                        "iteration": 251,
                        "passed_time": 3.882880563,
                        "remaining_time": 11.52537564,
                        "test": [
                          0.3946910519,
                          0.8116591928
                        ]
                      },
                      {
                        "learn": [
                          0.3102894099,
                          0.8952095808
                        ],
                        "iteration": 252,
                        "passed_time": 3.895284413,
                        "remaining_time": 11.50109667,
                        "test": [
                          0.3946865461,
                          0.8116591928
                        ]
                      },
                      {
                        "learn": [
                          0.3098848569,
                          0.8952095808
                        ],
                        "iteration": 253,
                        "passed_time": 3.907784754,
                        "remaining_time": 11.47719459,
                        "test": [
                          0.3944782887,
                          0.8116591928
                        ]
                      },
                      {
                        "learn": [
                          0.3096089703,
                          0.8952095808
                        ],
                        "iteration": 254,
                        "passed_time": 3.91934007,
                        "remaining_time": 11.45062099,
                        "test": [
                          0.3945151591,
                          0.8116591928
                        ]
                      },
                      {
                        "learn": [
                          0.3095388904,
                          0.8967065868
                        ],
                        "iteration": 255,
                        "passed_time": 3.937315761,
                        "remaining_time": 11.44282393,
                        "test": [
                          0.3945467329,
                          0.8116591928
                        ]
                      },
                      {
                        "learn": [
                          0.3093805705,
                          0.8967065868
                        ],
                        "iteration": 256,
                        "passed_time": 3.949039192,
                        "remaining_time": 11.41687206,
                        "test": [
                          0.394495143,
                          0.8116591928
                        ]
                      },
                      {
                        "learn": [
                          0.3089447175,
                          0.8952095808
                        ],
                        "iteration": 257,
                        "passed_time": 3.967716719,
                        "remaining_time": 11.41103026,
                        "test": [
                          0.3943311948,
                          0.8116591928
                        ]
                      },
                      {
                        "learn": [
                          0.3088279015,
                          0.8952095808
                        ],
                        "iteration": 258,
                        "passed_time": 3.995906238,
                        "remaining_time": 11.43230318,
                        "test": [
                          0.3942606994,
                          0.8116591928
                        ]
                      },
                      {
                        "learn": [
                          0.3084806138,
                          0.8952095808
                        ],
                        "iteration": 259,
                        "passed_time": 4.023029954,
                        "remaining_time": 11.45016218,
                        "test": [
                          0.3942805179,
                          0.8116591928
                        ]
                      },
                      {
                        "learn": [
                          0.3083580899,
                          0.8952095808
                        ],
                        "iteration": 260,
                        "passed_time": 4.047812262,
                        "remaining_time": 11.46104698,
                        "test": [
                          0.3941991343,
                          0.8116591928
                        ]
                      },
                      {
                        "learn": [
                          0.3076091936,
                          0.8967065868
                        ],
                        "iteration": 261,
                        "passed_time": 4.063704337,
                        "remaining_time": 11.44661756,
                        "test": [
                          0.3944159359,
                          0.8116591928
                        ]
                      },
                      {
                        "learn": [
                          0.3073588564,
                          0.8967065868
                        ],
                        "iteration": 262,
                        "passed_time": 4.071541254,
                        "remaining_time": 11.4096042,
                        "test": [
                          0.3943081065,
                          0.8116591928
                        ]
                      },
                      {
                        "learn": [
                          0.3069483482,
                          0.8967065868
                        ],
                        "iteration": 263,
                        "passed_time": 4.080102722,
                        "remaining_time": 11.37483183,
                        "test": [
                          0.3943370297,
                          0.8116591928
                        ]
                      },
                      {
                        "learn": [
                          0.3069207718,
                          0.8967065868
                        ],
                        "iteration": 264,
                        "passed_time": 4.085379065,
                        "remaining_time": 11.33114571,
                        "test": [
                          0.3943366007,
                          0.8116591928
                        ]
                      },
                      {
                        "learn": [
                          0.3068479252,
                          0.8967065868
                        ],
                        "iteration": 265,
                        "passed_time": 4.095641475,
                        "remaining_time": 11.30150693,
                        "test": [
                          0.3943267238,
                          0.8116591928
                        ]
                      },
                      {
                        "learn": [
                          0.3066469675,
                          0.8967065868
                        ],
                        "iteration": 266,
                        "passed_time": 4.101543527,
                        "remaining_time": 11.26004272,
                        "test": [
                          0.3944306392,
                          0.8116591928
                        ]
                      },
                      {
                        "learn": [
                          0.3062193496,
                          0.8967065868
                        ],
                        "iteration": 267,
                        "passed_time": 4.110558935,
                        "remaining_time": 11.22734754,
                        "test": [
                          0.3943642545,
                          0.8116591928
                        ]
                      },
                      {
                        "learn": [
                          0.3055804488,
                          0.8967065868
                        ],
                        "iteration": 268,
                        "passed_time": 4.119600498,
                        "remaining_time": 11.1948995,
                        "test": [
                          0.3942067339,
                          0.8116591928
                        ]
                      },
                      {
                        "learn": [
                          0.3055582223,
                          0.8967065868
                        ],
                        "iteration": 269,
                        "passed_time": 4.121879883,
                        "remaining_time": 11.14434191,
                        "test": [
                          0.3942073638,
                          0.8116591928
                        ]
                      },
                      {
                        "learn": [
                          0.3052150577,
                          0.8967065868
                        ],
                        "iteration": 270,
                        "passed_time": 4.135373049,
                        "remaining_time": 11.1243061,
                        "test": [
                          0.3939521842,
                          0.8116591928
                        ]
                      },
                      {
                        "learn": [
                          0.3049012908,
                          0.8967065868
                        ],
                        "iteration": 271,
                        "passed_time": 4.158265705,
                        "remaining_time": 11.12947586,
                        "test": [
                          0.3939551869,
                          0.8116591928
                        ]
                      },
                      {
                        "learn": [
                          0.303985145,
                          0.8982035928
                        ],
                        "iteration": 272,
                        "passed_time": 4.171986902,
                        "remaining_time": 11.1100164,
                        "test": [
                          0.3937941328,
                          0.8116591928
                        ]
                      },
                      {
                        "learn": [
                          0.3037785545,
                          0.8982035928
                        ],
                        "iteration": 273,
                        "passed_time": 4.185863127,
                        "remaining_time": 11.0910096,
                        "test": [
                          0.393685302,
                          0.8116591928
                        ]
                      },
                      {
                        "learn": [
                          0.303582366,
                          0.8982035928
                        ],
                        "iteration": 274,
                        "passed_time": 4.202594767,
                        "remaining_time": 11.07956802,
                        "test": [
                          0.3936546424,
                          0.8116591928
                        ]
                      },
                      {
                        "learn": [
                          0.3034915988,
                          0.8982035928
                        ],
                        "iteration": 275,
                        "passed_time": 4.214618313,
                        "remaining_time": 11.05573789,
                        "test": [
                          0.3936934049,
                          0.8116591928
                        ]
                      },
                      {
                        "learn": [
                          0.3030852202,
                          0.8982035928
                        ],
                        "iteration": 276,
                        "passed_time": 4.236816123,
                        "remaining_time": 11.05854894,
                        "test": [
                          0.3936621586,
                          0.8116591928
                        ]
                      },
                      {
                        "learn": [
                          0.3030279104,
                          0.8982035928
                        ],
                        "iteration": 277,
                        "passed_time": 4.252525446,
                        "remaining_time": 11.04432868,
                        "test": [
                          0.3936707698,
                          0.8116591928
                        ]
                      },
                      {
                        "learn": [
                          0.3027175773,
                          0.8982035928
                        ],
                        "iteration": 278,
                        "passed_time": 4.264756209,
                        "remaining_time": 11.02110834,
                        "test": [
                          0.3935986602,
                          0.8116591928
                        ]
                      },
                      {
                        "learn": [
                          0.3026976016,
                          0.8982035928
                        ],
                        "iteration": 279,
                        "passed_time": 4.272411555,
                        "remaining_time": 10.98620114,
                        "test": [
                          0.3935992893,
                          0.8116591928
                        ]
                      },
                      {
                        "learn": [
                          0.3024985567,
                          0.8982035928
                        ],
                        "iteration": 280,
                        "passed_time": 4.285539305,
                        "remaining_time": 10.96549025,
                        "test": [
                          0.3935022246,
                          0.8116591928
                        ]
                      },
                      {
                        "learn": [
                          0.302286243,
                          0.8982035928
                        ],
                        "iteration": 281,
                        "passed_time": 4.297701836,
                        "remaining_time": 10.9423756,
                        "test": [
                          0.3935177749,
                          0.8116591928
                        ]
                      },
                      {
                        "learn": [
                          0.3018640709,
                          0.8982035928
                        ],
                        "iteration": 282,
                        "passed_time": 4.310795403,
                        "remaining_time": 10.92169719,
                        "test": [
                          0.3936244904,
                          0.8116591928
                        ]
                      },
                      {
                        "learn": [
                          0.3014806837,
                          0.8982035928
                        ],
                        "iteration": 283,
                        "passed_time": 4.326266084,
                        "remaining_time": 10.9070652,
                        "test": [
                          0.3934154348,
                          0.8116591928
                        ]
                      },
                      {
                        "learn": [
                          0.3012909165,
                          0.8982035928
                        ],
                        "iteration": 284,
                        "passed_time": 4.343542634,
                        "remaining_time": 10.89695784,
                        "test": [
                          0.3944429453,
                          0.8116591928
                        ]
                      },
                      {
                        "learn": [
                          0.3012585315,
                          0.8982035928
                        ],
                        "iteration": 285,
                        "passed_time": 4.35557508,
                        "remaining_time": 10.87370842,
                        "test": [
                          0.3944373419,
                          0.8116591928
                        ]
                      },
                      {
                        "learn": [
                          0.3011758088,
                          0.8982035928
                        ],
                        "iteration": 286,
                        "passed_time": 4.378771055,
                        "remaining_time": 10.87827095,
                        "test": [
                          0.3944604902,
                          0.8116591928
                        ]
                      },
                      {
                        "learn": [
                          0.3007872069,
                          0.8967065868
                        ],
                        "iteration": 287,
                        "passed_time": 4.395966773,
                        "remaining_time": 10.86780674,
                        "test": [
                          0.3944592986,
                          0.8116591928
                        ]
                      },
                      {
                        "learn": [
                          0.3004516018,
                          0.8982035928
                        ],
                        "iteration": 288,
                        "passed_time": 4.411614313,
                        "remaining_time": 10.85348712,
                        "test": [
                          0.3943732306,
                          0.8161434978
                        ]
                      },
                      {
                        "learn": [
                          0.3003341157,
                          0.8982035928
                        ],
                        "iteration": 289,
                        "passed_time": 4.426677402,
                        "remaining_time": 10.83772743,
                        "test": [
                          0.3944369233,
                          0.8161434978
                        ]
                      },
                      {
                        "learn": [
                          0.3001110065,
                          0.8982035928
                        ],
                        "iteration": 290,
                        "passed_time": 4.447813698,
                        "remaining_time": 10.83676946,
                        "test": [
                          0.3947635958,
                          0.8161434978
                        ]
                      },
                      {
                        "learn": [
                          0.300049634,
                          0.8982035928
                        ],
                        "iteration": 291,
                        "passed_time": 4.462594989,
                        "remaining_time": 10.82026456,
                        "test": [
                          0.3947831746,
                          0.8161434978
                        ]
                      },
                      {
                        "learn": [
                          0.2995600577,
                          0.8982035928
                        ],
                        "iteration": 292,
                        "passed_time": 4.477402231,
                        "remaining_time": 10.80383405,
                        "test": [
                          0.3947447919,
                          0.8116591928
                        ]
                      },
                      {
                        "learn": [
                          0.2995112084,
                          0.8997005988
                        ],
                        "iteration": 293,
                        "passed_time": 4.49272123,
                        "remaining_time": 10.7886435,
                        "test": [
                          0.3947652789,
                          0.8116591928
                        ]
                      },
                      {
                        "learn": [
                          0.2988606451,
                          0.8982035928
                        ],
                        "iteration": 294,
                        "passed_time": 4.505398672,
                        "remaining_time": 10.7671392,
                        "test": [
                          0.3948888068,
                          0.8116591928
                        ]
                      },
                      {
                        "learn": [
                          0.2979923608,
                          0.8982035928
                        ],
                        "iteration": 295,
                        "passed_time": 4.518053785,
                        "remaining_time": 10.74564143,
                        "test": [
                          0.3949596874,
                          0.8116591928
                        ]
                      },
                      {
                        "learn": [
                          0.2968685333,
                          0.8997005988
                        ],
                        "iteration": 296,
                        "passed_time": 4.541736551,
                        "remaining_time": 10.75030571,
                        "test": [
                          0.3945084762,
                          0.8116591928
                        ]
                      },
                      {
                        "learn": [
                          0.2961210364,
                          0.8997005988
                        ],
                        "iteration": 297,
                        "passed_time": 4.557047938,
                        "remaining_time": 10.73505924,
                        "test": [
                          0.394681349,
                          0.8116591928
                        ]
                      },
                      {
                        "learn": [
                          0.2958292939,
                          0.9011976048
                        ],
                        "iteration": 298,
                        "passed_time": 4.569956544,
                        "remaining_time": 10.71417905,
                        "test": [
                          0.3946240436,
                          0.8116591928
                        ]
                      },
                      {
                        "learn": [
                          0.2956822003,
                          0.9011976048
                        ],
                        "iteration": 299,
                        "passed_time": 4.58449985,
                        "remaining_time": 10.69716632,
                        "test": [
                          0.3945139556,
                          0.8116591928
                        ]
                      },
                      {
                        "learn": [
                          0.2953613922,
                          0.9011976048
                        ],
                        "iteration": 300,
                        "passed_time": 4.596851045,
                        "remaining_time": 10.67507934,
                        "test": [
                          0.394409612,
                          0.8161434978
                        ]
                      },
                      {
                        "learn": [
                          0.295273806,
                          0.9011976048
                        ],
                        "iteration": 301,
                        "passed_time": 4.618215278,
                        "remaining_time": 10.67388829,
                        "test": [
                          0.3943848533,
                          0.8161434978
                        ]
                      },
                      {
                        "learn": [
                          0.2948477167,
                          0.9011976048
                        ],
                        "iteration": 302,
                        "passed_time": 4.629048341,
                        "remaining_time": 10.64833892,
                        "test": [
                          0.3947087151,
                          0.8116591928
                        ]
                      },
                      {
                        "learn": [
                          0.2947886596,
                          0.9011976048
                        ],
                        "iteration": 303,
                        "passed_time": 4.635904187,
                        "remaining_time": 10.61378064,
                        "test": [
                          0.3947437397,
                          0.8116591928
                        ]
                      },
                      {
                        "learn": [
                          0.2942320304,
                          0.9011976048
                        ],
                        "iteration": 304,
                        "passed_time": 4.644382481,
                        "remaining_time": 10.58310106,
                        "test": [
                          0.3945104973,
                          0.8161434978
                        ]
                      },
                      {
                        "learn": [
                          0.2934925801,
                          0.9026946108
                        ],
                        "iteration": 305,
                        "passed_time": 4.65289992,
                        "remaining_time": 10.55265537,
                        "test": [
                          0.3945488598,
                          0.8161434978
                        ]
                      },
                      {
                        "learn": [
                          0.2920349587,
                          0.9041916168
                        ],
                        "iteration": 306,
                        "passed_time": 4.65901902,
                        "remaining_time": 10.5169387,
                        "test": [
                          0.394498704,
                          0.8161434978
                        ]
                      },
                      {
                        "learn": [
                          0.2918578573,
                          0.9041916168
                        ],
                        "iteration": 307,
                        "passed_time": 4.666427781,
                        "remaining_time": 10.48431177,
                        "test": [
                          0.3944464462,
                          0.8161434978
                        ]
                      },
                      {
                        "learn": [
                          0.2915460077,
                          0.9041916168
                        ],
                        "iteration": 308,
                        "passed_time": 4.679016963,
                        "remaining_time": 10.46343276,
                        "test": [
                          0.3945981597,
                          0.8161434978
                        ]
                      },
                      {
                        "learn": [
                          0.2909860062,
                          0.9026946108
                        ],
                        "iteration": 309,
                        "passed_time": 4.688519578,
                        "remaining_time": 10.43573713,
                        "test": [
                          0.3945023168,
                          0.8161434978
                        ]
                      },
                      {
                        "learn": [
                          0.2903803825,
                          0.9026946108
                        ],
                        "iteration": 310,
                        "passed_time": 4.69874891,
                        "remaining_time": 10.40976849,
                        "test": [
                          0.3943626272,
                          0.8161434978
                        ]
                      },
                      {
                        "learn": [
                          0.2902808099,
                          0.9026946108
                        ],
                        "iteration": 311,
                        "passed_time": 4.70601699,
                        "remaining_time": 10.3773708,
                        "test": [
                          0.3943277666,
                          0.8161434978
                        ]
                      },
                      {
                        "learn": [
                          0.290126119,
                          0.9026946108
                        ],
                        "iteration": 312,
                        "passed_time": 4.712486073,
                        "remaining_time": 10.34337997,
                        "test": [
                          0.3942917478,
                          0.8161434978
                        ]
                      },
                      {
                        "learn": [
                          0.2900675212,
                          0.9026946108
                        ],
                        "iteration": 313,
                        "passed_time": 4.72381372,
                        "remaining_time": 10.32017902,
                        "test": [
                          0.3942673006,
                          0.8161434978
                        ]
                      },
                      {
                        "learn": [
                          0.2899134863,
                          0.9026946108
                        ],
                        "iteration": 314,
                        "passed_time": 4.732402286,
                        "remaining_time": 10.29109703,
                        "test": [
                          0.3940966912,
                          0.8161434978
                        ]
                      },
                      {
                        "learn": [
                          0.2898120096,
                          0.9026946108
                        ],
                        "iteration": 315,
                        "passed_time": 4.741767482,
                        "remaining_time": 10.26382581,
                        "test": [
                          0.3940037396,
                          0.8161434978
                        ]
                      },
                      {
                        "learn": [
                          0.2896254464,
                          0.9026946108
                        ],
                        "iteration": 316,
                        "passed_time": 4.770736454,
                        "remaining_time": 10.27890536,
                        "test": [
                          0.3939459944,
                          0.8161434978
                        ]
                      },
                      {
                        "learn": [
                          0.2891237038,
                          0.9026946108
                        ],
                        "iteration": 317,
                        "passed_time": 4.803662162,
                        "remaining_time": 10.30219369,
                        "test": [
                          0.3943077431,
                          0.8161434978
                        ]
                      },
                      {
                        "learn": [
                          0.2890842877,
                          0.9026946108
                        ],
                        "iteration": 318,
                        "passed_time": 4.820920467,
                        "remaining_time": 10.29168288,
                        "test": [
                          0.3943226307,
                          0.8161434978
                        ]
                      },
                      {
                        "learn": [
                          0.2887371305,
                          0.9026946108
                        ],
                        "iteration": 319,
                        "passed_time": 4.829040239,
                        "remaining_time": 10.26171051,
                        "test": [
                          0.3944823359,
                          0.8161434978
                        ]
                      },
                      {
                        "learn": [
                          0.2887142319,
                          0.9026946108
                        ],
                        "iteration": 320,
                        "passed_time": 4.837903313,
                        "remaining_time": 10.23344657,
                        "test": [
                          0.3945003177,
                          0.8161434978
                        ]
                      },
                      {
                        "learn": [
                          0.2886277948,
                          0.9026946108
                        ],
                        "iteration": 321,
                        "passed_time": 4.843716019,
                        "remaining_time": 10.19888031,
                        "test": [
                          0.3944620618,
                          0.8161434978
                        ]
                      },
                      {
                        "learn": [
                          0.288434202,
                          0.9026946108
                        ],
                        "iteration": 322,
                        "passed_time": 4.851112168,
                        "remaining_time": 10.16781095,
                        "test": [
                          0.394278855,
                          0.8161434978
                        ]
                      },
                      {
                        "learn": [
                          0.2882762179,
                          0.9026946108
                        ],
                        "iteration": 323,
                        "passed_time": 4.861964949,
                        "remaining_time": 10.14409971,
                        "test": [
                          0.3941932287,
                          0.8161434978
                        ]
                      },
                      {
                        "learn": [
                          0.2880824537,
                          0.9026946108
                        ],
                        "iteration": 324,
                        "passed_time": 4.86875135,
                        "remaining_time": 10.11202204,
                        "test": [
                          0.3941758118,
                          0.8161434978
                        ]
                      },
                      {
                        "learn": [
                          0.2877656026,
                          0.9026946108
                        ],
                        "iteration": 325,
                        "passed_time": 4.878237886,
                        "remaining_time": 10.08568201,
                        "test": [
                          0.3941705523,
                          0.8161434978
                        ]
                      },
                      {
                        "learn": [
                          0.2876274316,
                          0.9041916168
                        ],
                        "iteration": 326,
                        "passed_time": 4.886112805,
                        "remaining_time": 10.05612819,
                        "test": [
                          0.394346902,
                          0.8161434978
                        ]
                      },
                      {
                        "learn": [
                          0.2875342073,
                          0.9041916168
                        ],
                        "iteration": 327,
                        "passed_time": 4.89427637,
                        "remaining_time": 10.02729793,
                        "test": [
                          0.394386455,
                          0.8161434978
                        ]
                      },
                      {
                        "learn": [
                          0.287131828,
                          0.9041916168
                        ],
                        "iteration": 328,
                        "passed_time": 4.905733906,
                        "remaining_time": 10.0053114,
                        "test": [
                          0.3942479656,
                          0.8161434978
                        ]
                      },
                      {
                        "learn": [
                          0.2867026212,
                          0.9041916168
                        ],
                        "iteration": 329,
                        "passed_time": 4.915928973,
                        "remaining_time": 9.98082549,
                        "test": [
                          0.3942907468,
                          0.8161434978
                        ]
                      },
                      {
                        "learn": [
                          0.2864792037,
                          0.9041916168
                        ],
                        "iteration": 330,
                        "passed_time": 4.936358705,
                        "remaining_time": 9.977111704,
                        "test": [
                          0.3941041385,
                          0.8161434978
                        ]
                      },
                      {
                        "learn": [
                          0.2861154185,
                          0.9041916168
                        ],
                        "iteration": 331,
                        "passed_time": 4.975136015,
                        "remaining_time": 10.01021343,
                        "test": [
                          0.3941162389,
                          0.8161434978
                        ]
                      },
                      {
                        "learn": [
                          0.2858819749,
                          0.9041916168
                        ],
                        "iteration": 332,
                        "passed_time": 4.988443027,
                        "remaining_time": 9.991866363,
                        "test": [
                          0.394089937,
                          0.8161434978
                        ]
                      },
                      {
                        "learn": [
                          0.2856556453,
                          0.9041916168
                        ],
                        "iteration": 333,
                        "passed_time": 4.999012286,
                        "remaining_time": 9.968090366,
                        "test": [
                          0.3939203278,
                          0.8161434978
                        ]
                      }
                    ],
                    "meta": {
                      "test_sets": [
                        "test"
                      ],
                      "test_metrics": [
                        {
                          "best_value": "Min",
                          "name": "Logloss"
                        },
                        {
                          "best_value": "Max",
                          "name": "Accuracy"
                        }
                      ],
                      "learn_metrics": [
                        {
                          "best_value": "Min",
                          "name": "Logloss"
                        },
                        {
                          "best_value": "Max",
                          "name": "Accuracy"
                        }
                      ],
                      "launch_mode": "Train",
                      "parameters": "",
                      "iteration_count": 1000,
                      "learn_sets": [
                        "learn"
                      ],
                      "name": "experiment"
                    }
                  }
                }
              }
            },
            "layout": "IPY_MODEL_15ce835fe689482293ea5e3bef17b0ea"
          }
        },
        "9cbdb54ae5cb4bd78f9709a5f9266240": {
          "model_module": "catboost-widget",
          "model_name": "CatboostWidgetModel",
          "model_module_version": "^1.0.0",
          "state": {
            "_dom_classes": [],
            "_model_module": "catboost-widget",
            "_model_module_version": "^1.0.0",
            "_model_name": "CatboostWidgetModel",
            "_view_count": null,
            "_view_module": "catboost-widget",
            "_view_module_version": "^1.0.0",
            "_view_name": "CatboostWidgetView",
            "data": {
              "catboost_info/fold-0": {
                "path": "catboost_info/fold-0",
                "name": "fold-0",
                "content": {
                  "passed_iterations": 320,
                  "total_iterations": 1000,
                  "data": {
                    "iterations": [
                      {
                        "learn": [
                          0.677373126,
                          0.7929292929
                        ],
                        "iteration": 0,
                        "passed_time": 0.01887832119,
                        "remaining_time": 18.85944287,
                        "test": [
                          0.6767121024,
                          0.7946127946
                        ]
                      },
                      {
                        "learn": [
                          0.6606181476,
                          0.803030303
                        ],
                        "iteration": 1,
                        "passed_time": 0.03342906715,
                        "remaining_time": 16.68110451,
                        "test": [
                          0.6602677103,
                          0.8249158249
                        ]
                      },
                      {
                        "learn": [
                          0.6480804811,
                          0.803030303
                        ],
                        "iteration": 2,
                        "passed_time": 0.03964967418,
                        "remaining_time": 13.17690839,
                        "test": [
                          0.6465189891,
                          0.8249158249
                        ]
                      },
                      {
                        "learn": [
                          0.634056836,
                          0.8047138047
                        ],
                        "iteration": 3,
                        "passed_time": 0.05260260652,
                        "remaining_time": 13.09804902,
                        "test": [
                          0.6322193759,
                          0.8249158249
                        ]
                      },
                      {
                        "learn": [
                          0.6222855049,
                          0.8047138047
                        ],
                        "iteration": 4,
                        "passed_time": 0.05711329178,
                        "remaining_time": 11.36554506,
                        "test": [
                          0.6199084057,
                          0.8249158249
                        ]
                      },
                      {
                        "learn": [
                          0.6110495923,
                          0.8063973064
                        ],
                        "iteration": 5,
                        "passed_time": 0.06621370497,
                        "remaining_time": 10.96940379,
                        "test": [
                          0.6085780331,
                          0.8249158249
                        ]
                      },
                      {
                        "learn": [
                          0.59788117,
                          0.8063973064
                        ],
                        "iteration": 6,
                        "passed_time": 0.0841973221,
                        "remaining_time": 11.94399155,
                        "test": [
                          0.5974018013,
                          0.8080808081
                        ]
                      },
                      {
                        "learn": [
                          0.5874380023,
                          0.8097643098
                        ],
                        "iteration": 7,
                        "passed_time": 0.09368664302,
                        "remaining_time": 11.61714373,
                        "test": [
                          0.5868836949,
                          0.8249158249
                        ]
                      },
                      {
                        "learn": [
                          0.5778792497,
                          0.8097643098
                        ],
                        "iteration": 8,
                        "passed_time": 0.1024322986,
                        "remaining_time": 11.27893421,
                        "test": [
                          0.5766659292,
                          0.8249158249
                        ]
                      },
                      {
                        "learn": [
                          0.5685230832,
                          0.8080808081
                        ],
                        "iteration": 9,
                        "passed_time": 0.1329705063,
                        "remaining_time": 13.16408012,
                        "test": [
                          0.5682470893,
                          0.8080808081
                        ]
                      },
                      {
                        "learn": [
                          0.5597293025,
                          0.8114478114
                        ],
                        "iteration": 10,
                        "passed_time": 0.1486226268,
                        "remaining_time": 13.36252526,
                        "test": [
                          0.5601872531,
                          0.797979798
                        ]
                      },
                      {
                        "learn": [
                          0.5507892119,
                          0.8080808081
                        ],
                        "iteration": 11,
                        "passed_time": 0.1721170789,
                        "remaining_time": 14.17097283,
                        "test": [
                          0.5511055442,
                          0.8249158249
                        ]
                      },
                      {
                        "learn": [
                          0.5425763394,
                          0.8063973064
                        ],
                        "iteration": 12,
                        "passed_time": 0.1921390783,
                        "remaining_time": 14.58779002,
                        "test": [
                          0.5436166086,
                          0.8249158249
                        ]
                      },
                      {
                        "learn": [
                          0.5363637619,
                          0.8047138047
                        ],
                        "iteration": 13,
                        "passed_time": 0.2203678147,
                        "remaining_time": 15.52019038,
                        "test": [
                          0.5363917746,
                          0.8249158249
                        ]
                      },
                      {
                        "learn": [
                          0.5292873389,
                          0.8080808081
                        ],
                        "iteration": 14,
                        "passed_time": 0.232685159,
                        "remaining_time": 15.27965877,
                        "test": [
                          0.5305725923,
                          0.8249158249
                        ]
                      },
                      {
                        "learn": [
                          0.5236530534,
                          0.8063973064
                        ],
                        "iteration": 15,
                        "passed_time": 0.2432763491,
                        "remaining_time": 14.96149547,
                        "test": [
                          0.5245323869,
                          0.8249158249
                        ]
                      },
                      {
                        "learn": [
                          0.518498591,
                          0.8063973064
                        ],
                        "iteration": 16,
                        "passed_time": 0.2575941565,
                        "remaining_time": 14.89500329,
                        "test": [
                          0.5189921787,
                          0.8249158249
                        ]
                      },
                      {
                        "learn": [
                          0.5120560818,
                          0.8097643098
                        ],
                        "iteration": 17,
                        "passed_time": 0.2739304093,
                        "remaining_time": 14.94442566,
                        "test": [
                          0.5131328625,
                          0.8249158249
                        ]
                      },
                      {
                        "learn": [
                          0.5092298789,
                          0.8063973064
                        ],
                        "iteration": 18,
                        "passed_time": 0.2772608224,
                        "remaining_time": 14.31541404,
                        "test": [
                          0.5097546624,
                          0.8249158249
                        ]
                      },
                      {
                        "learn": [
                          0.4994694136,
                          0.8114478114
                        ],
                        "iteration": 19,
                        "passed_time": 0.2948622383,
                        "remaining_time": 14.44824968,
                        "test": [
                          0.503485623,
                          0.8249158249
                        ]
                      },
                      {
                        "learn": [
                          0.4946741459,
                          0.8097643098
                        ],
                        "iteration": 20,
                        "passed_time": 0.3084917367,
                        "remaining_time": 14.38159097,
                        "test": [
                          0.4991564609,
                          0.8249158249
                        ]
                      },
                      {
                        "learn": [
                          0.4902918938,
                          0.8097643098
                        ],
                        "iteration": 21,
                        "passed_time": 0.323695532,
                        "remaining_time": 14.38973774,
                        "test": [
                          0.4947982118,
                          0.8249158249
                        ]
                      },
                      {
                        "learn": [
                          0.4858638077,
                          0.8097643098
                        ],
                        "iteration": 22,
                        "passed_time": 0.3370479667,
                        "remaining_time": 14.31721145,
                        "test": [
                          0.4899511032,
                          0.8215488215
                        ]
                      },
                      {
                        "learn": [
                          0.4794577381,
                          0.8114478114
                        ],
                        "iteration": 23,
                        "passed_time": 0.3495866125,
                        "remaining_time": 14.21652224,
                        "test": [
                          0.4851670214,
                          0.8249158249
                        ]
                      },
                      {
                        "learn": [
                          0.4781987881,
                          0.8114478114
                        ],
                        "iteration": 24,
                        "passed_time": 0.3542896487,
                        "remaining_time": 13.8172963,
                        "test": [
                          0.4843389422,
                          0.8249158249
                        ]
                      },
                      {
                        "learn": [
                          0.4756788855,
                          0.8097643098
                        ],
                        "iteration": 25,
                        "passed_time": 0.3585102717,
                        "remaining_time": 13.43034633,
                        "test": [
                          0.481338733,
                          0.8249158249
                        ]
                      },
                      {
                        "learn": [
                          0.473655958,
                          0.8148148148
                        ],
                        "iteration": 26,
                        "passed_time": 0.3725113898,
                        "remaining_time": 13.42420675,
                        "test": [
                          0.4803024896,
                          0.8249158249
                        ]
                      },
                      {
                        "learn": [
                          0.4720618105,
                          0.8114478114
                        ],
                        "iteration": 27,
                        "passed_time": 0.3756828483,
                        "remaining_time": 13.04156174,
                        "test": [
                          0.4782019671,
                          0.8249158249
                        ]
                      },
                      {
                        "learn": [
                          0.4686419105,
                          0.8114478114
                        ],
                        "iteration": 28,
                        "passed_time": 0.3883312111,
                        "remaining_time": 13.00240021,
                        "test": [
                          0.4748327121,
                          0.8249158249
                        ]
                      },
                      {
                        "learn": [
                          0.4650367856,
                          0.8148148148
                        ],
                        "iteration": 29,
                        "passed_time": 0.4027543284,
                        "remaining_time": 13.02238995,
                        "test": [
                          0.4715639544,
                          0.8249158249
                        ]
                      },
                      {
                        "learn": [
                          0.4612648871,
                          0.8148148148
                        ],
                        "iteration": 30,
                        "passed_time": 0.4369776371,
                        "remaining_time": 13.65907517,
                        "test": [
                          0.4686017253,
                          0.8215488215
                        ]
                      },
                      {
                        "learn": [
                          0.4593540201,
                          0.8148148148
                        ],
                        "iteration": 31,
                        "passed_time": 0.4480304465,
                        "remaining_time": 13.55292101,
                        "test": [
                          0.4661379817,
                          0.8215488215
                        ]
                      },
                      {
                        "learn": [
                          0.4559833349,
                          0.8131313131
                        ],
                        "iteration": 32,
                        "passed_time": 0.458568305,
                        "remaining_time": 13.43744094,
                        "test": [
                          0.4635608875,
                          0.8249158249
                        ]
                      },
                      {
                        "learn": [
                          0.4529894358,
                          0.8131313131
                        ],
                        "iteration": 33,
                        "passed_time": 0.4756755612,
                        "remaining_time": 13.51478212,
                        "test": [
                          0.4611353815,
                          0.8249158249
                        ]
                      },
                      {
                        "learn": [
                          0.4502953487,
                          0.8131313131
                        ],
                        "iteration": 34,
                        "passed_time": 0.5059821428,
                        "remaining_time": 13.95065051,
                        "test": [
                          0.4582279184,
                          0.8249158249
                        ]
                      },
                      {
                        "learn": [
                          0.4460418712,
                          0.8164983165
                        ],
                        "iteration": 35,
                        "passed_time": 0.5162298973,
                        "remaining_time": 13.82348947,
                        "test": [
                          0.4552884781,
                          0.8249158249
                        ]
                      },
                      {
                        "learn": [
                          0.4437573326,
                          0.8148148148
                        ],
                        "iteration": 36,
                        "passed_time": 0.530304938,
                        "remaining_time": 13.80226095,
                        "test": [
                          0.4532291534,
                          0.8249158249
                        ]
                      },
                      {
                        "learn": [
                          0.440858798,
                          0.8198653199
                        ],
                        "iteration": 37,
                        "passed_time": 0.5455761852,
                        "remaining_time": 13.81169185,
                        "test": [
                          0.4510830641,
                          0.8249158249
                        ]
                      },
                      {
                        "learn": [
                          0.438691312,
                          0.8249158249
                        ],
                        "iteration": 38,
                        "passed_time": 0.5621989335,
                        "remaining_time": 13.85315834,
                        "test": [
                          0.4485743674,
                          0.8249158249
                        ]
                      },
                      {
                        "learn": [
                          0.4366629491,
                          0.8232323232
                        ],
                        "iteration": 39,
                        "passed_time": 0.5674859022,
                        "remaining_time": 13.61966165,
                        "test": [
                          0.4469337514,
                          0.8249158249
                        ]
                      },
                      {
                        "learn": [
                          0.4349072793,
                          0.8198653199
                        ],
                        "iteration": 40,
                        "passed_time": 0.5776455818,
                        "remaining_time": 13.51127105,
                        "test": [
                          0.4457130134,
                          0.8249158249
                        ]
                      },
                      {
                        "learn": [
                          0.4319073408,
                          0.8265993266
                        ],
                        "iteration": 41,
                        "passed_time": 0.5894643741,
                        "remaining_time": 13.44540168,
                        "test": [
                          0.4430763988,
                          0.8282828283
                        ]
                      },
                      {
                        "learn": [
                          0.4304900516,
                          0.8249158249
                        ],
                        "iteration": 42,
                        "passed_time": 0.5996500108,
                        "remaining_time": 13.34569908,
                        "test": [
                          0.4420998796,
                          0.8249158249
                        ]
                      },
                      {
                        "learn": [
                          0.4283055402,
                          0.8249158249
                        ],
                        "iteration": 43,
                        "passed_time": 0.6132094024,
                        "remaining_time": 13.32336792,
                        "test": [
                          0.4413327953,
                          0.8249158249
                        ]
                      },
                      {
                        "learn": [
                          0.4260497454,
                          0.8249158249
                        ],
                        "iteration": 44,
                        "passed_time": 0.6214501181,
                        "remaining_time": 13.18855251,
                        "test": [
                          0.4397752655,
                          0.8215488215
                        ]
                      },
                      {
                        "learn": [
                          0.4238996078,
                          0.8282828283
                        ],
                        "iteration": 45,
                        "passed_time": 0.6366150291,
                        "remaining_time": 13.20284213,
                        "test": [
                          0.4377315839,
                          0.8215488215
                        ]
                      },
                      {
                        "learn": [
                          0.422641816,
                          0.8265993266
                        ],
                        "iteration": 46,
                        "passed_time": 0.645098692,
                        "remaining_time": 13.08040539,
                        "test": [
                          0.4361274065,
                          0.8215488215
                        ]
                      },
                      {
                        "learn": [
                          0.4207632152,
                          0.8265993266
                        ],
                        "iteration": 47,
                        "passed_time": 0.6607311334,
                        "remaining_time": 13.10450081,
                        "test": [
                          0.4348285836,
                          0.8249158249
                        ]
                      },
                      {
                        "learn": [
                          0.4187064123,
                          0.8249158249
                        ],
                        "iteration": 48,
                        "passed_time": 0.6720617797,
                        "remaining_time": 13.04348474,
                        "test": [
                          0.4335263922,
                          0.8249158249
                        ]
                      },
                      {
                        "learn": [
                          0.4158719357,
                          0.8249158249
                        ],
                        "iteration": 49,
                        "passed_time": 0.6840404675,
                        "remaining_time": 12.99676888,
                        "test": [
                          0.4318637635,
                          0.8215488215
                        ]
                      },
                      {
                        "learn": [
                          0.4147394643,
                          0.8249158249
                        ],
                        "iteration": 50,
                        "passed_time": 0.6947163972,
                        "remaining_time": 12.92717374,
                        "test": [
                          0.4317144064,
                          0.8215488215
                        ]
                      },
                      {
                        "learn": [
                          0.4132117446,
                          0.8265993266
                        ],
                        "iteration": 51,
                        "passed_time": 0.7055363072,
                        "remaining_time": 12.8624696,
                        "test": [
                          0.4316886302,
                          0.8249158249
                        ]
                      },
                      {
                        "learn": [
                          0.4125191932,
                          0.8265993266
                        ],
                        "iteration": 52,
                        "passed_time": 0.7124653184,
                        "remaining_time": 12.73027654,
                        "test": [
                          0.4308553815,
                          0.8249158249
                        ]
                      },
                      {
                        "learn": [
                          0.4105671546,
                          0.8265993266
                        ],
                        "iteration": 53,
                        "passed_time": 0.7232165562,
                        "remaining_time": 12.66968263,
                        "test": [
                          0.4298786402,
                          0.8249158249
                        ]
                      },
                      {
                        "learn": [
                          0.4104023562,
                          0.8265993266
                        ],
                        "iteration": 54,
                        "passed_time": 0.7253226392,
                        "remaining_time": 12.46236171,
                        "test": [
                          0.4297188345,
                          0.8249158249
                        ]
                      },
                      {
                        "learn": [
                          0.4086900486,
                          0.8282828283
                        ],
                        "iteration": 55,
                        "passed_time": 0.7355582429,
                        "remaining_time": 12.39941038,
                        "test": [
                          0.4290012976,
                          0.8249158249
                        ]
                      },
                      {
                        "learn": [
                          0.4081949914,
                          0.8282828283
                        ],
                        "iteration": 56,
                        "passed_time": 0.7398330889,
                        "remaining_time": 12.23969479,
                        "test": [
                          0.4288668351,
                          0.8249158249
                        ]
                      },
                      {
                        "learn": [
                          0.4068364777,
                          0.8265993266
                        ],
                        "iteration": 57,
                        "passed_time": 0.7539737597,
                        "remaining_time": 12.24557382,
                        "test": [
                          0.4282030099,
                          0.8249158249
                        ]
                      },
                      {
                        "learn": [
                          0.4052188265,
                          0.8265993266
                        ],
                        "iteration": 58,
                        "passed_time": 0.7631954178,
                        "remaining_time": 12.17232014,
                        "test": [
                          0.4277571122,
                          0.8249158249
                        ]
                      },
                      {
                        "learn": [
                          0.4040885658,
                          0.8265993266
                        ],
                        "iteration": 59,
                        "passed_time": 0.7767338674,
                        "remaining_time": 12.16883059,
                        "test": [
                          0.4268906333,
                          0.8249158249
                        ]
                      },
                      {
                        "learn": [
                          0.4028070434,
                          0.8265993266
                        ],
                        "iteration": 60,
                        "passed_time": 0.7869535387,
                        "remaining_time": 12.11392414,
                        "test": [
                          0.4251918423,
                          0.8249158249
                        ]
                      },
                      {
                        "learn": [
                          0.402104628,
                          0.82996633
                        ],
                        "iteration": 61,
                        "passed_time": 0.8008188291,
                        "remaining_time": 12.1156139,
                        "test": [
                          0.4248316145,
                          0.8249158249
                        ]
                      },
                      {
                        "learn": [
                          0.399933183,
                          0.8367003367
                        ],
                        "iteration": 62,
                        "passed_time": 0.8270006551,
                        "remaining_time": 12.29999387,
                        "test": [
                          0.4248759133,
                          0.8282828283
                        ]
                      },
                      {
                        "learn": [
                          0.3996086965,
                          0.8367003367
                        ],
                        "iteration": 63,
                        "passed_time": 0.8387667818,
                        "remaining_time": 12.26696418,
                        "test": [
                          0.4248270811,
                          0.8282828283
                        ]
                      },
                      {
                        "learn": [
                          0.3987173704,
                          0.8383838384
                        ],
                        "iteration": 64,
                        "passed_time": 0.8618318473,
                        "remaining_time": 12.39711965,
                        "test": [
                          0.4249297649,
                          0.8249158249
                        ]
                      },
                      {
                        "learn": [
                          0.3975411088,
                          0.8383838384
                        ],
                        "iteration": 65,
                        "passed_time": 0.8834729288,
                        "remaining_time": 12.50248054,
                        "test": [
                          0.4240073552,
                          0.8249158249
                        ]
                      },
                      {
                        "learn": [
                          0.3964970631,
                          0.8400673401
                        ],
                        "iteration": 66,
                        "passed_time": 0.8998729568,
                        "remaining_time": 12.5310667,
                        "test": [
                          0.423366868,
                          0.8215488215
                        ]
                      },
                      {
                        "learn": [
                          0.3953950603,
                          0.8417508418
                        ],
                        "iteration": 67,
                        "passed_time": 0.908575345,
                        "remaining_time": 12.45282679,
                        "test": [
                          0.422118571,
                          0.8215488215
                        ]
                      },
                      {
                        "learn": [
                          0.3941630814,
                          0.8434343434
                        ],
                        "iteration": 68,
                        "passed_time": 0.92009316,
                        "remaining_time": 12.41459032,
                        "test": [
                          0.4218779709,
                          0.8215488215
                        ]
                      },
                      {
                        "learn": [
                          0.3936554363,
                          0.8434343434
                        ],
                        "iteration": 69,
                        "passed_time": 0.9321172145,
                        "remaining_time": 12.38384299,
                        "test": [
                          0.4218086721,
                          0.8215488215
                        ]
                      },
                      {
                        "learn": [
                          0.3925594904,
                          0.8434343434
                        ],
                        "iteration": 70,
                        "passed_time": 0.9453361558,
                        "remaining_time": 12.36925759,
                        "test": [
                          0.4221020371,
                          0.8148148148
                        ]
                      },
                      {
                        "learn": [
                          0.3920472418,
                          0.8434343434
                        ],
                        "iteration": 71,
                        "passed_time": 0.9566461088,
                        "remaining_time": 12.3301054,
                        "test": [
                          0.4218745877,
                          0.8148148148
                        ]
                      },
                      {
                        "learn": [
                          0.3895405335,
                          0.8434343434
                        ],
                        "iteration": 72,
                        "passed_time": 0.9687364465,
                        "remaining_time": 12.30162583,
                        "test": [
                          0.4199482458,
                          0.8181818182
                        ]
                      },
                      {
                        "learn": [
                          0.3886720083,
                          0.8434343434
                        ],
                        "iteration": 73,
                        "passed_time": 0.9803975381,
                        "remaining_time": 12.26821784,
                        "test": [
                          0.4202889953,
                          0.8148148148
                        ]
                      },
                      {
                        "learn": [
                          0.3871838939,
                          0.8451178451
                        ],
                        "iteration": 74,
                        "passed_time": 1.014384147,
                        "remaining_time": 12.51073781,
                        "test": [
                          0.4197672207,
                          0.8148148148
                        ]
                      },
                      {
                        "learn": [
                          0.3868326571,
                          0.8451178451
                        ],
                        "iteration": 75,
                        "passed_time": 1.045703375,
                        "remaining_time": 12.71355157,
                        "test": [
                          0.4195858433,
                          0.8148148148
                        ]
                      },
                      {
                        "learn": [
                          0.3867344594,
                          0.8434343434
                        ],
                        "iteration": 76,
                        "passed_time": 1.049662424,
                        "remaining_time": 12.58231711,
                        "test": [
                          0.419485418,
                          0.8148148148
                        ]
                      },
                      {
                        "learn": [
                          0.3859727745,
                          0.8451178451
                        ],
                        "iteration": 77,
                        "passed_time": 1.072945867,
                        "remaining_time": 12.68277038,
                        "test": [
                          0.4196187474,
                          0.8148148148
                        ]
                      },
                      {
                        "learn": [
                          0.3849650182,
                          0.8484848485
                        ],
                        "iteration": 78,
                        "passed_time": 1.087302617,
                        "remaining_time": 12.67602165,
                        "test": [
                          0.4192933886,
                          0.8148148148
                        ]
                      },
                      {
                        "learn": [
                          0.3843250082,
                          0.8468013468
                        ],
                        "iteration": 79,
                        "passed_time": 1.101071278,
                        "remaining_time": 12.6623197,
                        "test": [
                          0.4190132159,
                          0.8148148148
                        ]
                      },
                      {
                        "learn": [
                          0.382652018,
                          0.8468013468
                        ],
                        "iteration": 80,
                        "passed_time": 1.113089644,
                        "remaining_time": 12.62875782,
                        "test": [
                          0.4186772898,
                          0.8148148148
                        ]
                      },
                      {
                        "learn": [
                          0.3823270582,
                          0.8468013468
                        ],
                        "iteration": 81,
                        "passed_time": 1.122506546,
                        "remaining_time": 12.56659768,
                        "test": [
                          0.4186222036,
                          0.8181818182
                        ]
                      },
                      {
                        "learn": [
                          0.3818787621,
                          0.8468013468
                        ],
                        "iteration": 82,
                        "passed_time": 1.147544017,
                        "remaining_time": 12.67828751,
                        "test": [
                          0.4186310208,
                          0.8181818182
                        ]
                      },
                      {
                        "learn": [
                          0.3813682985,
                          0.8484848485
                        ],
                        "iteration": 83,
                        "passed_time": 1.168707943,
                        "remaining_time": 12.74448185,
                        "test": [
                          0.418733355,
                          0.8181818182
                        ]
                      },
                      {
                        "learn": [
                          0.3807258392,
                          0.8484848485
                        ],
                        "iteration": 84,
                        "passed_time": 1.182649711,
                        "remaining_time": 12.73087631,
                        "test": [
                          0.4186772319,
                          0.8181818182
                        ]
                      },
                      {
                        "learn": [
                          0.3796826173,
                          0.8518518519
                        ],
                        "iteration": 85,
                        "passed_time": 1.193640117,
                        "remaining_time": 12.68589613,
                        "test": [
                          0.4181256367,
                          0.8181818182
                        ]
                      },
                      {
                        "learn": [
                          0.3779238272,
                          0.8518518519
                        ],
                        "iteration": 86,
                        "passed_time": 1.212227346,
                        "remaining_time": 12.72142031,
                        "test": [
                          0.4170018934,
                          0.8181818182
                        ]
                      },
                      {
                        "learn": [
                          0.3773582697,
                          0.8518518519
                        ],
                        "iteration": 87,
                        "passed_time": 1.239345553,
                        "remaining_time": 12.84412664,
                        "test": [
                          0.4165576598,
                          0.8181818182
                        ]
                      },
                      {
                        "learn": [
                          0.3763996444,
                          0.8535353535
                        ],
                        "iteration": 88,
                        "passed_time": 1.255625524,
                        "remaining_time": 12.85252643,
                        "test": [
                          0.4169600317,
                          0.8181818182
                        ]
                      },
                      {
                        "learn": [
                          0.3754541799,
                          0.8569023569
                        ],
                        "iteration": 89,
                        "passed_time": 1.274142228,
                        "remaining_time": 12.88299363,
                        "test": [
                          0.41623386,
                          0.8181818182
                        ]
                      },
                      {
                        "learn": [
                          0.3747162897,
                          0.8585858586
                        ],
                        "iteration": 90,
                        "passed_time": 1.289045127,
                        "remaining_time": 12.87628594,
                        "test": [
                          0.4161721475,
                          0.8181818182
                        ]
                      },
                      {
                        "learn": [
                          0.3740062363,
                          0.8585858586
                        ],
                        "iteration": 91,
                        "passed_time": 1.319107116,
                        "remaining_time": 13.01901371,
                        "test": [
                          0.4160636697,
                          0.8181818182
                        ]
                      },
                      {
                        "learn": [
                          0.3730835973,
                          0.8602693603
                        ],
                        "iteration": 92,
                        "passed_time": 1.343158651,
                        "remaining_time": 13.09940749,
                        "test": [
                          0.4160069947,
                          0.8181818182
                        ]
                      },
                      {
                        "learn": [
                          0.3729245146,
                          0.8602693603
                        ],
                        "iteration": 93,
                        "passed_time": 1.34974562,
                        "remaining_time": 13.00925034,
                        "test": [
                          0.4158083137,
                          0.8181818182
                        ]
                      },
                      {
                        "learn": [
                          0.3717468972,
                          0.8602693603
                        ],
                        "iteration": 94,
                        "passed_time": 1.374407559,
                        "remaining_time": 13.09304043,
                        "test": [
                          0.4156979037,
                          0.8181818182
                        ]
                      },
                      {
                        "learn": [
                          0.3717439576,
                          0.8602693603
                        ],
                        "iteration": 95,
                        "passed_time": 1.378217456,
                        "remaining_time": 12.97821438,
                        "test": [
                          0.4156902558,
                          0.8181818182
                        ]
                      },
                      {
                        "learn": [
                          0.370863257,
                          0.8653198653
                        ],
                        "iteration": 96,
                        "passed_time": 1.394026699,
                        "remaining_time": 12.97738257,
                        "test": [
                          0.4159214114,
                          0.8181818182
                        ]
                      },
                      {
                        "learn": [
                          0.3703608464,
                          0.8653198653
                        ],
                        "iteration": 97,
                        "passed_time": 1.40625964,
                        "remaining_time": 12.94332853,
                        "test": [
                          0.4156274095,
                          0.8215488215
                        ]
                      },
                      {
                        "learn": [
                          0.3698215116,
                          0.8653198653
                        ],
                        "iteration": 98,
                        "passed_time": 1.430385689,
                        "remaining_time": 13.01795461,
                        "test": [
                          0.4154297796,
                          0.8148148148
                        ]
                      },
                      {
                        "learn": [
                          0.3694768279,
                          0.8636363636
                        ],
                        "iteration": 99,
                        "passed_time": 1.442909624,
                        "remaining_time": 12.98618661,
                        "test": [
                          0.4152791763,
                          0.8181818182
                        ]
                      },
                      {
                        "learn": [
                          0.369474768,
                          0.8636363636
                        ],
                        "iteration": 100,
                        "passed_time": 1.445488093,
                        "remaining_time": 12.8662752,
                        "test": [
                          0.4152730295,
                          0.8181818182
                        ]
                      },
                      {
                        "learn": [
                          0.3686551169,
                          0.8653198653
                        ],
                        "iteration": 101,
                        "passed_time": 1.473422998,
                        "remaining_time": 12.97190051,
                        "test": [
                          0.4146845057,
                          0.8181818182
                        ]
                      },
                      {
                        "learn": [
                          0.3681002431,
                          0.867003367
                        ],
                        "iteration": 102,
                        "passed_time": 1.49674333,
                        "remaining_time": 13.03474531,
                        "test": [
                          0.4143619783,
                          0.8181818182
                        ]
                      },
                      {
                        "learn": [
                          0.3679694496,
                          0.867003367
                        ],
                        "iteration": 103,
                        "passed_time": 1.513409011,
                        "remaining_time": 13.03860071,
                        "test": [
                          0.4142474119,
                          0.8114478114
                        ]
                      },
                      {
                        "learn": [
                          0.367967892,
                          0.867003367
                        ],
                        "iteration": 104,
                        "passed_time": 1.519228199,
                        "remaining_time": 12.94961179,
                        "test": [
                          0.4142423463,
                          0.8114478114
                        ]
                      },
                      {
                        "learn": [
                          0.3676302814,
                          0.8636363636
                        ],
                        "iteration": 105,
                        "passed_time": 1.531687974,
                        "remaining_time": 12.91819857,
                        "test": [
                          0.4135885644,
                          0.8114478114
                        ]
                      },
                      {
                        "learn": [
                          0.3676153391,
                          0.8636363636
                        ],
                        "iteration": 106,
                        "passed_time": 1.539912622,
                        "remaining_time": 12.85179413,
                        "test": [
                          0.4135800652,
                          0.8114478114
                        ]
                      },
                      {
                        "learn": [
                          0.3668358079,
                          0.8653198653
                        ],
                        "iteration": 107,
                        "passed_time": 1.554435487,
                        "remaining_time": 12.83848569,
                        "test": [
                          0.4137461395,
                          0.8181818182
                        ]
                      },
                      {
                        "learn": [
                          0.3665225418,
                          0.8653198653
                        ],
                        "iteration": 108,
                        "passed_time": 1.57442325,
                        "remaining_time": 12.86982675,
                        "test": [
                          0.4138735893,
                          0.8181818182
                        ]
                      },
                      {
                        "learn": [
                          0.3658468842,
                          0.8636363636
                        ],
                        "iteration": 109,
                        "passed_time": 1.617184016,
                        "remaining_time": 13.08448886,
                        "test": [
                          0.4137807442,
                          0.8181818182
                        ]
                      },
                      {
                        "learn": [
                          0.3637856006,
                          0.867003367
                        ],
                        "iteration": 110,
                        "passed_time": 1.632653523,
                        "remaining_time": 13.07593677,
                        "test": [
                          0.4130795597,
                          0.8215488215
                        ]
                      },
                      {
                        "learn": [
                          0.3628715344,
                          0.8703703704
                        ],
                        "iteration": 111,
                        "passed_time": 1.645362219,
                        "remaining_time": 13.04537188,
                        "test": [
                          0.4122360707,
                          0.8114478114
                        ]
                      },
                      {
                        "learn": [
                          0.3618910216,
                          0.8653198653
                        ],
                        "iteration": 112,
                        "passed_time": 1.658475236,
                        "remaining_time": 13.01829677,
                        "test": [
                          0.4115767166,
                          0.8114478114
                        ]
                      },
                      {
                        "learn": [
                          0.3610246817,
                          0.8686868687
                        ],
                        "iteration": 113,
                        "passed_time": 1.674102201,
                        "remaining_time": 13.01100482,
                        "test": [
                          0.4115131498,
                          0.8114478114
                        ]
                      },
                      {
                        "learn": [
                          0.3605426777,
                          0.8686868687
                        ],
                        "iteration": 114,
                        "passed_time": 1.68745666,
                        "remaining_time": 12.98607952,
                        "test": [
                          0.4117524303,
                          0.8114478114
                        ]
                      },
                      {
                        "learn": [
                          0.3597852185,
                          0.8703703704
                        ],
                        "iteration": 115,
                        "passed_time": 1.70096524,
                        "remaining_time": 12.96252821,
                        "test": [
                          0.4119087347,
                          0.8114478114
                        ]
                      },
                      {
                        "learn": [
                          0.3589515263,
                          0.8720538721
                        ],
                        "iteration": 116,
                        "passed_time": 1.714691005,
                        "remaining_time": 12.94078767,
                        "test": [
                          0.4112648286,
                          0.8114478114
                        ]
                      },
                      {
                        "learn": [
                          0.3578417188,
                          0.8703703704
                        ],
                        "iteration": 117,
                        "passed_time": 1.728531853,
                        "remaining_time": 12.92004317,
                        "test": [
                          0.4109451082,
                          0.8114478114
                        ]
                      },
                      {
                        "learn": [
                          0.3575672058,
                          0.8686868687
                        ],
                        "iteration": 118,
                        "passed_time": 1.742760121,
                        "remaining_time": 12.90228292,
                        "test": [
                          0.4109738923,
                          0.8148148148
                        ]
                      },
                      {
                        "learn": [
                          0.3569500983,
                          0.8686868687
                        ],
                        "iteration": 119,
                        "passed_time": 1.767070073,
                        "remaining_time": 12.95851387,
                        "test": [
                          0.4111148898,
                          0.8114478114
                        ]
                      },
                      {
                        "learn": [
                          0.3563692498,
                          0.8686868687
                        ],
                        "iteration": 120,
                        "passed_time": 1.786660611,
                        "remaining_time": 12.97912956,
                        "test": [
                          0.4110238523,
                          0.8080808081
                        ]
                      },
                      {
                        "learn": [
                          0.3561209604,
                          0.8686868687
                        ],
                        "iteration": 121,
                        "passed_time": 1.79347378,
                        "remaining_time": 12.90713097,
                        "test": [
                          0.4107319754,
                          0.8080808081
                        ]
                      },
                      {
                        "learn": [
                          0.3541070697,
                          0.8720538721
                        ],
                        "iteration": 122,
                        "passed_time": 1.853842113,
                        "remaining_time": 13.21804498,
                        "test": [
                          0.4092674141,
                          0.8114478114
                        ]
                      },
                      {
                        "learn": [
                          0.3539868568,
                          0.8720538721
                        ],
                        "iteration": 123,
                        "passed_time": 1.861860166,
                        "remaining_time": 13.15314117,
                        "test": [
                          0.4093005567,
                          0.8114478114
                        ]
                      },
                      {
                        "learn": [
                          0.3535359599,
                          0.8686868687
                        ],
                        "iteration": 124,
                        "passed_time": 1.875509882,
                        "remaining_time": 13.12856917,
                        "test": [
                          0.4095159684,
                          0.8114478114
                        ]
                      },
                      {
                        "learn": [
                          0.3529563335,
                          0.8703703704
                        ],
                        "iteration": 125,
                        "passed_time": 1.89154061,
                        "remaining_time": 13.12068645,
                        "test": [
                          0.4089902597,
                          0.8114478114
                        ]
                      },
                      {
                        "learn": [
                          0.3525388589,
                          0.8703703704
                        ],
                        "iteration": 126,
                        "passed_time": 1.905701054,
                        "remaining_time": 13.09981906,
                        "test": [
                          0.4085285624,
                          0.8114478114
                        ]
                      },
                      {
                        "learn": [
                          0.3510554228,
                          0.8720538721
                        ],
                        "iteration": 127,
                        "passed_time": 1.919490537,
                        "remaining_time": 13.07652929,
                        "test": [
                          0.407627326,
                          0.8114478114
                        ]
                      },
                      {
                        "learn": [
                          0.3505744844,
                          0.8703703704
                        ],
                        "iteration": 128,
                        "passed_time": 1.939153102,
                        "remaining_time": 13.09304149,
                        "test": [
                          0.4079879902,
                          0.8114478114
                        ]
                      },
                      {
                        "learn": [
                          0.3505256558,
                          0.8703703704
                        ],
                        "iteration": 129,
                        "passed_time": 1.944691575,
                        "remaining_time": 13.01447438,
                        "test": [
                          0.408041119,
                          0.8114478114
                        ]
                      },
                      {
                        "learn": [
                          0.3496970736,
                          0.8737373737
                        ],
                        "iteration": 130,
                        "passed_time": 1.965033868,
                        "remaining_time": 13.03522467,
                        "test": [
                          0.407495479,
                          0.8114478114
                        ]
                      },
                      {
                        "learn": [
                          0.3483706151,
                          0.8737373737
                        ],
                        "iteration": 131,
                        "passed_time": 1.976586204,
                        "remaining_time": 12.9975517,
                        "test": [
                          0.4073591909,
                          0.8148148148
                        ]
                      },
                      {
                        "learn": [
                          0.3477333786,
                          0.8720538721
                        ],
                        "iteration": 132,
                        "passed_time": 2.019291941,
                        "remaining_time": 13.16335423,
                        "test": [
                          0.406840125,
                          0.8148148148
                        ]
                      },
                      {
                        "learn": [
                          0.3470087667,
                          0.8737373737
                        ],
                        "iteration": 133,
                        "passed_time": 2.033774667,
                        "remaining_time": 13.14364822,
                        "test": [
                          0.4072076009,
                          0.8114478114
                        ]
                      },
                      {
                        "learn": [
                          0.346697516,
                          0.8737373737
                        ],
                        "iteration": 134,
                        "passed_time": 2.071941859,
                        "remaining_time": 13.27577562,
                        "test": [
                          0.4072642387,
                          0.8114478114
                        ]
                      },
                      {
                        "learn": [
                          0.3461554977,
                          0.8754208754
                        ],
                        "iteration": 135,
                        "passed_time": 2.090675099,
                        "remaining_time": 13.28193592,
                        "test": [
                          0.4073688093,
                          0.8114478114
                        ]
                      },
                      {
                        "learn": [
                          0.3455683234,
                          0.8754208754
                        ],
                        "iteration": 136,
                        "passed_time": 2.11369325,
                        "remaining_time": 13.31472463,
                        "test": [
                          0.4072251247,
                          0.8114478114
                        ]
                      },
                      {
                        "learn": [
                          0.3453380391,
                          0.8771043771
                        ],
                        "iteration": 137,
                        "passed_time": 2.133384584,
                        "remaining_time": 13.325924,
                        "test": [
                          0.4072520354,
                          0.8114478114
                        ]
                      },
                      {
                        "learn": [
                          0.3452918019,
                          0.8771043771
                        ],
                        "iteration": 138,
                        "passed_time": 2.1424126,
                        "remaining_time": 13.27062769,
                        "test": [
                          0.4072459233,
                          0.8114478114
                        ]
                      },
                      {
                        "learn": [
                          0.3439940885,
                          0.8771043771
                        ],
                        "iteration": 139,
                        "passed_time": 2.189742145,
                        "remaining_time": 13.45127318,
                        "test": [
                          0.4071309671,
                          0.8114478114
                        ]
                      },
                      {
                        "learn": [
                          0.3433286437,
                          0.8754208754
                        ],
                        "iteration": 140,
                        "passed_time": 2.210815076,
                        "remaining_time": 13.46872447,
                        "test": [
                          0.4071806366,
                          0.8114478114
                        ]
                      },
                      {
                        "learn": [
                          0.3429392611,
                          0.8754208754
                        ],
                        "iteration": 141,
                        "passed_time": 2.233833981,
                        "remaining_time": 13.49739124,
                        "test": [
                          0.4070949799,
                          0.8148148148
                        ]
                      },
                      {
                        "learn": [
                          0.3423658143,
                          0.8754208754
                        ],
                        "iteration": 142,
                        "passed_time": 2.260041186,
                        "remaining_time": 13.54444263,
                        "test": [
                          0.4070161551,
                          0.8148148148
                        ]
                      },
                      {
                        "learn": [
                          0.3417053701,
                          0.8787878788
                        ],
                        "iteration": 143,
                        "passed_time": 2.290222242,
                        "remaining_time": 13.61409889,
                        "test": [
                          0.4073736489,
                          0.8114478114
                        ]
                      },
                      {
                        "learn": [
                          0.3407265176,
                          0.8771043771
                        ],
                        "iteration": 144,
                        "passed_time": 2.306494724,
                        "remaining_time": 13.60036544,
                        "test": [
                          0.4075799371,
                          0.8148148148
                        ]
                      },
                      {
                        "learn": [
                          0.3401655597,
                          0.8771043771
                        ],
                        "iteration": 145,
                        "passed_time": 2.327199906,
                        "remaining_time": 13.61252548,
                        "test": [
                          0.4077451425,
                          0.8114478114
                        ]
                      },
                      {
                        "learn": [
                          0.3394916229,
                          0.8787878788
                        ],
                        "iteration": 146,
                        "passed_time": 2.340256424,
                        "remaining_time": 13.57985531,
                        "test": [
                          0.4083146804,
                          0.8114478114
                        ]
                      },
                      {
                        "learn": [
                          0.3388701689,
                          0.8787878788
                        ],
                        "iteration": 147,
                        "passed_time": 2.352878536,
                        "remaining_time": 13.54494941,
                        "test": [
                          0.4080146861,
                          0.8148148148
                        ]
                      },
                      {
                        "learn": [
                          0.3381788327,
                          0.8787878788
                        ],
                        "iteration": 148,
                        "passed_time": 2.379631594,
                        "remaining_time": 13.59105024,
                        "test": [
                          0.4075318855,
                          0.8148148148
                        ]
                      },
                      {
                        "learn": [
                          0.3381788125,
                          0.8787878788
                        ],
                        "iteration": 149,
                        "passed_time": 2.384640694,
                        "remaining_time": 13.51296393,
                        "test": [
                          0.4075315102,
                          0.8148148148
                        ]
                      },
                      {
                        "learn": [
                          0.3375470516,
                          0.8804713805
                        ],
                        "iteration": 150,
                        "passed_time": 2.404513502,
                        "remaining_time": 13.51941697,
                        "test": [
                          0.4077275586,
                          0.8114478114
                        ]
                      },
                      {
                        "learn": [
                          0.3371687986,
                          0.8804713805
                        ],
                        "iteration": 151,
                        "passed_time": 2.444552921,
                        "remaining_time": 13.63803208,
                        "test": [
                          0.407718068,
                          0.8114478114
                        ]
                      },
                      {
                        "learn": [
                          0.3363895995,
                          0.8787878788
                        ],
                        "iteration": 152,
                        "passed_time": 2.474805736,
                        "remaining_time": 13.70039515,
                        "test": [
                          0.4075234253,
                          0.8114478114
                        ]
                      },
                      {
                        "learn": [
                          0.3353094135,
                          0.8838383838
                        ],
                        "iteration": 153,
                        "passed_time": 2.49100895,
                        "remaining_time": 13.68437384,
                        "test": [
                          0.4080854716,
                          0.8114478114
                        ]
                      },
                      {
                        "learn": [
                          0.3348590582,
                          0.8838383838
                        ],
                        "iteration": 154,
                        "passed_time": 2.503344441,
                        "remaining_time": 13.64726486,
                        "test": [
                          0.4085024077,
                          0.8080808081
                        ]
                      },
                      {
                        "learn": [
                          0.3337183858,
                          0.8838383838
                        ],
                        "iteration": 155,
                        "passed_time": 2.527133809,
                        "remaining_time": 13.67244189,
                        "test": [
                          0.4086088972,
                          0.8114478114
                        ]
                      },
                      {
                        "learn": [
                          0.3333683249,
                          0.8838383838
                        ],
                        "iteration": 156,
                        "passed_time": 2.53994616,
                        "remaining_time": 13.63805486,
                        "test": [
                          0.4086901414,
                          0.8148148148
                        ]
                      },
                      {
                        "learn": [
                          0.3329926656,
                          0.8838383838
                        ],
                        "iteration": 157,
                        "passed_time": 2.553162136,
                        "remaining_time": 13.60609189,
                        "test": [
                          0.4088227973,
                          0.8148148148
                        ]
                      },
                      {
                        "learn": [
                          0.3324790814,
                          0.8838383838
                        ],
                        "iteration": 158,
                        "passed_time": 2.566428685,
                        "remaining_time": 13.57463223,
                        "test": [
                          0.4088200304,
                          0.8148148148
                        ]
                      },
                      {
                        "learn": [
                          0.3320198604,
                          0.8838383838
                        ],
                        "iteration": 159,
                        "passed_time": 2.581016689,
                        "remaining_time": 13.55033762,
                        "test": [
                          0.4087336353,
                          0.8148148148
                        ]
                      },
                      {
                        "learn": [
                          0.3310725893,
                          0.8838383838
                        ],
                        "iteration": 160,
                        "passed_time": 2.594732467,
                        "remaining_time": 13.52161826,
                        "test": [
                          0.4082240262,
                          0.8114478114
                        ]
                      },
                      {
                        "learn": [
                          0.3307325039,
                          0.8838383838
                        ],
                        "iteration": 161,
                        "passed_time": 2.608464691,
                        "remaining_time": 13.49316921,
                        "test": [
                          0.4084265933,
                          0.8114478114
                        ]
                      },
                      {
                        "learn": [
                          0.329763601,
                          0.8838383838
                        ],
                        "iteration": 162,
                        "passed_time": 2.621404806,
                        "remaining_time": 13.46083327,
                        "test": [
                          0.4079043045,
                          0.8114478114
                        ]
                      },
                      {
                        "learn": [
                          0.3293425529,
                          0.8855218855
                        ],
                        "iteration": 163,
                        "passed_time": 2.641057038,
                        "remaining_time": 13.46294929,
                        "test": [
                          0.4076605541,
                          0.8114478114
                        ]
                      },
                      {
                        "learn": [
                          0.3287870627,
                          0.8855218855
                        ],
                        "iteration": 164,
                        "passed_time": 2.655315739,
                        "remaining_time": 13.43750692,
                        "test": [
                          0.4073829092,
                          0.8080808081
                        ]
                      },
                      {
                        "learn": [
                          0.3284730626,
                          0.8855218855
                        ],
                        "iteration": 165,
                        "passed_time": 2.665685039,
                        "remaining_time": 13.39265857,
                        "test": [
                          0.4069944999,
                          0.8080808081
                        ]
                      },
                      {
                        "learn": [
                          0.3281673738,
                          0.8855218855
                        ],
                        "iteration": 166,
                        "passed_time": 2.678415593,
                        "remaining_time": 13.36000113,
                        "test": [
                          0.4065662288,
                          0.8080808081
                        ]
                      },
                      {
                        "learn": [
                          0.3276943924,
                          0.8872053872
                        ],
                        "iteration": 167,
                        "passed_time": 2.699781916,
                        "remaining_time": 13.37034854,
                        "test": [
                          0.4065070903,
                          0.8080808081
                        ]
                      },
                      {
                        "learn": [
                          0.3273745928,
                          0.8872053872
                        ],
                        "iteration": 168,
                        "passed_time": 2.725344711,
                        "remaining_time": 13.40095536,
                        "test": [
                          0.406041107,
                          0.8080808081
                        ]
                      },
                      {
                        "learn": [
                          0.327219748,
                          0.8872053872
                        ],
                        "iteration": 169,
                        "passed_time": 2.732742755,
                        "remaining_time": 13.34221463,
                        "test": [
                          0.4059195823,
                          0.8080808081
                        ]
                      },
                      {
                        "learn": [
                          0.3271319451,
                          0.8872053872
                        ],
                        "iteration": 170,
                        "passed_time": 2.746234706,
                        "remaining_time": 13.31361738,
                        "test": [
                          0.406005878,
                          0.8080808081
                        ]
                      },
                      {
                        "learn": [
                          0.3271319451,
                          0.8872053872
                        ],
                        "iteration": 171,
                        "passed_time": 2.748586469,
                        "remaining_time": 13.23156742,
                        "test": [
                          0.4060059058,
                          0.8080808081
                        ]
                      },
                      {
                        "learn": [
                          0.326430397,
                          0.8872053872
                        ],
                        "iteration": 172,
                        "passed_time": 2.761723278,
                        "remaining_time": 13.20199509,
                        "test": [
                          0.4059808287,
                          0.8080808081
                        ]
                      },
                      {
                        "learn": [
                          0.3260859649,
                          0.8872053872
                        ],
                        "iteration": 173,
                        "passed_time": 2.785575319,
                        "remaining_time": 13.22347824,
                        "test": [
                          0.405952377,
                          0.8080808081
                        ]
                      },
                      {
                        "learn": [
                          0.3256439099,
                          0.8872053872
                        ],
                        "iteration": 174,
                        "passed_time": 2.796847566,
                        "remaining_time": 13.18513852,
                        "test": [
                          0.406065281,
                          0.8080808081
                        ]
                      },
                      {
                        "learn": [
                          0.325169368,
                          0.8872053872
                        ],
                        "iteration": 175,
                        "passed_time": 2.808312093,
                        "remaining_time": 13.14800662,
                        "test": [
                          0.4056411232,
                          0.8080808081
                        ]
                      },
                      {
                        "learn": [
                          0.3249762859,
                          0.8888888889
                        ],
                        "iteration": 176,
                        "passed_time": 2.830023052,
                        "remaining_time": 13.15880775,
                        "test": [
                          0.4056864594,
                          0.8080808081
                        ]
                      },
                      {
                        "learn": [
                          0.3247077035,
                          0.8888888889
                        ],
                        "iteration": 177,
                        "passed_time": 2.84275409,
                        "remaining_time": 13.12777451,
                        "test": [
                          0.4056395899,
                          0.8080808081
                        ]
                      },
                      {
                        "learn": [
                          0.3242168804,
                          0.8888888889
                        ],
                        "iteration": 178,
                        "passed_time": 2.866612867,
                        "remaining_time": 13.14798415,
                        "test": [
                          0.4055601276,
                          0.8080808081
                        ]
                      },
                      {
                        "learn": [
                          0.3238933855,
                          0.8888888889
                        ],
                        "iteration": 179,
                        "passed_time": 2.879728905,
                        "remaining_time": 13.11876501,
                        "test": [
                          0.4059384181,
                          0.8080808081
                        ]
                      },
                      {
                        "learn": [
                          0.3232565489,
                          0.8905723906
                        ],
                        "iteration": 180,
                        "passed_time": 2.893458242,
                        "remaining_time": 13.0924989,
                        "test": [
                          0.4061171551,
                          0.8080808081
                        ]
                      },
                      {
                        "learn": [
                          0.3229274914,
                          0.8905723906
                        ],
                        "iteration": 181,
                        "passed_time": 2.906935126,
                        "remaining_time": 13.0652359,
                        "test": [
                          0.406414091,
                          0.8047138047
                        ]
                      },
                      {
                        "learn": [
                          0.3226007018,
                          0.8905723906
                        ],
                        "iteration": 182,
                        "passed_time": 2.933430561,
                        "remaining_time": 13.09624464,
                        "test": [
                          0.4062844554,
                          0.8047138047
                        ]
                      },
                      {
                        "learn": [
                          0.3225584628,
                          0.8888888889
                        ],
                        "iteration": 183,
                        "passed_time": 2.938699826,
                        "remaining_time": 13.03249488,
                        "test": [
                          0.4062545942,
                          0.8047138047
                        ]
                      },
                      {
                        "learn": [
                          0.3224526758,
                          0.8888888889
                        ],
                        "iteration": 184,
                        "passed_time": 2.949434222,
                        "remaining_time": 12.99345347,
                        "test": [
                          0.406341253,
                          0.8047138047
                        ]
                      },
                      {
                        "learn": [
                          0.3223348721,
                          0.8888888889
                        ],
                        "iteration": 185,
                        "passed_time": 2.962616221,
                        "remaining_time": 12.96542798,
                        "test": [
                          0.4064341454,
                          0.8080808081
                        ]
                      },
                      {
                        "learn": [
                          0.3214538866,
                          0.8905723906
                        ],
                        "iteration": 186,
                        "passed_time": 2.980467166,
                        "remaining_time": 12.95785992,
                        "test": [
                          0.4066163405,
                          0.8080808081
                        ]
                      },
                      {
                        "learn": [
                          0.3204577419,
                          0.8939393939
                        ],
                        "iteration": 187,
                        "passed_time": 2.989444984,
                        "remaining_time": 12.91185812,
                        "test": [
                          0.4066585971,
                          0.8047138047
                        ]
                      },
                      {
                        "learn": [
                          0.3201892432,
                          0.8939393939
                        ],
                        "iteration": 188,
                        "passed_time": 3.011981418,
                        "remaining_time": 12.9244282,
                        "test": [
                          0.4067944962,
                          0.8013468013
                        ]
                      },
                      {
                        "learn": [
                          0.3199529137,
                          0.8939393939
                        ],
                        "iteration": 189,
                        "passed_time": 3.032929415,
                        "remaining_time": 12.92985698,
                        "test": [
                          0.4066678924,
                          0.8013468013
                        ]
                      },
                      {
                        "learn": [
                          0.3189489536,
                          0.8956228956
                        ],
                        "iteration": 190,
                        "passed_time": 3.045364127,
                        "remaining_time": 12.89895067,
                        "test": [
                          0.4060535305,
                          0.8047138047
                        ]
                      },
                      {
                        "learn": [
                          0.3182689822,
                          0.8973063973
                        ],
                        "iteration": 191,
                        "passed_time": 3.056226928,
                        "remaining_time": 12.86162165,
                        "test": [
                          0.4060734718,
                          0.8080808081
                        ]
                      },
                      {
                        "learn": [
                          0.3180185881,
                          0.8956228956
                        ],
                        "iteration": 192,
                        "passed_time": 3.071339934,
                        "remaining_time": 12.84233848,
                        "test": [
                          0.4056502321,
                          0.8080808081
                        ]
                      },
                      {
                        "learn": [
                          0.3173193804,
                          0.8956228956
                        ],
                        "iteration": 193,
                        "passed_time": 3.087058428,
                        "remaining_time": 12.82561388,
                        "test": [
                          0.4053429614,
                          0.8080808081
                        ]
                      },
                      {
                        "learn": [
                          0.3169650469,
                          0.8973063973
                        ],
                        "iteration": 194,
                        "passed_time": 3.097584658,
                        "remaining_time": 12.78746487,
                        "test": [
                          0.405238511,
                          0.8080808081
                        ]
                      },
                      {
                        "learn": [
                          0.3161908008,
                          0.8973063973
                        ],
                        "iteration": 195,
                        "passed_time": 3.114237885,
                        "remaining_time": 12.77473092,
                        "test": [
                          0.4050977698,
                          0.8080808081
                        ]
                      },
                      {
                        "learn": [
                          0.3158193232,
                          0.8973063973
                        ],
                        "iteration": 196,
                        "passed_time": 3.126702747,
                        "remaining_time": 12.7448848,
                        "test": [
                          0.4048393249,
                          0.8047138047
                        ]
                      },
                      {
                        "learn": [
                          0.3158144351,
                          0.8973063973
                        ],
                        "iteration": 197,
                        "passed_time": 3.130071017,
                        "remaining_time": 12.67836846,
                        "test": [
                          0.4048381024,
                          0.8080808081
                        ]
                      },
                      {
                        "learn": [
                          0.3157374868,
                          0.8973063973
                        ],
                        "iteration": 198,
                        "passed_time": 3.137147783,
                        "remaining_time": 12.62741394,
                        "test": [
                          0.4048970311,
                          0.8047138047
                        ]
                      },
                      {
                        "learn": [
                          0.3153304082,
                          0.8973063973
                        ],
                        "iteration": 199,
                        "passed_time": 3.149536822,
                        "remaining_time": 12.59814729,
                        "test": [
                          0.4050555961,
                          0.8047138047
                        ]
                      },
                      {
                        "learn": [
                          0.3146866221,
                          0.8973063973
                        ],
                        "iteration": 200,
                        "passed_time": 3.161423217,
                        "remaining_time": 12.5670505,
                        "test": [
                          0.404972776,
                          0.8080808081
                        ]
                      },
                      {
                        "learn": [
                          0.3139690367,
                          0.8973063973
                        ],
                        "iteration": 201,
                        "passed_time": 3.169780332,
                        "remaining_time": 12.52220151,
                        "test": [
                          0.405378743,
                          0.8047138047
                        ]
                      },
                      {
                        "learn": [
                          0.3134991205,
                          0.8956228956
                        ],
                        "iteration": 202,
                        "passed_time": 3.180977344,
                        "remaining_time": 12.48886179,
                        "test": [
                          0.4054145663,
                          0.8013468013
                        ]
                      },
                      {
                        "learn": [
                          0.3133313883,
                          0.8973063973
                        ],
                        "iteration": 203,
                        "passed_time": 3.200910247,
                        "remaining_time": 12.48982626,
                        "test": [
                          0.4052519131,
                          0.8013468013
                        ]
                      },
                      {
                        "learn": [
                          0.3130021849,
                          0.9006734007
                        ],
                        "iteration": 204,
                        "passed_time": 3.209341314,
                        "remaining_time": 12.44598217,
                        "test": [
                          0.405474235,
                          0.8013468013
                        ]
                      },
                      {
                        "learn": [
                          0.3129806882,
                          0.898989899
                        ],
                        "iteration": 205,
                        "passed_time": 3.244532725,
                        "remaining_time": 12.50562613,
                        "test": [
                          0.4055256295,
                          0.8013468013
                        ]
                      },
                      {
                        "learn": [
                          0.3124054186,
                          0.8973063973
                        ],
                        "iteration": 206,
                        "passed_time": 3.272501331,
                        "remaining_time": 12.53668384,
                        "test": [
                          0.4055765446,
                          0.8013468013
                        ]
                      },
                      {
                        "learn": [
                          0.3119501608,
                          0.8973063973
                        ],
                        "iteration": 207,
                        "passed_time": 3.297262997,
                        "remaining_time": 12.55496295,
                        "test": [
                          0.4055515362,
                          0.8047138047
                        ]
                      },
                      {
                        "learn": [
                          0.311596349,
                          0.898989899
                        ],
                        "iteration": 208,
                        "passed_time": 3.313618173,
                        "remaining_time": 12.54101423,
                        "test": [
                          0.4059982114,
                          0.8080808081
                        ]
                      },
                      {
                        "learn": [
                          0.3115020759,
                          0.898989899
                        ],
                        "iteration": 209,
                        "passed_time": 3.317109293,
                        "remaining_time": 12.47864924,
                        "test": [
                          0.4059299675,
                          0.8080808081
                        ]
                      },
                      {
                        "learn": [
                          0.3112406198,
                          0.898989899
                        ],
                        "iteration": 210,
                        "passed_time": 3.330694113,
                        "remaining_time": 12.45458604,
                        "test": [
                          0.4060796112,
                          0.8080808081
                        ]
                      },
                      {
                        "learn": [
                          0.3108193932,
                          0.898989899
                        ],
                        "iteration": 211,
                        "passed_time": 3.356734859,
                        "remaining_time": 12.47692014,
                        "test": [
                          0.4059508984,
                          0.8047138047
                        ]
                      },
                      {
                        "learn": [
                          0.3102791232,
                          0.898989899
                        ],
                        "iteration": 212,
                        "passed_time": 3.368441153,
                        "remaining_time": 12.44583656,
                        "test": [
                          0.4057350205,
                          0.8047138047
                        ]
                      },
                      {
                        "learn": [
                          0.3102782677,
                          0.898989899
                        ],
                        "iteration": 213,
                        "passed_time": 3.37217295,
                        "remaining_time": 12.38564457,
                        "test": [
                          0.4057343089,
                          0.8047138047
                        ]
                      },
                      {
                        "learn": [
                          0.3098372973,
                          0.898989899
                        ],
                        "iteration": 214,
                        "passed_time": 3.386308066,
                        "remaining_time": 12.36396201,
                        "test": [
                          0.4056043859,
                          0.8047138047
                        ]
                      },
                      {
                        "learn": [
                          0.3095521007,
                          0.898989899
                        ],
                        "iteration": 215,
                        "passed_time": 3.406029188,
                        "remaining_time": 12.36262446,
                        "test": [
                          0.4058853942,
                          0.8047138047
                        ]
                      },
                      {
                        "learn": [
                          0.3089351439,
                          0.898989899
                        ],
                        "iteration": 216,
                        "passed_time": 3.420576042,
                        "remaining_time": 12.34244719,
                        "test": [
                          0.4053789981,
                          0.8047138047
                        ]
                      },
                      {
                        "learn": [
                          0.3089315759,
                          0.898989899
                        ],
                        "iteration": 217,
                        "passed_time": 3.423969869,
                        "remaining_time": 12.28231393,
                        "test": [
                          0.4053804241,
                          0.8047138047
                        ]
                      },
                      {
                        "learn": [
                          0.3084008192,
                          0.9006734007
                        ],
                        "iteration": 218,
                        "passed_time": 3.43537999,
                        "remaining_time": 12.25128663,
                        "test": [
                          0.4052325505,
                          0.8047138047
                        ]
                      },
                      {
                        "learn": [
                          0.3077614593,
                          0.898989899
                        ],
                        "iteration": 219,
                        "passed_time": 3.447969924,
                        "remaining_time": 12.22462064,
                        "test": [
                          0.4048516206,
                          0.8047138047
                        ]
                      },
                      {
                        "learn": [
                          0.3069456892,
                          0.898989899
                        ],
                        "iteration": 220,
                        "passed_time": 3.460164659,
                        "remaining_time": 12.196689,
                        "test": [
                          0.4047906201,
                          0.8047138047
                        ]
                      },
                      {
                        "learn": [
                          0.3063456101,
                          0.9006734007
                        ],
                        "iteration": 221,
                        "passed_time": 3.473699893,
                        "remaining_time": 12.17359692,
                        "test": [
                          0.4047812354,
                          0.8047138047
                        ]
                      },
                      {
                        "learn": [
                          0.3058490861,
                          0.9023569024
                        ],
                        "iteration": 222,
                        "passed_time": 3.487124768,
                        "remaining_time": 12.15020603,
                        "test": [
                          0.4047223031,
                          0.8047138047
                        ]
                      },
                      {
                        "learn": [
                          0.3056555577,
                          0.9023569024
                        ],
                        "iteration": 223,
                        "passed_time": 3.502595008,
                        "remaining_time": 12.13398985,
                        "test": [
                          0.4047187927,
                          0.8047138047
                        ]
                      },
                      {
                        "learn": [
                          0.3051698806,
                          0.9006734007
                        ],
                        "iteration": 224,
                        "passed_time": 3.517061697,
                        "remaining_time": 12.11432362,
                        "test": [
                          0.4044387514,
                          0.8047138047
                        ]
                      },
                      {
                        "learn": [
                          0.3042512641,
                          0.9006734007
                        ],
                        "iteration": 225,
                        "passed_time": 3.537204769,
                        "remaining_time": 12.11414377,
                        "test": [
                          0.4045122793,
                          0.8047138047
                        ]
                      },
                      {
                        "learn": [
                          0.3037276811,
                          0.9006734007
                        ],
                        "iteration": 226,
                        "passed_time": 3.557875976,
                        "remaining_time": 12.11558647,
                        "test": [
                          0.4045061789,
                          0.8047138047
                        ]
                      },
                      {
                        "learn": [
                          0.3035897549,
                          0.9006734007
                        ],
                        "iteration": 227,
                        "passed_time": 3.57616995,
                        "remaining_time": 12.10878597,
                        "test": [
                          0.4043707772,
                          0.8047138047
                        ]
                      },
                      {
                        "learn": [
                          0.3031670636,
                          0.9006734007
                        ],
                        "iteration": 228,
                        "passed_time": 3.587721839,
                        "remaining_time": 12.07918576,
                        "test": [
                          0.4042620543,
                          0.8047138047
                        ]
                      },
                      {
                        "learn": [
                          0.3029258323,
                          0.9006734007
                        ],
                        "iteration": 229,
                        "passed_time": 3.597977687,
                        "remaining_time": 12.04540356,
                        "test": [
                          0.4042816889,
                          0.8047138047
                        ]
                      },
                      {
                        "learn": [
                          0.3028505581,
                          0.9006734007
                        ],
                        "iteration": 230,
                        "passed_time": 3.60864855,
                        "remaining_time": 12.01320665,
                        "test": [
                          0.4042803395,
                          0.8047138047
                        ]
                      },
                      {
                        "learn": [
                          0.301999902,
                          0.9006734007
                        ],
                        "iteration": 231,
                        "passed_time": 3.622701909,
                        "remaining_time": 11.99239253,
                        "test": [
                          0.4041560319,
                          0.8047138047
                        ]
                      },
                      {
                        "learn": [
                          0.3016940749,
                          0.9006734007
                        ],
                        "iteration": 232,
                        "passed_time": 3.636162455,
                        "remaining_time": 11.96968499,
                        "test": [
                          0.4044108441,
                          0.8047138047
                        ]
                      },
                      {
                        "learn": [
                          0.3015699859,
                          0.9023569024
                        ],
                        "iteration": 233,
                        "passed_time": 3.665412556,
                        "remaining_time": 11.99874367,
                        "test": [
                          0.4042724147,
                          0.8047138047
                        ]
                      },
                      {
                        "learn": [
                          0.3012910345,
                          0.9023569024
                        ],
                        "iteration": 234,
                        "passed_time": 3.68171121,
                        "remaining_time": 11.985145,
                        "test": [
                          0.4043763687,
                          0.8047138047
                        ]
                      },
                      {
                        "learn": [
                          0.3007328175,
                          0.9023569024
                        ],
                        "iteration": 235,
                        "passed_time": 3.694280994,
                        "remaining_time": 11.95945203,
                        "test": [
                          0.4046091805,
                          0.8047138047
                        ]
                      },
                      {
                        "learn": [
                          0.3005942898,
                          0.9023569024
                        ],
                        "iteration": 236,
                        "passed_time": 3.718867573,
                        "remaining_time": 11.97255679,
                        "test": [
                          0.404689951,
                          0.8047138047
                        ]
                      },
                      {
                        "learn": [
                          0.3005403904,
                          0.9023569024
                        ],
                        "iteration": 237,
                        "passed_time": 3.726195801,
                        "remaining_time": 11.93008908,
                        "test": [
                          0.4046860509,
                          0.8047138047
                        ]
                      },
                      {
                        "learn": [
                          0.3004784644,
                          0.9023569024
                        ],
                        "iteration": 238,
                        "passed_time": 3.744389734,
                        "remaining_time": 11.92251292,
                        "test": [
                          0.4046763108,
                          0.8047138047
                        ]
                      },
                      {
                        "learn": [
                          0.3004061267,
                          0.9023569024
                        ],
                        "iteration": 239,
                        "passed_time": 3.748542172,
                        "remaining_time": 11.87038354,
                        "test": [
                          0.4046614736,
                          0.8047138047
                        ]
                      },
                      {
                        "learn": [
                          0.3000708151,
                          0.9006734007
                        ],
                        "iteration": 240,
                        "passed_time": 3.761104531,
                        "remaining_time": 11.84513834,
                        "test": [
                          0.4046656824,
                          0.8047138047
                        ]
                      },
                      {
                        "learn": [
                          0.2997193092,
                          0.9006734007
                        ],
                        "iteration": 241,
                        "passed_time": 3.77301783,
                        "remaining_time": 11.81796494,
                        "test": [
                          0.4045881726,
                          0.8047138047
                        ]
                      },
                      {
                        "learn": [
                          0.2996625601,
                          0.9006734007
                        ],
                        "iteration": 242,
                        "passed_time": 3.787984008,
                        "remaining_time": 11.80042755,
                        "test": [
                          0.4042567247,
                          0.8047138047
                        ]
                      },
                      {
                        "learn": [
                          0.2995248873,
                          0.9006734007
                        ],
                        "iteration": 243,
                        "passed_time": 3.798808544,
                        "remaining_time": 11.77007893,
                        "test": [
                          0.4043503366,
                          0.8047138047
                        ]
                      },
                      {
                        "learn": [
                          0.299347818,
                          0.9006734007
                        ],
                        "iteration": 244,
                        "passed_time": 3.805015194,
                        "remaining_time": 11.72565907,
                        "test": [
                          0.4043930001,
                          0.8047138047
                        ]
                      },
                      {
                        "learn": [
                          0.2992153411,
                          0.9006734007
                        ],
                        "iteration": 245,
                        "passed_time": 3.812708477,
                        "remaining_time": 11.68610647,
                        "test": [
                          0.4044944977,
                          0.8047138047
                        ]
                      },
                      {
                        "learn": [
                          0.2984819448,
                          0.9023569024
                        ],
                        "iteration": 246,
                        "passed_time": 3.823381571,
                        "remaining_time": 11.65589604,
                        "test": [
                          0.4043332141,
                          0.8080808081
                        ]
                      },
                      {
                        "learn": [
                          0.2983040486,
                          0.9023569024
                        ],
                        "iteration": 247,
                        "passed_time": 3.83310324,
                        "remaining_time": 11.62295821,
                        "test": [
                          0.4045350166,
                          0.8080808081
                        ]
                      },
                      {
                        "learn": [
                          0.297497288,
                          0.9023569024
                        ],
                        "iteration": 248,
                        "passed_time": 3.846008329,
                        "remaining_time": 11.59980825,
                        "test": [
                          0.4047665964,
                          0.8080808081
                        ]
                      },
                      {
                        "learn": [
                          0.2973686082,
                          0.9023569024
                        ],
                        "iteration": 249,
                        "passed_time": 3.859541713,
                        "remaining_time": 11.57862514,
                        "test": [
                          0.4048687039,
                          0.8047138047
                        ]
                      },
                      {
                        "learn": [
                          0.2971925701,
                          0.9023569024
                        ],
                        "iteration": 250,
                        "passed_time": 3.873913181,
                        "remaining_time": 11.56000387,
                        "test": [
                          0.4048041533,
                          0.8080808081
                        ]
                      },
                      {
                        "learn": [
                          0.2964518909,
                          0.9006734007
                        ],
                        "iteration": 251,
                        "passed_time": 3.888972047,
                        "remaining_time": 11.54345671,
                        "test": [
                          0.4049211755,
                          0.8114478114
                        ]
                      },
                      {
                        "learn": [
                          0.2961639712,
                          0.9006734007
                        ],
                        "iteration": 252,
                        "passed_time": 3.903706783,
                        "remaining_time": 11.5259643,
                        "test": [
                          0.4050343329,
                          0.8114478114
                        ]
                      },
                      {
                        "learn": [
                          0.2960257683,
                          0.9023569024
                        ],
                        "iteration": 253,
                        "passed_time": 3.916154795,
                        "remaining_time": 11.50177747,
                        "test": [
                          0.4050151198,
                          0.8114478114
                        ]
                      },
                      {
                        "learn": [
                          0.2956081546,
                          0.9057239057
                        ],
                        "iteration": 254,
                        "passed_time": 3.930980492,
                        "remaining_time": 11.48462928,
                        "test": [
                          0.4046700507,
                          0.8148148148
                        ]
                      },
                      {
                        "learn": [
                          0.2946708703,
                          0.9057239057
                        ],
                        "iteration": 255,
                        "passed_time": 3.941981691,
                        "remaining_time": 11.45638429,
                        "test": [
                          0.4044328564,
                          0.8215488215
                        ]
                      },
                      {
                        "learn": [
                          0.2945637234,
                          0.9057239057
                        ],
                        "iteration": 256,
                        "passed_time": 3.95068688,
                        "remaining_time": 11.42163561,
                        "test": [
                          0.4045331535,
                          0.8215488215
                        ]
                      },
                      {
                        "learn": [
                          0.2942697811,
                          0.9057239057
                        ],
                        "iteration": 257,
                        "passed_time": 3.960018523,
                        "remaining_time": 11.38889048,
                        "test": [
                          0.4048693144,
                          0.8215488215
                        ]
                      },
                      {
                        "learn": [
                          0.2936195077,
                          0.9057239057
                        ],
                        "iteration": 258,
                        "passed_time": 3.971187009,
                        "remaining_time": 11.36158137,
                        "test": [
                          0.404477159,
                          0.8148148148
                        ]
                      },
                      {
                        "learn": [
                          0.2934597134,
                          0.9057239057
                        ],
                        "iteration": 259,
                        "passed_time": 3.980599442,
                        "remaining_time": 11.32939841,
                        "test": [
                          0.4044021787,
                          0.8148148148
                        ]
                      },
                      {
                        "learn": [
                          0.2933723027,
                          0.9057239057
                        ],
                        "iteration": 260,
                        "passed_time": 3.989103159,
                        "remaining_time": 11.29481699,
                        "test": [
                          0.4045116628,
                          0.8148148148
                        ]
                      },
                      {
                        "learn": [
                          0.2929362309,
                          0.9057239057
                        ],
                        "iteration": 261,
                        "passed_time": 4.015539196,
                        "remaining_time": 11.31094629,
                        "test": [
                          0.4044410662,
                          0.8181818182
                        ]
                      },
                      {
                        "learn": [
                          0.2928158376,
                          0.9057239057
                        ],
                        "iteration": 262,
                        "passed_time": 4.041517785,
                        "remaining_time": 11.32546999,
                        "test": [
                          0.4044405352,
                          0.8181818182
                        ]
                      },
                      {
                        "learn": [
                          0.2923716382,
                          0.9057239057
                        ],
                        "iteration": 263,
                        "passed_time": 4.054242497,
                        "remaining_time": 11.30273666,
                        "test": [
                          0.4043061223,
                          0.8181818182
                        ]
                      },
                      {
                        "learn": [
                          0.2923445454,
                          0.9057239057
                        ],
                        "iteration": 264,
                        "passed_time": 4.064981932,
                        "remaining_time": 11.27457253,
                        "test": [
                          0.4043181636,
                          0.8181818182
                        ]
                      },
                      {
                        "learn": [
                          0.292018677,
                          0.9057239057
                        ],
                        "iteration": 265,
                        "passed_time": 4.084518008,
                        "remaining_time": 11.27081285,
                        "test": [
                          0.4044535135,
                          0.8148148148
                        ]
                      },
                      {
                        "learn": [
                          0.2913181363,
                          0.9107744108
                        ],
                        "iteration": 266,
                        "passed_time": 4.096352401,
                        "remaining_time": 11.24579142,
                        "test": [
                          0.4044344591,
                          0.8181818182
                        ]
                      },
                      {
                        "learn": [
                          0.2907161061,
                          0.9107744108
                        ],
                        "iteration": 267,
                        "passed_time": 4.107686123,
                        "remaining_time": 11.2195009,
                        "test": [
                          0.4041819447,
                          0.8215488215
                        ]
                      },
                      {
                        "learn": [
                          0.290594546,
                          0.9124579125
                        ],
                        "iteration": 268,
                        "passed_time": 4.121344845,
                        "remaining_time": 11.19963971,
                        "test": [
                          0.404167446,
                          0.8215488215
                        ]
                      },
                      {
                        "learn": [
                          0.2905275139,
                          0.9124579125
                        ],
                        "iteration": 269,
                        "passed_time": 4.133183851,
                        "remaining_time": 11.17490449,
                        "test": [
                          0.4041600136,
                          0.8215488215
                        ]
                      },
                      {
                        "learn": [
                          0.2890813061,
                          0.9107744108
                        ],
                        "iteration": 270,
                        "passed_time": 4.146426044,
                        "remaining_time": 11.15403906,
                        "test": [
                          0.403941196,
                          0.8215488215
                        ]
                      },
                      {
                        "learn": [
                          0.2888241664,
                          0.9107744108
                        ],
                        "iteration": 271,
                        "passed_time": 4.159898064,
                        "remaining_time": 11.13384482,
                        "test": [
                          0.4040741126,
                          0.8215488215
                        ]
                      },
                      {
                        "learn": [
                          0.288652551,
                          0.9107744108
                        ],
                        "iteration": 272,
                        "passed_time": 4.17368648,
                        "remaining_time": 11.11454238,
                        "test": [
                          0.4041309229,
                          0.8181818182
                        ]
                      },
                      {
                        "learn": [
                          0.2886125371,
                          0.9107744108
                        ],
                        "iteration": 273,
                        "passed_time": 4.185754539,
                        "remaining_time": 11.09072188,
                        "test": [
                          0.4041531874,
                          0.8181818182
                        ]
                      },
                      {
                        "learn": [
                          0.2882917589,
                          0.9107744108
                        ],
                        "iteration": 274,
                        "passed_time": 4.200258449,
                        "remaining_time": 11.07340864,
                        "test": [
                          0.4044433331,
                          0.8181818182
                        ]
                      },
                      {
                        "learn": [
                          0.2878013764,
                          0.9107744108
                        ],
                        "iteration": 275,
                        "passed_time": 4.214884518,
                        "remaining_time": 11.0564362,
                        "test": [
                          0.4040237499,
                          0.8181818182
                        ]
                      },
                      {
                        "learn": [
                          0.2873613782,
                          0.9124579125
                        ],
                        "iteration": 276,
                        "passed_time": 4.229437722,
                        "remaining_time": 11.03929052,
                        "test": [
                          0.4040812028,
                          0.8181818182
                        ]
                      },
                      {
                        "learn": [
                          0.2870299802,
                          0.9124579125
                        ],
                        "iteration": 277,
                        "passed_time": 4.239317906,
                        "remaining_time": 11.01002708,
                        "test": [
                          0.4040400938,
                          0.8181818182
                        ]
                      },
                      {
                        "learn": [
                          0.2868243756,
                          0.9107744108
                        ],
                        "iteration": 278,
                        "passed_time": 4.251428042,
                        "remaining_time": 10.9866653,
                        "test": [
                          0.4040270174,
                          0.8181818182
                        ]
                      },
                      {
                        "learn": [
                          0.2867110807,
                          0.9107744108
                        ],
                        "iteration": 279,
                        "passed_time": 4.26579589,
                        "remaining_time": 10.96918943,
                        "test": [
                          0.4040438674,
                          0.8181818182
                        ]
                      },
                      {
                        "learn": [
                          0.2866909235,
                          0.9107744108
                        ],
                        "iteration": 280,
                        "passed_time": 4.277660851,
                        "remaining_time": 10.9453315,
                        "test": [
                          0.4041159859,
                          0.8181818182
                        ]
                      },
                      {
                        "learn": [
                          0.2864474686,
                          0.9124579125
                        ],
                        "iteration": 281,
                        "passed_time": 4.288094644,
                        "remaining_time": 10.91791473,
                        "test": [
                          0.4039439685,
                          0.8181818182
                        ]
                      },
                      {
                        "learn": [
                          0.286343159,
                          0.9124579125
                        ],
                        "iteration": 282,
                        "passed_time": 4.301236766,
                        "remaining_time": 10.89747972,
                        "test": [
                          0.4039794238,
                          0.8181818182
                        ]
                      },
                      {
                        "learn": [
                          0.2857110528,
                          0.9124579125
                        ],
                        "iteration": 283,
                        "passed_time": 4.330802689,
                        "remaining_time": 10.91850255,
                        "test": [
                          0.4041763456,
                          0.8181818182
                        ]
                      },
                      {
                        "learn": [
                          0.2856041883,
                          0.9124579125
                        ],
                        "iteration": 284,
                        "passed_time": 4.342942937,
                        "remaining_time": 10.89545333,
                        "test": [
                          0.4042563869,
                          0.8181818182
                        ]
                      },
                      {
                        "learn": [
                          0.2854271266,
                          0.9124579125
                        ],
                        "iteration": 285,
                        "passed_time": 4.359803493,
                        "remaining_time": 10.88426466,
                        "test": [
                          0.4041358553,
                          0.8181818182
                        ]
                      },
                      {
                        "learn": [
                          0.2851271614,
                          0.9124579125
                        ],
                        "iteration": 286,
                        "passed_time": 4.374541525,
                        "remaining_time": 10.86776344,
                        "test": [
                          0.4040568241,
                          0.8181818182
                        ]
                      },
                      {
                        "learn": [
                          0.2848406959,
                          0.9107744108
                        ],
                        "iteration": 287,
                        "passed_time": 4.388149377,
                        "remaining_time": 10.8484804,
                        "test": [
                          0.404273999,
                          0.8181818182
                        ]
                      },
                      {
                        "learn": [
                          0.2845784229,
                          0.9107744108
                        ],
                        "iteration": 288,
                        "passed_time": 4.413913978,
                        "remaining_time": 10.85914477,
                        "test": [
                          0.4041983241,
                          0.8181818182
                        ]
                      },
                      {
                        "learn": [
                          0.2844589168,
                          0.9107744108
                        ],
                        "iteration": 289,
                        "passed_time": 4.428901312,
                        "remaining_time": 10.84317218,
                        "test": [
                          0.4042886908,
                          0.8181818182
                        ]
                      },
                      {
                        "learn": [
                          0.284206522,
                          0.9107744108
                        ],
                        "iteration": 290,
                        "passed_time": 4.441447317,
                        "remaining_time": 10.82125824,
                        "test": [
                          0.4041951462,
                          0.8181818182
                        ]
                      },
                      {
                        "learn": [
                          0.2841289808,
                          0.9107744108
                        ],
                        "iteration": 291,
                        "passed_time": 4.455397811,
                        "remaining_time": 10.80281387,
                        "test": [
                          0.404289727,
                          0.8181818182
                        ]
                      },
                      {
                        "learn": [
                          0.2836993551,
                          0.9107744108
                        ],
                        "iteration": 292,
                        "passed_time": 4.468337789,
                        "remaining_time": 10.78196183,
                        "test": [
                          0.4041694048,
                          0.8181818182
                        ]
                      },
                      {
                        "learn": [
                          0.2835233497,
                          0.9107744108
                        ],
                        "iteration": 293,
                        "passed_time": 4.480859048,
                        "remaining_time": 10.76015812,
                        "test": [
                          0.4043604926,
                          0.8181818182
                        ]
                      },
                      {
                        "learn": [
                          0.2828801598,
                          0.9107744108
                        ],
                        "iteration": 294,
                        "passed_time": 4.501279835,
                        "remaining_time": 10.75729588,
                        "test": [
                          0.4044328669,
                          0.8181818182
                        ]
                      },
                      {
                        "learn": [
                          0.282376251,
                          0.9107744108
                        ],
                        "iteration": 295,
                        "passed_time": 4.517174455,
                        "remaining_time": 10.74355006,
                        "test": [
                          0.4044881087,
                          0.8181818182
                        ]
                      },
                      {
                        "learn": [
                          0.2821685586,
                          0.9107744108
                        ],
                        "iteration": 296,
                        "passed_time": 4.531682583,
                        "remaining_time": 10.72650793,
                        "test": [
                          0.404567305,
                          0.8181818182
                        ]
                      },
                      {
                        "learn": [
                          0.2817992347,
                          0.9107744108
                        ],
                        "iteration": 297,
                        "passed_time": 4.544625882,
                        "remaining_time": 10.70579654,
                        "test": [
                          0.404775147,
                          0.8181818182
                        ]
                      },
                      {
                        "learn": [
                          0.2812899809,
                          0.9107744108
                        ],
                        "iteration": 298,
                        "passed_time": 4.564997054,
                        "remaining_time": 10.70255162,
                        "test": [
                          0.4050318204,
                          0.8215488215
                        ]
                      },
                      {
                        "learn": [
                          0.2803510655,
                          0.9124579125
                        ],
                        "iteration": 299,
                        "passed_time": 4.577528714,
                        "remaining_time": 10.68090033,
                        "test": [
                          0.4047885363,
                          0.8215488215
                        ]
                      },
                      {
                        "learn": [
                          0.2801808094,
                          0.9141414141
                        ],
                        "iteration": 300,
                        "passed_time": 4.59214669,
                        "remaining_time": 10.66415461,
                        "test": [
                          0.4049224194,
                          0.8215488215
                        ]
                      },
                      {
                        "learn": [
                          0.279702873,
                          0.9158249158
                        ],
                        "iteration": 301,
                        "passed_time": 4.603950172,
                        "remaining_time": 10.64091795,
                        "test": [
                          0.4050872265,
                          0.8215488215
                        ]
                      },
                      {
                        "learn": [
                          0.2794223213,
                          0.9158249158
                        ],
                        "iteration": 302,
                        "passed_time": 4.614697891,
                        "remaining_time": 10.61532815,
                        "test": [
                          0.4050923674,
                          0.8215488215
                        ]
                      },
                      {
                        "learn": [
                          0.2786533001,
                          0.9158249158
                        ],
                        "iteration": 303,
                        "passed_time": 4.630534416,
                        "remaining_time": 10.60148669,
                        "test": [
                          0.4050134535,
                          0.8215488215
                        ]
                      },
                      {
                        "learn": [
                          0.2784619439,
                          0.9158249158
                        ],
                        "iteration": 304,
                        "passed_time": 4.643548914,
                        "remaining_time": 10.58120162,
                        "test": [
                          0.40523306,
                          0.8215488215
                        ]
                      },
                      {
                        "learn": [
                          0.2781629393,
                          0.9141414141
                        ],
                        "iteration": 305,
                        "passed_time": 4.654603229,
                        "remaining_time": 10.55651844,
                        "test": [
                          0.4053276233,
                          0.8215488215
                        ]
                      },
                      {
                        "learn": [
                          0.2780495882,
                          0.9141414141
                        ],
                        "iteration": 306,
                        "passed_time": 4.670900523,
                        "remaining_time": 10.54375916,
                        "test": [
                          0.405468019,
                          0.8215488215
                        ]
                      },
                      {
                        "learn": [
                          0.2774254405,
                          0.9141414141
                        ],
                        "iteration": 307,
                        "passed_time": 4.682961248,
                        "remaining_time": 10.52145839,
                        "test": [
                          0.405292036,
                          0.8215488215
                        ]
                      },
                      {
                        "learn": [
                          0.2771640168,
                          0.9141414141
                        ],
                        "iteration": 308,
                        "passed_time": 4.692053936,
                        "remaining_time": 10.49258663,
                        "test": [
                          0.405290439,
                          0.8215488215
                        ]
                      },
                      {
                        "learn": [
                          0.2766566807,
                          0.9158249158
                        ],
                        "iteration": 309,
                        "passed_time": 4.706492774,
                        "remaining_time": 10.47574198,
                        "test": [
                          0.4053911499,
                          0.8215488215
                        ]
                      },
                      {
                        "learn": [
                          0.2753979946,
                          0.9191919192
                        ],
                        "iteration": 310,
                        "passed_time": 4.716622118,
                        "remaining_time": 10.4493654,
                        "test": [
                          0.4050752734,
                          0.8215488215
                        ]
                      },
                      {
                        "learn": [
                          0.2747779346,
                          0.9208754209
                        ],
                        "iteration": 311,
                        "passed_time": 4.724541616,
                        "remaining_time": 10.41821997,
                        "test": [
                          0.4049437589,
                          0.8215488215
                        ]
                      },
                      {
                        "learn": [
                          0.2744008671,
                          0.9208754209
                        ],
                        "iteration": 312,
                        "passed_time": 4.739049484,
                        "remaining_time": 10.40168369,
                        "test": [
                          0.4049414776,
                          0.8215488215
                        ]
                      },
                      {
                        "learn": [
                          0.2742913482,
                          0.9208754209
                        ],
                        "iteration": 313,
                        "passed_time": 4.749380821,
                        "remaining_time": 10.37603581,
                        "test": [
                          0.4048852324,
                          0.8215488215
                        ]
                      },
                      {
                        "learn": [
                          0.2737765405,
                          0.9191919192
                        ],
                        "iteration": 314,
                        "passed_time": 4.761596694,
                        "remaining_time": 10.35458329,
                        "test": [
                          0.4046832397,
                          0.8215488215
                        ]
                      },
                      {
                        "learn": [
                          0.2736718151,
                          0.9191919192
                        ],
                        "iteration": 315,
                        "passed_time": 4.772752024,
                        "remaining_time": 10.33089362,
                        "test": [
                          0.4044252051,
                          0.8215488215
                        ]
                      },
                      {
                        "learn": [
                          0.2729831358,
                          0.9191919192
                        ],
                        "iteration": 316,
                        "passed_time": 4.785225363,
                        "remaining_time": 10.31012279,
                        "test": [
                          0.4046330846,
                          0.8215488215
                        ]
                      },
                      {
                        "learn": [
                          0.2728315886,
                          0.9208754209
                        ],
                        "iteration": 317,
                        "passed_time": 4.797379756,
                        "remaining_time": 10.28872011,
                        "test": [
                          0.4047460041,
                          0.8215488215
                        ]
                      },
                      {
                        "learn": [
                          0.2727128242,
                          0.9208754209
                        ],
                        "iteration": 318,
                        "passed_time": 4.805352069,
                        "remaining_time": 10.25844752,
                        "test": [
                          0.4047559841,
                          0.8215488215
                        ]
                      },
                      {
                        "learn": [
                          0.2723260327,
                          0.9225589226
                        ],
                        "iteration": 319,
                        "passed_time": 4.822793597,
                        "remaining_time": 10.24843639,
                        "test": [
                          0.4049764946,
                          0.8215488215
                        ]
                      },
                      {
                        "learn": [
                          0.2721422307,
                          0.9225589226
                        ],
                        "iteration": 320,
                        "passed_time": 4.847228329,
                        "remaining_time": 10.25317145,
                        "test": [
                          0.4048566495,
                          0.8215488215
                        ]
                      }
                    ],
                    "meta": {
                      "test_sets": [
                        "test"
                      ],
                      "test_metrics": [
                        {
                          "best_value": "Min",
                          "name": "Logloss"
                        },
                        {
                          "best_value": "Max",
                          "name": "Accuracy"
                        }
                      ],
                      "learn_metrics": [
                        {
                          "best_value": "Min",
                          "name": "Logloss"
                        },
                        {
                          "best_value": "Max",
                          "name": "Accuracy"
                        }
                      ],
                      "launch_mode": "Train",
                      "parameters": "",
                      "iteration_count": 1000,
                      "learn_sets": [
                        "learn"
                      ],
                      "name": "experiment"
                    }
                  }
                }
              },
              "catboost_info/fold-1": {
                "path": "catboost_info/fold-1",
                "name": "fold-1",
                "content": {
                  "passed_iterations": 282,
                  "total_iterations": 1000,
                  "data": {
                    "iterations": [
                      {
                        "learn": [
                          0.67908402,
                          0.7811447811
                        ],
                        "iteration": 0,
                        "passed_time": 0.007920296447,
                        "remaining_time": 7.912376151,
                        "test": [
                          0.6781637647,
                          0.797979798
                        ]
                      },
                      {
                        "learn": [
                          0.6617477937,
                          0.8097643098
                        ],
                        "iteration": 1,
                        "passed_time": 0.03859261938,
                        "remaining_time": 19.25771707,
                        "test": [
                          0.6602499621,
                          0.797979798
                        ]
                      },
                      {
                        "learn": [
                          0.6471596479,
                          0.8047138047
                        ],
                        "iteration": 2,
                        "passed_time": 0.05040981064,
                        "remaining_time": 16.7528604,
                        "test": [
                          0.6446341652,
                          0.8148148148
                        ]
                      },
                      {
                        "learn": [
                          0.6328963051,
                          0.8063973064
                        ],
                        "iteration": 3,
                        "passed_time": 0.05827211419,
                        "remaining_time": 14.50975643,
                        "test": [
                          0.6298459643,
                          0.8148148148
                        ]
                      },
                      {
                        "learn": [
                          0.618038914,
                          0.8097643098
                        ],
                        "iteration": 4,
                        "passed_time": 0.07233989103,
                        "remaining_time": 14.39563831,
                        "test": [
                          0.6147363268,
                          0.8114478114
                        ]
                      },
                      {
                        "learn": [
                          0.6055943066,
                          0.8063973064
                        ],
                        "iteration": 5,
                        "passed_time": 0.08679457403,
                        "remaining_time": 14.37896777,
                        "test": [
                          0.6015580664,
                          0.8148148148
                        ]
                      },
                      {
                        "learn": [
                          0.5949933696,
                          0.8063973064
                        ],
                        "iteration": 6,
                        "passed_time": 0.09786384593,
                        "remaining_time": 13.88268557,
                        "test": [
                          0.5911666858,
                          0.8215488215
                        ]
                      },
                      {
                        "learn": [
                          0.5833991793,
                          0.8097643098
                        ],
                        "iteration": 7,
                        "passed_time": 0.1435196559,
                        "remaining_time": 17.79643733,
                        "test": [
                          0.5796290793,
                          0.8215488215
                        ]
                      },
                      {
                        "learn": [
                          0.5710526845,
                          0.8181818182
                        ],
                        "iteration": 8,
                        "passed_time": 0.1689331683,
                        "remaining_time": 18.60141886,
                        "test": [
                          0.5688588269,
                          0.8181818182
                        ]
                      },
                      {
                        "learn": [
                          0.5622828312,
                          0.8131313131
                        ],
                        "iteration": 9,
                        "passed_time": 0.2061273024,
                        "remaining_time": 20.40660294,
                        "test": [
                          0.5594604853,
                          0.8181818182
                        ]
                      },
                      {
                        "learn": [
                          0.5529754815,
                          0.8114478114
                        ],
                        "iteration": 10,
                        "passed_time": 0.218591026,
                        "remaining_time": 19.65332042,
                        "test": [
                          0.5508238434,
                          0.8181818182
                        ]
                      },
                      {
                        "learn": [
                          0.5455286741,
                          0.8114478114
                        ],
                        "iteration": 11,
                        "passed_time": 0.2216183773,
                        "remaining_time": 18.24657973,
                        "test": [
                          0.5426729324,
                          0.8181818182
                        ]
                      },
                      {
                        "learn": [
                          0.538089271,
                          0.8114478114
                        ],
                        "iteration": 12,
                        "passed_time": 0.2254415245,
                        "remaining_time": 17.11621421,
                        "test": [
                          0.534740319,
                          0.8181818182
                        ]
                      },
                      {
                        "learn": [
                          0.5299927886,
                          0.8114478114
                        ],
                        "iteration": 13,
                        "passed_time": 0.2349692446,
                        "remaining_time": 16.54854823,
                        "test": [
                          0.5270700123,
                          0.8215488215
                        ]
                      },
                      {
                        "learn": [
                          0.5229817482,
                          0.8148148148
                        ],
                        "iteration": 14,
                        "passed_time": 0.2491316334,
                        "remaining_time": 16.35964393,
                        "test": [
                          0.5210407426,
                          0.8215488215
                        ]
                      },
                      {
                        "learn": [
                          0.5148693428,
                          0.8131313131
                        ],
                        "iteration": 15,
                        "passed_time": 0.2625187774,
                        "remaining_time": 16.14490481,
                        "test": [
                          0.5133052427,
                          0.8215488215
                        ]
                      },
                      {
                        "learn": [
                          0.5082246715,
                          0.8181818182
                        ],
                        "iteration": 16,
                        "passed_time": 0.2805381607,
                        "remaining_time": 16.22170659,
                        "test": [
                          0.5071173452,
                          0.8215488215
                        ]
                      },
                      {
                        "learn": [
                          0.5025951581,
                          0.8181818182
                        ],
                        "iteration": 17,
                        "passed_time": 0.2979065604,
                        "remaining_time": 16.25245791,
                        "test": [
                          0.5015397406,
                          0.8181818182
                        ]
                      },
                      {
                        "learn": [
                          0.4982948125,
                          0.8164983165
                        ],
                        "iteration": 18,
                        "passed_time": 0.3102733791,
                        "remaining_time": 16.01990447,
                        "test": [
                          0.497488075,
                          0.8181818182
                        ]
                      },
                      {
                        "learn": [
                          0.4933811725,
                          0.8181818182
                        ],
                        "iteration": 19,
                        "passed_time": 0.3220727182,
                        "remaining_time": 15.78156319,
                        "test": [
                          0.492985041,
                          0.8181818182
                        ]
                      },
                      {
                        "learn": [
                          0.4877896238,
                          0.8164983165
                        ],
                        "iteration": 20,
                        "passed_time": 0.3337734013,
                        "remaining_time": 15.56019809,
                        "test": [
                          0.4883811495,
                          0.8181818182
                        ]
                      },
                      {
                        "learn": [
                          0.4839463791,
                          0.8164983165
                        ],
                        "iteration": 21,
                        "passed_time": 0.3395546103,
                        "remaining_time": 15.09474586,
                        "test": [
                          0.485473227,
                          0.8181818182
                        ]
                      },
                      {
                        "learn": [
                          0.4793423416,
                          0.8148148148
                        ],
                        "iteration": 22,
                        "passed_time": 0.3524402634,
                        "remaining_time": 14.97104945,
                        "test": [
                          0.4815096113,
                          0.8215488215
                        ]
                      },
                      {
                        "learn": [
                          0.4752933246,
                          0.8131313131
                        ],
                        "iteration": 23,
                        "passed_time": 0.3645326145,
                        "remaining_time": 14.82432632,
                        "test": [
                          0.4777662448,
                          0.8215488215
                        ]
                      },
                      {
                        "learn": [
                          0.4709580482,
                          0.8164983165
                        ],
                        "iteration": 24,
                        "passed_time": 0.3805116295,
                        "remaining_time": 14.83995355,
                        "test": [
                          0.4745694223,
                          0.8215488215
                        ]
                      },
                      {
                        "learn": [
                          0.467646968,
                          0.8181818182
                        ],
                        "iteration": 25,
                        "passed_time": 0.3908014117,
                        "remaining_time": 14.64002211,
                        "test": [
                          0.471355605,
                          0.8215488215
                        ]
                      },
                      {
                        "learn": [
                          0.4634931435,
                          0.8198653199
                        ],
                        "iteration": 26,
                        "passed_time": 0.4026403778,
                        "remaining_time": 14.50996621,
                        "test": [
                          0.4683649093,
                          0.8215488215
                        ]
                      },
                      {
                        "learn": [
                          0.4614160221,
                          0.8198653199
                        ],
                        "iteration": 27,
                        "passed_time": 0.4504076925,
                        "remaining_time": 15.63558133,
                        "test": [
                          0.4670201303,
                          0.8181818182
                        ]
                      },
                      {
                        "learn": [
                          0.4581184725,
                          0.8198653199
                        ],
                        "iteration": 28,
                        "passed_time": 0.4614714234,
                        "remaining_time": 15.45133628,
                        "test": [
                          0.4642957115,
                          0.8215488215
                        ]
                      },
                      {
                        "learn": [
                          0.455374887,
                          0.8215488215
                        ],
                        "iteration": 29,
                        "passed_time": 0.476325367,
                        "remaining_time": 15.40118687,
                        "test": [
                          0.4620561606,
                          0.8181818182
                        ]
                      },
                      {
                        "learn": [
                          0.4522247871,
                          0.8232323232
                        ],
                        "iteration": 30,
                        "passed_time": 0.4931648686,
                        "remaining_time": 15.41537928,
                        "test": [
                          0.45989571,
                          0.8181818182
                        ]
                      },
                      {
                        "learn": [
                          0.4489548553,
                          0.8232323232
                        ],
                        "iteration": 31,
                        "passed_time": 0.5171728178,
                        "remaining_time": 15.64447774,
                        "test": [
                          0.4580957724,
                          0.8181818182
                        ]
                      },
                      {
                        "learn": [
                          0.4462454425,
                          0.8249158249
                        ],
                        "iteration": 32,
                        "passed_time": 0.5363110606,
                        "remaining_time": 15.71553926,
                        "test": [
                          0.4567043653,
                          0.8181818182
                        ]
                      },
                      {
                        "learn": [
                          0.4428260213,
                          0.8265993266
                        ],
                        "iteration": 33,
                        "passed_time": 0.5524895517,
                        "remaining_time": 15.69720315,
                        "test": [
                          0.4551515706,
                          0.8181818182
                        ]
                      },
                      {
                        "learn": [
                          0.4410853573,
                          0.8249158249
                        ],
                        "iteration": 34,
                        "passed_time": 0.5605788127,
                        "remaining_time": 15.45595869,
                        "test": [
                          0.4537107876,
                          0.8181818182
                        ]
                      },
                      {
                        "learn": [
                          0.4391109487,
                          0.8249158249
                        ],
                        "iteration": 35,
                        "passed_time": 0.5784138372,
                        "remaining_time": 15.4886372,
                        "test": [
                          0.4524185422,
                          0.8181818182
                        ]
                      },
                      {
                        "learn": [
                          0.4365582416,
                          0.8265993266
                        ],
                        "iteration": 36,
                        "passed_time": 0.5871880911,
                        "remaining_time": 15.28276032,
                        "test": [
                          0.450846052,
                          0.8181818182
                        ]
                      },
                      {
                        "learn": [
                          0.4349794846,
                          0.8249158249
                        ],
                        "iteration": 37,
                        "passed_time": 0.5917878991,
                        "remaining_time": 14.98157787,
                        "test": [
                          0.4493606048,
                          0.8181818182
                        ]
                      },
                      {
                        "learn": [
                          0.4324171341,
                          0.8282828283
                        ],
                        "iteration": 38,
                        "passed_time": 0.6050080164,
                        "remaining_time": 14.90801805,
                        "test": [
                          0.4475191974,
                          0.8181818182
                        ]
                      },
                      {
                        "learn": [
                          0.4298495217,
                          0.82996633
                        ],
                        "iteration": 39,
                        "passed_time": 0.6203977938,
                        "remaining_time": 14.88954705,
                        "test": [
                          0.4461434255,
                          0.8215488215
                        ]
                      },
                      {
                        "learn": [
                          0.4282617816,
                          0.82996633
                        ],
                        "iteration": 40,
                        "passed_time": 0.6423709647,
                        "remaining_time": 15.02521354,
                        "test": [
                          0.4447166056,
                          0.8215488215
                        ]
                      },
                      {
                        "learn": [
                          0.4271012379,
                          0.8282828283
                        ],
                        "iteration": 41,
                        "passed_time": 0.6623321655,
                        "remaining_time": 15.1074813,
                        "test": [
                          0.4437339766,
                          0.8215488215
                        ]
                      },
                      {
                        "learn": [
                          0.4247867805,
                          0.82996633
                        ],
                        "iteration": 42,
                        "passed_time": 0.6822103273,
                        "remaining_time": 15.18314612,
                        "test": [
                          0.4414185547,
                          0.8181818182
                        ]
                      },
                      {
                        "learn": [
                          0.4220960785,
                          0.8316498316
                        ],
                        "iteration": 43,
                        "passed_time": 0.7045624513,
                        "remaining_time": 15.30822053,
                        "test": [
                          0.4398307869,
                          0.8215488215
                        ]
                      },
                      {
                        "learn": [
                          0.4191493482,
                          0.835016835
                        ],
                        "iteration": 44,
                        "passed_time": 0.7227596433,
                        "remaining_time": 15.33856576,
                        "test": [
                          0.4383014582,
                          0.8215488215
                        ]
                      },
                      {
                        "learn": [
                          0.4175336632,
                          0.835016835
                        ],
                        "iteration": 45,
                        "passed_time": 0.7346662423,
                        "remaining_time": 15.23633903,
                        "test": [
                          0.4371648447,
                          0.8215488215
                        ]
                      },
                      {
                        "learn": [
                          0.4159961848,
                          0.835016835
                        ],
                        "iteration": 46,
                        "passed_time": 0.7432535775,
                        "remaining_time": 15.07065233,
                        "test": [
                          0.4350740397,
                          0.8181818182
                        ]
                      },
                      {
                        "learn": [
                          0.4137205251,
                          0.835016835
                        ],
                        "iteration": 47,
                        "passed_time": 0.7557937598,
                        "remaining_time": 14.98990957,
                        "test": [
                          0.4338486408,
                          0.8148148148
                        ]
                      },
                      {
                        "learn": [
                          0.4118618819,
                          0.835016835
                        ],
                        "iteration": 48,
                        "passed_time": 0.7686700106,
                        "remaining_time": 14.91847306,
                        "test": [
                          0.432193663,
                          0.8181818182
                        ]
                      },
                      {
                        "learn": [
                          0.4106269001,
                          0.8367003367
                        ],
                        "iteration": 49,
                        "passed_time": 0.7880306845,
                        "remaining_time": 14.97258301,
                        "test": [
                          0.4315459375,
                          0.8148148148
                        ]
                      },
                      {
                        "learn": [
                          0.4094762745,
                          0.8400673401
                        ],
                        "iteration": 50,
                        "passed_time": 0.8023391997,
                        "remaining_time": 14.92980197,
                        "test": [
                          0.4302154086,
                          0.8148148148
                        ]
                      },
                      {
                        "learn": [
                          0.4076122415,
                          0.8400673401
                        ],
                        "iteration": 51,
                        "passed_time": 0.8185367418,
                        "remaining_time": 14.92255445,
                        "test": [
                          0.4278954477,
                          0.8148148148
                        ]
                      },
                      {
                        "learn": [
                          0.4073647894,
                          0.8400673401
                        ],
                        "iteration": 52,
                        "passed_time": 0.8238258235,
                        "remaining_time": 14.72005764,
                        "test": [
                          0.4276738422,
                          0.8148148148
                        ]
                      },
                      {
                        "learn": [
                          0.4053736809,
                          0.8417508418
                        ],
                        "iteration": 53,
                        "passed_time": 0.8406510155,
                        "remaining_time": 14.72696038,
                        "test": [
                          0.426664843,
                          0.8181818182
                        ]
                      },
                      {
                        "learn": [
                          0.4039319444,
                          0.8434343434
                        ],
                        "iteration": 54,
                        "passed_time": 0.8587434614,
                        "remaining_time": 14.75477402,
                        "test": [
                          0.4247094742,
                          0.8181818182
                        ]
                      },
                      {
                        "learn": [
                          0.4025542641,
                          0.8434343434
                        ],
                        "iteration": 55,
                        "passed_time": 0.8764153501,
                        "remaining_time": 14.77385876,
                        "test": [
                          0.4239115966,
                          0.8215488215
                        ]
                      },
                      {
                        "learn": [
                          0.4014956752,
                          0.8434343434
                        ],
                        "iteration": 56,
                        "passed_time": 0.8826904178,
                        "remaining_time": 14.60310639,
                        "test": [
                          0.4229210436,
                          0.8215488215
                        ]
                      },
                      {
                        "learn": [
                          0.4005121284,
                          0.8451178451
                        ],
                        "iteration": 57,
                        "passed_time": 0.8910501524,
                        "remaining_time": 14.47188351,
                        "test": [
                          0.4216034073,
                          0.8249158249
                        ]
                      },
                      {
                        "learn": [
                          0.3983319412,
                          0.8451178451
                        ],
                        "iteration": 58,
                        "passed_time": 0.9017873457,
                        "remaining_time": 14.38274394,
                        "test": [
                          0.4203725191,
                          0.8249158249
                        ]
                      },
                      {
                        "learn": [
                          0.3973877415,
                          0.8468013468
                        ],
                        "iteration": 59,
                        "passed_time": 0.9118837364,
                        "remaining_time": 14.28617854,
                        "test": [
                          0.4187488629,
                          0.8249158249
                        ]
                      },
                      {
                        "learn": [
                          0.3958838027,
                          0.8468013468
                        ],
                        "iteration": 60,
                        "passed_time": 0.9209353249,
                        "remaining_time": 14.17636508,
                        "test": [
                          0.4171613553,
                          0.8249158249
                        ]
                      },
                      {
                        "learn": [
                          0.3953346239,
                          0.8468013468
                        ],
                        "iteration": 61,
                        "passed_time": 0.9309547149,
                        "remaining_time": 14.08444391,
                        "test": [
                          0.4168861101,
                          0.8249158249
                        ]
                      },
                      {
                        "learn": [
                          0.3947879277,
                          0.8484848485
                        ],
                        "iteration": 62,
                        "passed_time": 0.9417332177,
                        "remaining_time": 14.0064131,
                        "test": [
                          0.4167066307,
                          0.8249158249
                        ]
                      },
                      {
                        "learn": [
                          0.3941314888,
                          0.8501683502
                        ],
                        "iteration": 63,
                        "passed_time": 0.9530730736,
                        "remaining_time": 13.9386937,
                        "test": [
                          0.4160594838,
                          0.8249158249
                        ]
                      },
                      {
                        "learn": [
                          0.3919593522,
                          0.8518518519
                        ],
                        "iteration": 64,
                        "passed_time": 0.9691168903,
                        "remaining_time": 13.94037373,
                        "test": [
                          0.4153543786,
                          0.8215488215
                        ]
                      },
                      {
                        "learn": [
                          0.3899959491,
                          0.8518518519
                        ],
                        "iteration": 65,
                        "passed_time": 0.9790441659,
                        "remaining_time": 13.85495835,
                        "test": [
                          0.4144640296,
                          0.8249158249
                        ]
                      },
                      {
                        "learn": [
                          0.389194993,
                          0.8518518519
                        ],
                        "iteration": 66,
                        "passed_time": 0.9905739102,
                        "remaining_time": 13.79411132,
                        "test": [
                          0.4134625394,
                          0.8249158249
                        ]
                      },
                      {
                        "learn": [
                          0.3878672596,
                          0.8518518519
                        ],
                        "iteration": 67,
                        "passed_time": 1.013601929,
                        "remaining_time": 13.89230879,
                        "test": [
                          0.4126944522,
                          0.8249158249
                        ]
                      },
                      {
                        "learn": [
                          0.3867103904,
                          0.8518518519
                        ],
                        "iteration": 68,
                        "passed_time": 1.024434705,
                        "remaining_time": 13.82244508,
                        "test": [
                          0.4113958119,
                          0.8282828283
                        ]
                      },
                      {
                        "learn": [
                          0.3854570801,
                          0.8518518519
                        ],
                        "iteration": 69,
                        "passed_time": 1.035264088,
                        "remaining_time": 13.75422288,
                        "test": [
                          0.4109422382,
                          0.8282828283
                        ]
                      },
                      {
                        "learn": [
                          0.3836151949,
                          0.8518518519
                        ],
                        "iteration": 70,
                        "passed_time": 1.074641104,
                        "remaining_time": 14.06114909,
                        "test": [
                          0.4103966988,
                          0.8249158249
                        ]
                      },
                      {
                        "learn": [
                          0.3826790414,
                          0.8518518519
                        ],
                        "iteration": 71,
                        "passed_time": 1.095123951,
                        "remaining_time": 14.11493092,
                        "test": [
                          0.409848642,
                          0.8249158249
                        ]
                      },
                      {
                        "learn": [
                          0.381378663,
                          0.8518518519
                        ],
                        "iteration": 72,
                        "passed_time": 1.113876782,
                        "remaining_time": 14.14470928,
                        "test": [
                          0.4096081991,
                          0.8249158249
                        ]
                      },
                      {
                        "learn": [
                          0.3805641164,
                          0.8501683502
                        ],
                        "iteration": 73,
                        "passed_time": 1.124986488,
                        "remaining_time": 14.07753362,
                        "test": [
                          0.4093646599,
                          0.8249158249
                        ]
                      },
                      {
                        "learn": [
                          0.3796622318,
                          0.8518518519
                        ],
                        "iteration": 74,
                        "passed_time": 1.134407642,
                        "remaining_time": 13.99102759,
                        "test": [
                          0.4088033984,
                          0.8249158249
                        ]
                      },
                      {
                        "learn": [
                          0.3791241307,
                          0.8518518519
                        ],
                        "iteration": 75,
                        "passed_time": 1.148555292,
                        "remaining_time": 13.96401433,
                        "test": [
                          0.4085745123,
                          0.8215488215
                        ]
                      },
                      {
                        "learn": [
                          0.3787703068,
                          0.8518518519
                        ],
                        "iteration": 76,
                        "passed_time": 1.153726755,
                        "remaining_time": 13.8297376,
                        "test": [
                          0.4083824398,
                          0.8249158249
                        ]
                      },
                      {
                        "learn": [
                          0.3784548846,
                          0.8518518519
                        ],
                        "iteration": 77,
                        "passed_time": 1.160894624,
                        "remaining_time": 13.72236979,
                        "test": [
                          0.408411766,
                          0.8249158249
                        ]
                      },
                      {
                        "learn": [
                          0.377696341,
                          0.8518518519
                        ],
                        "iteration": 78,
                        "passed_time": 1.239128519,
                        "remaining_time": 14.44604261,
                        "test": [
                          0.4078934424,
                          0.8215488215
                        ]
                      },
                      {
                        "learn": [
                          0.3768541323,
                          0.8535353535
                        ],
                        "iteration": 79,
                        "passed_time": 1.27312901,
                        "remaining_time": 14.64098362,
                        "test": [
                          0.4077420325,
                          0.8249158249
                        ]
                      },
                      {
                        "learn": [
                          0.3759575444,
                          0.8535353535
                        ],
                        "iteration": 80,
                        "passed_time": 1.287963877,
                        "remaining_time": 14.61282473,
                        "test": [
                          0.4065855633,
                          0.8249158249
                        ]
                      },
                      {
                        "learn": [
                          0.3751730467,
                          0.8518518519
                        ],
                        "iteration": 81,
                        "passed_time": 1.306509298,
                        "remaining_time": 14.62653092,
                        "test": [
                          0.4063963271,
                          0.8249158249
                        ]
                      },
                      {
                        "learn": [
                          0.3742266727,
                          0.8535353535
                        ],
                        "iteration": 82,
                        "passed_time": 1.31635385,
                        "remaining_time": 14.54333109,
                        "test": [
                          0.4062160021,
                          0.8215488215
                        ]
                      },
                      {
                        "learn": [
                          0.3734940472,
                          0.8535353535
                        ],
                        "iteration": 83,
                        "passed_time": 1.328747385,
                        "remaining_time": 14.48967386,
                        "test": [
                          0.4058415246,
                          0.8215488215
                        ]
                      },
                      {
                        "learn": [
                          0.3724656374,
                          0.8535353535
                        ],
                        "iteration": 84,
                        "passed_time": 1.354047815,
                        "remaining_time": 14.57592648,
                        "test": [
                          0.4055156718,
                          0.8215488215
                        ]
                      },
                      {
                        "learn": [
                          0.3716451583,
                          0.8535353535
                        ],
                        "iteration": 85,
                        "passed_time": 1.36684112,
                        "remaining_time": 14.52666028,
                        "test": [
                          0.4054899451,
                          0.8215488215
                        ]
                      },
                      {
                        "learn": [
                          0.3715577596,
                          0.8552188552
                        ],
                        "iteration": 86,
                        "passed_time": 1.377151581,
                        "remaining_time": 14.45217694,
                        "test": [
                          0.4052285724,
                          0.8249158249
                        ]
                      },
                      {
                        "learn": [
                          0.3705045953,
                          0.8552188552
                        ],
                        "iteration": 87,
                        "passed_time": 1.391677908,
                        "remaining_time": 14.42284378,
                        "test": [
                          0.404723896,
                          0.8215488215
                        ]
                      },
                      {
                        "learn": [
                          0.370371028,
                          0.8552188552
                        ],
                        "iteration": 88,
                        "passed_time": 1.398606632,
                        "remaining_time": 14.31607463,
                        "test": [
                          0.4046598368,
                          0.8215488215
                        ]
                      },
                      {
                        "learn": [
                          0.3694117328,
                          0.8552188552
                        ],
                        "iteration": 89,
                        "passed_time": 1.4271527,
                        "remaining_time": 14.43009953,
                        "test": [
                          0.405005129,
                          0.8215488215
                        ]
                      },
                      {
                        "learn": [
                          0.3686864367,
                          0.8552188552
                        ],
                        "iteration": 90,
                        "passed_time": 1.439103412,
                        "remaining_time": 14.3752198,
                        "test": [
                          0.4048516876,
                          0.8215488215
                        ]
                      },
                      {
                        "learn": [
                          0.3679847888,
                          0.8552188552
                        ],
                        "iteration": 91,
                        "passed_time": 1.473196665,
                        "remaining_time": 14.53981056,
                        "test": [
                          0.4045437044,
                          0.8249158249
                        ]
                      },
                      {
                        "learn": [
                          0.3673277559,
                          0.8552188552
                        ],
                        "iteration": 92,
                        "passed_time": 1.483879804,
                        "remaining_time": 14.47181701,
                        "test": [
                          0.404595446,
                          0.8215488215
                        ]
                      },
                      {
                        "learn": [
                          0.3670127562,
                          0.8552188552
                        ],
                        "iteration": 93,
                        "passed_time": 1.500944908,
                        "remaining_time": 14.46655411,
                        "test": [
                          0.4044586073,
                          0.8249158249
                        ]
                      },
                      {
                        "learn": [
                          0.3666536919,
                          0.8569023569
                        ],
                        "iteration": 94,
                        "passed_time": 1.529843357,
                        "remaining_time": 14.57377093,
                        "test": [
                          0.4040454789,
                          0.8215488215
                        ]
                      },
                      {
                        "learn": [
                          0.3662538199,
                          0.8585858586
                        ],
                        "iteration": 95,
                        "passed_time": 1.540720712,
                        "remaining_time": 14.50845338,
                        "test": [
                          0.4038597001,
                          0.8249158249
                        ]
                      },
                      {
                        "learn": [
                          0.3655419835,
                          0.8569023569
                        ],
                        "iteration": 96,
                        "passed_time": 1.561200138,
                        "remaining_time": 14.53364665,
                        "test": [
                          0.4036330147,
                          0.8181818182
                        ]
                      },
                      {
                        "learn": [
                          0.3647019271,
                          0.8585858586
                        ],
                        "iteration": 97,
                        "passed_time": 1.570188507,
                        "remaining_time": 14.4521432,
                        "test": [
                          0.4036358489,
                          0.8249158249
                        ]
                      },
                      {
                        "learn": [
                          0.3645075003,
                          0.8585858586
                        ],
                        "iteration": 98,
                        "passed_time": 1.58067792,
                        "remaining_time": 14.38576572,
                        "test": [
                          0.4033700206,
                          0.8249158249
                        ]
                      },
                      {
                        "learn": [
                          0.364388536,
                          0.8585858586
                        ],
                        "iteration": 99,
                        "passed_time": 1.585163528,
                        "remaining_time": 14.26647176,
                        "test": [
                          0.4034154945,
                          0.8215488215
                        ]
                      },
                      {
                        "learn": [
                          0.3638511154,
                          0.8585858586
                        ],
                        "iteration": 100,
                        "passed_time": 1.595996449,
                        "remaining_time": 14.20594859,
                        "test": [
                          0.403325594,
                          0.8215488215
                        ]
                      },
                      {
                        "learn": [
                          0.3631812541,
                          0.8602693603
                        ],
                        "iteration": 101,
                        "passed_time": 1.604413205,
                        "remaining_time": 14.12512802,
                        "test": [
                          0.4034758842,
                          0.8215488215
                        ]
                      },
                      {
                        "learn": [
                          0.3629843291,
                          0.8602693603
                        ],
                        "iteration": 102,
                        "passed_time": 1.609715134,
                        "remaining_time": 14.01858714,
                        "test": [
                          0.4033335172,
                          0.8215488215
                        ]
                      },
                      {
                        "learn": [
                          0.361968881,
                          0.8602693603
                        ],
                        "iteration": 103,
                        "passed_time": 1.62385005,
                        "remaining_time": 13.99009274,
                        "test": [
                          0.4034207301,
                          0.8249158249
                        ]
                      },
                      {
                        "learn": [
                          0.360052699,
                          0.8636363636
                        ],
                        "iteration": 104,
                        "passed_time": 1.651385223,
                        "remaining_time": 14.07609309,
                        "test": [
                          0.4031135494,
                          0.8282828283
                        ]
                      },
                      {
                        "learn": [
                          0.3596180332,
                          0.8636363636
                        ],
                        "iteration": 105,
                        "passed_time": 1.675142941,
                        "remaining_time": 14.12809235,
                        "test": [
                          0.4025001679,
                          0.8282828283
                        ]
                      },
                      {
                        "learn": [
                          0.3588771099,
                          0.8636363636
                        ],
                        "iteration": 106,
                        "passed_time": 1.704007075,
                        "remaining_time": 14.22129269,
                        "test": [
                          0.4023013134,
                          0.8282828283
                        ]
                      },
                      {
                        "learn": [
                          0.3582187584,
                          0.8653198653
                        ],
                        "iteration": 107,
                        "passed_time": 1.725913696,
                        "remaining_time": 14.25476867,
                        "test": [
                          0.402248751,
                          0.8282828283
                        ]
                      },
                      {
                        "learn": [
                          0.3577728174,
                          0.8653198653
                        ],
                        "iteration": 108,
                        "passed_time": 1.752002374,
                        "remaining_time": 14.3214139,
                        "test": [
                          0.4016400268,
                          0.8282828283
                        ]
                      },
                      {
                        "learn": [
                          0.3573359224,
                          0.867003367
                        ],
                        "iteration": 109,
                        "passed_time": 1.830857108,
                        "remaining_time": 14.81329842,
                        "test": [
                          0.4014396144,
                          0.8282828283
                        ]
                      },
                      {
                        "learn": [
                          0.3562764365,
                          0.867003367
                        ],
                        "iteration": 110,
                        "passed_time": 1.851126118,
                        "remaining_time": 14.82568576,
                        "test": [
                          0.4010316124,
                          0.8282828283
                        ]
                      },
                      {
                        "learn": [
                          0.3552931421,
                          0.867003367
                        ],
                        "iteration": 111,
                        "passed_time": 1.89037696,
                        "remaining_time": 14.98798876,
                        "test": [
                          0.400579286,
                          0.8282828283
                        ]
                      },
                      {
                        "learn": [
                          0.3549712845,
                          0.8653198653
                        ],
                        "iteration": 112,
                        "passed_time": 1.905556106,
                        "remaining_time": 14.95777227,
                        "test": [
                          0.4006098795,
                          0.8282828283
                        ]
                      },
                      {
                        "learn": [
                          0.3545441751,
                          0.8653198653
                        ],
                        "iteration": 113,
                        "passed_time": 1.929847699,
                        "remaining_time": 14.99864089,
                        "test": [
                          0.4001950311,
                          0.8282828283
                        ]
                      },
                      {
                        "learn": [
                          0.3543887999,
                          0.8653198653
                        ],
                        "iteration": 114,
                        "passed_time": 1.945554315,
                        "remaining_time": 14.97230929,
                        "test": [
                          0.4001247593,
                          0.8282828283
                        ]
                      },
                      {
                        "learn": [
                          0.3536709075,
                          0.8653198653
                        ],
                        "iteration": 115,
                        "passed_time": 1.994037594,
                        "remaining_time": 15.19594166,
                        "test": [
                          0.3994504598,
                          0.8282828283
                        ]
                      },
                      {
                        "learn": [
                          0.3536208353,
                          0.8653198653
                        ],
                        "iteration": 116,
                        "passed_time": 2.008295721,
                        "remaining_time": 15.15662497,
                        "test": [
                          0.3993718049,
                          0.8282828283
                        ]
                      },
                      {
                        "learn": [
                          0.3533956634,
                          0.8653198653
                        ],
                        "iteration": 117,
                        "passed_time": 2.02367167,
                        "remaining_time": 15.12608824,
                        "test": [
                          0.3993920342,
                          0.8282828283
                        ]
                      },
                      {
                        "learn": [
                          0.3527041754,
                          0.8636363636
                        ],
                        "iteration": 118,
                        "passed_time": 2.040195839,
                        "remaining_time": 15.10430701,
                        "test": [
                          0.398993454,
                          0.8282828283
                        ]
                      },
                      {
                        "learn": [
                          0.351238709,
                          0.8653198653
                        ],
                        "iteration": 119,
                        "passed_time": 2.064555819,
                        "remaining_time": 15.140076,
                        "test": [
                          0.3989058295,
                          0.8316498316
                        ]
                      },
                      {
                        "learn": [
                          0.3505596945,
                          0.867003367
                        ],
                        "iteration": 120,
                        "passed_time": 2.086251317,
                        "remaining_time": 15.1554951,
                        "test": [
                          0.3988021149,
                          0.8316498316
                        ]
                      },
                      {
                        "learn": [
                          0.3494961942,
                          0.8686868687
                        ],
                        "iteration": 121,
                        "passed_time": 2.1170949,
                        "remaining_time": 15.23614198,
                        "test": [
                          0.3987251829,
                          0.8316498316
                        ]
                      },
                      {
                        "learn": [
                          0.3481894933,
                          0.867003367
                        ],
                        "iteration": 122,
                        "passed_time": 2.140635056,
                        "remaining_time": 15.26290199,
                        "test": [
                          0.3990848503,
                          0.8282828283
                        ]
                      },
                      {
                        "learn": [
                          0.3477241344,
                          0.8686868687
                        ],
                        "iteration": 123,
                        "passed_time": 2.161916392,
                        "remaining_time": 15.27289322,
                        "test": [
                          0.399195079,
                          0.8282828283
                        ]
                      },
                      {
                        "learn": [
                          0.3477117655,
                          0.8686868687
                        ],
                        "iteration": 124,
                        "passed_time": 2.165735126,
                        "remaining_time": 15.16014588,
                        "test": [
                          0.3991845015,
                          0.8282828283
                        ]
                      },
                      {
                        "learn": [
                          0.3471374864,
                          0.8703703704
                        ],
                        "iteration": 125,
                        "passed_time": 2.184481462,
                        "remaining_time": 15.152673,
                        "test": [
                          0.3988341719,
                          0.8316498316
                        ]
                      },
                      {
                        "learn": [
                          0.3464961671,
                          0.8703703704
                        ],
                        "iteration": 126,
                        "passed_time": 2.21191746,
                        "remaining_time": 15.20475545,
                        "test": [
                          0.3986296553,
                          0.8282828283
                        ]
                      },
                      {
                        "learn": [
                          0.3460916463,
                          0.8703703704
                        ],
                        "iteration": 127,
                        "passed_time": 2.251757342,
                        "remaining_time": 15.34009689,
                        "test": [
                          0.3984400383,
                          0.8282828283
                        ]
                      },
                      {
                        "learn": [
                          0.3454864207,
                          0.8703703704
                        ],
                        "iteration": 128,
                        "passed_time": 2.332390843,
                        "remaining_time": 15.74815833,
                        "test": [
                          0.3983239973,
                          0.8282828283
                        ]
                      },
                      {
                        "learn": [
                          0.3450991255,
                          0.8720538721
                        ],
                        "iteration": 129,
                        "passed_time": 2.35170356,
                        "remaining_time": 15.73832382,
                        "test": [
                          0.3980746378,
                          0.8316498316
                        ]
                      },
                      {
                        "learn": [
                          0.3446915827,
                          0.8703703704
                        ],
                        "iteration": 130,
                        "passed_time": 2.380420421,
                        "remaining_time": 15.79072783,
                        "test": [
                          0.3977514778,
                          0.8282828283
                        ]
                      },
                      {
                        "learn": [
                          0.344070791,
                          0.8720538721
                        ],
                        "iteration": 131,
                        "passed_time": 2.410368009,
                        "remaining_time": 15.8499957,
                        "test": [
                          0.3973169419,
                          0.835016835
                        ]
                      },
                      {
                        "learn": [
                          0.34340909,
                          0.8720538721
                        ],
                        "iteration": 132,
                        "passed_time": 2.429810146,
                        "remaining_time": 15.83943907,
                        "test": [
                          0.3972384724,
                          0.835016835
                        ]
                      },
                      {
                        "learn": [
                          0.3434047065,
                          0.8720538721
                        ],
                        "iteration": 133,
                        "passed_time": 2.435642249,
                        "remaining_time": 15.74079245,
                        "test": [
                          0.3972459863,
                          0.835016835
                        ]
                      },
                      {
                        "learn": [
                          0.3433966757,
                          0.8720538721
                        ],
                        "iteration": 134,
                        "passed_time": 2.441950799,
                        "remaining_time": 15.64657364,
                        "test": [
                          0.397255846,
                          0.835016835
                        ]
                      },
                      {
                        "learn": [
                          0.3430562687,
                          0.8720538721
                        ],
                        "iteration": 135,
                        "passed_time": 2.460463693,
                        "remaining_time": 15.63118111,
                        "test": [
                          0.3967404852,
                          0.835016835
                        ]
                      },
                      {
                        "learn": [
                          0.3428871039,
                          0.8737373737
                        ],
                        "iteration": 136,
                        "passed_time": 2.470969503,
                        "remaining_time": 15.56530424,
                        "test": [
                          0.3967462483,
                          0.835016835
                        ]
                      },
                      {
                        "learn": [
                          0.3421285849,
                          0.8720538721
                        ],
                        "iteration": 137,
                        "passed_time": 2.495844124,
                        "remaining_time": 15.58998286,
                        "test": [
                          0.3969761349,
                          0.835016835
                        ]
                      },
                      {
                        "learn": [
                          0.3415576944,
                          0.8737373737
                        ],
                        "iteration": 138,
                        "passed_time": 2.516243,
                        "remaining_time": 15.58622463,
                        "test": [
                          0.396891707,
                          0.835016835
                        ]
                      },
                      {
                        "learn": [
                          0.3415023279,
                          0.8737373737
                        ],
                        "iteration": 139,
                        "passed_time": 2.5226937,
                        "remaining_time": 15.49654701,
                        "test": [
                          0.3968843579,
                          0.835016835
                        ]
                      },
                      {
                        "learn": [
                          0.3405903092,
                          0.8737373737
                        ],
                        "iteration": 140,
                        "passed_time": 2.542509257,
                        "remaining_time": 15.48947129,
                        "test": [
                          0.396951564,
                          0.8316498316
                        ]
                      },
                      {
                        "learn": [
                          0.3403997066,
                          0.8737373737
                        ],
                        "iteration": 141,
                        "passed_time": 2.564653008,
                        "remaining_time": 15.49628367,
                        "test": [
                          0.3969488295,
                          0.8316498316
                        ]
                      },
                      {
                        "learn": [
                          0.3403834821,
                          0.8737373737
                        ],
                        "iteration": 142,
                        "passed_time": 2.568465478,
                        "remaining_time": 15.39283157,
                        "test": [
                          0.3969829464,
                          0.8316498316
                        ]
                      },
                      {
                        "learn": [
                          0.3396539835,
                          0.8737373737
                        ],
                        "iteration": 143,
                        "passed_time": 2.588885234,
                        "remaining_time": 15.38948445,
                        "test": [
                          0.3970886407,
                          0.8316498316
                        ]
                      },
                      {
                        "learn": [
                          0.3388245365,
                          0.8737373737
                        ],
                        "iteration": 144,
                        "passed_time": 2.609464293,
                        "remaining_time": 15.38684118,
                        "test": [
                          0.3969604932,
                          0.8316498316
                        ]
                      },
                      {
                        "learn": [
                          0.3381778698,
                          0.8720538721
                        ],
                        "iteration": 145,
                        "passed_time": 2.632437451,
                        "remaining_time": 15.39795605,
                        "test": [
                          0.3962699084,
                          0.8316498316
                        ]
                      },
                      {
                        "learn": [
                          0.3372533018,
                          0.8754208754
                        ],
                        "iteration": 146,
                        "passed_time": 2.653670575,
                        "remaining_time": 15.39851021,
                        "test": [
                          0.3965282554,
                          0.8316498316
                        ]
                      },
                      {
                        "learn": [
                          0.3364104735,
                          0.8737373737
                        ],
                        "iteration": 147,
                        "passed_time": 2.686661156,
                        "remaining_time": 15.46645476,
                        "test": [
                          0.3964181646,
                          0.8316498316
                        ]
                      },
                      {
                        "learn": [
                          0.3359026049,
                          0.8754208754
                        ],
                        "iteration": 148,
                        "passed_time": 2.720865513,
                        "remaining_time": 15.53997686,
                        "test": [
                          0.3968651045,
                          0.8316498316
                        ]
                      },
                      {
                        "learn": [
                          0.3354453442,
                          0.8754208754
                        ],
                        "iteration": 149,
                        "passed_time": 2.747493027,
                        "remaining_time": 15.56912715,
                        "test": [
                          0.3970312296,
                          0.8316498316
                        ]
                      },
                      {
                        "learn": [
                          0.3354453384,
                          0.8754208754
                        ],
                        "iteration": 150,
                        "passed_time": 2.749862672,
                        "remaining_time": 15.4611484,
                        "test": [
                          0.3970307115,
                          0.8316498316
                        ]
                      },
                      {
                        "learn": [
                          0.3351264819,
                          0.8754208754
                        ],
                        "iteration": 151,
                        "passed_time": 2.772884702,
                        "remaining_time": 15.46977781,
                        "test": [
                          0.3969240519,
                          0.8316498316
                        ]
                      },
                      {
                        "learn": [
                          0.3351142065,
                          0.8754208754
                        ],
                        "iteration": 152,
                        "passed_time": 2.782073468,
                        "remaining_time": 15.40141325,
                        "test": [
                          0.3969204419,
                          0.8316498316
                        ]
                      },
                      {
                        "learn": [
                          0.334555195,
                          0.8771043771
                        ],
                        "iteration": 153,
                        "passed_time": 2.798027937,
                        "remaining_time": 15.37098464,
                        "test": [
                          0.3967676946,
                          0.8316498316
                        ]
                      },
                      {
                        "learn": [
                          0.3343102109,
                          0.8787878788
                        ],
                        "iteration": 154,
                        "passed_time": 2.814824718,
                        "remaining_time": 15.34533475,
                        "test": [
                          0.396685713,
                          0.8316498316
                        ]
                      },
                      {
                        "learn": [
                          0.3337240944,
                          0.8771043771
                        ],
                        "iteration": 155,
                        "passed_time": 2.829445312,
                        "remaining_time": 15.30802464,
                        "test": [
                          0.3963691575,
                          0.8316498316
                        ]
                      },
                      {
                        "learn": [
                          0.3333109308,
                          0.8804713805
                        ],
                        "iteration": 156,
                        "passed_time": 2.858996209,
                        "remaining_time": 15.35117073,
                        "test": [
                          0.3962759833,
                          0.8316498316
                        ]
                      },
                      {
                        "learn": [
                          0.3327514001,
                          0.8787878788
                        ],
                        "iteration": 157,
                        "passed_time": 2.87159827,
                        "remaining_time": 15.30307432,
                        "test": [
                          0.3957738824,
                          0.8316498316
                        ]
                      },
                      {
                        "learn": [
                          0.3326532304,
                          0.8804713805
                        ],
                        "iteration": 158,
                        "passed_time": 2.880216131,
                        "remaining_time": 15.23435073,
                        "test": [
                          0.3956598335,
                          0.8316498316
                        ]
                      },
                      {
                        "learn": [
                          0.3323405774,
                          0.8804713805
                        ],
                        "iteration": 159,
                        "passed_time": 2.896698514,
                        "remaining_time": 15.2076672,
                        "test": [
                          0.3955536165,
                          0.8316498316
                        ]
                      },
                      {
                        "learn": [
                          0.3323244825,
                          0.8804713805
                        ],
                        "iteration": 160,
                        "passed_time": 2.904017886,
                        "remaining_time": 15.13336029,
                        "test": [
                          0.3955672028,
                          0.8316498316
                        ]
                      },
                      {
                        "learn": [
                          0.3322423579,
                          0.8804713805
                        ],
                        "iteration": 161,
                        "passed_time": 2.922885176,
                        "remaining_time": 15.11961591,
                        "test": [
                          0.3956276858,
                          0.8316498316
                        ]
                      },
                      {
                        "learn": [
                          0.3318692997,
                          0.8804713805
                        ],
                        "iteration": 162,
                        "passed_time": 2.937034692,
                        "remaining_time": 15.08158305,
                        "test": [
                          0.3960308929,
                          0.8316498316
                        ]
                      },
                      {
                        "learn": [
                          0.3307751097,
                          0.8804713805
                        ],
                        "iteration": 163,
                        "passed_time": 2.950353175,
                        "remaining_time": 15.03960521,
                        "test": [
                          0.3957765148,
                          0.835016835
                        ]
                      },
                      {
                        "learn": [
                          0.3306923698,
                          0.8804713805
                        ],
                        "iteration": 164,
                        "passed_time": 2.958902013,
                        "remaining_time": 14.97383746,
                        "test": [
                          0.3957959113,
                          0.835016835
                        ]
                      },
                      {
                        "learn": [
                          0.3299635474,
                          0.8804713805
                        ],
                        "iteration": 165,
                        "passed_time": 2.978165757,
                        "remaining_time": 14.96259182,
                        "test": [
                          0.3952683808,
                          0.835016835
                        ]
                      },
                      {
                        "learn": [
                          0.3299285741,
                          0.8804713805
                        ],
                        "iteration": 166,
                        "passed_time": 2.989154867,
                        "remaining_time": 14.90997607,
                        "test": [
                          0.3952756271,
                          0.835016835
                        ]
                      },
                      {
                        "learn": [
                          0.3286889335,
                          0.8804713805
                        ],
                        "iteration": 167,
                        "passed_time": 3.014043123,
                        "remaining_time": 14.92668975,
                        "test": [
                          0.3950068806,
                          0.835016835
                        ]
                      },
                      {
                        "learn": [
                          0.3285737993,
                          0.8821548822
                        ],
                        "iteration": 168,
                        "passed_time": 3.028329453,
                        "remaining_time": 14.89077974,
                        "test": [
                          0.3949625804,
                          0.835016835
                        ]
                      },
                      {
                        "learn": [
                          0.3283200201,
                          0.8804713805
                        ],
                        "iteration": 169,
                        "passed_time": 3.04692283,
                        "remaining_time": 14.87615264,
                        "test": [
                          0.3945820831,
                          0.835016835
                        ]
                      },
                      {
                        "learn": [
                          0.3277841964,
                          0.8804713805
                        ],
                        "iteration": 170,
                        "passed_time": 3.06901912,
                        "remaining_time": 14.87846112,
                        "test": [
                          0.3942699792,
                          0.835016835
                        ]
                      },
                      {
                        "learn": [
                          0.3274242575,
                          0.8804713805
                        ],
                        "iteration": 171,
                        "passed_time": 3.089330142,
                        "remaining_time": 14.87189162,
                        "test": [
                          0.3941385485,
                          0.835016835
                        ]
                      },
                      {
                        "learn": [
                          0.3260954924,
                          0.8804713805
                        ],
                        "iteration": 172,
                        "passed_time": 3.107515058,
                        "remaining_time": 14.85499973,
                        "test": [
                          0.3942017543,
                          0.835016835
                        ]
                      },
                      {
                        "learn": [
                          0.3256705055,
                          0.8804713805
                        ],
                        "iteration": 173,
                        "passed_time": 3.126489693,
                        "remaining_time": 14.84184187,
                        "test": [
                          0.3940914524,
                          0.835016835
                        ]
                      },
                      {
                        "learn": [
                          0.3248918605,
                          0.8821548822
                        ],
                        "iteration": 174,
                        "passed_time": 3.144924846,
                        "remaining_time": 14.82607427,
                        "test": [
                          0.3940605083,
                          0.835016835
                        ]
                      },
                      {
                        "learn": [
                          0.3239175377,
                          0.8838383838
                        ],
                        "iteration": 175,
                        "passed_time": 3.164332513,
                        "remaining_time": 14.81482949,
                        "test": [
                          0.3942769144,
                          0.835016835
                        ]
                      },
                      {
                        "learn": [
                          0.3238809219,
                          0.8838383838
                        ],
                        "iteration": 176,
                        "passed_time": 3.176838595,
                        "remaining_time": 14.77140206,
                        "test": [
                          0.3943772951,
                          0.835016835
                        ]
                      },
                      {
                        "learn": [
                          0.3235535352,
                          0.8838383838
                        ],
                        "iteration": 177,
                        "passed_time": 3.191259915,
                        "remaining_time": 14.73716658,
                        "test": [
                          0.3941914107,
                          0.835016835
                        ]
                      },
                      {
                        "learn": [
                          0.3235268127,
                          0.8838383838
                        ],
                        "iteration": 178,
                        "passed_time": 3.198814256,
                        "remaining_time": 14.67165645,
                        "test": [
                          0.3941888621,
                          0.835016835
                        ]
                      },
                      {
                        "learn": [
                          0.3226524037,
                          0.8872053872
                        ],
                        "iteration": 179,
                        "passed_time": 3.216417835,
                        "remaining_time": 14.65257014,
                        "test": [
                          0.3939768637,
                          0.835016835
                        ]
                      },
                      {
                        "learn": [
                          0.3215985047,
                          0.8872053872
                        ],
                        "iteration": 180,
                        "passed_time": 3.238507638,
                        "remaining_time": 14.65379976,
                        "test": [
                          0.3935955148,
                          0.8316498316
                        ]
                      },
                      {
                        "learn": [
                          0.3211406246,
                          0.8872053872
                        ],
                        "iteration": 181,
                        "passed_time": 3.255110377,
                        "remaining_time": 14.63011148,
                        "test": [
                          0.3936810468,
                          0.8316498316
                        ]
                      },
                      {
                        "learn": [
                          0.3209340189,
                          0.8872053872
                        ],
                        "iteration": 182,
                        "passed_time": 3.285026602,
                        "remaining_time": 14.66593843,
                        "test": [
                          0.3935183319,
                          0.8316498316
                        ]
                      },
                      {
                        "learn": [
                          0.3199435066,
                          0.8872053872
                        ],
                        "iteration": 183,
                        "passed_time": 3.316372614,
                        "remaining_time": 14.70739159,
                        "test": [
                          0.3927037564,
                          0.8316498316
                        ]
                      },
                      {
                        "learn": [
                          0.319525873,
                          0.8905723906
                        ],
                        "iteration": 184,
                        "passed_time": 3.43104377,
                        "remaining_time": 15.11513877,
                        "test": [
                          0.3928765697,
                          0.8316498316
                        ]
                      },
                      {
                        "learn": [
                          0.3191391382,
                          0.8905723906
                        ],
                        "iteration": 185,
                        "passed_time": 3.461632685,
                        "remaining_time": 15.14929573,
                        "test": [
                          0.3929181501,
                          0.8316498316
                        ]
                      },
                      {
                        "learn": [
                          0.3191152116,
                          0.8905723906
                        ],
                        "iteration": 186,
                        "passed_time": 3.483754085,
                        "remaining_time": 15.1459469,
                        "test": [
                          0.3929204642,
                          0.8316498316
                        ]
                      },
                      {
                        "learn": [
                          0.3191099379,
                          0.8905723906
                        ],
                        "iteration": 187,
                        "passed_time": 3.490131758,
                        "remaining_time": 15.07439887,
                        "test": [
                          0.3929193206,
                          0.8316498316
                        ]
                      },
                      {
                        "learn": [
                          0.3190848038,
                          0.8905723906
                        ],
                        "iteration": 188,
                        "passed_time": 3.506710708,
                        "remaining_time": 15.0473142,
                        "test": [
                          0.3929185792,
                          0.8316498316
                        ]
                      },
                      {
                        "learn": [
                          0.31903275,
                          0.8905723906
                        ],
                        "iteration": 189,
                        "passed_time": 3.51871279,
                        "remaining_time": 15.00082821,
                        "test": [
                          0.3929059734,
                          0.8316498316
                        ]
                      },
                      {
                        "learn": [
                          0.3185910456,
                          0.8905723906
                        ],
                        "iteration": 190,
                        "passed_time": 3.545124831,
                        "remaining_time": 15.01573816,
                        "test": [
                          0.3927317945,
                          0.8316498316
                        ]
                      },
                      {
                        "learn": [
                          0.3179628121,
                          0.8888888889
                        ],
                        "iteration": 191,
                        "passed_time": 3.566854188,
                        "remaining_time": 15.01051138,
                        "test": [
                          0.39294988,
                          0.8282828283
                        ]
                      },
                      {
                        "learn": [
                          0.3178468702,
                          0.8888888889
                        ],
                        "iteration": 192,
                        "passed_time": 3.584284069,
                        "remaining_time": 14.98713598,
                        "test": [
                          0.3929013837,
                          0.8282828283
                        ]
                      },
                      {
                        "learn": [
                          0.3175175991,
                          0.8905723906
                        ],
                        "iteration": 193,
                        "passed_time": 3.604233624,
                        "remaining_time": 14.97429021,
                        "test": [
                          0.3930550057,
                          0.8282828283
                        ]
                      },
                      {
                        "learn": [
                          0.3171046909,
                          0.8922558923
                        ],
                        "iteration": 194,
                        "passed_time": 3.628835531,
                        "remaining_time": 14.98057745,
                        "test": [
                          0.3932959143,
                          0.8282828283
                        ]
                      },
                      {
                        "learn": [
                          0.3169389031,
                          0.8922558923
                        ],
                        "iteration": 195,
                        "passed_time": 3.647686025,
                        "remaining_time": 14.96295696,
                        "test": [
                          0.3931073971,
                          0.8282828283
                        ]
                      },
                      {
                        "learn": [
                          0.3162864854,
                          0.8939393939
                        ],
                        "iteration": 196,
                        "passed_time": 3.669032522,
                        "remaining_time": 14.95549805,
                        "test": [
                          0.3930834358,
                          0.8282828283
                        ]
                      },
                      {
                        "learn": [
                          0.316245103,
                          0.8939393939
                        ],
                        "iteration": 197,
                        "passed_time": 3.677208709,
                        "remaining_time": 14.89455245,
                        "test": [
                          0.3930822126,
                          0.8282828283
                        ]
                      },
                      {
                        "learn": [
                          0.3160327331,
                          0.8939393939
                        ],
                        "iteration": 198,
                        "passed_time": 3.691666236,
                        "remaining_time": 14.85942038,
                        "test": [
                          0.3930064832,
                          0.8282828283
                        ]
                      },
                      {
                        "learn": [
                          0.3151298288,
                          0.8939393939
                        ],
                        "iteration": 199,
                        "passed_time": 3.711807136,
                        "remaining_time": 14.84722854,
                        "test": [
                          0.3927170782,
                          0.8282828283
                        ]
                      },
                      {
                        "learn": [
                          0.314121467,
                          0.8922558923
                        ],
                        "iteration": 200,
                        "passed_time": 3.725824942,
                        "remaining_time": 14.81061755,
                        "test": [
                          0.3921516344,
                          0.8249158249
                        ]
                      },
                      {
                        "learn": [
                          0.3137593984,
                          0.8922558923
                        ],
                        "iteration": 201,
                        "passed_time": 3.740603167,
                        "remaining_time": 14.77723429,
                        "test": [
                          0.3922867386,
                          0.8249158249
                        ]
                      },
                      {
                        "learn": [
                          0.3133333627,
                          0.8922558923
                        ],
                        "iteration": 202,
                        "passed_time": 3.754519033,
                        "remaining_time": 14.74064862,
                        "test": [
                          0.3922930438,
                          0.8249158249
                        ]
                      },
                      {
                        "learn": [
                          0.3128184505,
                          0.8939393939
                        ],
                        "iteration": 203,
                        "passed_time": 3.766521895,
                        "remaining_time": 14.69682073,
                        "test": [
                          0.3920007613,
                          0.8249158249
                        ]
                      },
                      {
                        "learn": [
                          0.3118714061,
                          0.8939393939
                        ],
                        "iteration": 204,
                        "passed_time": 3.780093415,
                        "remaining_time": 14.65938666,
                        "test": [
                          0.3924486206,
                          0.8249158249
                        ]
                      },
                      {
                        "learn": [
                          0.3115632582,
                          0.8922558923
                        ],
                        "iteration": 205,
                        "passed_time": 3.803119979,
                        "remaining_time": 14.65862749,
                        "test": [
                          0.3924062769,
                          0.8249158249
                        ]
                      },
                      {
                        "learn": [
                          0.3114609682,
                          0.8939393939
                        ],
                        "iteration": 206,
                        "passed_time": 3.81411247,
                        "remaining_time": 14.61155164,
                        "test": [
                          0.3924149705,
                          0.8249158249
                        ]
                      },
                      {
                        "learn": [
                          0.3114208917,
                          0.8939393939
                        ],
                        "iteration": 207,
                        "passed_time": 3.818018071,
                        "remaining_time": 14.53783804,
                        "test": [
                          0.3924137713,
                          0.8249158249
                        ]
                      },
                      {
                        "learn": [
                          0.311284062,
                          0.8939393939
                        ],
                        "iteration": 208,
                        "passed_time": 3.82767988,
                        "remaining_time": 14.48657792,
                        "test": [
                          0.3924273172,
                          0.8215488215
                        ]
                      },
                      {
                        "learn": [
                          0.3110839686,
                          0.8939393939
                        ],
                        "iteration": 209,
                        "passed_time": 3.839106038,
                        "remaining_time": 14.44235129,
                        "test": [
                          0.3924882542,
                          0.8215488215
                        ]
                      },
                      {
                        "learn": [
                          0.3101721835,
                          0.8939393939
                        ],
                        "iteration": 210,
                        "passed_time": 3.853037224,
                        "remaining_time": 14.4078027,
                        "test": [
                          0.39218262,
                          0.8215488215
                        ]
                      },
                      {
                        "learn": [
                          0.3096056628,
                          0.8939393939
                        ],
                        "iteration": 211,
                        "passed_time": 3.866301184,
                        "remaining_time": 14.37096855,
                        "test": [
                          0.3920816261,
                          0.8215488215
                        ]
                      },
                      {
                        "learn": [
                          0.3093584535,
                          0.8939393939
                        ],
                        "iteration": 212,
                        "passed_time": 3.879774758,
                        "remaining_time": 14.33513021,
                        "test": [
                          0.3921255196,
                          0.8215488215
                        ]
                      },
                      {
                        "learn": [
                          0.3078816364,
                          0.8956228956
                        ],
                        "iteration": 213,
                        "passed_time": 3.896511203,
                        "remaining_time": 14.31148507,
                        "test": [
                          0.3914901263,
                          0.8249158249
                        ]
                      },
                      {
                        "learn": [
                          0.3072651172,
                          0.8956228956
                        ],
                        "iteration": 214,
                        "passed_time": 3.929824245,
                        "remaining_time": 14.34842806,
                        "test": [
                          0.3913164143,
                          0.8249158249
                        ]
                      },
                      {
                        "learn": [
                          0.3072595532,
                          0.8956228956
                        ],
                        "iteration": 215,
                        "passed_time": 3.938301233,
                        "remaining_time": 14.29457485,
                        "test": [
                          0.3913012667,
                          0.8249158249
                        ]
                      },
                      {
                        "learn": [
                          0.3071179458,
                          0.8956228956
                        ],
                        "iteration": 216,
                        "passed_time": 3.966762375,
                        "remaining_time": 14.31324857,
                        "test": [
                          0.391372811,
                          0.8215488215
                        ]
                      },
                      {
                        "learn": [
                          0.3066032502,
                          0.8973063973
                        ],
                        "iteration": 217,
                        "passed_time": 3.996166247,
                        "remaining_time": 14.33487158,
                        "test": [
                          0.3910761179,
                          0.8215488215
                        ]
                      },
                      {
                        "learn": [
                          0.3063360312,
                          0.8973063973
                        ],
                        "iteration": 218,
                        "passed_time": 4.0153541,
                        "remaining_time": 14.31959613,
                        "test": [
                          0.3909857813,
                          0.8215488215
                        ]
                      },
                      {
                        "learn": [
                          0.3059426864,
                          0.8973063973
                        ],
                        "iteration": 219,
                        "passed_time": 4.031978605,
                        "remaining_time": 14.29519687,
                        "test": [
                          0.3911488806,
                          0.8215488215
                        ]
                      },
                      {
                        "learn": [
                          0.3047994963,
                          0.8973063973
                        ],
                        "iteration": 220,
                        "passed_time": 4.047436191,
                        "remaining_time": 14.26675472,
                        "test": [
                          0.3905813378,
                          0.8215488215
                        ]
                      },
                      {
                        "learn": [
                          0.3042283276,
                          0.898989899
                        ],
                        "iteration": 221,
                        "passed_time": 4.0603508,
                        "remaining_time": 14.22951767,
                        "test": [
                          0.3904749566,
                          0.8249158249
                        ]
                      },
                      {
                        "learn": [
                          0.3038116722,
                          0.898989899
                        ],
                        "iteration": 222,
                        "passed_time": 4.097029882,
                        "remaining_time": 14.27530143,
                        "test": [
                          0.3905247696,
                          0.8249158249
                        ]
                      },
                      {
                        "learn": [
                          0.3032868655,
                          0.898989899
                        ],
                        "iteration": 223,
                        "passed_time": 4.121863191,
                        "remaining_time": 14.27931177,
                        "test": [
                          0.3904943761,
                          0.8249158249
                        ]
                      },
                      {
                        "learn": [
                          0.3030132938,
                          0.898989899
                        ],
                        "iteration": 224,
                        "passed_time": 4.142000146,
                        "remaining_time": 14.26688939,
                        "test": [
                          0.3903450266,
                          0.8249158249
                        ]
                      },
                      {
                        "learn": [
                          0.3025946243,
                          0.9006734007
                        ],
                        "iteration": 225,
                        "passed_time": 4.187266827,
                        "remaining_time": 14.34046249,
                        "test": [
                          0.3902978802,
                          0.8282828283
                        ]
                      },
                      {
                        "learn": [
                          0.3018982227,
                          0.904040404
                        ],
                        "iteration": 226,
                        "passed_time": 4.219237481,
                        "remaining_time": 14.36771177,
                        "test": [
                          0.3903253639,
                          0.8282828283
                        ]
                      },
                      {
                        "learn": [
                          0.3017452963,
                          0.904040404
                        ],
                        "iteration": 227,
                        "passed_time": 4.249034621,
                        "remaining_time": 14.38708214,
                        "test": [
                          0.390374951,
                          0.8249158249
                        ]
                      },
                      {
                        "learn": [
                          0.3013793543,
                          0.904040404
                        ],
                        "iteration": 228,
                        "passed_time": 4.270239358,
                        "remaining_time": 14.37709408,
                        "test": [
                          0.3902954109,
                          0.8249158249
                        ]
                      },
                      {
                        "learn": [
                          0.3008145487,
                          0.9006734007
                        ],
                        "iteration": 229,
                        "passed_time": 4.292364781,
                        "remaining_time": 14.37009079,
                        "test": [
                          0.3902998051,
                          0.8249158249
                        ]
                      },
                      {
                        "learn": [
                          0.300379626,
                          0.9023569024
                        ],
                        "iteration": 230,
                        "passed_time": 4.307767834,
                        "remaining_time": 14.34057777,
                        "test": [
                          0.3902024671,
                          0.8249158249
                        ]
                      },
                      {
                        "learn": [
                          0.3000399404,
                          0.9023569024
                        ],
                        "iteration": 231,
                        "passed_time": 4.321022059,
                        "remaining_time": 14.30407302,
                        "test": [
                          0.3901781678,
                          0.8249158249
                        ]
                      },
                      {
                        "learn": [
                          0.2996429907,
                          0.9023569024
                        ],
                        "iteration": 232,
                        "passed_time": 4.334877355,
                        "remaining_time": 14.26974649,
                        "test": [
                          0.3901251532,
                          0.8282828283
                        ]
                      },
                      {
                        "learn": [
                          0.2988869439,
                          0.9006734007
                        ],
                        "iteration": 233,
                        "passed_time": 4.348389736,
                        "remaining_time": 14.23447238,
                        "test": [
                          0.3907325516,
                          0.8282828283
                        ]
                      },
                      {
                        "learn": [
                          0.2988514228,
                          0.9006734007
                        ],
                        "iteration": 234,
                        "passed_time": 4.355923795,
                        "remaining_time": 14.17992214,
                        "test": [
                          0.3907324113,
                          0.8282828283
                        ]
                      },
                      {
                        "learn": [
                          0.2985649217,
                          0.9023569024
                        ],
                        "iteration": 235,
                        "passed_time": 4.379866207,
                        "remaining_time": 14.17888891,
                        "test": [
                          0.3909793639,
                          0.8282828283
                        ]
                      },
                      {
                        "learn": [
                          0.2984364282,
                          0.9023569024
                        ],
                        "iteration": 236,
                        "passed_time": 4.403971031,
                        "remaining_time": 14.17818522,
                        "test": [
                          0.3909523254,
                          0.8282828283
                        ]
                      },
                      {
                        "learn": [
                          0.2979280796,
                          0.904040404
                        ],
                        "iteration": 237,
                        "passed_time": 4.419884304,
                        "remaining_time": 14.15105815,
                        "test": [
                          0.3908269993,
                          0.8282828283
                        ]
                      },
                      {
                        "learn": [
                          0.297882495,
                          0.904040404
                        ],
                        "iteration": 238,
                        "passed_time": 4.428438628,
                        "remaining_time": 14.10059329,
                        "test": [
                          0.3908290238,
                          0.8282828283
                        ]
                      },
                      {
                        "learn": [
                          0.2978513066,
                          0.904040404
                        ],
                        "iteration": 239,
                        "passed_time": 4.433088539,
                        "remaining_time": 14.03811371,
                        "test": [
                          0.3908286154,
                          0.8282828283
                        ]
                      },
                      {
                        "learn": [
                          0.2972775653,
                          0.904040404
                        ],
                        "iteration": 240,
                        "passed_time": 4.550937203,
                        "remaining_time": 14.33261965,
                        "test": [
                          0.3916735767,
                          0.8282828283
                        ]
                      },
                      {
                        "learn": [
                          0.2972474211,
                          0.904040404
                        ],
                        "iteration": 241,
                        "passed_time": 4.559571042,
                        "remaining_time": 14.28163161,
                        "test": [
                          0.391673065,
                          0.8282828283
                        ]
                      },
                      {
                        "learn": [
                          0.2969036499,
                          0.904040404
                        ],
                        "iteration": 242,
                        "passed_time": 4.58447746,
                        "remaining_time": 14.28168493,
                        "test": [
                          0.3917466962,
                          0.8282828283
                        ]
                      },
                      {
                        "learn": [
                          0.2961711504,
                          0.904040404
                        ],
                        "iteration": 243,
                        "passed_time": 4.603868815,
                        "remaining_time": 14.264446,
                        "test": [
                          0.3919041373,
                          0.8282828283
                        ]
                      },
                      {
                        "learn": [
                          0.2957826879,
                          0.904040404
                        ],
                        "iteration": 244,
                        "passed_time": 4.67321318,
                        "remaining_time": 14.40112633,
                        "test": [
                          0.3918341994,
                          0.8316498316
                        ]
                      },
                      {
                        "learn": [
                          0.2954918945,
                          0.904040404
                        ],
                        "iteration": 245,
                        "passed_time": 4.717856421,
                        "remaining_time": 14.46042171,
                        "test": [
                          0.3918570385,
                          0.8316498316
                        ]
                      },
                      {
                        "learn": [
                          0.2952261664,
                          0.904040404
                        ],
                        "iteration": 246,
                        "passed_time": 4.748553356,
                        "remaining_time": 14.47635902,
                        "test": [
                          0.3919014554,
                          0.8316498316
                        ]
                      },
                      {
                        "learn": [
                          0.2947085458,
                          0.904040404
                        ],
                        "iteration": 247,
                        "passed_time": 4.773560747,
                        "remaining_time": 14.47466807,
                        "test": [
                          0.3918149905,
                          0.8316498316
                        ]
                      },
                      {
                        "learn": [
                          0.2942093976,
                          0.904040404
                        ],
                        "iteration": 248,
                        "passed_time": 4.798083772,
                        "remaining_time": 14.47132897,
                        "test": [
                          0.3916959633,
                          0.8316498316
                        ]
                      },
                      {
                        "learn": [
                          0.2940891736,
                          0.904040404
                        ],
                        "iteration": 249,
                        "passed_time": 4.834230345,
                        "remaining_time": 14.50269103,
                        "test": [
                          0.3917750907,
                          0.8316498316
                        ]
                      },
                      {
                        "learn": [
                          0.2935526229,
                          0.904040404
                        ],
                        "iteration": 250,
                        "passed_time": 4.865340776,
                        "remaining_time": 14.51848702,
                        "test": [
                          0.3921047558,
                          0.8316498316
                        ]
                      },
                      {
                        "learn": [
                          0.2931173658,
                          0.9023569024
                        ],
                        "iteration": 251,
                        "passed_time": 4.908844715,
                        "remaining_time": 14.57069781,
                        "test": [
                          0.3922712223,
                          0.8316498316
                        ]
                      },
                      {
                        "learn": [
                          0.292536764,
                          0.9023569024
                        ],
                        "iteration": 252,
                        "passed_time": 4.948155491,
                        "remaining_time": 14.60977135,
                        "test": [
                          0.3922658241,
                          0.8316498316
                        ]
                      },
                      {
                        "learn": [
                          0.292041485,
                          0.904040404
                        ],
                        "iteration": 253,
                        "passed_time": 5.003626617,
                        "remaining_time": 14.69569077,
                        "test": [
                          0.3920854148,
                          0.8316498316
                        ]
                      },
                      {
                        "learn": [
                          0.291959261,
                          0.9023569024
                        ],
                        "iteration": 254,
                        "passed_time": 5.056545004,
                        "remaining_time": 14.77304325,
                        "test": [
                          0.3921332674,
                          0.8316498316
                        ]
                      },
                      {
                        "learn": [
                          0.2919308845,
                          0.904040404
                        ],
                        "iteration": 255,
                        "passed_time": 5.07541463,
                        "remaining_time": 14.75042377,
                        "test": [
                          0.3921322843,
                          0.8316498316
                        ]
                      },
                      {
                        "learn": [
                          0.2918928255,
                          0.904040404
                        ],
                        "iteration": 256,
                        "passed_time": 5.094195886,
                        "remaining_time": 14.72757799,
                        "test": [
                          0.3921336556,
                          0.8316498316
                        ]
                      },
                      {
                        "learn": [
                          0.2918287815,
                          0.904040404
                        ],
                        "iteration": 257,
                        "passed_time": 5.140973851,
                        "remaining_time": 14.78528139,
                        "test": [
                          0.3921447451,
                          0.8316498316
                        ]
                      },
                      {
                        "learn": [
                          0.2915398106,
                          0.9057239057
                        ],
                        "iteration": 258,
                        "passed_time": 5.193057035,
                        "remaining_time": 14.85735623,
                        "test": [
                          0.3919876513,
                          0.8316498316
                        ]
                      },
                      {
                        "learn": [
                          0.291037685,
                          0.9057239057
                        ],
                        "iteration": 259,
                        "passed_time": 5.240567079,
                        "remaining_time": 14.91546015,
                        "test": [
                          0.3917555922,
                          0.8316498316
                        ]
                      },
                      {
                        "learn": [
                          0.2901021197,
                          0.9057239057
                        ],
                        "iteration": 260,
                        "passed_time": 5.291294756,
                        "remaining_time": 14.98186523,
                        "test": [
                          0.3916894237,
                          0.8316498316
                        ]
                      },
                      {
                        "learn": [
                          0.2897809089,
                          0.9057239057
                        ],
                        "iteration": 261,
                        "passed_time": 5.347896044,
                        "remaining_time": 15.06392092,
                        "test": [
                          0.3915225006,
                          0.8316498316
                        ]
                      },
                      {
                        "learn": [
                          0.2897113645,
                          0.9057239057
                        ],
                        "iteration": 262,
                        "passed_time": 5.406889265,
                        "remaining_time": 15.15162505,
                        "test": [
                          0.3915170519,
                          0.8316498316
                        ]
                      },
                      {
                        "learn": [
                          0.2896190043,
                          0.9057239057
                        ],
                        "iteration": 263,
                        "passed_time": 5.469171051,
                        "remaining_time": 15.24738596,
                        "test": [
                          0.3915209053,
                          0.8316498316
                        ]
                      },
                      {
                        "learn": [
                          0.2890500036,
                          0.9057239057
                        ],
                        "iteration": 264,
                        "passed_time": 5.499114828,
                        "remaining_time": 15.25226188,
                        "test": [
                          0.3907926134,
                          0.8316498316
                        ]
                      },
                      {
                        "learn": [
                          0.2889725392,
                          0.9057239057
                        ],
                        "iteration": 265,
                        "passed_time": 5.807737029,
                        "remaining_time": 16.02586082,
                        "test": [
                          0.39094268,
                          0.8316498316
                        ]
                      },
                      {
                        "learn": [
                          0.2885602228,
                          0.9057239057
                        ],
                        "iteration": 266,
                        "passed_time": 5.821007716,
                        "remaining_time": 15.98051931,
                        "test": [
                          0.3908114052,
                          0.8316498316
                        ]
                      },
                      {
                        "learn": [
                          0.2883721721,
                          0.904040404
                        ],
                        "iteration": 267,
                        "passed_time": 5.844028162,
                        "remaining_time": 15.96204707,
                        "test": [
                          0.3909550954,
                          0.8316498316
                        ]
                      },
                      {
                        "learn": [
                          0.2880582757,
                          0.904040404
                        ],
                        "iteration": 268,
                        "passed_time": 5.865295589,
                        "remaining_time": 15.93877723,
                        "test": [
                          0.3909526645,
                          0.8316498316
                        ]
                      },
                      {
                        "learn": [
                          0.2878712786,
                          0.904040404
                        ],
                        "iteration": 269,
                        "passed_time": 5.884644395,
                        "remaining_time": 15.91033484,
                        "test": [
                          0.3910227781,
                          0.8316498316
                        ]
                      },
                      {
                        "learn": [
                          0.2875418158,
                          0.9057239057
                        ],
                        "iteration": 270,
                        "passed_time": 5.897697061,
                        "remaining_time": 15.86502272,
                        "test": [
                          0.3911432001,
                          0.8316498316
                        ]
                      },
                      {
                        "learn": [
                          0.2872802271,
                          0.9057239057
                        ],
                        "iteration": 271,
                        "passed_time": 5.916520343,
                        "remaining_time": 15.83539268,
                        "test": [
                          0.3911230536,
                          0.8316498316
                        ]
                      },
                      {
                        "learn": [
                          0.2871828001,
                          0.9057239057
                        ],
                        "iteration": 272,
                        "passed_time": 5.925067771,
                        "remaining_time": 15.77847718,
                        "test": [
                          0.3911292623,
                          0.8316498316
                        ]
                      },
                      {
                        "learn": [
                          0.2865306551,
                          0.9057239057
                        ],
                        "iteration": 273,
                        "passed_time": 5.937321266,
                        "remaining_time": 15.73173445,
                        "test": [
                          0.3912361339,
                          0.8316498316
                        ]
                      },
                      {
                        "learn": [
                          0.2859788629,
                          0.9074074074
                        ],
                        "iteration": 274,
                        "passed_time": 5.948975072,
                        "remaining_time": 15.68366155,
                        "test": [
                          0.3914263136,
                          0.8316498316
                        ]
                      },
                      {
                        "learn": [
                          0.2852353523,
                          0.9074074074
                        ],
                        "iteration": 275,
                        "passed_time": 5.966859735,
                        "remaining_time": 15.65219728,
                        "test": [
                          0.3914638708,
                          0.8316498316
                        ]
                      },
                      {
                        "learn": [
                          0.2847139505,
                          0.9074074074
                        ],
                        "iteration": 276,
                        "passed_time": 5.981004604,
                        "remaining_time": 15.61106978,
                        "test": [
                          0.3915978552,
                          0.8316498316
                        ]
                      },
                      {
                        "learn": [
                          0.2844704496,
                          0.9074074074
                        ],
                        "iteration": 277,
                        "passed_time": 5.994828588,
                        "remaining_time": 15.56930302,
                        "test": [
                          0.3914784595,
                          0.8316498316
                        ]
                      },
                      {
                        "learn": [
                          0.2841852063,
                          0.9074074074
                        ],
                        "iteration": 278,
                        "passed_time": 6.008942767,
                        "remaining_time": 15.52848651,
                        "test": [
                          0.3915027228,
                          0.8316498316
                        ]
                      },
                      {
                        "learn": [
                          0.2840030615,
                          0.9074074074
                        ],
                        "iteration": 279,
                        "passed_time": 6.023787045,
                        "remaining_time": 15.48973812,
                        "test": [
                          0.3915311963,
                          0.8316498316
                        ]
                      },
                      {
                        "learn": [
                          0.2838481624,
                          0.9074074074
                        ],
                        "iteration": 280,
                        "passed_time": 6.03594227,
                        "remaining_time": 15.44427933,
                        "test": [
                          0.3916221653,
                          0.8316498316
                        ]
                      },
                      {
                        "learn": [
                          0.2828535261,
                          0.9074074074
                        ],
                        "iteration": 281,
                        "passed_time": 6.049822492,
                        "remaining_time": 15.40344876,
                        "test": [
                          0.3912470657,
                          0.8282828283
                        ]
                      },
                      {
                        "learn": [
                          0.2827624692,
                          0.9074074074
                        ],
                        "iteration": 282,
                        "passed_time": 6.063842457,
                        "remaining_time": 15.36316269,
                        "test": [
                          0.3912474564,
                          0.8282828283
                        ]
                      }
                    ],
                    "meta": {
                      "test_sets": [
                        "test"
                      ],
                      "test_metrics": [
                        {
                          "best_value": "Min",
                          "name": "Logloss"
                        },
                        {
                          "best_value": "Max",
                          "name": "Accuracy"
                        }
                      ],
                      "learn_metrics": [
                        {
                          "best_value": "Min",
                          "name": "Logloss"
                        },
                        {
                          "best_value": "Max",
                          "name": "Accuracy"
                        }
                      ],
                      "launch_mode": "Train",
                      "parameters": "",
                      "iteration_count": 1000,
                      "learn_sets": [
                        "learn"
                      ],
                      "name": "experiment"
                    }
                  }
                }
              },
              "catboost_info/fold-2": {
                "path": "catboost_info/fold-2",
                "name": "fold-2",
                "content": {
                  "passed_iterations": 166,
                  "total_iterations": 1000,
                  "data": {
                    "iterations": [
                      {
                        "learn": [
                          0.6729744771,
                          0.8215488215
                        ],
                        "iteration": 0,
                        "passed_time": 0.01522860944,
                        "remaining_time": 15.21338083,
                        "test": [
                          0.6759307338,
                          0.7912457912
                        ]
                      },
                      {
                        "learn": [
                          0.6557767095,
                          0.8232323232
                        ],
                        "iteration": 1,
                        "passed_time": 0.03085770273,
                        "remaining_time": 15.39799366,
                        "test": [
                          0.6614661902,
                          0.7643097643
                        ]
                      },
                      {
                        "learn": [
                          0.6404446249,
                          0.8282828283
                        ],
                        "iteration": 2,
                        "passed_time": 0.04385186998,
                        "remaining_time": 14.57343812,
                        "test": [
                          0.6484745112,
                          0.771043771
                        ]
                      },
                      {
                        "learn": [
                          0.626189799,
                          0.8265993266
                        ],
                        "iteration": 3,
                        "passed_time": 0.0505845385,
                        "remaining_time": 12.59555009,
                        "test": [
                          0.63650706,
                          0.7744107744
                        ]
                      },
                      {
                        "learn": [
                          0.6122435884,
                          0.8265993266
                        ],
                        "iteration": 4,
                        "passed_time": 0.06385663997,
                        "remaining_time": 12.70747135,
                        "test": [
                          0.6246049142,
                          0.7744107744
                        ]
                      },
                      {
                        "learn": [
                          0.5950338006,
                          0.8316498316
                        ],
                        "iteration": 5,
                        "passed_time": 0.07460672955,
                        "remaining_time": 12.35984819,
                        "test": [
                          0.6109927906,
                          0.7744107744
                        ]
                      },
                      {
                        "learn": [
                          0.5823201403,
                          0.8316498316
                        ],
                        "iteration": 6,
                        "passed_time": 0.09207560993,
                        "remaining_time": 13.06158295,
                        "test": [
                          0.6012765912,
                          0.7744107744
                        ]
                      },
                      {
                        "learn": [
                          0.570139629,
                          0.8316498316
                        ],
                        "iteration": 7,
                        "passed_time": 0.1046894594,
                        "remaining_time": 12.98149296,
                        "test": [
                          0.5918278115,
                          0.7744107744
                        ]
                      },
                      {
                        "learn": [
                          0.5596100428,
                          0.8316498316
                        ],
                        "iteration": 8,
                        "passed_time": 0.1132482809,
                        "remaining_time": 12.46989405,
                        "test": [
                          0.5828389389,
                          0.7744107744
                        ]
                      },
                      {
                        "learn": [
                          0.5534542364,
                          0.8265993266
                        ],
                        "iteration": 9,
                        "passed_time": 0.116170003,
                        "remaining_time": 11.5008303,
                        "test": [
                          0.5776823626,
                          0.7643097643
                        ]
                      },
                      {
                        "learn": [
                          0.5443869408,
                          0.8265993266
                        ],
                        "iteration": 10,
                        "passed_time": 0.1290972624,
                        "remaining_time": 11.6070175,
                        "test": [
                          0.5702655998,
                          0.7643097643
                        ]
                      },
                      {
                        "learn": [
                          0.5344009653,
                          0.8265993266
                        ],
                        "iteration": 11,
                        "passed_time": 0.1383516982,
                        "remaining_time": 11.39095649,
                        "test": [
                          0.5623807449,
                          0.7676767677
                        ]
                      },
                      {
                        "learn": [
                          0.5243725286,
                          0.8265993266
                        ],
                        "iteration": 12,
                        "passed_time": 0.1589544012,
                        "remaining_time": 12.06830723,
                        "test": [
                          0.5554772172,
                          0.7676767677
                        ]
                      },
                      {
                        "learn": [
                          0.518192565,
                          0.8265993266
                        ],
                        "iteration": 13,
                        "passed_time": 0.165491569,
                        "remaining_time": 11.65533479,
                        "test": [
                          0.5502647158,
                          0.7676767677
                        ]
                      },
                      {
                        "learn": [
                          0.5096029826,
                          0.8265993266
                        ],
                        "iteration": 14,
                        "passed_time": 0.1885829829,
                        "remaining_time": 12.38361588,
                        "test": [
                          0.5440532446,
                          0.7676767677
                        ]
                      },
                      {
                        "learn": [
                          0.5029960048,
                          0.8265993266
                        ],
                        "iteration": 15,
                        "passed_time": 0.1916900152,
                        "remaining_time": 11.78893594,
                        "test": [
                          0.539056123,
                          0.7676767677
                        ]
                      },
                      {
                        "learn": [
                          0.4957264761,
                          0.8265993266
                        ],
                        "iteration": 16,
                        "passed_time": 0.2039880945,
                        "remaining_time": 11.79531158,
                        "test": [
                          0.53448889,
                          0.7676767677
                        ]
                      },
                      {
                        "learn": [
                          0.490330045,
                          0.8265993266
                        ],
                        "iteration": 17,
                        "passed_time": 0.2204223181,
                        "remaining_time": 12.02526202,
                        "test": [
                          0.5303726262,
                          0.7676767677
                        ]
                      },
                      {
                        "learn": [
                          0.4849349216,
                          0.8265993266
                        ],
                        "iteration": 18,
                        "passed_time": 0.2372452054,
                        "remaining_time": 12.24934455,
                        "test": [
                          0.5261443284,
                          0.7676767677
                        ]
                      },
                      {
                        "learn": [
                          0.4778173477,
                          0.8265993266
                        ],
                        "iteration": 19,
                        "passed_time": 0.2506452016,
                        "remaining_time": 12.28161488,
                        "test": [
                          0.5218062289,
                          0.7676767677
                        ]
                      },
                      {
                        "learn": [
                          0.472938027,
                          0.8265993266
                        ],
                        "iteration": 20,
                        "passed_time": 0.259794319,
                        "remaining_time": 12.11136373,
                        "test": [
                          0.518305877,
                          0.7676767677
                        ]
                      },
                      {
                        "learn": [
                          0.467427058,
                          0.8265993266
                        ],
                        "iteration": 21,
                        "passed_time": 0.270481593,
                        "remaining_time": 12.02413627,
                        "test": [
                          0.5153032987,
                          0.7676767677
                        ]
                      },
                      {
                        "learn": [
                          0.463373576,
                          0.8265993266
                        ],
                        "iteration": 22,
                        "passed_time": 0.2827658959,
                        "remaining_time": 12.01140349,
                        "test": [
                          0.5134286589,
                          0.7676767677
                        ]
                      },
                      {
                        "learn": [
                          0.4589148181,
                          0.8265993266
                        ],
                        "iteration": 23,
                        "passed_time": 0.2960491266,
                        "remaining_time": 12.03933115,
                        "test": [
                          0.5114899788,
                          0.7676767677
                        ]
                      },
                      {
                        "learn": [
                          0.4547625239,
                          0.8265993266
                        ],
                        "iteration": 24,
                        "passed_time": 0.3123307419,
                        "remaining_time": 12.18089893,
                        "test": [
                          0.508978994,
                          0.7676767677
                        ]
                      },
                      {
                        "learn": [
                          0.4495724289,
                          0.82996633
                        ],
                        "iteration": 25,
                        "passed_time": 0.3207429715,
                        "remaining_time": 12.01552516,
                        "test": [
                          0.5062451262,
                          0.7676767677
                        ]
                      },
                      {
                        "learn": [
                          0.4456262008,
                          0.82996633
                        ],
                        "iteration": 26,
                        "passed_time": 0.3330586238,
                        "remaining_time": 12.00244596,
                        "test": [
                          0.5040831435,
                          0.7676767677
                        ]
                      },
                      {
                        "learn": [
                          0.4425891638,
                          0.8265993266
                        ],
                        "iteration": 27,
                        "passed_time": 0.3478278069,
                        "remaining_time": 12.07459387,
                        "test": [
                          0.5021598663,
                          0.7676767677
                        ]
                      },
                      {
                        "learn": [
                          0.4411454384,
                          0.8265993266
                        ],
                        "iteration": 28,
                        "passed_time": 0.3501336123,
                        "remaining_time": 11.72343923,
                        "test": [
                          0.5012733799,
                          0.7676767677
                        ]
                      },
                      {
                        "learn": [
                          0.4380286199,
                          0.82996633
                        ],
                        "iteration": 29,
                        "passed_time": 0.369106239,
                        "remaining_time": 11.93443506,
                        "test": [
                          0.498908896,
                          0.7676767677
                        ]
                      },
                      {
                        "learn": [
                          0.4338181949,
                          0.8265993266
                        ],
                        "iteration": 30,
                        "passed_time": 0.3944185534,
                        "remaining_time": 12.32876059,
                        "test": [
                          0.4965806685,
                          0.771043771
                        ]
                      },
                      {
                        "learn": [
                          0.4325342146,
                          0.8265993266
                        ],
                        "iteration": 31,
                        "passed_time": 0.4010979495,
                        "remaining_time": 12.13321297,
                        "test": [
                          0.4958241943,
                          0.7676767677
                        ]
                      },
                      {
                        "learn": [
                          0.4308651401,
                          0.82996633
                        ],
                        "iteration": 32,
                        "passed_time": 0.4184064575,
                        "remaining_time": 12.2605771,
                        "test": [
                          0.4947378282,
                          0.771043771
                        ]
                      },
                      {
                        "learn": [
                          0.4294947407,
                          0.82996633
                        ],
                        "iteration": 33,
                        "passed_time": 0.4302154057,
                        "remaining_time": 12.22317888,
                        "test": [
                          0.4941962566,
                          0.7744107744
                        ]
                      },
                      {
                        "learn": [
                          0.4262868293,
                          0.82996633
                        ],
                        "iteration": 34,
                        "passed_time": 0.4493070971,
                        "remaining_time": 12.38803854,
                        "test": [
                          0.4935218266,
                          0.7744107744
                        ]
                      },
                      {
                        "learn": [
                          0.4246113009,
                          0.8316498316
                        ],
                        "iteration": 35,
                        "passed_time": 0.4718403897,
                        "remaining_time": 12.6348371,
                        "test": [
                          0.4924645551,
                          0.7676767677
                        ]
                      },
                      {
                        "learn": [
                          0.4211703343,
                          0.8333333333
                        ],
                        "iteration": 36,
                        "passed_time": 0.4994100207,
                        "remaining_time": 12.99815811,
                        "test": [
                          0.491072619,
                          0.7744107744
                        ]
                      },
                      {
                        "learn": [
                          0.4182256742,
                          0.8333333333
                        ],
                        "iteration": 37,
                        "passed_time": 0.5341751925,
                        "remaining_time": 13.52306671,
                        "test": [
                          0.490487319,
                          0.7744107744
                        ]
                      },
                      {
                        "learn": [
                          0.4167553865,
                          0.835016835
                        ],
                        "iteration": 38,
                        "passed_time": 0.5483450374,
                        "remaining_time": 13.51178413,
                        "test": [
                          0.4902793698,
                          0.771043771
                        ]
                      },
                      {
                        "learn": [
                          0.4135312406,
                          0.835016835
                        ],
                        "iteration": 39,
                        "passed_time": 0.5567927177,
                        "remaining_time": 13.36302523,
                        "test": [
                          0.4891380588,
                          0.771043771
                        ]
                      },
                      {
                        "learn": [
                          0.4124231309,
                          0.8367003367
                        ],
                        "iteration": 40,
                        "passed_time": 0.5665590314,
                        "remaining_time": 13.25195393,
                        "test": [
                          0.488689522,
                          0.771043771
                        ]
                      },
                      {
                        "learn": [
                          0.4103780205,
                          0.8367003367
                        ],
                        "iteration": 41,
                        "passed_time": 0.575417458,
                        "remaining_time": 13.12499821,
                        "test": [
                          0.487733107,
                          0.771043771
                        ]
                      },
                      {
                        "learn": [
                          0.4089654264,
                          0.8333333333
                        ],
                        "iteration": 42,
                        "passed_time": 0.6098890899,
                        "remaining_time": 13.57357812,
                        "test": [
                          0.4874772218,
                          0.771043771
                        ]
                      },
                      {
                        "learn": [
                          0.4056901852,
                          0.8383838384
                        ],
                        "iteration": 43,
                        "passed_time": 0.6263305583,
                        "remaining_time": 13.60845486,
                        "test": [
                          0.4864813425,
                          0.7676767677
                        ]
                      },
                      {
                        "learn": [
                          0.4025807107,
                          0.8383838384
                        ],
                        "iteration": 44,
                        "passed_time": 0.6437132185,
                        "remaining_time": 13.66102497,
                        "test": [
                          0.4848705069,
                          0.7676767677
                        ]
                      },
                      {
                        "learn": [
                          0.4003891716,
                          0.8383838384
                        ],
                        "iteration": 45,
                        "passed_time": 0.6534126689,
                        "remaining_time": 13.55121057,
                        "test": [
                          0.4843488588,
                          0.771043771
                        ]
                      },
                      {
                        "learn": [
                          0.3998524137,
                          0.8383838384
                        ],
                        "iteration": 46,
                        "passed_time": 0.6558933195,
                        "remaining_time": 13.29928369,
                        "test": [
                          0.4841873825,
                          0.771043771
                        ]
                      },
                      {
                        "learn": [
                          0.3962286868,
                          0.8400673401
                        ],
                        "iteration": 47,
                        "passed_time": 0.6774740606,
                        "remaining_time": 13.43656887,
                        "test": [
                          0.4818802396,
                          0.771043771
                        ]
                      },
                      {
                        "learn": [
                          0.3945289219,
                          0.8400673401
                        ],
                        "iteration": 48,
                        "passed_time": 0.7015942207,
                        "remaining_time": 13.61665518,
                        "test": [
                          0.4815085916,
                          0.7676767677
                        ]
                      },
                      {
                        "learn": [
                          0.3937960604,
                          0.8383838384
                        ],
                        "iteration": 49,
                        "passed_time": 0.7210042589,
                        "remaining_time": 13.69908092,
                        "test": [
                          0.4816439721,
                          0.7676767677
                        ]
                      },
                      {
                        "learn": [
                          0.3920000369,
                          0.8400673401
                        ],
                        "iteration": 50,
                        "passed_time": 0.7504081629,
                        "remaining_time": 13.96347738,
                        "test": [
                          0.4811179384,
                          0.771043771
                        ]
                      },
                      {
                        "learn": [
                          0.3910845045,
                          0.8417508418
                        ],
                        "iteration": 51,
                        "passed_time": 0.823965227,
                        "remaining_time": 15.02151991,
                        "test": [
                          0.4807388423,
                          0.771043771
                        ]
                      },
                      {
                        "learn": [
                          0.3893228526,
                          0.8400673401
                        ],
                        "iteration": 52,
                        "passed_time": 0.8471423579,
                        "remaining_time": 15.13667572,
                        "test": [
                          0.4802155842,
                          0.7744107744
                        ]
                      },
                      {
                        "learn": [
                          0.3875305811,
                          0.8417508418
                        ],
                        "iteration": 53,
                        "passed_time": 0.8853077749,
                        "remaining_time": 15.50928065,
                        "test": [
                          0.4798519178,
                          0.7744107744
                        ]
                      },
                      {
                        "learn": [
                          0.3856084054,
                          0.8400673401
                        ],
                        "iteration": 54,
                        "passed_time": 0.9233033473,
                        "remaining_time": 15.86403024,
                        "test": [
                          0.4795783026,
                          0.7744107744
                        ]
                      },
                      {
                        "learn": [
                          0.3832702855,
                          0.8417508418
                        ],
                        "iteration": 55,
                        "passed_time": 0.9386374529,
                        "remaining_time": 15.82274563,
                        "test": [
                          0.4779959316,
                          0.771043771
                        ]
                      },
                      {
                        "learn": [
                          0.3823179391,
                          0.8417508418
                        ],
                        "iteration": 56,
                        "passed_time": 0.9513653202,
                        "remaining_time": 15.73925433,
                        "test": [
                          0.4774064906,
                          0.7744107744
                        ]
                      },
                      {
                        "learn": [
                          0.3820562345,
                          0.8417508418
                        ],
                        "iteration": 57,
                        "passed_time": 0.9566731282,
                        "remaining_time": 15.53769115,
                        "test": [
                          0.4771983239,
                          0.7777777778
                        ]
                      },
                      {
                        "learn": [
                          0.3803846844,
                          0.8468013468
                        ],
                        "iteration": 58,
                        "passed_time": 0.9758448802,
                        "remaining_time": 15.56389885,
                        "test": [
                          0.4761006375,
                          0.7777777778
                        ]
                      },
                      {
                        "learn": [
                          0.3797512965,
                          0.8468013468
                        ],
                        "iteration": 59,
                        "passed_time": 1.001906095,
                        "remaining_time": 15.69652882,
                        "test": [
                          0.4761064283,
                          0.7777777778
                        ]
                      },
                      {
                        "learn": [
                          0.3786008796,
                          0.8484848485
                        ],
                        "iteration": 60,
                        "passed_time": 1.015619087,
                        "remaining_time": 15.63387414,
                        "test": [
                          0.4752965931,
                          0.7811447811
                        ]
                      },
                      {
                        "learn": [
                          0.376529195,
                          0.8501683502
                        ],
                        "iteration": 61,
                        "passed_time": 1.044118919,
                        "remaining_time": 15.79650881,
                        "test": [
                          0.4748025585,
                          0.7811447811
                        ]
                      },
                      {
                        "learn": [
                          0.3753708306,
                          0.8501683502
                        ],
                        "iteration": 62,
                        "passed_time": 1.058657873,
                        "remaining_time": 15.74543534,
                        "test": [
                          0.4738696218,
                          0.7845117845
                        ]
                      },
                      {
                        "learn": [
                          0.3737057487,
                          0.8501683502
                        ],
                        "iteration": 63,
                        "passed_time": 1.074205485,
                        "remaining_time": 15.71025522,
                        "test": [
                          0.4732665859,
                          0.7811447811
                        ]
                      },
                      {
                        "learn": [
                          0.3726506027,
                          0.8535353535
                        ],
                        "iteration": 64,
                        "passed_time": 1.086954144,
                        "remaining_time": 15.6354173,
                        "test": [
                          0.473063805,
                          0.7777777778
                        ]
                      },
                      {
                        "learn": [
                          0.3718509214,
                          0.8535353535
                        ],
                        "iteration": 65,
                        "passed_time": 1.100002027,
                        "remaining_time": 15.56669536,
                        "test": [
                          0.472611175,
                          0.7811447811
                        ]
                      },
                      {
                        "learn": [
                          0.3705130391,
                          0.8552188552
                        ],
                        "iteration": 66,
                        "passed_time": 1.119850881,
                        "remaining_time": 15.59434137,
                        "test": [
                          0.4721491138,
                          0.7878787879
                        ]
                      },
                      {
                        "learn": [
                          0.3691436846,
                          0.8552188552
                        ],
                        "iteration": 67,
                        "passed_time": 1.150096647,
                        "remaining_time": 15.76308935,
                        "test": [
                          0.4711933658,
                          0.7912457912
                        ]
                      },
                      {
                        "learn": [
                          0.368543083,
                          0.8569023569
                        ],
                        "iteration": 68,
                        "passed_time": 1.170650703,
                        "remaining_time": 15.79530152,
                        "test": [
                          0.4709697205,
                          0.7912457912
                        ]
                      },
                      {
                        "learn": [
                          0.3685000853,
                          0.8569023569
                        ],
                        "iteration": 69,
                        "passed_time": 1.182352662,
                        "remaining_time": 15.70839966,
                        "test": [
                          0.471037513,
                          0.7912457912
                        ]
                      },
                      {
                        "learn": [
                          0.3662166401,
                          0.8585858586
                        ],
                        "iteration": 70,
                        "passed_time": 1.202470796,
                        "remaining_time": 15.7337376,
                        "test": [
                          0.4691958698,
                          0.7912457912
                        ]
                      },
                      {
                        "learn": [
                          0.3655674466,
                          0.8602693603
                        ],
                        "iteration": 71,
                        "passed_time": 1.236454854,
                        "remaining_time": 15.93652923,
                        "test": [
                          0.4691004478,
                          0.7912457912
                        ]
                      },
                      {
                        "learn": [
                          0.3649655157,
                          0.8602693603
                        ],
                        "iteration": 72,
                        "passed_time": 1.281972221,
                        "remaining_time": 16.27929108,
                        "test": [
                          0.4690271333,
                          0.7912457912
                        ]
                      },
                      {
                        "learn": [
                          0.3637593806,
                          0.8602693603
                        ],
                        "iteration": 73,
                        "passed_time": 1.301101928,
                        "remaining_time": 16.28135655,
                        "test": [
                          0.4694455776,
                          0.7912457912
                        ]
                      },
                      {
                        "learn": [
                          0.3622575551,
                          0.861952862
                        ],
                        "iteration": 74,
                        "passed_time": 1.315500831,
                        "remaining_time": 16.22451025,
                        "test": [
                          0.4683633722,
                          0.7912457912
                        ]
                      },
                      {
                        "learn": [
                          0.3614731728,
                          0.861952862
                        ],
                        "iteration": 75,
                        "passed_time": 1.330996571,
                        "remaining_time": 16.1821162,
                        "test": [
                          0.4682604787,
                          0.7946127946
                        ]
                      },
                      {
                        "learn": [
                          0.360501293,
                          0.8602693603
                        ],
                        "iteration": 76,
                        "passed_time": 1.353727253,
                        "remaining_time": 16.22714617,
                        "test": [
                          0.4681533569,
                          0.7912457912
                        ]
                      },
                      {
                        "learn": [
                          0.3589507714,
                          0.8602693603
                        ],
                        "iteration": 77,
                        "passed_time": 1.372239358,
                        "remaining_time": 16.22057293,
                        "test": [
                          0.4682500427,
                          0.7912457912
                        ]
                      },
                      {
                        "learn": [
                          0.3589377473,
                          0.8602693603
                        ],
                        "iteration": 78,
                        "passed_time": 1.380884581,
                        "remaining_time": 16.09866708,
                        "test": [
                          0.4682519933,
                          0.7912457912
                        ]
                      },
                      {
                        "learn": [
                          0.3571998338,
                          0.8602693603
                        ],
                        "iteration": 79,
                        "passed_time": 1.419818566,
                        "remaining_time": 16.32791351,
                        "test": [
                          0.4663498747,
                          0.7878787879
                        ]
                      },
                      {
                        "learn": [
                          0.3561705995,
                          0.8602693603
                        ],
                        "iteration": 80,
                        "passed_time": 1.438942404,
                        "remaining_time": 16.32577863,
                        "test": [
                          0.466107612,
                          0.7912457912
                        ]
                      },
                      {
                        "learn": [
                          0.3552604114,
                          0.8602693603
                        ],
                        "iteration": 81,
                        "passed_time": 1.451903896,
                        "remaining_time": 16.25424118,
                        "test": [
                          0.4655791746,
                          0.7946127946
                        ]
                      },
                      {
                        "learn": [
                          0.3542102468,
                          0.8602693603
                        ],
                        "iteration": 82,
                        "passed_time": 1.466114007,
                        "remaining_time": 16.19791017,
                        "test": [
                          0.4646310156,
                          0.797979798
                        ]
                      },
                      {
                        "learn": [
                          0.3534701526,
                          0.8602693603
                        ],
                        "iteration": 83,
                        "passed_time": 1.477650286,
                        "remaining_time": 16.11342454,
                        "test": [
                          0.4647531828,
                          0.797979798
                        ]
                      },
                      {
                        "learn": [
                          0.352863133,
                          0.8602693603
                        ],
                        "iteration": 84,
                        "passed_time": 1.490921976,
                        "remaining_time": 16.04933657,
                        "test": [
                          0.4642015632,
                          0.7946127946
                        ]
                      },
                      {
                        "learn": [
                          0.3526090122,
                          0.8602693603
                        ],
                        "iteration": 85,
                        "passed_time": 1.502741197,
                        "remaining_time": 15.97099366,
                        "test": [
                          0.4640641638,
                          0.797979798
                        ]
                      },
                      {
                        "learn": [
                          0.3522140219,
                          0.8602693603
                        ],
                        "iteration": 86,
                        "passed_time": 1.514508957,
                        "remaining_time": 15.89363998,
                        "test": [
                          0.4641635242,
                          0.797979798
                        ]
                      },
                      {
                        "learn": [
                          0.3513464743,
                          0.8585858586
                        ],
                        "iteration": 87,
                        "passed_time": 1.528701275,
                        "remaining_time": 15.84290412,
                        "test": [
                          0.4638128223,
                          0.797979798
                        ]
                      },
                      {
                        "learn": [
                          0.3503443056,
                          0.8585858586
                        ],
                        "iteration": 88,
                        "passed_time": 1.540268166,
                        "remaining_time": 15.76611572,
                        "test": [
                          0.4627903432,
                          0.7946127946
                        ]
                      },
                      {
                        "learn": [
                          0.3495074028,
                          0.8585858586
                        ],
                        "iteration": 89,
                        "passed_time": 1.549580415,
                        "remaining_time": 15.66797975,
                        "test": [
                          0.4620123231,
                          0.7946127946
                        ]
                      },
                      {
                        "learn": [
                          0.3482118844,
                          0.8602693603
                        ],
                        "iteration": 90,
                        "passed_time": 1.562398656,
                        "remaining_time": 15.60681734,
                        "test": [
                          0.4623718249,
                          0.7946127946
                        ]
                      },
                      {
                        "learn": [
                          0.3474234296,
                          0.8585858586
                        ],
                        "iteration": 91,
                        "passed_time": 1.576978624,
                        "remaining_time": 15.56409338,
                        "test": [
                          0.4617044646,
                          0.797979798
                        ]
                      },
                      {
                        "learn": [
                          0.3471178552,
                          0.8585858586
                        ],
                        "iteration": 92,
                        "passed_time": 1.602784779,
                        "remaining_time": 15.63146016,
                        "test": [
                          0.4618636936,
                          0.797979798
                        ]
                      },
                      {
                        "learn": [
                          0.3463075222,
                          0.8585858586
                        ],
                        "iteration": 93,
                        "passed_time": 1.622724201,
                        "remaining_time": 15.64029921,
                        "test": [
                          0.4616219877,
                          0.797979798
                        ]
                      },
                      {
                        "learn": [
                          0.3456756274,
                          0.861952862
                        ],
                        "iteration": 94,
                        "passed_time": 1.641823464,
                        "remaining_time": 15.64052879,
                        "test": [
                          0.4614160051,
                          0.797979798
                        ]
                      },
                      {
                        "learn": [
                          0.3451650478,
                          0.861952862
                        ],
                        "iteration": 95,
                        "passed_time": 1.652528328,
                        "remaining_time": 15.56130842,
                        "test": [
                          0.4615112235,
                          0.797979798
                        ]
                      },
                      {
                        "learn": [
                          0.3451065637,
                          0.861952862
                        ],
                        "iteration": 96,
                        "passed_time": 1.655929021,
                        "remaining_time": 15.41550419,
                        "test": [
                          0.4614580227,
                          0.797979798
                        ]
                      },
                      {
                        "learn": [
                          0.343376865,
                          0.8636363636
                        ],
                        "iteration": 97,
                        "passed_time": 1.670218479,
                        "remaining_time": 15.37282723,
                        "test": [
                          0.4620267407,
                          0.797979798
                        ]
                      },
                      {
                        "learn": [
                          0.3423001057,
                          0.8653198653
                        ],
                        "iteration": 98,
                        "passed_time": 1.682913342,
                        "remaining_time": 15.31621133,
                        "test": [
                          0.4617162894,
                          0.797979798
                        ]
                      },
                      {
                        "learn": [
                          0.3413815389,
                          0.8653198653
                        ],
                        "iteration": 99,
                        "passed_time": 1.706086189,
                        "remaining_time": 15.3547757,
                        "test": [
                          0.4616046757,
                          0.797979798
                        ]
                      },
                      {
                        "learn": [
                          0.340373761,
                          0.8653198653
                        ],
                        "iteration": 100,
                        "passed_time": 1.73575154,
                        "remaining_time": 15.44990727,
                        "test": [
                          0.4621167954,
                          0.797979798
                        ]
                      },
                      {
                        "learn": [
                          0.3398621002,
                          0.867003367
                        ],
                        "iteration": 101,
                        "passed_time": 1.765430256,
                        "remaining_time": 15.54270951,
                        "test": [
                          0.4615800994,
                          0.797979798
                        ]
                      },
                      {
                        "learn": [
                          0.3398615132,
                          0.867003367
                        ],
                        "iteration": 102,
                        "passed_time": 1.770377413,
                        "remaining_time": 15.41775281,
                        "test": [
                          0.461585333,
                          0.797979798
                        ]
                      },
                      {
                        "learn": [
                          0.3392811437,
                          0.867003367
                        ],
                        "iteration": 103,
                        "passed_time": 1.794125057,
                        "remaining_time": 15.45707741,
                        "test": [
                          0.4614124831,
                          0.797979798
                        ]
                      },
                      {
                        "learn": [
                          0.3392687836,
                          0.867003367
                        ],
                        "iteration": 104,
                        "passed_time": 1.799432631,
                        "remaining_time": 15.33802099,
                        "test": [
                          0.4614252844,
                          0.797979798
                        ]
                      },
                      {
                        "learn": [
                          0.3391586171,
                          0.867003367
                        ],
                        "iteration": 105,
                        "passed_time": 1.806045836,
                        "remaining_time": 15.23212243,
                        "test": [
                          0.4614781378,
                          0.797979798
                        ]
                      },
                      {
                        "learn": [
                          0.3382401023,
                          0.8703703704
                        ],
                        "iteration": 106,
                        "passed_time": 1.827445096,
                        "remaining_time": 15.25148103,
                        "test": [
                          0.4614563017,
                          0.797979798
                        ]
                      },
                      {
                        "learn": [
                          0.3380128428,
                          0.8703703704
                        ],
                        "iteration": 107,
                        "passed_time": 1.842251407,
                        "remaining_time": 15.21563199,
                        "test": [
                          0.4614725874,
                          0.797979798
                        ]
                      },
                      {
                        "learn": [
                          0.3362305882,
                          0.8703703704
                        ],
                        "iteration": 108,
                        "passed_time": 1.859127889,
                        "remaining_time": 15.19709128,
                        "test": [
                          0.459820134,
                          0.797979798
                        ]
                      },
                      {
                        "learn": [
                          0.3359088403,
                          0.8703703704
                        ],
                        "iteration": 109,
                        "passed_time": 1.871101663,
                        "remaining_time": 15.13891345,
                        "test": [
                          0.4598202895,
                          0.797979798
                        ]
                      },
                      {
                        "learn": [
                          0.3357165467,
                          0.8703703704
                        ],
                        "iteration": 110,
                        "passed_time": 1.887494207,
                        "remaining_time": 15.11695811,
                        "test": [
                          0.4598500159,
                          0.797979798
                        ]
                      },
                      {
                        "learn": [
                          0.3346728062,
                          0.8686868687
                        ],
                        "iteration": 111,
                        "passed_time": 1.89964179,
                        "remaining_time": 15.06144562,
                        "test": [
                          0.4599286496,
                          0.797979798
                        ]
                      },
                      {
                        "learn": [
                          0.334126375,
                          0.8686868687
                        ],
                        "iteration": 112,
                        "passed_time": 1.913255912,
                        "remaining_time": 15.01821234,
                        "test": [
                          0.4596024657,
                          0.797979798
                        ]
                      },
                      {
                        "learn": [
                          0.3331515547,
                          0.8686868687
                        ],
                        "iteration": 113,
                        "passed_time": 1.942422449,
                        "remaining_time": 15.09637096,
                        "test": [
                          0.4590187436,
                          0.797979798
                        ]
                      },
                      {
                        "learn": [
                          0.332723967,
                          0.8703703704
                        ],
                        "iteration": 114,
                        "passed_time": 2.025952737,
                        "remaining_time": 15.59102759,
                        "test": [
                          0.4589825736,
                          0.797979798
                        ]
                      },
                      {
                        "learn": [
                          0.3323352885,
                          0.8703703704
                        ],
                        "iteration": 115,
                        "passed_time": 2.04498612,
                        "remaining_time": 15.58420457,
                        "test": [
                          0.4586346979,
                          0.797979798
                        ]
                      },
                      {
                        "learn": [
                          0.3311739329,
                          0.8703703704
                        ],
                        "iteration": 116,
                        "passed_time": 2.063848095,
                        "remaining_time": 15.57587921,
                        "test": [
                          0.4583075445,
                          0.797979798
                        ]
                      },
                      {
                        "learn": [
                          0.3311739318,
                          0.8703703704
                        ],
                        "iteration": 117,
                        "passed_time": 2.06551877,
                        "remaining_time": 15.43887758,
                        "test": [
                          0.4583075749,
                          0.797979798
                        ]
                      },
                      {
                        "learn": [
                          0.3309168859,
                          0.8703703704
                        ],
                        "iteration": 118,
                        "passed_time": 2.078542901,
                        "remaining_time": 15.38820417,
                        "test": [
                          0.4585036404,
                          0.797979798
                        ]
                      },
                      {
                        "learn": [
                          0.3303741189,
                          0.8720538721
                        ],
                        "iteration": 119,
                        "passed_time": 2.094897058,
                        "remaining_time": 15.36257843,
                        "test": [
                          0.458651573,
                          0.797979798
                        ]
                      },
                      {
                        "learn": [
                          0.3297420124,
                          0.8703703704
                        ],
                        "iteration": 120,
                        "passed_time": 2.10775536,
                        "remaining_time": 15.31171043,
                        "test": [
                          0.4588174245,
                          0.7946127946
                        ]
                      },
                      {
                        "learn": [
                          0.3291724744,
                          0.8703703704
                        ],
                        "iteration": 121,
                        "passed_time": 2.131660173,
                        "remaining_time": 15.34096419,
                        "test": [
                          0.4586538058,
                          0.7946127946
                        ]
                      },
                      {
                        "learn": [
                          0.3286859849,
                          0.8720538721
                        ],
                        "iteration": 122,
                        "passed_time": 2.138868661,
                        "remaining_time": 15.25030745,
                        "test": [
                          0.4584199426,
                          0.797979798
                        ]
                      },
                      {
                        "learn": [
                          0.3280197719,
                          0.8737373737
                        ],
                        "iteration": 123,
                        "passed_time": 2.154746197,
                        "remaining_time": 15.22223926,
                        "test": [
                          0.4586997122,
                          0.797979798
                        ]
                      },
                      {
                        "learn": [
                          0.3274907908,
                          0.8737373737
                        ],
                        "iteration": 124,
                        "passed_time": 2.163693668,
                        "remaining_time": 15.14585567,
                        "test": [
                          0.4587020813,
                          0.7946127946
                        ]
                      },
                      {
                        "learn": [
                          0.3271554293,
                          0.8737373737
                        ],
                        "iteration": 125,
                        "passed_time": 2.176015542,
                        "remaining_time": 15.09394908,
                        "test": [
                          0.4590046452,
                          0.7946127946
                        ]
                      },
                      {
                        "learn": [
                          0.3266226561,
                          0.8737373737
                        ],
                        "iteration": 126,
                        "passed_time": 2.187464861,
                        "remaining_time": 15.0366679,
                        "test": [
                          0.4592318021,
                          0.7946127946
                        ]
                      },
                      {
                        "learn": [
                          0.3263530193,
                          0.8737373737
                        ],
                        "iteration": 127,
                        "passed_time": 2.198581451,
                        "remaining_time": 14.97783613,
                        "test": [
                          0.4590374482,
                          0.7946127946
                        ]
                      },
                      {
                        "learn": [
                          0.3260913592,
                          0.8737373737
                        ],
                        "iteration": 128,
                        "passed_time": 2.206987091,
                        "remaining_time": 14.90143997,
                        "test": [
                          0.4591787737,
                          0.7946127946
                        ]
                      },
                      {
                        "learn": [
                          0.3260840529,
                          0.8737373737
                        ],
                        "iteration": 129,
                        "passed_time": 2.209722785,
                        "remaining_time": 14.78814479,
                        "test": [
                          0.4591805957,
                          0.7946127946
                        ]
                      },
                      {
                        "learn": [
                          0.3252671759,
                          0.8737373737
                        ],
                        "iteration": 130,
                        "passed_time": 2.221533781,
                        "remaining_time": 14.73673936,
                        "test": [
                          0.4592473349,
                          0.7946127946
                        ]
                      },
                      {
                        "learn": [
                          0.325047912,
                          0.8737373737
                        ],
                        "iteration": 131,
                        "passed_time": 2.229954733,
                        "remaining_time": 14.66364173,
                        "test": [
                          0.4592040014,
                          0.7946127946
                        ]
                      },
                      {
                        "learn": [
                          0.3245415893,
                          0.8737373737
                        ],
                        "iteration": 132,
                        "passed_time": 2.242082781,
                        "remaining_time": 14.61568249,
                        "test": [
                          0.4588492368,
                          0.7946127946
                        ]
                      },
                      {
                        "learn": [
                          0.3238192338,
                          0.8737373737
                        ],
                        "iteration": 133,
                        "passed_time": 2.254914877,
                        "remaining_time": 14.57280808,
                        "test": [
                          0.4585542124,
                          0.7946127946
                        ]
                      },
                      {
                        "learn": [
                          0.3228650129,
                          0.8737373737
                        ],
                        "iteration": 134,
                        "passed_time": 2.29324885,
                        "remaining_time": 14.69377967,
                        "test": [
                          0.4587389076,
                          0.7946127946
                        ]
                      },
                      {
                        "learn": [
                          0.3217741528,
                          0.8737373737
                        ],
                        "iteration": 135,
                        "passed_time": 2.30322656,
                        "remaining_time": 14.63226285,
                        "test": [
                          0.4591861419,
                          0.7912457912
                        ]
                      },
                      {
                        "learn": [
                          0.3216765805,
                          0.8737373737
                        ],
                        "iteration": 136,
                        "passed_time": 2.312172014,
                        "remaining_time": 14.56499597,
                        "test": [
                          0.4591335328,
                          0.7912457912
                        ]
                      },
                      {
                        "learn": [
                          0.320629507,
                          0.8737373737
                        ],
                        "iteration": 137,
                        "passed_time": 2.337776196,
                        "remaining_time": 14.60263102,
                        "test": [
                          0.4595591128,
                          0.7912457912
                        ]
                      },
                      {
                        "learn": [
                          0.3201273103,
                          0.8737373737
                        ],
                        "iteration": 138,
                        "passed_time": 2.346276529,
                        "remaining_time": 14.53341073,
                        "test": [
                          0.4593623548,
                          0.7912457912
                        ]
                      },
                      {
                        "learn": [
                          0.3187041065,
                          0.8771043771
                        ],
                        "iteration": 139,
                        "passed_time": 2.362055734,
                        "remaining_time": 14.50977094,
                        "test": [
                          0.4592459419,
                          0.7946127946
                        ]
                      },
                      {
                        "learn": [
                          0.3183735479,
                          0.8754208754
                        ],
                        "iteration": 140,
                        "passed_time": 2.371082863,
                        "remaining_time": 14.44510765,
                        "test": [
                          0.4595025322,
                          0.7912457912
                        ]
                      },
                      {
                        "learn": [
                          0.3176765043,
                          0.8737373737
                        ],
                        "iteration": 141,
                        "passed_time": 2.382824591,
                        "remaining_time": 14.39763028,
                        "test": [
                          0.4597907302,
                          0.7912457912
                        ]
                      },
                      {
                        "learn": [
                          0.3170721214,
                          0.8771043771
                        ],
                        "iteration": 142,
                        "passed_time": 2.39127567,
                        "remaining_time": 14.33093181,
                        "test": [
                          0.4603169163,
                          0.7912457912
                        ]
                      },
                      {
                        "learn": [
                          0.3168430567,
                          0.8787878788
                        ],
                        "iteration": 143,
                        "passed_time": 2.394444477,
                        "remaining_time": 14.23364217,
                        "test": [
                          0.4604398921,
                          0.7912457912
                        ]
                      },
                      {
                        "learn": [
                          0.3166063437,
                          0.8787878788
                        ],
                        "iteration": 144,
                        "passed_time": 2.401461278,
                        "remaining_time": 14.16034064,
                        "test": [
                          0.4605853267,
                          0.7912457912
                        ]
                      },
                      {
                        "learn": [
                          0.3160952226,
                          0.8754208754
                        ],
                        "iteration": 145,
                        "passed_time": 2.411932654,
                        "remaining_time": 14.10815402,
                        "test": [
                          0.4598868013,
                          0.7912457912
                        ]
                      },
                      {
                        "learn": [
                          0.3160904803,
                          0.8754208754
                        ],
                        "iteration": 146,
                        "passed_time": 2.415620915,
                        "remaining_time": 14.01717442,
                        "test": [
                          0.4598582177,
                          0.7912457912
                        ]
                      },
                      {
                        "learn": [
                          0.3158827093,
                          0.8754208754
                        ],
                        "iteration": 147,
                        "passed_time": 2.428154614,
                        "remaining_time": 13.97829548,
                        "test": [
                          0.4597237576,
                          0.7912457912
                        ]
                      },
                      {
                        "learn": [
                          0.3151922008,
                          0.8771043771
                        ],
                        "iteration": 148,
                        "passed_time": 2.439465906,
                        "remaining_time": 13.9327885,
                        "test": [
                          0.4600584692,
                          0.7912457912
                        ]
                      },
                      {
                        "learn": [
                          0.3142801651,
                          0.8787878788
                        ],
                        "iteration": 149,
                        "passed_time": 2.451010593,
                        "remaining_time": 13.88906003,
                        "test": [
                          0.4600329476,
                          0.7912457912
                        ]
                      },
                      {
                        "learn": [
                          0.3132890479,
                          0.8754208754
                        ],
                        "iteration": 150,
                        "passed_time": 2.462367232,
                        "remaining_time": 13.84470053,
                        "test": [
                          0.459887809,
                          0.7946127946
                        ]
                      },
                      {
                        "learn": [
                          0.3131707415,
                          0.8771043771
                        ],
                        "iteration": 151,
                        "passed_time": 2.473679122,
                        "remaining_time": 13.80052563,
                        "test": [
                          0.4598591625,
                          0.7946127946
                        ]
                      },
                      {
                        "learn": [
                          0.3126224642,
                          0.8804713805
                        ],
                        "iteration": 152,
                        "passed_time": 2.484061283,
                        "remaining_time": 13.75163338,
                        "test": [
                          0.4598549225,
                          0.7946127946
                        ]
                      },
                      {
                        "learn": [
                          0.312107322,
                          0.8821548822
                        ],
                        "iteration": 153,
                        "passed_time": 2.495287029,
                        "remaining_time": 13.7078755,
                        "test": [
                          0.4599325857,
                          0.7946127946
                        ]
                      },
                      {
                        "learn": [
                          0.3115282177,
                          0.8838383838
                        ],
                        "iteration": 154,
                        "passed_time": 2.516376498,
                        "remaining_time": 13.71831059,
                        "test": [
                          0.4600706906,
                          0.7946127946
                        ]
                      },
                      {
                        "learn": [
                          0.3113298255,
                          0.8855218855
                        ],
                        "iteration": 155,
                        "passed_time": 2.534353824,
                        "remaining_time": 13.71150402,
                        "test": [
                          0.4603407936,
                          0.7912457912
                        ]
                      },
                      {
                        "learn": [
                          0.3107714493,
                          0.8855218855
                        ],
                        "iteration": 156,
                        "passed_time": 2.553228178,
                        "remaining_time": 13.70937168,
                        "test": [
                          0.460418404,
                          0.7912457912
                        ]
                      },
                      {
                        "learn": [
                          0.3106103434,
                          0.8855218855
                        ],
                        "iteration": 157,
                        "passed_time": 2.566253782,
                        "remaining_time": 13.67585876,
                        "test": [
                          0.4603825258,
                          0.7912457912
                        ]
                      },
                      {
                        "learn": [
                          0.3104285048,
                          0.8838383838
                        ],
                        "iteration": 158,
                        "passed_time": 2.583781927,
                        "remaining_time": 13.66641887,
                        "test": [
                          0.4605413537,
                          0.7912457912
                        ]
                      },
                      {
                        "learn": [
                          0.3098163595,
                          0.8855218855
                        ],
                        "iteration": 159,
                        "passed_time": 2.604516444,
                        "remaining_time": 13.67371133,
                        "test": [
                          0.4608283223,
                          0.7946127946
                        ]
                      },
                      {
                        "learn": [
                          0.3094603441,
                          0.8855218855
                        ],
                        "iteration": 160,
                        "passed_time": 2.616803587,
                        "remaining_time": 13.63663484,
                        "test": [
                          0.4607958883,
                          0.7946127946
                        ]
                      },
                      {
                        "learn": [
                          0.3091726677,
                          0.8855218855
                        ],
                        "iteration": 161,
                        "passed_time": 2.626216969,
                        "remaining_time": 13.58499889,
                        "test": [
                          0.4602587466,
                          0.7946127946
                        ]
                      },
                      {
                        "learn": [
                          0.3089221119,
                          0.8855218855
                        ],
                        "iteration": 162,
                        "passed_time": 2.636934604,
                        "remaining_time": 13.5405783,
                        "test": [
                          0.4601317152,
                          0.7946127946
                        ]
                      },
                      {
                        "learn": [
                          0.3088798511,
                          0.8855218855
                        ],
                        "iteration": 163,
                        "passed_time": 2.644368976,
                        "remaining_time": 13.4798321,
                        "test": [
                          0.4601587734,
                          0.7946127946
                        ]
                      },
                      {
                        "learn": [
                          0.307525971,
                          0.8838383838
                        ],
                        "iteration": 164,
                        "passed_time": 2.65792802,
                        "remaining_time": 13.45072664,
                        "test": [
                          0.4602907941,
                          0.7946127946
                        ]
                      },
                      {
                        "learn": [
                          0.3070784757,
                          0.8838383838
                        ],
                        "iteration": 165,
                        "passed_time": 2.672434817,
                        "remaining_time": 13.4265701,
                        "test": [
                          0.4602354982,
                          0.7946127946
                        ]
                      },
                      {
                        "learn": [
                          0.3063262133,
                          0.8838383838
                        ],
                        "iteration": 166,
                        "passed_time": 2.686903964,
                        "remaining_time": 13.40234133,
                        "test": [
                          0.460465544,
                          0.7946127946
                        ]
                      }
                    ],
                    "meta": {
                      "test_sets": [
                        "test"
                      ],
                      "test_metrics": [
                        {
                          "best_value": "Min",
                          "name": "Logloss"
                        },
                        {
                          "best_value": "Max",
                          "name": "Accuracy"
                        }
                      ],
                      "learn_metrics": [
                        {
                          "best_value": "Min",
                          "name": "Logloss"
                        },
                        {
                          "best_value": "Max",
                          "name": "Accuracy"
                        }
                      ],
                      "launch_mode": "Train",
                      "parameters": "",
                      "iteration_count": 1000,
                      "learn_sets": [
                        "learn"
                      ],
                      "name": "experiment"
                    }
                  }
                }
              }
            },
            "layout": "IPY_MODEL_9eb24f822b20419f9f65b7aac59a828a"
          }
        },
        "6b55240eae2840f8930bdf41061bf2e8": {
          "model_module": "catboost-widget",
          "model_name": "CatboostWidgetModel",
          "model_module_version": "^1.0.0",
          "state": {
            "_dom_classes": [],
            "_model_module": "catboost-widget",
            "_model_module_version": "^1.0.0",
            "_model_name": "CatboostWidgetModel",
            "_view_count": null,
            "_view_module": "catboost-widget",
            "_view_module_version": "^1.0.0",
            "_view_name": "CatboostWidgetView",
            "data": {
              "catboost_info": {
                "path": "catboost_info",
                "name": "catboost_info",
                "content": {
                  "passed_iterations": 49,
                  "total_iterations": 50,
                  "data": {
                    "iterations": [
                      {
                        "iteration": 0,
                        "eval_dataset": [
                          0.8627368774
                        ]
                      },
                      {
                        "iteration": 1,
                        "eval_dataset": [
                          0.8623176254
                        ]
                      },
                      {
                        "iteration": 2,
                        "eval_dataset": [
                          0.8602213651
                        ]
                      },
                      {
                        "iteration": 3,
                        "eval_dataset": [
                          0.8514170719
                        ]
                      },
                      {
                        "iteration": 4,
                        "eval_dataset": [
                          0.8495723629
                        ]
                      },
                      {
                        "iteration": 5,
                        "eval_dataset": [
                          0.8569092739
                        ]
                      },
                      {
                        "iteration": 6,
                        "eval_dataset": [
                          0.8573285259
                        ]
                      },
                      {
                        "iteration": 7,
                        "eval_dataset": [
                          0.8584605065
                        ]
                      },
                      {
                        "iteration": 8,
                        "eval_dataset": [
                          0.8636592319
                        ]
                      },
                      {
                        "iteration": 9,
                        "eval_dataset": [
                          0.8647492873
                        ]
                      },
                      {
                        "iteration": 10,
                        "eval_dataset": [
                          0.8619402985
                        ]
                      },
                      {
                        "iteration": 11,
                        "eval_dataset": [
                          0.8637850075
                        ]
                      },
                      {
                        "iteration": 12,
                        "eval_dataset": [
                          0.86428811
                        ]
                      },
                      {
                        "iteration": 13,
                        "eval_dataset": [
                          0.8613952708
                        ]
                      },
                      {
                        "iteration": 14,
                        "eval_dataset": [
                          0.8641623344
                        ]
                      },
                      {
                        "iteration": 15,
                        "eval_dataset": [
                          0.864078484
                        ]
                      },
                      {
                        "iteration": 16,
                        "eval_dataset": [
                          0.8647492873
                        ]
                      },
                      {
                        "iteration": 17,
                        "eval_dataset": [
                          0.8660489686
                        ]
                      },
                      {
                        "iteration": 18,
                        "eval_dataset": [
                          0.8678098273
                        ]
                      },
                      {
                        "iteration": 19,
                        "eval_dataset": [
                          0.8649169881
                        ]
                      },
                      {
                        "iteration": 20,
                        "eval_dataset": [
                          0.8668455475
                        ]
                      },
                      {
                        "iteration": 21,
                        "eval_dataset": [
                          0.8690256582
                        ]
                      },
                      {
                        "iteration": 22,
                        "eval_dataset": [
                          0.8717927218
                        ]
                      },
                      {
                        "iteration": 23,
                        "eval_dataset": [
                          0.870618816
                        ]
                      },
                      {
                        "iteration": 24,
                        "eval_dataset": [
                          0.8726312259
                        ]
                      },
                      {
                        "iteration": 25,
                        "eval_dataset": [
                          0.874685561
                        ]
                      },
                      {
                        "iteration": 26,
                        "eval_dataset": [
                          0.8741824585
                        ]
                      },
                      {
                        "iteration": 27,
                        "eval_dataset": [
                          0.8782911286
                        ]
                      },
                      {
                        "iteration": 28,
                        "eval_dataset": [
                          0.8800519873
                        ]
                      },
                      {
                        "iteration": 29,
                        "eval_dataset": [
                          0.881225893
                        ]
                      },
                      {
                        "iteration": 30,
                        "eval_dataset": [
                          0.8838252557
                        ]
                      },
                      {
                        "iteration": 31,
                        "eval_dataset": [
                          0.884496059
                        ]
                      },
                      {
                        "iteration": 32,
                        "eval_dataset": [
                          0.8850830119
                        ]
                      },
                      {
                        "iteration": 33,
                        "eval_dataset": [
                          0.8870954218
                        ]
                      },
                      {
                        "iteration": 34,
                        "eval_dataset": [
                          0.8852507127
                        ]
                      },
                      {
                        "iteration": 35,
                        "eval_dataset": [
                          0.8860892168
                        ]
                      },
                      {
                        "iteration": 36,
                        "eval_dataset": [
                          0.8882693275
                        ]
                      },
                      {
                        "iteration": 37,
                        "eval_dataset": [
                          0.8879339259
                        ]
                      },
                      {
                        "iteration": 38,
                        "eval_dataset": [
                          0.8885208788
                        ]
                      },
                      {
                        "iteration": 39,
                        "eval_dataset": [
                          0.8888562804
                        ]
                      },
                      {
                        "iteration": 40,
                        "eval_dataset": [
                          0.8908686903
                        ]
                      },
                      {
                        "iteration": 41,
                        "eval_dataset": [
                          0.8908686903
                        ]
                      },
                      {
                        "iteration": 42,
                        "eval_dataset": [
                          0.8911202415
                        ]
                      },
                      {
                        "iteration": 43,
                        "eval_dataset": [
                          0.8905332886
                        ]
                      },
                      {
                        "iteration": 44,
                        "eval_dataset": [
                          0.8909525407
                        ]
                      },
                      {
                        "iteration": 45,
                        "eval_dataset": [
                          0.8919587456
                        ]
                      },
                      {
                        "iteration": 46,
                        "eval_dataset": [
                          0.8922941472
                        ]
                      },
                      {
                        "iteration": 47,
                        "eval_dataset": [
                          0.8926295489
                        ]
                      },
                      {
                        "iteration": 48,
                        "eval_dataset": [
                          0.8923779977
                        ]
                      },
                      {
                        "iteration": 49,
                        "eval_dataset": [
                          0.892042596
                        ]
                      }
                    ],
                    "meta": {
                      "test_sets": [
                        "eval_dataset"
                      ],
                      "test_metrics": [
                        {
                          "best_value": "Max",
                          "name": "AUC"
                        }
                      ],
                      "learn_metrics": [],
                      "launch_mode": "Eval",
                      "parameters": "",
                      "iteration_count": 50,
                      "learn_sets": [],
                      "name": ""
                    }
                  }
                }
              }
            },
            "layout": "IPY_MODEL_5ad3308dc86243ae86868a44389d86e8"
          }
        },
        "eeb2a9d930eb428baa7d2911c50b7134": {
          "model_module": "catboost-widget",
          "model_name": "CatboostWidgetModel",
          "model_module_version": "^1.0.0",
          "state": {
            "_dom_classes": [],
            "_model_module": "catboost-widget",
            "_model_module_version": "^1.0.0",
            "_model_name": "CatboostWidgetModel",
            "_view_count": null,
            "_view_module": "catboost-widget",
            "_view_module_version": "^1.0.0",
            "_view_name": "CatboostWidgetView",
            "data": {
              "model_depth_1": {
                "path": "model_depth_1",
                "name": "model_depth_1",
                "content": {
                  "passed_iterations": 99,
                  "total_iterations": 100,
                  "data": {
                    "iterations": [
                      {
                        "learn": [
                          0.6688062472
                        ],
                        "iteration": 0,
                        "passed_time": 0.0007338743673,
                        "remaining_time": 0.07265356236,
                        "test": [
                          0.6692407708
                        ]
                      },
                      {
                        "learn": [
                          0.647962157
                        ],
                        "iteration": 1,
                        "passed_time": 0.001358594965,
                        "remaining_time": 0.06657115328,
                        "test": [
                          0.6487665199
                        ]
                      },
                      {
                        "learn": [
                          0.6300477912
                        ],
                        "iteration": 2,
                        "passed_time": 0.00189034018,
                        "remaining_time": 0.06112099916,
                        "test": [
                          0.6311689522
                        ]
                      },
                      {
                        "learn": [
                          0.6146073872
                        ],
                        "iteration": 3,
                        "passed_time": 0.002297025538,
                        "remaining_time": 0.05512861291,
                        "test": [
                          0.6160012645
                        ]
                      },
                      {
                        "learn": [
                          0.6012694898
                        ],
                        "iteration": 4,
                        "passed_time": 0.002694716386,
                        "remaining_time": 0.05119961134,
                        "test": [
                          0.6028990384
                        ]
                      },
                      {
                        "learn": [
                          0.5897277567
                        ],
                        "iteration": 5,
                        "passed_time": 0.003049139856,
                        "remaining_time": 0.04776985775,
                        "test": [
                          0.591561558
                        ]
                      },
                      {
                        "learn": [
                          0.5797270109
                        ],
                        "iteration": 6,
                        "passed_time": 0.003386660323,
                        "remaining_time": 0.04499420143,
                        "test": [
                          0.5817382163
                        ]
                      },
                      {
                        "learn": [
                          0.5710528935
                        ],
                        "iteration": 7,
                        "passed_time": 0.003774643411,
                        "remaining_time": 0.04340839923,
                        "test": [
                          0.573218418
                        ]
                      },
                      {
                        "learn": [
                          0.5635240447
                        ],
                        "iteration": 8,
                        "passed_time": 0.004501161611,
                        "remaining_time": 0.04551174517,
                        "test": [
                          0.5658239402
                        ]
                      },
                      {
                        "learn": [
                          0.5592171141
                        ],
                        "iteration": 9,
                        "passed_time": 0.005025012879,
                        "remaining_time": 0.04522511591,
                        "test": [
                          0.5610671634
                        ]
                      },
                      {
                        "learn": [
                          0.5531289037
                        ],
                        "iteration": 10,
                        "passed_time": 0.00555824142,
                        "remaining_time": 0.04497122603,
                        "test": [
                          0.5544115699
                        ]
                      },
                      {
                        "learn": [
                          0.547036674
                        ],
                        "iteration": 11,
                        "passed_time": 0.007517087791,
                        "remaining_time": 0.05512531046,
                        "test": [
                          0.5484020722
                        ]
                      },
                      {
                        "learn": [
                          0.5418181258
                        ],
                        "iteration": 12,
                        "passed_time": 0.008050274509,
                        "remaining_time": 0.05387491402,
                        "test": [
                          0.5426836067
                        ]
                      },
                      {
                        "learn": [
                          0.5370546927
                        ],
                        "iteration": 13,
                        "passed_time": 0.008457193526,
                        "remaining_time": 0.05195133166,
                        "test": [
                          0.5375549773
                        ]
                      },
                      {
                        "learn": [
                          0.5320266761
                        ],
                        "iteration": 14,
                        "passed_time": 0.008889340898,
                        "remaining_time": 0.05037293176,
                        "test": [
                          0.532587443
                        ]
                      },
                      {
                        "learn": [
                          0.527660478
                        ],
                        "iteration": 15,
                        "passed_time": 0.009237038716,
                        "remaining_time": 0.04849445326,
                        "test": [
                          0.528276241
                        ]
                      },
                      {
                        "learn": [
                          0.5235074675
                        ],
                        "iteration": 16,
                        "passed_time": 0.009669715231,
                        "remaining_time": 0.0472109626,
                        "test": [
                          0.5231274599
                        ]
                      },
                      {
                        "learn": [
                          0.5200853468
                        ],
                        "iteration": 17,
                        "passed_time": 0.01004421519,
                        "remaining_time": 0.04575698033,
                        "test": [
                          0.5188206031
                        ]
                      },
                      {
                        "learn": [
                          0.516984371
                        ],
                        "iteration": 18,
                        "passed_time": 0.01040846053,
                        "remaining_time": 0.04437291066,
                        "test": [
                          0.5148729654
                        ]
                      },
                      {
                        "learn": [
                          0.5141349842
                        ],
                        "iteration": 19,
                        "passed_time": 0.01083672161,
                        "remaining_time": 0.04334688645,
                        "test": [
                          0.5115758948
                        ]
                      },
                      {
                        "learn": [
                          0.5118023961
                        ],
                        "iteration": 20,
                        "passed_time": 0.01127512595,
                        "remaining_time": 0.04241595002,
                        "test": [
                          0.5085287985
                        ]
                      },
                      {
                        "learn": [
                          0.5101105193
                        ],
                        "iteration": 21,
                        "passed_time": 0.01166490876,
                        "remaining_time": 0.0413574038,
                        "test": [
                          0.5070455618
                        ]
                      },
                      {
                        "learn": [
                          0.5066552732
                        ],
                        "iteration": 22,
                        "passed_time": 0.01203790449,
                        "remaining_time": 0.04030081068,
                        "test": [
                          0.5036022394
                        ]
                      },
                      {
                        "learn": [
                          0.5042586527
                        ],
                        "iteration": 23,
                        "passed_time": 0.01239738618,
                        "remaining_time": 0.03925838956,
                        "test": [
                          0.5009310059
                        ]
                      },
                      {
                        "learn": [
                          0.5026381717
                        ],
                        "iteration": 24,
                        "passed_time": 0.01275214468,
                        "remaining_time": 0.03825643404,
                        "test": [
                          0.4991300711
                        ]
                      },
                      {
                        "learn": [
                          0.5010462197
                        ],
                        "iteration": 25,
                        "passed_time": 0.01311930438,
                        "remaining_time": 0.03733955863,
                        "test": [
                          0.4969262811
                        ]
                      },
                      {
                        "learn": [
                          0.4981353004
                        ],
                        "iteration": 26,
                        "passed_time": 0.01347516799,
                        "remaining_time": 0.03643286161,
                        "test": [
                          0.4940176538
                        ]
                      },
                      {
                        "learn": [
                          0.4956119806
                        ],
                        "iteration": 27,
                        "passed_time": 0.01383854188,
                        "remaining_time": 0.03558482197,
                        "test": [
                          0.4914996111
                        ]
                      },
                      {
                        "learn": [
                          0.4943164973
                        ],
                        "iteration": 28,
                        "passed_time": 0.01418737344,
                        "remaining_time": 0.03473460394,
                        "test": [
                          0.4896553563
                        ]
                      },
                      {
                        "learn": [
                          0.4925938098
                        ],
                        "iteration": 29,
                        "passed_time": 0.01453070993,
                        "remaining_time": 0.03390498983,
                        "test": [
                          0.4877054851
                        ]
                      },
                      {
                        "learn": [
                          0.4913142905
                        ],
                        "iteration": 30,
                        "passed_time": 0.01489020571,
                        "remaining_time": 0.03314271593,
                        "test": [
                          0.4861260679
                        ]
                      },
                      {
                        "learn": [
                          0.4903251275
                        ],
                        "iteration": 31,
                        "passed_time": 0.01523427726,
                        "remaining_time": 0.03237283918,
                        "test": [
                          0.4846515068
                        ]
                      },
                      {
                        "learn": [
                          0.4881468188
                        ],
                        "iteration": 32,
                        "passed_time": 0.01559243564,
                        "remaining_time": 0.03165736933,
                        "test": [
                          0.4824835283
                        ]
                      },
                      {
                        "learn": [
                          0.4872764879
                        ],
                        "iteration": 33,
                        "passed_time": 0.01598432638,
                        "remaining_time": 0.03102839827,
                        "test": [
                          0.4817411792
                        ]
                      },
                      {
                        "learn": [
                          0.4864445883
                        ],
                        "iteration": 34,
                        "passed_time": 0.01632783652,
                        "remaining_time": 0.03032312497,
                        "test": [
                          0.4804692129
                        ]
                      },
                      {
                        "learn": [
                          0.4859407098
                        ],
                        "iteration": 35,
                        "passed_time": 0.01666938283,
                        "remaining_time": 0.02963445837,
                        "test": [
                          0.4794568986
                        ]
                      },
                      {
                        "learn": [
                          0.4851840962
                        ],
                        "iteration": 36,
                        "passed_time": 0.01701778299,
                        "remaining_time": 0.02897622509,
                        "test": [
                          0.4787500513
                        ]
                      },
                      {
                        "learn": [
                          0.484323397
                        ],
                        "iteration": 37,
                        "passed_time": 0.01742257816,
                        "remaining_time": 0.02842631174,
                        "test": [
                          0.4781818502
                        ]
                      },
                      {
                        "learn": [
                          0.4836095593
                        ],
                        "iteration": 38,
                        "passed_time": 0.01782339386,
                        "remaining_time": 0.02787761604,
                        "test": [
                          0.476922081
                        ]
                      },
                      {
                        "learn": [
                          0.4817663184
                        ],
                        "iteration": 39,
                        "passed_time": 0.01818373245,
                        "remaining_time": 0.02727559868,
                        "test": [
                          0.4750972507
                        ]
                      },
                      {
                        "learn": [
                          0.4801707445
                        ],
                        "iteration": 40,
                        "passed_time": 0.01855206545,
                        "remaining_time": 0.02669687467,
                        "test": [
                          0.4735217984
                        ]
                      },
                      {
                        "learn": [
                          0.4791418808
                        ],
                        "iteration": 41,
                        "passed_time": 0.01889117971,
                        "remaining_time": 0.0260878196,
                        "test": [
                          0.4723679541
                        ]
                      },
                      {
                        "learn": [
                          0.478331483
                        ],
                        "iteration": 42,
                        "passed_time": 0.01924811433,
                        "remaining_time": 0.02551494225,
                        "test": [
                          0.4714088691
                        ]
                      },
                      {
                        "learn": [
                          0.4772522936
                        ],
                        "iteration": 43,
                        "passed_time": 0.01966147943,
                        "remaining_time": 0.02502370109,
                        "test": [
                          0.4691590291
                        ]
                      },
                      {
                        "learn": [
                          0.4763054611
                        ],
                        "iteration": 44,
                        "passed_time": 0.02002354,
                        "remaining_time": 0.02447321556,
                        "test": [
                          0.46710999
                        ]
                      },
                      {
                        "learn": [
                          0.4749184619
                        ],
                        "iteration": 45,
                        "passed_time": 0.02036607823,
                        "remaining_time": 0.02390800488,
                        "test": [
                          0.4657904563
                        ]
                      },
                      {
                        "learn": [
                          0.4740808131
                        ],
                        "iteration": 46,
                        "passed_time": 0.02071533165,
                        "remaining_time": 0.02335984207,
                        "test": [
                          0.4646884706
                        ]
                      },
                      {
                        "learn": [
                          0.4728803921
                        ],
                        "iteration": 47,
                        "passed_time": 0.02105960823,
                        "remaining_time": 0.02281457558,
                        "test": [
                          0.4635670157
                        ]
                      },
                      {
                        "learn": [
                          0.4726198705
                        ],
                        "iteration": 48,
                        "passed_time": 0.0214071633,
                        "remaining_time": 0.02228092507,
                        "test": [
                          0.462962451
                        ]
                      },
                      {
                        "learn": [
                          0.4719051813
                        ],
                        "iteration": 49,
                        "passed_time": 0.02176537214,
                        "remaining_time": 0.02176537214,
                        "test": [
                          0.4613228292
                        ]
                      },
                      {
                        "learn": [
                          0.4712816499
                        ],
                        "iteration": 50,
                        "passed_time": 0.02211636846,
                        "remaining_time": 0.02124905989,
                        "test": [
                          0.4598372722
                        ]
                      },
                      {
                        "learn": [
                          0.4708432131
                        ],
                        "iteration": 51,
                        "passed_time": 0.02245596049,
                        "remaining_time": 0.02072857891,
                        "test": [
                          0.4591452068
                        ]
                      },
                      {
                        "learn": [
                          0.4702143626
                        ],
                        "iteration": 52,
                        "passed_time": 0.0228542764,
                        "remaining_time": 0.02026699983,
                        "test": [
                          0.4584258033
                        ]
                      },
                      {
                        "learn": [
                          0.4696912902
                        ],
                        "iteration": 53,
                        "passed_time": 0.02321894723,
                        "remaining_time": 0.01977910319,
                        "test": [
                          0.4571126682
                        ]
                      },
                      {
                        "learn": [
                          0.4692446698
                        ],
                        "iteration": 54,
                        "passed_time": 0.02358522912,
                        "remaining_time": 0.01929700564,
                        "test": [
                          0.4566543731
                        ]
                      },
                      {
                        "learn": [
                          0.4681964858
                        ],
                        "iteration": 55,
                        "passed_time": 0.02393278147,
                        "remaining_time": 0.0188043283,
                        "test": [
                          0.4557273712
                        ]
                      },
                      {
                        "learn": [
                          0.4678237969
                        ],
                        "iteration": 56,
                        "passed_time": 0.02429183221,
                        "remaining_time": 0.01832541728,
                        "test": [
                          0.4554787831
                        ]
                      },
                      {
                        "learn": [
                          0.4676042459
                        ],
                        "iteration": 57,
                        "passed_time": 0.02463981869,
                        "remaining_time": 0.01784262733,
                        "test": [
                          0.4547063488
                        ]
                      },
                      {
                        "learn": [
                          0.4666992483
                        ],
                        "iteration": 58,
                        "passed_time": 0.02498398707,
                        "remaining_time": 0.01736175373,
                        "test": [
                          0.4539120127
                        ]
                      },
                      {
                        "learn": [
                          0.4664906085
                        ],
                        "iteration": 59,
                        "passed_time": 0.02533748272,
                        "remaining_time": 0.01689165515,
                        "test": [
                          0.4531750857
                        ]
                      },
                      {
                        "learn": [
                          0.4660392363
                        ],
                        "iteration": 60,
                        "passed_time": 0.02568340901,
                        "remaining_time": 0.01642054018,
                        "test": [
                          0.4526287761
                        ]
                      },
                      {
                        "learn": [
                          0.46595757
                        ],
                        "iteration": 61,
                        "passed_time": 0.02603600866,
                        "remaining_time": 0.0159575537,
                        "test": [
                          0.4526224404
                        ]
                      },
                      {
                        "learn": [
                          0.465166592
                        ],
                        "iteration": 62,
                        "passed_time": 0.02637724585,
                        "remaining_time": 0.01549139836,
                        "test": [
                          0.4519361199
                        ]
                      },
                      {
                        "learn": [
                          0.4644832662
                        ],
                        "iteration": 63,
                        "passed_time": 0.02671822393,
                        "remaining_time": 0.01502900096,
                        "test": [
                          0.4513512601
                        ]
                      },
                      {
                        "learn": [
                          0.4638931262
                        ],
                        "iteration": 64,
                        "passed_time": 0.02708289385,
                        "remaining_time": 0.01458309669,
                        "test": [
                          0.4508536636
                        ]
                      },
                      {
                        "learn": [
                          0.4634536656
                        ],
                        "iteration": 65,
                        "passed_time": 0.02743432157,
                        "remaining_time": 0.01413283232,
                        "test": [
                          0.4497290947
                        ]
                      },
                      {
                        "learn": [
                          0.4628224917
                        ],
                        "iteration": 66,
                        "passed_time": 0.02778405504,
                        "remaining_time": 0.01368468383,
                        "test": [
                          0.4481729413
                        ]
                      },
                      {
                        "learn": [
                          0.4622406075
                        ],
                        "iteration": 67,
                        "passed_time": 0.02812550452,
                        "remaining_time": 0.01323553154,
                        "test": [
                          0.4467389418
                        ]
                      },
                      {
                        "learn": [
                          0.4617994547
                        ],
                        "iteration": 68,
                        "passed_time": 0.02847203359,
                        "remaining_time": 0.01279178321,
                        "test": [
                          0.4462433888
                        ]
                      },
                      {
                        "learn": [
                          0.4616566709
                        ],
                        "iteration": 69,
                        "passed_time": 0.02891713495,
                        "remaining_time": 0.01239305784,
                        "test": [
                          0.4460906054
                        ]
                      },
                      {
                        "learn": [
                          0.461279124
                        ],
                        "iteration": 70,
                        "passed_time": 0.02930663682,
                        "remaining_time": 0.01197031645,
                        "test": [
                          0.4456638233
                        ]
                      },
                      {
                        "learn": [
                          0.4609093396
                        ],
                        "iteration": 71,
                        "passed_time": 0.02967593855,
                        "remaining_time": 0.01154064277,
                        "test": [
                          0.4446622763
                        ]
                      },
                      {
                        "learn": [
                          0.4606402569
                        ],
                        "iteration": 72,
                        "passed_time": 0.03006234922,
                        "remaining_time": 0.01111895108,
                        "test": [
                          0.444670468
                        ]
                      },
                      {
                        "learn": [
                          0.4603191123
                        ],
                        "iteration": 73,
                        "passed_time": 0.03042904069,
                        "remaining_time": 0.01069128457,
                        "test": [
                          0.4437590394
                        ]
                      },
                      {
                        "learn": [
                          0.4598079825
                        ],
                        "iteration": 74,
                        "passed_time": 0.03082425858,
                        "remaining_time": 0.01027475286,
                        "test": [
                          0.4424987384
                        ]
                      },
                      {
                        "learn": [
                          0.4595929801
                        ],
                        "iteration": 75,
                        "passed_time": 0.03117222096,
                        "remaining_time": 0.009843859252,
                        "test": [
                          0.4420821477
                        ]
                      },
                      {
                        "learn": [
                          0.4595850056
                        ],
                        "iteration": 76,
                        "passed_time": 0.0315433406,
                        "remaining_time": 0.009422036802,
                        "test": [
                          0.4421063359
                        ]
                      },
                      {
                        "learn": [
                          0.4593110741
                        ],
                        "iteration": 77,
                        "passed_time": 0.03189606209,
                        "remaining_time": 0.008996325204,
                        "test": [
                          0.441292631
                        ]
                      },
                      {
                        "learn": [
                          0.4590308157
                        ],
                        "iteration": 78,
                        "passed_time": 0.03225539058,
                        "remaining_time": 0.008574217748,
                        "test": [
                          0.441169099
                        ]
                      },
                      {
                        "learn": [
                          0.45848351
                        ],
                        "iteration": 79,
                        "passed_time": 0.03259388386,
                        "remaining_time": 0.008148470966,
                        "test": [
                          0.4407271849
                        ]
                      },
                      {
                        "learn": [
                          0.4579413758
                        ],
                        "iteration": 80,
                        "passed_time": 0.03295063711,
                        "remaining_time": 0.00772916179,
                        "test": [
                          0.4404457511
                        ]
                      },
                      {
                        "learn": [
                          0.4571492078
                        ],
                        "iteration": 81,
                        "passed_time": 0.03329938366,
                        "remaining_time": 0.007309620804,
                        "test": [
                          0.4383488289
                        ]
                      },
                      {
                        "learn": [
                          0.4569258077
                        ],
                        "iteration": 82,
                        "passed_time": 0.03364026718,
                        "remaining_time": 0.006890175206,
                        "test": [
                          0.4383543716
                        ]
                      },
                      {
                        "learn": [
                          0.4567990412
                        ],
                        "iteration": 83,
                        "passed_time": 0.03399432698,
                        "remaining_time": 0.006475109901,
                        "test": [
                          0.4382260701
                        ]
                      },
                      {
                        "learn": [
                          0.4563748542
                        ],
                        "iteration": 84,
                        "passed_time": 0.03433418813,
                        "remaining_time": 0.006058974376,
                        "test": [
                          0.4379003672
                        ]
                      },
                      {
                        "learn": [
                          0.4562576965
                        ],
                        "iteration": 85,
                        "passed_time": 0.03468921257,
                        "remaining_time": 0.005647081115,
                        "test": [
                          0.4377825222
                        ]
                      },
                      {
                        "learn": [
                          0.4562573916
                        ],
                        "iteration": 86,
                        "passed_time": 0.03504195587,
                        "remaining_time": 0.005236154326,
                        "test": [
                          0.4377814221
                        ]
                      },
                      {
                        "learn": [
                          0.4558422864
                        ],
                        "iteration": 87,
                        "passed_time": 0.03539048923,
                        "remaining_time": 0.004825975803,
                        "test": [
                          0.436748952
                        ]
                      },
                      {
                        "learn": [
                          0.4555758196
                        ],
                        "iteration": 88,
                        "passed_time": 0.03574365985,
                        "remaining_time": 0.004417755711,
                        "test": [
                          0.4364489619
                        ]
                      },
                      {
                        "learn": [
                          0.4553088991
                        ],
                        "iteration": 89,
                        "passed_time": 0.03611550682,
                        "remaining_time": 0.004012834092,
                        "test": [
                          0.4365096934
                        ]
                      },
                      {
                        "learn": [
                          0.4550842791
                        ],
                        "iteration": 90,
                        "passed_time": 0.03647075447,
                        "remaining_time": 0.003606997694,
                        "test": [
                          0.435800281
                        ]
                      },
                      {
                        "learn": [
                          0.4544394598
                        ],
                        "iteration": 91,
                        "passed_time": 0.03681857639,
                        "remaining_time": 0.003201615338,
                        "test": [
                          0.4340152904
                        ]
                      },
                      {
                        "learn": [
                          0.4542481952
                        ],
                        "iteration": 92,
                        "passed_time": 0.03717017504,
                        "remaining_time": 0.00279775511,
                        "test": [
                          0.4333782561
                        ]
                      },
                      {
                        "learn": [
                          0.4537267641
                        ],
                        "iteration": 93,
                        "passed_time": 0.03752763425,
                        "remaining_time": 0.00239538091,
                        "test": [
                          0.4329601523
                        ]
                      },
                      {
                        "learn": [
                          0.4537266107
                        ],
                        "iteration": 94,
                        "passed_time": 0.03787507341,
                        "remaining_time": 0.001993424916,
                        "test": [
                          0.4329561924
                        ]
                      },
                      {
                        "learn": [
                          0.4532765468
                        ],
                        "iteration": 95,
                        "passed_time": 0.03823377911,
                        "remaining_time": 0.00159307413,
                        "test": [
                          0.4326024947
                        ]
                      },
                      {
                        "learn": [
                          0.4532764038
                        ],
                        "iteration": 96,
                        "passed_time": 0.03857864166,
                        "remaining_time": 0.001193153866,
                        "test": [
                          0.4325973647
                        ]
                      },
                      {
                        "learn": [
                          0.4530467748
                        ],
                        "iteration": 97,
                        "passed_time": 0.03892469841,
                        "remaining_time": 0.0007943816001,
                        "test": [
                          0.4323368503
                        ]
                      },
                      {
                        "learn": [
                          0.4530448653
                        ],
                        "iteration": 98,
                        "passed_time": 0.03927969102,
                        "remaining_time": 0.0003967645558,
                        "test": [
                          0.4323361604
                        ]
                      },
                      {
                        "learn": [
                          0.4528595418
                        ],
                        "iteration": 99,
                        "passed_time": 0.03965189076,
                        "remaining_time": 0,
                        "test": [
                          0.4323407325
                        ]
                      }
                    ],
                    "meta": {
                      "test_sets": [
                        "test"
                      ],
                      "test_metrics": [
                        {
                          "best_value": "Min",
                          "name": "Logloss"
                        }
                      ],
                      "learn_metrics": [
                        {
                          "best_value": "Min",
                          "name": "Logloss"
                        }
                      ],
                      "launch_mode": "Train",
                      "parameters": "",
                      "iteration_count": 100,
                      "learn_sets": [
                        "learn"
                      ],
                      "name": "experiment"
                    }
                  }
                }
              },
              "model_depth_5": {
                "path": "model_depth_5",
                "name": "model_depth_5",
                "content": {
                  "passed_iterations": 99,
                  "total_iterations": 100,
                  "data": {
                    "iterations": [
                      {
                        "learn": [
                          0.6680661239
                        ],
                        "iteration": 0,
                        "passed_time": 0.002186299797,
                        "remaining_time": 0.2164436799,
                        "test": [
                          0.6668290121
                        ]
                      },
                      {
                        "learn": [
                          0.6434805983
                        ],
                        "iteration": 1,
                        "passed_time": 0.00392834923,
                        "remaining_time": 0.1924891123,
                        "test": [
                          0.6422345364
                        ]
                      },
                      {
                        "learn": [
                          0.623613061
                        ],
                        "iteration": 2,
                        "passed_time": 0.004968888798,
                        "remaining_time": 0.1606607378,
                        "test": [
                          0.6209064214
                        ]
                      },
                      {
                        "learn": [
                          0.6054272623
                        ],
                        "iteration": 3,
                        "passed_time": 0.007457822951,
                        "remaining_time": 0.1789877508,
                        "test": [
                          0.6052347867
                        ]
                      },
                      {
                        "learn": [
                          0.5875686206
                        ],
                        "iteration": 4,
                        "passed_time": 0.01030272027,
                        "remaining_time": 0.1957516851,
                        "test": [
                          0.5876558136
                        ]
                      },
                      {
                        "learn": [
                          0.5728916475
                        ],
                        "iteration": 5,
                        "passed_time": 0.01186525274,
                        "remaining_time": 0.1858889596,
                        "test": [
                          0.5726416417
                        ]
                      },
                      {
                        "learn": [
                          0.560539846
                        ],
                        "iteration": 6,
                        "passed_time": 0.01392421746,
                        "remaining_time": 0.1849931748,
                        "test": [
                          0.5603103344
                        ]
                      },
                      {
                        "learn": [
                          0.5480291686
                        ],
                        "iteration": 7,
                        "passed_time": 0.01600957429,
                        "remaining_time": 0.1841101043,
                        "test": [
                          0.5484827317
                        ]
                      },
                      {
                        "learn": [
                          0.5373599971
                        ],
                        "iteration": 8,
                        "passed_time": 0.01788526123,
                        "remaining_time": 0.1808398635,
                        "test": [
                          0.5381815092
                        ]
                      },
                      {
                        "learn": [
                          0.5282958068
                        ],
                        "iteration": 9,
                        "passed_time": 0.01981879332,
                        "remaining_time": 0.1783691399,
                        "test": [
                          0.5289785739
                        ]
                      },
                      {
                        "learn": [
                          0.5187907958
                        ],
                        "iteration": 10,
                        "passed_time": 0.02137300999,
                        "remaining_time": 0.1729270808,
                        "test": [
                          0.5193169692
                        ]
                      },
                      {
                        "learn": [
                          0.5098004977
                        ],
                        "iteration": 11,
                        "passed_time": 0.02280791054,
                        "remaining_time": 0.1672580106,
                        "test": [
                          0.5111568833
                        ]
                      },
                      {
                        "learn": [
                          0.5015599676
                        ],
                        "iteration": 12,
                        "passed_time": 0.02364406983,
                        "remaining_time": 0.1582333904,
                        "test": [
                          0.5033884619
                        ]
                      },
                      {
                        "learn": [
                          0.4931909607
                        ],
                        "iteration": 13,
                        "passed_time": 0.02507563323,
                        "remaining_time": 0.1540360327,
                        "test": [
                          0.4965132673
                        ]
                      },
                      {
                        "learn": [
                          0.4868882512
                        ],
                        "iteration": 14,
                        "passed_time": 0.0267057259,
                        "remaining_time": 0.1513324468,
                        "test": [
                          0.4916695045
                        ]
                      },
                      {
                        "learn": [
                          0.4802584186
                        ],
                        "iteration": 15,
                        "passed_time": 0.02812766246,
                        "remaining_time": 0.1476702279,
                        "test": [
                          0.486838112
                        ]
                      },
                      {
                        "learn": [
                          0.4737285014
                        ],
                        "iteration": 16,
                        "passed_time": 0.02957340997,
                        "remaining_time": 0.1443878252,
                        "test": [
                          0.4811423663
                        ]
                      },
                      {
                        "learn": [
                          0.4684534295
                        ],
                        "iteration": 17,
                        "passed_time": 0.03103560953,
                        "remaining_time": 0.1413844434,
                        "test": [
                          0.4763491759
                        ]
                      },
                      {
                        "learn": [
                          0.4630783901
                        ],
                        "iteration": 18,
                        "passed_time": 0.03245266744,
                        "remaining_time": 0.1383508454,
                        "test": [
                          0.4721237789
                        ]
                      },
                      {
                        "learn": [
                          0.4588926322
                        ],
                        "iteration": 19,
                        "passed_time": 0.03387056679,
                        "remaining_time": 0.1354822672,
                        "test": [
                          0.468049682
                        ]
                      },
                      {
                        "learn": [
                          0.4551385951
                        ],
                        "iteration": 20,
                        "passed_time": 0.03490487758,
                        "remaining_time": 0.1313088252,
                        "test": [
                          0.4648032664
                        ]
                      },
                      {
                        "learn": [
                          0.4518682175
                        ],
                        "iteration": 21,
                        "passed_time": 0.03567063413,
                        "remaining_time": 0.1264686119,
                        "test": [
                          0.4619707126
                        ]
                      },
                      {
                        "learn": [
                          0.4500364982
                        ],
                        "iteration": 22,
                        "passed_time": 0.03696418915,
                        "remaining_time": 0.1237496767,
                        "test": [
                          0.4603093895
                        ]
                      },
                      {
                        "learn": [
                          0.4469936623
                        ],
                        "iteration": 23,
                        "passed_time": 0.03838040152,
                        "remaining_time": 0.1215379381,
                        "test": [
                          0.4578060668
                        ]
                      },
                      {
                        "learn": [
                          0.44405695
                        ],
                        "iteration": 24,
                        "passed_time": 0.03990605587,
                        "remaining_time": 0.1197181676,
                        "test": [
                          0.4548335458
                        ]
                      },
                      {
                        "learn": [
                          0.4424506145
                        ],
                        "iteration": 25,
                        "passed_time": 0.04073382798,
                        "remaining_time": 0.1159347412,
                        "test": [
                          0.4521244527
                        ]
                      },
                      {
                        "learn": [
                          0.4398095147
                        ],
                        "iteration": 26,
                        "passed_time": 0.04234652714,
                        "remaining_time": 0.1144924623,
                        "test": [
                          0.4506486377
                        ]
                      },
                      {
                        "learn": [
                          0.437976532
                        ],
                        "iteration": 27,
                        "passed_time": 0.04385716822,
                        "remaining_time": 0.1127755754,
                        "test": [
                          0.4482572603
                        ]
                      },
                      {
                        "learn": [
                          0.4364588327
                        ],
                        "iteration": 28,
                        "passed_time": 0.0452498574,
                        "remaining_time": 0.1107841336,
                        "test": [
                          0.4460673039
                        ]
                      },
                      {
                        "learn": [
                          0.4347848766
                        ],
                        "iteration": 29,
                        "passed_time": 0.04664304754,
                        "remaining_time": 0.1088337776,
                        "test": [
                          0.4441974131
                        ]
                      },
                      {
                        "learn": [
                          0.4321950973
                        ],
                        "iteration": 30,
                        "passed_time": 0.04808293811,
                        "remaining_time": 0.1070233139,
                        "test": [
                          0.4428167793
                        ]
                      },
                      {
                        "learn": [
                          0.4309002022
                        ],
                        "iteration": 31,
                        "passed_time": 0.04937611582,
                        "remaining_time": 0.1049242461,
                        "test": [
                          0.4409845836
                        ]
                      },
                      {
                        "learn": [
                          0.4290023802
                        ],
                        "iteration": 32,
                        "passed_time": 0.05021862937,
                        "remaining_time": 0.1019590354,
                        "test": [
                          0.439648213
                        ]
                      },
                      {
                        "learn": [
                          0.4274360242
                        ],
                        "iteration": 33,
                        "passed_time": 0.05153585486,
                        "remaining_time": 0.1000401889,
                        "test": [
                          0.4375829146
                        ]
                      },
                      {
                        "learn": [
                          0.4262054555
                        ],
                        "iteration": 34,
                        "passed_time": 0.05296631453,
                        "remaining_time": 0.09836601269,
                        "test": [
                          0.4363850917
                        ]
                      },
                      {
                        "learn": [
                          0.4244683662
                        ],
                        "iteration": 35,
                        "passed_time": 0.05435223442,
                        "remaining_time": 0.09662619452,
                        "test": [
                          0.4341696408
                        ]
                      },
                      {
                        "learn": [
                          0.4224253447
                        ],
                        "iteration": 36,
                        "passed_time": 0.05565199958,
                        "remaining_time": 0.0947588101,
                        "test": [
                          0.432875061
                        ]
                      },
                      {
                        "learn": [
                          0.420667287
                        ],
                        "iteration": 37,
                        "passed_time": 0.05701263611,
                        "remaining_time": 0.09302061681,
                        "test": [
                          0.4310935681
                        ]
                      },
                      {
                        "learn": [
                          0.4196381142
                        ],
                        "iteration": 38,
                        "passed_time": 0.05842384527,
                        "remaining_time": 0.09138088619,
                        "test": [
                          0.4296132864
                        ]
                      },
                      {
                        "learn": [
                          0.4187555456
                        ],
                        "iteration": 39,
                        "passed_time": 0.05982323737,
                        "remaining_time": 0.08973485606,
                        "test": [
                          0.4276260232
                        ]
                      },
                      {
                        "learn": [
                          0.417792299
                        ],
                        "iteration": 40,
                        "passed_time": 0.06115282543,
                        "remaining_time": 0.08800040733,
                        "test": [
                          0.4261135491
                        ]
                      },
                      {
                        "learn": [
                          0.4166971674
                        ],
                        "iteration": 41,
                        "passed_time": 0.06239047458,
                        "remaining_time": 0.08615827441,
                        "test": [
                          0.4247978056
                        ]
                      },
                      {
                        "learn": [
                          0.4157595482
                        ],
                        "iteration": 42,
                        "passed_time": 0.06367684572,
                        "remaining_time": 0.084408842,
                        "test": [
                          0.4235271388
                        ]
                      },
                      {
                        "learn": [
                          0.414475292
                        ],
                        "iteration": 43,
                        "passed_time": 0.06502003328,
                        "remaining_time": 0.08275276963,
                        "test": [
                          0.4227883078
                        ]
                      },
                      {
                        "learn": [
                          0.4129346033
                        ],
                        "iteration": 44,
                        "passed_time": 0.06631644039,
                        "remaining_time": 0.08105342715,
                        "test": [
                          0.4218667029
                        ]
                      },
                      {
                        "learn": [
                          0.4122214979
                        ],
                        "iteration": 45,
                        "passed_time": 0.06775215875,
                        "remaining_time": 0.07953514288,
                        "test": [
                          0.4213774581
                        ]
                      },
                      {
                        "learn": [
                          0.4109135218
                        ],
                        "iteration": 46,
                        "passed_time": 0.06914632353,
                        "remaining_time": 0.07797351376,
                        "test": [
                          0.420734937
                        ]
                      },
                      {
                        "learn": [
                          0.4098734862
                        ],
                        "iteration": 47,
                        "passed_time": 0.07050881432,
                        "remaining_time": 0.07638454885,
                        "test": [
                          0.4201079549
                        ]
                      },
                      {
                        "learn": [
                          0.4088653603
                        ],
                        "iteration": 48,
                        "passed_time": 0.07175066387,
                        "remaining_time": 0.0746792624,
                        "test": [
                          0.4198485743
                        ]
                      },
                      {
                        "learn": [
                          0.4075719182
                        ],
                        "iteration": 49,
                        "passed_time": 0.07306215609,
                        "remaining_time": 0.07306215609,
                        "test": [
                          0.4182179769
                        ]
                      },
                      {
                        "learn": [
                          0.4069496346
                        ],
                        "iteration": 50,
                        "passed_time": 0.0744359548,
                        "remaining_time": 0.07151689775,
                        "test": [
                          0.4181674282
                        ]
                      },
                      {
                        "learn": [
                          0.4060599007
                        ],
                        "iteration": 51,
                        "passed_time": 0.07579815421,
                        "remaining_time": 0.06996752696,
                        "test": [
                          0.4170330186
                        ]
                      },
                      {
                        "learn": [
                          0.4047825725
                        ],
                        "iteration": 52,
                        "passed_time": 0.07717009683,
                        "remaining_time": 0.06843385945,
                        "test": [
                          0.4157457202
                        ]
                      },
                      {
                        "learn": [
                          0.4043455275
                        ],
                        "iteration": 53,
                        "passed_time": 0.07855177085,
                        "remaining_time": 0.06691447147,
                        "test": [
                          0.4153134893
                        ]
                      },
                      {
                        "learn": [
                          0.4039255411
                        ],
                        "iteration": 54,
                        "passed_time": 0.08002490056,
                        "remaining_time": 0.06547491864,
                        "test": [
                          0.4141151293
                        ]
                      },
                      {
                        "learn": [
                          0.4036032965
                        ],
                        "iteration": 55,
                        "passed_time": 0.08161867334,
                        "remaining_time": 0.06412895762,
                        "test": [
                          0.4140798691
                        ]
                      },
                      {
                        "learn": [
                          0.4029024225
                        ],
                        "iteration": 56,
                        "passed_time": 0.08299713387,
                        "remaining_time": 0.06261187292,
                        "test": [
                          0.4141140144
                        ]
                      },
                      {
                        "learn": [
                          0.4020952943
                        ],
                        "iteration": 57,
                        "passed_time": 0.08432828117,
                        "remaining_time": 0.06106530705,
                        "test": [
                          0.4134542711
                        ]
                      },
                      {
                        "learn": [
                          0.4015204933
                        ],
                        "iteration": 58,
                        "passed_time": 0.08584002735,
                        "remaining_time": 0.05965154443,
                        "test": [
                          0.4133499134
                        ]
                      },
                      {
                        "learn": [
                          0.4000604027
                        ],
                        "iteration": 59,
                        "passed_time": 0.08714866656,
                        "remaining_time": 0.05809911104,
                        "test": [
                          0.413083154
                        ]
                      },
                      {
                        "learn": [
                          0.3994279347
                        ],
                        "iteration": 60,
                        "passed_time": 0.08849075311,
                        "remaining_time": 0.05657605527,
                        "test": [
                          0.4121856873
                        ]
                      },
                      {
                        "learn": [
                          0.3990964471
                        ],
                        "iteration": 61,
                        "passed_time": 0.08996614077,
                        "remaining_time": 0.05514053789,
                        "test": [
                          0.411985862
                        ]
                      },
                      {
                        "learn": [
                          0.3987655349
                        ],
                        "iteration": 62,
                        "passed_time": 0.09132425841,
                        "remaining_time": 0.05363488192,
                        "test": [
                          0.4113262744
                        ]
                      },
                      {
                        "learn": [
                          0.3981615458
                        ],
                        "iteration": 63,
                        "passed_time": 0.09259648227,
                        "remaining_time": 0.05208552128,
                        "test": [
                          0.4108518637
                        ]
                      },
                      {
                        "learn": [
                          0.3977092807
                        ],
                        "iteration": 64,
                        "passed_time": 0.09398486103,
                        "remaining_time": 0.05060723286,
                        "test": [
                          0.4111224474
                        ]
                      },
                      {
                        "learn": [
                          0.397055834
                        ],
                        "iteration": 65,
                        "passed_time": 0.09571724862,
                        "remaining_time": 0.04930888565,
                        "test": [
                          0.4109879205
                        ]
                      },
                      {
                        "learn": [
                          0.39654573
                        ],
                        "iteration": 66,
                        "passed_time": 0.09712278587,
                        "remaining_time": 0.04783659602,
                        "test": [
                          0.4104909263
                        ]
                      },
                      {
                        "learn": [
                          0.3960656465
                        ],
                        "iteration": 67,
                        "passed_time": 0.09822920182,
                        "remaining_time": 0.04622550674,
                        "test": [
                          0.4096944542
                        ]
                      },
                      {
                        "learn": [
                          0.395570877
                        ],
                        "iteration": 68,
                        "passed_time": 0.09961627001,
                        "remaining_time": 0.0447551358,
                        "test": [
                          0.4090941298
                        ]
                      },
                      {
                        "learn": [
                          0.3950021535
                        ],
                        "iteration": 69,
                        "passed_time": 0.1008946399,
                        "remaining_time": 0.04324055996,
                        "test": [
                          0.4087588478
                        ]
                      },
                      {
                        "learn": [
                          0.3940863392
                        ],
                        "iteration": 70,
                        "passed_time": 0.102215979,
                        "remaining_time": 0.0417501886,
                        "test": [
                          0.4082825254
                        ]
                      },
                      {
                        "learn": [
                          0.3938584222
                        ],
                        "iteration": 71,
                        "passed_time": 0.103514564,
                        "remaining_time": 0.0402556638,
                        "test": [
                          0.4077099925
                        ]
                      },
                      {
                        "learn": [
                          0.3927356968
                        ],
                        "iteration": 72,
                        "passed_time": 0.1049366011,
                        "remaining_time": 0.03881216752,
                        "test": [
                          0.4078967691
                        ]
                      },
                      {
                        "learn": [
                          0.3917979797
                        ],
                        "iteration": 73,
                        "passed_time": 0.1063209467,
                        "remaining_time": 0.03735600831,
                        "test": [
                          0.4081534103
                        ]
                      },
                      {
                        "learn": [
                          0.3913713102
                        ],
                        "iteration": 74,
                        "passed_time": 0.1077019157,
                        "remaining_time": 0.03590063856,
                        "test": [
                          0.4074620641
                        ]
                      },
                      {
                        "learn": [
                          0.3912088296
                        ],
                        "iteration": 75,
                        "passed_time": 0.1090677827,
                        "remaining_time": 0.0344424577,
                        "test": [
                          0.4075067581
                        ]
                      },
                      {
                        "learn": [
                          0.39099386
                        ],
                        "iteration": 76,
                        "passed_time": 0.1103960197,
                        "remaining_time": 0.03297543446,
                        "test": [
                          0.4072893266
                        ]
                      },
                      {
                        "learn": [
                          0.3907629622
                        ],
                        "iteration": 77,
                        "passed_time": 0.1116973478,
                        "remaining_time": 0.03150438014,
                        "test": [
                          0.4072261834
                        ]
                      },
                      {
                        "learn": [
                          0.3901819565
                        ],
                        "iteration": 78,
                        "passed_time": 0.1130839636,
                        "remaining_time": 0.03006029413,
                        "test": [
                          0.4074046214
                        ]
                      },
                      {
                        "learn": [
                          0.3891397491
                        ],
                        "iteration": 79,
                        "passed_time": 0.1144671874,
                        "remaining_time": 0.02861679684,
                        "test": [
                          0.4061527447
                        ]
                      },
                      {
                        "learn": [
                          0.3889414348
                        ],
                        "iteration": 80,
                        "passed_time": 0.1158789711,
                        "remaining_time": 0.02718148705,
                        "test": [
                          0.4062583531
                        ]
                      },
                      {
                        "learn": [
                          0.3886939292
                        ],
                        "iteration": 81,
                        "passed_time": 0.1172123345,
                        "remaining_time": 0.02572953685,
                        "test": [
                          0.4061653664
                        ]
                      },
                      {
                        "learn": [
                          0.3884921355
                        ],
                        "iteration": 82,
                        "passed_time": 0.1184763999,
                        "remaining_time": 0.02426625058,
                        "test": [
                          0.4063573425
                        ]
                      },
                      {
                        "learn": [
                          0.3875848889
                        ],
                        "iteration": 83,
                        "passed_time": 0.1198825281,
                        "remaining_time": 0.02283476726,
                        "test": [
                          0.4057249562
                        ]
                      },
                      {
                        "learn": [
                          0.3871943199
                        ],
                        "iteration": 84,
                        "passed_time": 0.1209403516,
                        "remaining_time": 0.02134241499,
                        "test": [
                          0.4052689655
                        ]
                      },
                      {
                        "learn": [
                          0.3870252388
                        ],
                        "iteration": 85,
                        "passed_time": 0.1222297335,
                        "remaining_time": 0.01989786359,
                        "test": [
                          0.4051246247
                        ]
                      },
                      {
                        "learn": [
                          0.3865734001
                        ],
                        "iteration": 86,
                        "passed_time": 0.1235787039,
                        "remaining_time": 0.01846578334,
                        "test": [
                          0.4051817651
                        ]
                      },
                      {
                        "learn": [
                          0.3859222124
                        ],
                        "iteration": 87,
                        "passed_time": 0.1248297198,
                        "remaining_time": 0.01702223452,
                        "test": [
                          0.4046920597
                        ]
                      },
                      {
                        "learn": [
                          0.3858280075
                        ],
                        "iteration": 88,
                        "passed_time": 0.1262201647,
                        "remaining_time": 0.01560024507,
                        "test": [
                          0.4046887052
                        ]
                      },
                      {
                        "learn": [
                          0.3853507339
                        ],
                        "iteration": 89,
                        "passed_time": 0.1275700942,
                        "remaining_time": 0.01417445492,
                        "test": [
                          0.4045694269
                        ]
                      },
                      {
                        "learn": [
                          0.384852619
                        ],
                        "iteration": 90,
                        "passed_time": 0.1289469282,
                        "remaining_time": 0.0127529929,
                        "test": [
                          0.4046015867
                        ]
                      },
                      {
                        "learn": [
                          0.384578895
                        ],
                        "iteration": 91,
                        "passed_time": 0.1302993131,
                        "remaining_time": 0.01133037505,
                        "test": [
                          0.4042980992
                        ]
                      },
                      {
                        "learn": [
                          0.3825441953
                        ],
                        "iteration": 92,
                        "passed_time": 0.1316675635,
                        "remaining_time": 0.00991046177,
                        "test": [
                          0.4029666354
                        ]
                      },
                      {
                        "learn": [
                          0.382477276
                        ],
                        "iteration": 93,
                        "passed_time": 0.1330462972,
                        "remaining_time": 0.008492316846,
                        "test": [
                          0.4029609583
                        ]
                      },
                      {
                        "learn": [
                          0.3817647234
                        ],
                        "iteration": 94,
                        "passed_time": 0.1344730947,
                        "remaining_time": 0.007077531302,
                        "test": [
                          0.4027796628
                        ]
                      },
                      {
                        "learn": [
                          0.3811850286
                        ],
                        "iteration": 95,
                        "passed_time": 0.1358450355,
                        "remaining_time": 0.005660209814,
                        "test": [
                          0.4023460564
                        ]
                      },
                      {
                        "learn": [
                          0.3806951232
                        ],
                        "iteration": 96,
                        "passed_time": 0.1383288965,
                        "remaining_time": 0.004278213293,
                        "test": [
                          0.4022987791
                        ]
                      },
                      {
                        "learn": [
                          0.3804764346
                        ],
                        "iteration": 97,
                        "passed_time": 0.1397407484,
                        "remaining_time": 0.002851852009,
                        "test": [
                          0.4022635155
                        ]
                      },
                      {
                        "learn": [
                          0.3793477931
                        ],
                        "iteration": 98,
                        "passed_time": 0.1411512466,
                        "remaining_time": 0.001425770168,
                        "test": [
                          0.4011315346
                        ]
                      },
                      {
                        "learn": [
                          0.3793375739
                        ],
                        "iteration": 99,
                        "passed_time": 0.1417515367,
                        "remaining_time": 0,
                        "test": [
                          0.4011329974
                        ]
                      }
                    ],
                    "meta": {
                      "test_sets": [
                        "test"
                      ],
                      "test_metrics": [
                        {
                          "best_value": "Min",
                          "name": "Logloss"
                        }
                      ],
                      "learn_metrics": [
                        {
                          "best_value": "Min",
                          "name": "Logloss"
                        }
                      ],
                      "launch_mode": "Train",
                      "parameters": "",
                      "iteration_count": 100,
                      "learn_sets": [
                        "learn"
                      ],
                      "name": "experiment"
                    }
                  }
                }
              }
            },
            "layout": "IPY_MODEL_f43c3739f0654817844695a5c6d2dfb2"
          }
        }
      }
    }
  },
  "nbformat": 4,
  "nbformat_minor": 0
}