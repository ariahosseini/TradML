{
  "cells": [
    {
      "cell_type": "markdown",
      "metadata": {
        "id": "view-in-github",
        "colab_type": "text"
      },
      "source": [
        "<a href=\"https://colab.research.google.com/github/ariahosseini/TradML/blob/main/ML_CatBoost_ProjOne.ipynb\" target=\"_parent\"><img src=\"https://colab.research.google.com/assets/colab-badge.svg\" alt=\"Open In Colab\"/></a>"
      ]
    },
    {
      "cell_type": "code",
      "execution_count": null,
      "metadata": {
        "id": "sSSo_OodEm9R"
      },
      "outputs": [],
      "source": [
        "import hyperopt\n",
        "import numpy as np\n",
        "import pandas as pd\n",
        "from numpy.random import RandomState\n",
        "from sklearn.metrics import accuracy_score\n",
        "from catboost.datasets import titanic\n",
        "from catboost import CatBoostClassifier, MetricVisualizer, Pool, metrics, cv\n",
        "from sklearn.model_selection import train_test_split"
      ]
    },
    {
      "cell_type": "code",
      "execution_count": null,
      "metadata": {
        "id": "iJp7xRZlEm9V",
        "outputId": "bb73de5a-77e6-41cc-e1fb-e2a06544f345"
      },
      "outputs": [
        {
          "data": {
            "text/html": [
              "<div>\n",
              "<style scoped>\n",
              "    .dataframe tbody tr th:only-of-type {\n",
              "        vertical-align: middle;\n",
              "    }\n",
              "\n",
              "    .dataframe tbody tr th {\n",
              "        vertical-align: top;\n",
              "    }\n",
              "\n",
              "    .dataframe thead th {\n",
              "        text-align: right;\n",
              "    }\n",
              "</style>\n",
              "<table border=\"1\" class=\"dataframe\">\n",
              "  <thead>\n",
              "    <tr style=\"text-align: right;\">\n",
              "      <th></th>\n",
              "      <th>PassengerId</th>\n",
              "      <th>Survived</th>\n",
              "      <th>Pclass</th>\n",
              "      <th>Name</th>\n",
              "      <th>Sex</th>\n",
              "      <th>Age</th>\n",
              "      <th>SibSp</th>\n",
              "      <th>Parch</th>\n",
              "      <th>Ticket</th>\n",
              "      <th>Fare</th>\n",
              "      <th>Cabin</th>\n",
              "      <th>Embarked</th>\n",
              "    </tr>\n",
              "  </thead>\n",
              "  <tbody>\n",
              "    <tr>\n",
              "      <th>0</th>\n",
              "      <td>1</td>\n",
              "      <td>0</td>\n",
              "      <td>3</td>\n",
              "      <td>Braund, Mr. Owen Harris</td>\n",
              "      <td>male</td>\n",
              "      <td>22.0</td>\n",
              "      <td>1</td>\n",
              "      <td>0</td>\n",
              "      <td>A/5 21171</td>\n",
              "      <td>7.2500</td>\n",
              "      <td>NaN</td>\n",
              "      <td>S</td>\n",
              "    </tr>\n",
              "    <tr>\n",
              "      <th>1</th>\n",
              "      <td>2</td>\n",
              "      <td>1</td>\n",
              "      <td>1</td>\n",
              "      <td>Cumings, Mrs. John Bradley (Florence Briggs Th...</td>\n",
              "      <td>female</td>\n",
              "      <td>38.0</td>\n",
              "      <td>1</td>\n",
              "      <td>0</td>\n",
              "      <td>PC 17599</td>\n",
              "      <td>71.2833</td>\n",
              "      <td>C85</td>\n",
              "      <td>C</td>\n",
              "    </tr>\n",
              "    <tr>\n",
              "      <th>2</th>\n",
              "      <td>3</td>\n",
              "      <td>1</td>\n",
              "      <td>3</td>\n",
              "      <td>Heikkinen, Miss. Laina</td>\n",
              "      <td>female</td>\n",
              "      <td>26.0</td>\n",
              "      <td>0</td>\n",
              "      <td>0</td>\n",
              "      <td>STON/O2. 3101282</td>\n",
              "      <td>7.9250</td>\n",
              "      <td>NaN</td>\n",
              "      <td>S</td>\n",
              "    </tr>\n",
              "    <tr>\n",
              "      <th>3</th>\n",
              "      <td>4</td>\n",
              "      <td>1</td>\n",
              "      <td>1</td>\n",
              "      <td>Futrelle, Mrs. Jacques Heath (Lily May Peel)</td>\n",
              "      <td>female</td>\n",
              "      <td>35.0</td>\n",
              "      <td>1</td>\n",
              "      <td>0</td>\n",
              "      <td>113803</td>\n",
              "      <td>53.1000</td>\n",
              "      <td>C123</td>\n",
              "      <td>S</td>\n",
              "    </tr>\n",
              "    <tr>\n",
              "      <th>4</th>\n",
              "      <td>5</td>\n",
              "      <td>0</td>\n",
              "      <td>3</td>\n",
              "      <td>Allen, Mr. William Henry</td>\n",
              "      <td>male</td>\n",
              "      <td>35.0</td>\n",
              "      <td>0</td>\n",
              "      <td>0</td>\n",
              "      <td>373450</td>\n",
              "      <td>8.0500</td>\n",
              "      <td>NaN</td>\n",
              "      <td>S</td>\n",
              "    </tr>\n",
              "  </tbody>\n",
              "</table>\n",
              "</div>"
            ],
            "text/plain": [
              "   PassengerId  Survived  Pclass  \\\n",
              "0            1         0       3   \n",
              "1            2         1       1   \n",
              "2            3         1       3   \n",
              "3            4         1       1   \n",
              "4            5         0       3   \n",
              "\n",
              "                                                Name     Sex   Age  SibSp  \\\n",
              "0                            Braund, Mr. Owen Harris    male  22.0      1   \n",
              "1  Cumings, Mrs. John Bradley (Florence Briggs Th...  female  38.0      1   \n",
              "2                             Heikkinen, Miss. Laina  female  26.0      0   \n",
              "3       Futrelle, Mrs. Jacques Heath (Lily May Peel)  female  35.0      1   \n",
              "4                           Allen, Mr. William Henry    male  35.0      0   \n",
              "\n",
              "   Parch            Ticket     Fare Cabin Embarked  \n",
              "0      0         A/5 21171   7.2500   NaN        S  \n",
              "1      0          PC 17599  71.2833   C85        C  \n",
              "2      0  STON/O2. 3101282   7.9250   NaN        S  \n",
              "3      0            113803  53.1000  C123        S  \n",
              "4      0            373450   8.0500   NaN        S  "
            ]
          },
          "execution_count": 5,
          "metadata": {},
          "output_type": "execute_result"
        }
      ],
      "source": [
        "train_df, test_df = titanic()\n",
        "train_df.head()"
      ]
    },
    {
      "cell_type": "code",
      "execution_count": null,
      "metadata": {
        "id": "C-MIKCB6Em9W",
        "outputId": "943e2c21-c14c-47b6-f2e3-d7f0dd3d2ff8"
      },
      "outputs": [
        {
          "name": "stdout",
          "output_type": "stream",
          "text": [
            "<class 'pandas.core.frame.DataFrame'>\n",
            "RangeIndex: 891 entries, 0 to 890\n",
            "Data columns (total 12 columns):\n",
            " #   Column       Non-Null Count  Dtype  \n",
            "---  ------       --------------  -----  \n",
            " 0   PassengerId  891 non-null    int64  \n",
            " 1   Survived     891 non-null    int64  \n",
            " 2   Pclass       891 non-null    int64  \n",
            " 3   Name         891 non-null    object \n",
            " 4   Sex          891 non-null    object \n",
            " 5   Age          714 non-null    float64\n",
            " 6   SibSp        891 non-null    int64  \n",
            " 7   Parch        891 non-null    int64  \n",
            " 8   Ticket       891 non-null    object \n",
            " 9   Fare         891 non-null    float64\n",
            " 10  Cabin        204 non-null    object \n",
            " 11  Embarked     889 non-null    object \n",
            "dtypes: float64(2), int64(5), object(5)\n",
            "memory usage: 83.7+ KB\n"
          ]
        }
      ],
      "source": [
        "train_df.info()"
      ]
    },
    {
      "cell_type": "code",
      "execution_count": null,
      "metadata": {
        "id": "pLSDeeXPEm9W",
        "outputId": "4e7850da-ab39-47fb-cdfb-414d294490ee"
      },
      "outputs": [
        {
          "name": "stdout",
          "output_type": "stream",
          "text": [
            "<class 'pandas.core.frame.DataFrame'>\n",
            "RangeIndex: 418 entries, 0 to 417\n",
            "Data columns (total 11 columns):\n",
            " #   Column       Non-Null Count  Dtype  \n",
            "---  ------       --------------  -----  \n",
            " 0   PassengerId  418 non-null    int64  \n",
            " 1   Pclass       418 non-null    int64  \n",
            " 2   Name         418 non-null    object \n",
            " 3   Sex          418 non-null    object \n",
            " 4   Age          332 non-null    float64\n",
            " 5   SibSp        418 non-null    int64  \n",
            " 6   Parch        418 non-null    int64  \n",
            " 7   Ticket       418 non-null    object \n",
            " 8   Fare         417 non-null    float64\n",
            " 9   Cabin        91 non-null     object \n",
            " 10  Embarked     418 non-null    object \n",
            "dtypes: float64(2), int64(4), object(5)\n",
            "memory usage: 36.1+ KB\n"
          ]
        }
      ],
      "source": [
        "test_df.info()"
      ]
    },
    {
      "cell_type": "code",
      "execution_count": null,
      "metadata": {
        "id": "PJCtGdSCEm9X",
        "outputId": "6ababcb1-4ddb-4375-e031-c067eb3d6bf4"
      },
      "outputs": [
        {
          "name": "stdout",
          "output_type": "stream",
          "text": [
            "Number of unique values:\n",
            "PassengerId : 891\n",
            "Survived : 2\n",
            "Pclass : 3\n",
            "Name : 891\n",
            "Sex : 2\n",
            "Age : 88\n",
            "SibSp : 7\n",
            "Parch : 7\n",
            "Ticket : 681\n",
            "Fare : 248\n",
            "Cabin : 147\n",
            "Embarked : 3\n"
          ]
        }
      ],
      "source": [
        "print(\"Number of unique values:\")\n",
        "for col in train_df.columns:\n",
        "    print(col, \":\", train_df[col].nunique())"
      ]
    },
    {
      "cell_type": "code",
      "execution_count": null,
      "metadata": {
        "id": "zA6238ajEm9a",
        "outputId": "d1e3fd60-1d1c-4934-8ee2-90a5aaf5c604"
      },
      "outputs": [
        {
          "name": "stdout",
          "output_type": "stream",
          "text": [
            "Number of null values:\n"
          ]
        },
        {
          "data": {
            "text/plain": [
              "Age         177\n",
              "Cabin       687\n",
              "Embarked      2\n",
              "dtype: int64"
            ]
          },
          "execution_count": 29,
          "metadata": {},
          "output_type": "execute_result"
        }
      ],
      "source": [
        "print(\"Number of null values:\")\n",
        "null_vals = train_df.isnull().sum(axis=0)\n",
        "null_vals[null_vals!=0]"
      ]
    },
    {
      "cell_type": "code",
      "execution_count": null,
      "metadata": {
        "id": "Nh6h4PrQEm9a"
      },
      "outputs": [],
      "source": [
        "train_df.fillna(-9999, inplace=True)\n",
        "test_df.fillna(-9999, inplace=True)"
      ]
    },
    {
      "cell_type": "code",
      "execution_count": null,
      "metadata": {
        "id": "Z_s0Q0hgEm9b",
        "outputId": "eac1459d-aba7-4bc9-b3c6-8c40bd327dee"
      },
      "outputs": [
        {
          "name": "stdout",
          "output_type": "stream",
          "text": [
            "Number of null values:\n"
          ]
        },
        {
          "data": {
            "text/plain": [
              "Series([], dtype: int64)"
            ]
          },
          "execution_count": 31,
          "metadata": {},
          "output_type": "execute_result"
        }
      ],
      "source": [
        "print(\"Number of null values:\")\n",
        "null_vals = train_df.isnull().sum(axis=0)\n",
        "null_vals[null_vals!=0]"
      ]
    },
    {
      "cell_type": "code",
      "execution_count": null,
      "metadata": {
        "id": "9PjdADLNEm9c"
      },
      "outputs": [],
      "source": [
        "X = train_df.drop('Survived', axis=1)\n",
        "y = train_df.Survived"
      ]
    },
    {
      "cell_type": "code",
      "execution_count": null,
      "metadata": {
        "id": "QICC5IUWEm9d",
        "outputId": "947a6d38-704b-4d62-e632-526045a5b95f"
      },
      "outputs": [
        {
          "data": {
            "text/plain": [
              "PassengerId      int64\n",
              "Pclass           int64\n",
              "Name            object\n",
              "Sex             object\n",
              "Age            float64\n",
              "SibSp            int64\n",
              "Parch            int64\n",
              "Ticket          object\n",
              "Fare           float64\n",
              "Cabin           object\n",
              "Embarked        object\n",
              "dtype: object"
            ]
          },
          "execution_count": 33,
          "metadata": {},
          "output_type": "execute_result"
        }
      ],
      "source": [
        "X.dtypes"
      ]
    },
    {
      "cell_type": "code",
      "execution_count": null,
      "metadata": {
        "id": "xsvRenpkEm9d"
      },
      "outputs": [],
      "source": [
        "categorical_features_indices = np.where(X.dtypes != float)[0]"
      ]
    },
    {
      "cell_type": "code",
      "execution_count": null,
      "metadata": {
        "id": "gNKrJ2YoEm9e",
        "outputId": "fee959af-e824-456b-ec2b-06290e354a5f"
      },
      "outputs": [
        {
          "data": {
            "text/plain": [
              "array([ 0,  1,  2,  3,  5,  6,  7,  9, 10])"
            ]
          },
          "execution_count": 39,
          "metadata": {},
          "output_type": "execute_result"
        }
      ],
      "source": [
        "categorical_features_indices"
      ]
    },
    {
      "cell_type": "code",
      "execution_count": null,
      "metadata": {
        "id": "t3Dmq-P3Em9f"
      },
      "outputs": [],
      "source": [
        "X_train, X_validation, y_train, y_validation = train_test_split(X, y, train_size=0.75, random_state=42)\n",
        "X_test = test_df"
      ]
    },
    {
      "cell_type": "code",
      "execution_count": null,
      "metadata": {
        "id": "qFscrCa1Em9f"
      },
      "outputs": [],
      "source": [
        "from catboost import CatBoostClassifier, Pool, metrics, cv\n",
        "from sklearn.metrics import accuracy_score"
      ]
    },
    {
      "cell_type": "code",
      "execution_count": null,
      "metadata": {
        "colab": {
          "referenced_widgets": [
            "c74db20469194448afa07918fa251faf"
          ]
        },
        "id": "oD1C6t4REm9g",
        "outputId": "5e1b5343-6f81-48ce-8e1c-9b8300929037"
      },
      "outputs": [
        {
          "data": {
            "application/vnd.jupyter.widget-view+json": {
              "model_id": "c74db20469194448afa07918fa251faf",
              "version_major": 2,
              "version_minor": 0
            },
            "text/plain": [
              "MetricVisualizer(layout=Layout(align_self='stretch', height='500px'))"
            ]
          },
          "metadata": {},
          "output_type": "display_data"
        },
        {
          "data": {
            "text/plain": [
              "<catboost.core.CatBoostClassifier at 0x118bf1d10>"
            ]
          },
          "execution_count": 51,
          "metadata": {},
          "output_type": "execute_result"
        }
      ],
      "source": [
        "model = CatBoostClassifier(\n",
        "    custom_loss=[metrics.Accuracy()],\n",
        "    random_seed=42,\n",
        "    logging_level='Silent',\n",
        "    early_stopping_rounds=50\n",
        ")\n",
        "model.fit(\n",
        "    X_train, y_train,\n",
        "    cat_features=categorical_features_indices,\n",
        "    eval_set=(X_validation, y_validation),\n",
        "    logging_level='Silent',\n",
        "    plot=True\n",
        ")"
      ]
    },
    {
      "cell_type": "code",
      "execution_count": null,
      "metadata": {
        "id": "SFrZgNIdEm9g",
        "outputId": "6831f64d-e559-49f8-8fe0-714c39ace154"
      },
      "outputs": [
        {
          "data": {
            "text/plain": [
              "{'random_seed': 42,\n",
              " 'logging_level': 'Silent',\n",
              " 'custom_loss': ['Accuracy'],\n",
              " 'early_stopping_rounds': 50}"
            ]
          },
          "execution_count": 52,
          "metadata": {},
          "output_type": "execute_result"
        }
      ],
      "source": [
        "cv_params = model.get_params()\n",
        "cv_params"
      ]
    },
    {
      "cell_type": "code",
      "execution_count": null,
      "metadata": {
        "colab": {
          "referenced_widgets": [
            "b629b6ca550c4c01a5fa4aae5767ed22"
          ]
        },
        "id": "D1aXpRGJEm9g",
        "outputId": "19755c13-65ed-47e4-b8b3-dadad3ae59a9"
      },
      "outputs": [
        {
          "data": {
            "application/vnd.jupyter.widget-view+json": {
              "model_id": "b629b6ca550c4c01a5fa4aae5767ed22",
              "version_major": 2,
              "version_minor": 0
            },
            "text/plain": [
              "MetricVisualizer(layout=Layout(align_self='stretch', height='500px'))"
            ]
          },
          "metadata": {},
          "output_type": "display_data"
        }
      ],
      "source": [
        "cv_params.update(\n",
        "    {\n",
        "    'loss_function': metrics.Logloss()\n",
        "    }\n",
        ")\n",
        "cv_data = cv(\n",
        "    Pool(X, y, cat_features=categorical_features_indices),\n",
        "    cv_params,\n",
        "    plot=True\n",
        ")"
      ]
    },
    {
      "cell_type": "code",
      "execution_count": null,
      "metadata": {
        "id": "aLZZX9m5Em9h",
        "outputId": "deec39d3-78f8-4a75-fd47-91d128e10001"
      },
      "outputs": [
        {
          "data": {
            "text/html": [
              "<div>\n",
              "<style scoped>\n",
              "    .dataframe tbody tr th:only-of-type {\n",
              "        vertical-align: middle;\n",
              "    }\n",
              "\n",
              "    .dataframe tbody tr th {\n",
              "        vertical-align: top;\n",
              "    }\n",
              "\n",
              "    .dataframe thead th {\n",
              "        text-align: right;\n",
              "    }\n",
              "</style>\n",
              "<table border=\"1\" class=\"dataframe\">\n",
              "  <thead>\n",
              "    <tr style=\"text-align: right;\">\n",
              "      <th></th>\n",
              "      <th>iterations</th>\n",
              "      <th>test-Logloss-mean</th>\n",
              "      <th>test-Logloss-std</th>\n",
              "      <th>train-Logloss-mean</th>\n",
              "      <th>train-Logloss-std</th>\n",
              "      <th>test-Accuracy-mean</th>\n",
              "      <th>test-Accuracy-std</th>\n",
              "      <th>train-Accuracy-mean</th>\n",
              "      <th>train-Accuracy-std</th>\n",
              "    </tr>\n",
              "  </thead>\n",
              "  <tbody>\n",
              "    <tr>\n",
              "      <th>0</th>\n",
              "      <td>0</td>\n",
              "      <td>0.676936</td>\n",
              "      <td>0.001133</td>\n",
              "      <td>0.676477</td>\n",
              "      <td>0.003152</td>\n",
              "      <td>0.794613</td>\n",
              "      <td>0.003367</td>\n",
              "      <td>0.798541</td>\n",
              "      <td>0.020778</td>\n",
              "    </tr>\n",
              "    <tr>\n",
              "      <th>1</th>\n",
              "      <td>1</td>\n",
              "      <td>0.660661</td>\n",
              "      <td>0.000697</td>\n",
              "      <td>0.659381</td>\n",
              "      <td>0.003172</td>\n",
              "      <td>0.795735</td>\n",
              "      <td>0.030365</td>\n",
              "      <td>0.812009</td>\n",
              "      <td>0.010286</td>\n",
              "    </tr>\n",
              "    <tr>\n",
              "      <th>2</th>\n",
              "      <td>2</td>\n",
              "      <td>0.646543</td>\n",
              "      <td>0.001920</td>\n",
              "      <td>0.645228</td>\n",
              "      <td>0.004168</td>\n",
              "      <td>0.803591</td>\n",
              "      <td>0.028636</td>\n",
              "      <td>0.812009</td>\n",
              "      <td>0.014119</td>\n",
              "    </tr>\n",
              "    <tr>\n",
              "      <th>3</th>\n",
              "      <td>3</td>\n",
              "      <td>0.632857</td>\n",
              "      <td>0.003376</td>\n",
              "      <td>0.631048</td>\n",
              "      <td>0.004247</td>\n",
              "      <td>0.804714</td>\n",
              "      <td>0.026725</td>\n",
              "      <td>0.812570</td>\n",
              "      <td>0.012179</td>\n",
              "    </tr>\n",
              "    <tr>\n",
              "      <th>4</th>\n",
              "      <td>4</td>\n",
              "      <td>0.619750</td>\n",
              "      <td>0.004936</td>\n",
              "      <td>0.617523</td>\n",
              "      <td>0.005041</td>\n",
              "      <td>0.803591</td>\n",
              "      <td>0.026153</td>\n",
              "      <td>0.813692</td>\n",
              "      <td>0.011459</td>\n",
              "    </tr>\n",
              "  </tbody>\n",
              "</table>\n",
              "</div>"
            ],
            "text/plain": [
              "   iterations  test-Logloss-mean  test-Logloss-std  train-Logloss-mean  \\\n",
              "0           0           0.676936          0.001133            0.676477   \n",
              "1           1           0.660661          0.000697            0.659381   \n",
              "2           2           0.646543          0.001920            0.645228   \n",
              "3           3           0.632857          0.003376            0.631048   \n",
              "4           4           0.619750          0.004936            0.617523   \n",
              "\n",
              "   train-Logloss-std  test-Accuracy-mean  test-Accuracy-std  \\\n",
              "0           0.003152            0.794613           0.003367   \n",
              "1           0.003172            0.795735           0.030365   \n",
              "2           0.004168            0.803591           0.028636   \n",
              "3           0.004247            0.804714           0.026725   \n",
              "4           0.005041            0.803591           0.026153   \n",
              "\n",
              "   train-Accuracy-mean  train-Accuracy-std  \n",
              "0             0.798541            0.020778  \n",
              "1             0.812009            0.010286  \n",
              "2             0.812009            0.014119  \n",
              "3             0.812570            0.012179  \n",
              "4             0.813692            0.011459  "
            ]
          },
          "execution_count": 55,
          "metadata": {},
          "output_type": "execute_result"
        }
      ],
      "source": [
        "cv_data.head()"
      ]
    },
    {
      "cell_type": "code",
      "execution_count": null,
      "metadata": {
        "id": "-mApXoJ0Em9h",
        "outputId": "a84561a1-0225-4a5d-f396-4e2208143d30"
      },
      "outputs": [
        {
          "name": "stdout",
          "output_type": "stream",
          "text": [
            "Best validation accuracy score: 0.82±0.02 on step 110\n",
            "Precise validation accuracy score: 0.8159371492704827\n"
          ]
        }
      ],
      "source": [
        "print('Best validation accuracy score: {:.2f}±{:.2f} on step {}'.format(\n",
        "    np.max(cv_data['test-Accuracy-mean']),\n",
        "    cv_data['test-Accuracy-std'][np.argmax(cv_data['test-Accuracy-mean'])],\n",
        "    np.argmax(cv_data['test-Accuracy-mean'])\n",
        "))\n",
        "print('Precise validation accuracy score: {}'.format(np.max(cv_data['test-Accuracy-mean'])))"
      ]
    },
    {
      "cell_type": "code",
      "execution_count": null,
      "metadata": {
        "id": "rjBADuAdEm9i",
        "outputId": "d5111338-5ccf-41e6-cd90-3d59c25b37bc"
      },
      "outputs": [
        {
          "name": "stdout",
          "output_type": "stream",
          "text": [
            "[0 0 0 0 1 0 1 0 1 0]\n",
            "[[0.85963998 0.14036002]\n",
            " [0.73941007 0.26058993]\n",
            " [0.88495066 0.11504934]\n",
            " [0.89117181 0.10882819]\n",
            " [0.36045113 0.63954887]\n",
            " [0.90335455 0.09664545]\n",
            " [0.35404814 0.64595186]\n",
            " [0.76848491 0.23151509]\n",
            " [0.40015216 0.59984784]\n",
            " [0.94172558 0.05827442]]\n"
          ]
        }
      ],
      "source": [
        "predictions = model.predict(X_test)\n",
        "predictions_probs = model.predict_proba(X_test)\n",
        "print(predictions[:10])\n",
        "print(predictions_probs[:10])"
      ]
    },
    {
      "cell_type": "code",
      "execution_count": null,
      "metadata": {
        "id": "kSPnyr5lEm9i"
      },
      "outputs": [],
      "source": [
        "params = {\n",
        "    'iterations': 500,\n",
        "    'learning_rate': 0.1,\n",
        "    'eval_metric': metrics.Accuracy(),\n",
        "    'random_seed': 42,\n",
        "    'logging_level': 'Silent',\n",
        "    'use_best_model': False\n",
        "}\n",
        "train_pool = Pool(X_train, y_train, cat_features=categorical_features_indices)\n",
        "validate_pool = Pool(X_validation, y_validation, cat_features=categorical_features_indices)"
      ]
    },
    {
      "cell_type": "code",
      "execution_count": null,
      "metadata": {
        "id": "O8eJb8Q6Em9j",
        "outputId": "e849c8a3-031e-4544-8196-c54c08c9245f"
      },
      "outputs": [
        {
          "name": "stdout",
          "output_type": "stream",
          "text": [
            "Simple model validation accuracy: 0.7982\n",
            "\n",
            "Best model validation accuracy: 0.8251\n"
          ]
        }
      ],
      "source": [
        "model = CatBoostClassifier(**params)\n",
        "model.fit(train_pool, eval_set=validate_pool)\n",
        "\n",
        "best_model_params = params.copy()\n",
        "best_model_params.update({\n",
        "    'use_best_model': True\n",
        "})\n",
        "best_model = CatBoostClassifier(**best_model_params)\n",
        "best_model.fit(train_pool, eval_set=validate_pool);\n",
        "\n",
        "print('Simple model validation accuracy: {:.4}'.format(\n",
        "    accuracy_score(y_validation, model.predict(X_validation))\n",
        "))\n",
        "print('')\n",
        "\n",
        "print('Best model validation accuracy: {:.4}'.format(\n",
        "    accuracy_score(y_validation, best_model.predict(X_validation))\n",
        "))"
      ]
    },
    {
      "cell_type": "code",
      "execution_count": null,
      "metadata": {
        "id": "ZAT-AfHiEm9j",
        "outputId": "2a19b3c1-a1c9-4c67-c837-7bad489c40e5"
      },
      "outputs": [
        {
          "name": "stdout",
          "output_type": "stream",
          "text": [
            "Simple model tree count: 500\n",
            "Simple model validation accuracy: 0.7982\n",
            "\n",
            "Early-stopped model tree count: 82\n",
            "Early-stopped model validation accuracy: 0.8072\n"
          ]
        }
      ],
      "source": [
        "model = CatBoostClassifier(**params)\n",
        "model.fit(train_pool, eval_set=validate_pool)\n",
        "\n",
        "earlystop_params = params.copy()\n",
        "earlystop_params.update({\n",
        "    'od_type': 'Iter',\n",
        "    'od_wait': 40\n",
        "})\n",
        "earlystop_model = CatBoostClassifier(**earlystop_params)\n",
        "earlystop_model.fit(train_pool, eval_set=validate_pool);\n",
        "\n",
        "print('Simple model tree count: {}'.format(model.tree_count_))\n",
        "print('Simple model validation accuracy: {:.4}'.format(\n",
        "    accuracy_score(y_validation, model.predict(X_validation))\n",
        "))\n",
        "\n",
        "print('')\n",
        "\n",
        "print('Early-stopped model tree count: {}'.format(earlystop_model.tree_count_))\n",
        "print('Early-stopped model validation accuracy: {:.4}'.format(\n",
        "    accuracy_score(y_validation, earlystop_model.predict(X_validation))\n",
        "))"
      ]
    },
    {
      "cell_type": "code",
      "execution_count": null,
      "metadata": {
        "id": "LpVcmonUEm9k"
      },
      "outputs": [],
      "source": [
        "current_params = params.copy()\n",
        "current_params.update({\n",
        "    'iterations': 10\n",
        "})\n",
        "model = CatBoostClassifier(**current_params).fit(X_train, y_train, categorical_features_indices)\n",
        "baseline = model.predict(X_train, prediction_type='RawFormulaVal')\n",
        "model.fit(X_train, y_train, categorical_features_indices, baseline=baseline);"
      ]
    },
    {
      "cell_type": "code",
      "execution_count": null,
      "metadata": {
        "id": "O6YEAvblEm9k",
        "outputId": "9ce10354-b417-4df0-f48d-087e28e8d859"
      },
      "outputs": [
        {
          "name": "stdout",
          "output_type": "stream",
          "text": [
            "0:\tlearn: 0.8053892\ttest: 0.7937220\tbest: 0.7937220 (0)\ttotal: 3.35ms\tremaining: 13.4ms\n",
            "1:\tlearn: 0.8008982\ttest: 0.7982063\tbest: 0.7982063 (1)\ttotal: 6.1ms\tremaining: 9.15ms\n",
            "2:\tlearn: 0.8008982\ttest: 0.7937220\tbest: 0.7982063 (1)\ttotal: 8.62ms\tremaining: 5.75ms\n",
            "3:\tlearn: 0.8113772\ttest: 0.7892377\tbest: 0.7982063 (1)\ttotal: 11.4ms\tremaining: 2.86ms\n",
            "4:\tlearn: 0.8173653\ttest: 0.8026906\tbest: 0.8026906 (4)\ttotal: 13.4ms\tremaining: 0us\n",
            "\n",
            "bestTest = 0.802690583\n",
            "bestIteration = 4\n",
            "\n",
            "5:\tlearn: 0.8173653\ttest: 0.8026906\tbest: 0.8026906 (4)\ttotal: 18.6ms\tremaining: 20.9ms\n",
            "6:\tlearn: 0.8248503\ttest: 0.8026906\tbest: 0.8026906 (4)\ttotal: 20.4ms\tremaining: 10.5ms\n",
            "7:\tlearn: 0.8233533\ttest: 0.8026906\tbest: 0.8026906 (4)\ttotal: 23.3ms\tremaining: 6.6ms\n",
            "8:\tlearn: 0.8233533\ttest: 0.8026906\tbest: 0.8026906 (4)\ttotal: 24.3ms\tremaining: 2.72ms\n",
            "9:\tlearn: 0.8233533\ttest: 0.8026906\tbest: 0.8026906 (4)\ttotal: 26.1ms\tremaining: 0us\n",
            "\n",
            "bestTest = 0.802690583\n",
            "bestIteration = 4\n",
            "\n"
          ]
        }
      ],
      "source": [
        "params_with_snapshot = params.copy()\n",
        "params_with_snapshot.update({\n",
        "    'iterations': 5,\n",
        "    'learning_rate': 0.5,\n",
        "    'logging_level': 'Verbose'\n",
        "})\n",
        "model = CatBoostClassifier(**params_with_snapshot).fit(train_pool, eval_set=validate_pool, save_snapshot=True)\n",
        "params_with_snapshot.update({\n",
        "    'iterations': 10,\n",
        "    'learning_rate': 0.1,\n",
        "})\n",
        "model = CatBoostClassifier(**params_with_snapshot).fit(train_pool, eval_set=validate_pool, save_snapshot=True)"
      ]
    },
    {
      "cell_type": "code",
      "execution_count": null,
      "metadata": {
        "id": "ILeC6VcpEm9l",
        "outputId": "57b8a219-b932-4579-eaa0-d0fb0d59360a"
      },
      "outputs": [
        {
          "name": "stdout",
          "output_type": "stream",
          "text": [
            "0:\tlearn: 0.6827074\ttotal: 444ms\tremaining: 3.99s\n",
            "1:\tlearn: 0.6723302\ttotal: 446ms\tremaining: 1.78s\n",
            "2:\tlearn: 0.6619449\ttotal: 446ms\tremaining: 1.04s\n",
            "3:\tlearn: 0.6521466\ttotal: 448ms\tremaining: 671ms\n",
            "4:\tlearn: 0.6435227\ttotal: 449ms\tremaining: 449ms\n",
            "5:\tlearn: 0.6353848\ttotal: 450ms\tremaining: 300ms\n",
            "6:\tlearn: 0.6277210\ttotal: 452ms\tremaining: 194ms\n",
            "7:\tlearn: 0.6210282\ttotal: 453ms\tremaining: 113ms\n",
            "8:\tlearn: 0.6141958\ttotal: 455ms\tremaining: 50.5ms\n",
            "9:\tlearn: 0.6073236\ttotal: 456ms\tremaining: 0us\n"
          ]
        }
      ],
      "source": [
        "class LoglossObjective(object):\n",
        "    def calc_ders_range(self, approxes, targets, weights):\n",
        "        # approxes, targets, weights are indexed containers of floats\n",
        "        # (containers which have only __len__ and __getitem__ defined).\n",
        "        # weights parameter can be None.\n",
        "        #\n",
        "        # To understand what these parameters mean, assume that there is\n",
        "        # a subset of your dataset that is currently being processed.\n",
        "        # approxes contains current predictions for this subset,\n",
        "        # targets contains target values you provided with the dataset.\n",
        "        #\n",
        "        # This function should return a list of pairs (der1, der2), where\n",
        "        # der1 is the first derivative of the loss function with respect\n",
        "        # to the predicted value, and der2 is the second derivative.\n",
        "        #\n",
        "        # In our case, logloss is defined by the following formula:\n",
        "        # target * log(sigmoid(approx)) + (1 - target) * (1 - sigmoid(approx))\n",
        "        # where sigmoid(x) = 1 / (1 + e^(-x)).\n",
        "\n",
        "        assert len(approxes) == len(targets)\n",
        "        if weights is not None:\n",
        "            assert len(weights) == len(approxes)\n",
        "\n",
        "        result = []\n",
        "        for index in range(len(targets)):\n",
        "            e = np.exp(approxes[index])\n",
        "            p = e / (1 + e)\n",
        "            der1 = (1 - p) if targets[index] > 0.0 else -p\n",
        "            der2 = -p * (1 - p)\n",
        "\n",
        "            if weights is not None:\n",
        "                der1 *= weights[index]\n",
        "                der2 *= weights[index]\n",
        "\n",
        "            result.append((der1, der2))\n",
        "        return result\n",
        "model = CatBoostClassifier(\n",
        "    iterations=10,\n",
        "    random_seed=42,\n",
        "    loss_function=LoglossObjective(),\n",
        "    eval_metric=metrics.Logloss()\n",
        ")\n",
        "model.fit(train_pool)\n",
        "preds_raw = model.predict(X_test, prediction_type='RawFormulaVal')"
      ]
    },
    {
      "cell_type": "code",
      "execution_count": null,
      "metadata": {
        "id": "gK_ii8ZQEm9m",
        "outputId": "38bcf27e-82ba-40da-e6e2-ab9209510e3f"
      },
      "outputs": [
        {
          "name": "stdout",
          "output_type": "stream",
          "text": [
            "Learning rate set to 0.5\n",
            "0:\tlearn: 0.5521578\ttotal: 201ms\tremaining: 1.81s\n",
            "1:\tlearn: 0.4885686\ttotal: 203ms\tremaining: 811ms\n",
            "2:\tlearn: 0.4607664\ttotal: 205ms\tremaining: 478ms\n",
            "3:\tlearn: 0.4418819\ttotal: 206ms\tremaining: 310ms\n",
            "4:\tlearn: 0.4278162\ttotal: 208ms\tremaining: 208ms\n",
            "5:\tlearn: 0.4151036\ttotal: 210ms\tremaining: 140ms\n",
            "6:\tlearn: 0.4099336\ttotal: 212ms\tremaining: 90.7ms\n",
            "7:\tlearn: 0.4095363\ttotal: 213ms\tremaining: 53.2ms\n",
            "8:\tlearn: 0.4032867\ttotal: 215ms\tremaining: 23.8ms\n",
            "9:\tlearn: 0.3929586\ttotal: 216ms\tremaining: 0us\n"
          ]
        }
      ],
      "source": [
        "class LoglossMetric(object):\n",
        "    def get_final_error(self, error, weight):\n",
        "        return error / (weight + 1e-38)\n",
        "\n",
        "    def is_max_optimal(self):\n",
        "        return False\n",
        "\n",
        "    def evaluate(self, approxes, target, weight):\n",
        "        # approxes is a list of indexed containers\n",
        "        # (containers with only __len__ and __getitem__ defined),\n",
        "        # one container per approx dimension.\n",
        "        # Each container contains floats.\n",
        "        # weight is a one dimensional indexed container.\n",
        "        # target is float.\n",
        "\n",
        "        # weight parameter can be None.\n",
        "        # Returns pair (error, weights sum)\n",
        "\n",
        "        assert len(approxes) == 1\n",
        "        assert len(target) == len(approxes[0])\n",
        "\n",
        "        approx = approxes[0]\n",
        "\n",
        "        error_sum = 0.0\n",
        "        weight_sum = 0.0\n",
        "\n",
        "        for i in range(len(approx)):\n",
        "            w = 1.0 if weight is None else weight[i]\n",
        "            weight_sum += w\n",
        "            error_sum += -w * (target[i] * approx[i] - np.log(1 + np.exp(approx[i])))\n",
        "\n",
        "        return error_sum, weight_sum\n",
        "\n",
        "model = CatBoostClassifier(\n",
        "    iterations=10,\n",
        "    random_seed=42,\n",
        "    loss_function=metrics.Logloss(),\n",
        "    eval_metric=LoglossMetric()\n",
        ")\n",
        "model.fit(train_pool)\n",
        "preds_raw = model.predict(X_test, prediction_type='RawFormulaVal')"
      ]
    },
    {
      "cell_type": "code",
      "execution_count": null,
      "metadata": {
        "id": "A57W4hoPEm9q",
        "outputId": "31164933-40c0-4cc3-f965-1be6f9fa9be5"
      },
      "outputs": [
        {
          "name": "stdout",
          "output_type": "stream",
          "text": [
            "First class probabilities using the first 3 trees: [0.53597869 0.41039128 0.42057479 0.64281031 0.46576685]\n",
            "First class probabilities using the first 5 trees: [0.63722688 0.42492029 0.46209302 0.70926021 0.44280772]\n",
            "First class probabilities using the first 7 trees: [0.66964764 0.42409144 0.46124982 0.76101033 0.47205986]\n"
          ]
        }
      ],
      "source": [
        "model = CatBoostClassifier(iterations=10, random_seed=42, logging_level='Silent').fit(train_pool)\n",
        "ntree_start, ntree_end, eval_period = 3, 9, 2\n",
        "predictions_iterator = model.staged_predict(validate_pool, 'Probability', ntree_start, ntree_end, eval_period)\n",
        "for preds, tree_count in zip(predictions_iterator, range(ntree_start, ntree_end, eval_period)):\n",
        "    print('First class probabilities using the first {} trees: {}'.format(tree_count, preds[:5, 1]))"
      ]
    },
    {
      "cell_type": "code",
      "execution_count": null,
      "metadata": {
        "id": "yS8ID75cEm9r",
        "outputId": "99815ff9-5f41-453d-bb42-630f5a1d85a7"
      },
      "outputs": [
        {
          "name": "stdout",
          "output_type": "stream",
          "text": [
            "Sex: 59.0040920142686\n",
            "Pclass: 16.340887169747038\n",
            "Ticket: 6.028107169932206\n",
            "Cabin: 3.8347242202560192\n",
            "Fare: 3.712969667934385\n",
            "Age: 3.4844512041824824\n",
            "Parch: 3.378089740355865\n",
            "Embarked: 2.313999407289956\n",
            "SibSp: 1.902679406033451\n",
            "PassengerId: 0.0\n",
            "Name: 0.0\n"
          ]
        }
      ],
      "source": [
        "model = CatBoostClassifier(iterations=50, random_seed=42, logging_level='Silent').fit(train_pool)\n",
        "feature_importances = model.get_feature_importance(train_pool)\n",
        "feature_names = X_train.columns\n",
        "for score, name in sorted(zip(feature_importances, feature_names), reverse=True):\n",
        "    print('{}: {}'.format(name, score))"
      ]
    },
    {
      "cell_type": "code",
      "execution_count": null,
      "metadata": {
        "colab": {
          "referenced_widgets": [
            "8939bf3eaff7481d997c6fc8684c2105"
          ]
        },
        "id": "TPHT8m1JEm9s",
        "outputId": "3f115a90-af92-4d45-be6e-3075b6f49e24"
      },
      "outputs": [
        {
          "data": {
            "application/vnd.jupyter.widget-view+json": {
              "model_id": "8939bf3eaff7481d997c6fc8684c2105",
              "version_major": 2,
              "version_minor": 0
            },
            "text/plain": [
              "MetricVisualizer(layout=Layout(align_self='stretch', height='500px'))"
            ]
          },
          "metadata": {},
          "output_type": "display_data"
        },
        {
          "name": "stdout",
          "output_type": "stream",
          "text": [
            "[0.8627368774106994, 0.8623176253563642, 0.8602213650846889, 0.8514170719436525, 0.8495723629045783, 0.8569092738554419]\n"
          ]
        }
      ],
      "source": [
        "model = CatBoostClassifier(iterations=50, random_seed=42, logging_level='Silent').fit(train_pool)\n",
        "eval_metrics = model.eval_metrics(validate_pool, [metrics.AUC()], plot=True)\n",
        "print(eval_metrics['AUC'][:6])"
      ]
    },
    {
      "cell_type": "code",
      "execution_count": null,
      "metadata": {
        "colab": {
          "referenced_widgets": [
            "696f58b17f73484c9589a0553b1c0c5b"
          ]
        },
        "id": "h6PMlQi0Em9u",
        "outputId": "cbb63c33-c7ed-4865-f126-16ed14432128"
      },
      "outputs": [
        {
          "data": {
            "application/vnd.jupyter.widget-view+json": {
              "model_id": "696f58b17f73484c9589a0553b1c0c5b",
              "version_major": 2,
              "version_minor": 0
            },
            "text/plain": [
              "MetricVisualizer(layout=Layout(align_self='stretch', height='500px'))"
            ]
          },
          "metadata": {},
          "output_type": "display_data"
        }
      ],
      "source": [
        "model1 = CatBoostClassifier(iterations=100, depth=1, train_dir='model_depth_1/', logging_level='Silent')\n",
        "model1.fit(train_pool, eval_set=validate_pool)\n",
        "model2 = CatBoostClassifier(iterations=100, depth=5, train_dir='model_depth_5/', logging_level='Silent')\n",
        "model2.fit(train_pool, eval_set=validate_pool);\n",
        "widget = MetricVisualizer(['model_depth_1', 'model_depth_5'])\n",
        "widget.start()"
      ]
    },
    {
      "cell_type": "code",
      "execution_count": null,
      "metadata": {
        "id": "1rL6ybiaEm9w"
      },
      "outputs": [],
      "source": [
        "model = CatBoostClassifier(iterations=10, random_seed=42, logging_level='Silent').fit(train_pool)\n",
        "# # model.save_model('catboost_model.dump')\n",
        "model = CatBoostClassifier()\n",
        "# model.load_model('catboost_model.dump');"
      ]
    },
    {
      "cell_type": "code",
      "execution_count": null,
      "metadata": {
        "id": "lzOTzSc_Em9x"
      },
      "outputs": [],
      "source": [
        "def hyperopt_objective(params):\n",
        "    model = CatBoostClassifier(\n",
        "        l2_leaf_reg=int(params['l2_leaf_reg']),\n",
        "        learning_rate=params['learning_rate'],\n",
        "        iterations=500,\n",
        "        eval_metric=metrics.Accuracy(),\n",
        "        random_seed=42,\n",
        "        verbose=False,\n",
        "        loss_function=metrics.Logloss(),\n",
        "    )\n",
        "\n",
        "    cv_data = cv(\n",
        "        Pool(X, y, cat_features=categorical_features_indices),\n",
        "        model.get_params(),\n",
        "        logging_level='Silent'\n",
        "    )\n",
        "    best_accuracy = np.max(cv_data['test-Accuracy-mean'])\n",
        "\n",
        "    return 1 - best_accuracy\n",
        "\n",
        "params_space = {\n",
        "    'l2_leaf_reg': hyperopt.hp.qloguniform('l2_leaf_reg', 0, 2, 1),\n",
        "    'learning_rate': hyperopt.hp.uniform('learning_rate', 1e-3, 5e-1),\n",
        "}\n",
        "\n",
        "trials = hyperopt.Trials()\n",
        "\n",
        "best = hyperopt.fmin(\n",
        "    hyperopt_objective,\n",
        "    space=params_space,\n",
        "    algo=hyperopt.tpe.suggest,\n",
        "    max_evals=50,\n",
        "    trials=trials,\n",
        "    rstate=RandomState(123)\n",
        ")\n",
        "print(best)"
      ]
    },
    {
      "cell_type": "code",
      "execution_count": null,
      "metadata": {
        "id": "fy0y2OAWEm9y"
      },
      "outputs": [],
      "source": [
        "model = CatBoostClassifier(\n",
        "    l2_leaf_reg=int(best['l2_leaf_reg']),\n",
        "    learning_rate=best['learning_rate'],\n",
        "    iterations=500,\n",
        "    eval_metric=metrics.Accuracy(),\n",
        "    random_seed=42,\n",
        "    verbose=False,\n",
        "    loss_function=metrics.Logloss(),\n",
        ")\n",
        "cv_data = cv(Pool(X, y, cat_features=categorical_features_indices), model.get_params())\n",
        "print('Precise validation accuracy score: {}'.format(np.max(cv_data['test-Accuracy-mean'])))\n",
        "model.fit(X, y, cat_features=categorical_features_indices)\n",
        "submisstion = pd.DataFrame()\n",
        "submisstion['PassengerId'] = X_test['PassengerId']\n",
        "submisstion['Survived'] = model.predict(X_test)\n",
        "submisstion.to_csv('submission.csv', index=False)"
      ]
    }
  ],
  "metadata": {
    "kernelspec": {
      "display_name": "PyML",
      "language": "python",
      "name": "pyml"
    },
    "language_info": {
      "codemirror_mode": {
        "name": "ipython",
        "version": 3
      },
      "file_extension": ".py",
      "mimetype": "text/x-python",
      "name": "python",
      "nbconvert_exporter": "python",
      "pygments_lexer": "ipython3",
      "version": "3.11.4"
    },
    "colab": {
      "provenance": [],
      "include_colab_link": true
    }
  },
  "nbformat": 4,
  "nbformat_minor": 0
}