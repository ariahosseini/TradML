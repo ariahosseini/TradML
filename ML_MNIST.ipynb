{
  "cells": [
    {
      "cell_type": "markdown",
      "metadata": {
        "id": "view-in-github",
        "colab_type": "text"
      },
      "source": [
        "<a href=\"https://colab.research.google.com/github/ariahosseini/TradML/blob/main/ML_MNIST.ipynb\" target=\"_parent\"><img src=\"https://colab.research.google.com/assets/colab-badge.svg\" alt=\"Open In Colab\"/></a>"
      ]
    },
    {
      "cell_type": "markdown",
      "source": [
        "## Setup"
      ],
      "metadata": {
        "id": "bFESWzjDnsF6"
      }
    },
    {
      "cell_type": "markdown",
      "source": [
        "### Load Modules"
      ],
      "metadata": {
        "id": "9ljmfkPinveb"
      }
    },
    {
      "cell_type": "code",
      "source": [
        "!pip install -q import_ipynb"
      ],
      "metadata": {
        "id": "oiMq-Oz5Xr96"
      },
      "execution_count": 170,
      "outputs": []
    },
    {
      "cell_type": "code",
      "execution_count": 171,
      "metadata": {
        "id": "0ANJ2kCYAtPi"
      },
      "outputs": [],
      "source": [
        "# utils\n",
        "import os, sys, warnings, itertools\n",
        "import import_ipynb\n",
        "import tarfile\n",
        "import joblib\n",
        "import random\n",
        "import pandas as pd\n",
        "import numpy as np\n",
        "from pprint import pprint\n",
        "# colab\n",
        "from google.colab import drive\n",
        "# sklearn\n",
        "from sklearn.datasets import fetch_openml\n",
        "from sklearn.model_selection import (train_test_split,\n",
        "                                     cross_val_score,\n",
        "                                     cross_val_predict,\n",
        "                                     GridSearchCV\n",
        "                                     )\n",
        "from sklearn.preprocessing import StandardScaler\n",
        "from sklearn.linear_model import SGDClassifier\n",
        "from sklearn.base import BaseEstimator\n",
        "from sklearn.ensemble import RandomForestClassifier\n",
        "from sklearn.multiclass import OneVsOneClassifier\n",
        "from sklearn.metrics import (confusion_matrix,\n",
        "                             precision_score,\n",
        "                             recall_score,\n",
        "                             f1_score,\n",
        "                             accuracy_score,\n",
        "                             precision_recall_curve,\n",
        "                             PrecisionRecallDisplay,\n",
        "                             roc_auc_score,\n",
        "                             roc_curve\n",
        "                             )\n",
        "# vis\n",
        "import seaborn as sns\n",
        "import matplotlib.pyplot as plt"
      ]
    },
    {
      "cell_type": "markdown",
      "source": [
        "### Settings"
      ],
      "metadata": {
        "id": "o4lxIb3OoDYI"
      }
    },
    {
      "cell_type": "code",
      "execution_count": 172,
      "metadata": {
        "id": "VR49qlbMAtPm"
      },
      "outputs": [],
      "source": [
        "warnings.filterwarnings(\"ignore\")"
      ]
    },
    {
      "cell_type": "code",
      "execution_count": 173,
      "metadata": {
        "id": "xKYOEhFOAtPn"
      },
      "outputs": [],
      "source": [
        "%matplotlib inline"
      ]
    },
    {
      "cell_type": "code",
      "source": [
        "# mount google drive\n",
        "drive.mount(\"/content/drive\")"
      ],
      "metadata": {
        "colab": {
          "base_uri": "https://localhost:8080/"
        },
        "id": "oOEDxjLm62fn",
        "outputId": "25728b18-20fb-40fc-a0f7-620f086f1d1b"
      },
      "execution_count": 174,
      "outputs": [
        {
          "output_type": "stream",
          "name": "stdout",
          "text": [
            "Drive already mounted at /content/drive; to attempt to forcibly remount, call drive.mount(\"/content/drive\", force_remount=True).\n"
          ]
        }
      ]
    },
    {
      "cell_type": "code",
      "execution_count": 175,
      "metadata": {
        "id": "4sfXt8KSAtPo"
      },
      "outputs": [],
      "source": [
        "working_path = os.path.abspath(os.path.join(\"/content/drive/MyDrive/Jupyter Notebooks/\"))\n",
        "os.chdir(working_path)"
      ]
    },
    {
      "cell_type": "code",
      "execution_count": 176,
      "metadata": {
        "id": "xwzZY2vlAtPp"
      },
      "outputs": [],
      "source": [
        "# load MachineLearningUtils\n",
        "from MachineLearningUtils import *"
      ]
    },
    {
      "cell_type": "markdown",
      "source": [
        "## Model Developement - Clf Five or Not"
      ],
      "metadata": {
        "id": "Uo8rdpDsvnyK"
      }
    },
    {
      "cell_type": "markdown",
      "source": [
        "### Understand Data"
      ],
      "metadata": {
        "id": "AdqAIQJqoKFY"
      }
    },
    {
      "cell_type": "code",
      "execution_count": 177,
      "metadata": {
        "colab": {
          "base_uri": "https://localhost:8080/"
        },
        "id": "l8moMQWRAtPr",
        "outputId": "4310ab02-2204-4b76-96c2-3136bf288fab"
      },
      "outputs": [
        {
          "output_type": "stream",
          "name": "stdout",
          "text": [
            "dict_keys(['data', 'target', 'frame', 'categories', 'feature_names', 'target_names', 'DESCR', 'details', 'url'])\n"
          ]
        }
      ],
      "source": [
        "mnist = None\n",
        "data_path = os.path.join(working_path, \"Inputs/mnist.pkl\")\n",
        "if os.path.exists(data_path):\n",
        "    mnist = joblib.load(data_path)\n",
        "else:\n",
        "    mnist = fetch_openml(\"mnist_784\", version=1)\n",
        "    joblib.dump(mnist, data_path)\n",
        "pprint(mnist.keys(), compact=True)"
      ]
    },
    {
      "cell_type": "code",
      "execution_count": 178,
      "metadata": {
        "id": "jFIESknBAtPt"
      },
      "outputs": [],
      "source": [
        "# load data\n",
        "X, y = mnist.data, mnist.target.to_frame()\n",
        "y.columns = ['target']"
      ]
    },
    {
      "cell_type": "code",
      "execution_count": 179,
      "metadata": {
        "id": "LdTTcQWbAtPu"
      },
      "outputs": [],
      "source": [
        "num_samples = 1000\n",
        "X = X.sample(n=num_samples, random_state=1)\n",
        "y = y.sample(n=num_samples, random_state=1)\n",
        "X.reset_index(drop=True, inplace=True)\n",
        "y.reset_index(drop=True, inplace=True)"
      ]
    },
    {
      "cell_type": "code",
      "execution_count": 180,
      "metadata": {
        "colab": {
          "base_uri": "https://localhost:8080/",
          "height": 406
        },
        "id": "7hTZUB0UAtPv",
        "outputId": "cb82bf21-bc7f-4ec3-d3dc-89cf3578b001"
      },
      "outputs": [
        {
          "output_type": "stream",
          "name": "stdout",
          "text": [
            "Dataframe:  \n",
            "num_rows = 1,000 \n",
            "num_cols = 784\n"
          ]
        },
        {
          "output_type": "display_data",
          "data": {
            "text/plain": [
              "   pixel1  pixel2  pixel3  pixel4  pixel5  pixel6  pixel7  pixel8  pixel9  \\\n",
              "0       0       0       0       0       0       0       0       0       0   \n",
              "1       0       0       0       0       0       0       0       0       0   \n",
              "2       0       0       0       0       0       0       0       0       0   \n",
              "3       0       0       0       0       0       0       0       0       0   \n",
              "4       0       0       0       0       0       0       0       0       0   \n",
              "\n",
              "   pixel10  ...  pixel775  pixel776  pixel777  pixel778  pixel779  pixel780  \\\n",
              "0        0  ...         0         0         0         0         0         0   \n",
              "1        0  ...         0         0         0         0         0         0   \n",
              "2        0  ...         0         0         0         0         0         0   \n",
              "3        0  ...         0         0         0         0         0         0   \n",
              "4        0  ...         0         0         0         0         0         0   \n",
              "\n",
              "   pixel781  pixel782  pixel783  pixel784  \n",
              "0         0         0         0         0  \n",
              "1         0         0         0         0  \n",
              "2         0         0         0         0  \n",
              "3         0         0         0         0  \n",
              "4         0         0         0         0  \n",
              "\n",
              "[5 rows x 784 columns]"
            ],
            "text/html": [
              "\n",
              "  <div id=\"df-59135180-cdee-4614-85a6-f6fd58e55c22\" class=\"colab-df-container\">\n",
              "    <div>\n",
              "<style scoped>\n",
              "    .dataframe tbody tr th:only-of-type {\n",
              "        vertical-align: middle;\n",
              "    }\n",
              "\n",
              "    .dataframe tbody tr th {\n",
              "        vertical-align: top;\n",
              "    }\n",
              "\n",
              "    .dataframe thead th {\n",
              "        text-align: right;\n",
              "    }\n",
              "</style>\n",
              "<table border=\"1\" class=\"dataframe\">\n",
              "  <thead>\n",
              "    <tr style=\"text-align: right;\">\n",
              "      <th></th>\n",
              "      <th>pixel1</th>\n",
              "      <th>pixel2</th>\n",
              "      <th>pixel3</th>\n",
              "      <th>pixel4</th>\n",
              "      <th>pixel5</th>\n",
              "      <th>pixel6</th>\n",
              "      <th>pixel7</th>\n",
              "      <th>pixel8</th>\n",
              "      <th>pixel9</th>\n",
              "      <th>pixel10</th>\n",
              "      <th>...</th>\n",
              "      <th>pixel775</th>\n",
              "      <th>pixel776</th>\n",
              "      <th>pixel777</th>\n",
              "      <th>pixel778</th>\n",
              "      <th>pixel779</th>\n",
              "      <th>pixel780</th>\n",
              "      <th>pixel781</th>\n",
              "      <th>pixel782</th>\n",
              "      <th>pixel783</th>\n",
              "      <th>pixel784</th>\n",
              "    </tr>\n",
              "  </thead>\n",
              "  <tbody>\n",
              "    <tr>\n",
              "      <th>0</th>\n",
              "      <td>0</td>\n",
              "      <td>0</td>\n",
              "      <td>0</td>\n",
              "      <td>0</td>\n",
              "      <td>0</td>\n",
              "      <td>0</td>\n",
              "      <td>0</td>\n",
              "      <td>0</td>\n",
              "      <td>0</td>\n",
              "      <td>0</td>\n",
              "      <td>...</td>\n",
              "      <td>0</td>\n",
              "      <td>0</td>\n",
              "      <td>0</td>\n",
              "      <td>0</td>\n",
              "      <td>0</td>\n",
              "      <td>0</td>\n",
              "      <td>0</td>\n",
              "      <td>0</td>\n",
              "      <td>0</td>\n",
              "      <td>0</td>\n",
              "    </tr>\n",
              "    <tr>\n",
              "      <th>1</th>\n",
              "      <td>0</td>\n",
              "      <td>0</td>\n",
              "      <td>0</td>\n",
              "      <td>0</td>\n",
              "      <td>0</td>\n",
              "      <td>0</td>\n",
              "      <td>0</td>\n",
              "      <td>0</td>\n",
              "      <td>0</td>\n",
              "      <td>0</td>\n",
              "      <td>...</td>\n",
              "      <td>0</td>\n",
              "      <td>0</td>\n",
              "      <td>0</td>\n",
              "      <td>0</td>\n",
              "      <td>0</td>\n",
              "      <td>0</td>\n",
              "      <td>0</td>\n",
              "      <td>0</td>\n",
              "      <td>0</td>\n",
              "      <td>0</td>\n",
              "    </tr>\n",
              "    <tr>\n",
              "      <th>2</th>\n",
              "      <td>0</td>\n",
              "      <td>0</td>\n",
              "      <td>0</td>\n",
              "      <td>0</td>\n",
              "      <td>0</td>\n",
              "      <td>0</td>\n",
              "      <td>0</td>\n",
              "      <td>0</td>\n",
              "      <td>0</td>\n",
              "      <td>0</td>\n",
              "      <td>...</td>\n",
              "      <td>0</td>\n",
              "      <td>0</td>\n",
              "      <td>0</td>\n",
              "      <td>0</td>\n",
              "      <td>0</td>\n",
              "      <td>0</td>\n",
              "      <td>0</td>\n",
              "      <td>0</td>\n",
              "      <td>0</td>\n",
              "      <td>0</td>\n",
              "    </tr>\n",
              "    <tr>\n",
              "      <th>3</th>\n",
              "      <td>0</td>\n",
              "      <td>0</td>\n",
              "      <td>0</td>\n",
              "      <td>0</td>\n",
              "      <td>0</td>\n",
              "      <td>0</td>\n",
              "      <td>0</td>\n",
              "      <td>0</td>\n",
              "      <td>0</td>\n",
              "      <td>0</td>\n",
              "      <td>...</td>\n",
              "      <td>0</td>\n",
              "      <td>0</td>\n",
              "      <td>0</td>\n",
              "      <td>0</td>\n",
              "      <td>0</td>\n",
              "      <td>0</td>\n",
              "      <td>0</td>\n",
              "      <td>0</td>\n",
              "      <td>0</td>\n",
              "      <td>0</td>\n",
              "    </tr>\n",
              "    <tr>\n",
              "      <th>4</th>\n",
              "      <td>0</td>\n",
              "      <td>0</td>\n",
              "      <td>0</td>\n",
              "      <td>0</td>\n",
              "      <td>0</td>\n",
              "      <td>0</td>\n",
              "      <td>0</td>\n",
              "      <td>0</td>\n",
              "      <td>0</td>\n",
              "      <td>0</td>\n",
              "      <td>...</td>\n",
              "      <td>0</td>\n",
              "      <td>0</td>\n",
              "      <td>0</td>\n",
              "      <td>0</td>\n",
              "      <td>0</td>\n",
              "      <td>0</td>\n",
              "      <td>0</td>\n",
              "      <td>0</td>\n",
              "      <td>0</td>\n",
              "      <td>0</td>\n",
              "    </tr>\n",
              "  </tbody>\n",
              "</table>\n",
              "<p>5 rows × 784 columns</p>\n",
              "</div>\n",
              "    <div class=\"colab-df-buttons\">\n",
              "\n",
              "  <div class=\"colab-df-container\">\n",
              "    <button class=\"colab-df-convert\" onclick=\"convertToInteractive('df-59135180-cdee-4614-85a6-f6fd58e55c22')\"\n",
              "            title=\"Convert this dataframe to an interactive table.\"\n",
              "            style=\"display:none;\">\n",
              "\n",
              "  <svg xmlns=\"http://www.w3.org/2000/svg\" height=\"24px\" viewBox=\"0 -960 960 960\">\n",
              "    <path d=\"M120-120v-720h720v720H120Zm60-500h600v-160H180v160Zm220 220h160v-160H400v160Zm0 220h160v-160H400v160ZM180-400h160v-160H180v160Zm440 0h160v-160H620v160ZM180-180h160v-160H180v160Zm440 0h160v-160H620v160Z\"/>\n",
              "  </svg>\n",
              "    </button>\n",
              "\n",
              "  <style>\n",
              "    .colab-df-container {\n",
              "      display:flex;\n",
              "      gap: 12px;\n",
              "    }\n",
              "\n",
              "    .colab-df-convert {\n",
              "      background-color: #E8F0FE;\n",
              "      border: none;\n",
              "      border-radius: 50%;\n",
              "      cursor: pointer;\n",
              "      display: none;\n",
              "      fill: #1967D2;\n",
              "      height: 32px;\n",
              "      padding: 0 0 0 0;\n",
              "      width: 32px;\n",
              "    }\n",
              "\n",
              "    .colab-df-convert:hover {\n",
              "      background-color: #E2EBFA;\n",
              "      box-shadow: 0px 1px 2px rgba(60, 64, 67, 0.3), 0px 1px 3px 1px rgba(60, 64, 67, 0.15);\n",
              "      fill: #174EA6;\n",
              "    }\n",
              "\n",
              "    .colab-df-buttons div {\n",
              "      margin-bottom: 4px;\n",
              "    }\n",
              "\n",
              "    [theme=dark] .colab-df-convert {\n",
              "      background-color: #3B4455;\n",
              "      fill: #D2E3FC;\n",
              "    }\n",
              "\n",
              "    [theme=dark] .colab-df-convert:hover {\n",
              "      background-color: #434B5C;\n",
              "      box-shadow: 0px 1px 3px 1px rgba(0, 0, 0, 0.15);\n",
              "      filter: drop-shadow(0px 1px 2px rgba(0, 0, 0, 0.3));\n",
              "      fill: #FFFFFF;\n",
              "    }\n",
              "  </style>\n",
              "\n",
              "    <script>\n",
              "      const buttonEl =\n",
              "        document.querySelector('#df-59135180-cdee-4614-85a6-f6fd58e55c22 button.colab-df-convert');\n",
              "      buttonEl.style.display =\n",
              "        google.colab.kernel.accessAllowed ? 'block' : 'none';\n",
              "\n",
              "      async function convertToInteractive(key) {\n",
              "        const element = document.querySelector('#df-59135180-cdee-4614-85a6-f6fd58e55c22');\n",
              "        const dataTable =\n",
              "          await google.colab.kernel.invokeFunction('convertToInteractive',\n",
              "                                                    [key], {});\n",
              "        if (!dataTable) return;\n",
              "\n",
              "        const docLinkHtml = 'Like what you see? Visit the ' +\n",
              "          '<a target=\"_blank\" href=https://colab.research.google.com/notebooks/data_table.ipynb>data table notebook</a>'\n",
              "          + ' to learn more about interactive tables.';\n",
              "        element.innerHTML = '';\n",
              "        dataTable['output_type'] = 'display_data';\n",
              "        await google.colab.output.renderOutput(dataTable, element);\n",
              "        const docLink = document.createElement('div');\n",
              "        docLink.innerHTML = docLinkHtml;\n",
              "        element.appendChild(docLink);\n",
              "      }\n",
              "    </script>\n",
              "  </div>\n",
              "\n",
              "\n",
              "<div id=\"df-3e016fe0-7941-4f64-bddc-77158790a65d\">\n",
              "  <button class=\"colab-df-quickchart\" onclick=\"quickchart('df-3e016fe0-7941-4f64-bddc-77158790a65d')\"\n",
              "            title=\"Suggest charts\"\n",
              "            style=\"display:none;\">\n",
              "\n",
              "<svg xmlns=\"http://www.w3.org/2000/svg\" height=\"24px\"viewBox=\"0 0 24 24\"\n",
              "     width=\"24px\">\n",
              "    <g>\n",
              "        <path d=\"M19 3H5c-1.1 0-2 .9-2 2v14c0 1.1.9 2 2 2h14c1.1 0 2-.9 2-2V5c0-1.1-.9-2-2-2zM9 17H7v-7h2v7zm4 0h-2V7h2v10zm4 0h-2v-4h2v4z\"/>\n",
              "    </g>\n",
              "</svg>\n",
              "  </button>\n",
              "\n",
              "<style>\n",
              "  .colab-df-quickchart {\n",
              "      --bg-color: #E8F0FE;\n",
              "      --fill-color: #1967D2;\n",
              "      --hover-bg-color: #E2EBFA;\n",
              "      --hover-fill-color: #174EA6;\n",
              "      --disabled-fill-color: #AAA;\n",
              "      --disabled-bg-color: #DDD;\n",
              "  }\n",
              "\n",
              "  [theme=dark] .colab-df-quickchart {\n",
              "      --bg-color: #3B4455;\n",
              "      --fill-color: #D2E3FC;\n",
              "      --hover-bg-color: #434B5C;\n",
              "      --hover-fill-color: #FFFFFF;\n",
              "      --disabled-bg-color: #3B4455;\n",
              "      --disabled-fill-color: #666;\n",
              "  }\n",
              "\n",
              "  .colab-df-quickchart {\n",
              "    background-color: var(--bg-color);\n",
              "    border: none;\n",
              "    border-radius: 50%;\n",
              "    cursor: pointer;\n",
              "    display: none;\n",
              "    fill: var(--fill-color);\n",
              "    height: 32px;\n",
              "    padding: 0;\n",
              "    width: 32px;\n",
              "  }\n",
              "\n",
              "  .colab-df-quickchart:hover {\n",
              "    background-color: var(--hover-bg-color);\n",
              "    box-shadow: 0 1px 2px rgba(60, 64, 67, 0.3), 0 1px 3px 1px rgba(60, 64, 67, 0.15);\n",
              "    fill: var(--button-hover-fill-color);\n",
              "  }\n",
              "\n",
              "  .colab-df-quickchart-complete:disabled,\n",
              "  .colab-df-quickchart-complete:disabled:hover {\n",
              "    background-color: var(--disabled-bg-color);\n",
              "    fill: var(--disabled-fill-color);\n",
              "    box-shadow: none;\n",
              "  }\n",
              "\n",
              "  .colab-df-spinner {\n",
              "    border: 2px solid var(--fill-color);\n",
              "    border-color: transparent;\n",
              "    border-bottom-color: var(--fill-color);\n",
              "    animation:\n",
              "      spin 1s steps(1) infinite;\n",
              "  }\n",
              "\n",
              "  @keyframes spin {\n",
              "    0% {\n",
              "      border-color: transparent;\n",
              "      border-bottom-color: var(--fill-color);\n",
              "      border-left-color: var(--fill-color);\n",
              "    }\n",
              "    20% {\n",
              "      border-color: transparent;\n",
              "      border-left-color: var(--fill-color);\n",
              "      border-top-color: var(--fill-color);\n",
              "    }\n",
              "    30% {\n",
              "      border-color: transparent;\n",
              "      border-left-color: var(--fill-color);\n",
              "      border-top-color: var(--fill-color);\n",
              "      border-right-color: var(--fill-color);\n",
              "    }\n",
              "    40% {\n",
              "      border-color: transparent;\n",
              "      border-right-color: var(--fill-color);\n",
              "      border-top-color: var(--fill-color);\n",
              "    }\n",
              "    60% {\n",
              "      border-color: transparent;\n",
              "      border-right-color: var(--fill-color);\n",
              "    }\n",
              "    80% {\n",
              "      border-color: transparent;\n",
              "      border-right-color: var(--fill-color);\n",
              "      border-bottom-color: var(--fill-color);\n",
              "    }\n",
              "    90% {\n",
              "      border-color: transparent;\n",
              "      border-bottom-color: var(--fill-color);\n",
              "    }\n",
              "  }\n",
              "</style>\n",
              "\n",
              "  <script>\n",
              "    async function quickchart(key) {\n",
              "      const quickchartButtonEl =\n",
              "        document.querySelector('#' + key + ' button');\n",
              "      quickchartButtonEl.disabled = true;  // To prevent multiple clicks.\n",
              "      quickchartButtonEl.classList.add('colab-df-spinner');\n",
              "      try {\n",
              "        const charts = await google.colab.kernel.invokeFunction(\n",
              "            'suggestCharts', [key], {});\n",
              "      } catch (error) {\n",
              "        console.error('Error during call to suggestCharts:', error);\n",
              "      }\n",
              "      quickchartButtonEl.classList.remove('colab-df-spinner');\n",
              "      quickchartButtonEl.classList.add('colab-df-quickchart-complete');\n",
              "    }\n",
              "    (() => {\n",
              "      let quickchartButtonEl =\n",
              "        document.querySelector('#df-3e016fe0-7941-4f64-bddc-77158790a65d button');\n",
              "      quickchartButtonEl.style.display =\n",
              "        google.colab.kernel.accessAllowed ? 'block' : 'none';\n",
              "    })();\n",
              "  </script>\n",
              "</div>\n",
              "\n",
              "    </div>\n",
              "  </div>\n"
            ],
            "application/vnd.google.colaboratory.intrinsic+json": {
              "type": "dataframe"
            }
          },
          "metadata": {}
        },
        {
          "output_type": "stream",
          "name": "stdout",
          "text": [
            "Info:\n",
            "<class 'pandas.core.frame.DataFrame'>\n",
            "RangeIndex: 1000 entries, 0 to 999\n",
            "Columns: 784 entries, pixel1 to pixel784\n",
            "dtypes: int64(784)\n",
            "memory usage: 6.0 MB\n"
          ]
        }
      ],
      "source": [
        "display_df(X)"
      ]
    },
    {
      "cell_type": "code",
      "execution_count": 181,
      "metadata": {
        "colab": {
          "base_uri": "https://localhost:8080/",
          "height": 105
        },
        "id": "zOECB_X7AtPw",
        "outputId": "807425dd-56de-473a-f766-cb3b752ad4b4"
      },
      "outputs": [
        {
          "output_type": "execute_result",
          "data": {
            "text/plain": [
              "<matplotlib.image.AxesImage at 0x7ad776877f70>"
            ]
          },
          "metadata": {},
          "execution_count": 181
        },
        {
          "output_type": "display_data",
          "data": {
            "text/plain": [
              "<Figure size 640x480 with 1 Axes>"
            ],
            "image/png": "[encoded data removed]"
          },
          "metadata": {}
        }
      ],
      "source": [
        "pixel_size = int(np.sqrt(X.shape[1]))\n",
        "img = X.iloc[0].to_numpy().reshape(pixel_size, pixel_size)\n",
        "plt.imshow(img, cmap=\"gray\")"
      ]
    },
    {
      "cell_type": "code",
      "source": [
        "pprint(y['target'].dtype)"
      ],
      "metadata": {
        "colab": {
          "base_uri": "https://localhost:8080/"
        },
        "id": "8sF_e33jrIs3",
        "outputId": "0244048c-759d-4b3c-8af9-e913b2cb5438"
      },
      "execution_count": 182,
      "outputs": [
        {
          "output_type": "stream",
          "name": "stdout",
          "text": [
            "CategoricalDtype(categories=['0', '1', '2', '3', '4', '5', '6', '7', '8', '9'], ordered=False, categories_dtype=object)\n"
          ]
        }
      ]
    },
    {
      "cell_type": "code",
      "execution_count": 183,
      "metadata": {
        "colab": {
          "base_uri": "https://localhost:8080/",
          "height": 428
        },
        "id": "9FGkI9rFAtPx",
        "outputId": "530b89e7-6ea2-4767-e777-720c323e2e7f"
      },
      "outputs": [
        {
          "output_type": "stream",
          "name": "stdout",
          "text": [
            "Dataframe:  \n",
            "num_rows = 1,000 \n",
            "num_cols = 1\n"
          ]
        },
        {
          "output_type": "display_data",
          "data": {
            "text/plain": [
              "   target\n",
              "0       6\n",
              "1       2\n",
              "2       7\n",
              "3       5\n",
              "4       7"
            ],
            "text/html": [
              "\n",
              "  <div id=\"df-5879cd95-2689-4c1d-86f1-c4c000549484\" class=\"colab-df-container\">\n",
              "    <div>\n",
              "<style scoped>\n",
              "    .dataframe tbody tr th:only-of-type {\n",
              "        vertical-align: middle;\n",
              "    }\n",
              "\n",
              "    .dataframe tbody tr th {\n",
              "        vertical-align: top;\n",
              "    }\n",
              "\n",
              "    .dataframe thead th {\n",
              "        text-align: right;\n",
              "    }\n",
              "</style>\n",
              "<table border=\"1\" class=\"dataframe\">\n",
              "  <thead>\n",
              "    <tr style=\"text-align: right;\">\n",
              "      <th></th>\n",
              "      <th>target</th>\n",
              "    </tr>\n",
              "  </thead>\n",
              "  <tbody>\n",
              "    <tr>\n",
              "      <th>0</th>\n",
              "      <td>6</td>\n",
              "    </tr>\n",
              "    <tr>\n",
              "      <th>1</th>\n",
              "      <td>2</td>\n",
              "    </tr>\n",
              "    <tr>\n",
              "      <th>2</th>\n",
              "      <td>7</td>\n",
              "    </tr>\n",
              "    <tr>\n",
              "      <th>3</th>\n",
              "      <td>5</td>\n",
              "    </tr>\n",
              "    <tr>\n",
              "      <th>4</th>\n",
              "      <td>7</td>\n",
              "    </tr>\n",
              "  </tbody>\n",
              "</table>\n",
              "</div>\n",
              "    <div class=\"colab-df-buttons\">\n",
              "\n",
              "  <div class=\"colab-df-container\">\n",
              "    <button class=\"colab-df-convert\" onclick=\"convertToInteractive('df-5879cd95-2689-4c1d-86f1-c4c000549484')\"\n",
              "            title=\"Convert this dataframe to an interactive table.\"\n",
              "            style=\"display:none;\">\n",
              "\n",
              "  <svg xmlns=\"http://www.w3.org/2000/svg\" height=\"24px\" viewBox=\"0 -960 960 960\">\n",
              "    <path d=\"M120-120v-720h720v720H120Zm60-500h600v-160H180v160Zm220 220h160v-160H400v160Zm0 220h160v-160H400v160ZM180-400h160v-160H180v160Zm440 0h160v-160H620v160ZM180-180h160v-160H180v160Zm440 0h160v-160H620v160Z\"/>\n",
              "  </svg>\n",
              "    </button>\n",
              "\n",
              "  <style>\n",
              "    .colab-df-container {\n",
              "      display:flex;\n",
              "      gap: 12px;\n",
              "    }\n",
              "\n",
              "    .colab-df-convert {\n",
              "      background-color: #E8F0FE;\n",
              "      border: none;\n",
              "      border-radius: 50%;\n",
              "      cursor: pointer;\n",
              "      display: none;\n",
              "      fill: #1967D2;\n",
              "      height: 32px;\n",
              "      padding: 0 0 0 0;\n",
              "      width: 32px;\n",
              "    }\n",
              "\n",
              "    .colab-df-convert:hover {\n",
              "      background-color: #E2EBFA;\n",
              "      box-shadow: 0px 1px 2px rgba(60, 64, 67, 0.3), 0px 1px 3px 1px rgba(60, 64, 67, 0.15);\n",
              "      fill: #174EA6;\n",
              "    }\n",
              "\n",
              "    .colab-df-buttons div {\n",
              "      margin-bottom: 4px;\n",
              "    }\n",
              "\n",
              "    [theme=dark] .colab-df-convert {\n",
              "      background-color: #3B4455;\n",
              "      fill: #D2E3FC;\n",
              "    }\n",
              "\n",
              "    [theme=dark] .colab-df-convert:hover {\n",
              "      background-color: #434B5C;\n",
              "      box-shadow: 0px 1px 3px 1px rgba(0, 0, 0, 0.15);\n",
              "      filter: drop-shadow(0px 1px 2px rgba(0, 0, 0, 0.3));\n",
              "      fill: #FFFFFF;\n",
              "    }\n",
              "  </style>\n",
              "\n",
              "    <script>\n",
              "      const buttonEl =\n",
              "        document.querySelector('#df-5879cd95-2689-4c1d-86f1-c4c000549484 button.colab-df-convert');\n",
              "      buttonEl.style.display =\n",
              "        google.colab.kernel.accessAllowed ? 'block' : 'none';\n",
              "\n",
              "      async function convertToInteractive(key) {\n",
              "        const element = document.querySelector('#df-5879cd95-2689-4c1d-86f1-c4c000549484');\n",
              "        const dataTable =\n",
              "          await google.colab.kernel.invokeFunction('convertToInteractive',\n",
              "                                                    [key], {});\n",
              "        if (!dataTable) return;\n",
              "\n",
              "        const docLinkHtml = 'Like what you see? Visit the ' +\n",
              "          '<a target=\"_blank\" href=https://colab.research.google.com/notebooks/data_table.ipynb>data table notebook</a>'\n",
              "          + ' to learn more about interactive tables.';\n",
              "        element.innerHTML = '';\n",
              "        dataTable['output_type'] = 'display_data';\n",
              "        await google.colab.output.renderOutput(dataTable, element);\n",
              "        const docLink = document.createElement('div');\n",
              "        docLink.innerHTML = docLinkHtml;\n",
              "        element.appendChild(docLink);\n",
              "      }\n",
              "    </script>\n",
              "  </div>\n",
              "\n",
              "\n",
              "<div id=\"df-7571267f-dc1f-4e18-98d5-85449fe45bb5\">\n",
              "  <button class=\"colab-df-quickchart\" onclick=\"quickchart('df-7571267f-dc1f-4e18-98d5-85449fe45bb5')\"\n",
              "            title=\"Suggest charts\"\n",
              "            style=\"display:none;\">\n",
              "\n",
              "<svg xmlns=\"http://www.w3.org/2000/svg\" height=\"24px\"viewBox=\"0 0 24 24\"\n",
              "     width=\"24px\">\n",
              "    <g>\n",
              "        <path d=\"M19 3H5c-1.1 0-2 .9-2 2v14c0 1.1.9 2 2 2h14c1.1 0 2-.9 2-2V5c0-1.1-.9-2-2-2zM9 17H7v-7h2v7zm4 0h-2V7h2v10zm4 0h-2v-4h2v4z\"/>\n",
              "    </g>\n",
              "</svg>\n",
              "  </button>\n",
              "\n",
              "<style>\n",
              "  .colab-df-quickchart {\n",
              "      --bg-color: #E8F0FE;\n",
              "      --fill-color: #1967D2;\n",
              "      --hover-bg-color: #E2EBFA;\n",
              "      --hover-fill-color: #174EA6;\n",
              "      --disabled-fill-color: #AAA;\n",
              "      --disabled-bg-color: #DDD;\n",
              "  }\n",
              "\n",
              "  [theme=dark] .colab-df-quickchart {\n",
              "      --bg-color: #3B4455;\n",
              "      --fill-color: #D2E3FC;\n",
              "      --hover-bg-color: #434B5C;\n",
              "      --hover-fill-color: #FFFFFF;\n",
              "      --disabled-bg-color: #3B4455;\n",
              "      --disabled-fill-color: #666;\n",
              "  }\n",
              "\n",
              "  .colab-df-quickchart {\n",
              "    background-color: var(--bg-color);\n",
              "    border: none;\n",
              "    border-radius: 50%;\n",
              "    cursor: pointer;\n",
              "    display: none;\n",
              "    fill: var(--fill-color);\n",
              "    height: 32px;\n",
              "    padding: 0;\n",
              "    width: 32px;\n",
              "  }\n",
              "\n",
              "  .colab-df-quickchart:hover {\n",
              "    background-color: var(--hover-bg-color);\n",
              "    box-shadow: 0 1px 2px rgba(60, 64, 67, 0.3), 0 1px 3px 1px rgba(60, 64, 67, 0.15);\n",
              "    fill: var(--button-hover-fill-color);\n",
              "  }\n",
              "\n",
              "  .colab-df-quickchart-complete:disabled,\n",
              "  .colab-df-quickchart-complete:disabled:hover {\n",
              "    background-color: var(--disabled-bg-color);\n",
              "    fill: var(--disabled-fill-color);\n",
              "    box-shadow: none;\n",
              "  }\n",
              "\n",
              "  .colab-df-spinner {\n",
              "    border: 2px solid var(--fill-color);\n",
              "    border-color: transparent;\n",
              "    border-bottom-color: var(--fill-color);\n",
              "    animation:\n",
              "      spin 1s steps(1) infinite;\n",
              "  }\n",
              "\n",
              "  @keyframes spin {\n",
              "    0% {\n",
              "      border-color: transparent;\n",
              "      border-bottom-color: var(--fill-color);\n",
              "      border-left-color: var(--fill-color);\n",
              "    }\n",
              "    20% {\n",
              "      border-color: transparent;\n",
              "      border-left-color: var(--fill-color);\n",
              "      border-top-color: var(--fill-color);\n",
              "    }\n",
              "    30% {\n",
              "      border-color: transparent;\n",
              "      border-left-color: var(--fill-color);\n",
              "      border-top-color: var(--fill-color);\n",
              "      border-right-color: var(--fill-color);\n",
              "    }\n",
              "    40% {\n",
              "      border-color: transparent;\n",
              "      border-right-color: var(--fill-color);\n",
              "      border-top-color: var(--fill-color);\n",
              "    }\n",
              "    60% {\n",
              "      border-color: transparent;\n",
              "      border-right-color: var(--fill-color);\n",
              "    }\n",
              "    80% {\n",
              "      border-color: transparent;\n",
              "      border-right-color: var(--fill-color);\n",
              "      border-bottom-color: var(--fill-color);\n",
              "    }\n",
              "    90% {\n",
              "      border-color: transparent;\n",
              "      border-bottom-color: var(--fill-color);\n",
              "    }\n",
              "  }\n",
              "</style>\n",
              "\n",
              "  <script>\n",
              "    async function quickchart(key) {\n",
              "      const quickchartButtonEl =\n",
              "        document.querySelector('#' + key + ' button');\n",
              "      quickchartButtonEl.disabled = true;  // To prevent multiple clicks.\n",
              "      quickchartButtonEl.classList.add('colab-df-spinner');\n",
              "      try {\n",
              "        const charts = await google.colab.kernel.invokeFunction(\n",
              "            'suggestCharts', [key], {});\n",
              "      } catch (error) {\n",
              "        console.error('Error during call to suggestCharts:', error);\n",
              "      }\n",
              "      quickchartButtonEl.classList.remove('colab-df-spinner');\n",
              "      quickchartButtonEl.classList.add('colab-df-quickchart-complete');\n",
              "    }\n",
              "    (() => {\n",
              "      let quickchartButtonEl =\n",
              "        document.querySelector('#df-7571267f-dc1f-4e18-98d5-85449fe45bb5 button');\n",
              "      quickchartButtonEl.style.display =\n",
              "        google.colab.kernel.accessAllowed ? 'block' : 'none';\n",
              "    })();\n",
              "  </script>\n",
              "</div>\n",
              "\n",
              "    </div>\n",
              "  </div>\n"
            ],
            "application/vnd.google.colaboratory.intrinsic+json": {
              "type": "dataframe",
              "summary": "{\n  \"name\": \"display_df(y)\",\n  \"rows\": 5,\n  \"fields\": [\n    {\n      \"column\": \"target\",\n      \"properties\": {\n        \"dtype\": \"uint8\",\n        \"num_unique_values\": 4,\n        \"samples\": [\n          2,\n          5,\n          6\n        ],\n        \"semantic_type\": \"\",\n        \"description\": \"\"\n      }\n    }\n  ]\n}"
            }
          },
          "metadata": {}
        },
        {
          "output_type": "stream",
          "name": "stdout",
          "text": [
            "Info:\n",
            "<class 'pandas.core.frame.DataFrame'>\n",
            "RangeIndex: 1000 entries, 0 to 999\n",
            "Data columns (total 1 columns):\n",
            " #   Column  Non-Null Count  Dtype\n",
            "---  ------  --------------  -----\n",
            " 0   target  1000 non-null   uint8\n",
            "dtypes: uint8(1)\n",
            "memory usage: 1.1 KB\n"
          ]
        }
      ],
      "source": [
        "y['target'] = y['target'].astype(np.uint8)\n",
        "display_df(y)"
      ]
    },
    {
      "cell_type": "code",
      "execution_count": 184,
      "metadata": {
        "colab": {
          "base_uri": "https://localhost:8080/",
          "height": 54
        },
        "id": "X6wSk2fAAtPy",
        "outputId": "a5863acb-9156-44bf-b2e9-7bea689e1c97"
      },
      "outputs": [
        {
          "output_type": "display_data",
          "data": {
            "text/plain": [
              "<Figure size 1200x1400 with 5 Axes>"
            ],
            "image/png": "[encoded data removed]"
          },
          "metadata": {}
        }
      ],
      "source": [
        "random_img = [random.randint(0, len(X)) for _ in range(5)]\n",
        "num_rows = 1\n",
        "num_cols = 5\n",
        "fig = plt.figure(figsize=(12,14))\n",
        "for img_num in range(num_rows*num_cols):\n",
        "    ax = fig.add_subplot(num_rows, num_cols, img_num+1)\n",
        "    index = random_img[img_num]\n",
        "    image = X.loc[index, :].to_numpy().reshape(pixel_size, pixel_size)\n",
        "    ax.imshow(image)\n",
        "    ax.set_title(\"id={}\".format(index))\n",
        "plt.tight_layout()"
      ]
    },
    {
      "cell_type": "markdown",
      "source": [
        "### Define Train and Test Sets"
      ],
      "metadata": {
        "id": "0ksFyA5etfZs"
      }
    },
    {
      "cell_type": "code",
      "execution_count": 185,
      "metadata": {
        "id": "07DJ20htAtPy"
      },
      "outputs": [],
      "source": [
        "X_train, X_test, y_train, y_test = train_test_split(X,\n",
        "                                                    y,\n",
        "                                                    stratify=y,\n",
        "                                                    test_size=0.2,\n",
        "                                                    random_state=2\n",
        "                                                    )"
      ]
    },
    {
      "source": [
        "y_train = np.where(y_train[\"target\"] == 5, 1, 0)\n",
        "y_test = np.where(y_test[\"target\"] == 5, 1, 0)"
      ],
      "cell_type": "code",
      "metadata": {
        "id": "8nNprpJhudX6"
      },
      "execution_count": 186,
      "outputs": []
    },
    {
      "cell_type": "markdown",
      "source": [
        "### Imputation"
      ],
      "metadata": {
        "id": "CKl78lNPvxAh"
      }
    },
    {
      "cell_type": "code",
      "execution_count": 187,
      "metadata": {
        "id": "d0LejnR9AtPz"
      },
      "outputs": [],
      "source": [
        "scaler = StandardScaler()\n",
        "X_train = scaler.fit_transform(X_train)\n",
        "X_test = scaler.transform(X_test)"
      ]
    },
    {
      "cell_type": "markdown",
      "source": [
        "### SGDClassifier"
      ],
      "metadata": {
        "id": "1b849_2pwQLs"
      }
    },
    {
      "cell_type": "code",
      "source": [
        "sgd_clf = SGDClassifier(random_state=42, loss=\"log_loss\")\n",
        "sgd_clf.fit(X_train, y_train)"
      ],
      "metadata": {
        "colab": {
          "base_uri": "https://localhost:8080/",
          "height": 100
        },
        "id": "11-YRleDv9Ga",
        "outputId": "a16f1a3d-949d-4714-f62b-87f908d3c14c"
      },
      "execution_count": 188,
      "outputs": [
        {
          "output_type": "execute_result",
          "data": {
            "text/plain": [
              "SGDClassifier(loss='log_loss', random_state=42)"
            ],
            "text/html": [
              "<style>#sk-container-id-4 {\n",
              "  /* Definition of color scheme common for light and dark mode */\n",
              "  --sklearn-color-text: black;\n",
              "  --sklearn-color-line: gray;\n",
              "  /* Definition of color scheme for unfitted estimators */\n",
              "  --sklearn-color-unfitted-level-0: #fff5e6;\n",
              "  --sklearn-color-unfitted-level-1: #f6e4d2;\n",
              "  --sklearn-color-unfitted-level-2: #ffe0b3;\n",
              "  --sklearn-color-unfitted-level-3: chocolate;\n",
              "  /* Definition of color scheme for fitted estimators */\n",
              "  --sklearn-color-fitted-level-0: #f0f8ff;\n",
              "  --sklearn-color-fitted-level-1: #d4ebff;\n",
              "  --sklearn-color-fitted-level-2: #b3dbfd;\n",
              "  --sklearn-color-fitted-level-3: cornflowerblue;\n",
              "\n",
              "  /* Specific color for light theme */\n",
              "  --sklearn-color-text-on-default-background: var(--sg-text-color, var(--theme-code-foreground, var(--jp-content-font-color1, black)));\n",
              "  --sklearn-color-background: var(--sg-background-color, var(--theme-background, var(--jp-layout-color0, white)));\n",
              "  --sklearn-color-border-box: var(--sg-text-color, var(--theme-code-foreground, var(--jp-content-font-color1, black)));\n",
              "  --sklearn-color-icon: #696969;\n",
              "\n",
              "  @media (prefers-color-scheme: dark) {\n",
              "    /* Redefinition of color scheme for dark theme */\n",
              "    --sklearn-color-text-on-default-background: var(--sg-text-color, var(--theme-code-foreground, var(--jp-content-font-color1, white)));\n",
              "    --sklearn-color-background: var(--sg-background-color, var(--theme-background, var(--jp-layout-color0, #111)));\n",
              "    --sklearn-color-border-box: var(--sg-text-color, var(--theme-code-foreground, var(--jp-content-font-color1, white)));\n",
              "    --sklearn-color-icon: #878787;\n",
              "  }\n",
              "}\n",
              "\n",
              "#sk-container-id-4 {\n",
              "  color: var(--sklearn-color-text);\n",
              "}\n",
              "\n",
              "#sk-container-id-4 pre {\n",
              "  padding: 0;\n",
              "}\n",
              "\n",
              "#sk-container-id-4 input.sk-hidden--visually {\n",
              "  border: 0;\n",
              "  clip: rect(1px 1px 1px 1px);\n",
              "  clip: rect(1px, 1px, 1px, 1px);\n",
              "  height: 1px;\n",
              "  margin: -1px;\n",
              "  overflow: hidden;\n",
              "  padding: 0;\n",
              "  position: absolute;\n",
              "  width: 1px;\n",
              "}\n",
              "\n",
              "#sk-container-id-4 div.sk-dashed-wrapped {\n",
              "  border: 1px dashed var(--sklearn-color-line);\n",
              "  margin: 0 0.4em 0.5em 0.4em;\n",
              "  box-sizing: border-box;\n",
              "  padding-bottom: 0.4em;\n",
              "  background-color: var(--sklearn-color-background);\n",
              "}\n",
              "\n",
              "#sk-container-id-4 div.sk-container {\n",
              "  /* jupyter's `normalize.less` sets `[hidden] { display: none; }`\n",
              "     but bootstrap.min.css set `[hidden] { display: none !important; }`\n",
              "     so we also need the `!important` here to be able to override the\n",
              "     default hidden behavior on the sphinx rendered scikit-learn.org.\n",
              "     See: https://github.com/scikit-learn/scikit-learn/issues/21755 */\n",
              "  display: inline-block !important;\n",
              "  position: relative;\n",
              "}\n",
              "\n",
              "#sk-container-id-4 div.sk-text-repr-fallback {\n",
              "  display: none;\n",
              "}\n",
              "\n",
              "div.sk-parallel-item,\n",
              "div.sk-serial,\n",
              "div.sk-item {\n",
              "  /* draw centered vertical line to link estimators */\n",
              "  background-image: linear-gradient(var(--sklearn-color-text-on-default-background), var(--sklearn-color-text-on-default-background));\n",
              "  background-size: 2px 100%;\n",
              "  background-repeat: no-repeat;\n",
              "  background-position: center center;\n",
              "}\n",
              "\n",
              "/* Parallel-specific style estimator block */\n",
              "\n",
              "#sk-container-id-4 div.sk-parallel-item::after {\n",
              "  content: \"\";\n",
              "  width: 100%;\n",
              "  border-bottom: 2px solid var(--sklearn-color-text-on-default-background);\n",
              "  flex-grow: 1;\n",
              "}\n",
              "\n",
              "#sk-container-id-4 div.sk-parallel {\n",
              "  display: flex;\n",
              "  align-items: stretch;\n",
              "  justify-content: center;\n",
              "  background-color: var(--sklearn-color-background);\n",
              "  position: relative;\n",
              "}\n",
              "\n",
              "#sk-container-id-4 div.sk-parallel-item {\n",
              "  display: flex;\n",
              "  flex-direction: column;\n",
              "}\n",
              "\n",
              "#sk-container-id-4 div.sk-parallel-item:first-child::after {\n",
              "  align-self: flex-end;\n",
              "  width: 50%;\n",
              "}\n",
              "\n",
              "#sk-container-id-4 div.sk-parallel-item:last-child::after {\n",
              "  align-self: flex-start;\n",
              "  width: 50%;\n",
              "}\n",
              "\n",
              "#sk-container-id-4 div.sk-parallel-item:only-child::after {\n",
              "  width: 0;\n",
              "}\n",
              "\n",
              "/* Serial-specific style estimator block */\n",
              "\n",
              "#sk-container-id-4 div.sk-serial {\n",
              "  display: flex;\n",
              "  flex-direction: column;\n",
              "  align-items: center;\n",
              "  background-color: var(--sklearn-color-background);\n",
              "  padding-right: 1em;\n",
              "  padding-left: 1em;\n",
              "}\n",
              "\n",
              "\n",
              "/* Toggleable style: style used for estimator/Pipeline/ColumnTransformer box that is\n",
              "clickable and can be expanded/collapsed.\n",
              "- Pipeline and ColumnTransformer use this feature and define the default style\n",
              "- Estimators will overwrite some part of the style using the `sk-estimator` class\n",
              "*/\n",
              "\n",
              "/* Pipeline and ColumnTransformer style (default) */\n",
              "\n",
              "#sk-container-id-4 div.sk-toggleable {\n",
              "  /* Default theme specific background. It is overwritten whether we have a\n",
              "  specific estimator or a Pipeline/ColumnTransformer */\n",
              "  background-color: var(--sklearn-color-background);\n",
              "}\n",
              "\n",
              "/* Toggleable label */\n",
              "#sk-container-id-4 label.sk-toggleable__label {\n",
              "  cursor: pointer;\n",
              "  display: block;\n",
              "  width: 100%;\n",
              "  margin-bottom: 0;\n",
              "  padding: 0.5em;\n",
              "  box-sizing: border-box;\n",
              "  text-align: center;\n",
              "}\n",
              "\n",
              "#sk-container-id-4 label.sk-toggleable__label-arrow:before {\n",
              "  /* Arrow on the left of the label */\n",
              "  content: \"▸\";\n",
              "  float: left;\n",
              "  margin-right: 0.25em;\n",
              "  color: var(--sklearn-color-icon);\n",
              "}\n",
              "\n",
              "#sk-container-id-4 label.sk-toggleable__label-arrow:hover:before {\n",
              "  color: var(--sklearn-color-text);\n",
              "}\n",
              "\n",
              "/* Toggleable content - dropdown */\n",
              "\n",
              "#sk-container-id-4 div.sk-toggleable__content {\n",
              "  max-height: 0;\n",
              "  max-width: 0;\n",
              "  overflow: hidden;\n",
              "  text-align: left;\n",
              "  /* unfitted */\n",
              "  background-color: var(--sklearn-color-unfitted-level-0);\n",
              "}\n",
              "\n",
              "#sk-container-id-4 div.sk-toggleable__content.fitted {\n",
              "  /* fitted */\n",
              "  background-color: var(--sklearn-color-fitted-level-0);\n",
              "}\n",
              "\n",
              "#sk-container-id-4 div.sk-toggleable__content pre {\n",
              "  margin: 0.2em;\n",
              "  border-radius: 0.25em;\n",
              "  color: var(--sklearn-color-text);\n",
              "  /* unfitted */\n",
              "  background-color: var(--sklearn-color-unfitted-level-0);\n",
              "}\n",
              "\n",
              "#sk-container-id-4 div.sk-toggleable__content.fitted pre {\n",
              "  /* unfitted */\n",
              "  background-color: var(--sklearn-color-fitted-level-0);\n",
              "}\n",
              "\n",
              "#sk-container-id-4 input.sk-toggleable__control:checked~div.sk-toggleable__content {\n",
              "  /* Expand drop-down */\n",
              "  max-height: 200px;\n",
              "  max-width: 100%;\n",
              "  overflow: auto;\n",
              "}\n",
              "\n",
              "#sk-container-id-4 input.sk-toggleable__control:checked~label.sk-toggleable__label-arrow:before {\n",
              "  content: \"▾\";\n",
              "}\n",
              "\n",
              "/* Pipeline/ColumnTransformer-specific style */\n",
              "\n",
              "#sk-container-id-4 div.sk-label input.sk-toggleable__control:checked~label.sk-toggleable__label {\n",
              "  color: var(--sklearn-color-text);\n",
              "  background-color: var(--sklearn-color-unfitted-level-2);\n",
              "}\n",
              "\n",
              "#sk-container-id-4 div.sk-label.fitted input.sk-toggleable__control:checked~label.sk-toggleable__label {\n",
              "  background-color: var(--sklearn-color-fitted-level-2);\n",
              "}\n",
              "\n",
              "/* Estimator-specific style */\n",
              "\n",
              "/* Colorize estimator box */\n",
              "#sk-container-id-4 div.sk-estimator input.sk-toggleable__control:checked~label.sk-toggleable__label {\n",
              "  /* unfitted */\n",
              "  background-color: var(--sklearn-color-unfitted-level-2);\n",
              "}\n",
              "\n",
              "#sk-container-id-4 div.sk-estimator.fitted input.sk-toggleable__control:checked~label.sk-toggleable__label {\n",
              "  /* fitted */\n",
              "  background-color: var(--sklearn-color-fitted-level-2);\n",
              "}\n",
              "\n",
              "#sk-container-id-4 div.sk-label label.sk-toggleable__label,\n",
              "#sk-container-id-4 div.sk-label label {\n",
              "  /* The background is the default theme color */\n",
              "  color: var(--sklearn-color-text-on-default-background);\n",
              "}\n",
              "\n",
              "/* On hover, darken the color of the background */\n",
              "#sk-container-id-4 div.sk-label:hover label.sk-toggleable__label {\n",
              "  color: var(--sklearn-color-text);\n",
              "  background-color: var(--sklearn-color-unfitted-level-2);\n",
              "}\n",
              "\n",
              "/* Label box, darken color on hover, fitted */\n",
              "#sk-container-id-4 div.sk-label.fitted:hover label.sk-toggleable__label.fitted {\n",
              "  color: var(--sklearn-color-text);\n",
              "  background-color: var(--sklearn-color-fitted-level-2);\n",
              "}\n",
              "\n",
              "/* Estimator label */\n",
              "\n",
              "#sk-container-id-4 div.sk-label label {\n",
              "  font-family: monospace;\n",
              "  font-weight: bold;\n",
              "  display: inline-block;\n",
              "  line-height: 1.2em;\n",
              "}\n",
              "\n",
              "#sk-container-id-4 div.sk-label-container {\n",
              "  text-align: center;\n",
              "}\n",
              "\n",
              "/* Estimator-specific */\n",
              "#sk-container-id-4 div.sk-estimator {\n",
              "  font-family: monospace;\n",
              "  border: 1px dotted var(--sklearn-color-border-box);\n",
              "  border-radius: 0.25em;\n",
              "  box-sizing: border-box;\n",
              "  margin-bottom: 0.5em;\n",
              "  /* unfitted */\n",
              "  background-color: var(--sklearn-color-unfitted-level-0);\n",
              "}\n",
              "\n",
              "#sk-container-id-4 div.sk-estimator.fitted {\n",
              "  /* fitted */\n",
              "  background-color: var(--sklearn-color-fitted-level-0);\n",
              "}\n",
              "\n",
              "/* on hover */\n",
              "#sk-container-id-4 div.sk-estimator:hover {\n",
              "  /* unfitted */\n",
              "  background-color: var(--sklearn-color-unfitted-level-2);\n",
              "}\n",
              "\n",
              "#sk-container-id-4 div.sk-estimator.fitted:hover {\n",
              "  /* fitted */\n",
              "  background-color: var(--sklearn-color-fitted-level-2);\n",
              "}\n",
              "\n",
              "/* Specification for estimator info (e.g. \"i\" and \"?\") */\n",
              "\n",
              "/* Common style for \"i\" and \"?\" */\n",
              "\n",
              ".sk-estimator-doc-link,\n",
              "a:link.sk-estimator-doc-link,\n",
              "a:visited.sk-estimator-doc-link {\n",
              "  float: right;\n",
              "  font-size: smaller;\n",
              "  line-height: 1em;\n",
              "  font-family: monospace;\n",
              "  background-color: var(--sklearn-color-background);\n",
              "  border-radius: 1em;\n",
              "  height: 1em;\n",
              "  width: 1em;\n",
              "  text-decoration: none !important;\n",
              "  margin-left: 1ex;\n",
              "  /* unfitted */\n",
              "  border: var(--sklearn-color-unfitted-level-1) 1pt solid;\n",
              "  color: var(--sklearn-color-unfitted-level-1);\n",
              "}\n",
              "\n",
              ".sk-estimator-doc-link.fitted,\n",
              "a:link.sk-estimator-doc-link.fitted,\n",
              "a:visited.sk-estimator-doc-link.fitted {\n",
              "  /* fitted */\n",
              "  border: var(--sklearn-color-fitted-level-1) 1pt solid;\n",
              "  color: var(--sklearn-color-fitted-level-1);\n",
              "}\n",
              "\n",
              "/* On hover */\n",
              "div.sk-estimator:hover .sk-estimator-doc-link:hover,\n",
              ".sk-estimator-doc-link:hover,\n",
              "div.sk-label-container:hover .sk-estimator-doc-link:hover,\n",
              ".sk-estimator-doc-link:hover {\n",
              "  /* unfitted */\n",
              "  background-color: var(--sklearn-color-unfitted-level-3);\n",
              "  color: var(--sklearn-color-background);\n",
              "  text-decoration: none;\n",
              "}\n",
              "\n",
              "div.sk-estimator.fitted:hover .sk-estimator-doc-link.fitted:hover,\n",
              ".sk-estimator-doc-link.fitted:hover,\n",
              "div.sk-label-container:hover .sk-estimator-doc-link.fitted:hover,\n",
              ".sk-estimator-doc-link.fitted:hover {\n",
              "  /* fitted */\n",
              "  background-color: var(--sklearn-color-fitted-level-3);\n",
              "  color: var(--sklearn-color-background);\n",
              "  text-decoration: none;\n",
              "}\n",
              "\n",
              "/* Span, style for the box shown on hovering the info icon */\n",
              ".sk-estimator-doc-link span {\n",
              "  display: none;\n",
              "  z-index: 9999;\n",
              "  position: relative;\n",
              "  font-weight: normal;\n",
              "  right: .2ex;\n",
              "  padding: .5ex;\n",
              "  margin: .5ex;\n",
              "  width: min-content;\n",
              "  min-width: 20ex;\n",
              "  max-width: 50ex;\n",
              "  color: var(--sklearn-color-text);\n",
              "  box-shadow: 2pt 2pt 4pt #999;\n",
              "  /* unfitted */\n",
              "  background: var(--sklearn-color-unfitted-level-0);\n",
              "  border: .5pt solid var(--sklearn-color-unfitted-level-3);\n",
              "}\n",
              "\n",
              ".sk-estimator-doc-link.fitted span {\n",
              "  /* fitted */\n",
              "  background: var(--sklearn-color-fitted-level-0);\n",
              "  border: var(--sklearn-color-fitted-level-3);\n",
              "}\n",
              "\n",
              ".sk-estimator-doc-link:hover span {\n",
              "  display: block;\n",
              "}\n",
              "\n",
              "/* \"?\"-specific style due to the `<a>` HTML tag */\n",
              "\n",
              "#sk-container-id-4 a.estimator_doc_link {\n",
              "  float: right;\n",
              "  font-size: 1rem;\n",
              "  line-height: 1em;\n",
              "  font-family: monospace;\n",
              "  background-color: var(--sklearn-color-background);\n",
              "  border-radius: 1rem;\n",
              "  height: 1rem;\n",
              "  width: 1rem;\n",
              "  text-decoration: none;\n",
              "  /* unfitted */\n",
              "  color: var(--sklearn-color-unfitted-level-1);\n",
              "  border: var(--sklearn-color-unfitted-level-1) 1pt solid;\n",
              "}\n",
              "\n",
              "#sk-container-id-4 a.estimator_doc_link.fitted {\n",
              "  /* fitted */\n",
              "  border: var(--sklearn-color-fitted-level-1) 1pt solid;\n",
              "  color: var(--sklearn-color-fitted-level-1);\n",
              "}\n",
              "\n",
              "/* On hover */\n",
              "#sk-container-id-4 a.estimator_doc_link:hover {\n",
              "  /* unfitted */\n",
              "  background-color: var(--sklearn-color-unfitted-level-3);\n",
              "  color: var(--sklearn-color-background);\n",
              "  text-decoration: none;\n",
              "}\n",
              "\n",
              "#sk-container-id-4 a.estimator_doc_link.fitted:hover {\n",
              "  /* fitted */\n",
              "  background-color: var(--sklearn-color-fitted-level-3);\n",
              "}\n",
              "</style><div id=\"sk-container-id-4\" class=\"sk-top-container\"><div class=\"sk-text-repr-fallback\"><pre>SGDClassifier(loss=&#x27;log_loss&#x27;, random_state=42)</pre><b>In a Jupyter environment, please rerun this cell to show the HTML representation or trust the notebook. <br />On GitHub, the HTML representation is unable to render, please try loading this page with nbviewer.org.</b></div><div class=\"sk-container\" hidden><div class=\"sk-item\"><div class=\"sk-estimator fitted sk-toggleable\"><input class=\"sk-toggleable__control sk-hidden--visually\" id=\"sk-estimator-id-4\" type=\"checkbox\" checked><label for=\"sk-estimator-id-4\" class=\"sk-toggleable__label fitted sk-toggleable__label-arrow fitted\">&nbsp;&nbsp;SGDClassifier<a class=\"sk-estimator-doc-link fitted\" rel=\"noreferrer\" target=\"_blank\" href=\"https://scikit-learn.org/1.5/modules/generated/sklearn.linear_model.SGDClassifier.html\">?<span>Documentation for SGDClassifier</span></a><span class=\"sk-estimator-doc-link fitted\">i<span>Fitted</span></span></label><div class=\"sk-toggleable__content fitted\"><pre>SGDClassifier(loss=&#x27;log_loss&#x27;, random_state=42)</pre></div> </div></div></div></div>"
            ]
          },
          "metadata": {},
          "execution_count": 188
        }
      ]
    },
    {
      "cell_type": "code",
      "source": [
        "pprint(sgd_clf._get_param_names())"
      ],
      "metadata": {
        "colab": {
          "base_uri": "https://localhost:8080/"
        },
        "id": "LiHgTUyYAaS0",
        "outputId": "c8c1e85c-a4b6-4079-dce7-d9a8956b2acf"
      },
      "execution_count": 189,
      "outputs": [
        {
          "output_type": "stream",
          "name": "stdout",
          "text": [
            "['alpha',\n",
            " 'average',\n",
            " 'class_weight',\n",
            " 'early_stopping',\n",
            " 'epsilon',\n",
            " 'eta0',\n",
            " 'fit_intercept',\n",
            " 'l1_ratio',\n",
            " 'learning_rate',\n",
            " 'loss',\n",
            " 'max_iter',\n",
            " 'n_iter_no_change',\n",
            " 'n_jobs',\n",
            " 'penalty',\n",
            " 'power_t',\n",
            " 'random_state',\n",
            " 'shuffle',\n",
            " 'tol',\n",
            " 'validation_fraction',\n",
            " 'verbose',\n",
            " 'warm_start']\n"
          ]
        }
      ]
    },
    {
      "cell_type": "code",
      "source": [
        "print(\"Num. of classes:\", sgd_clf.classes_)\n",
        "print(\"Num. of features:\", sgd_clf.n_features_in_)"
      ],
      "metadata": {
        "colab": {
          "base_uri": "https://localhost:8080/"
        },
        "id": "sh3AXxPOFr1H",
        "outputId": "8ac71301-49cd-4f57-af82-02e1beeed577"
      },
      "execution_count": 190,
      "outputs": [
        {
          "output_type": "stream",
          "name": "stdout",
          "text": [
            "Num. of classes: [0 1]\n",
            "Num. of features: 784\n"
          ]
        }
      ]
    },
    {
      "source": [
        "decision_scores = sgd_clf.decision_function(X_test)\n",
        "plt.figure(figsize=(10, 6))\n",
        "plt.plot(decision_scores, marker='o', linestyle='-', color='steelblue', label='Decision Scores')\n",
        "plt.axhline(y=0, color='olive', linestyle='--', label='Decision Boundary')  # Add this line\n",
        "plt.xlabel('Sample Index', fontsize=12)\n",
        "plt.ylabel('Decision Score', fontsize=12)\n",
        "plt.title('Decision Function Scores for Test Set', fontsize=14)\n",
        "plt.grid(True)\n",
        "plt.legend(fontsize=10)\n",
        "plt.show()"
      ],
      "cell_type": "code",
      "metadata": {
        "colab": {
          "base_uri": "https://localhost:8080/",
          "height": 54
        },
        "id": "YFd3TLIBEz_V",
        "outputId": "bf503758-04c3-4955-d580-d81ab315ac2f"
      },
      "execution_count": 191,
      "outputs": [
        {
          "output_type": "display_data",
          "data": {
            "text/plain": [
              "<Figure size 1000x600 with 1 Axes>"
            ],
            "image/png": "[encoded data removed]"
          },
          "metadata": {}
        }
      ]
    },
    {
      "source": [
        "for attr in sgd_clf.__dict__:\n",
        "    print(f\"{attr}: {getattr(sgd_clf, attr)}\")"
      ],
      "cell_type": "code",
      "metadata": {
        "colab": {
          "base_uri": "https://localhost:8080/"
        },
        "collapsed": true,
        "id": "M-zsOmOLBEB1",
        "outputId": "cac0784c-e3d8-43af-f79f-36d22924381a"
      },
      "execution_count": 192,
      "outputs": [
        {
          "output_type": "stream",
          "name": "stdout",
          "text": [
            "loss: log_loss\n",
            "penalty: l2\n",
            "learning_rate: optimal\n",
            "epsilon: 0.1\n",
            "alpha: 0.0001\n",
            "C: 1.0\n",
            "l1_ratio: 0.15\n",
            "fit_intercept: True\n",
            "shuffle: True\n",
            "random_state: 42\n",
            "verbose: 0\n",
            "eta0: 0.0\n",
            "power_t: 0.5\n",
            "early_stopping: False\n",
            "validation_fraction: 0.1\n",
            "n_iter_no_change: 5\n",
            "warm_start: False\n",
            "average: False\n",
            "max_iter: 1000\n",
            "tol: 0.001\n",
            "class_weight: None\n",
            "n_jobs: None\n",
            "coef_: [[  0.           0.           0.           0.           0.\n",
            "    0.           0.           0.           0.           0.\n",
            "    0.           0.           0.           0.           0.\n",
            "    0.           0.           0.           0.           0.\n",
            "    0.           0.           0.           0.           0.\n",
            "    0.           0.           0.           0.           0.\n",
            "    0.           0.           0.           0.         -17.16789289\n",
            "  -17.16789289 -17.16789289   0.           0.         -17.16789289\n",
            "  -11.5258893  -16.1040028   -1.40760425 -17.16789289 -17.16789289\n",
            "  -17.16789289   0.           0.           0.           0.\n",
            "    0.           0.           0.           0.           0.\n",
            "    0.           0.           0.           0.           0.\n",
            "    0.           0.         -17.16789289 -16.45792746 -10.28818354\n",
            "  -12.37102693 -15.53356177  -2.02522083  -9.47825287 -11.82814792\n",
            "  -15.75610923 -14.65841384 -11.72699061 -10.80463366  -9.63032419\n",
            "   -9.8815946  -10.29517019 -11.64102903 -17.16789289   0.\n",
            "    0.           0.           0.           0.           0.\n",
            "    0.         -17.16789289 -17.16789289   0.           3.34226401\n",
            "   -8.18677115  -8.08031799 -13.66737313  -9.81547485  -4.40033248\n",
            "   -5.22138212  -6.49146509   6.04250594  15.999015     1.67505387\n",
            "  -17.2628884  -15.08840684 -12.44021822 -19.25583358 -21.61093809\n",
            "  -20.24751651 -12.38484055  12.43099099  23.85242091   0.\n",
            "    0.           0.           0.           0.         -17.16789289\n",
            "  -17.16789289   3.05461825   4.20021222  -6.97191783 -11.72145001\n",
            "  -14.67202408 -23.706638   -27.50513974  -7.20337822   2.01218236\n",
            "    8.69037651  14.67175038   7.19472606 -14.01816158  -7.41784265\n",
            "   -0.79767235   6.12282743  -2.91291235  -1.53678735   7.15784968\n",
            "   16.72944922 -12.95206401 -16.81694688   3.34226401   0.\n",
            "    0.           0.         -17.16789289 -17.16789289  -4.74703223\n",
            "   -4.34181963  -9.3398267   -9.13975068  -8.81798809 -18.68392555\n",
            "  -15.52528017 -21.3114338  -22.57192729 -18.89342821  -7.61000232\n",
            "  -11.06562468 -12.84042084  -0.6497922    7.5905083   13.01953464\n",
            "   20.16581075  20.81609036  12.55241919  48.82994714  30.1095336\n",
            "    0.29307039   4.27887492   0.           0.           0.\n",
            "    0.         -17.16789289 -14.36200512   2.18856453   4.21704216\n",
            "    5.29495882   2.53473126   2.63402314   8.50199874   0.7252395\n",
            "    5.78649789  -0.76477261   7.82603931  -5.92096152 -13.16832582\n",
            "   -1.25437311  11.18644635  11.61388914  16.06012687  12.27037677\n",
            "   13.51554303  17.29628409  17.81872826   4.89947869   4.42929329\n",
            "    0.           0.         -17.16789289 -17.16789289 -16.48708341\n",
            "  -11.45350602   6.87038252  -3.10077279 -12.48420005 -16.52000613\n",
            "    7.43400781   9.69378068  16.1460748   21.2840465   14.69841036\n",
            "   -6.56472048 -15.47135877 -20.49245837 -20.31082592   1.59426811\n",
            "   -0.82456207  -4.95483726  -5.64539037 -11.26810216   0.73636344\n",
            "   42.34210311   4.38426223   2.86437278   0.           0.\n",
            "  -17.15473826 -16.23251775 -13.25053987 -10.14922884 -12.03083031\n",
            "  -14.67252499 -14.6820951   -2.26381608  -2.3185059    1.65701921\n",
            "    8.6909929   15.34307249  10.21055337   4.62881307   2.1253524\n",
            "  -10.84748772 -14.0763497  -13.82872973 -15.84061747   5.67497181\n",
            "   14.75692223  14.35668014  34.24000732  28.47115291  -8.76134058\n",
            "    2.49785443   0.           0.         -17.07510864 -12.05865852\n",
            "  -21.25976622 -15.29317993 -14.84974637 -13.82072666 -11.96966914\n",
            "   11.42142794   4.98179681   8.74663686   3.05370693   5.12287766\n",
            "    1.36752452   2.64595483  -1.95679191  -4.6031429  -15.90942183\n",
            "  -12.13337137 -13.87734497 -11.37687488   5.80650254  19.64432001\n",
            "   42.49356969  42.27420792   5.50112185   5.10093181   3.34226401\n",
            "    0.           0.          -1.01708596 -10.65995965  -8.37695038\n",
            "  -14.15373133 -15.00815671  -7.17846699   7.81202139  15.94585358\n",
            "   11.82528721   9.82267721   5.88968282  38.7280278   10.9189692\n",
            "    8.41718416  -8.96890474 -10.00135199 -12.93875402 -20.35202638\n",
            "  -15.76557641 -16.59397319  -7.66893361  29.41844426  39.92514658\n",
            "   42.25045348  24.8634838    3.34226401   0.           0.\n",
            "    3.34226401   2.87578089  -8.48615815 -13.19068347  -7.96621961\n",
            "   -2.48085151  -4.33834962   5.56593314  11.9093035   16.54009\n",
            "   19.89889836  40.18969748  13.88613674 -17.58228005 -39.21148961\n",
            "  -46.43349551 -45.23366997 -25.87196365 -27.49213035 -37.15052525\n",
            "  -22.92599105 -10.69201319 -12.82184744  16.14348083 -32.79548371\n",
            "    0.           0.           0.           3.34226401   3.83637197\n",
            "   -6.59811357  -9.32724422  -7.20221546  -9.74868066 -18.8243243\n",
            "   -5.68138143  16.58692287  32.82373401  27.20510949  28.63184036\n",
            "   -1.5921931  -13.9288681  -29.39243307 -41.89543758 -46.0440724\n",
            "  -37.26986983 -27.45253983 -21.49685876 -15.23828252 -17.90919713\n",
            "  -32.0777972    1.12441464   3.34226401   0.           0.\n",
            "    0.           0.           3.34226401  -2.19810023  -5.73707038\n",
            "  -11.56768485 -16.71936674  -7.07970792  -3.32220723  29.09571566\n",
            "   35.05540808  21.39089055  16.71815724   1.9072063  -14.34222158\n",
            "  -29.26130247 -24.67157652 -19.71731311 -26.73589352 -18.88549513\n",
            "  -18.23666671 -15.82981951 -26.54025802 -28.01747122  -4.29958083\n",
            "   -0.92162471   0.           0.           0.           0.\n",
            "    4.2875051   -1.23785027 -14.9633302  -16.49172483 -23.61602095\n",
            "  -14.01303508   0.89953091  32.44517039  26.69519247  11.89374992\n",
            "   -4.27084979 -11.14283855 -16.77767722 -24.01157752 -19.10975915\n",
            "   -1.50957469  -5.5085211  -29.18625     -5.49479581 -11.94010927\n",
            "  -22.50258332 -14.42831435  -8.36635399 -17.16789289   0.\n",
            "    0.           0.           3.34226401  -2.48349084  -6.67928289\n",
            "  -17.7254793  -21.12708958 -33.57513323 -18.89732882  -1.57073159\n",
            "   13.20466324   2.76851694  -8.9263775  -15.13637417 -21.77417753\n",
            "  -25.67639469 -26.28652666 -19.62038727  -5.37770972  -5.1450897\n",
            "   -9.08113541   1.393654    -3.06429733 -18.70443834 -11.36856563\n",
            "  -16.77450309 -18.9882302    0.           0.           0.\n",
            "    3.34226401  -8.14008974 -12.58460212 -17.70785752 -12.69458249\n",
            "  -33.02023283 -12.83692795 -12.36087883  -6.03610715 -18.11176525\n",
            "  -22.05081317 -13.93235098 -30.61376348 -35.67962599 -26.30760782\n",
            "   -5.13109353   4.16645573 -10.21877672   9.1177794   -6.45977511\n",
            "   -5.65883441  -9.90982021 -19.80298209 -18.67462369  -5.39585345\n",
            "    0.           0.           0.           3.34226401  -8.23398255\n",
            "  -16.68133553  -4.41037063   2.06184452  -9.39117444 -16.75539583\n",
            "  -25.97269923 -30.16511892 -31.10172148 -23.29375357 -15.51568156\n",
            "  -16.88676455 -18.46922383  -7.32194387   6.99828681   4.91210546\n",
            "  -10.78433211  16.84551082   2.66571519  -8.64184336 -10.47267493\n",
            "  -12.66597531 -12.24319664 -20.71179602   0.           0.\n",
            "    0.          -8.92103923  -0.59822942  -9.93084649  15.45389174\n",
            "   14.28374295  -2.61769503   1.052915    -8.91029124 -19.73602084\n",
            "  -16.84703624 -27.5436458  -19.40382617 -11.9003615   -6.18047982\n",
            "    0.84913046  -3.6160129    2.72411576  -8.98156904  15.89064926\n",
            "    9.61628983  -0.34889266  -9.88831253  -5.79237759 -14.44307331\n",
            "  -17.16789289   3.34226401   0.           3.34226401 -13.03134035\n",
            "   22.28558803 -16.22407219  12.23945614  -7.3258353  -14.96858093\n",
            "   13.76206744  10.60271155  14.7382112   22.27450965   1.22715276\n",
            "   -7.77183901 -19.35589572 -19.15509482 -16.96375177   8.85295743\n",
            "   17.34049881  -4.46455808  -2.97963862   9.74702526  11.45560487\n",
            "   -6.95479542  -2.54427047  -2.00001992 -17.16789289   3.34226401\n",
            "    0.           0.         -15.40466869  24.51222751  -0.45317118\n",
            "   -5.31656589  -9.59647244  -3.55533821  -6.57400204   8.027434\n",
            "    9.75013158  13.11805771  -2.48365265 -23.79668733 -38.6249139\n",
            "  -29.6560647   -2.66292062  15.86150844  24.95239587  -0.29407521\n",
            "   -5.04345053   1.87610803  13.67288059  -3.28448964 -18.49421873\n",
            "  -19.2127953  -17.16789289   0.           0.           0.\n",
            "  -16.20468641  -1.00130548   8.70344996  -3.98714122 -16.60900745\n",
            "   -9.42743681 -10.17380493  16.82024986  22.81790988   7.58573075\n",
            "   -2.95804031  -3.48320027  -5.95506355  -8.26626369  13.52939475\n",
            "   15.46991404   1.51563616  -2.00231975  -4.28234399  -8.27136788\n",
            "    5.42464889   4.67325439 -18.62438822 -28.09081351 -17.16789289\n",
            "    0.           0.           0.         -13.44297007  -9.96481948\n",
            "   -4.30276116  10.9385387   -4.50238999 -10.15145442 -12.67874112\n",
            "    2.22991582  19.07367502  19.29411889  13.38720517   6.35288278\n",
            "  -17.31682311   2.1972386    2.39621324   0.41180394  -2.05954426\n",
            "    7.19164858  -6.97358327  -7.74481231  15.06674444  10.42777195\n",
            "   -9.70826929 -23.03087328   0.           0.           0.\n",
            "    0.           0.         -11.27603853 -20.15446671   3.23160387\n",
            "    0.23756685 -12.52794256   1.70468329  -1.72744676   3.5510016\n",
            "   -6.94028662  -2.68601378  -2.30117486   9.57073742  12.31797361\n",
            "    5.34540198   3.35082063  10.45079892   7.1165936    0.38861717\n",
            "    5.87919986  14.30926567   2.69136249 -11.57517276 -17.15458007\n",
            "    0.           0.           0.           0.           0.\n",
            "    0.         -19.32661577 -13.69592841   6.30300688  -4.03415882\n",
            "    1.29954098  -4.83809622  -9.63685827 -10.69584521  -9.53051643\n",
            "   -6.47949694   8.93721892  14.40014949   6.4609274  -10.00917157\n",
            "  -13.22211007  -9.51400479   7.45865271  -4.66215231  -1.16447963\n",
            "  -14.51858972 -17.16789289 -17.16789289   0.           0.\n",
            "    0.           0.           0.           0.           3.08315939\n",
            "   -2.90758289  -1.78196286   4.01120029  -4.46015427  -3.42169847\n",
            "    1.26635676   5.78707865  11.17066427   1.80007874   2.78505907\n",
            "   -1.64099219 -14.17254123 -18.05263347 -13.70131279  -9.00574887\n",
            "   -2.59031632  -9.18166005   3.34226401   0.           0.\n",
            "    0.           0.           0.           0.           0.\n",
            "    0.           0.           3.34226401   4.329297    -4.09605637\n",
            "  -11.75479517 -14.62660362 -16.74992418 -10.77329133  -5.63104855\n",
            "  -15.2599156  -19.85331167 -11.73723383  -9.90086489 -10.57714963\n",
            "  -10.29161163  -9.47274292 -13.44466215 -20.48874475 -17.16789289\n",
            "  -17.16789289   0.           0.           0.           0.\n",
            "    0.           0.           0.           0.           0.\n",
            "    0.           0.         -17.16789289 -17.16789289 -17.16789289\n",
            "    0.           3.34226401   3.34226401  -8.75548472  -9.35611195\n",
            "   -6.04361761 -11.36346293 -13.25482602   0.           0.\n",
            "    0.         -17.16789289 -17.16789289 -17.16789289   0.\n",
            "    0.           0.           0.           0.        ]]\n",
            "intercept_: [-1426.73291052]\n",
            "t_: 12801.0\n",
            "n_features_in_: 784\n",
            "classes_: [0 1]\n",
            "_expanded_class_weight: [1. 1.]\n",
            "_loss_function_: <sklearn.linear_model._sgd_fast.Log object at 0x7ad73f922270>\n",
            "n_iter_: 16\n"
          ]
        }
      ]
    },
    {
      "source": [
        "methods = [method for method in dir(sgd_clf) if callable(getattr(sgd_clf, method))]\n",
        "pprint(methods)"
      ],
      "cell_type": "code",
      "metadata": {
        "colab": {
          "base_uri": "https://localhost:8080/"
        },
        "id": "Ftij4xeiBmTH",
        "outputId": "781b9277-9186-4c7e-c330-5fc61f5ba040"
      },
      "execution_count": 193,
      "outputs": [
        {
          "output_type": "stream",
          "name": "stdout",
          "text": [
            "['__class__',\n",
            " '__delattr__',\n",
            " '__dir__',\n",
            " '__eq__',\n",
            " '__format__',\n",
            " '__ge__',\n",
            " '__getattribute__',\n",
            " '__getstate__',\n",
            " '__gt__',\n",
            " '__hash__',\n",
            " '__init__',\n",
            " '__init_subclass__',\n",
            " '__le__',\n",
            " '__lt__',\n",
            " '__ne__',\n",
            " '__new__',\n",
            " '__reduce__',\n",
            " '__reduce_ex__',\n",
            " '__repr__',\n",
            " '__setattr__',\n",
            " '__setstate__',\n",
            " '__sizeof__',\n",
            " '__sklearn_clone__',\n",
            " '__str__',\n",
            " '__subclasshook__',\n",
            " '_allocate_parameter_mem',\n",
            " '_build_request_for_signature',\n",
            " '_check_feature_names',\n",
            " '_check_n_features',\n",
            " '_check_proba',\n",
            " '_fit',\n",
            " '_fit_binary',\n",
            " '_fit_multiclass',\n",
            " '_get_default_requests',\n",
            " '_get_doc_link',\n",
            " '_get_learning_rate_type',\n",
            " '_get_loss_function',\n",
            " '_get_metadata_request',\n",
            " '_get_param_names',\n",
            " '_get_penalty_type',\n",
            " '_get_tags',\n",
            " '_make_validation_score_cb',\n",
            " '_make_validation_split',\n",
            " '_more_tags',\n",
            " '_more_validate_params',\n",
            " '_partial_fit',\n",
            " '_predict_proba_lr',\n",
            " '_repr_html_',\n",
            " '_repr_html_inner',\n",
            " '_repr_mimebundle_',\n",
            " '_validate_data',\n",
            " '_validate_params',\n",
            " 'decision_function',\n",
            " 'densify',\n",
            " 'fit',\n",
            " 'get_metadata_routing',\n",
            " 'get_params',\n",
            " 'partial_fit',\n",
            " 'predict',\n",
            " 'predict_log_proba',\n",
            " 'predict_proba',\n",
            " 'score',\n",
            " 'set_fit_request',\n",
            " 'set_params',\n",
            " 'set_partial_fit_request',\n",
            " 'set_score_request',\n",
            " 'sparsify']\n"
          ]
        }
      ]
    },
    {
      "cell_type": "code",
      "source": [
        "sgd_model_score = cross_val_score(sgd_clf,\n",
        "                                  X_train,\n",
        "                                  y_train,\n",
        "                                  cv=10,\n",
        "                                  scoring=\"accuracy\")\n",
        "\n",
        "print(\"Cross-validation scores:\", sgd_model_score)\n",
        "print(\"Mean accuracy:\", sgd_model_score.mean())"
      ],
      "metadata": {
        "id": "9BCxjIrCwg6T",
        "colab": {
          "base_uri": "https://localhost:8080/"
        },
        "outputId": "8ea0df9b-3265-4668-ed47-cd56db26d5dd"
      },
      "execution_count": 194,
      "outputs": [
        {
          "output_type": "stream",
          "name": "stdout",
          "text": [
            "Cross-validation scores: [0.9625 0.95   0.95   0.925  0.925  0.95   0.9375 0.925  0.9375 0.975 ]\n",
            "Mean accuracy: 0.94375\n"
          ]
        }
      ]
    },
    {
      "cell_type": "markdown",
      "source": [
        "### Naive Model"
      ],
      "metadata": {
        "id": "ONJ2BFfmwoCn"
      }
    },
    {
      "source": [
        "class NaiveModel(BaseEstimator):\n",
        "    def fit(self, X, y=None):\n",
        "        pass\n",
        "    def predict(self, X):\n",
        "        random_predictions = np.random.randint(0, 2, size=(len(X), 1))\n",
        "        return random_predictions.astype(bool)"
      ],
      "cell_type": "code",
      "metadata": {
        "id": "Cv3Wlh9mxT_z"
      },
      "execution_count": 195,
      "outputs": []
    },
    {
      "cell_type": "code",
      "source": [
        "base_model = NaiveModel()\n",
        "base_model.fit(X_train)"
      ],
      "metadata": {
        "id": "7VUa-Yt-wv9x"
      },
      "execution_count": 196,
      "outputs": []
    },
    {
      "cell_type": "code",
      "source": [
        "naive_model_score = cross_val_score(base_model,\n",
        "                                    X_train,\n",
        "                                    y_train,\n",
        "                                    cv=10,\n",
        "                                    scoring=\"accuracy\")"
      ],
      "metadata": {
        "id": "QA9eqd0pwwC7"
      },
      "execution_count": 197,
      "outputs": []
    },
    {
      "source": [
        "plt.figure(figsize=(10, 6))\n",
        "plt.plot(sgd_model_score, \"o-.\", label=\"SGDClassifier\", markersize=8, linewidth=2)\n",
        "plt.plot(naive_model_score, \"o-\", label=\"NaiveModel\", markersize=8, linewidth=2)\n",
        "plt.title(\"Model Comparison: SGDClassifier vs. Naive Model\", fontsize=16)\n",
        "plt.xlabel(\"Cross-validation Fold\", fontsize=14)\n",
        "plt.ylabel(\"Accuracy\", fontsize=14)\n",
        "plt.grid(True)\n",
        "plt.legend(fontsize=12)\n",
        "plt.show()"
      ],
      "cell_type": "code",
      "metadata": {
        "colab": {
          "base_uri": "https://localhost:8080/",
          "height": 54
        },
        "id": "h-rWYSqXoAKw",
        "outputId": "28423ab0-c2b5-47f6-d4e4-a99e5d59404d"
      },
      "execution_count": 198,
      "outputs": [
        {
          "output_type": "display_data",
          "data": {
            "text/plain": [
              "<Figure size 1000x600 with 1 Axes>"
            ],
            "image/png": "[encoded data removed]"
          },
          "metadata": {}
        }
      ]
    },
    {
      "cell_type": "markdown",
      "source": [
        "### Predictions"
      ],
      "metadata": {
        "id": "n9e6tMc1xlKo"
      }
    },
    {
      "cell_type": "code",
      "execution_count": 199,
      "metadata": {
        "id": "kOFV7c7tAtP0"
      },
      "outputs": [],
      "source": [
        "pred_train = cross_val_predict(sgd_clf, X_train, y_train, cv=10)"
      ]
    },
    {
      "cell_type": "code",
      "execution_count": 200,
      "metadata": {
        "colab": {
          "base_uri": "https://localhost:8080/",
          "height": 557
        },
        "id": "pp1cdL2PAtP1",
        "outputId": "62f63048-9dad-4f2b-f516-54ba982d2d7f"
      },
      "outputs": [
        {
          "output_type": "stream",
          "name": "stdout",
          "text": [
            "Confusion matrix no normalization\n",
            "[[710  11]\n",
            " [ 34  45]]\n"
          ]
        },
        {
          "output_type": "display_data",
          "data": {
            "text/plain": [
              "<Figure size 640x480 with 2 Axes>"
            ],
            "image/png": "[encoded data removed]"
          },
          "metadata": {}
        }
      ],
      "source": [
        "cm = confusion_matrix(y_train, pred_train)\n",
        "plot_conf_matrix(cm, classes=[\"Not Five\", \"Five\"], normalize=False, title=\"Confusion matrix\", cmap=plt.cm.Blues)"
      ]
    },
    {
      "cell_type": "code",
      "execution_count": 201,
      "metadata": {
        "colab": {
          "base_uri": "https://localhost:8080/"
        },
        "id": "ss8QykMlAtP1",
        "outputId": "3417106d-265a-4602-d749-9d060ddcd755"
      },
      "outputs": [
        {
          "output_type": "stream",
          "name": "stdout",
          "text": [
            "accuracy: 0.94375\n",
            "precision: 0.8035714285714286\n",
            "recall: 0.569620253164557\n",
            "f1: 0.6666666666666666\n"
          ]
        }
      ],
      "source": [
        "print(\"accuracy: {}\".format(accuracy_score(y_train, pred_train)))\n",
        "print(\"precision: {}\".format(precision_score(y_train, pred_train)))\n",
        "print(\"recall: {}\".format(recall_score(y_train, pred_train)))\n",
        "print(\"f1: {}\".format(f1_score(y_train, pred_train)))"
      ]
    },
    {
      "cell_type": "code",
      "execution_count": 202,
      "metadata": {
        "colab": {
          "base_uri": "https://localhost:8080/",
          "height": 419
        },
        "id": "o0KxRE4wAtP1",
        "outputId": "ff6946a6-e204-4e35-ab16-bf44696092b9"
      },
      "outputs": [
        {
          "output_type": "execute_result",
          "data": {
            "text/plain": [
              "     precision   recalls   thresholds\n",
              "0     0.098750  1.000000 -5629.392097\n",
              "1     0.098874  1.000000 -5629.392097\n",
              "2     0.098997  1.000000 -4997.530740\n",
              "3     0.099122  1.000000 -4731.781807\n",
              "4     0.099246  1.000000 -4721.920161\n",
              "..         ...       ...          ...\n",
              "796   1.000000  0.050633   868.498641\n",
              "797   1.000000  0.037975   868.779083\n",
              "798   1.000000  0.025316   913.612976\n",
              "799   1.000000  0.012658   953.152475\n",
              "800   1.000000  0.000000  1153.091860\n",
              "\n",
              "[801 rows x 3 columns]"
            ],
            "text/html": [
              "\n",
              "  <div id=\"df-e1404bbb-1659-4163-9937-756acdeffd5b\" class=\"colab-df-container\">\n",
              "    <div>\n",
              "<style scoped>\n",
              "    .dataframe tbody tr th:only-of-type {\n",
              "        vertical-align: middle;\n",
              "    }\n",
              "\n",
              "    .dataframe tbody tr th {\n",
              "        vertical-align: top;\n",
              "    }\n",
              "\n",
              "    .dataframe thead th {\n",
              "        text-align: right;\n",
              "    }\n",
              "</style>\n",
              "<table border=\"1\" class=\"dataframe\">\n",
              "  <thead>\n",
              "    <tr style=\"text-align: right;\">\n",
              "      <th></th>\n",
              "      <th>precision</th>\n",
              "      <th>recalls</th>\n",
              "      <th>thresholds</th>\n",
              "    </tr>\n",
              "  </thead>\n",
              "  <tbody>\n",
              "    <tr>\n",
              "      <th>0</th>\n",
              "      <td>0.098750</td>\n",
              "      <td>1.000000</td>\n",
              "      <td>-5629.392097</td>\n",
              "    </tr>\n",
              "    <tr>\n",
              "      <th>1</th>\n",
              "      <td>0.098874</td>\n",
              "      <td>1.000000</td>\n",
              "      <td>-5629.392097</td>\n",
              "    </tr>\n",
              "    <tr>\n",
              "      <th>2</th>\n",
              "      <td>0.098997</td>\n",
              "      <td>1.000000</td>\n",
              "      <td>-4997.530740</td>\n",
              "    </tr>\n",
              "    <tr>\n",
              "      <th>3</th>\n",
              "      <td>0.099122</td>\n",
              "      <td>1.000000</td>\n",
              "      <td>-4731.781807</td>\n",
              "    </tr>\n",
              "    <tr>\n",
              "      <th>4</th>\n",
              "      <td>0.099246</td>\n",
              "      <td>1.000000</td>\n",
              "      <td>-4721.920161</td>\n",
              "    </tr>\n",
              "    <tr>\n",
              "      <th>...</th>\n",
              "      <td>...</td>\n",
              "      <td>...</td>\n",
              "      <td>...</td>\n",
              "    </tr>\n",
              "    <tr>\n",
              "      <th>796</th>\n",
              "      <td>1.000000</td>\n",
              "      <td>0.050633</td>\n",
              "      <td>868.498641</td>\n",
              "    </tr>\n",
              "    <tr>\n",
              "      <th>797</th>\n",
              "      <td>1.000000</td>\n",
              "      <td>0.037975</td>\n",
              "      <td>868.779083</td>\n",
              "    </tr>\n",
              "    <tr>\n",
              "      <th>798</th>\n",
              "      <td>1.000000</td>\n",
              "      <td>0.025316</td>\n",
              "      <td>913.612976</td>\n",
              "    </tr>\n",
              "    <tr>\n",
              "      <th>799</th>\n",
              "      <td>1.000000</td>\n",
              "      <td>0.012658</td>\n",
              "      <td>953.152475</td>\n",
              "    </tr>\n",
              "    <tr>\n",
              "      <th>800</th>\n",
              "      <td>1.000000</td>\n",
              "      <td>0.000000</td>\n",
              "      <td>1153.091860</td>\n",
              "    </tr>\n",
              "  </tbody>\n",
              "</table>\n",
              "<p>801 rows × 3 columns</p>\n",
              "</div>\n",
              "    <div class=\"colab-df-buttons\">\n",
              "\n",
              "  <div class=\"colab-df-container\">\n",
              "    <button class=\"colab-df-convert\" onclick=\"convertToInteractive('df-e1404bbb-1659-4163-9937-756acdeffd5b')\"\n",
              "            title=\"Convert this dataframe to an interactive table.\"\n",
              "            style=\"display:none;\">\n",
              "\n",
              "  <svg xmlns=\"http://www.w3.org/2000/svg\" height=\"24px\" viewBox=\"0 -960 960 960\">\n",
              "    <path d=\"M120-120v-720h720v720H120Zm60-500h600v-160H180v160Zm220 220h160v-160H400v160Zm0 220h160v-160H400v160ZM180-400h160v-160H180v160Zm440 0h160v-160H620v160ZM180-180h160v-160H180v160Zm440 0h160v-160H620v160Z\"/>\n",
              "  </svg>\n",
              "    </button>\n",
              "\n",
              "  <style>\n",
              "    .colab-df-container {\n",
              "      display:flex;\n",
              "      gap: 12px;\n",
              "    }\n",
              "\n",
              "    .colab-df-convert {\n",
              "      background-color: #E8F0FE;\n",
              "      border: none;\n",
              "      border-radius: 50%;\n",
              "      cursor: pointer;\n",
              "      display: none;\n",
              "      fill: #1967D2;\n",
              "      height: 32px;\n",
              "      padding: 0 0 0 0;\n",
              "      width: 32px;\n",
              "    }\n",
              "\n",
              "    .colab-df-convert:hover {\n",
              "      background-color: #E2EBFA;\n",
              "      box-shadow: 0px 1px 2px rgba(60, 64, 67, 0.3), 0px 1px 3px 1px rgba(60, 64, 67, 0.15);\n",
              "      fill: #174EA6;\n",
              "    }\n",
              "\n",
              "    .colab-df-buttons div {\n",
              "      margin-bottom: 4px;\n",
              "    }\n",
              "\n",
              "    [theme=dark] .colab-df-convert {\n",
              "      background-color: #3B4455;\n",
              "      fill: #D2E3FC;\n",
              "    }\n",
              "\n",
              "    [theme=dark] .colab-df-convert:hover {\n",
              "      background-color: #434B5C;\n",
              "      box-shadow: 0px 1px 3px 1px rgba(0, 0, 0, 0.15);\n",
              "      filter: drop-shadow(0px 1px 2px rgba(0, 0, 0, 0.3));\n",
              "      fill: #FFFFFF;\n",
              "    }\n",
              "  </style>\n",
              "\n",
              "    <script>\n",
              "      const buttonEl =\n",
              "        document.querySelector('#df-e1404bbb-1659-4163-9937-756acdeffd5b button.colab-df-convert');\n",
              "      buttonEl.style.display =\n",
              "        google.colab.kernel.accessAllowed ? 'block' : 'none';\n",
              "\n",
              "      async function convertToInteractive(key) {\n",
              "        const element = document.querySelector('#df-e1404bbb-1659-4163-9937-756acdeffd5b');\n",
              "        const dataTable =\n",
              "          await google.colab.kernel.invokeFunction('convertToInteractive',\n",
              "                                                    [key], {});\n",
              "        if (!dataTable) return;\n",
              "\n",
              "        const docLinkHtml = 'Like what you see? Visit the ' +\n",
              "          '<a target=\"_blank\" href=https://colab.research.google.com/notebooks/data_table.ipynb>data table notebook</a>'\n",
              "          + ' to learn more about interactive tables.';\n",
              "        element.innerHTML = '';\n",
              "        dataTable['output_type'] = 'display_data';\n",
              "        await google.colab.output.renderOutput(dataTable, element);\n",
              "        const docLink = document.createElement('div');\n",
              "        docLink.innerHTML = docLinkHtml;\n",
              "        element.appendChild(docLink);\n",
              "      }\n",
              "    </script>\n",
              "  </div>\n",
              "\n",
              "\n",
              "<div id=\"df-2d453b3c-9329-4f95-bebb-66f42c6c17d1\">\n",
              "  <button class=\"colab-df-quickchart\" onclick=\"quickchart('df-2d453b3c-9329-4f95-bebb-66f42c6c17d1')\"\n",
              "            title=\"Suggest charts\"\n",
              "            style=\"display:none;\">\n",
              "\n",
              "<svg xmlns=\"http://www.w3.org/2000/svg\" height=\"24px\"viewBox=\"0 0 24 24\"\n",
              "     width=\"24px\">\n",
              "    <g>\n",
              "        <path d=\"M19 3H5c-1.1 0-2 .9-2 2v14c0 1.1.9 2 2 2h14c1.1 0 2-.9 2-2V5c0-1.1-.9-2-2-2zM9 17H7v-7h2v7zm4 0h-2V7h2v10zm4 0h-2v-4h2v4z\"/>\n",
              "    </g>\n",
              "</svg>\n",
              "  </button>\n",
              "\n",
              "<style>\n",
              "  .colab-df-quickchart {\n",
              "      --bg-color: #E8F0FE;\n",
              "      --fill-color: #1967D2;\n",
              "      --hover-bg-color: #E2EBFA;\n",
              "      --hover-fill-color: #174EA6;\n",
              "      --disabled-fill-color: #AAA;\n",
              "      --disabled-bg-color: #DDD;\n",
              "  }\n",
              "\n",
              "  [theme=dark] .colab-df-quickchart {\n",
              "      --bg-color: #3B4455;\n",
              "      --fill-color: #D2E3FC;\n",
              "      --hover-bg-color: #434B5C;\n",
              "      --hover-fill-color: #FFFFFF;\n",
              "      --disabled-bg-color: #3B4455;\n",
              "      --disabled-fill-color: #666;\n",
              "  }\n",
              "\n",
              "  .colab-df-quickchart {\n",
              "    background-color: var(--bg-color);\n",
              "    border: none;\n",
              "    border-radius: 50%;\n",
              "    cursor: pointer;\n",
              "    display: none;\n",
              "    fill: var(--fill-color);\n",
              "    height: 32px;\n",
              "    padding: 0;\n",
              "    width: 32px;\n",
              "  }\n",
              "\n",
              "  .colab-df-quickchart:hover {\n",
              "    background-color: var(--hover-bg-color);\n",
              "    box-shadow: 0 1px 2px rgba(60, 64, 67, 0.3), 0 1px 3px 1px rgba(60, 64, 67, 0.15);\n",
              "    fill: var(--button-hover-fill-color);\n",
              "  }\n",
              "\n",
              "  .colab-df-quickchart-complete:disabled,\n",
              "  .colab-df-quickchart-complete:disabled:hover {\n",
              "    background-color: var(--disabled-bg-color);\n",
              "    fill: var(--disabled-fill-color);\n",
              "    box-shadow: none;\n",
              "  }\n",
              "\n",
              "  .colab-df-spinner {\n",
              "    border: 2px solid var(--fill-color);\n",
              "    border-color: transparent;\n",
              "    border-bottom-color: var(--fill-color);\n",
              "    animation:\n",
              "      spin 1s steps(1) infinite;\n",
              "  }\n",
              "\n",
              "  @keyframes spin {\n",
              "    0% {\n",
              "      border-color: transparent;\n",
              "      border-bottom-color: var(--fill-color);\n",
              "      border-left-color: var(--fill-color);\n",
              "    }\n",
              "    20% {\n",
              "      border-color: transparent;\n",
              "      border-left-color: var(--fill-color);\n",
              "      border-top-color: var(--fill-color);\n",
              "    }\n",
              "    30% {\n",
              "      border-color: transparent;\n",
              "      border-left-color: var(--fill-color);\n",
              "      border-top-color: var(--fill-color);\n",
              "      border-right-color: var(--fill-color);\n",
              "    }\n",
              "    40% {\n",
              "      border-color: transparent;\n",
              "      border-right-color: var(--fill-color);\n",
              "      border-top-color: var(--fill-color);\n",
              "    }\n",
              "    60% {\n",
              "      border-color: transparent;\n",
              "      border-right-color: var(--fill-color);\n",
              "    }\n",
              "    80% {\n",
              "      border-color: transparent;\n",
              "      border-right-color: var(--fill-color);\n",
              "      border-bottom-color: var(--fill-color);\n",
              "    }\n",
              "    90% {\n",
              "      border-color: transparent;\n",
              "      border-bottom-color: var(--fill-color);\n",
              "    }\n",
              "  }\n",
              "</style>\n",
              "\n",
              "  <script>\n",
              "    async function quickchart(key) {\n",
              "      const quickchartButtonEl =\n",
              "        document.querySelector('#' + key + ' button');\n",
              "      quickchartButtonEl.disabled = true;  // To prevent multiple clicks.\n",
              "      quickchartButtonEl.classList.add('colab-df-spinner');\n",
              "      try {\n",
              "        const charts = await google.colab.kernel.invokeFunction(\n",
              "            'suggestCharts', [key], {});\n",
              "      } catch (error) {\n",
              "        console.error('Error during call to suggestCharts:', error);\n",
              "      }\n",
              "      quickchartButtonEl.classList.remove('colab-df-spinner');\n",
              "      quickchartButtonEl.classList.add('colab-df-quickchart-complete');\n",
              "    }\n",
              "    (() => {\n",
              "      let quickchartButtonEl =\n",
              "        document.querySelector('#df-2d453b3c-9329-4f95-bebb-66f42c6c17d1 button');\n",
              "      quickchartButtonEl.style.display =\n",
              "        google.colab.kernel.accessAllowed ? 'block' : 'none';\n",
              "    })();\n",
              "  </script>\n",
              "</div>\n",
              "\n",
              "  <div id=\"id_08194f24-0450-4c0c-9cdd-88d1f35d8c4b\">\n",
              "    <style>\n",
              "      .colab-df-generate {\n",
              "        background-color: #E8F0FE;\n",
              "        border: none;\n",
              "        border-radius: 50%;\n",
              "        cursor: pointer;\n",
              "        display: none;\n",
              "        fill: #1967D2;\n",
              "        height: 32px;\n",
              "        padding: 0 0 0 0;\n",
              "        width: 32px;\n",
              "      }\n",
              "\n",
              "      .colab-df-generate:hover {\n",
              "        background-color: #E2EBFA;\n",
              "        box-shadow: 0px 1px 2px rgba(60, 64, 67, 0.3), 0px 1px 3px 1px rgba(60, 64, 67, 0.15);\n",
              "        fill: #174EA6;\n",
              "      }\n",
              "\n",
              "      [theme=dark] .colab-df-generate {\n",
              "        background-color: #3B4455;\n",
              "        fill: #D2E3FC;\n",
              "      }\n",
              "\n",
              "      [theme=dark] .colab-df-generate:hover {\n",
              "        background-color: #434B5C;\n",
              "        box-shadow: 0px 1px 3px 1px rgba(0, 0, 0, 0.15);\n",
              "        filter: drop-shadow(0px 1px 2px rgba(0, 0, 0, 0.3));\n",
              "        fill: #FFFFFF;\n",
              "      }\n",
              "    </style>\n",
              "    <button class=\"colab-df-generate\" onclick=\"generateWithVariable('df')\"\n",
              "            title=\"Generate code using this dataframe.\"\n",
              "            style=\"display:none;\">\n",
              "\n",
              "  <svg xmlns=\"http://www.w3.org/2000/svg\" height=\"24px\"viewBox=\"0 0 24 24\"\n",
              "       width=\"24px\">\n",
              "    <path d=\"M7,19H8.4L18.45,9,17,7.55,7,17.6ZM5,21V16.75L18.45,3.32a2,2,0,0,1,2.83,0l1.4,1.43a1.91,1.91,0,0,1,.58,1.4,1.91,1.91,0,0,1-.58,1.4L9.25,21ZM18.45,9,17,7.55Zm-12,3A5.31,5.31,0,0,0,4.9,8.1,5.31,5.31,0,0,0,1,6.5,5.31,5.31,0,0,0,4.9,4.9,5.31,5.31,0,0,0,6.5,1,5.31,5.31,0,0,0,8.1,4.9,5.31,5.31,0,0,0,12,6.5,5.46,5.46,0,0,0,6.5,12Z\"/>\n",
              "  </svg>\n",
              "    </button>\n",
              "    <script>\n",
              "      (() => {\n",
              "      const buttonEl =\n",
              "        document.querySelector('#id_08194f24-0450-4c0c-9cdd-88d1f35d8c4b button.colab-df-generate');\n",
              "      buttonEl.style.display =\n",
              "        google.colab.kernel.accessAllowed ? 'block' : 'none';\n",
              "\n",
              "      buttonEl.onclick = () => {\n",
              "        google.colab.notebook.generateWithVariable('df');\n",
              "      }\n",
              "      })();\n",
              "    </script>\n",
              "  </div>\n",
              "\n",
              "    </div>\n",
              "  </div>\n"
            ],
            "application/vnd.google.colaboratory.intrinsic+json": {
              "type": "dataframe",
              "variable_name": "df",
              "summary": "{\n  \"name\": \"df\",\n  \"rows\": 801,\n  \"fields\": [\n    {\n      \"column\": \"precision\",\n      \"properties\": {\n        \"dtype\": \"number\",\n        \"std\": 0.2363789274938462,\n        \"min\": 0.09875,\n        \"max\": 1.0,\n        \"num_unique_values\": 785,\n        \"samples\": [\n          0.8260869565217391,\n          0.1038107752956636,\n          0.13412563667232597\n        ],\n        \"semantic_type\": \"\",\n        \"description\": \"\"\n      }\n    },\n    {\n      \"column\": \"recalls\",\n      \"properties\": {\n        \"dtype\": \"number\",\n        \"std\": 0.1883114427167294,\n        \"min\": 0.0,\n        \"max\": 1.0,\n        \"num_unique_values\": 80,\n        \"samples\": [\n          0.620253164556962,\n          1.0,\n          0.7215189873417721\n        ],\n        \"semantic_type\": \"\",\n        \"description\": \"\"\n      }\n    },\n    {\n      \"column\": \"thresholds\",\n      \"properties\": {\n        \"dtype\": \"number\",\n        \"std\": 975.9333594125006,\n        \"min\": -5629.392096552836,\n        \"max\": 1153.0918599222405,\n        \"num_unique_values\": 800,\n        \"samples\": [\n          -372.8152950500737,\n          -547.2071817051509,\n          -2744.2463874942996\n        ],\n        \"semantic_type\": \"\",\n        \"description\": \"\"\n      }\n    }\n  ]\n}"
            }
          },
          "metadata": {},
          "execution_count": 202
        }
      ],
      "source": [
        "y_scores = cross_val_predict(sgd_clf, X_train, y_train, cv=10, method=\"decision_function\")\n",
        "precisions, recalls, thresholds = precision_recall_curve(y_train, y_scores)\n",
        "thresholds = np.insert(thresholds, 0, thresholds[0])\n",
        "df = pd.DataFrame({\"precision\": precisions, \"recalls\": recalls, \"thresholds\": thresholds})\n",
        "df"
      ]
    },
    {
      "source": [
        "plt.figure(figsize=(10, 6))\n",
        "df.plot(x=\"thresholds\", y=[\"precision\", \"recalls\"], figsize=(10, 6))\n",
        "plt.title(\"Precision-Recall vs. Threshold Curve\", fontsize=16)\n",
        "plt.xlabel(\"Threshold\", fontsize=14)\n",
        "plt.ylabel(\"Precision/Recall\", fontsize=14)\n",
        "plt.grid(True)\n",
        "plt.legend(fontsize=12)\n",
        "plt.show()"
      ],
      "cell_type": "code",
      "metadata": {
        "colab": {
          "base_uri": "https://localhost:8080/",
          "height": 588
        },
        "id": "ch0nELIh5u6r",
        "outputId": "483cfc39-81bb-4902-ff9a-99550618ee24"
      },
      "execution_count": 203,
      "outputs": [
        {
          "output_type": "display_data",
          "data": {
            "text/plain": [
              "<Figure size 1000x600 with 0 Axes>"
            ]
          },
          "metadata": {}
        },
        {
          "output_type": "display_data",
          "data": {
            "text/plain": [
              "<Figure size 1000x600 with 1 Axes>"
            ],
            "image/png": "[encoded data removed]"
          },
          "metadata": {}
        }
      ]
    },
    {
      "cell_type": "code",
      "execution_count": 204,
      "metadata": {
        "colab": {
          "base_uri": "https://localhost:8080/",
          "height": 472
        },
        "id": "PjwOXwFyAtP2",
        "outputId": "bb29ab8c-f6b9-4408-f18c-9e1c8f780ff7"
      },
      "outputs": [
        {
          "output_type": "display_data",
          "data": {
            "text/plain": [
              "<Figure size 640x480 with 1 Axes>"
            ],
            "image/png": "[encoded data removed]"
          },
          "metadata": {}
        }
      ],
      "source": [
        "pos_rate_dispaly = PrecisionRecallDisplay.from_estimator(sgd_clf,\n",
        "                                                         X_test,\n",
        "                                                         y_test,\n",
        "                                                         name=\"SGDClassifier\",\n",
        "                                                         marker=\"o\",\n",
        "                                                         markersize=4,\n",
        "                                                         color=\"lightcoral\")\n",
        "_ = pos_rate_dispaly.ax_.set_title(\"Two-class Precision Recall Curve\")"
      ]
    },
    {
      "cell_type": "code",
      "execution_count": 205,
      "metadata": {
        "colab": {
          "base_uri": "https://localhost:8080/",
          "height": 549
        },
        "id": "Mm5HwX_PAtP2",
        "outputId": "bfb6f999-800c-453d-c460-16f478efde3a"
      },
      "outputs": [
        {
          "output_type": "display_data",
          "data": {
            "text/plain": [
              "<Figure size 800x600 with 1 Axes>"
            ],
            "image/png": "[encoded data removed]"
          },
          "metadata": {}
        }
      ],
      "source": [
        "fpr, tpr, thresholds = roc_curve(y_train, y_scores)\n",
        "def plot_roc_curve(fpr, tpr, label=None):\n",
        "    plt.plot(fpr, tpr, \"o-\", linewidth=2, label=label, color=\"lightcoral\",\n",
        "             markersize=4, markerfacecolor=\"white\")\n",
        "    plt.plot([-0.01, 1.01], [-0.01, 1.01], \"coral\", linestyle=\"-.\")\n",
        "    plt.axis([-0.01, 1.01, -0.01, 1.01])\n",
        "    plt.xlabel(\"False Positive Rate (Fall-Out)\", fontsize=16)\n",
        "    plt.ylabel(\"True Positive Rate (Recall)\", fontsize=16)\n",
        "    plt.grid(True)\n",
        "plt.figure(figsize=(8,6))\n",
        "plot_roc_curve(fpr, tpr)\n",
        "plt.show()"
      ]
    },
    {
      "cell_type": "code",
      "source": [
        "plt.figure(figsize=(10, 6))\n",
        "plt.plot(thresholds, fpr, \"o-\", linewidth=2, label=\"TPR\", color=\"olive\",\n",
        "             markersize=4, markerfacecolor=\"white\")\n",
        "plt.plot(thresholds, tpr, \"o-\", linewidth=2, label=\"FPR\", color=\"orange\",\n",
        "             markersize=4, markerfacecolor=\"white\")\n",
        "plt.title(\"True/ False Positive Rates vs. Threshold Curve\", fontsize=16)\n",
        "plt.xlabel(\"Threshold\", fontsize=14)\n",
        "plt.ylabel(\"True/ False Positive Rates\", fontsize=14)\n",
        "plt.grid(True)\n",
        "plt.legend(fontsize=12)\n",
        "plt.show()"
      ],
      "metadata": {
        "colab": {
          "base_uri": "https://localhost:8080/",
          "height": 571
        },
        "id": "gLhLJGxo92L4",
        "outputId": "ca032310-8e9c-48b9-a833-f4e1a28c9ea7"
      },
      "execution_count": 206,
      "outputs": [
        {
          "output_type": "display_data",
          "data": {
            "text/plain": [
              "<Figure size 1000x600 with 1 Axes>"
            ],
            "image/png": "[encoded data removed]"
          },
          "metadata": {}
        }
      ]
    },
    {
      "source": [
        "auc = roc_auc_score(y_train, y_scores)\n",
        "print(\"AUC:\", auc)"
      ],
      "cell_type": "code",
      "metadata": {
        "colab": {
          "base_uri": "https://localhost:8080/"
        },
        "id": "VXqqOQAYAaea",
        "outputId": "f54096b5-4bc2-4b5c-8af1-8dc05e87b462"
      },
      "execution_count": 207,
      "outputs": [
        {
          "output_type": "stream",
          "name": "stdout",
          "text": [
            "AUC: 0.9634473919837075\n"
          ]
        }
      ]
    },
    {
      "cell_type": "markdown",
      "source": [
        "## Model Developement - Clf One to Nine"
      ],
      "metadata": {
        "id": "aiN-xIwCra5w"
      }
    },
    {
      "cell_type": "code",
      "source": [
        "X_train, X_test, y_train, y_test = train_test_split(X,\n",
        "                                                    y,\n",
        "                                                    stratify=y,\n",
        "                                                    test_size=0.2,\n",
        "                                                    random_state=2\n",
        "                                                    )"
      ],
      "metadata": {
        "id": "dvAUtuibts9j"
      },
      "execution_count": 208,
      "outputs": []
    },
    {
      "cell_type": "code",
      "execution_count": 209,
      "metadata": {
        "id": "STmfOpBrAtP3"
      },
      "outputs": [],
      "source": [
        "clf = SGDClassifier(random_state=42, loss=\"log_loss\")\n",
        "clf.fit(X_train, y_train)\n",
        "cross_val_score(clf, X_train, y_train, cv=10, scoring=\"accuracy\")\n",
        "y_pred = cross_val_predict(clf, X_train, y_train, cv=10)"
      ]
    },
    {
      "cell_type": "code",
      "execution_count": 210,
      "metadata": {
        "colab": {
          "base_uri": "https://localhost:8080/"
        },
        "id": "XHkV5R93AtP4",
        "outputId": "441df83f-abcb-4b48-cb16-7956e6fb55ec"
      },
      "outputs": [
        {
          "output_type": "stream",
          "name": "stdout",
          "text": [
            "Classes: [0 1 2 3 4 5 6 7 8 9]\n",
            "Score for each class: [ -6378060.20415738  -5372741.43469605  -7546379.17195258\n",
            " -10551322.03929169    157220.37660639  -5930477.39872154\n",
            "  -2353683.61768785  -4955375.2970421   -5471532.64607821\n",
            "  -5746912.24258878]\n",
            "Probability for each class: [0. 0. 0. 0. 1. 0. 0. 0. 0. 0.]\n",
            "Class with the highest score: 4\n"
          ]
        }
      ],
      "source": [
        "first_digit = X_train.iloc[0]\n",
        "first_digit_scores = clf.decision_function([first_digit])\n",
        "first_digit_proba = clf.predict_proba([first_digit])\n",
        "print(\"Classes: {}\".format(clf.classes_))\n",
        "print(\"Score for each class: {}\".format(first_digit_scores[0]))\n",
        "print(\"Probability for each class: {}\".format(first_digit_proba[0]))\n",
        "print(\"Class with the highest score: {}\".format(np.argmax(first_digit_scores)))"
      ]
    },
    {
      "cell_type": "code",
      "execution_count": 211,
      "metadata": {
        "colab": {
          "base_uri": "https://localhost:8080/"
        },
        "id": "5QRkMpo6AtP5",
        "outputId": "1b63b9c6-1b48-405f-e7cb-246e9f9b750a"
      },
      "outputs": [
        {
          "output_type": "execute_result",
          "data": {
            "text/plain": [
              "array([[0., 0., 0., 0., 1., 0., 0., 0., 0., 0.]])"
            ]
          },
          "metadata": {},
          "execution_count": 211
        }
      ],
      "source": [
        "clf.predict_proba([first_digit])"
      ]
    },
    {
      "cell_type": "code",
      "execution_count": 212,
      "metadata": {
        "colab": {
          "base_uri": "https://localhost:8080/"
        },
        "id": "JK0Bi_2MAtP5",
        "outputId": "693de5ca-d1d8-4aaf-c620-8b2994934ae6"
      },
      "outputs": [
        {
          "output_type": "stream",
          "name": "stdout",
          "text": [
            "{'max_depth': 10, 'max_features': 300, 'n_estimators': 200}\n",
            "RandomForestClassifier(max_depth=10, max_features=300, n_estimators=200)\n"
          ]
        }
      ],
      "source": [
        "search_space = {\n",
        "    \"n_estimators\": [200, 300],\n",
        "    \"max_features\": [300, 400],\n",
        "    \"max_depth\": [10, 15]\n",
        "    }\n",
        "clf = RandomForestClassifier()\n",
        "grid_search = GridSearchCV(estimator=clf, param_grid=search_space, cv=3,\n",
        "                           scoring=\"accuracy\", return_train_score=True)\n",
        "grid_search.fit(X_train, y_train)\n",
        "print(grid_search.best_params_)\n",
        "print(grid_search.best_estimator_)"
      ]
    },
    {
      "cell_type": "code",
      "execution_count": 213,
      "metadata": {
        "colab": {
          "base_uri": "https://localhost:8080/"
        },
        "id": "gwInHYsvAtP4",
        "outputId": "7edf46ac-d354-4154-d43f-67c08cd3a801"
      },
      "outputs": [
        {
          "output_type": "stream",
          "name": "stdout",
          "text": [
            "First digit is predicted as = [4]\n",
            "Number of estimators = 45\n",
            "First two estimators = (SGDClassifier(random_state=42), SGDClassifier(random_state=42))\n"
          ]
        }
      ],
      "source": [
        "one_vs_one_clf = OneVsOneClassifier(SGDClassifier(random_state=42))\n",
        "one_vs_one_clf.fit(X_train, y_train)\n",
        "print(\"First digit is predicted as = {}\".format(one_vs_one_clf.predict([first_digit])))\n",
        "print(\"Number of estimators = {}\".format(len(one_vs_one_clf.estimators_)))\n",
        "print(\"First two estimators = {}\".format(one_vs_one_clf.estimators_[:2]))"
      ]
    },
    {
      "cell_type": "markdown",
      "source": [
        "## Model Developement - Clf Multi Targets"
      ],
      "metadata": {
        "id": "HVW81FGOu46R"
      }
    },
    {
      "source": [
        "Y = np.c_[y_train >= 7, y_train % 2 == 1]"
      ],
      "cell_type": "code",
      "metadata": {
        "id": "Ze37nJlhvMS6"
      },
      "execution_count": 214,
      "outputs": []
    },
    {
      "cell_type": "code",
      "execution_count": 215,
      "metadata": {
        "colab": {
          "base_uri": "https://localhost:8080/"
        },
        "id": "PNZ6hRkWAtP6",
        "outputId": "e6f5c301-cd32-4e65-8a6b-0dcc46297312"
      },
      "outputs": [
        {
          "output_type": "execute_result",
          "data": {
            "text/plain": [
              "array([[ True, False]])"
            ]
          },
          "metadata": {},
          "execution_count": 215
        }
      ],
      "source": [
        "clf = RandomForestClassifier(random_state=0)\n",
        "clf.fit(X_train, Y)\n",
        "fifth_digit = X_train.iloc[4]\n",
        "clf.predict([fifth_digit])"
      ]
    },
    {
      "cell_type": "code",
      "source": [
        "img = fifth_digit.to_numpy().reshape(pixel_size, pixel_size)\n",
        "plt.imshow(img, cmap=\"gray\")"
      ],
      "metadata": {
        "colab": {
          "base_uri": "https://localhost:8080/",
          "height": 447
        },
        "id": "uhRiPjBSvtwa",
        "outputId": "998d8632-3da5-4c48-fa95-3a68aae5a1b2"
      },
      "execution_count": 216,
      "outputs": [
        {
          "output_type": "execute_result",
          "data": {
            "text/plain": [
              "<matplotlib.image.AxesImage at 0x7ad75bdc2140>"
            ]
          },
          "metadata": {},
          "execution_count": 216
        },
        {
          "output_type": "display_data",
          "data": {
            "text/plain": [
              "<Figure size 640x480 with 1 Axes>"
            ],
            "image/png": "[encoded data removed]"
          },
          "metadata": {}
        }
      ]
    },
    {
      "cell_type": "code",
      "execution_count": 217,
      "metadata": {
        "id": "8YQ3RBZtAtP6"
      },
      "outputs": [],
      "source": [
        "accuracy_score = cross_val_score(clf, X_train, Y, cv=10)\n",
        "y_pred = cross_val_predict(clf, X_train, Y, cv=10)"
      ]
    },
    {
      "cell_type": "markdown",
      "source": [
        "## Model Development - Batchify"
      ],
      "metadata": {
        "id": "ahye6aFkbjt-"
      }
    },
    {
      "cell_type": "code",
      "source": [
        "X, y = mnist.data, mnist.target.to_frame()\n",
        "y.columns = ['target']"
      ],
      "metadata": {
        "id": "yqtMN1nhcB1K"
      },
      "execution_count": 236,
      "outputs": []
    },
    {
      "cell_type": "code",
      "source": [
        "X.reset_index(drop=True, inplace=True)\n",
        "y.reset_index(drop=True, inplace=True)"
      ],
      "metadata": {
        "id": "QTspTXeEcBwM"
      },
      "execution_count": 237,
      "outputs": []
    },
    {
      "cell_type": "code",
      "source": [
        "X_train, X_test, y_train, y_test = train_test_split(X,\n",
        "                                                    y,\n",
        "                                                    stratify=y,\n",
        "                                                    test_size=0.2,\n",
        "                                                    random_state=2\n",
        "                                                    )"
      ],
      "metadata": {
        "id": "cao3GplRbqhv"
      },
      "execution_count": 238,
      "outputs": []
    },
    {
      "source": [
        "%%time\n",
        "batch_size = 32  # batch size\n",
        "n_batches = len(X_train) // batch_size  # number of batches\n",
        "\n",
        "clf = SGDClassifier()\n",
        "for batch_index in range(n_batches):\n",
        "    start = batch_index * batch_size\n",
        "    end = (batch_index + 1) * batch_size\n",
        "    X_batch = X_train[start:end]\n",
        "    y_batch = y_train[start:end]\n",
        "    clf.partial_fit(X_batch, y_batch, classes=np.unique(y))"
      ],
      "cell_type": "code",
      "metadata": {
        "colab": {
          "base_uri": "https://localhost:8080/"
        },
        "id": "X8GZv-Gtbr-d",
        "outputId": "74a0cfee-6958-4097-eaf0-5c5b93c57d89"
      },
      "execution_count": 239,
      "outputs": [
        {
          "output_type": "stream",
          "name": "stdout",
          "text": [
            "CPU times: user 1min 47s, sys: 455 ms, total: 1min 47s\n",
            "Wall time: 1min 50s\n"
          ]
        }
      ]
    },
    {
      "cell_type": "code",
      "source": [
        "# predictions\n",
        "y_pred = clf.predict(X_test)\n",
        "print(\"Precision:\", precision_score(y_test, y_pred, average='weighted'))\n",
        "print(\"Recall:\", recall_score(y_test, y_pred, average='weighted'))\n",
        "print(\"F1-score:\", f1_score(y_test, y_pred, average='weighted'))"
      ],
      "metadata": {
        "colab": {
          "base_uri": "https://localhost:8080/"
        },
        "id": "A8uOCmGFczSc",
        "outputId": "9988a74c-054f-4064-dc04-e4c1c201f221"
      },
      "execution_count": 245,
      "outputs": [
        {
          "output_type": "stream",
          "name": "stdout",
          "text": [
            "Precision: 0.8835769627000595\n",
            "Recall: 0.8798571428571429\n",
            "F1-score: 0.8803540440125854\n"
          ]
        }
      ]
    },
    {
      "source": [
        "%%time\n",
        "pred = cross_val_predict(clf, X_test, y_test, cv=5)"
      ],
      "cell_type": "code",
      "metadata": {
        "colab": {
          "base_uri": "https://localhost:8080/"
        },
        "id": "zngkkswRctSb",
        "outputId": "1ba45b70-6194-42a0-a434-7e20bd445463"
      },
      "execution_count": 247,
      "outputs": [
        {
          "output_type": "stream",
          "name": "stdout",
          "text": [
            "CPU times: user 1min 23s, sys: 811 ms, total: 1min 23s\n",
            "Wall time: 1min 24s\n"
          ]
        }
      ]
    },
    {
      "cell_type": "code",
      "source": [
        "print(\"precision: {}\".format(precision_score(y_test, pred, average=\"macro\")))\n",
        "print(\"recall: {}\".format(recall_score(y_test, pred, average=\"micro\")))\n",
        "print(\"f1: {}\".format(f1_score(y_test, pred, average=None)))"
      ],
      "metadata": {
        "colab": {
          "base_uri": "https://localhost:8080/"
        },
        "id": "gV9trd0rh9kI",
        "outputId": "74677401-a558-41dd-9c86-606118cf57a9"
      },
      "execution_count": 248,
      "outputs": [
        {
          "output_type": "stream",
          "name": "stdout",
          "text": [
            "precision: 0.8668347547500639\n",
            "recall: 0.8689285714285714\n",
            "f1: [0.9501637  0.95085066 0.82919813 0.81831086 0.88329686 0.78270849\n",
            " 0.92533048 0.90940171 0.78143713 0.83712399]\n"
          ]
        }
      ]
    }
  ],
  "metadata": {
    "kernelspec": {
      "display_name": "PyML",
      "language": "python",
      "name": "pyml"
    },
    "language_info": {
      "codemirror_mode": {
        "name": "ipython",
        "version": 3
      },
      "file_extension": ".py",
      "mimetype": "text/x-python",
      "name": "python",
      "nbconvert_exporter": "python",
      "pygments_lexer": "ipython3",
      "version": "3.11.4"
    },
    "colab": {
      "provenance": [],
      "collapsed_sections": [
        "bFESWzjDnsF6",
        "9ljmfkPinveb",
        "o4lxIb3OoDYI",
        "AdqAIQJqoKFY",
        "0ksFyA5etfZs",
        "CKl78lNPvxAh",
        "1b849_2pwQLs",
        "ONJ2BFfmwoCn",
        "n9e6tMc1xlKo",
        "aiN-xIwCra5w",
        "HVW81FGOu46R"
      ],
      "toc_visible": true,
      "include_colab_link": true
    }
  },
  "nbformat": 4,
  "nbformat_minor": 0
}