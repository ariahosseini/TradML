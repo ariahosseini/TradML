{
  "cells": [
    {
      "cell_type": "markdown",
      "metadata": {
        "id": "view-in-github",
        "colab_type": "text"
      },
      "source": [
        "<a href=\"https://colab.research.google.com/github/ariahosseini/TradML/blob/main/ML_MNIST.ipynb\" target=\"_parent\"><img src=\"https://colab.research.google.com/assets/colab-badge.svg\" alt=\"Open In Colab\"/></a>"
      ]
    },
    {
      "cell_type": "code",
      "execution_count": null,
      "metadata": {
        "id": "RSS7sUYFP9UC"
      },
      "outputs": [],
      "source": [
        "import os, sys, warnings, itertools\n",
        "import import_ipynb\n",
        "import tarfile\n",
        "import joblib\n",
        "import random\n",
        "import pandas as pd\n",
        "import numpy as np\n",
        "import seaborn as sns\n",
        "import matplotlib.pyplot as plt\n",
        "from sklearn.datasets import fetch_openml\n",
        "from sklearn.model_selection import (train_test_split, cross_val_score,\n",
        "                                     cross_val_predict, GridSearchCV)\n",
        "from sklearn.preprocessing import StandardScaler\n",
        "from sklearn.linear_model import SGDClassifier\n",
        "from sklearn.base import BaseEstimator\n",
        "from sklearn.ensemble import RandomForestClassifier\n",
        "from sklearn.metrics import (confusion_matrix, precision_score, recall_score, f1_score,\n",
        "                             accuracy_score, precision_recall_curve, PrecisionRecallDisplay,\n",
        "                             roc_auc_score, roc_curve)\n",
        "from sklearn.multiclass import OneVsOneClassifier"
      ]
    },
    {
      "cell_type": "code",
      "execution_count": null,
      "metadata": {
        "id": "h75h4NQ_P9UF"
      },
      "outputs": [],
      "source": [
        "warnings.filterwarnings(\"ignore\")"
      ]
    },
    {
      "cell_type": "code",
      "execution_count": null,
      "metadata": {
        "id": "nZPUKzmIP9UH"
      },
      "outputs": [],
      "source": [
        "%matplotlib inline"
      ]
    },
    {
      "cell_type": "code",
      "execution_count": null,
      "metadata": {
        "id": "CeHM5gmMP9UI"
      },
      "outputs": [],
      "source": [
        "module_path = os.path.abspath(\"./\")"
      ]
    },
    {
      "cell_type": "code",
      "execution_count": null,
      "metadata": {
        "id": "iJa4IqhmP9UI"
      },
      "outputs": [],
      "source": [
        "if module_path not in sys.path:\n",
        "    sys.path.append(module_path)"
      ]
    },
    {
      "cell_type": "code",
      "execution_count": null,
      "metadata": {
        "id": "yapKcFo0P9UK"
      },
      "outputs": [],
      "source": [
        "from MachineLearningUtils import *"
      ]
    },
    {
      "cell_type": "code",
      "execution_count": null,
      "metadata": {
        "id": "HlNvMJpTP9UK"
      },
      "outputs": [],
      "source": [
        "curr_path = os.getcwd()\n",
        "assert curr_path == '/Users/ariahosseini/Desktop/Notebooks'"
      ]
    },
    {
      "cell_type": "code",
      "execution_count": null,
      "metadata": {
        "id": "3i_I9zSqP9UM",
        "outputId": "f0784717-0ca9-4915-ceac-2f6a373ba840"
      },
      "outputs": [
        {
          "name": "stdout",
          "output_type": "stream",
          "text": [
            "dict_keys(['data', 'target', 'frame', 'categories', 'feature_names', 'target_names', 'DESCR', 'details', 'url'])\n"
          ]
        }
      ],
      "source": [
        "mnist = None\n",
        "data_path = os.path.join(curr_path, \"mnist.pkl\")\n",
        "if os.path.exists(data_path):\n",
        "    mnist = joblib.load(data_path)\n",
        "else:\n",
        "    mnist = fetch_openml(\"mnist_784\", version=1)\n",
        "    joblib.dump(mnist, data_path)\n",
        "print(mnist.keys())"
      ]
    },
    {
      "cell_type": "code",
      "execution_count": null,
      "metadata": {
        "id": "Yk4wsmGKP9UN"
      },
      "outputs": [],
      "source": [
        "_X, _y = mnist.data, mnist.target\n",
        "_y = _y.to_frame()\n",
        "_y.columns = ['target']"
      ]
    },
    {
      "cell_type": "code",
      "execution_count": null,
      "metadata": {
        "id": "_H9xCKgAP9UO"
      },
      "outputs": [],
      "source": [
        "X = _X.sample(n=1000, random_state=1)\n",
        "y = _y.sample(n=1000, random_state=1)\n",
        "X.reset_index(drop=True, inplace=True)\n",
        "y.reset_index(drop=True, inplace=True)"
      ]
    },
    {
      "cell_type": "code",
      "execution_count": null,
      "metadata": {
        "id": "H19LLEqBP9UP",
        "outputId": "63a69cdb-b71b-46b0-9055-80d300f98a17"
      },
      "outputs": [
        {
          "name": "stdout",
          "output_type": "stream",
          "text": [
            "Dataframe:  \n",
            "num_rows = 1,000 \n",
            "num_cols = 784\n"
          ]
        },
        {
          "data": {
            "text/html": [
              "<div>\n",
              "<style scoped>\n",
              "    .dataframe tbody tr th:only-of-type {\n",
              "        vertical-align: middle;\n",
              "    }\n",
              "\n",
              "    .dataframe tbody tr th {\n",
              "        vertical-align: top;\n",
              "    }\n",
              "\n",
              "    .dataframe thead th {\n",
              "        text-align: right;\n",
              "    }\n",
              "</style>\n",
              "<table border=\"1\" class=\"dataframe\">\n",
              "  <thead>\n",
              "    <tr style=\"text-align: right;\">\n",
              "      <th></th>\n",
              "      <th>pixel1</th>\n",
              "      <th>pixel2</th>\n",
              "      <th>pixel3</th>\n",
              "      <th>pixel4</th>\n",
              "      <th>pixel5</th>\n",
              "      <th>pixel6</th>\n",
              "      <th>pixel7</th>\n",
              "      <th>pixel8</th>\n",
              "      <th>pixel9</th>\n",
              "      <th>pixel10</th>\n",
              "      <th>...</th>\n",
              "      <th>pixel775</th>\n",
              "      <th>pixel776</th>\n",
              "      <th>pixel777</th>\n",
              "      <th>pixel778</th>\n",
              "      <th>pixel779</th>\n",
              "      <th>pixel780</th>\n",
              "      <th>pixel781</th>\n",
              "      <th>pixel782</th>\n",
              "      <th>pixel783</th>\n",
              "      <th>pixel784</th>\n",
              "    </tr>\n",
              "  </thead>\n",
              "  <tbody>\n",
              "    <tr>\n",
              "      <th>0</th>\n",
              "      <td>0.0</td>\n",
              "      <td>0.0</td>\n",
              "      <td>0.0</td>\n",
              "      <td>0.0</td>\n",
              "      <td>0.0</td>\n",
              "      <td>0.0</td>\n",
              "      <td>0.0</td>\n",
              "      <td>0.0</td>\n",
              "      <td>0.0</td>\n",
              "      <td>0.0</td>\n",
              "      <td>...</td>\n",
              "      <td>0.0</td>\n",
              "      <td>0.0</td>\n",
              "      <td>0.0</td>\n",
              "      <td>0.0</td>\n",
              "      <td>0.0</td>\n",
              "      <td>0.0</td>\n",
              "      <td>0.0</td>\n",
              "      <td>0.0</td>\n",
              "      <td>0.0</td>\n",
              "      <td>0.0</td>\n",
              "    </tr>\n",
              "    <tr>\n",
              "      <th>1</th>\n",
              "      <td>0.0</td>\n",
              "      <td>0.0</td>\n",
              "      <td>0.0</td>\n",
              "      <td>0.0</td>\n",
              "      <td>0.0</td>\n",
              "      <td>0.0</td>\n",
              "      <td>0.0</td>\n",
              "      <td>0.0</td>\n",
              "      <td>0.0</td>\n",
              "      <td>0.0</td>\n",
              "      <td>...</td>\n",
              "      <td>0.0</td>\n",
              "      <td>0.0</td>\n",
              "      <td>0.0</td>\n",
              "      <td>0.0</td>\n",
              "      <td>0.0</td>\n",
              "      <td>0.0</td>\n",
              "      <td>0.0</td>\n",
              "      <td>0.0</td>\n",
              "      <td>0.0</td>\n",
              "      <td>0.0</td>\n",
              "    </tr>\n",
              "    <tr>\n",
              "      <th>2</th>\n",
              "      <td>0.0</td>\n",
              "      <td>0.0</td>\n",
              "      <td>0.0</td>\n",
              "      <td>0.0</td>\n",
              "      <td>0.0</td>\n",
              "      <td>0.0</td>\n",
              "      <td>0.0</td>\n",
              "      <td>0.0</td>\n",
              "      <td>0.0</td>\n",
              "      <td>0.0</td>\n",
              "      <td>...</td>\n",
              "      <td>0.0</td>\n",
              "      <td>0.0</td>\n",
              "      <td>0.0</td>\n",
              "      <td>0.0</td>\n",
              "      <td>0.0</td>\n",
              "      <td>0.0</td>\n",
              "      <td>0.0</td>\n",
              "      <td>0.0</td>\n",
              "      <td>0.0</td>\n",
              "      <td>0.0</td>\n",
              "    </tr>\n",
              "    <tr>\n",
              "      <th>3</th>\n",
              "      <td>0.0</td>\n",
              "      <td>0.0</td>\n",
              "      <td>0.0</td>\n",
              "      <td>0.0</td>\n",
              "      <td>0.0</td>\n",
              "      <td>0.0</td>\n",
              "      <td>0.0</td>\n",
              "      <td>0.0</td>\n",
              "      <td>0.0</td>\n",
              "      <td>0.0</td>\n",
              "      <td>...</td>\n",
              "      <td>0.0</td>\n",
              "      <td>0.0</td>\n",
              "      <td>0.0</td>\n",
              "      <td>0.0</td>\n",
              "      <td>0.0</td>\n",
              "      <td>0.0</td>\n",
              "      <td>0.0</td>\n",
              "      <td>0.0</td>\n",
              "      <td>0.0</td>\n",
              "      <td>0.0</td>\n",
              "    </tr>\n",
              "    <tr>\n",
              "      <th>4</th>\n",
              "      <td>0.0</td>\n",
              "      <td>0.0</td>\n",
              "      <td>0.0</td>\n",
              "      <td>0.0</td>\n",
              "      <td>0.0</td>\n",
              "      <td>0.0</td>\n",
              "      <td>0.0</td>\n",
              "      <td>0.0</td>\n",
              "      <td>0.0</td>\n",
              "      <td>0.0</td>\n",
              "      <td>...</td>\n",
              "      <td>0.0</td>\n",
              "      <td>0.0</td>\n",
              "      <td>0.0</td>\n",
              "      <td>0.0</td>\n",
              "      <td>0.0</td>\n",
              "      <td>0.0</td>\n",
              "      <td>0.0</td>\n",
              "      <td>0.0</td>\n",
              "      <td>0.0</td>\n",
              "      <td>0.0</td>\n",
              "    </tr>\n",
              "  </tbody>\n",
              "</table>\n",
              "<p>5 rows × 784 columns</p>\n",
              "</div>"
            ],
            "text/plain": [
              "   pixel1  pixel2  pixel3  pixel4  pixel5  pixel6  pixel7  pixel8  pixel9  \\\n",
              "0     0.0     0.0     0.0     0.0     0.0     0.0     0.0     0.0     0.0   \n",
              "1     0.0     0.0     0.0     0.0     0.0     0.0     0.0     0.0     0.0   \n",
              "2     0.0     0.0     0.0     0.0     0.0     0.0     0.0     0.0     0.0   \n",
              "3     0.0     0.0     0.0     0.0     0.0     0.0     0.0     0.0     0.0   \n",
              "4     0.0     0.0     0.0     0.0     0.0     0.0     0.0     0.0     0.0   \n",
              "\n",
              "   pixel10  ...  pixel775  pixel776  pixel777  pixel778  pixel779  pixel780  \\\n",
              "0      0.0  ...       0.0       0.0       0.0       0.0       0.0       0.0   \n",
              "1      0.0  ...       0.0       0.0       0.0       0.0       0.0       0.0   \n",
              "2      0.0  ...       0.0       0.0       0.0       0.0       0.0       0.0   \n",
              "3      0.0  ...       0.0       0.0       0.0       0.0       0.0       0.0   \n",
              "4      0.0  ...       0.0       0.0       0.0       0.0       0.0       0.0   \n",
              "\n",
              "   pixel781  pixel782  pixel783  pixel784  \n",
              "0       0.0       0.0       0.0       0.0  \n",
              "1       0.0       0.0       0.0       0.0  \n",
              "2       0.0       0.0       0.0       0.0  \n",
              "3       0.0       0.0       0.0       0.0  \n",
              "4       0.0       0.0       0.0       0.0  \n",
              "\n",
              "[5 rows x 784 columns]"
            ]
          },
          "metadata": {},
          "output_type": "display_data"
        },
        {
          "name": "stdout",
          "output_type": "stream",
          "text": [
            "Info:\n",
            "<class 'pandas.core.frame.DataFrame'>\n",
            "RangeIndex: 1000 entries, 0 to 999\n",
            "Columns: 784 entries, pixel1 to pixel784\n",
            "dtypes: float64(784)\n",
            "memory usage: 6.0 MB\n",
            "None\n",
            "Number of null data points:\n",
            "Series([], dtype: int64)\n"
          ]
        }
      ],
      "source": [
        "display_df(X)"
      ]
    },
    {
      "cell_type": "code",
      "execution_count": null,
      "metadata": {
        "id": "y-laOg9dP9UQ",
        "outputId": "e74ef249-55b5-4c17-ef95-10afc30be486"
      },
      "outputs": [
        {
          "data": {
            "text/plain": [
              "<matplotlib.image.AxesImage at 0x110b82950>"
            ]
          },
          "execution_count": 54,
          "metadata": {},
          "output_type": "execute_result"
        },
        {
          "data": {
            "image/png": "[encoded data removed]",
            "text/plain": [
              "<Figure size 640x480 with 1 Axes>"
            ]
          },
          "metadata": {},
          "output_type": "display_data"
        }
      ],
      "source": [
        "img = X.iloc[0].to_numpy().reshape(28, 28)\n",
        "plt.imshow(img, cmap=\"gray\")"
      ]
    },
    {
      "cell_type": "code",
      "execution_count": null,
      "metadata": {
        "id": "7Uc7gblVP9UQ",
        "outputId": "079ccf59-65da-458c-f390-3f5f661a540a"
      },
      "outputs": [
        {
          "name": "stdout",
          "output_type": "stream",
          "text": [
            "Dataframe:  \n",
            "num_rows = 1,000 \n",
            "num_cols = 1\n"
          ]
        },
        {
          "data": {
            "text/html": [
              "<div>\n",
              "<style scoped>\n",
              "    .dataframe tbody tr th:only-of-type {\n",
              "        vertical-align: middle;\n",
              "    }\n",
              "\n",
              "    .dataframe tbody tr th {\n",
              "        vertical-align: top;\n",
              "    }\n",
              "\n",
              "    .dataframe thead th {\n",
              "        text-align: right;\n",
              "    }\n",
              "</style>\n",
              "<table border=\"1\" class=\"dataframe\">\n",
              "  <thead>\n",
              "    <tr style=\"text-align: right;\">\n",
              "      <th></th>\n",
              "      <th>target</th>\n",
              "    </tr>\n",
              "  </thead>\n",
              "  <tbody>\n",
              "    <tr>\n",
              "      <th>0</th>\n",
              "      <td>6</td>\n",
              "    </tr>\n",
              "    <tr>\n",
              "      <th>1</th>\n",
              "      <td>2</td>\n",
              "    </tr>\n",
              "    <tr>\n",
              "      <th>2</th>\n",
              "      <td>7</td>\n",
              "    </tr>\n",
              "    <tr>\n",
              "      <th>3</th>\n",
              "      <td>5</td>\n",
              "    </tr>\n",
              "    <tr>\n",
              "      <th>4</th>\n",
              "      <td>7</td>\n",
              "    </tr>\n",
              "  </tbody>\n",
              "</table>\n",
              "</div>"
            ],
            "text/plain": [
              "   target\n",
              "0       6\n",
              "1       2\n",
              "2       7\n",
              "3       5\n",
              "4       7"
            ]
          },
          "metadata": {},
          "output_type": "display_data"
        },
        {
          "name": "stdout",
          "output_type": "stream",
          "text": [
            "Info:\n",
            "<class 'pandas.core.frame.DataFrame'>\n",
            "RangeIndex: 1000 entries, 0 to 999\n",
            "Data columns (total 1 columns):\n",
            " #   Column  Non-Null Count  Dtype\n",
            "---  ------  --------------  -----\n",
            " 0   target  1000 non-null   uint8\n",
            "dtypes: uint8(1)\n",
            "memory usage: 1.1 KB\n",
            "None\n",
            "Number of null data points:\n",
            "Series([], dtype: int64)\n"
          ]
        }
      ],
      "source": [
        "y['target'] = y['target'].astype(np.uint8)\n",
        "display_df(y)"
      ]
    },
    {
      "cell_type": "code",
      "execution_count": null,
      "metadata": {
        "id": "KmrRcFs6P9UQ",
        "outputId": "1820f940-2717-479c-b6db-56bda6085d49"
      },
      "outputs": [
        {
          "data": {
            "image/png": "[encoded data removed]",
            "text/plain": [
              "<Figure size 1200x1400 with 5 Axes>"
            ]
          },
          "metadata": {},
          "output_type": "display_data"
        }
      ],
      "source": [
        "random_img = [random.randint(0, len(X)) for _ in range(5)]\n",
        "num_rows = 1\n",
        "num_cols = 5\n",
        "fig = plt.figure(figsize=(12,14))\n",
        "for _ in range(num_rows*num_cols):\n",
        "    ax = fig.add_subplot(num_rows, num_cols, _+1)\n",
        "    index = random_img[_]\n",
        "    image = X.loc[index, :].to_numpy().reshape(28,28)\n",
        "    ax.imshow(image)\n",
        "    ax.set_title(\"id={}\".format(index))\n",
        "plt.tight_layout()"
      ]
    },
    {
      "cell_type": "code",
      "execution_count": null,
      "metadata": {
        "id": "B-Zs6I82P9UR"
      },
      "outputs": [],
      "source": [
        "X_train, X_test, _y_train, _y_test = train_test_split(X, y, stratify=y, test_size=0.2, random_state=2)"
      ]
    },
    {
      "cell_type": "code",
      "execution_count": null,
      "metadata": {
        "id": "xpKca1kVP9UR"
      },
      "outputs": [],
      "source": [
        "y_train = _y_train[\"target\"].apply(lambda x: 1 if x==5 else 0)\n",
        "y_test = _y_test[\"target\"].apply(lambda x: 1 if x==5 else 0)"
      ]
    },
    {
      "cell_type": "code",
      "execution_count": null,
      "metadata": {
        "id": "dDxbn7D5P9UR",
        "outputId": "40b7352b-b416-416d-8799-ee509d340e79"
      },
      "outputs": [
        {
          "data": {
            "text/plain": [
              "array([0.94756554, 0.93632959, 0.94736842])"
            ]
          },
          "execution_count": 59,
          "metadata": {},
          "output_type": "execute_result"
        }
      ],
      "source": [
        "scaler = StandardScaler()\n",
        "X_train_scaled = scaler.fit_transform(X_train)\n",
        "X_test_scaled = scaler.transform(X_test)\n",
        "sgd_clf = SGDClassifier(random_state=42, loss=\"log_loss\")\n",
        "sgd_clf.fit(X_train_scaled, y_train)\n",
        "cross_val_score(sgd_clf, X_train_scaled, y_train, cv=3, scoring=\"accuracy\")"
      ]
    },
    {
      "cell_type": "code",
      "execution_count": null,
      "metadata": {
        "id": "hM8dVGC9P9US",
        "outputId": "2d339254-38a3-4c4f-bab1-69379c295295"
      },
      "outputs": [
        {
          "data": {
            "text/plain": [
              "array([0.90262172, 0.89138577, 0.90977444])"
            ]
          },
          "execution_count": 60,
          "metadata": {},
          "output_type": "execute_result"
        }
      ],
      "source": [
        "class NaiveModel(BaseEstimator):\n",
        "    def fit(self, X, y=None):\n",
        "        pass\n",
        "    def predict(self, X):\n",
        "        return np.zeros((len(X), 1), dtype=bool)\n",
        "base_model = NaiveModel()\n",
        "base_model.fit(X_train_scaled)\n",
        "cross_val_score(base_model, X_train_scaled, y_train, cv=3, scoring=\"accuracy\")"
      ]
    },
    {
      "cell_type": "code",
      "execution_count": null,
      "metadata": {
        "id": "K0lABvltP9US"
      },
      "outputs": [],
      "source": [
        "pred_train = cross_val_predict(sgd_clf, X_train_scaled, y_train, cv=3)\n",
        "cm = confusion_matrix(y_train, pred_train)"
      ]
    },
    {
      "cell_type": "code",
      "execution_count": null,
      "metadata": {
        "id": "pFiua35_P9US",
        "outputId": "8d38bb3b-76b7-4c5f-b6b8-c2f2911d16de"
      },
      "outputs": [
        {
          "name": "stdout",
          "output_type": "stream",
          "text": [
            "Confusion matrix no normalization\n",
            "[[709  12]\n",
            " [ 33  46]]\n"
          ]
        },
        {
          "data": {
            "image/png": "[encoded data removed]",
            "text/plain": [
              "<Figure size 640x480 with 2 Axes>"
            ]
          },
          "metadata": {},
          "output_type": "display_data"
        }
      ],
      "source": [
        "plot_conf_matrix(cm, classes=[\"Not Five\", \"Five\"], normalize=False, title=\"Confusion matrix\", cmap=plt.cm.Blues)"
      ]
    },
    {
      "cell_type": "code",
      "execution_count": null,
      "metadata": {
        "id": "g93Kax4YP9UT",
        "outputId": "739f2f7c-8314-47b6-a77e-16926b6ca3a8"
      },
      "outputs": [
        {
          "name": "stdout",
          "output_type": "stream",
          "text": [
            "accuracy: 0.94375\n",
            "precision: 0.7931034482758621\n",
            "recall: 0.5822784810126582\n",
            "f1: 0.6715328467153284\n"
          ]
        }
      ],
      "source": [
        "print(\"accuracy: {}\".format(accuracy_score(y_train, pred_train)))\n",
        "print(\"precision: {}\".format(precision_score(y_train, pred_train)))\n",
        "print(\"recall: {}\".format(recall_score(y_train, pred_train)))\n",
        "print(\"f1: {}\".format(f1_score(y_train, pred_train)))"
      ]
    },
    {
      "cell_type": "code",
      "execution_count": null,
      "metadata": {
        "id": "ynybVD99P9UT",
        "outputId": "6059a29c-9371-43c0-ca5e-501cf9662e55"
      },
      "outputs": [
        {
          "data": {
            "text/html": [
              "<div>\n",
              "<style scoped>\n",
              "    .dataframe tbody tr th:only-of-type {\n",
              "        vertical-align: middle;\n",
              "    }\n",
              "\n",
              "    .dataframe tbody tr th {\n",
              "        vertical-align: top;\n",
              "    }\n",
              "\n",
              "    .dataframe thead th {\n",
              "        text-align: right;\n",
              "    }\n",
              "</style>\n",
              "<table border=\"1\" class=\"dataframe\">\n",
              "  <thead>\n",
              "    <tr style=\"text-align: right;\">\n",
              "      <th></th>\n",
              "      <th>precision</th>\n",
              "      <th>recalls</th>\n",
              "      <th>thresholds</th>\n",
              "    </tr>\n",
              "  </thead>\n",
              "  <tbody>\n",
              "    <tr>\n",
              "      <th>0</th>\n",
              "      <td>0.098750</td>\n",
              "      <td>1.000000</td>\n",
              "      <td>-5564.438238</td>\n",
              "    </tr>\n",
              "    <tr>\n",
              "      <th>1</th>\n",
              "      <td>0.098874</td>\n",
              "      <td>1.000000</td>\n",
              "      <td>-5564.438238</td>\n",
              "    </tr>\n",
              "    <tr>\n",
              "      <th>2</th>\n",
              "      <td>0.098997</td>\n",
              "      <td>1.000000</td>\n",
              "      <td>-4948.305091</td>\n",
              "    </tr>\n",
              "    <tr>\n",
              "      <th>3</th>\n",
              "      <td>0.099122</td>\n",
              "      <td>1.000000</td>\n",
              "      <td>-4498.955705</td>\n",
              "    </tr>\n",
              "    <tr>\n",
              "      <th>4</th>\n",
              "      <td>0.099246</td>\n",
              "      <td>1.000000</td>\n",
              "      <td>-4341.328791</td>\n",
              "    </tr>\n",
              "    <tr>\n",
              "      <th>...</th>\n",
              "      <td>...</td>\n",
              "      <td>...</td>\n",
              "      <td>...</td>\n",
              "    </tr>\n",
              "    <tr>\n",
              "      <th>796</th>\n",
              "      <td>1.000000</td>\n",
              "      <td>0.050633</td>\n",
              "      <td>884.592933</td>\n",
              "    </tr>\n",
              "    <tr>\n",
              "      <th>797</th>\n",
              "      <td>1.000000</td>\n",
              "      <td>0.037975</td>\n",
              "      <td>899.232854</td>\n",
              "    </tr>\n",
              "    <tr>\n",
              "      <th>798</th>\n",
              "      <td>1.000000</td>\n",
              "      <td>0.025316</td>\n",
              "      <td>900.618973</td>\n",
              "    </tr>\n",
              "    <tr>\n",
              "      <th>799</th>\n",
              "      <td>1.000000</td>\n",
              "      <td>0.012658</td>\n",
              "      <td>1067.182940</td>\n",
              "    </tr>\n",
              "    <tr>\n",
              "      <th>800</th>\n",
              "      <td>1.000000</td>\n",
              "      <td>0.000000</td>\n",
              "      <td>1152.845673</td>\n",
              "    </tr>\n",
              "  </tbody>\n",
              "</table>\n",
              "<p>801 rows × 3 columns</p>\n",
              "</div>"
            ],
            "text/plain": [
              "     precision   recalls   thresholds\n",
              "0     0.098750  1.000000 -5564.438238\n",
              "1     0.098874  1.000000 -5564.438238\n",
              "2     0.098997  1.000000 -4948.305091\n",
              "3     0.099122  1.000000 -4498.955705\n",
              "4     0.099246  1.000000 -4341.328791\n",
              "..         ...       ...          ...\n",
              "796   1.000000  0.050633   884.592933\n",
              "797   1.000000  0.037975   899.232854\n",
              "798   1.000000  0.025316   900.618973\n",
              "799   1.000000  0.012658  1067.182940\n",
              "800   1.000000  0.000000  1152.845673\n",
              "\n",
              "[801 rows x 3 columns]"
            ]
          },
          "execution_count": 64,
          "metadata": {},
          "output_type": "execute_result"
        }
      ],
      "source": [
        "y_scores = cross_val_predict(sgd_clf, X_train_scaled, y_train, cv=3, method=\"decision_function\")\n",
        "precisions, recalls, thresholds = precision_recall_curve(y_train, y_scores)\n",
        "thresholds = np.insert(thresholds, 0, thresholds[0])\n",
        "df = pd.DataFrame({\"precision\": precisions, \"recalls\": recalls, \"thresholds\": thresholds})\n",
        "df"
      ]
    },
    {
      "cell_type": "code",
      "execution_count": null,
      "metadata": {
        "id": "Gd-1EpxdP9UT",
        "outputId": "7d02a9e6-6360-4bdc-e6f2-2f3a026a4e26"
      },
      "outputs": [
        {
          "data": {
            "image/png": "[encoded data removed]",
            "text/plain": [
              "<Figure size 640x480 with 1 Axes>"
            ]
          },
          "metadata": {},
          "output_type": "display_data"
        }
      ],
      "source": [
        "pos_rate_dispaly = PrecisionRecallDisplay.from_estimator(sgd_clf, X_test, y_test, name=\"SGDClassifier\")\n",
        "_ = pos_rate_dispaly.ax_.set_title(\"Two-class Precision Recall Curve\")"
      ]
    },
    {
      "cell_type": "code",
      "execution_count": null,
      "metadata": {
        "id": "HUyMImg4P9UU",
        "outputId": "baf7fdb0-ebfa-4a4c-b31a-fc333ab23fcd"
      },
      "outputs": [
        {
          "data": {
            "image/png": "[encoded data removed]",
            "text/plain": [
              "<Figure size 800x600 with 1 Axes>"
            ]
          },
          "metadata": {},
          "output_type": "display_data"
        }
      ],
      "source": [
        "fpr, tpr, thresholds = roc_curve(y_train, y_scores)\n",
        "def plot_roc_curve(fpr, tpr, label=None):\n",
        "    plt.plot(fpr, tpr, linewidth=2, label=label)\n",
        "    plt.plot([-0.01, 1.01], [-0.01, 1.01], \"k--\")\n",
        "    plt.axis([-0.01, 1.01, -0.01, 1.01])\n",
        "    plt.xlabel(\"False Positive Rate (Fall-Out)\", fontsize=16)\n",
        "    plt.ylabel(\"True Positive Rate (Recall)\", fontsize=16)\n",
        "    plt.grid(True)\n",
        "plt.figure(figsize=(8,6))\n",
        "plot_roc_curve(fpr, tpr)\n",
        "plt.show()"
      ]
    },
    {
      "cell_type": "code",
      "execution_count": null,
      "metadata": {
        "id": "Hyv-eGW4P9UU"
      },
      "outputs": [],
      "source": [
        "clf = SGDClassifier(random_state=42, loss=\"log_loss\")\n",
        "clf.fit(X_train_scaled, _y_train)\n",
        "cross_val_score(clf, X_train_scaled, _y_train, cv=5, scoring=\"accuracy\")\n",
        "y_pred = cross_val_predict(clf, X_train_scaled, _y_train, cv=5)"
      ]
    },
    {
      "cell_type": "code",
      "execution_count": null,
      "metadata": {
        "id": "AG9L5XWRP9UV",
        "outputId": "f77821a4-a6a5-4ebb-c01e-d764ccba6073"
      },
      "outputs": [
        {
          "name": "stdout",
          "output_type": "stream",
          "text": [
            "Classes: [0 1 2 3 4 5 6 7 8 9]\n",
            "Score for each class: [-1303.2061206  -1186.50407668 -2196.60972285 -3091.91794732\n",
            "    52.97822408 -2314.99981643  -573.2529994  -1198.40440181\n",
            " -1731.34623884 -1517.22719661]\n",
            "Probability for each class: [0.00000000e+000 0.00000000e+000 0.00000000e+000 0.00000000e+000\n",
            " 1.00000000e+000 0.00000000e+000 1.09492816e-249 0.00000000e+000\n",
            " 0.00000000e+000 0.00000000e+000]\n",
            "Class with the highest score: 4\n"
          ]
        }
      ],
      "source": [
        "first_digit = X_train_scaled[0,:]\n",
        "first_digit_scores = clf.decision_function([first_digit])\n",
        "first_digit_proba = clf.predict_proba([first_digit])\n",
        "print(\"Classes: {}\".format(clf.classes_))\n",
        "print(\"Score for each class: {}\".format(first_digit_scores[0]))\n",
        "print(\"Probability for each class: {}\".format(first_digit_proba[0]))\n",
        "print(\"Class with the highest score: {}\".format(np.argmax(first_digit_scores)))"
      ]
    },
    {
      "cell_type": "code",
      "execution_count": null,
      "metadata": {
        "id": "MePuB2uQP9UV",
        "outputId": "d6600b60-3cdc-4c1d-8f8f-0af34754c95f"
      },
      "outputs": [
        {
          "name": "stdout",
          "output_type": "stream",
          "text": [
            "First estimator = [4]\n",
            "Number of estimators = 45\n",
            "First two estimators = (SGDClassifier(random_state=42), SGDClassifier(random_state=42))\n"
          ]
        }
      ],
      "source": [
        "one_vs_one_clf = OneVsOneClassifier(SGDClassifier(random_state=42))\n",
        "one_vs_one_clf.fit(X_train_scaled, _y_train)\n",
        "print(\"First digit is predicted as = {}\".format(one_vs_one_clf.predict([first_digit])))\n",
        "print(\"Number of estimators = {}\".format(len(one_vs_one_clf.estimators_)))\n",
        "print(\"First two estimators = {}\".format(one_vs_one_clf.estimators_[:2]))"
      ]
    },
    {
      "cell_type": "code",
      "execution_count": null,
      "metadata": {
        "id": "NcooDv85P9UV",
        "outputId": "67c9a395-d183-49c8-e60f-b45c184b4a4a"
      },
      "outputs": [
        {
          "data": {
            "text/plain": [
              "(800, 784)"
            ]
          },
          "execution_count": 71,
          "metadata": {},
          "output_type": "execute_result"
        }
      ],
      "source": [
        "X_train_scaled.shape"
      ]
    },
    {
      "cell_type": "code",
      "execution_count": null,
      "metadata": {
        "id": "FoKJu6vQP9UX",
        "outputId": "785faebe-193d-4f0f-c06d-6129a3228c69"
      },
      "outputs": [
        {
          "data": {
            "text/plain": [
              "array([[0.00000000e+000, 0.00000000e+000, 0.00000000e+000,\n",
              "        0.00000000e+000, 1.00000000e+000, 0.00000000e+000,\n",
              "        1.09492816e-249, 0.00000000e+000, 0.00000000e+000,\n",
              "        0.00000000e+000]])"
            ]
          },
          "execution_count": 76,
          "metadata": {},
          "output_type": "execute_result"
        }
      ],
      "source": [
        "clf.predict_proba([first_digit])"
      ]
    },
    {
      "cell_type": "code",
      "execution_count": null,
      "metadata": {
        "id": "uBO4-LkAP9UX",
        "outputId": "a1f0a167-cd7d-4d10-a12a-30223cdfa18c"
      },
      "outputs": [
        {
          "name": "stdout",
          "output_type": "stream",
          "text": [
            "{'max_depth': 15, 'max_features': 400, 'n_estimators': 200}\n",
            "RandomForestClassifier(max_depth=15, max_features=400, n_estimators=200)\n"
          ]
        }
      ],
      "source": [
        "search_space = {\n",
        "    \"n_estimators\": [200, 300, 500],\n",
        "    \"max_features\": [300, 400, 500, 600],\n",
        "    \"max_depth\": [10, 15, 20]\n",
        "}\n",
        "clf = RandomForestClassifier()\n",
        "grid_search = GridSearchCV(estimator=clf, param_grid=search_space, cv=3,\n",
        "                           scoring=\"accuracy\", return_train_score=True)\n",
        "grid_search.fit(X_train, y_train)\n",
        "print(grid_search.best_params_)\n",
        "print(grid_search.best_estimator_)"
      ]
    },
    {
      "cell_type": "code",
      "execution_count": null,
      "metadata": {
        "id": "0XxECSaiP9UX"
      },
      "outputs": [],
      "source": [
        "y_ = (y_train >=7)\n",
        "y__ = (y_train % 2 == 1)\n",
        "y_multi = np.c_[y_, y__]"
      ]
    },
    {
      "cell_type": "code",
      "execution_count": null,
      "metadata": {
        "id": "z0_djy5dP9UY",
        "outputId": "33c24ef6-d9f1-4dd3-d98f-278895d1368a"
      },
      "outputs": [
        {
          "data": {
            "text/plain": [
              "array([[False, False]])"
            ]
          },
          "execution_count": 97,
          "metadata": {},
          "output_type": "execute_result"
        }
      ],
      "source": [
        "clf = RandomForestClassifier(random_state=0)\n",
        "clf.fit(X_train, y_multi)\n",
        "fifth_digit = X_train_scaled[4,:]\n",
        "clf.predict([fifth_digit])"
      ]
    },
    {
      "cell_type": "code",
      "execution_count": null,
      "metadata": {
        "id": "I2ZARjYHP9UY"
      },
      "outputs": [],
      "source": [
        "accuracy_score = cross_val_score(clf, X_train, y_multi, cv=3)\n",
        "y_pred = cross_val_predict(clf, X_train, y_multi, cv=3)"
      ]
    },
    {
      "cell_type": "code",
      "execution_count": null,
      "metadata": {
        "id": "UjV1LBD6P9UZ",
        "outputId": "d9a9ea8b-b397-4047-ea23-fe200e65bb9b"
      },
      "outputs": [
        {
          "name": "stdout",
          "output_type": "stream",
          "text": [
            "[[False False]\n",
            " [False False]\n",
            " [False False]\n",
            " ...\n",
            " [False False]\n",
            " [False False]\n",
            " [False False]]\n"
          ]
        }
      ],
      "source": [
        "print(y_pred)"
      ]
    }
  ],
  "metadata": {
    "kernelspec": {
      "display_name": "PyML",
      "language": "python",
      "name": "pyml"
    },
    "language_info": {
      "codemirror_mode": {
        "name": "ipython",
        "version": 3
      },
      "file_extension": ".py",
      "mimetype": "text/x-python",
      "name": "python",
      "nbconvert_exporter": "python",
      "pygments_lexer": "ipython3",
      "version": "3.11.4"
    },
    "colab": {
      "provenance": [],
      "include_colab_link": true
    }
  },
  "nbformat": 4,
  "nbformat_minor": 0
}